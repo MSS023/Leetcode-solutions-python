{
 "cells": [
  {
   "cell_type": "code",
   "execution_count": null,
   "metadata": {},
   "outputs": [],
   "source": [
    "class Solution:\n",
    "    def isBipartite(self, graph: List[List[int]]) -> bool:\n",
    "        passed=[]\n",
    "        arr=[[0],[]]\n",
    "        curr=0\n",
    "        stack=[]\n",
    "        for index,li in enumerate(graph):\n",
    "            if index in passed:\n",
    "                continue\n",
    "            passed.append(index)\n",
    "            arr[curr].append(index)\n",
    "            for i in li:\n",
    "                if i in passed:\n",
    "                    if i in arr[curr]:\n",
    "                        print(2)\n",
    "                        return False\n",
    "                    continue\n",
    "                stack.append([i,curr^1])\n",
    "            while stack:\n",
    "                num,curr=stack.pop(0)\n",
    "                if num in passed:\n",
    "                    if num in arr[curr^1]:\n",
    "                        print(3)\n",
    "                        return False\n",
    "                    continue\n",
    "                arr[curr].append(num)\n",
    "                for i in graph[num]:\n",
    "                    if i in passed:\n",
    "                        if i in arr[curr]:\n",
    "                            print(4)\n",
    "                            return False\n",
    "                        continue\n",
    "                    stack.append([i,curr^1])\n",
    "                passed.append(num)\n",
    "                curr^=1\n",
    "        return True"
   ]
  }
 ],
 "metadata": {
  "language_info": {
   "name": "python"
  },
  "orig_nbformat": 4
 },
 "nbformat": 4,
 "nbformat_minor": 2
}
