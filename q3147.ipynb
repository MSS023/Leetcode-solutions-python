{
 "cells": [
  {
   "cell_type": "code",
   "execution_count": 2,
   "id": "a13fdcf7",
   "metadata": {},
   "outputs": [],
   "source": [
    "from typing import *\n",
    "from functools import cache"
   ]
  },
  {
   "cell_type": "code",
   "execution_count": 10,
   "id": "4e4300b6",
   "metadata": {},
   "outputs": [],
   "source": [
    "class Solution:\n",
    "    @cache\n",
    "    def getSequence(self, startIdx: int) -> int:\n",
    "        if startIdx >= len(self.energy):\n",
    "            return 0\n",
    "        return self.energy[startIdx] + self.getSequence(startIdx+self.k)\n",
    "\n",
    "    @cache\n",
    "    def main(self, idx: int) -> int:\n",
    "        if idx >= len(self.energy):\n",
    "            return float(\"-inf\")\n",
    "        \n",
    "        curr = self.getSequence(idx)\n",
    "\n",
    "        return max(curr, self.main(idx+1))\n",
    "\n",
    "    def maximumEnergy(self, energy: List[int], k: int) -> int:\n",
    "        self.energy = energy\n",
    "        self.k = k\n",
    "        \n",
    "        return self.main(0)"
   ]
  },
  {
   "cell_type": "code",
   "execution_count": 11,
   "id": "bd4922a5",
   "metadata": {},
   "outputs": [
    {
     "name": "stdout",
     "output_type": "stream",
     "text": [
      "3\n",
      "-1\n"
     ]
    }
   ],
   "source": [
    "print(Solution().maximumEnergy(energy = [5,2,-10,-5,1], k = 3))\n",
    "print(Solution().maximumEnergy(energy = [-2,-3,-1], k = 2))"
   ]
  }
 ],
 "metadata": {
  "kernelspec": {
   "display_name": "Python 3",
   "language": "python",
   "name": "python3"
  },
  "language_info": {
   "codemirror_mode": {
    "name": "ipython",
    "version": 3
   },
   "file_extension": ".py",
   "mimetype": "text/x-python",
   "name": "python",
   "nbconvert_exporter": "python",
   "pygments_lexer": "ipython3",
   "version": "3.10.11"
  }
 },
 "nbformat": 4,
 "nbformat_minor": 5
}
