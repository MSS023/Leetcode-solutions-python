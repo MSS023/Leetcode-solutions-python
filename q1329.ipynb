{
 "cells": [
  {
   "cell_type": "code",
   "execution_count": 5,
   "metadata": {},
   "outputs": [],
   "source": [
    "from typing import *\n",
    "\n",
    "class Solution:\n",
    "    def diagonalSort(self, mat: List[List[int]]) -> List[List[int]]:\n",
    "        m = len(mat)\n",
    "        n = len(mat[0])\n",
    "        for idx in range(m):\n",
    "            arr = []\n",
    "            j = 0\n",
    "            i = idx\n",
    "            while True:\n",
    "                if i == m or j == n:\n",
    "                    break\n",
    "                arr.append(mat[i][j])\n",
    "                i += 1\n",
    "                j += 1\n",
    "            arr.sort()\n",
    "            j = 0\n",
    "            i = idx\n",
    "            while True:\n",
    "                if i == m or j == n:\n",
    "                    break\n",
    "                mat[i][j] = arr[j]\n",
    "                i += 1\n",
    "                j += 1\n",
    "        for idx in range(n):\n",
    "            arr = []\n",
    "            j = idx\n",
    "            i = 0\n",
    "            while True:\n",
    "                if i == m or j == n:\n",
    "                    break\n",
    "                arr.append(mat[i][j])\n",
    "                i += 1\n",
    "                j += 1\n",
    "            arr.sort()\n",
    "            j = idx\n",
    "            i = 0\n",
    "            while True:\n",
    "                if i == m or j == n:\n",
    "                    break\n",
    "                mat[i][j] = arr[i]\n",
    "                i += 1\n",
    "                j += 1\n",
    "        return mat"
   ]
  },
  {
   "cell_type": "code",
   "execution_count": 6,
   "metadata": {},
   "outputs": [
    {
     "data": {
      "text/plain": [
       "[[1, 1, 1, 1], [1, 2, 2, 2], [1, 2, 3, 3]]"
      ]
     },
     "execution_count": 6,
     "metadata": {},
     "output_type": "execute_result"
    }
   ],
   "source": [
    "Solution().diagonalSort([[3,3,1,1],[2,2,1,2],[1,1,1,2]])"
   ]
  }
 ],
 "metadata": {
  "kernelspec": {
   "display_name": "Python 3.10.6 64-bit",
   "language": "python",
   "name": "python3"
  },
  "language_info": {
   "codemirror_mode": {
    "name": "ipython",
    "version": 3
   },
   "file_extension": ".py",
   "mimetype": "text/x-python",
   "name": "python",
   "nbconvert_exporter": "python",
   "pygments_lexer": "ipython3",
   "version": "3.10.6"
  },
  "orig_nbformat": 4,
  "vscode": {
   "interpreter": {
    "hash": "f15627b29e15848638e903c52dd09ae6c4c9adb1719aae45dda3850ec7954c19"
   }
  }
 },
 "nbformat": 4,
 "nbformat_minor": 2
}
