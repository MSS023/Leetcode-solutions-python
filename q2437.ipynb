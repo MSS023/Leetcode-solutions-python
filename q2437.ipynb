{
 "cells": [
  {
   "cell_type": "code",
   "execution_count": null,
   "metadata": {},
   "outputs": [],
   "source": [
    "from time import strptime\n",
    "\n",
    "class Solution:\n",
    "    def countTime(self, time: str) -> int:\n",
    "        hr, mn = time.split(\":\")\n",
    "        count = 0\n",
    "        if mn == \"??\":\n",
    "            count = 60\n",
    "        elif mn[0] == \"?\":\n",
    "            count += 6\n",
    "        elif mn[1] == \"?\":\n",
    "            count += 10\n",
    "        if hr == \"??\":\n",
    "            if count > 0:\n",
    "                count *= 24\n",
    "            else:\n",
    "                count += 24\n",
    "        elif hr[1] == \"?\":\n",
    "            if hr[0] == \"2\":\n",
    "                if count > 0:\n",
    "                    count *= 4\n",
    "                else:\n",
    "                    count += 4\n",
    "            else:\n",
    "                if count > 0:\n",
    "                    count *= 10\n",
    "                else:\n",
    "                    count += 10\n",
    "        elif hr[0] == \"?\":\n",
    "            if hr[1] <= \"3\":\n",
    "                if count > 0:\n",
    "                    count *= 3\n",
    "                else:\n",
    "                    count += 3\n",
    "            else:\n",
    "                if count > 0:\n",
    "                    count *= 2\n",
    "                else:\n",
    "                    count += 2\n",
    "        print(count)\n",
    "        return count if count != 0 else 1"
   ]
  }
 ],
 "metadata": {
  "language_info": {
   "name": "python"
  },
  "orig_nbformat": 4
 },
 "nbformat": 4,
 "nbformat_minor": 2
}
