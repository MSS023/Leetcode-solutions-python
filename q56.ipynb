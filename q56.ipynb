{
 "cells": [
  {
   "cell_type": "code",
   "execution_count": 6,
   "metadata": {},
   "outputs": [],
   "source": [
    "from typing import *\n",
    "\n",
    "class Solution:\n",
    "    def merge(self, intervals: List[List[int]]) -> List[List[int]]:\n",
    "        def insert(interval: List[int],res: List[List[int]],idx: int):\n",
    "            x, y = res.pop(idx)\n",
    "            a, b = interval\n",
    "            a, b = [min(a,x),max(y,b)]\n",
    "            flag = True\n",
    "            for i,[x, y] in enumerate(res):\n",
    "                if a > y: continue\n",
    "                if b < x:\n",
    "                    res.insert(idx,[a,b])\n",
    "                    flag = False\n",
    "                    break\n",
    "                insert([a,b],res,i)\n",
    "                flag = False\n",
    "                break\n",
    "            \n",
    "            if flag:\n",
    "                res.append([a,b])\n",
    "\n",
    "        res = []\n",
    "        for a,b in intervals:\n",
    "            if len(res) == 0:\n",
    "                res.append([a,b])\n",
    "                continue\n",
    "            flag = True\n",
    "            for idx,[x,y] in enumerate(res):\n",
    "                if a > y: continue\n",
    "                if b < x:\n",
    "                    res.insert(idx,[a,b])\n",
    "                    flag = False\n",
    "                    break\n",
    "                insert([a,b],res,idx)\n",
    "                flag = False\n",
    "                break\n",
    "\n",
    "            if flag:\n",
    "                res.append([a,b])\n",
    "            return res"
   ]
  },
  {
   "cell_type": "code",
   "execution_count": 10,
   "metadata": {},
   "outputs": [],
   "source": [
    "class Solution:\n",
    "    def merge(self, intervals: List[List[int]]) -> List[List[int]]:\n",
    "        intervals.sort(key = lambda x: x[0])\n",
    "        res = []\n",
    "        for a,b in intervals:\n",
    "            if len(res) == 0 or res[-1][1] < a:\n",
    "                res.append([a,b])\n",
    "                continue\n",
    "            x,y = res.pop()\n",
    "            res.append([min(x,a),max(b,y)])\n",
    "        return res"
   ]
  },
  {
   "cell_type": "code",
   "execution_count": 11,
   "metadata": {},
   "outputs": [
    {
     "data": {
      "text/plain": [
       "[[1, 5]]"
      ]
     },
     "execution_count": 11,
     "metadata": {},
     "output_type": "execute_result"
    }
   ],
   "source": [
    "Solution().merge([[1,4],[4,5]])"
   ]
  }
 ],
 "metadata": {
  "kernelspec": {
   "display_name": "Python 3.10.6 64-bit",
   "language": "python",
   "name": "python3"
  },
  "language_info": {
   "codemirror_mode": {
    "name": "ipython",
    "version": 3
   },
   "file_extension": ".py",
   "mimetype": "text/x-python",
   "name": "python",
   "nbconvert_exporter": "python",
   "pygments_lexer": "ipython3",
   "version": "3.10.6"
  },
  "orig_nbformat": 4,
  "vscode": {
   "interpreter": {
    "hash": "f15627b29e15848638e903c52dd09ae6c4c9adb1719aae45dda3850ec7954c19"
   }
  }
 },
 "nbformat": 4,
 "nbformat_minor": 2
}
