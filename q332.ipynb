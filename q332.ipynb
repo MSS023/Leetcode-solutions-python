{
 "cells": [
  {
   "cell_type": "code",
   "execution_count": 26,
   "metadata": {},
   "outputs": [],
   "source": [
    "class Solution:\n",
    "    def findItinerary(self, tickets: list[list[str]]) -> list[str]:\n",
    "        graph = {}\n",
    "        for s, d in tickets:\n",
    "            if d not in graph:\n",
    "                graph[d] = []\n",
    "            if s in graph:\n",
    "                graph[s].append(d)\n",
    "                graph[s].sort()\n",
    "                continue\n",
    "            graph[s] = [d]\n",
    "\n",
    "        def findPath(source, graph, visited, totalLen):\n",
    "            if len(visited) == totalLen:\n",
    "                return True, [source]\n",
    "            choices = graph[source]\n",
    "            for i in choices:\n",
    "                if visited.count((source, i)) == choices.count(i):\n",
    "                    continue\n",
    "                visited.append((source, i))\n",
    "                flag, li = findPath(i, graph, visited, totalLen)\n",
    "                if flag:\n",
    "                    return True, [source] + li\n",
    "                visited.pop()\n",
    "            return False, []\n",
    "\n",
    "        flag, itinerary = findPath(\"JFK\", graph, [], len(tickets))\n",
    "        return itinerary"
   ]
  },
  {
   "cell_type": "code",
   "execution_count": 27,
   "metadata": {},
   "outputs": [
    {
     "data": {
      "text/plain": [
       "['JFK', 'ANU', 'EZE', 'AXA', 'TIA', 'ANU', 'JFK', 'TIA', 'ANU', 'TIA', 'JFK']"
      ]
     },
     "execution_count": 27,
     "metadata": {},
     "output_type": "execute_result"
    }
   ],
   "source": [
    "Solution().findItinerary([[\"EZE\",\"AXA\"],[\"TIA\",\"ANU\"],[\"ANU\",\"JFK\"],[\"JFK\",\"ANU\"],[\"ANU\",\"EZE\"],[\"TIA\",\"ANU\"],[\"AXA\",\"TIA\"],[\"TIA\",\"JFK\"],[\"ANU\",\"TIA\"],[\"JFK\",\"TIA\"]])"
   ]
  }
 ],
 "metadata": {
  "interpreter": {
   "hash": "7fa5c2bbde354df5fb32f89863fd9628b3718657b842099e0733f1c707419bc4"
  },
  "kernelspec": {
   "display_name": "Python 3.10.2 64-bit",
   "language": "python",
   "name": "python3"
  },
  "language_info": {
   "codemirror_mode": {
    "name": "ipython",
    "version": 3
   },
   "file_extension": ".py",
   "mimetype": "text/x-python",
   "name": "python",
   "nbconvert_exporter": "python",
   "pygments_lexer": "ipython3",
   "version": "3.10.2"
  },
  "orig_nbformat": 4
 },
 "nbformat": 4,
 "nbformat_minor": 2
}
