{
 "cells": [
  {
   "cell_type": "code",
   "execution_count": null,
   "metadata": {},
   "outputs": [],
   "source": [
    "class Solution:\n",
    "    def canBeTypedWords(self, text: str, brokenLetters: str) -> int:\n",
    "        words=[x for x in text.split(\" \")]\n",
    "        brokenLetters=list(brokenLetters)\n",
    "        count=0\n",
    "        for i in words:\n",
    "            flag=True\n",
    "            for j in brokenLetters:\n",
    "                if j in i:\n",
    "                    flag=False\n",
    "                    break\n",
    "            if flag:\n",
    "                count+=1\n",
    "        return count"
   ]
  }
 ],
 "metadata": {
  "language_info": {
   "name": "python"
  },
  "orig_nbformat": 4
 },
 "nbformat": 4,
 "nbformat_minor": 2
}
