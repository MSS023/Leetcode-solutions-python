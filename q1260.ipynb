{
 "cells": [
  {
   "cell_type": "code",
   "execution_count": null,
   "metadata": {},
   "outputs": [],
   "source": [
    "class Solution:\n",
    "    def shiftGrid(self, grid: List[List[int]], k: int) -> List[List[int]]:\n",
    "        for _ in range(k):\n",
    "            arr=[[*i] for i in grid]\n",
    "            for i in range(len(grid)):\n",
    "                for j in range(len(grid[i])):\n",
    "                    if j==len(grid[i])-1:\n",
    "                        if i==len(grid)-1:\n",
    "                            arr[0][0]=grid[i][j]\n",
    "                            continue\n",
    "                        arr[i+1][0]=grid[i][j]\n",
    "                        continue\n",
    "                    arr[i][j+1]=grid[i][j]\n",
    "            grid=arr\n",
    "        return grid"
   ]
  }
 ],
 "metadata": {
  "language_info": {
   "name": "python"
  },
  "orig_nbformat": 4
 },
 "nbformat": 4,
 "nbformat_minor": 2
}
