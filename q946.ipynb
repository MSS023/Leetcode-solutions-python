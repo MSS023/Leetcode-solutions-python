{
 "cells": [
  {
   "cell_type": "code",
   "execution_count": 2,
   "metadata": {},
   "outputs": [
    {
     "data": {
      "text/plain": [
       "False"
      ]
     },
     "execution_count": 2,
     "metadata": {},
     "output_type": "execute_result"
    }
   ],
   "source": [
    "class Solution:\n",
    "    def validateStackSequences(self, pushed, popped) -> bool:\n",
    "        stack=[]\n",
    "        length=len(pushed)+len(popped)\n",
    "        while length>0:\n",
    "            if len(stack)>0 and stack[-1]==popped[0]:\n",
    "                stack.pop()\n",
    "                popped.pop(0)\n",
    "            elif len(pushed)>0:\n",
    "                stack.append(pushed.pop(0))\n",
    "            else:\n",
    "                return False\n",
    "            length-=1\n",
    "        return True\n",
    "\n",
    "sol=Solution()\n",
    "sol.validateStackSequences([int(x) for x in input().split()],[int(x) for x in input().split()])"
   ]
  },
  {
   "cell_type": "code",
   "execution_count": null,
   "metadata": {},
   "outputs": [],
   "source": [
    "class Solution:\n",
    "    def validateStackSequences(self, pushed: List[int], popped: List[int]) -> bool:\n",
    "        stack=[]\n",
    "        length=len(pushed)+len(popped)\n",
    "        pu=0\n",
    "        po=0\n",
    "        while length>0:\n",
    "            if len(stack)>0 and stack[-1]==popped[po]:\n",
    "                stack.pop()\n",
    "                po+=1\n",
    "            elif len(pushed)>pu:\n",
    "                stack.append(pushed[pu])\n",
    "                pu+=1\n",
    "            else:\n",
    "                return False\n",
    "            length-=1\n",
    "        return True"
   ]
  }
 ],
 "metadata": {
  "interpreter": {
   "hash": "84c7cd761066ce45b8a789f7b09f72a3209628e136df7af6e1c369b4f2245113"
  },
  "kernelspec": {
   "display_name": "Python 3.10.2 64-bit",
   "language": "python",
   "name": "python3"
  },
  "language_info": {
   "codemirror_mode": {
    "name": "ipython",
    "version": 3
   },
   "file_extension": ".py",
   "mimetype": "text/x-python",
   "name": "python",
   "nbconvert_exporter": "python",
   "pygments_lexer": "ipython3",
   "version": "3.10.2"
  },
  "orig_nbformat": 4
 },
 "nbformat": 4,
 "nbformat_minor": 2
}
