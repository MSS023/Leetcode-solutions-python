{
 "cells": [
  {
   "cell_type": "markdown",
   "metadata": {},
   "source": [
    "# Main Logic"
   ]
  },
  {
   "cell_type": "code",
   "execution_count": 1,
   "metadata": {},
   "outputs": [],
   "source": [
    "from typing import *"
   ]
  },
  {
   "cell_type": "code",
   "execution_count": 2,
   "metadata": {},
   "outputs": [],
   "source": [
    "# Definition for a binary tree node.\n",
    "class TreeNode:\n",
    "    def __init__(self, val=0, left=None, right=None):\n",
    "        self.val = val\n",
    "        self.left = left\n",
    "        self.right = right"
   ]
  },
  {
   "cell_type": "code",
   "execution_count": 22,
   "metadata": {},
   "outputs": [],
   "source": [
    "class Solution:\n",
    "    def getEleSequence(self, traversal: str) -> List[Dict[str, int]]:\n",
    "        result = []\n",
    "        startingObj = {\n",
    "            \"depth\": 0,\n",
    "            \"ele\": None\n",
    "        }\n",
    "        currObj = startingObj.copy()\n",
    "        idx = 0\n",
    "        while idx < len(traversal):\n",
    "            if traversal[idx] == '-':\n",
    "                currObj[\"depth\"] += 1\n",
    "                idx += 1\n",
    "                continue\n",
    "\n",
    "            value = \"\"\n",
    "            while idx < len(traversal) and traversal[idx] != \"-\":\n",
    "                value += traversal[idx]\n",
    "                idx += 1\n",
    "\n",
    "            currObj[\"ele\"] = int(value)\n",
    "            result.append(currObj)\n",
    "            currObj = startingObj.copy()\n",
    "        return result\n",
    "    \n",
    "    def createTree(self, currLevel: int = 0) -> Optional[TreeNode]:\n",
    "        if len(self.seq) == 0:\n",
    "            return None\n",
    "        \n",
    "        obj = self.seq.pop(0)\n",
    "\n",
    "        if obj[\"depth\"] < currLevel:\n",
    "            self.seq.insert(0, obj)\n",
    "            return None\n",
    "        \n",
    "        node = TreeNode(obj[\"ele\"])\n",
    "        node.left = self.createTree(currLevel+1)\n",
    "        node.right = self.createTree(currLevel+1)\n",
    "\n",
    "        return node\n",
    "\n",
    "\n",
    "    def recoverFromPreorder(self, traversal: str) -> Optional[TreeNode]:\n",
    "        seq = self.getEleSequence(traversal)\n",
    "        self.seq = seq\n",
    "\n",
    "        return self.createTree(0)"
   ]
  },
  {
   "cell_type": "markdown",
   "metadata": {},
   "source": [
    "# Driver code"
   ]
  },
  {
   "cell_type": "code",
   "execution_count": 23,
   "metadata": {},
   "outputs": [],
   "source": [
    "def inorderTraversal(root: TreeNode) -> None:\n",
    "    if root is None:\n",
    "        return None\n",
    "    \n",
    "    inorderTraversal(root.left)\n",
    "    print(root.val)\n",
    "    inorderTraversal(root.right)"
   ]
  },
  {
   "cell_type": "code",
   "execution_count": 24,
   "metadata": {},
   "outputs": [
    {
     "name": "stdout",
     "output_type": "stream",
     "text": [
      "3\n",
      "2\n",
      "4\n",
      "1\n",
      "6\n",
      "5\n",
      "7\n",
      "\n",
      "4\n",
      "3\n",
      "2\n",
      "1\n",
      "7\n",
      "6\n",
      "5\n",
      "\n",
      "90\n",
      "349\n",
      "401\n",
      "88\n",
      "1\n"
     ]
    }
   ],
   "source": [
    "inorderTraversal(Solution().recoverFromPreorder(\"1-2--3--4-5--6--7\"))\n",
    "print()\n",
    "inorderTraversal(Solution().recoverFromPreorder(\"1-2--3---4-5--6---7\"))\n",
    "print()\n",
    "inorderTraversal(Solution().recoverFromPreorder(\"1-401--349---90--88\"))"
   ]
  }
 ],
 "metadata": {
  "kernelspec": {
   "display_name": "Python 3",
   "language": "python",
   "name": "python3"
  },
  "language_info": {
   "codemirror_mode": {
    "name": "ipython",
    "version": 3
   },
   "file_extension": ".py",
   "mimetype": "text/x-python",
   "name": "python",
   "nbconvert_exporter": "python",
   "pygments_lexer": "ipython3",
   "version": "3.13.2"
  }
 },
 "nbformat": 4,
 "nbformat_minor": 2
}
