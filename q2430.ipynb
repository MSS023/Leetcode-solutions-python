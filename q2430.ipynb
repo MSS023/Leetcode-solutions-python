{
 "cells": [
  {
   "cell_type": "code",
   "execution_count": null,
   "metadata": {},
   "outputs": [],
   "source": [
    "from collections import Counter\n",
    "\n",
    "class Solution:\n",
    "    def deleteString(self, s: str) -> int:\n",
    "        count = Counter(s)\n",
    "        if len(count.keys()) == 1:\n",
    "            return len(s)\n",
    "        memo = {0:0}\n",
    "        def recursive(s):\n",
    "            if len(s) in memo:\n",
    "                return memo[len(s)]\n",
    "            count = len(s)\n",
    "            maxm = 0\n",
    "            while count > 0:\n",
    "                if s[:count] == s[count:count*2]:\n",
    "                    maxm = max(maxm,recursive(s[count:]))\n",
    "                count -= 1\n",
    "            memo[len(s)] = maxm+1\n",
    "            print(memo)\n",
    "            return maxm+1\n",
    "        return recursive(s)"
   ]
  }
 ],
 "metadata": {
  "language_info": {
   "name": "python"
  },
  "orig_nbformat": 4
 },
 "nbformat": 4,
 "nbformat_minor": 2
}
