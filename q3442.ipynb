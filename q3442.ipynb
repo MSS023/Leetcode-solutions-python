{
 "cells": [
  {
   "cell_type": "code",
   "execution_count": 1,
   "id": "347d76f5",
   "metadata": {},
   "outputs": [],
   "source": [
    "from typing import *"
   ]
  },
  {
   "cell_type": "code",
   "execution_count": 2,
   "id": "94a28fa3",
   "metadata": {},
   "outputs": [],
   "source": [
    "class Solution:\n",
    "    def maxDifference(self, s: str) -> int:\n",
    "        counts = {}\n",
    "        for ch in s:\n",
    "            if ch not in counts:\n",
    "                counts[ch] = 0\n",
    "            counts[ch] += 1\n",
    "            \n",
    "        values = counts.values()\n",
    "        maxmOdd = 1\n",
    "        minmEven = float('inf')\n",
    "        for value in values:\n",
    "            if value & 1 == 0:\n",
    "                minmEven = min(minmEven, value)\n",
    "                continue\n",
    "            maxmOdd = max(maxmOdd, value)\n",
    "        return maxmOdd - minmEven"
   ]
  },
  {
   "cell_type": "code",
   "execution_count": 4,
   "id": "5733560a",
   "metadata": {},
   "outputs": [
    {
     "name": "stdout",
     "output_type": "stream",
     "text": [
      "3\n",
      "1\n"
     ]
    }
   ],
   "source": [
    "print(Solution().maxDifference(\"aaaaabbc\"))\n",
    "print(Solution().maxDifference(\"abcabcab\"))"
   ]
  }
 ],
 "metadata": {
  "kernelspec": {
   "display_name": "Python 3",
   "language": "python",
   "name": "python3"
  },
  "language_info": {
   "codemirror_mode": {
    "name": "ipython",
    "version": 3
   },
   "file_extension": ".py",
   "mimetype": "text/x-python",
   "name": "python",
   "nbconvert_exporter": "python",
   "pygments_lexer": "ipython3",
   "version": "3.10.11"
  }
 },
 "nbformat": 4,
 "nbformat_minor": 5
}
