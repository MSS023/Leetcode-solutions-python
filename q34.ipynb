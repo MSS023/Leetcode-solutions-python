{
 "cells": [
  {
   "cell_type": "code",
   "execution_count": 5,
   "metadata": {},
   "outputs": [
    {
     "name": "stdout",
     "output_type": "stream",
     "text": [
      "[0, 0]\n"
     ]
    }
   ],
   "source": [
    "class Solution:\n",
    "    def searchRange(self, nums: list[int], target: int) -> list[int]:\n",
    "        start=0\n",
    "        end=len(nums)-1\n",
    "        index=0\n",
    "        while start<=end:\n",
    "            mid=(end+start)//2\n",
    "            if nums[mid]==target:\n",
    "                break\n",
    "            if nums[mid]<target:\n",
    "                start=mid+1\n",
    "            else:\n",
    "                end=mid-1\n",
    "        if start>end:\n",
    "            return [-1,-1]\n",
    "        if nums[start]==target:\n",
    "            while start>-1 and nums[start]==target:\n",
    "                start-=1\n",
    "            start+=1\n",
    "        else:\n",
    "            while start<len(nums) and nums[start]!=target:\n",
    "                start+=1\n",
    "            if start==len(nums):\n",
    "                start-=1\n",
    "        if nums[end]==target:\n",
    "            while end<len(nums) and nums[end]==target:\n",
    "                end+=1\n",
    "            end-=1\n",
    "        else:\n",
    "            while end>-1 and nums[end]!=target:\n",
    "                end-=1\n",
    "            if end==-1:\n",
    "                end+=1\n",
    "        return [start,end]\n",
    "\n",
    "sol=Solution()\n",
    "print(sol.searchRange([int(x) for x in input().split()],int(input())))"
   ]
  }
 ],
 "metadata": {
  "interpreter": {
   "hash": "84c7cd761066ce45b8a789f7b09f72a3209628e136df7af6e1c369b4f2245113"
  },
  "kernelspec": {
   "display_name": "Python 3.10.2 64-bit",
   "language": "python",
   "name": "python3"
  },
  "language_info": {
   "codemirror_mode": {
    "name": "ipython",
    "version": 3
   },
   "file_extension": ".py",
   "mimetype": "text/x-python",
   "name": "python",
   "nbconvert_exporter": "python",
   "pygments_lexer": "ipython3",
   "version": "3.10.2"
  },
  "orig_nbformat": 4
 },
 "nbformat": 4,
 "nbformat_minor": 2
}
