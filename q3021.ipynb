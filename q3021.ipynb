{
 "cells": [
  {
   "cell_type": "code",
   "execution_count": 1,
   "id": "126909af",
   "metadata": {},
   "outputs": [],
   "source": [
    "from typing import *\n",
    "import math"
   ]
  },
  {
   "cell_type": "code",
   "execution_count": 4,
   "id": "7ceef243",
   "metadata": {},
   "outputs": [],
   "source": [
    "class Solution:\n",
    "    def flowerGame(self, n: int, m: int) -> int:\n",
    "        maxm, minm = max(n,m), min(n,m)\n",
    "        count = 0\n",
    "        for n1 in range(1, maxm+1):\n",
    "            if n1 <= minm:\n",
    "                count += 2*math.ceil((minm-n1)/2)\n",
    "            else:\n",
    "                count += math.floor(minm/2) if n1 & 1 else math.ceil(minm/2)\n",
    "\n",
    "        return count\n",
    "        "
   ]
  },
  {
   "cell_type": "code",
   "execution_count": 15,
   "id": "4e98fbf3",
   "metadata": {},
   "outputs": [],
   "source": [
    "class Solution:\n",
    "    def flowerGame(self, n: int, m: int) -> int:\n",
    "        maxm, minm = max(n,m), min(n,m)\n",
    "        minOdd, minEven = math.ceil(minm/2), math.floor(minm/2)\n",
    "        maxOdd, maxEven = math.ceil(maxm/2), math.floor(maxm/2)\n",
    "\n",
    "        return maxOdd * minEven + maxEven * minOdd"
   ]
  },
  {
   "cell_type": "code",
   "execution_count": 16,
   "id": "d3d92e75",
   "metadata": {},
   "outputs": [
    {
     "name": "stdout",
     "output_type": "stream",
     "text": [
      "3\n",
      "0\n",
      "56\n",
      "60\n"
     ]
    }
   ],
   "source": [
    "print(Solution().flowerGame(3,2))\n",
    "print(Solution().flowerGame(1,1))\n",
    "print(Solution().flowerGame(16,7))\n",
    "print(Solution().flowerGame(15,8))"
   ]
  }
 ],
 "metadata": {
  "kernelspec": {
   "display_name": "Python 3",
   "language": "python",
   "name": "python3"
  },
  "language_info": {
   "codemirror_mode": {
    "name": "ipython",
    "version": 3
   },
   "file_extension": ".py",
   "mimetype": "text/x-python",
   "name": "python",
   "nbconvert_exporter": "python",
   "pygments_lexer": "ipython3",
   "version": "3.10.11"
  }
 },
 "nbformat": 4,
 "nbformat_minor": 5
}
