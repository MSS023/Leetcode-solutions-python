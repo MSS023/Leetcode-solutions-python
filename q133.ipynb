{
 "cells": [
  {
   "cell_type": "code",
   "execution_count": null,
   "metadata": {},
   "outputs": [],
   "source": [
    "\"\"\"\n",
    "# Definition for a Node.\n",
    "class Node:\n",
    "    def __init__(self, val = 0, neighbors = None):\n",
    "        self.val = val\n",
    "        self.neighbors = neighbors if neighbors is not None else []\n",
    "\"\"\"\n",
    "\n",
    "class Solution:\n",
    "    def cloneGraph(self, node: 'Node') -> 'Node':\n",
    "        if node is None:\n",
    "            return None\n",
    "        dict={}\n",
    "        stack=[node]\n",
    "        while stack:\n",
    "            temp=stack.pop()\n",
    "            dict[temp]=Node(temp.val)\n",
    "            for i in temp.neighbors:\n",
    "                if i not in dict:\n",
    "                    stack.append(i)\n",
    "        for i in dict:\n",
    "            for j in i.neighbors:\n",
    "                dict[i].neighbors.append(dict[j])\n",
    "        return dict[node]"
   ]
  }
 ],
 "metadata": {
  "language_info": {
   "name": "python"
  },
  "orig_nbformat": 4
 },
 "nbformat": 4,
 "nbformat_minor": 2
}
