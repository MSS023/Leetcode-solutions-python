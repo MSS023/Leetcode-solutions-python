{
 "cells": [
  {
   "cell_type": "code",
   "execution_count": 7,
   "metadata": {},
   "outputs": [],
   "source": [
    "class Solution:\n",
    "    def strongPasswordCheckerII(self, password: str) -> bool:\n",
    "        if len(password) < 8:\n",
    "            return False\n",
    "        lowercase = False\n",
    "        uppercase = False\n",
    "        digit = False\n",
    "        special = False\n",
    "        for i in range(len(password)):\n",
    "            if i > 0 and password[i] == password[i-1]:\n",
    "                return False\n",
    "            if password[i] in \"!@#$%^&*()-+\":\n",
    "                special = True\n",
    "                continue\n",
    "            temp = ord(password[i])\n",
    "            if temp >= ord(\"A\") and temp <= ord(\"Z\"):\n",
    "                uppercase = True\n",
    "                continue\n",
    "            if temp >= ord(\"a\") and temp <= ord(\"z\"):\n",
    "                lowercase = True\n",
    "                continue\n",
    "            if password[i] in \"0123456789\":\n",
    "                digit = True\n",
    "        return lowercase and uppercase and digit and special"
   ]
  },
  {
   "cell_type": "code",
   "execution_count": 8,
   "metadata": {},
   "outputs": [
    {
     "data": {
      "text/plain": [
       "False"
      ]
     },
     "execution_count": 8,
     "metadata": {},
     "output_type": "execute_result"
    }
   ],
   "source": [
    "Solution().strongPasswordCheckerII(\"1aB!\")"
   ]
  }
 ],
 "metadata": {
  "kernelspec": {
   "display_name": "Python 3.10.5 64-bit",
   "language": "python",
   "name": "python3"
  },
  "language_info": {
   "codemirror_mode": {
    "name": "ipython",
    "version": 3
   },
   "file_extension": ".py",
   "mimetype": "text/x-python",
   "name": "python",
   "nbconvert_exporter": "python",
   "pygments_lexer": "ipython3",
   "version": "3.10.5"
  },
  "orig_nbformat": 4,
  "vscode": {
   "interpreter": {
    "hash": "f15627b29e15848638e903c52dd09ae6c4c9adb1719aae45dda3850ec7954c19"
   }
  }
 },
 "nbformat": 4,
 "nbformat_minor": 2
}
