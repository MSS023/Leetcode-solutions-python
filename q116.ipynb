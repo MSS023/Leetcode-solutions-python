{
 "cells": [
  {
   "cell_type": "code",
   "execution_count": null,
   "metadata": {},
   "outputs": [],
   "source": [
    "\"\"\"\n",
    "# Definition for a Node.\n",
    "class Node:\n",
    "    def __init__(self, val: int = 0, left: 'Node' = None, right: 'Node' = None, next: 'Node' = None):\n",
    "        self.val = val\n",
    "        self.left = left\n",
    "        self.right = right\n",
    "        self.next = next\n",
    "\"\"\"\n",
    "\n",
    "class Solution:\n",
    "    def connect(self, root: 'Optional[Node]') -> 'Optional[Node]':\n",
    "        if root is None:\n",
    "            return None\n",
    "        queue=[[root,0]]\n",
    "        self.bfs(queue)\n",
    "        return root\n",
    "    \n",
    "    def bfs(self,queue) -> None:\n",
    "        while queue:\n",
    "            root,level=queue.pop(0)\n",
    "            if root.left is not None:\n",
    "                queue.append([root.left,level+1])\n",
    "            if root.right is not None:\n",
    "                queue.append([root.right,level+1])\n",
    "            if queue and queue[0][1]==level:\n",
    "                root.next=queue[0][0]"
   ]
  }
 ],
 "metadata": {
  "language_info": {
   "name": "python"
  },
  "orig_nbformat": 4
 },
 "nbformat": 4,
 "nbformat_minor": 2
}
