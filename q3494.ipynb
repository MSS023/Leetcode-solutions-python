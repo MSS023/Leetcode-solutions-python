{
 "cells": [
  {
   "cell_type": "code",
   "execution_count": 2,
   "id": "1e1fa54c",
   "metadata": {},
   "outputs": [],
   "source": [
    "from typing import *"
   ]
  },
  {
   "cell_type": "code",
   "execution_count": 16,
   "id": "6d9b8a7f",
   "metadata": {},
   "outputs": [],
   "source": [
    "class Solution:\n",
    "    def getStartTime(self, mana: int, lastFreeTime: List[int]) -> int:\n",
    "        tempStart = 0\n",
    "        totalTime = sum([s*mana for s in self.skill])\n",
    "        for idx in range(len(self.skill)-1,-1,-1):\n",
    "            totalTime -= self.skill[idx] * mana\n",
    "            if lastFreeTime[idx] < totalTime + tempStart:\n",
    "                continue\n",
    "            tempStart = lastFreeTime[idx] - totalTime\n",
    "        return tempStart\n",
    "    \n",
    "    def getFreeTimes(self, startTime: int, mana: int) -> List[int]:\n",
    "        freeTime = [None]*len(self.skill)\n",
    "        lastTime = startTime\n",
    "        for idx in range(len(self.skill)):\n",
    "            s = self.skill[idx]\n",
    "            lastTime += s*mana\n",
    "            freeTime[idx] = lastTime\n",
    "        return freeTime\n",
    "\n",
    "    def minTime(self, skill: List[int], mana: List[int]) -> int:\n",
    "        n = len(skill)\n",
    "        m = len(mana)\n",
    "        freeTimes = [float('-inf')]*n\n",
    "        self.mana = mana\n",
    "        self.skill = skill\n",
    "        for mI in range(m):\n",
    "            startTime = self.getStartTime(mana[mI], freeTimes)\n",
    "            freeTimes = self.getFreeTimes(startTime, mana[mI])\n",
    "        return freeTimes[-1]"
   ]
  },
  {
   "cell_type": "code",
   "execution_count": 17,
   "id": "51c77eb7",
   "metadata": {},
   "outputs": [
    {
     "name": "stdout",
     "output_type": "stream",
     "text": [
      "110\n",
      "5\n",
      "21\n",
      "293\n"
     ]
    }
   ],
   "source": [
    "print(Solution().minTime(skill = [1,5,2,4], mana = [5,1,4,2]))\n",
    "print(Solution().minTime(skill = [1,1,1], mana = [1,1,1]))\n",
    "print(Solution().minTime(skill = [1,2,3,4], mana = [1,2]))\n",
    "print(Solution().minTime([3,5,3,9],[1,10,7,3]))"
   ]
  }
 ],
 "metadata": {
  "kernelspec": {
   "display_name": "Python 3",
   "language": "python",
   "name": "python3"
  },
  "language_info": {
   "codemirror_mode": {
    "name": "ipython",
    "version": 3
   },
   "file_extension": ".py",
   "mimetype": "text/x-python",
   "name": "python",
   "nbconvert_exporter": "python",
   "pygments_lexer": "ipython3",
   "version": "3.10.11"
  }
 },
 "nbformat": 4,
 "nbformat_minor": 5
}
