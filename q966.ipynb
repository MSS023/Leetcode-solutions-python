{
 "cells": [
  {
   "cell_type": "code",
   "execution_count": 1,
   "id": "249c04fe",
   "metadata": {},
   "outputs": [],
   "source": [
    "from typing import *\n",
    "from functools import cache"
   ]
  },
  {
   "cell_type": "markdown",
   "id": "a6a1533a",
   "metadata": {},
   "source": [
    "## TLE"
   ]
  },
  {
   "cell_type": "code",
   "execution_count": 13,
   "id": "44c659c5",
   "metadata": {},
   "outputs": [],
   "source": [
    "class Solution:\n",
    "    def __init__(self):\n",
    "        self.vowels = {\"a\",\"e\",\"i\",\"o\",\"u\"}\n",
    "\n",
    "    @cache\n",
    "    def removeVowels(self, word: str) -> str:\n",
    "        return [ch if ch not in self.vowels else \"_\" for ch in word.lower()]\n",
    "    \n",
    "    def doesVowelErrorsMatch(self, word1: str, word2: str) -> bool:\n",
    "        return self.removeVowels(word1) == self.removeVowels(word2)\n",
    "\n",
    "    def spellchecker(self, wordlist: List[str], queries: List[str]) -> List[str]:\n",
    "        res = []\n",
    "        for query in queries:\n",
    "            exactMatch = (False, \"\")\n",
    "            capMatch = (False,\"\")\n",
    "            vowelErrorsMatch = (False,\"\")\n",
    "            for word in wordlist:\n",
    "                if word == query:\n",
    "                    exactMatch = (True, word)\n",
    "                    break\n",
    "                if not capMatch[0] and word.lower() == query.lower():\n",
    "                    capMatch = (True, word)\n",
    "                    continue\n",
    "                if not vowelErrorsMatch[0] and self.doesVowelErrorsMatch(query, word):\n",
    "                    vowelErrorsMatch = (True, word)\n",
    "\n",
    "            if exactMatch[0]:\n",
    "                res.append(exactMatch[1])\n",
    "                continue\n",
    "            if capMatch[0]:\n",
    "                res.append(capMatch[1])\n",
    "                continue\n",
    "            if vowelErrorsMatch[0]:\n",
    "                res.append(vowelErrorsMatch[1])\n",
    "                continue\n",
    "            res.append(\"\")\n",
    "        return res"
   ]
  },
  {
   "cell_type": "code",
   "execution_count": 6,
   "id": "13b0669c",
   "metadata": {},
   "outputs": [],
   "source": [
    "class Solution:\n",
    "    def deVowel(self, word: str) -> str:\n",
    "        return \"\".join([\"*\" if ch in self.vowels else ch for ch in word.lower()])\n",
    "\n",
    "    def spellchecker(self, wordlist: List[str], queries: List[str]) -> List[str]:\n",
    "        self.vowels = {\"a\",\"e\",\"i\",\"o\",\"u\"}\n",
    "        origWordSet = set()\n",
    "        lowerWordSet = {}\n",
    "        deVowelWordSet = {}\n",
    "        for word in wordlist:\n",
    "            origWordSet.add(word)\n",
    "            lWord = word.lower()\n",
    "            if lWord not in lowerWordSet:\n",
    "                lowerWordSet[lWord] = word\n",
    "            deVoweledWord = self.deVowel(word)\n",
    "            if deVoweledWord not in deVowelWordSet:\n",
    "                deVowelWordSet[deVoweledWord] = word\n",
    "        res = []\n",
    "\n",
    "        for query in queries:\n",
    "            if query in origWordSet:\n",
    "                res.append(query)\n",
    "                continue\n",
    "            if query.lower() in lowerWordSet:\n",
    "                res.append(lowerWordSet[query.lower()])\n",
    "                continue\n",
    "            if self.deVowel(query) in deVowelWordSet:\n",
    "                res.append(deVowelWordSet[self.deVowel(query)])\n",
    "                continue\n",
    "            res.append(\"\")\n",
    "\n",
    "        return res"
   ]
  },
  {
   "cell_type": "code",
   "execution_count": 8,
   "id": "b38904b1",
   "metadata": {},
   "outputs": [
    {
     "name": "stdout",
     "output_type": "stream",
     "text": [
      "['kite', 'KiTe', 'KiTe', 'Hare', 'hare', '', '', 'KiTe', '', 'KiTe']\n",
      "['yellow']\n"
     ]
    }
   ],
   "source": [
    "print(Solution().spellchecker([\"KiTe\",\"kite\",\"hare\",\"Hare\"],[\"kite\",\"Kite\",\"KiTe\",\"Hare\",\"HARE\",\"Hear\",\"hear\",\"keti\",\"keet\",\"keto\"]))\n",
    "print(Solution().spellchecker([\"yellow\"],[\"YellOw\"]))"
   ]
  }
 ],
 "metadata": {
  "kernelspec": {
   "display_name": "Python 3",
   "language": "python",
   "name": "python3"
  },
  "language_info": {
   "codemirror_mode": {
    "name": "ipython",
    "version": 3
   },
   "file_extension": ".py",
   "mimetype": "text/x-python",
   "name": "python",
   "nbconvert_exporter": "python",
   "pygments_lexer": "ipython3",
   "version": "3.10.11"
  }
 },
 "nbformat": 4,
 "nbformat_minor": 5
}
