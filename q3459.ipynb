{
 "cells": [
  {
   "cell_type": "code",
   "execution_count": 35,
   "id": "d952a90d",
   "metadata": {},
   "outputs": [],
   "source": [
    "from typing import *\n",
    "from functools import lru_cache"
   ]
  },
  {
   "cell_type": "code",
   "execution_count": 36,
   "id": "f018fd25",
   "metadata": {},
   "outputs": [],
   "source": [
    "class Solution:\n",
    "    def __init__(self):\n",
    "        self.operations = [\n",
    "            lambda x: (x[0]-1,x[1]-1),\n",
    "            lambda x: (x[0]-1,x[1]+1),\n",
    "            lambda x: (x[0]+1,x[1]+1),\n",
    "            lambda x: (x[0]+1,x[1]-1)\n",
    "        ]\n",
    "\n",
    "        self.nextDirection = [1,2,3,0]\n",
    "        self.nextNum = {1: 2, 2: 0, 0: 2}\n",
    "\n",
    "    @lru_cache(maxsize = 250000)\n",
    "    def main(self, r: int, c: int, direction: int = 0, hasShifted: bool = False) -> int:\n",
    "        if r == len(self.grid) or c == len(self.grid[0]) or r == -1 or c == -1:\n",
    "            return 0\n",
    "        maxm, nextDirection = 1, self.nextDirection[direction]\n",
    "        currEle = self.grid[r][c]\n",
    "        nextEle = self.nextNum[currEle]\n",
    "        nr, nc = self.operations[direction]((r,c))\n",
    "\n",
    "        if nr < len(self.grid) and nc < len(self.grid[0]) and nr > -1 and nc > -1 and self.grid[nr][nc] == nextEle:\n",
    "            maxm = max(maxm, self.main(nr, nc, direction, hasShifted)+1)\n",
    "        \n",
    "        if currEle == 1 or hasShifted:\n",
    "            return maxm\n",
    "        \n",
    "        nr, nc = self.operations[nextDirection]((r,c))\n",
    "\n",
    "        if nr < len(self.grid) and nc < len(self.grid[0]) and nr > -1 and nc > -1 and self.grid[nr][nc] == nextEle:\n",
    "            maxm = max(maxm, self.main(nr, nc, nextDirection, True)+1)\n",
    "        \n",
    "        return maxm\n",
    "\n",
    "    def lenOfVDiagonal(self, grid: List[List[int]]) -> int:\n",
    "        m,n = len(grid), len(grid[0])\n",
    "        self.grid = grid\n",
    "\n",
    "        maxm = 0\n",
    "        for r in range(m):\n",
    "            for c in range(n):\n",
    "                if grid[r][c] != 1:\n",
    "                    continue\n",
    "                for direction in self.nextDirection:\n",
    "                    val = self.main(r,c, direction)\n",
    "                    maxm = max(maxm, val)\n",
    "        \n",
    "        return maxm"
   ]
  },
  {
   "cell_type": "code",
   "execution_count": 37,
   "id": "bd562654",
   "metadata": {},
   "outputs": [
    {
     "name": "stdout",
     "output_type": "stream",
     "text": [
      "5\n",
      "4\n",
      "5\n",
      "1\n"
     ]
    }
   ],
   "source": [
    "print(Solution().lenOfVDiagonal([[2,2,1,2,2],[2,0,2,2,0],[2,0,1,1,0],[1,0,2,2,2],[2,0,0,2,2]]))\n",
    "print(Solution().lenOfVDiagonal([[2,2,2,2,2],[2,0,2,2,0],[2,0,1,1,0],[1,0,2,2,2],[2,0,0,2,2]]))\n",
    "print(Solution().lenOfVDiagonal([[1,2,2,2,2],[2,2,2,2,0],[2,0,0,0,0],[0,0,2,2,2],[2,0,0,2,0]]))\n",
    "print(Solution().lenOfVDiagonal([[1]]))"
   ]
  }
 ],
 "metadata": {
  "kernelspec": {
   "display_name": "Python 3",
   "language": "python",
   "name": "python3"
  },
  "language_info": {
   "codemirror_mode": {
    "name": "ipython",
    "version": 3
   },
   "file_extension": ".py",
   "mimetype": "text/x-python",
   "name": "python",
   "nbconvert_exporter": "python",
   "pygments_lexer": "ipython3",
   "version": "3.10.11"
  }
 },
 "nbformat": 4,
 "nbformat_minor": 5
}
