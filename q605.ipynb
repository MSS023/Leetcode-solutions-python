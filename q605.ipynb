{
 "cells": [
  {
   "cell_type": "code",
   "execution_count": null,
   "metadata": {},
   "outputs": [],
   "source": [
    "class Solution:\n",
    "    def canPlaceFlowers(self, flowerBed: List[int], n: int) -> bool:\n",
    "        for index,i in enumerate(flowerBed):\n",
    "            if n==0:\n",
    "                break\n",
    "            if i==1:\n",
    "                continue\n",
    "            if index>0 and flowerBed[index-1]==1:\n",
    "                continue\n",
    "            if index<len(flowerBed)-1 and flowerBed[index+1]==1:\n",
    "                continue\n",
    "            n-=1\n",
    "            flowerBed[index]=1\n",
    "        if n>0:\n",
    "            return False\n",
    "        return True"
   ]
  }
 ],
 "metadata": {
  "language_info": {
   "name": "python"
  },
  "orig_nbformat": 4
 },
 "nbformat": 4,
 "nbformat_minor": 2
}
