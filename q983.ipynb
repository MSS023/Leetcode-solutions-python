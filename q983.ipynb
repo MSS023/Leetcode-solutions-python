{
 "cells": [
  {
   "cell_type": "code",
   "execution_count": 1,
   "metadata": {},
   "outputs": [],
   "source": [
    "from typing import *"
   ]
  },
  {
   "cell_type": "markdown",
   "metadata": {},
   "source": [
    "# Memoization"
   ]
  },
  {
   "cell_type": "code",
   "execution_count": 5,
   "metadata": {},
   "outputs": [],
   "source": [
    "class Solution:\n",
    "    def __init__(self):\n",
    "        self.memo = {}\n",
    "\n",
    "    def main(self, idx: int) -> int:\n",
    "        if idx in self.memo:\n",
    "            return self.memo[idx]\n",
    "\n",
    "        currentDate = self.days[idx]\n",
    "        sevenDaysLater = currentDate + 7\n",
    "        thirtyDaysLater = currentDate + 30\n",
    "\n",
    "        sevenDaysLaterIdx = None\n",
    "        thirtyDaysLaterIdx = None\n",
    "\n",
    "        for i in range(idx+1, len(self.days)):\n",
    "            if sevenDaysLaterIdx is not None and thirtyDaysLaterIdx is not None:\n",
    "                break\n",
    "            if sevenDaysLaterIdx is None and self.days[i] >= sevenDaysLater:\n",
    "                sevenDaysLaterIdx = i\n",
    "\n",
    "            if thirtyDaysLaterIdx is None and self.days[i] >= thirtyDaysLater:\n",
    "                thirtyDaysLaterIdx = i\n",
    "\n",
    "        nextDayCost = self.main(idx+1)\n",
    "        sevenDaysLaterCost = self.main(\n",
    "            sevenDaysLaterIdx) if sevenDaysLaterIdx is not None else 0\n",
    "        thirtyDaysLaterCost = self.main(\n",
    "            thirtyDaysLaterIdx) if thirtyDaysLaterIdx is not None else 0\n",
    "\n",
    "        self.memo[idx] = min(self.costs[0] + nextDayCost,\n",
    "                             self.costs[1] + sevenDaysLaterCost,\n",
    "                             self.costs[2] + thirtyDaysLaterCost)\n",
    "\n",
    "        return self.memo[idx]\n",
    "\n",
    "    def mincostTickets(self, days: List[int], costs: List[int]) -> int:\n",
    "        self.days = days\n",
    "        self.costs = costs\n",
    "        self.memo[len(days)-1] = min(costs)\n",
    "        return self.main(0)"
   ]
  },
  {
   "cell_type": "markdown",
   "metadata": {},
   "source": [
    "# Tabulation"
   ]
  },
  {
   "cell_type": "code",
   "execution_count": 22,
   "metadata": {},
   "outputs": [],
   "source": [
    "class Solution:\n",
    "    def mincostTickets(self, days: List[int], costs: List[int]) -> int:\n",
    "        result = [None]*(len(days)+1)\n",
    "        result[-2] = min(costs)\n",
    "        result[-1] = 0\n",
    "\n",
    "        for idx in range(len(days) - 2, -1, -1):\n",
    "            currentDate = days[idx]\n",
    "            sevenDaysLaterDate = currentDate+7\n",
    "            thirtyDaysLaterDate = currentDate+30\n",
    "\n",
    "            sevenDaysLaterIdx = len(days)\n",
    "            thirtyDaysLaterIdx = len(days)\n",
    "            for i in range(idx+1, len(days)):\n",
    "                if sevenDaysLaterIdx is not (len(days)) and thirtyDaysLaterIdx is not (len(days)):\n",
    "                    break\n",
    "\n",
    "                if sevenDaysLaterIdx is (len(days)) and days[i] >= sevenDaysLaterDate:\n",
    "                    sevenDaysLaterIdx = i\n",
    "\n",
    "                if thirtyDaysLaterIdx is (len(days)) and days[i] >= thirtyDaysLaterDate:\n",
    "                    thirtyDaysLaterIdx = i\n",
    "            \n",
    "            result[idx] = min(costs[0]+result[idx+1], costs[1]+result[sevenDaysLaterIdx], costs[2]+result[thirtyDaysLaterIdx])\n",
    "\n",
    "        return result[0]"
   ]
  },
  {
   "cell_type": "code",
   "execution_count": 23,
   "metadata": {},
   "outputs": [
    {
     "name": "stdout",
     "output_type": "stream",
     "text": [
      "11\n",
      "17\n"
     ]
    }
   ],
   "source": [
    "print(Solution().mincostTickets(days = [1, 4,6,7,8,20], costs = [2,7,15]))\n",
    "print(Solution().mincostTickets(days = [1, 2,3,4,5,6,7,8,9,10,30,31], costs = [2,7,15]))"
   ]
  }
 ],
 "metadata": {
  "kernelspec": {
   "display_name": "Python 3",
   "language": "python",
   "name": "python3"
  },
  "language_info": {
   "codemirror_mode": {
    "name": "ipython",
    "version": 3
   },
   "file_extension": ".py",
   "mimetype": "text/x-python",
   "name": "python",
   "nbconvert_exporter": "python",
   "pygments_lexer": "ipython3",
   "version": "3.13.1"
  }
 },
 "nbformat": 4,
 "nbformat_minor": 2
}
