{
 "cells": [
  {
   "cell_type": "code",
   "execution_count": 5,
   "metadata": {},
   "outputs": [],
   "source": [
    "class Solution:\n",
    "    def floodFill(self, image: list[list[int]], sr: int, sc: int, color: int) -> list[list[int]]:\n",
    "        if image[sr][sc] == color:\n",
    "            return image\n",
    "        stack = [(sr,sc)]\n",
    "        while stack:\n",
    "            (r,c) = stack.pop()\n",
    "            if r>0 and image[r-1][c] == image[r][c] and (r-1,c) not in stack:\n",
    "                stack.append((r-1,c))\n",
    "            if c>0 and image[r][c-1] == image[r][c] and (r,c-1) not in stack:\n",
    "                stack.append((r,c-1))\n",
    "            if r<len(image)-1 and image[r+1][c] == image[r][c] and (r+1,c) not in stack:\n",
    "                stack.append((r+1,c))\n",
    "            if c<len(image[-1])-1 and image[r][c+1] == image[r][c] and (r,c+1) not in stack:\n",
    "                stack.append((r,c+1))\n",
    "            image[r][c] = color\n",
    "        return image"
   ]
  },
  {
   "cell_type": "code",
   "execution_count": 6,
   "metadata": {},
   "outputs": [
    {
     "data": {
      "text/plain": [
       "[[2, 2, 2], [2, 2, 0], [2, 0, 1]]"
      ]
     },
     "execution_count": 6,
     "metadata": {},
     "output_type": "execute_result"
    }
   ],
   "source": [
    "Solution().floodFill([[1,1,1],[1,1,0],[1,0,1]],1,1,2)"
   ]
  }
 ],
 "metadata": {
  "kernelspec": {
   "display_name": "Python 3.10.2 64-bit",
   "language": "python",
   "name": "python3"
  },
  "language_info": {
   "codemirror_mode": {
    "name": "ipython",
    "version": 3
   },
   "file_extension": ".py",
   "mimetype": "text/x-python",
   "name": "python",
   "nbconvert_exporter": "python",
   "pygments_lexer": "ipython3",
   "version": "3.10.2"
  },
  "orig_nbformat": 4,
  "vscode": {
   "interpreter": {
    "hash": "7fa5c2bbde354df5fb32f89863fd9628b3718657b842099e0733f1c707419bc4"
   }
  }
 },
 "nbformat": 4,
 "nbformat_minor": 2
}
