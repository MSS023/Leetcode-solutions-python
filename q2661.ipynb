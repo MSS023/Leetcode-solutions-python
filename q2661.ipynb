{
 "cells": [
  {
   "cell_type": "code",
   "execution_count": 1,
   "metadata": {},
   "outputs": [],
   "source": [
    "from typing import *"
   ]
  },
  {
   "cell_type": "code",
   "execution_count": 4,
   "metadata": {},
   "outputs": [],
   "source": [
    "class Solution:\n",
    "    def firstCompleteIndex(self, arr: List[int], mat: List[List[int]]) -> int:\n",
    "        m, n = len(mat), len(mat[0])\n",
    "\n",
    "        valMap = {}\n",
    "        rowMap, colMap = {}, {}\n",
    "\n",
    "        for r in range(m):\n",
    "            for c in range(n):\n",
    "                valMap[mat[r][c]] = [r,c]\n",
    "\n",
    "        for idx in range(len(arr)):\n",
    "            num = arr[idx]\n",
    "            r,c = valMap[num]\n",
    "\n",
    "            if r not in rowMap:\n",
    "                rowMap[r] = 0\n",
    "\n",
    "            if c not in colMap:\n",
    "                colMap[c] = 0\n",
    "            \n",
    "            rowMap[r] += 1\n",
    "            colMap[c] += 1\n",
    "\n",
    "            if rowMap[r] == n:\n",
    "                return idx\n",
    "            \n",
    "            if colMap[c] == m:\n",
    "                return idx"
   ]
  },
  {
   "cell_type": "code",
   "execution_count": 5,
   "metadata": {},
   "outputs": [
    {
     "data": {
      "text/plain": [
       "2"
      ]
     },
     "execution_count": 5,
     "metadata": {},
     "output_type": "execute_result"
    }
   ],
   "source": [
    "Solution().firstCompleteIndex(arr = [1, 3,4,2], mat = [[1,4],[2,3]])"
   ]
  }
 ],
 "metadata": {
  "kernelspec": {
   "display_name": "Python 3",
   "language": "python",
   "name": "python3"
  },
  "language_info": {
   "codemirror_mode": {
    "name": "ipython",
    "version": 3
   },
   "file_extension": ".py",
   "mimetype": "text/x-python",
   "name": "python",
   "nbconvert_exporter": "python",
   "pygments_lexer": "ipython3",
   "version": "3.13.1"
  }
 },
 "nbformat": 4,
 "nbformat_minor": 2
}
