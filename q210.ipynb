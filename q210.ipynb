{
 "cells": [
  {
   "cell_type": "code",
   "execution_count": 21,
   "metadata": {},
   "outputs": [],
   "source": [
    "class Solution:\n",
    "    def __init__(self):\n",
    "        self.graph = {}\n",
    "        self.v = 0\n",
    "\n",
    "    def isCyclicUtil(self, v, visited, recStack, progressStack):\n",
    "        visited[v] = True\n",
    "        recStack[v] = True\n",
    "        if v not in self.graph:\n",
    "            recStack[v]=False\n",
    "            progressStack.append(v)\n",
    "            return False\n",
    "        for neighbour in self.graph[v]:\n",
    "            if visited[neighbour] == False:\n",
    "                if self.isCyclicUtil(neighbour, visited, recStack, progressStack) == True:\n",
    "                    progressStack.clear()\n",
    "                    return True\n",
    "            elif recStack[neighbour] == True:\n",
    "                return True\n",
    "        recStack[v] = False\n",
    "        progressStack.append(v)\n",
    "        return False\n",
    " \n",
    "    def isCyclic(self):\n",
    "        visited = [False] * (self.v)\n",
    "        recStack = [False] * (self.v)\n",
    "        progress = []\n",
    "        for node in range(self.v):\n",
    "            if visited[node] == False:\n",
    "                if self.isCyclicUtil(node,visited,recStack, progress) == True:\n",
    "                    return progress\n",
    "        return progress\n",
    "\n",
    "    def findOrder(self, numCourses: int, prerequisites: list[list[int]]) -> list[int]:\n",
    "        graph={}\n",
    "        for a,b in prerequisites:\n",
    "            if a in graph:\n",
    "                graph[a].append(b)\n",
    "            else:\n",
    "                graph[a]=[b]\n",
    "        self.graph=graph\n",
    "        self.v=numCourses\n",
    "        return self.isCyclic()"
   ]
  },
  {
   "cell_type": "code",
   "execution_count": 23,
   "metadata": {},
   "outputs": [
    {
     "data": {
      "text/plain": [
       "[]"
      ]
     },
     "execution_count": 23,
     "metadata": {},
     "output_type": "execute_result"
    }
   ],
   "source": [
    "Solution().findOrder(4,\n",
    "[[2,0],[1,0],[3,1],[3,2],[1,3]])"
   ]
  }
 ],
 "metadata": {
  "interpreter": {
   "hash": "7fa5c2bbde354df5fb32f89863fd9628b3718657b842099e0733f1c707419bc4"
  },
  "kernelspec": {
   "display_name": "Python 3.10.2 64-bit",
   "language": "python",
   "name": "python3"
  },
  "language_info": {
   "codemirror_mode": {
    "name": "ipython",
    "version": 3
   },
   "file_extension": ".py",
   "mimetype": "text/x-python",
   "name": "python",
   "nbconvert_exporter": "python",
   "pygments_lexer": "ipython3",
   "version": "3.10.2"
  },
  "orig_nbformat": 4
 },
 "nbformat": 4,
 "nbformat_minor": 2
}
