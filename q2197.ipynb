{
 "cells": [
  {
   "cell_type": "code",
   "execution_count": 2,
   "id": "811b4dd6",
   "metadata": {},
   "outputs": [],
   "source": [
    "from typing import *\n",
    "import math"
   ]
  },
  {
   "cell_type": "code",
   "execution_count": null,
   "id": "91d89fba",
   "metadata": {},
   "outputs": [],
   "source": [
    "class Solution:\n",
    "    def replaceNonCoprimes(self, nums):\n",
    "        # This will store the result array.\n",
    "        stack = []\n",
    "        \n",
    "        # Iterate through each number in the input list\n",
    "        for num in nums:\n",
    "            while stack and math.gcd(stack[-1], num) > 1:\n",
    "                # If the top of the stack and current number are non-coprime, \n",
    "                # replace them with their LCM\n",
    "                top = stack.pop()\n",
    "                num = (top * num) // math.gcd(top, num)\n",
    "            \n",
    "            # Add the current number (or merged LCM) to the stack\n",
    "            stack.append(num)\n",
    "        \n",
    "        # Return the final array after processing all numbers\n",
    "        return stack"
   ]
  },
  {
   "cell_type": "code",
   "execution_count": null,
   "id": "37542104",
   "metadata": {},
   "outputs": [],
   "source": [
    "class Solution:\n",
    "    def areCoPrime(self, *nums: List[int]) -> bool:\n",
    "        gcd = math.gcd(*nums)\n",
    "        return gcd == 1\n",
    "\n",
    "    def replaceNonCoprimes(self, nums: List[int]) -> List[int]:\n",
    "        res = []\n",
    "        idx = 0\n",
    "        n = len(nums)\n",
    "        changed = True\n",
    "        while changed:\n",
    "            nums = res if res else nums\n",
    "            changed = False\n",
    "            n = len(nums)\n",
    "            idx = 0\n",
    "            stack = []\n",
    "            res = []\n",
    "            while idx < n:\n",
    "                if (idx == n - 1) or self.areCoPrime(nums[idx], nums[idx+1]):\n",
    "                    res.append(nums[idx])\n",
    "                else:\n",
    "                    changed = True\n",
    "                    currGcd = math.gcd(nums[idx], nums[idx+1])\n",
    "                    currLcm = math.lcm(nums[idx], nums[idx+1])\n",
    "                    for idx2 in range(idx+1, n-1):\n",
    "                        if not self.areCoPrime(currGcd, nums[idx2]):\n",
    "                            idx = idx2-1\n",
    "                            break\n",
    "                    res.append(math.lcm(currLcm, nums[idx+1]))\n",
    "                    idx += 1\n",
    "                idx += 1\n",
    "        return nums"
   ]
  }
 ],
 "metadata": {
  "kernelspec": {
   "display_name": "Python 3",
   "language": "python",
   "name": "python3"
  },
  "language_info": {
   "codemirror_mode": {
    "name": "ipython",
    "version": 3
   },
   "file_extension": ".py",
   "mimetype": "text/x-python",
   "name": "python",
   "nbconvert_exporter": "python",
   "pygments_lexer": "ipython3",
   "version": "3.10.11"
  }
 },
 "nbformat": 4,
 "nbformat_minor": 5
}
