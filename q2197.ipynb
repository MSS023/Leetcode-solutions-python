{
 "cells": [
  {
   "cell_type": "code",
   "execution_count": 2,
   "id": "811b4dd6",
   "metadata": {},
   "outputs": [],
   "source": [
    "from typing import *\n",
    "import math"
   ]
  },
  {
   "cell_type": "code",
   "execution_count": null,
   "id": "91d89fba",
   "metadata": {},
   "outputs": [],
   "source": [
    "class Solution:\n",
    "    def areCoPrime(self, num1: int, num2: int) -> bool:\n",
    "        return math.gcd(num1,num2) == 1\n",
    "\n",
    "    def replaceNonCoprimes(self, nums: List[int]) -> List[int]:\n",
    "        res = []\n",
    "        for idx in range(len(nums)):\n",
    "            if idx == len(nums) -1 or self.areCoPrime(nums[idx], nums[idx+1]):\n",
    "                res.append(nums[idx])\n",
    "            \n",
    "        return res"
   ]
  }
 ],
 "metadata": {
  "kernelspec": {
   "display_name": "Python 3",
   "language": "python",
   "name": "python3"
  },
  "language_info": {
   "codemirror_mode": {
    "name": "ipython",
    "version": 3
   },
   "file_extension": ".py",
   "mimetype": "text/x-python",
   "name": "python",
   "nbconvert_exporter": "python",
   "pygments_lexer": "ipython3",
   "version": "3.10.11"
  }
 },
 "nbformat": 4,
 "nbformat_minor": 5
}
