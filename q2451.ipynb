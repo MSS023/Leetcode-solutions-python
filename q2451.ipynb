{
 "cells": [
  {
   "cell_type": "code",
   "execution_count": null,
   "metadata": {},
   "outputs": [],
   "source": [
    "class Solution:\n",
    "    def oddString(self, words: List[str]) -> str:\n",
    "        def calculateDifference(s):\n",
    "            n = len(s)\n",
    "            count = tuple()\n",
    "            for idx in range(n-1):\n",
    "                count += tuple([ord(s[idx+1])-ord(s[idx])])\n",
    "            return count\n",
    "\n",
    "        difference = {}\n",
    "        for i in words:\n",
    "            diff = calculateDifference(i)\n",
    "            if diff in difference:\n",
    "                difference[diff].append(i)\n",
    "                continue\n",
    "            if len(difference) > 0 and len(list(difference.values())[0]) > 1:\n",
    "                return i\n",
    "            difference[diff] = [i]\n",
    "        for i in difference.values():\n",
    "            if len(i) == 1:\n",
    "                return i[0]"
   ]
  }
 ],
 "metadata": {
  "language_info": {
   "name": "python"
  },
  "orig_nbformat": 4
 },
 "nbformat": 4,
 "nbformat_minor": 2
}
