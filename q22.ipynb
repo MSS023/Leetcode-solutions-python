{
 "cells": [
  {
   "cell_type": "code",
   "execution_count": 8,
   "metadata": {},
   "outputs": [
    {
     "name": "stdout",
     "output_type": "stream",
     "text": [
      "['((()))', '(()())', '(())()', '()(())', '()()()']\n"
     ]
    }
   ],
   "source": [
    "class Solution:\n",
    "    def generateParenthesis(self, n: int) -> list[str]:\n",
    "        return self.mainCode(n,n,[\"\"])\n",
    "\n",
    "    def mainCode(self,opening,closing,arr):\n",
    "        if closing==0:\n",
    "            return arr\n",
    "        temp=[]\n",
    "        if opening>0:\n",
    "            i=0\n",
    "            temp=arr.copy()\n",
    "            while i<len(arr):\n",
    "                temp[i]+=\"(\"\n",
    "                i+=1\n",
    "            temp=self.mainCode(opening-1,closing,temp)\n",
    "        temp2=[]\n",
    "        if closing>opening:\n",
    "            i=0\n",
    "            length=len(arr)\n",
    "            temp2=arr.copy()\n",
    "            while i<length:\n",
    "                temp2[i]+=\")\"\n",
    "                i+=1\n",
    "            temp2=self.mainCode(opening,closing-1,temp2)\n",
    "        arr=temp+temp2\n",
    "        return arr\n",
    "\n",
    "sol=Solution()\n",
    "print(sol.generateParenthesis(int(input())))"
   ]
  }
 ],
 "metadata": {
  "interpreter": {
   "hash": "84c7cd761066ce45b8a789f7b09f72a3209628e136df7af6e1c369b4f2245113"
  },
  "kernelspec": {
   "display_name": "Python 3.10.2 64-bit",
   "language": "python",
   "name": "python3"
  },
  "language_info": {
   "codemirror_mode": {
    "name": "ipython",
    "version": 3
   },
   "file_extension": ".py",
   "mimetype": "text/x-python",
   "name": "python",
   "nbconvert_exporter": "python",
   "pygments_lexer": "ipython3",
   "version": "3.10.2"
  },
  "orig_nbformat": 4
 },
 "nbformat": 4,
 "nbformat_minor": 2
}
