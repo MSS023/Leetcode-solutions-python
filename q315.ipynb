{
 "cells": [
  {
   "cell_type": "code",
   "execution_count": 33,
   "metadata": {},
   "outputs": [],
   "source": [
    "class Solution:\n",
    "    def countSmaller(self, nums: list[int]) -> list[int]:\n",
    "        memo = {}\n",
    "        def binarySearch(li: list[int],num: int):\n",
    "            start,end = 0,len(li)\n",
    "            m = 0\n",
    "            while start < end:\n",
    "                m = (start + end)//2\n",
    "                if li[m] < num:\n",
    "                    start = m + 1\n",
    "                    continue\n",
    "                if li[m] >= num:\n",
    "                    end = m\n",
    "            li.insert(start,num)\n",
    "            return start\n",
    "        save = []\n",
    "        res = []\n",
    "        for idx,i in enumerate(nums[::-1],1):\n",
    "            if idx > 1 and nums[-idx + 1] == i:\n",
    "                res.insert(0,res[0])\n",
    "                save.insert(res[0],i)\n",
    "                continue\n",
    "            res.insert(0,binarySearch(save,i))\n",
    "        return res"
   ]
  },
  {
   "cell_type": "code",
   "execution_count": 37,
   "metadata": {},
   "outputs": [],
   "source": [
    "class Solution:\n",
    "    def countSmaller(self, nums: list[int]) -> list[int]:\n",
    "        def bSearch(arr,num):\n",
    "            start, end = 0, len(arr)\n",
    "            while start < end:\n",
    "                m = (start + end) // 2\n",
    "                if arr[m] < num:\n",
    "                    start = m + 1\n",
    "                elif arr[m] >= num:\n",
    "                    end = m\n",
    "            return start\n",
    "        arr, ans = sorted(nums), []\n",
    "        for num in nums:\n",
    "            ans.append(bSearch(arr,num))\n",
    "            arr.pop(ans[-1])\n",
    "        return ans"
   ]
  },
  {
   "cell_type": "code",
   "execution_count": 38,
   "metadata": {},
   "outputs": [
    {
     "data": {
      "text/plain": [
       "[0, 0]"
      ]
     },
     "execution_count": 38,
     "metadata": {},
     "output_type": "execute_result"
    }
   ],
   "source": [
    "Solution().countSmaller([-1,-1])"
   ]
  }
 ],
 "metadata": {
  "kernelspec": {
   "display_name": "Python 3.10.5 64-bit",
   "language": "python",
   "name": "python3"
  },
  "language_info": {
   "codemirror_mode": {
    "name": "ipython",
    "version": 3
   },
   "file_extension": ".py",
   "mimetype": "text/x-python",
   "name": "python",
   "nbconvert_exporter": "python",
   "pygments_lexer": "ipython3",
   "version": "3.10.5"
  },
  "orig_nbformat": 4,
  "vscode": {
   "interpreter": {
    "hash": "f15627b29e15848638e903c52dd09ae6c4c9adb1719aae45dda3850ec7954c19"
   }
  }
 },
 "nbformat": 4,
 "nbformat_minor": 2
}
