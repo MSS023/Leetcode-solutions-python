{
 "cells": [
  {
   "cell_type": "code",
   "execution_count": 1,
   "id": "23233673",
   "metadata": {},
   "outputs": [],
   "source": [
    "from typing import *"
   ]
  },
  {
   "cell_type": "code",
   "execution_count": 6,
   "id": "8ad06a54",
   "metadata": {},
   "outputs": [],
   "source": [
    "class Solution:\n",
    "    def countValidSelections(self, nums: List[int]) -> int:\n",
    "        prefixSum = []\n",
    "        suffixSum = []\n",
    "        prefSum, sufSum = 0, 0\n",
    "        n = len(nums)\n",
    "        for idx in range(n):\n",
    "            prefSum += nums[idx]\n",
    "            sufSum += nums[-idx-1]\n",
    "            prefixSum.append(prefSum)\n",
    "            suffixSum.append(sufSum)\n",
    "        suffixSum.reverse()\n",
    "        countRes = 0\n",
    "        for idx in range(n):\n",
    "            if nums[idx] != 0:\n",
    "                continue\n",
    "            if prefixSum[idx] == suffixSum[idx]:\n",
    "                countRes += 2\n",
    "                continue\n",
    "            if abs(prefixSum[idx] - suffixSum[idx]) < 2:\n",
    "                countRes += 1\n",
    "        return countRes "
   ]
  },
  {
   "cell_type": "code",
   "execution_count": 7,
   "id": "d40bb73c",
   "metadata": {},
   "outputs": [
    {
     "name": "stdout",
     "output_type": "stream",
     "text": [
      "2\n",
      "0\n"
     ]
    }
   ],
   "source": [
    "print(Solution().countValidSelections(nums = [1,0,2,0,3]))\n",
    "print(Solution().countValidSelections(nums = [2,3,4,0,4,1,0]))"
   ]
  }
 ],
 "metadata": {
  "kernelspec": {
   "display_name": "Python 3",
   "language": "python",
   "name": "python3"
  },
  "language_info": {
   "codemirror_mode": {
    "name": "ipython",
    "version": 3
   },
   "file_extension": ".py",
   "mimetype": "text/x-python",
   "name": "python",
   "nbconvert_exporter": "python",
   "pygments_lexer": "ipython3",
   "version": "3.10.11"
  }
 },
 "nbformat": 4,
 "nbformat_minor": 5
}
