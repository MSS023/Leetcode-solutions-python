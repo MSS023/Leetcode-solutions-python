{
 "cells": [
  {
   "cell_type": "code",
   "execution_count": 36,
   "metadata": {},
   "outputs": [],
   "source": [
    "from typing import *\n",
    "\n",
    "\n",
    "class Solution:\n",
    "    def networkBecomesIdle(self, edges: List[List[int]], patience: List[int]) -> int:\n",
    "        def bfs(adj, patience):\n",
    "            queue = [(0, 0)]\n",
    "            recStack = [False for i in adj]\n",
    "            recStack[0] = True\n",
    "            maxm = 0\n",
    "            while queue:\n",
    "                node, level = queue.pop(0)\n",
    "                for i in adj[node]:\n",
    "                    if recStack[i]:\n",
    "                        continue\n",
    "                    recStack[i] = True\n",
    "                    queue.append((i, level+1))\n",
    "                if patience[node] < level*2:\n",
    "                    maxm = max(maxm,((level*2-1)//patience[node])*patience[node] + level*2)\n",
    "                    continue\n",
    "                maxm = max(maxm,level*2)\n",
    "            return maxm\n",
    "\n",
    "        adj = [[] for _ in patience]\n",
    "        for a, b in edges:\n",
    "            adj[a].append(b)\n",
    "            adj[b].append(a)\n",
    "        return bfs(adj,patience)+1"
   ]
  },
  {
   "cell_type": "code",
   "execution_count": 37,
   "metadata": {},
   "outputs": [
    {
     "data": {
      "text/plain": [
       "8"
      ]
     },
     "execution_count": 37,
     "metadata": {},
     "output_type": "execute_result"
    }
   ],
   "source": [
    "Solution().networkBecomesIdle([[0,1],[1,2]],[0,2,1])"
   ]
  }
 ],
 "metadata": {
  "kernelspec": {
   "display_name": "Python 3.10.5 64-bit",
   "language": "python",
   "name": "python3"
  },
  "language_info": {
   "codemirror_mode": {
    "name": "ipython",
    "version": 3
   },
   "file_extension": ".py",
   "mimetype": "text/x-python",
   "name": "python",
   "nbconvert_exporter": "python",
   "pygments_lexer": "ipython3",
   "version": "3.10.5"
  },
  "orig_nbformat": 4,
  "vscode": {
   "interpreter": {
    "hash": "f15627b29e15848638e903c52dd09ae6c4c9adb1719aae45dda3850ec7954c19"
   }
  }
 },
 "nbformat": 4,
 "nbformat_minor": 2
}
