{
 "cells": [
  {
   "cell_type": "code",
   "execution_count": null,
   "metadata": {},
   "outputs": [],
   "source": [
    "class Solution:\n",
    "    def maxOperations(self, nums: List[int], k: int) -> int:\n",
    "        start=0\n",
    "        end=len(nums)-1\n",
    "        nums.sort()\n",
    "        count=0\n",
    "        while start<end:\n",
    "            sum = nums[start]+nums[end]\n",
    "            if sum < k:\n",
    "                start+=1\n",
    "                continue\n",
    "            if sum > k:\n",
    "                end-=1\n",
    "                continue\n",
    "            count+=1\n",
    "            start+=1\n",
    "            end-=1\n",
    "        return count"
   ]
  }
 ],
 "metadata": {
  "language_info": {
   "name": "python"
  },
  "orig_nbformat": 4
 },
 "nbformat": 4,
 "nbformat_minor": 2
}
