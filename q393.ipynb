{
 "cells": [
  {
   "cell_type": "code",
   "execution_count": 90,
   "metadata": {},
   "outputs": [],
   "source": [
    "from typing import *\n",
    "\n",
    "class Solution:\n",
    "    def validUtf8(self, data: List[int]) -> bool:\n",
    "        startid = 0\n",
    "        while startid < len(data):\n",
    "            nb = 0\n",
    "            firstByte = data[startid]\n",
    "            if firstByte & 128 == 0:\n",
    "                startid += 1\n",
    "                continue\n",
    "            e2 = 2**7\n",
    "            while nb < 8 and firstByte & e2 == e2:\n",
    "                nb += 1\n",
    "                e2 //= 2\n",
    "            if nb == 1 or nb > 4:\n",
    "                return False\n",
    "            if len(data[startid:]) < nb:\n",
    "                return False\n",
    "            for i in range(startid+1, startid+nb):\n",
    "                if data[i] & 128 != 128:\n",
    "                    return False\n",
    "            startid += nb"
   ]
  },
  {
   "cell_type": "code",
   "execution_count": 91,
   "metadata": {},
   "outputs": [
    {
     "data": {
      "text/plain": [
       "False"
      ]
     },
     "execution_count": 91,
     "metadata": {},
     "output_type": "execute_result"
    }
   ],
   "source": [
    "Solution().validUtf8([250,145,145,145,145])"
   ]
  }
 ],
 "metadata": {
  "kernelspec": {
   "display_name": "Python 3.10.6 64-bit",
   "language": "python",
   "name": "python3"
  },
  "language_info": {
   "codemirror_mode": {
    "name": "ipython",
    "version": 3
   },
   "file_extension": ".py",
   "mimetype": "text/x-python",
   "name": "python",
   "nbconvert_exporter": "python",
   "pygments_lexer": "ipython3",
   "version": "3.10.6"
  },
  "orig_nbformat": 4,
  "vscode": {
   "interpreter": {
    "hash": "f15627b29e15848638e903c52dd09ae6c4c9adb1719aae45dda3850ec7954c19"
   }
  }
 },
 "nbformat": 4,
 "nbformat_minor": 2
}
