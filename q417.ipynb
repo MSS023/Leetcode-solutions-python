{
 "cells": [
  {
   "cell_type": "code",
   "execution_count": 10,
   "metadata": {},
   "outputs": [],
   "source": [
    "class Solution:\n",
    "    def pacificAtlantic(self, ht: List[List[int]]) -> List[List[int]]:\n",
    "        \n",
    "        def pac(i,j):\n",
    "            if rp[i][j]:\n",
    "                return True\n",
    "            k=False\n",
    "            h=ht[i][j]\n",
    "            ht[i][j]=100001\n",
    "            if ht[i-1][j]<=h:\n",
    "                k=k or pac(i-1,j)\n",
    "                \n",
    "            if ht[i][j-1]<=h:\n",
    "                k=k or pac(i,j-1)\n",
    "                \n",
    "            if i<m-1 and ht[i+1][j]<=h:\n",
    "                k=k or pac(i+1,j)\n",
    "                \n",
    "            if j<n-1 and ht[i][j+1]<=h:\n",
    "                k=k or pac(i,j+1)\n",
    "                \n",
    "            ht[i][j]=h\n",
    "            rp[i][j]=k\n",
    "            return k\n",
    "        \n",
    "        def ant(i,j):\n",
    "            if ra[i][j]:\n",
    "                return True\n",
    "            k=False\n",
    "            h=ht[i][j]\n",
    "            ht[i][j]=100001\n",
    "            if i>0 and ht[i-1][j]<=h:\n",
    "                k=k or ant(i-1,j)\n",
    "                \n",
    "            if j>0 and ht[i][j-1]<=h:\n",
    "                k=k or ant(i,j-1)\n",
    "                \n",
    "            if ht[i+1][j]<=h:\n",
    "                k=k or ant(i+1,j)\n",
    "                \n",
    "            if ht[i][j+1]<=h:\n",
    "                k=k or ant(i,j+1)\n",
    "                \n",
    "            ht[i][j]=h\n",
    "            ra[i][j]=k\n",
    "            return k\n",
    "        \n",
    "        m=len(ht)\n",
    "        n=len(ht[0])\n",
    "        rp=[[False for i in range(n)] for j in range(m)]\n",
    "        ra=[[False for i in range(n)] for j in range(m)]\n",
    "        \n",
    "        for i in range(m):\n",
    "            rp[i][0]=True\n",
    "            ra[i][-1]=True\n",
    "        for i in range(n):\n",
    "            rp[0][i]=True\n",
    "            ra[-1][i]=True\n",
    "        \n",
    "        for i in range(m):\n",
    "            for j in range(n):\n",
    "                pac(i,j)\n",
    "                ant(i,j)\n",
    "        res=[]\n",
    "        for i in range(m):\n",
    "            for j in range(n):\n",
    "                if rp[i][j] and ra[i][j]:\n",
    "                    res.append([i,j])\n",
    "        return res"
   ]
  },
  {
   "cell_type": "code",
   "execution_count": 11,
   "metadata": {},
   "outputs": [
    {
     "data": {
      "text/plain": [
       "[[0, 4], [1, 3], [1, 4], [2, 2], [3, 0], [3, 1], [4, 0]]"
      ]
     },
     "execution_count": 11,
     "metadata": {},
     "output_type": "execute_result"
    }
   ],
   "source": [
    "Solution().pacificAtlantic([[1,2,2,3,5],[3,2,3,4,4],[2,4,5,3,1],[6,7,1,4,5],[5,1,1,2,4]])"
   ]
  }
 ],
 "metadata": {
  "kernelspec": {
   "display_name": "Python 3.10.6 64-bit",
   "language": "python",
   "name": "python3"
  },
  "language_info": {
   "codemirror_mode": {
    "name": "ipython",
    "version": 3
   },
   "file_extension": ".py",
   "mimetype": "text/x-python",
   "name": "python",
   "nbconvert_exporter": "python",
   "pygments_lexer": "ipython3",
   "version": "3.10.6"
  },
  "orig_nbformat": 4,
  "vscode": {
   "interpreter": {
    "hash": "f15627b29e15848638e903c52dd09ae6c4c9adb1719aae45dda3850ec7954c19"
   }
  }
 },
 "nbformat": 4,
 "nbformat_minor": 2
}
