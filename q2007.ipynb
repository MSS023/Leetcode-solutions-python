{
 "cells": [
  {
   "cell_type": "code",
   "execution_count": 54,
   "metadata": {},
   "outputs": [],
   "source": [
    "from typing import *\n",
    "\n",
    "class Solution:\n",
    "    def findOriginalArray(self, changed: List[int]) -> List[int]:\n",
    "        if len(changed) <= 1 or len(changed) % 2 == 1:\n",
    "            return []\n",
    "        changed.sort()\n",
    "        diction = {num: idx for idx,num in enumerate(changed)}\n",
    "        count = 0\n",
    "        idx = 0\n",
    "        while idx < len(changed):\n",
    "            if changed[idx] * 2 not in diction or changed[diction[changed[idx]*2]-count] != changed[idx]*2:\n",
    "                return []\n",
    "            idx2 = diction[changed[idx]*2] - count\n",
    "            changed.pop(idx2)\n",
    "            count += 1\n",
    "            if idx != idx2: idx += 1\n",
    "        for i in changed:\n",
    "            if i*2 not in diction:\n",
    "                return []\n",
    "        return changed"
   ]
  },
  {
   "cell_type": "code",
   "execution_count": 67,
   "metadata": {},
   "outputs": [],
   "source": [
    "from collections import Counter\n",
    "\n",
    "class Solution:\n",
    "    def findOriginalArray(self, changed: List[int]) -> List[int]:\n",
    "        if len(changed) % 2 == 1:\n",
    "            return []\n",
    "        res = []\n",
    "        changed.sort()\n",
    "        diction = Counter(changed)\n",
    "        for i in changed:\n",
    "            if diction[i] == 0:\n",
    "                continue\n",
    "            if i*2 not in diction or diction[i*2] == 0:\n",
    "                return []\n",
    "            diction[i*2] -= 1\n",
    "            diction[i] -= 1\n",
    "            res.append(i)\n",
    "        return res"
   ]
  },
  {
   "cell_type": "code",
   "execution_count": 68,
   "metadata": {},
   "outputs": [
    {
     "name": "stdout",
     "output_type": "stream",
     "text": [
      "0\n",
      "0\n"
     ]
    },
    {
     "data": {
      "text/plain": [
       "[0, 0]"
      ]
     },
     "execution_count": 68,
     "metadata": {},
     "output_type": "execute_result"
    }
   ],
   "source": [
    "Solution().findOriginalArray([0,0,0,0])"
   ]
  }
 ],
 "metadata": {
  "kernelspec": {
   "display_name": "Python 3.10.6 64-bit",
   "language": "python",
   "name": "python3"
  },
  "language_info": {
   "codemirror_mode": {
    "name": "ipython",
    "version": 3
   },
   "file_extension": ".py",
   "mimetype": "text/x-python",
   "name": "python",
   "nbconvert_exporter": "python",
   "pygments_lexer": "ipython3",
   "version": "3.10.6"
  },
  "orig_nbformat": 4,
  "vscode": {
   "interpreter": {
    "hash": "f15627b29e15848638e903c52dd09ae6c4c9adb1719aae45dda3850ec7954c19"
   }
  }
 },
 "nbformat": 4,
 "nbformat_minor": 2
}
