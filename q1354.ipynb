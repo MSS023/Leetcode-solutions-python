{
 "cells": [
  {
   "cell_type": "code",
   "execution_count": 34,
   "metadata": {},
   "outputs": [],
   "source": [
    "import heapq\n",
    "\n",
    "class Solution:\n",
    "    def isPossible(self, target: list[int]) -> bool:\n",
    "        if len(target) <= 1:\n",
    "            if target[0] == 1:\n",
    "                return True\n",
    "            return False\n",
    "        target = [-i for i in target] #to create maxheap using heapq\n",
    "        heapq.heapify(target)\n",
    "        sumArray = -sum(target)\n",
    "        while True:\n",
    "            maxm = -target[0]\n",
    "            sumArray -= maxm\n",
    "            if (maxm == 1) or sumArray == 1:\n",
    "                return True\n",
    "            if sumArray >= maxm or maxm%sumArray == 0:\n",
    "                return False\n",
    "            maxm = maxm%sumArray\n",
    "            sumArray += maxm\n",
    "            heapq.heapreplace(target,-maxm) #entered negative number because we want to replace in a maxheap"
   ]
  },
  {
   "cell_type": "code",
   "execution_count": 35,
   "metadata": {},
   "outputs": [
    {
     "data": {
      "text/plain": [
       "False"
      ]
     },
     "execution_count": 35,
     "metadata": {},
     "output_type": "execute_result"
    }
   ],
   "source": [
    "Solution().isPossible([2,900000002])"
   ]
  }
 ],
 "metadata": {
  "kernelspec": {
   "display_name": "Python 3.10.2 64-bit",
   "language": "python",
   "name": "python3"
  },
  "language_info": {
   "codemirror_mode": {
    "name": "ipython",
    "version": 3
   },
   "file_extension": ".py",
   "mimetype": "text/x-python",
   "name": "python",
   "nbconvert_exporter": "python",
   "pygments_lexer": "ipython3",
   "version": "3.10.2"
  },
  "orig_nbformat": 4,
  "vscode": {
   "interpreter": {
    "hash": "7fa5c2bbde354df5fb32f89863fd9628b3718657b842099e0733f1c707419bc4"
   }
  }
 },
 "nbformat": 4,
 "nbformat_minor": 2
}
