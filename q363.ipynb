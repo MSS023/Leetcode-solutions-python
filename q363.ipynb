{
 "cells": [
  {
   "cell_type": "code",
   "execution_count": 2,
   "metadata": {},
   "outputs": [],
   "source": [
    "from bisect import bisect_right, insort\n",
    "from math import inf\n",
    "from typing import *\n",
    "\n",
    "class Solution:\n",
    "    def maxSumSubmatrix(self, matrix: List[List[int]], k: int) -> int:\n",
    "        m, n = len(matrix), len(matrix[0])\n",
    "        res = -inf\n",
    "        for l in range(n):\n",
    "            rowSums = [0] * m\n",
    "            for r in range(l, n):\n",
    "                for i in range(m):\n",
    "                    rowSums[i] += matrix[i][r]\n",
    "                colSums = [0]\n",
    "                colSum = 0\n",
    "                for rowSum in rowSums:\n",
    "                    colSum += rowSum\n",
    "                    diff = colSum - k\n",
    "                    idx = bisect_right(colSums, diff)\n",
    "                    if idx - 1 >= 0 and colSums[idx - 1] == diff:\n",
    "                        res = max(res, colSum - colSums[idx - 1])\n",
    "                        return k\n",
    "                    elif idx != len(colSums):\n",
    "                        res = max(res, colSum - colSums[idx])\n",
    "                    insort(colSums, colSum)\n",
    "        return res"
   ]
  }
 ],
 "metadata": {
  "kernelspec": {
   "display_name": "Python 3.10.6 64-bit",
   "language": "python",
   "name": "python3"
  },
  "language_info": {
   "codemirror_mode": {
    "name": "ipython",
    "version": 3
   },
   "file_extension": ".py",
   "mimetype": "text/x-python",
   "name": "python",
   "nbconvert_exporter": "python",
   "pygments_lexer": "ipython3",
   "version": "3.10.6"
  },
  "orig_nbformat": 4,
  "vscode": {
   "interpreter": {
    "hash": "f15627b29e15848638e903c52dd09ae6c4c9adb1719aae45dda3850ec7954c19"
   }
  }
 },
 "nbformat": 4,
 "nbformat_minor": 2
}
