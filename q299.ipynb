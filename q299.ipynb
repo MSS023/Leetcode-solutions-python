{
 "cells": [
  {
   "cell_type": "code",
   "execution_count": 19,
   "metadata": {},
   "outputs": [],
   "source": [
    "class Solution:\n",
    "    def getHint(self, secret: str, guess: str) -> str:\n",
    "        diction1 = {}\n",
    "        for idx, i in enumerate(secret):\n",
    "            if i in diction1:\n",
    "                diction1[i].add(idx)\n",
    "            else:\n",
    "                diction1[i] = set([idx])\n",
    "        diction2 = {}\n",
    "        for idx, i in enumerate(guess):\n",
    "            if i in diction2:\n",
    "                diction2[i].add(idx)\n",
    "            else:\n",
    "                diction2[i] = set([idx])\n",
    "        a = 0\n",
    "        b = 0\n",
    "        for i in diction1:\n",
    "            if i not in diction2:\n",
    "                continue\n",
    "            num = diction1[i].intersection(diction2[i])\n",
    "            a += len(num)\n",
    "            diction1[i] -= num\n",
    "            diction2[i] -= num\n",
    "            b += min(len(diction1[i]),len(diction2[i]))\n",
    "        return \"{}A{}B\".format(a,b)"
   ]
  },
  {
   "cell_type": "code",
   "execution_count": 20,
   "metadata": {},
   "outputs": [
    {
     "data": {
      "text/plain": [
       "'3A0B'"
      ]
     },
     "execution_count": 20,
     "metadata": {},
     "output_type": "execute_result"
    }
   ],
   "source": [
    "Solution().getHint(\"1122\",\"1222\")"
   ]
  }
 ],
 "metadata": {
  "kernelspec": {
   "display_name": "Python 3.10.6 64-bit",
   "language": "python",
   "name": "python3"
  },
  "language_info": {
   "codemirror_mode": {
    "name": "ipython",
    "version": 3
   },
   "file_extension": ".py",
   "mimetype": "text/x-python",
   "name": "python",
   "nbconvert_exporter": "python",
   "pygments_lexer": "ipython3",
   "version": "3.10.6"
  },
  "orig_nbformat": 4,
  "vscode": {
   "interpreter": {
    "hash": "f15627b29e15848638e903c52dd09ae6c4c9adb1719aae45dda3850ec7954c19"
   }
  }
 },
 "nbformat": 4,
 "nbformat_minor": 2
}
