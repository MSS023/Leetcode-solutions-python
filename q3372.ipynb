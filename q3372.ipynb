{
 "cells": [
  {
   "cell_type": "code",
   "execution_count": 1,
   "id": "46f753f8",
   "metadata": {},
   "outputs": [],
   "source": [
    "from typing import *"
   ]
  },
  {
   "cell_type": "code",
   "execution_count": 23,
   "id": "4721198c",
   "metadata": {},
   "outputs": [],
   "source": [
    "class Solution:\n",
    "    def createGraph(self, edges: List[List[int]]):\n",
    "        n = len(edges) + 1\n",
    "        graph = [[] for _ in range(n)]\n",
    "\n",
    "        for a,b in edges:\n",
    "            graph[a].append(b)\n",
    "            graph[b].append(a)\n",
    "\n",
    "        return graph\n",
    "    \n",
    "    def dfs(self, node: int, graph: List[List[int]], k: int, stack: List[bool]):\n",
    "        count = 1\n",
    "        if k == 0:\n",
    "            return count\n",
    "        stack[node] = True\n",
    "        for n in graph[node]:\n",
    "            if stack[n] == True:\n",
    "                continue\n",
    "            count += self.dfs(n, graph, k - 1, stack)\n",
    "        stack[node] = False\n",
    "        return count\n",
    "\n",
    "    def maxTargetNodes(self, edges1: List[List[int]], edges2: List[List[int]], k: int) -> List[int]:\n",
    "        graph1 = self.createGraph(edges1)\n",
    "        graph2 = self.createGraph(edges2)\n",
    "\n",
    "        n,m = len(graph1),len(graph2)\n",
    "\n",
    "        result = [1]*n\n",
    "\n",
    "        if k == 0:\n",
    "            return result\n",
    "        \n",
    "        stack = [False] * n\n",
    "        stack2 = [False] * m\n",
    "        self.memo2 = [None]*m\n",
    "        \n",
    "        for n1 in range(n):\n",
    "            count = self.dfs(n1, graph1, k, stack)\n",
    "            maxm = 0\n",
    "            for n2 in range(m):\n",
    "                if self.memo2[n2] is not None:\n",
    "                    maxm = max(maxm, self.memo2[n2])\n",
    "                    continue\n",
    "                res = self.dfs(n2, graph2, k-1, stack2)\n",
    "                maxm = max(maxm, res)\n",
    "                self.memo2[n2] = res\n",
    "            count += maxm\n",
    "            result[n1] = count\n",
    "        \n",
    "        return result"
   ]
  },
  {
   "cell_type": "code",
   "execution_count": 25,
   "id": "37eb81b4",
   "metadata": {},
   "outputs": [
    {
     "name": "stdout",
     "output_type": "stream",
     "text": [
      "[9, 7, 9, 8, 8]\n",
      "[6, 3, 3, 3, 3]\n"
     ]
    }
   ],
   "source": [
    "print(Solution().maxTargetNodes([[0, 1], [0, 2], [2, 3], [2, 4]], [\n",
    "      [0, 1], [0, 2], [0, 3], [2, 7], [1, 4], [4, 5], [4, 6]], 2))\n",
    "print(Solution().maxTargetNodes(\n",
    "    [[0, 1], [0, 2], [0, 3], [0, 4]], [[0, 1], [1, 2], [2, 3]], 1))"
   ]
  }
 ],
 "metadata": {
  "kernelspec": {
   "display_name": "Python 3",
   "language": "python",
   "name": "python3"
  },
  "language_info": {
   "codemirror_mode": {
    "name": "ipython",
    "version": 3
   },
   "file_extension": ".py",
   "mimetype": "text/x-python",
   "name": "python",
   "nbconvert_exporter": "python",
   "pygments_lexer": "ipython3",
   "version": "3.10.11"
  }
 },
 "nbformat": 4,
 "nbformat_minor": 5
}
