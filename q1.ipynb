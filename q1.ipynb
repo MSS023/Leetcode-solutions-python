{
 "cells": [
  {
   "cell_type": "code",
   "execution_count": null,
   "metadata": {},
   "outputs": [],
   "source": [
    "class Solution:\n",
    "    def twoSum(self, nums, target):\n",
    "        for index1,i in enumerate(nums):\n",
    "            num2=target-i\n",
    "            for index2 in range(index1+1,len(nums)):\n",
    "                if num2==nums[index2]:\n",
    "                    return [index1,index2]\n",
    "\n",
    "sol=Solution()\n",
    "print(sol.twoSum([3,2,4],6))"
   ]
  }
 ],
 "metadata": {
  "language_info": {
   "name": "python"
  },
  "orig_nbformat": 4
 },
 "nbformat": 4,
 "nbformat_minor": 2
}
