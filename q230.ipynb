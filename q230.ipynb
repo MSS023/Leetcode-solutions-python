{
 "cells": [
  {
   "cell_type": "code",
   "execution_count": null,
   "metadata": {},
   "outputs": [],
   "source": [
    "# Definition for a binary tree node.\n",
    "# class TreeNode:\n",
    "#     def __init__(self, val=0, left=None, right=None):\n",
    "#         self.val = val\n",
    "#         self.left = left\n",
    "#         self.right = right\n",
    "class Solution:\n",
    "    def kthSmallest(self, root: Optional[TreeNode], k: int) -> int:\n",
    "        arr=[]\n",
    "        def inorderTraversal(root,arr,k):\n",
    "            if root is None or len(arr)>=k:\n",
    "                return arr\n",
    "            arr=inorderTraversal(root.left,arr,k)\n",
    "            arr.append(root.val)\n",
    "            arr=inorderTraversal(root.right,arr,k)\n",
    "            return arr\n",
    "        inorderTraversal(root,arr,k)\n",
    "        return arr[k-1]"
   ]
  }
 ],
 "metadata": {
  "language_info": {
   "name": "python"
  },
  "orig_nbformat": 4
 },
 "nbformat": 4,
 "nbformat_minor": 2
}
