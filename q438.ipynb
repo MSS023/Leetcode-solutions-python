{
 "cells": [
  {
   "cell_type": "code",
   "execution_count": 27,
   "metadata": {},
   "outputs": [],
   "source": [
    "from collections import Counter\n",
    "\n",
    "class Solution:\n",
    "    def findAnagrams(self, s: str, p: str) -> list[int]:\n",
    "        if len(s)==0 or len(p)==0 or len(s)<len(p):\n",
    "            return []\n",
    "        dictionary=Counter(p)\n",
    "        n=len(p)\n",
    "        temp=Counter(s[0:n])\n",
    "        res=[]\n",
    "        if temp==dictionary:\n",
    "            res.append(0)\n",
    "        for i in range(1,len(s)-n+1):\n",
    "            temp[s[i-1]]-=1\n",
    "            if s[i+n-1] in temp:\n",
    "                temp[s[i+n-1]]+=1\n",
    "            else:\n",
    "                temp[s[i+n-1]]=1\n",
    "            flag=True\n",
    "            for j in dictionary:\n",
    "                if temp[j]!=dictionary[j]:\n",
    "                    flag=False\n",
    "                    break\n",
    "            if flag:\n",
    "                res.append(i)\n",
    "        return res"
   ]
  },
  {
   "cell_type": "code",
   "execution_count": 28,
   "metadata": {},
   "outputs": [
    {
     "name": "stdout",
     "output_type": "stream",
     "text": [
      "abab\n",
      "1 a a Counter({'a': 1, 'b': 1}) Counter({'a': 1, 'b': 1})\n",
      "2 b b Counter({'a': 1, 'b': 1}) Counter({'a': 1, 'b': 1})\n",
      "[0, 1, 2]\n"
     ]
    }
   ],
   "source": [
    "sol=Solution()\n",
    "print(sol.findAnagrams(input(),input()))"
   ]
  }
 ],
 "metadata": {
  "interpreter": {
   "hash": "84c7cd761066ce45b8a789f7b09f72a3209628e136df7af6e1c369b4f2245113"
  },
  "kernelspec": {
   "display_name": "Python 3.10.2 64-bit",
   "language": "python",
   "name": "python3"
  },
  "language_info": {
   "codemirror_mode": {
    "name": "ipython",
    "version": 3
   },
   "file_extension": ".py",
   "mimetype": "text/x-python",
   "name": "python",
   "nbconvert_exporter": "python",
   "pygments_lexer": "ipython3",
   "version": "3.10.2"
  },
  "orig_nbformat": 4
 },
 "nbformat": 4,
 "nbformat_minor": 2
}
