{
 "cells": [
  {
   "cell_type": "code",
   "execution_count": 2,
   "metadata": {},
   "outputs": [],
   "source": [
    "class Solution:\n",
    "    def minOperations(self, nums: list[int], x: int) -> int:\n",
    "        target = sum(nums) - x\n",
    "        curr_sum, max_len = 0, 0\n",
    "        start_idx = 0\n",
    "        found = False\n",
    "        for end_idx in range(len(nums)):\n",
    "            curr_sum += nums[end_idx]\n",
    "            while start_idx <= end_idx and curr_sum > target:\n",
    "                curr_sum -= nums[start_idx]\n",
    "                start_idx += 1\n",
    "            if curr_sum == target:\n",
    "                found = True\n",
    "                max_len = max(max_len, end_idx - start_idx + 1)\n",
    "\n",
    "        return len(nums) - max_len if found else -1"
   ]
  }
 ],
 "metadata": {
  "kernelspec": {
   "display_name": "Python 3.10.2 64-bit",
   "language": "python",
   "name": "python3"
  },
  "language_info": {
   "codemirror_mode": {
    "name": "ipython",
    "version": 3
   },
   "file_extension": ".py",
   "mimetype": "text/x-python",
   "name": "python",
   "nbconvert_exporter": "python",
   "pygments_lexer": "ipython3",
   "version": "3.10.2"
  },
  "orig_nbformat": 4,
  "vscode": {
   "interpreter": {
    "hash": "7fa5c2bbde354df5fb32f89863fd9628b3718657b842099e0733f1c707419bc4"
   }
  }
 },
 "nbformat": 4,
 "nbformat_minor": 2
}
