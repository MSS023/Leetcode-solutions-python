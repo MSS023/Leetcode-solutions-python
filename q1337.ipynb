{
 "cells": [
  {
   "cell_type": "code",
   "execution_count": null,
   "metadata": {},
   "outputs": [],
   "source": [
    "class Solution:\n",
    "    def kWeakestRows(self, mat: List[List[int]], k: int) -> List[int]:\n",
    "        arr=[sum(x) for x in mat]\n",
    "        res=[]\n",
    "        for i in range(k):\n",
    "            min=0\n",
    "            for j in range(1,len(arr)):\n",
    "                if arr[j]<arr[min]:\n",
    "                    min=j\n",
    "            res.append(min)\n",
    "            arr[min]=200\n",
    "        return res"
   ]
  }
 ],
 "metadata": {
  "language_info": {
   "name": "python"
  },
  "orig_nbformat": 4
 },
 "nbformat": 4,
 "nbformat_minor": 2
}
