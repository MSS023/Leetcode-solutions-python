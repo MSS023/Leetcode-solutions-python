{
 "cells": [
  {
   "cell_type": "code",
   "execution_count": 15,
   "metadata": {},
   "outputs": [],
   "source": [
    "import re\n",
    "from typing import *\n",
    "\n",
    "class Solution:\n",
    "    def movesToStamp(self, stamp: str, target: str) -> List[int]:\n",
    "        def makePattern(s):\n",
    "            res = \"[\"\n",
    "            for i in s:\n",
    "                res += i+\"?][\"\n",
    "            return res[:len(res)-1]\n",
    "        pattern = makePattern(stamp)\n",
    "        check = \"\".join([\"?\" for _ in target])\n",
    "        res = []\n",
    "        while True:\n",
    "            flag = True\n",
    "            if target == check:\n",
    "                return res\n",
    "            idx = 0\n",
    "            while idx < len(target):\n",
    "                if target[idx:idx+len(stamp)] == check[:len(stamp)]:\n",
    "                    idx += 1\n",
    "                    continue\n",
    "                if re.match(pattern,target[idx:idx+len(stamp)]) is not None:\n",
    "                    target = target[:idx] + check[:len(stamp)] + target[idx+len(stamp):]\n",
    "                    res.insert(0,idx)\n",
    "                    idx += len(stamp)\n",
    "                    flag = False\n",
    "                    continue\n",
    "                idx += 1\n",
    "            if flag:\n",
    "                return []"
   ]
  },
  {
   "cell_type": "code",
   "execution_count": 16,
   "metadata": {},
   "outputs": [
    {
     "data": {
      "text/plain": [
       "[3, 0, 1]"
      ]
     },
     "execution_count": 16,
     "metadata": {},
     "output_type": "execute_result"
    }
   ],
   "source": [
    "Solution().movesToStamp(\"abca\",\"aabcaca\")"
   ]
  }
 ],
 "metadata": {
  "kernelspec": {
   "display_name": "Python 3.10.6 64-bit",
   "language": "python",
   "name": "python3"
  },
  "language_info": {
   "codemirror_mode": {
    "name": "ipython",
    "version": 3
   },
   "file_extension": ".py",
   "mimetype": "text/x-python",
   "name": "python",
   "nbconvert_exporter": "python",
   "pygments_lexer": "ipython3",
   "version": "3.10.6"
  },
  "orig_nbformat": 4,
  "vscode": {
   "interpreter": {
    "hash": "f15627b29e15848638e903c52dd09ae6c4c9adb1719aae45dda3850ec7954c19"
   }
  }
 },
 "nbformat": 4,
 "nbformat_minor": 2
}
