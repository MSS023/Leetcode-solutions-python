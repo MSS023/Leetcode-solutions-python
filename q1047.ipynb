{
 "cells": [
  {
   "cell_type": "code",
   "execution_count": null,
   "metadata": {},
   "outputs": [],
   "source": [
    "class Solution:\n",
    "    def removeDuplicates(self, s: str) -> str:\n",
    "        stack = [s[0]]\n",
    "        for idx in range(1,len(s)):\n",
    "            if stack and stack[-1] == s[idx]:\n",
    "                stack.pop()\n",
    "            else:\n",
    "                stack.append(s[idx])\n",
    "        return \"\".join(stack)"
   ]
  }
 ],
 "metadata": {
  "kernelspec": {
   "display_name": "Python 3.10.6 64-bit",
   "language": "python",
   "name": "python3"
  },
  "language_info": {
   "name": "python",
   "version": "3.10.6"
  },
  "orig_nbformat": 4,
  "vscode": {
   "interpreter": {
    "hash": "f15627b29e15848638e903c52dd09ae6c4c9adb1719aae45dda3850ec7954c19"
   }
  }
 },
 "nbformat": 4,
 "nbformat_minor": 2
}
