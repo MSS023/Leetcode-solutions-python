{
 "cells": [
  {
   "cell_type": "code",
   "execution_count": 1,
   "id": "3f2dd8b4",
   "metadata": {},
   "outputs": [],
   "source": [
    "from typing import *"
   ]
  },
  {
   "cell_type": "code",
   "execution_count": 2,
   "id": "ca87c0d2",
   "metadata": {},
   "outputs": [],
   "source": [
    "class Solution:\n",
    "    def maxAdjacentDistance(self, nums: List[int]) -> int:\n",
    "        maxm = 0\n",
    "        n = len(nums)\n",
    "        for idx in range(n):\n",
    "            maxm = max(maxm, abs(nums[idx] - nums[idx-1]))\n",
    "        return maxm"
   ]
  },
  {
   "cell_type": "code",
   "execution_count": 3,
   "id": "9ad9b916",
   "metadata": {},
   "outputs": [
    {
     "name": "stdout",
     "output_type": "stream",
     "text": [
      "3\n"
     ]
    }
   ],
   "source": [
    "print(Solution().maxAdjacentDistance([1,2,4]))"
   ]
  }
 ],
 "metadata": {
  "kernelspec": {
   "display_name": "Python 3",
   "language": "python",
   "name": "python3"
  },
  "language_info": {
   "codemirror_mode": {
    "name": "ipython",
    "version": 3
   },
   "file_extension": ".py",
   "mimetype": "text/x-python",
   "name": "python",
   "nbconvert_exporter": "python",
   "pygments_lexer": "ipython3",
   "version": "3.10.11"
  }
 },
 "nbformat": 4,
 "nbformat_minor": 5
}
