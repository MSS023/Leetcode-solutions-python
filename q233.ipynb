{
 "cells": [
  {
   "cell_type": "code",
   "execution_count": 21,
   "metadata": {},
   "outputs": [],
   "source": [
    "class Solution:\n",
    "    def countDigitOne(self, n: int) -> int:\n",
    "        num = str(n)[::-1]\n",
    "        count = 0\n",
    "        for i in range(len(num)-1, -1, -1):\n",
    "            pv = 10**i  # placevalue\n",
    "            # mulitplicity of current digit (how many times it will be repeated)\n",
    "            mul = n//(pv*10)\n",
    "            rem = n % pv  # remainder of current place value\n",
    "            count += mul * pv  # count for number of times 1 occurs in this place when the current digit is considered to be less than 1\n",
    "            # if the current digit is greater than 1 then additional number of 1's are added to the count (equivalent to the place value)\n",
    "            if num[i] > '1':\n",
    "                count += pv\n",
    "            # if the current digit is equal to 1 then additional number of 1's are added to the count (equivalent to the number modded by the current place value)\n",
    "            if num[i] == '1':\n",
    "                count += rem + 1\n",
    "        return count\n"
   ]
  },
  {
   "cell_type": "code",
   "execution_count": 22,
   "metadata": {},
   "outputs": [
    {
     "data": {
      "text/plain": [
       "6"
      ]
     },
     "execution_count": 22,
     "metadata": {},
     "output_type": "execute_result"
    }
   ],
   "source": [
    "Solution().countDigitOne(13)"
   ]
  }
 ],
 "metadata": {
  "kernelspec": {
   "display_name": "Python 3.10.2 64-bit",
   "language": "python",
   "name": "python3"
  },
  "language_info": {
   "codemirror_mode": {
    "name": "ipython",
    "version": 3
   },
   "file_extension": ".py",
   "mimetype": "text/x-python",
   "name": "python",
   "nbconvert_exporter": "python",
   "pygments_lexer": "ipython3",
   "version": "3.10.2"
  },
  "orig_nbformat": 4,
  "vscode": {
   "interpreter": {
    "hash": "7fa5c2bbde354df5fb32f89863fd9628b3718657b842099e0733f1c707419bc4"
   }
  }
 },
 "nbformat": 4,
 "nbformat_minor": 2
}
