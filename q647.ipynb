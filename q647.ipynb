{
 "cells": [
  {
   "cell_type": "code",
   "execution_count": null,
   "metadata": {},
   "outputs": [],
   "source": [
    "class Solution:\n",
    "    def countSubstrings(self, s: str) -> int:\n",
    "        def checkPalindrome(s,l,r):\n",
    "            num=0\n",
    "            while l>-1 and r<len(s) and s[l]==s[r]:\n",
    "                num+=1\n",
    "                l-=1\n",
    "                r+=1\n",
    "            return num\n",
    "        count=0\n",
    "        for i in range(len(s)):\n",
    "            count+=checkPalindrome(s,i-1,i+1)\n",
    "            count+=checkPalindrome(s,i,i+1)\n",
    "            count+=1\n",
    "        return count"
   ]
  }
 ],
 "metadata": {
  "language_info": {
   "name": "python"
  },
  "orig_nbformat": 4
 },
 "nbformat": 4,
 "nbformat_minor": 2
}
