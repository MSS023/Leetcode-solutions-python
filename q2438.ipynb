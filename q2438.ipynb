{
 "cells": [
  {
   "cell_type": "code",
   "execution_count": null,
   "metadata": {},
   "outputs": [],
   "source": [
    "class Solution:\n",
    "    def productQueries(self, n: int, queries: List[List[int]]) -> List[int]:\n",
    "        MOD = 7+10**9\n",
    "        s = \"{:0b}\".format(n)\n",
    "        powers = [1]\n",
    "        for idx, i in enumerate(s[::-1]):\n",
    "            if i == \"1\":\n",
    "                powers.append((2**idx)*powers[-1])\n",
    "        powers.pop(0)\n",
    "        res = []\n",
    "        for s,e in queries:\n",
    "            if s == 0:\n",
    "                res.append(powers[e]%MOD)\n",
    "            else:\n",
    "                res.append((powers[e]//powers[s-1])%MOD)\n",
    "        return res"
   ]
  }
 ],
 "metadata": {
  "language_info": {
   "name": "python"
  },
  "orig_nbformat": 4
 },
 "nbformat": 4,
 "nbformat_minor": 2
}
