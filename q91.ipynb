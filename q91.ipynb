{
 "cells": [
  {
   "cell_type": "code",
   "execution_count": 7,
   "metadata": {},
   "outputs": [],
   "source": [
    "class Solution:\n",
    "    def numDecodings(self, s: str) -> int:\n",
    "        if s == \"\" or s == \"0\":\n",
    "            return 0\n",
    "        diction = {str(i): 1 for i in range(1, 27)}\n",
    "        memo = {len(s)-1: 1, len(s): 1}\n",
    "        if s[-1] == \"0\":\n",
    "            memo[len(s)-1] = 0\n",
    "\n",
    "        def recursive(s, idx):\n",
    "            count = 0\n",
    "            if idx == len(s)-1:\n",
    "                return\n",
    "            recursive(s, idx+1)\n",
    "            if s[idx] == \"0\":\n",
    "                memo[idx] = 0\n",
    "                return\n",
    "            if idx in memo:\n",
    "                return memo[idx]\n",
    "            count += (1*memo[idx+1] if s[idx] != \"0\" else 0) + (diction[s[idx:idx+2]]\n",
    "                                                                * memo[idx+2] if idx < len(s)-1 and s[idx:idx+2] in diction else 0)\n",
    "            memo[idx] = count\n",
    "        recursive(s, 0)\n",
    "        return memo[0]\n"
   ]
  },
  {
   "cell_type": "code",
   "execution_count": 8,
   "metadata": {},
   "outputs": [
    {
     "data": {
      "text/plain": [
       "3"
      ]
     },
     "execution_count": 8,
     "metadata": {},
     "output_type": "execute_result"
    }
   ],
   "source": [
    "Solution().numDecodings(\"1201234\")\n"
   ]
  }
 ],
 "metadata": {
  "kernelspec": {
   "display_name": "Python 3.10.6 64-bit",
   "language": "python",
   "name": "python3"
  },
  "language_info": {
   "codemirror_mode": {
    "name": "ipython",
    "version": 3
   },
   "file_extension": ".py",
   "mimetype": "text/x-python",
   "name": "python",
   "nbconvert_exporter": "python",
   "pygments_lexer": "ipython3",
   "version": "3.10.6"
  },
  "orig_nbformat": 4,
  "vscode": {
   "interpreter": {
    "hash": "f15627b29e15848638e903c52dd09ae6c4c9adb1719aae45dda3850ec7954c19"
   }
  }
 },
 "nbformat": 4,
 "nbformat_minor": 2
}
