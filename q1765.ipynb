{
 "cells": [
  {
   "cell_type": "code",
   "execution_count": 3,
   "metadata": {},
   "outputs": [],
   "source": [
    "from typing import *"
   ]
  },
  {
   "cell_type": "code",
   "execution_count": 22,
   "metadata": {},
   "outputs": [],
   "source": [
    "class Solution:\n",
    "    def getNeighbors(self, r: int, c: int, height: int) -> List[Tuple[int]]:\n",
    "        queue = []\n",
    "        if r < self.m-1 and (self.heights[r+1][c] is None or self.heights[r+1][c] > height):\n",
    "            queue.append((r+1,c))\n",
    "        if r > 0 and (self.heights[r-1][c] is None or self.heights[r-1][c] > height):\n",
    "            queue.append((r-1,c))\n",
    "        if c < self.n-1 and (self.heights[r][c+1] is None or self.heights[r][c+1] > height):\n",
    "            queue.append((r, c+1))\n",
    "        if c > 0 and (self.heights[r][c-1] is None or self.heights[r][c-1] > height):\n",
    "            queue.append((r, c-1))\n",
    "        return queue\n",
    "\n",
    "    def main(self, r: int, c: int) -> None:\n",
    "        queue = [(r,c, 0)]\n",
    "        while len(queue):\n",
    "            r,c, height = queue.pop(0)\n",
    "            if self.heights[r][c] is not None and self.heights[r][c] != 0:\n",
    "                self.heights[r][c] = min(self.heights[r][c], height)\n",
    "            else:\n",
    "                self.heights[r][c] = height\n",
    "            neighbors = self.getNeighbors(r,c, height+1)\n",
    "            for nr, nc in neighbors:\n",
    "                queue.append((nr, nc, height+1))\n",
    "\n",
    "    def highestPeak(self, isWater: List[List[int]]) -> List[List[int]]:\n",
    "        water = []\n",
    "        m, n = len(isWater), len(isWater[0])\n",
    "        heights = []\n",
    "        for r in range(m):\n",
    "            row = []\n",
    "            for c in range(n):\n",
    "                if isWater[r][c] == 1:\n",
    "                    water.append((r,c))\n",
    "                    row.append(0)\n",
    "                else:\n",
    "                    row.append(None)\n",
    "            heights.append(row)\n",
    "\n",
    "        self.water = water\n",
    "        self.heights = heights\n",
    "        self.m, self.n = m, n\n",
    "        for (r,c) in water:\n",
    "            self.main(r,c)\n",
    "        return heights"
   ]
  },
  {
   "cell_type": "code",
   "execution_count": 23,
   "metadata": {},
   "outputs": [
    {
     "name": "stdout",
     "output_type": "stream",
     "text": [
      "[[1, 0], [2, 1]]\n",
      "[[1, 1, 0], [0, 1, 1], [1, 2, 2]]\n"
     ]
    }
   ],
   "source": [
    "print(Solution().highestPeak(isWater = [[0, 1],[0,0]]))\n",
    "print(Solution().highestPeak(isWater = [[0, 0,1],[1,0,0],[0,0,0]]))"
   ]
  }
 ],
 "metadata": {
  "kernelspec": {
   "display_name": "Python 3",
   "language": "python",
   "name": "python3"
  },
  "language_info": {
   "codemirror_mode": {
    "name": "ipython",
    "version": 3
   },
   "file_extension": ".py",
   "mimetype": "text/x-python",
   "name": "python",
   "nbconvert_exporter": "python",
   "pygments_lexer": "ipython3",
   "version": "3.13.1"
  }
 },
 "nbformat": 4,
 "nbformat_minor": 2
}
