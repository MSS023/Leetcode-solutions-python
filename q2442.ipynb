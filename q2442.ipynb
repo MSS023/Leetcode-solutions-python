{
 "cells": [
  {
   "cell_type": "code",
   "execution_count": null,
   "metadata": {},
   "outputs": [],
   "source": [
    "class Solution:\n",
    "    def countDistinctIntegers(self, nums: List[int]) -> int:\n",
    "        def reverse(n):\n",
    "            rev = 0\n",
    "            while n > 0:\n",
    "                mod = n % 10\n",
    "                rev = rev * 10 + mod\n",
    "                n //= 10\n",
    "            return rev\n",
    "\n",
    "        revIdx = len(nums)\n",
    "        count = Counter(nums)\n",
    "        idx = 0\n",
    "        while idx < revIdx:\n",
    "            rev = reverse(nums[idx])\n",
    "            nums.append(rev)\n",
    "            if rev in count:\n",
    "                count[rev] += 1\n",
    "            else:\n",
    "                count[rev] = 1\n",
    "            idx += 1\n",
    "        return len(count.keys())"
   ]
  }
 ],
 "metadata": {
  "language_info": {
   "name": "python"
  },
  "orig_nbformat": 4
 },
 "nbformat": 4,
 "nbformat_minor": 2
}
