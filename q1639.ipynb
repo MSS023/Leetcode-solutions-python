{
 "cells": [
  {
   "cell_type": "code",
   "execution_count": 1,
   "metadata": {},
   "outputs": [],
   "source": [
    "from typing import *"
   ]
  },
  {
   "cell_type": "code",
   "execution_count": 14,
   "metadata": {},
   "outputs": [],
   "source": [
    "class Solution:\n",
    "    def __init__(self):\n",
    "        self.memo = {}\n",
    "\n",
    "    def main(self, words: List[str], target: str, idx1: int = 0, idx2: int = 0):\n",
    "        if idx2 == len(target):\n",
    "            return 1\n",
    "\n",
    "        if idx1 == len(words[0]) or len(words[0]) - idx1 < len(target) - idx2:\n",
    "            return 0\n",
    "\n",
    "        if (idx1, idx2) in self.memo:\n",
    "            return self.memo[(idx1, idx2)]\n",
    "\n",
    "        count = 0\n",
    "        for word in words:\n",
    "            if word[idx1] == target[idx2]:\n",
    "                count += 1\n",
    "\n",
    "        result = 0\n",
    "\n",
    "        if count > 0:\n",
    "            result += count * self.main(words, target, idx1+1, idx2+1)\n",
    "\n",
    "        result += self.main(words, target, idx1+1, idx2)\n",
    "\n",
    "        self.memo[(idx1, idx2)] = result % (10**9 + 7)\n",
    "        return self.memo[(idx1, idx2)]\n",
    "\n",
    "    def numWays(self, words: List[str], target: str) -> int:\n",
    "        return self.main(words, target)"
   ]
  },
  {
   "cell_type": "code",
   "execution_count": 15,
   "metadata": {},
   "outputs": [
    {
     "data": {
      "text/plain": [
       "4"
      ]
     },
     "execution_count": 15,
     "metadata": {},
     "output_type": "execute_result"
    }
   ],
   "source": [
    "Solution().numWays(words = [\"abba\", \"baab\"], target = \"bab\")"
   ]
  }
 ],
 "metadata": {
  "kernelspec": {
   "display_name": "Python 3",
   "language": "python",
   "name": "python3"
  },
  "language_info": {
   "codemirror_mode": {
    "name": "ipython",
    "version": 3
   },
   "file_extension": ".py",
   "mimetype": "text/x-python",
   "name": "python",
   "nbconvert_exporter": "python",
   "pygments_lexer": "ipython3",
   "version": "3.13.1"
  }
 },
 "nbformat": 4,
 "nbformat_minor": 2
}
