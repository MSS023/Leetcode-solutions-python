{
 "cells": [
  {
   "cell_type": "code",
   "execution_count": 1,
   "id": "0f0a0530",
   "metadata": {},
   "outputs": [],
   "source": [
    "from typing import *"
   ]
  },
  {
   "cell_type": "code",
   "execution_count": 2,
   "id": "3ae916a7",
   "metadata": {},
   "outputs": [],
   "source": [
    "class Solution:\n",
    "    def setZeroes(self, matrix: List[List[int]]) -> None:\n",
    "        \"\"\"\n",
    "        Do not return anything, modify matrix in-place instead.\n",
    "        \"\"\"\n",
    "        n, m = len(matrix), len(matrix[0])\n",
    "        zeroPos = []\n",
    "        for r in range(n):\n",
    "            for c in range(m):\n",
    "                if matrix[r][c] == 0:\n",
    "                    zeroPos.append((r,c))\n",
    "        \n",
    "        for r,c in zeroPos:\n",
    "            for cIdx in range(m):\n",
    "                matrix[r][cIdx] = 0\n",
    "            for rIdx in range(n):\n",
    "                matrix[rIdx][c] = 0"
   ]
  },
  {
   "cell_type": "code",
   "execution_count": 5,
   "id": "5cc7abcd",
   "metadata": {},
   "outputs": [
    {
     "name": "stdout",
     "output_type": "stream",
     "text": [
      "[[1, 0, 1], [0, 0, 0], [1, 0, 1]]\n",
      "[[0, 0, 0, 0], [0, 4, 5, 0], [0, 3, 1, 0]]\n"
     ]
    }
   ],
   "source": [
    "matrix = [[1,1,1],[1,0,1],[1,1,1]]\n",
    "Solution().setZeroes(matrix)\n",
    "print(matrix)\n",
    "matrix = [[0,1,2,0],[3,4,5,2],[1,3,1,5]]\n",
    "Solution().setZeroes(matrix)\n",
    "print(matrix)"
   ]
  }
 ],
 "metadata": {
  "kernelspec": {
   "display_name": "Python 3",
   "language": "python",
   "name": "python3"
  },
  "language_info": {
   "codemirror_mode": {
    "name": "ipython",
    "version": 3
   },
   "file_extension": ".py",
   "mimetype": "text/x-python",
   "name": "python",
   "nbconvert_exporter": "python",
   "pygments_lexer": "ipython3",
   "version": "3.10.11"
  }
 },
 "nbformat": 4,
 "nbformat_minor": 5
}
