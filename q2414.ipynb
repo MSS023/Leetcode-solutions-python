{
 "cells": [
  {
   "cell_type": "code",
   "execution_count": null,
   "metadata": {},
   "outputs": [],
   "source": [
    "class Solution:\n",
    "    def longestContinuousSubstring(self, s: str) -> int:\n",
    "        nextCh = {chr(ord(\"a\")+i): chr(ord(\"a\")+i+1) for i in range(25)}\n",
    "        n = len(s)\n",
    "        maxm = 1\n",
    "        temp = 1\n",
    "        for i in range(1,n):\n",
    "            if s[i-1] in nextCh and nextCh[s[i-1]] == s[i]:\n",
    "                temp += 1\n",
    "            else:\n",
    "                temp = 1\n",
    "            maxm = max(maxm,temp)\n",
    "        return maxm"
   ]
  }
 ],
 "metadata": {
  "language_info": {
   "name": "python"
  },
  "orig_nbformat": 4
 },
 "nbformat": 4,
 "nbformat_minor": 2
}
