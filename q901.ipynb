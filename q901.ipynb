{
 "cells": [
  {
   "cell_type": "code",
   "execution_count": 9,
   "metadata": {},
   "outputs": [],
   "source": [
    "class StockSpanner:\n",
    "\n",
    "    def __init__(self):\n",
    "        self.stock = []\n",
    "        self.dp = []\n",
    "\n",
    "    def next(self, price: int) -> int:\n",
    "        if len(self.stock) == 0:\n",
    "            self.stock.append(price)\n",
    "            self.dp.append(0)\n",
    "            return 1\n",
    "        self.stock.append(price)\n",
    "        if self.stock[-1] < self.stock[-2]:\n",
    "            self.dp.append(len(self.dp))\n",
    "            return len(self.dp)-self.dp[-1]\n",
    "        temp = self.dp[-1]\n",
    "        while temp > 0:\n",
    "            while self.stock[temp] <= price:\n",
    "                prev = temp\n",
    "                temp = self.dp[temp]\n",
    "                if prev == temp:\n",
    "                    break\n",
    "            temp -= 1\n",
    "            if temp == -1 or self.stock[temp] > price:\n",
    "                temp+=1\n",
    "                break\n",
    "        self.dp.append(temp)\n",
    "        return len(self.dp) - self.dp[-1]\n",
    "\n",
    "\n",
    "# Your StockSpanner object will be instantiated and called as such:\n",
    "# obj = StockSpanner()\n",
    "# param_1 = obj.next(price)"
   ]
  },
  {
   "cell_type": "code",
   "execution_count": 10,
   "metadata": {},
   "outputs": [
    {
     "name": "stdout",
     "output_type": "stream",
     "text": [
      "1\n",
      "1\n",
      "1\n",
      "2\n",
      "1\n",
      "4\n",
      "6\n"
     ]
    }
   ],
   "source": [
    "obj = StockSpanner()\n",
    "print(obj.next(100))\n",
    "print(obj.next(80))\n",
    "print(obj.next(60))\n",
    "print(obj.next(70))\n",
    "print(obj.next(60))\n",
    "print(obj.next(75))\n",
    "print(obj.next(85))"
   ]
  }
 ],
 "metadata": {
  "kernelspec": {
   "display_name": "Python 3.10.2 64-bit",
   "language": "python",
   "name": "python3"
  },
  "language_info": {
   "codemirror_mode": {
    "name": "ipython",
    "version": 3
   },
   "file_extension": ".py",
   "mimetype": "text/x-python",
   "name": "python",
   "nbconvert_exporter": "python",
   "pygments_lexer": "ipython3",
   "version": "3.10.2"
  },
  "orig_nbformat": 4,
  "vscode": {
   "interpreter": {
    "hash": "7fa5c2bbde354df5fb32f89863fd9628b3718657b842099e0733f1c707419bc4"
   }
  }
 },
 "nbformat": 4,
 "nbformat_minor": 2
}
