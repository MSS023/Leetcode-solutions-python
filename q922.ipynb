{
 "cells": [
  {
   "cell_type": "code",
   "execution_count": 1,
   "metadata": {},
   "outputs": [],
   "source": [
    "class Solution:\n",
    "    def sortArrayByParityII(self, nums: list[int]) -> list[int]:\n",
    "        odd = 1\n",
    "        even = 0\n",
    "        while odd < len(nums) and even < len(nums):\n",
    "            while odd < len(nums):\n",
    "                if nums[odd]%2 == 0:\n",
    "                    break\n",
    "                odd += 2\n",
    "            while even < len(nums):\n",
    "                if nums[even]%2 == 1:\n",
    "                    break\n",
    "                even += 2\n",
    "            if odd >= len(nums) or even >= len(nums):\n",
    "                break\n",
    "            nums[odd],nums[even] = nums[even],nums[odd]\n",
    "        return nums"
   ]
  },
  {
   "cell_type": "code",
   "execution_count": 9,
   "metadata": {},
   "outputs": [],
   "source": [
    "class Solution:\n",
    "    def sortArrayByParityII(self, nums: list[int]) -> list[int]:\n",
    "        nums.sort(key=lambda x: x % 2, reverse = True)\n",
    "        for i in range(0,len(nums)//2,2):\n",
    "            nums[i], nums[-i-1] = nums[-i-1], nums[i]\n",
    "        return nums\n"
   ]
  },
  {
   "cell_type": "code",
   "execution_count": 10,
   "metadata": {},
   "outputs": [
    {
     "data": {
      "text/plain": [
       "[2, 7, 4, 5]"
      ]
     },
     "execution_count": 10,
     "metadata": {},
     "output_type": "execute_result"
    }
   ],
   "source": [
    "Solution().sortArrayByParityII([4,2,5,7])"
   ]
  }
 ],
 "metadata": {
  "kernelspec": {
   "display_name": "Python 3.10.2 64-bit",
   "language": "python",
   "name": "python3"
  },
  "language_info": {
   "codemirror_mode": {
    "name": "ipython",
    "version": 3
   },
   "file_extension": ".py",
   "mimetype": "text/x-python",
   "name": "python",
   "nbconvert_exporter": "python",
   "pygments_lexer": "ipython3",
   "version": "3.10.2"
  },
  "orig_nbformat": 4,
  "vscode": {
   "interpreter": {
    "hash": "7fa5c2bbde354df5fb32f89863fd9628b3718657b842099e0733f1c707419bc4"
   }
  }
 },
 "nbformat": 4,
 "nbformat_minor": 2
}
