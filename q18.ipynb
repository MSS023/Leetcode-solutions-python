{
 "cells": [
  {
   "cell_type": "code",
   "execution_count": 6,
   "metadata": {},
   "outputs": [
    {
     "data": {
      "text/plain": [
       "[[-2, 2, -1, 1], [-2, 2, 0, 0], [-1, 1, 0, 0]]"
      ]
     },
     "execution_count": 6,
     "metadata": {},
     "output_type": "execute_result"
    }
   ],
   "source": [
    "class Solution:\n",
    "    def fourSum(self, nums: List[int], target: int) -> List[List[int]]:\n",
    "        nums.sort()\n",
    "        length=len(nums)\n",
    "        index1=0\n",
    "        res=[]\n",
    "        while index1<length-3:\n",
    "            index2=length-1\n",
    "            while index2>-1 and index2>index1+2:\n",
    "                index3=index1+1\n",
    "                index4=index2-1\n",
    "                while index3<index4:\n",
    "                    val=nums[index1]+nums[index2]+nums[index3]+nums[index4]\n",
    "                    if val==target:\n",
    "                        if [nums[index1],nums[index2],nums[index3],nums[index4]] not in res:\n",
    "                            res.append([nums[index1],nums[index2],nums[index3],nums[index4]])\n",
    "                        index3+=1\n",
    "                    elif val<target:\n",
    "                        index3+=1\n",
    "                    else:\n",
    "                        index4-=1\n",
    "                index2-=1\n",
    "            index1+=1\n",
    "        return res"
   ]
  }
 ],
 "metadata": {
  "interpreter": {
   "hash": "84c7cd761066ce45b8a789f7b09f72a3209628e136df7af6e1c369b4f2245113"
  },
  "kernelspec": {
   "display_name": "Python 3.10.2 64-bit",
   "language": "python",
   "name": "python3"
  },
  "language_info": {
   "codemirror_mode": {
    "name": "ipython",
    "version": 3
   },
   "file_extension": ".py",
   "mimetype": "text/x-python",
   "name": "python",
   "nbconvert_exporter": "python",
   "pygments_lexer": "ipython3",
   "version": "3.10.2"
  },
  "orig_nbformat": 4
 },
 "nbformat": 4,
 "nbformat_minor": 2
}
