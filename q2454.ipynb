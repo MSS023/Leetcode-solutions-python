{
 "cells": [
  {
   "cell_type": "code",
   "execution_count": null,
   "metadata": {},
   "outputs": [],
   "source": [
    "class Solution:\n",
    "    def secondGreaterElement(self, nums: List[int]) -> List[int]:\n",
    "        n = len(nums)\n",
    "        if n <= 2:\n",
    "            return [-1]*n\n",
    "        ref = [-1]*n\n",
    "        ans = [-1]*n\n",
    "        for i in range(n-2,-1,-1):\n",
    "            j = i+1\n",
    "            count = 2\n",
    "            while j < n:\n",
    "                if nums[i] < nums[j]:\n",
    "                    count -= 1\n",
    "                    if count == 1:\n",
    "                        ref[i] = j\n",
    "                    if count == 0:\n",
    "                        ans[i] = nums[j]\n",
    "                        break\n",
    "                    j += 1\n",
    "                    continue\n",
    "                if nums[i] == nums[j]:\n",
    "                    if ref[j] == -1:\n",
    "                        break\n",
    "                    j = ref[j]\n",
    "                    continue\n",
    "                j = ref[j] if ref[j] != -1 else n\n",
    "        return ans"
   ]
  }
 ],
 "metadata": {
  "language_info": {
   "name": "python"
  },
  "orig_nbformat": 4
 },
 "nbformat": 4,
 "nbformat_minor": 2
}
