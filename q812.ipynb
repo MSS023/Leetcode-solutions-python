{
 "cells": [
  {
   "cell_type": "code",
   "execution_count": 1,
   "metadata": {},
   "outputs": [],
   "source": [
    "class Solution:\n",
    "    def TriangleArea(self, a: list[int], b: list[int], c: list[int]):\n",
    "        return abs(a[0]*(c[1] - b[1]) + b[0]*(a[1] - c[1]) + c[0]*(b[1] - a[1]))/2\n",
    "    \n",
    "    def largestTriangleArea(self, points: list[list[int]]) -> float:\n",
    "        maxArea = 0\n",
    "        for i in range(len(points)-2):\n",
    "            for j in range(i+1,len(points) - 1):\n",
    "                for z in range(j + 1, len(points)):\n",
    "                    newArea = self.TriangleArea(points[i], points[j], points[z])\n",
    "                    maxArea = max(maxArea, newArea)\n",
    "        return maxArea"
   ]
  }
 ],
 "metadata": {
  "kernelspec": {
   "display_name": "Python 3.10.5 64-bit",
   "language": "python",
   "name": "python3"
  },
  "language_info": {
   "codemirror_mode": {
    "name": "ipython",
    "version": 3
   },
   "file_extension": ".py",
   "mimetype": "text/x-python",
   "name": "python",
   "nbconvert_exporter": "python",
   "pygments_lexer": "ipython3",
   "version": "3.10.5"
  },
  "orig_nbformat": 4,
  "vscode": {
   "interpreter": {
    "hash": "f15627b29e15848638e903c52dd09ae6c4c9adb1719aae45dda3850ec7954c19"
   }
  }
 },
 "nbformat": 4,
 "nbformat_minor": 2
}
