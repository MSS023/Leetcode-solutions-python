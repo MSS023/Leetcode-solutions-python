{
 "cells": [
  {
   "cell_type": "code",
   "execution_count": 24,
   "metadata": {},
   "outputs": [],
   "source": [
    "class Solution:\n",
    "    def lastStoneWeight(self, stones: list[int]) -> int:\n",
    "        stones.sort()\n",
    "        while len(stones)>1:\n",
    "            stone1=stones.pop()\n",
    "            stone2=stones.pop()\n",
    "            if stone1==stone2:\n",
    "                continue\n",
    "            stone1=stone1-stone2\n",
    "            if len(stones)==0:\n",
    "                stones.append(stone1)\n",
    "                continue\n",
    "            if stones[-1]<=stone1:\n",
    "                stones.append(stone1)\n",
    "                continue\n",
    "            for key,i in enumerate(stones):\n",
    "                if i>=stone1:\n",
    "                    stones.insert(key,stone1)\n",
    "                    break\n",
    "        if stones:\n",
    "            return stones.pop()\n",
    "        return 0"
   ]
  },
  {
   "cell_type": "code",
   "execution_count": 25,
   "metadata": {},
   "outputs": [
    {
     "name": "stdout",
     "output_type": "stream",
     "text": [
      "[6, 6, 7, 7, 9]\n",
      "[2, 6, 6, 7]\n",
      "[2, 6, 6, 7]\n",
      "[1, 2, 6]\n",
      "[1, 2, 6]\n",
      "[1, 4]\n",
      "3\n"
     ]
    }
   ],
   "source": [
    "print(Solution().lastStoneWeight([int(x) for x in input().split()]))"
   ]
  }
 ],
 "metadata": {
  "interpreter": {
   "hash": "84c7cd761066ce45b8a789f7b09f72a3209628e136df7af6e1c369b4f2245113"
  },
  "kernelspec": {
   "display_name": "Python 3.10.2 64-bit",
   "language": "python",
   "name": "python3"
  },
  "language_info": {
   "codemirror_mode": {
    "name": "ipython",
    "version": 3
   },
   "file_extension": ".py",
   "mimetype": "text/x-python",
   "name": "python",
   "nbconvert_exporter": "python",
   "pygments_lexer": "ipython3",
   "version": "3.10.2"
  },
  "orig_nbformat": 4
 },
 "nbformat": 4,
 "nbformat_minor": 2
}
