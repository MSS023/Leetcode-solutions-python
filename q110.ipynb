{
 "cells": [
  {
   "cell_type": "code",
   "execution_count": 2,
   "metadata": {},
   "outputs": [],
   "source": [
    "# Definition for a binary tree node.\n",
    "class TreeNode:\n",
    "    def __init__(self, val=0, left=None, right=None):\n",
    "        self.val = val\n",
    "        self.left = left\n",
    "        self.right = right"
   ]
  },
  {
   "cell_type": "code",
   "execution_count": 8,
   "metadata": {},
   "outputs": [],
   "source": [
    "class Solution:\n",
    "    def isBalanced(self, root: TreeNode = None) -> bool:\n",
    "        if root is None:\n",
    "            return True\n",
    "        def giveHeight(node: TreeNode = None) -> int:\n",
    "            if node is None:\n",
    "                return 0\n",
    "            heightL = giveHeight(node.left)\n",
    "            if heightL == -1:\n",
    "                return -1\n",
    "            heightR = giveHeight(node.right)\n",
    "            if heightR == -1:\n",
    "                return -1\n",
    "            if abs(heightR-heightL) < 2:\n",
    "                return max(heightL,heightR)+1\n",
    "            return -1\n",
    "        if giveHeight(root) == -1:\n",
    "            return False\n",
    "        return True"
   ]
  }
 ],
 "metadata": {
  "kernelspec": {
   "display_name": "Python 3.10.2 64-bit",
   "language": "python",
   "name": "python3"
  },
  "language_info": {
   "codemirror_mode": {
    "name": "ipython",
    "version": 3
   },
   "file_extension": ".py",
   "mimetype": "text/x-python",
   "name": "python",
   "nbconvert_exporter": "python",
   "pygments_lexer": "ipython3",
   "version": "3.10.2"
  },
  "orig_nbformat": 4,
  "vscode": {
   "interpreter": {
    "hash": "7fa5c2bbde354df5fb32f89863fd9628b3718657b842099e0733f1c707419bc4"
   }
  }
 },
 "nbformat": 4,
 "nbformat_minor": 2
}
