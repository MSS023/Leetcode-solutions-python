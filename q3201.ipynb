{
 "cells": [
  {
   "cell_type": "code",
   "execution_count": 2,
   "id": "d063c923",
   "metadata": {},
   "outputs": [],
   "source": [
    "from typing import *"
   ]
  },
  {
   "cell_type": "code",
   "execution_count": 6,
   "id": "3839d024",
   "metadata": {},
   "outputs": [],
   "source": [
    "class Solution:\n",
    "    def maximumLength(self, nums: List[int]) -> int:\n",
    "        if len(nums) < 3:\n",
    "            return len(nums)\n",
    "        \n",
    "        oddCount = 0\n",
    "        evenCount = 0\n",
    "        alternateCount = 0\n",
    "        last = None\n",
    "\n",
    "        for num in nums:\n",
    "            isOdd = num & 1\n",
    "            oddCount += 1 if isOdd else 0\n",
    "            evenCount += 1 if not isOdd else 0\n",
    "\n",
    "            if last == num & 1:\n",
    "                continue\n",
    "\n",
    "            last = num & 1\n",
    "            alternateCount += 1\n",
    "        \n",
    "        return max(alternateCount, oddCount, evenCount)"
   ]
  },
  {
   "cell_type": "code",
   "execution_count": 7,
   "id": "c853de5f",
   "metadata": {},
   "outputs": [
    {
     "name": "stdout",
     "output_type": "stream",
     "text": [
      "4\n",
      "6\n",
      "2\n"
     ]
    }
   ],
   "source": [
    "print(Solution().maximumLength([1,2,3,4]))\n",
    "print(Solution().maximumLength([1,2,1,1,2,1,2]))\n",
    "print(Solution().maximumLength([1,3]))"
   ]
  }
 ],
 "metadata": {
  "kernelspec": {
   "display_name": "Python 3",
   "language": "python",
   "name": "python3"
  },
  "language_info": {
   "codemirror_mode": {
    "name": "ipython",
    "version": 3
   },
   "file_extension": ".py",
   "mimetype": "text/x-python",
   "name": "python",
   "nbconvert_exporter": "python",
   "pygments_lexer": "ipython3",
   "version": "3.10.11"
  }
 },
 "nbformat": 4,
 "nbformat_minor": 5
}
