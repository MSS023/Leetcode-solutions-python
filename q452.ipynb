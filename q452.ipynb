{
 "cells": [
  {
   "cell_type": "code",
   "execution_count": 1,
   "metadata": {},
   "outputs": [],
   "source": [
    "class Solution:\n",
    "    def getCommonAreas(self,point: list[int], commonAreas: list[list[int]]) -> list[list[int]]:\n",
    "        newArea = 0\n",
    "        newLimits = point\n",
    "        commonAreaIdx = -1\n",
    "        for idx,commonArea in enumerate(commonAreas):\n",
    "            newStartAndEnd = [max(commonArea[0], point[0]), min(commonArea[1], point[1])]\n",
    "            if newStartAndEnd[0] > newStartAndEnd[1]:\n",
    "                continue\n",
    "            newTempArea = newStartAndEnd[1] - newStartAndEnd[0]\n",
    "            if newTempArea >= newArea:\n",
    "                newArea = newTempArea\n",
    "                newLimits = newStartAndEnd\n",
    "                commonAreaIdx = idx\n",
    "        if commonAreaIdx != -1:\n",
    "            commonAreas[commonAreaIdx] = newLimits\n",
    "            return commonAreas\n",
    "        commonAreas.append(newLimits)\n",
    "        return commonAreas\n",
    "\n",
    "    def removeUnnecessaryAreas(self,commonAreas: list[list[int]], point: list[int]) -> int:\n",
    "        removedAreasCount = 0\n",
    "        for commonArea in commonAreas:\n",
    "            computedLimits = [max(commonArea[0], point[0]), min(commonArea[1], point[1])]\n",
    "            if computedLimits[0] <= computedLimits[1]:\n",
    "                return removedAreasCount\n",
    "            commonAreas.pop(0)\n",
    "            removedAreasCount += 1\n",
    "        return removedAreasCount\n",
    "\n",
    "    def findMinArrowShots(self, points: list[list[int]]) -> int:\n",
    "        commonAreas = []\n",
    "        numberOfArrows = 0\n",
    "        newPoints = sorted(points, key = lambda x: (x[0],x[1]))\n",
    "        for point in newPoints:\n",
    "            numberOfArrows += self.removeUnnecessaryAreas(commonAreas, point)\n",
    "            commonAreas = self.getCommonAreas(point, commonAreas)\n",
    "        return numberOfArrows + len(commonAreas)"
   ]
  },
  {
   "cell_type": "code",
   "execution_count": 2,
   "metadata": {},
   "outputs": [
    {
     "name": "stdout",
     "output_type": "stream",
     "text": [
      "2\n"
     ]
    }
   ],
   "source": [
    "obj = Solution()\n",
    "print(obj.findMinArrowShots([[3,9],[7,12],[3,8],[6,8],[9,10],[2,9],[0,9],[3,9],[0,6],[2,8]]))"
   ]
  }
 ],
 "metadata": {
  "kernelspec": {
   "display_name": "Python 3",
   "language": "python",
   "name": "python3"
  },
  "language_info": {
   "codemirror_mode": {
    "name": "ipython",
    "version": 3
   },
   "file_extension": ".py",
   "mimetype": "text/x-python",
   "name": "python",
   "nbconvert_exporter": "python",
   "pygments_lexer": "ipython3",
   "version": "3.12.2"
  }
 },
 "nbformat": 4,
 "nbformat_minor": 2
}
