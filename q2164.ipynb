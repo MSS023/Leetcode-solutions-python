{
 "cells": [
  {
   "cell_type": "code",
   "execution_count": null,
   "metadata": {},
   "outputs": [],
   "source": [
    "class Solution:\n",
    "    def sortEvenOdd(self, nums: List[int]) -> List[int]:\n",
    "        even=sorted(nums[0::2])\n",
    "        odd=sorted(nums[1::2],reverse=True)\n",
    "        for i in range(len(nums)):\n",
    "            if i%2==0:\n",
    "                nums[i]=even.pop(0)\n",
    "                continue\n",
    "            nums[i]=odd.pop(0)\n",
    "        return nums"
   ]
  }
 ],
 "metadata": {
  "language_info": {
   "name": "python"
  },
  "orig_nbformat": 4
 },
 "nbformat": 4,
 "nbformat_minor": 2
}
