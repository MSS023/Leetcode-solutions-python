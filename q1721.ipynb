{
 "cells": [
  {
   "cell_type": "code",
   "execution_count": null,
   "metadata": {},
   "outputs": [],
   "source": [
    "# Definition for singly-linked list.\n",
    "# class ListNode:\n",
    "#     def __init__(self, val=0, next=None):\n",
    "#         self.val = val\n",
    "#         self.next = next\n",
    "class Solution:\n",
    "    def swapNodes(self, head: Optional[ListNode], k: int) -> Optional[ListNode]:\n",
    "        arr=[]\n",
    "        while head is not None:\n",
    "            arr.append(head)\n",
    "            head=head.next\n",
    "        arr[k-1],arr[-k]=arr[-k],arr[k-1]\n",
    "        for i in range(len(arr)-1):\n",
    "            arr[i].next=arr[i+1]\n",
    "        arr[-1].next=None\n",
    "        head=arr[0]\n",
    "        return head"
   ]
  }
 ],
 "metadata": {
  "language_info": {
   "name": "python"
  },
  "orig_nbformat": 4
 },
 "nbformat": 4,
 "nbformat_minor": 2
}
