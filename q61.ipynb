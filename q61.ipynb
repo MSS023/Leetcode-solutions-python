{
 "cells": [
  {
   "cell_type": "code",
   "execution_count": null,
   "metadata": {},
   "outputs": [],
   "source": [
    "# Definition for singly-linked list.\n",
    "# class ListNode:\n",
    "#     def __init__(self, val=0, next=None):\n",
    "#         self.val = val\n",
    "#         self.next = next\n",
    "class Solution:\n",
    "    def rotateRight(self, head: Optional[ListNode], k: int) -> Optional[ListNode]:\n",
    "        arr=[]\n",
    "        temp=head\n",
    "        while temp is not None:\n",
    "            arr.append(temp)\n",
    "            temp=temp.next\n",
    "        if len(arr)==0:\n",
    "            return head\n",
    "        k%=len(arr)\n",
    "        if k==0:\n",
    "            return head\n",
    "        for i in range(k):\n",
    "            node=arr.pop()\n",
    "            node.next=head\n",
    "            head=node\n",
    "            arr[-1].next=None\n",
    "        return head"
   ]
  }
 ],
 "metadata": {
  "language_info": {
   "name": "python"
  },
  "orig_nbformat": 4
 },
 "nbformat": 4,
 "nbformat_minor": 2
}
