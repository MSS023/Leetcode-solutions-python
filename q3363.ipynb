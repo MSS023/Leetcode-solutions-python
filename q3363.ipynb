{
 "cells": [
  {
   "cell_type": "code",
   "execution_count": 2,
   "id": "e7500bb4",
   "metadata": {},
   "outputs": [],
   "source": [
    "from typing import *\n",
    "from functools import cache"
   ]
  },
  {
   "cell_type": "code",
   "execution_count": 14,
   "id": "4d43b56f",
   "metadata": {},
   "outputs": [],
   "source": [
    "class Solution:\n",
    "    def __init__(self):\n",
    "        self.directions1 = [\n",
    "            lambda x: (x[0]+1,x[1]-1),\n",
    "            lambda x: (x[0]+1, x[1]),\n",
    "            lambda x: (x[0]+1,x[1]+1)\n",
    "        ]\n",
    "\n",
    "        self.directions2 = [\n",
    "            lambda x: (x[0]-1,x[1]+1),\n",
    "            lambda x: (x[0], x[1]+1),\n",
    "            lambda x: (x[0]+1, x[1]+1)\n",
    "        ]\n",
    "\n",
    "    @cache\n",
    "    def getBothPathScore(self, coords1: Tuple[int], coords2: Tuple[int], steps: int) -> int:\n",
    "        (r1,c1) = coords1\n",
    "        (r2,c2) = coords2\n",
    "\n",
    "        if steps == self.n:\n",
    "            return -float('inf')\n",
    "        \n",
    "        if r1 == c1 == r2 == c2 == self.n-1:\n",
    "            return 0\n",
    "        \n",
    "        if r1 == self.n or c1 == self.n or r2 == self.n or c2 == self.n:\n",
    "            return -float('inf')\n",
    "        \n",
    "        fruit1 = self.fruits[r1][c1]\n",
    "        fruit2 = self.fruits[r2][c2]\n",
    "        if self.fruits[r1][c1] == float('-inf') or self.fruits[r2][c2] == float('-inf'):\n",
    "            return -float('inf')\n",
    "        \n",
    "        self.fruits[r1][c1] = float('-inf')\n",
    "        self.fruits[r2][c2] = float('-inf')\n",
    "\n",
    "        count = 0\n",
    "\n",
    "        for d1 in self.directions1:\n",
    "            for d2 in self.directions2:\n",
    "                newCoords1 = d1(coords1)\n",
    "                newCoords2 = d2(coords2)\n",
    "\n",
    "                count = max(count, self.getBothPathScore(newCoords1, newCoords2, steps+1) + fruit1 + fruit2)\n",
    "        \n",
    "        self.fruits[r1][c1] = fruit1\n",
    "        self.fruits[r2][c2] = fruit2\n",
    "        return count\n",
    "\n",
    "    def maxCollectedFruits(self, fruits: List[List[int]]) -> int:\n",
    "        n = len(fruits)\n",
    "\n",
    "        count = 0\n",
    "        for r in range(n):\n",
    "            count += fruits[r][r]\n",
    "            fruits[r][r] = float('-inf')\n",
    "\n",
    "        self.fruits = fruits\n",
    "        self.n = n\n",
    "        count += self.getBothPathScore((0, n-1), (n-1, 0),0)\n",
    "\n",
    "        return count"
   ]
  },
  {
   "cell_type": "code",
   "execution_count": 15,
   "id": "445b44c4",
   "metadata": {},
   "outputs": [
    {
     "name": "stdout",
     "output_type": "stream",
     "text": [
      "300\n"
     ]
    }
   ],
   "source": [
    "# print(Solution().maxCollectedFruits([[1,2,3,4],[5,6,8,7],[9,10,11,12],[13,14,15,16]]))\n",
    "# print(Solution().maxCollectedFruits([[1,1],[1,1]]))\n",
    "# print(Solution().maxCollectedFruits([[1,5,9,13],[2,6,10,14],[3,7,11,15],[4,8,12,16]]))\n",
    "# print(Solution().maxCollectedFruits([[11,17,13,0,18],[13,12,10,12,19],[4,8,10,14,16],[2,13,12,7,16],[4,9,7,4,3]]))\n",
    "# print(Solution().maxCollectedFruits([[16,3,11,14,14],[3,0,10,13,14],[7,18,8,7,18],[7,8,5,7,5],[0,14,8,1,0]]))\n",
    "print(Solution().maxCollectedFruits([[4,2,1,15,20,6,1,3,11],[1,13,19,18,15,13,6,14,13],[20,12,10,8,7,12,20,5,17],[18,9,15,9,16,6,13,1,18],[12,19,12,7,1,15,16,13,9],[17,19,15,17,16,11,14,4,15],[10,16,7,4,8,19,13,2,10],[1,2,14,6,0,13,11,5,16],[16,17,12,8,2,12,19,4,7]]))"
   ]
  }
 ],
 "metadata": {
  "kernelspec": {
   "display_name": "Python 3",
   "language": "python",
   "name": "python3"
  },
  "language_info": {
   "codemirror_mode": {
    "name": "ipython",
    "version": 3
   },
   "file_extension": ".py",
   "mimetype": "text/x-python",
   "name": "python",
   "nbconvert_exporter": "python",
   "pygments_lexer": "ipython3",
   "version": "3.10.11"
  }
 },
 "nbformat": 4,
 "nbformat_minor": 5
}
