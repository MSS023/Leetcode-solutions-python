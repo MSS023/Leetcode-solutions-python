{
 "cells": [
  {
   "cell_type": "code",
   "execution_count": 25,
   "metadata": {},
   "outputs": [],
   "source": [
    "class Solution:\n",
    "    def rotate(self, matrix: list[list[int]]) -> None:\n",
    "        \"\"\"\n",
    "        Do not return anything, modify matrix in-place instead.\n",
    "        \"\"\"\n",
    "        n = len(matrix)\n",
    "        for i in range(n//2):\n",
    "            for j in range(0,n-i-i-1):\n",
    "                matrix[i][j+i], matrix[j+i][n-i-1] = matrix[j+i][n-i-1], matrix[i][j+i]\n",
    "            for j in range(0,n-i-i-1):\n",
    "                matrix[i][j+i], matrix[n-i-1][n-j-i-1] = matrix[n-i-1][n-j-i-1], matrix[i][j+i]\n",
    "            for j in range(0,n-i-i-1):\n",
    "                matrix[i][j+i], matrix[n-j-i-1][i] = matrix[n-j-i-1][i], matrix[i][j+i]"
   ]
  },
  {
   "cell_type": "code",
   "execution_count": 19,
   "metadata": {},
   "outputs": [],
   "source": [
    "def printM(mat):\n",
    "    for row in mat:\n",
    "        print(*row)"
   ]
  },
  {
   "cell_type": "code",
   "execution_count": 26,
   "metadata": {},
   "outputs": [
    {
     "name": "stdout",
     "output_type": "stream",
     "text": [
      "5 1 9 11\n",
      "2 4 8 10\n",
      "13 3 6 7\n",
      "15 14 12 16\n",
      "\n",
      "15 13 2 5\n",
      "14 3 4 1\n",
      "12 6 8 9\n",
      "16 7 10 11\n"
     ]
    }
   ],
   "source": [
    "mat = [[5,1,9,11],[2,4,8,10],[13,3,6,7],[15,14,12,16]]\n",
    "printM(mat)\n",
    "print()\n",
    "Solution().rotate(mat)\n",
    "printM(mat)"
   ]
  }
 ],
 "metadata": {
  "kernelspec": {
   "display_name": "Python 3.10.5 64-bit",
   "language": "python",
   "name": "python3"
  },
  "language_info": {
   "codemirror_mode": {
    "name": "ipython",
    "version": 3
   },
   "file_extension": ".py",
   "mimetype": "text/x-python",
   "name": "python",
   "nbconvert_exporter": "python",
   "pygments_lexer": "ipython3",
   "version": "3.10.5"
  },
  "orig_nbformat": 4,
  "vscode": {
   "interpreter": {
    "hash": "f15627b29e15848638e903c52dd09ae6c4c9adb1719aae45dda3850ec7954c19"
   }
  }
 },
 "nbformat": 4,
 "nbformat_minor": 2
}
