{
 "cells": [
  {
   "cell_type": "code",
   "execution_count": 1,
   "id": "e68812a3",
   "metadata": {},
   "outputs": [],
   "source": [
    "from typing import *"
   ]
  },
  {
   "cell_type": "code",
   "execution_count": 2,
   "id": "fb942d91",
   "metadata": {},
   "outputs": [],
   "source": [
    "class Solution:\n",
    "    def sortJumbled(self, mapping: List[int], nums: List[int]) -> List[int]:\n",
    "        def getActualValue(num: int) -> int:\n",
    "            numStr = str(num)\n",
    "            finalNum = ''\n",
    "            for digit in numStr:\n",
    "                finalNum += str(mapping[int(digit)])\n",
    "            return int(finalNum)\n",
    "\n",
    "        mappedNums = sorted(nums, key=getActualValue)\n",
    "        return mappedNums"
   ]
  },
  {
   "cell_type": "code",
   "execution_count": 3,
   "id": "e20a5cee",
   "metadata": {},
   "outputs": [
    {
     "name": "stdout",
     "output_type": "stream",
     "text": [
      "[338, 38, 991]\n"
     ]
    }
   ],
   "source": [
    "print(Solution().sortJumbled(mapping = [8,9,4,0,2,1,3,5,7,6], nums = [991,338,38]))"
   ]
  }
 ],
 "metadata": {
  "kernelspec": {
   "display_name": "Python 3",
   "language": "python",
   "name": "python3"
  },
  "language_info": {
   "codemirror_mode": {
    "name": "ipython",
    "version": 3
   },
   "file_extension": ".py",
   "mimetype": "text/x-python",
   "name": "python",
   "nbconvert_exporter": "python",
   "pygments_lexer": "ipython3",
   "version": "3.10.11"
  }
 },
 "nbformat": 4,
 "nbformat_minor": 5
}
