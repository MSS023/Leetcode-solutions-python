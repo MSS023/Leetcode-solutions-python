{
 "cells": [
  {
   "cell_type": "code",
   "execution_count": 4,
   "metadata": {},
   "outputs": [
    {
     "name": "stdout",
     "output_type": "stream",
     "text": [
      "3\n"
     ]
    }
   ],
   "source": [
    "class Solution:\n",
    "    def lengthOfLongestSubstring(self, s: str) -> int:\n",
    "        temp=\"\"\n",
    "        i=0\n",
    "        max=0\n",
    "        while i<len(s):\n",
    "            if s[i] not in temp:\n",
    "                temp+=s[i]\n",
    "                if len(temp)>max:\n",
    "                    max=len(temp)\n",
    "                i+=1\n",
    "            else:\n",
    "                temp=temp[1:]\n",
    "        return max\n",
    "\n",
    "sol=Solution()\n",
    "s=input()\n",
    "print(sol.lengthOfLongestSubstring(s))"
   ]
  }
 ],
 "metadata": {
  "interpreter": {
   "hash": "84c7cd761066ce45b8a789f7b09f72a3209628e136df7af6e1c369b4f2245113"
  },
  "kernelspec": {
   "display_name": "Python 3.10.2 64-bit",
   "language": "python",
   "name": "python3"
  },
  "language_info": {
   "codemirror_mode": {
    "name": "ipython",
    "version": 3
   },
   "file_extension": ".py",
   "mimetype": "text/x-python",
   "name": "python",
   "nbconvert_exporter": "python",
   "pygments_lexer": "ipython3",
   "version": "3.10.2"
  },
  "orig_nbformat": 4
 },
 "nbformat": 4,
 "nbformat_minor": 2
}
