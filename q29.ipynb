{
 "cells": [
  {
   "cell_type": "code",
   "execution_count": null,
   "metadata": {},
   "outputs": [],
   "source": [
    "class Solution:\n",
    "    def divide(self, dividend: int, divisor: int) -> int:\n",
    "        n = dividend\n",
    "        k = divisor\n",
    "        sign = n > 0 and k > 0 or n < 0 and k < 0\n",
    "        n = abs(n)\n",
    "        k = abs(k)\n",
    "        if n < k:\n",
    "            return 0\n",
    "        psum = 0\n",
    "        while n >= k:\n",
    "            p = 1\n",
    "            while n >= k + k:\n",
    "                k = k + k\n",
    "                p = p + p\n",
    "            psum += p\n",
    "            n -= k\n",
    "            k = abs(divisor)\n",
    "        if sign:\n",
    "            return min(2**31 - 1, psum)\n",
    "        else:\n",
    "            return max(-2**31, -psum)"
   ]
  }
 ],
 "metadata": {
  "language_info": {
   "name": "python"
  },
  "orig_nbformat": 4
 },
 "nbformat": 4,
 "nbformat_minor": 2
}
