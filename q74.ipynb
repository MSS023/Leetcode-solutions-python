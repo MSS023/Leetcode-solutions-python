{
 "cells": [
  {
   "cell_type": "code",
   "execution_count": 3,
   "metadata": {},
   "outputs": [
    {
     "data": {
      "text/plain": [
       "False"
      ]
     },
     "execution_count": 3,
     "metadata": {},
     "output_type": "execute_result"
    }
   ],
   "source": [
    "class Solution:\n",
    "    def searchMatrix(self, matrix: list[list[int]], target: int) -> bool:\n",
    "        for i in matrix:\n",
    "            if i[0]<=target and i[-1]>=target:\n",
    "                l=0\n",
    "                r=len(i)-1\n",
    "                while l<=r:\n",
    "                    m=(l+r)//2\n",
    "                    if i[m]==target:\n",
    "                        return True\n",
    "                    elif i[m]<target:\n",
    "                        l=m+1\n",
    "                    else:\n",
    "                        r=m-1\n",
    "        return False\n",
    "\n",
    "sol=Solution()\n",
    "n=int(input())\n",
    "sol.searchMatrix([[int(x) for x in input().split()] for i in range(n)],int(input()))"
   ]
  }
 ],
 "metadata": {
  "interpreter": {
   "hash": "84c7cd761066ce45b8a789f7b09f72a3209628e136df7af6e1c369b4f2245113"
  },
  "kernelspec": {
   "display_name": "Python 3.10.2 64-bit",
   "language": "python",
   "name": "python3"
  },
  "language_info": {
   "codemirror_mode": {
    "name": "ipython",
    "version": 3
   },
   "file_extension": ".py",
   "mimetype": "text/x-python",
   "name": "python",
   "nbconvert_exporter": "python",
   "pygments_lexer": "ipython3",
   "version": "3.10.2"
  },
  "orig_nbformat": 4
 },
 "nbformat": 4,
 "nbformat_minor": 2
}
