{
 "cells": [
  {
   "cell_type": "code",
   "execution_count": null,
   "id": "06301445",
   "metadata": {},
   "outputs": [],
   "source": [
    "from typing import *"
   ]
  },
  {
   "cell_type": "code",
   "execution_count": 1,
   "id": "491a509b",
   "metadata": {},
   "outputs": [],
   "source": [
    "class Solution:\n",
    "    def longestSubsequence(self, s: str, k: int) -> int:\n",
    "        val = 0\n",
    "        maxL = 0\n",
    "        res = \"\"\n",
    "        for ch in s:\n",
    "            res += ch\n",
    "            if ch == \"0\":\n",
    "                val *= 2\n",
    "            else:\n",
    "                val = val*2 + 1\n",
    "            if val > k:\n",
    "                pos = res.find(\"1\")\n",
    "                e = len(res) - pos - 1\n",
    "                res = res[:pos] + res[pos+1:]\n",
    "                val -= 2**e\n",
    "            maxL = max(maxL, len(res))\n",
    "        return maxL"
   ]
  },
  {
   "cell_type": "code",
   "execution_count": 2,
   "id": "6702844c",
   "metadata": {},
   "outputs": [
    {
     "name": "stdout",
     "output_type": "stream",
     "text": [
      "5\n",
      "6\n"
     ]
    }
   ],
   "source": [
    "print(Solution().longestSubsequence(s = \"1001010\", k = 5))\n",
    "print(Solution().longestSubsequence(s = \"00101001\", k = 1))"
   ]
  }
 ],
 "metadata": {
  "kernelspec": {
   "display_name": "Python 3",
   "language": "python",
   "name": "python3"
  },
  "language_info": {
   "codemirror_mode": {
    "name": "ipython",
    "version": 3
   },
   "file_extension": ".py",
   "mimetype": "text/x-python",
   "name": "python",
   "nbconvert_exporter": "python",
   "pygments_lexer": "ipython3",
   "version": "3.10.11"
  }
 },
 "nbformat": 4,
 "nbformat_minor": 5
}
