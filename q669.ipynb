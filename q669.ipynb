{
 "cells": [
  {
   "cell_type": "code",
   "execution_count": null,
   "metadata": {},
   "outputs": [],
   "source": [
    "# Definition for a binary tree node.\n",
    "# class TreeNode:\n",
    "#     def __init__(self, val=0, left=None, right=None):\n",
    "#         self.val = val\n",
    "#         self.left = left\n",
    "#         self.right = right\n",
    "class Solution:\n",
    "    def trimBST(self, root: Optional[TreeNode], low: int, high: int) -> Optional[TreeNode]:\n",
    "        while root:\n",
    "            if root.val<low:\n",
    "                root=root.right\n",
    "                continue\n",
    "            if root.val>high:\n",
    "                root=root.left\n",
    "                continue\n",
    "            break\n",
    "        if root is None:\n",
    "            return None\n",
    "        temp=root.left\n",
    "        prev=root\n",
    "        while temp is not None:\n",
    "            if temp.val<low:\n",
    "                prev.left=temp.right\n",
    "                temp=temp.right\n",
    "                continue\n",
    "            if temp.val>low:\n",
    "                prev=temp\n",
    "                temp=temp.left\n",
    "                continue\n",
    "            temp.left=None\n",
    "            break\n",
    "        temp=root.right\n",
    "        prev=root\n",
    "        while temp is not None:\n",
    "            if temp.val>high:\n",
    "                prev.right=temp.left\n",
    "                temp=temp.left\n",
    "                continue\n",
    "            if temp.val<high:\n",
    "                prev=temp\n",
    "                temp=temp.right\n",
    "                continue\n",
    "            temp.right=None\n",
    "            break\n",
    "        return root"
   ]
  }
 ],
 "metadata": {
  "language_info": {
   "name": "python"
  },
  "orig_nbformat": 4
 },
 "nbformat": 4,
 "nbformat_minor": 2
}
