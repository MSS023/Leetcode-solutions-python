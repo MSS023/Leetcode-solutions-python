{
 "cells": [
  {
   "cell_type": "code",
   "execution_count": 1,
   "id": "74cb21a9",
   "metadata": {},
   "outputs": [],
   "source": [
    "from typing import *"
   ]
  },
  {
   "cell_type": "code",
   "execution_count": 6,
   "id": "2c4a7142",
   "metadata": {},
   "outputs": [],
   "source": [
    "class Solution:\n",
    "    def countSquares(self, matrix: List[List[int]]) -> int:\n",
    "        m, n = len(matrix), len(matrix[0])\n",
    "\n",
    "        shouldRun = True\n",
    "        while shouldRun:\n",
    "            shouldRun = False\n",
    "            for r in range(m):\n",
    "                for c in range(n):\n",
    "                    if not matrix[r][c]:\n",
    "                        continue\n",
    "                    if r < m-1 and c < n-1 and matrix[r][c] == matrix[r+1][c] == matrix[r+1][c+1] == matrix[r][c+1]:\n",
    "                        shouldRun = True\n",
    "                        matrix[r][c] += 1\n",
    "            \n",
    "        return sum([sum(row) for row in matrix])"
   ]
  },
  {
   "cell_type": "code",
   "execution_count": 7,
   "id": "0aaada5f",
   "metadata": {},
   "outputs": [
    {
     "name": "stdout",
     "output_type": "stream",
     "text": [
      "15\n",
      "7\n"
     ]
    }
   ],
   "source": [
    "print(Solution().countSquares([\n",
    "    [0,1,1,1],\n",
    "    [1,1,1,1],\n",
    "    [0,1,1,1]\n",
    "]))\n",
    "\n",
    "print(Solution().countSquares([\n",
    "    [1,0,1],\n",
    "    [1,1,0],\n",
    "    [1,1,0]\n",
    "]))"
   ]
  }
 ],
 "metadata": {
  "kernelspec": {
   "display_name": "Python 3",
   "language": "python",
   "name": "python3"
  },
  "language_info": {
   "codemirror_mode": {
    "name": "ipython",
    "version": 3
   },
   "file_extension": ".py",
   "mimetype": "text/x-python",
   "name": "python",
   "nbconvert_exporter": "python",
   "pygments_lexer": "ipython3",
   "version": "3.10.11"
  }
 },
 "nbformat": 4,
 "nbformat_minor": 5
}
