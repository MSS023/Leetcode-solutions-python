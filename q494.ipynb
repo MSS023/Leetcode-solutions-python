{
 "cells": [
  {
   "cell_type": "code",
   "execution_count": 13,
   "metadata": {},
   "outputs": [],
   "source": [
    "from typing import *"
   ]
  },
  {
   "cell_type": "code",
   "execution_count": 29,
   "metadata": {},
   "outputs": [],
   "source": [
    "class Solution:\n",
    "\n",
    "    def main(self, target: int, index: int = 0) -> int:\n",
    "        memo = self.memo\n",
    "        if (target, index) in memo:\n",
    "            return memo[(target, index)]\n",
    "        nums = self.nums\n",
    "        if index == len(nums):\n",
    "            if target == 0:\n",
    "                return 1\n",
    "            return 0\n",
    "\n",
    "        count = 0\n",
    "        count += self.main(target-nums[index], index+1)\n",
    "        count += self.main(target+nums[index], index+1)\n",
    "        memo[(target, index)] = count\n",
    "        return count\n",
    "\n",
    "    def findTargetSumWays(self, nums: List[int], target: int) -> int:\n",
    "        self.nums = nums\n",
    "        self.memo = {}\n",
    "        return self.main(target, 0)"
   ]
  },
  {
   "cell_type": "code",
   "execution_count": 30,
   "metadata": {},
   "outputs": [
    {
     "name": "stdout",
     "output_type": "stream",
     "text": [
      "1\n"
     ]
    }
   ],
   "source": [
    "# print(Solution().findTargetSumWays(nums = [1, 1,1,1,1], target = 3))\n",
    "print(Solution().findTargetSumWays(nums=[1], target=1))\n",
    "# print(Solution().findTargetSumWays(nums=[35, 42, 34, 22, 35, 39, 35, 44, 33, 48, 46, 18, 4, 39, 1, 50, 28, 43, 15, 37], target=36))"
   ]
  }
 ],
 "metadata": {
  "kernelspec": {
   "display_name": "Python 3",
   "language": "python",
   "name": "python3"
  },
  "language_info": {
   "codemirror_mode": {
    "name": "ipython",
    "version": 3
   },
   "file_extension": ".py",
   "mimetype": "text/x-python",
   "name": "python",
   "nbconvert_exporter": "python",
   "pygments_lexer": "ipython3",
   "version": "3.13.1"
  }
 },
 "nbformat": 4,
 "nbformat_minor": 2
}
