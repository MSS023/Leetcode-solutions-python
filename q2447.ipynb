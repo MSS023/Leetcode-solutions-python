{
 "cells": [
  {
   "cell_type": "code",
   "execution_count": null,
   "metadata": {},
   "outputs": [],
   "source": [
    "import sys\n",
    "sys.setrecursionlimit(10**9)\n",
    "\n",
    "class Solution:\n",
    "    def subarrayGCD(self, nums: List[int], k: int) -> int:\n",
    "        prev = []\n",
    "        n = len(nums)\n",
    "        if n == 1:\n",
    "            if nums[0] == k:\n",
    "                return 1\n",
    "            return 0\n",
    "        diction = {}\n",
    "        def gcd(a,b):\n",
    "            if (a,b) in diction:\n",
    "                return diction[(a,b)]\n",
    "            if a == b:\n",
    "                diction[(a,b)] = a\n",
    "                return a\n",
    "            elif a > b:\n",
    "                diction[(a,b)] = gcd(a-b,b)\n",
    "            else:\n",
    "                diction[(a,b)] = gcd(a,b-a)\n",
    "            return diction[(a,b)]\n",
    "        count = 0\n",
    "        for idx1 in range(n):\n",
    "            if nums[idx1] == k:\n",
    "                count += 1\n",
    "            temp = 0\n",
    "            temp2 = nums[idx1]\n",
    "            for idx2 in range(idx1+1,n):\n",
    "                if temp2 == k:\n",
    "                    if nums[idx2] % temp2 == 0:\n",
    "                        temp += 1\n",
    "                        continue\n",
    "                    else:\n",
    "                        break\n",
    "                if temp2 < k:\n",
    "                    break\n",
    "                temp2 = gcd(temp2,nums[idx2])\n",
    "                if temp2 != k:\n",
    "                    continue\n",
    "                temp += 1\n",
    "            if temp > 0:\n",
    "                count += temp\n",
    "        return count"
   ]
  }
 ],
 "metadata": {
  "language_info": {
   "name": "python"
  },
  "orig_nbformat": 4
 },
 "nbformat": 4,
 "nbformat_minor": 2
}
