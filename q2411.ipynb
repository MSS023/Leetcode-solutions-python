{
 "cells": [
  {
   "cell_type": "code",
   "execution_count": 1,
   "metadata": {},
   "outputs": [],
   "source": [
    "from typing import *\n",
    "\n",
    "class Solution:\n",
    "    def smallestSubarrays(self, nums: List[int]) -> List[int]:\n",
    "        dp = [[] for _ in nums]\n",
    "        n = len(nums)\n",
    "        dp[-1].append((n-1,nums[-1]))\n",
    "        res = [1]\n",
    "        for i in range(n-2,-1,-1):\n",
    "            dp[i].append((i, nums[i]))\n",
    "            for idx2,(idx,j) in enumerate(dp[i+1]):\n",
    "                if idx2 > 0 and dp[i+1][idx2-1][1] == j:\n",
    "                    break\n",
    "                if dp[i][-1][1] < j | nums[i]:\n",
    "                    dp[i].append((idx, j | nums[i]))\n",
    "            res.insert(0,dp[i][-1][0] - i + 1)\n",
    "        return res"
   ]
  }
 ],
 "metadata": {
  "kernelspec": {
   "display_name": "Python 3.10.6 64-bit",
   "language": "python",
   "name": "python3"
  },
  "language_info": {
   "codemirror_mode": {
    "name": "ipython",
    "version": 3
   },
   "file_extension": ".py",
   "mimetype": "text/x-python",
   "name": "python",
   "nbconvert_exporter": "python",
   "pygments_lexer": "ipython3",
   "version": "3.10.6"
  },
  "orig_nbformat": 4,
  "vscode": {
   "interpreter": {
    "hash": "f15627b29e15848638e903c52dd09ae6c4c9adb1719aae45dda3850ec7954c19"
   }
  }
 },
 "nbformat": 4,
 "nbformat_minor": 2
}
