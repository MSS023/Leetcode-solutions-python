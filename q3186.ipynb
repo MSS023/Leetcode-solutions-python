{
 "cells": [
  {
   "cell_type": "code",
   "execution_count": 36,
   "id": "98b6a49e",
   "metadata": {},
   "outputs": [],
   "source": [
    "from typing import *\n",
    "from collections import Counter"
   ]
  },
  {
   "cell_type": "markdown",
   "id": "f9e7bdb1",
   "metadata": {},
   "source": [
    "### TLE"
   ]
  },
  {
   "cell_type": "code",
   "execution_count": null,
   "id": "f3c5cedf",
   "metadata": {},
   "outputs": [],
   "source": [
    "class Solution:\n",
    "    def __init__(self):\n",
    "        self.skip = set()\n",
    "    \n",
    "    def main(self, idx: int) -> int:\n",
    "        n = len(self.power)\n",
    "        if idx >= n:\n",
    "            return 0\n",
    "        if self.power[idx] in self.skip:\n",
    "            curr = 0\n",
    "            res = curr + self.main(idx+1)\n",
    "        else:\n",
    "            curr = self.power[idx]\n",
    "            skipSet = {curr+1, curr+2}\n",
    "            currSet = self.skip.copy()\n",
    "            self.skip = self.skip.union(skipSet)\n",
    "            res = curr + self.main(idx+1)\n",
    "            self.skip = currSet\n",
    "\n",
    "        return max(res, self.main(idx+1))\n",
    "\n",
    "    def maximumTotalDamage(self, power: List[int]) -> int:\n",
    "        power.sort()\n",
    "        self.power = power\n",
    "        return self.main(0)"
   ]
  },
  {
   "cell_type": "code",
   "execution_count": 42,
   "id": "01e6450b",
   "metadata": {},
   "outputs": [],
   "source": [
    "class Solution:\n",
    "    def maximumTotalDamage(self, power):\n",
    "        count = Counter(power)\n",
    "        vec = [(-(10**9), 0)]\n",
    "        for k in sorted(count.keys()):\n",
    "            vec.append((k, count[k]))\n",
    "        n = len(vec)\n",
    "        f = [0] * n\n",
    "        mx = 0\n",
    "        j = 1\n",
    "        for i in range(1, n):\n",
    "            while j < i and vec[j][0] < vec[i][0] - 2:\n",
    "                mx = max(mx, f[j])\n",
    "                j += 1\n",
    "            f[i] = mx + vec[i][0] * vec[i][1]\n",
    "        return max(f)"
   ]
  },
  {
   "cell_type": "code",
   "execution_count": 43,
   "id": "ad8a90ae",
   "metadata": {},
   "outputs": [
    {
     "name": "stdout",
     "output_type": "stream",
     "text": [
      "6\n",
      "13\n"
     ]
    }
   ],
   "source": [
    "print(Solution().maximumTotalDamage([1,1,3,4]))\n",
    "print(Solution().maximumTotalDamage([7,1,6,6]))"
   ]
  }
 ],
 "metadata": {
  "kernelspec": {
   "display_name": "Python 3",
   "language": "python",
   "name": "python3"
  },
  "language_info": {
   "codemirror_mode": {
    "name": "ipython",
    "version": 3
   },
   "file_extension": ".py",
   "mimetype": "text/x-python",
   "name": "python",
   "nbconvert_exporter": "python",
   "pygments_lexer": "ipython3",
   "version": "3.10.11"
  }
 },
 "nbformat": 4,
 "nbformat_minor": 5
}
