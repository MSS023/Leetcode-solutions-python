{
 "cells": [
  {
   "cell_type": "code",
   "execution_count": 12,
   "metadata": {},
   "outputs": [
    {
     "data": {
      "text/plain": [
       "[[0, 0, 0]]"
      ]
     },
     "execution_count": 12,
     "metadata": {},
     "output_type": "execute_result"
    }
   ],
   "source": [
    "class Solution:\n",
    "    def threeSum(self, nums: list[int]) -> list[list[int]]:\n",
    "        if len(nums)<3:\n",
    "            return []\n",
    "        nums.sort()\n",
    "        length=len(nums)\n",
    "        res=[]\n",
    "        index1=0\n",
    "        while index1<length-2:\n",
    "            index2=index1+1\n",
    "            index3=length-1\n",
    "            while index2<index3:\n",
    "                val=nums[index1]+nums[index2]+nums[index3]\n",
    "                if val==0:\n",
    "                    if [nums[index1],nums[index2],nums[index3]] not in res:\n",
    "                        res.append([nums[index1],nums[index2],nums[index3]])\n",
    "                    index3-=1\n",
    "                elif val>0:\n",
    "                    index3-=1\n",
    "                else:\n",
    "                    index2+=1\n",
    "            while index1<length-1 and nums[index1]==nums[index1+1]:\n",
    "                index1+=1\n",
    "            index1+=1\n",
    "        return res\n",
    "        \n",
    "\n",
    "sol=Solution()\n",
    "sol.threeSum([int(x) for x in input().split()])"
   ]
  }
 ],
 "metadata": {
  "interpreter": {
   "hash": "84c7cd761066ce45b8a789f7b09f72a3209628e136df7af6e1c369b4f2245113"
  },
  "kernelspec": {
   "display_name": "Python 3.10.2 64-bit",
   "language": "python",
   "name": "python3"
  },
  "language_info": {
   "codemirror_mode": {
    "name": "ipython",
    "version": 3
   },
   "file_extension": ".py",
   "mimetype": "text/x-python",
   "name": "python",
   "nbconvert_exporter": "python",
   "pygments_lexer": "ipython3",
   "version": "3.10.2"
  },
  "orig_nbformat": 4
 },
 "nbformat": 4,
 "nbformat_minor": 2
}
