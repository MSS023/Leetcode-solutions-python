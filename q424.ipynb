{
 "cells": [
  {
   "cell_type": "code",
   "execution_count": 4,
   "metadata": {},
   "outputs": [],
   "source": [
    "class Solution:\n",
    "    def characterReplacement(self, s: str, k: int) -> int:\n",
    "        diction = {}\n",
    "        start = 0\n",
    "        end = 0\n",
    "        maxm = 0\n",
    "        while end < len(s):\n",
    "            if s[end] in diction:\n",
    "                diction[s[end]] += 1\n",
    "            else:\n",
    "                diction[s[end]] = 1\n",
    "            if end - start + 1 - max(diction.values()) > k:\n",
    "                diction[s[start]] -= 1\n",
    "                start += 1\n",
    "            maxm = max(end-start+1,maxm)\n",
    "            end += 1\n",
    "        return maxm"
   ]
  },
  {
   "cell_type": "code",
   "execution_count": 5,
   "metadata": {},
   "outputs": [
    {
     "data": {
      "text/plain": [
       "4"
      ]
     },
     "execution_count": 5,
     "metadata": {},
     "output_type": "execute_result"
    }
   ],
   "source": [
    "Solution().characterReplacement(\"ABAB\",2)"
   ]
  }
 ],
 "metadata": {
  "kernelspec": {
   "display_name": "Python 3.10.6 64-bit",
   "language": "python",
   "name": "python3"
  },
  "language_info": {
   "codemirror_mode": {
    "name": "ipython",
    "version": 3
   },
   "file_extension": ".py",
   "mimetype": "text/x-python",
   "name": "python",
   "nbconvert_exporter": "python",
   "pygments_lexer": "ipython3",
   "version": "3.10.6"
  },
  "orig_nbformat": 4,
  "vscode": {
   "interpreter": {
    "hash": "f15627b29e15848638e903c52dd09ae6c4c9adb1719aae45dda3850ec7954c19"
   }
  }
 },
 "nbformat": 4,
 "nbformat_minor": 2
}
