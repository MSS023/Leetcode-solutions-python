{
 "cells": [
  {
   "cell_type": "code",
   "execution_count": 1,
   "id": "64bb6d80",
   "metadata": {},
   "outputs": [],
   "source": [
    "from typing import *\n",
    "import math"
   ]
  },
  {
   "cell_type": "code",
   "execution_count": 55,
   "id": "a4146679",
   "metadata": {},
   "outputs": [],
   "source": [
    "class Solution:\n",
    "    def __init__(self):\n",
    "        self.fact = {\n",
    "            -1: 1,\n",
    "            0: 1,\n",
    "            1: 1,\n",
    "            2: 2,\n",
    "            3: 6,\n",
    "            4: 24,\n",
    "            5: 120,\n",
    "            6: 720,\n",
    "            7: 5040,\n",
    "            8: 40320,\n",
    "            9: 362880,\n",
    "            10: 3628800\n",
    "        }\n",
    "\n",
    "        self.combination = set()\n",
    "        self.result = 0\n",
    "\n",
    "    def getAllCombinations(self, counts: Dict[int, int], n: int):\n",
    "        nonZeroCount = 0\n",
    "        divide = 1\n",
    "        for num in counts:\n",
    "            divide *= self.fact[counts[num]]\n",
    "            if num == 0:\n",
    "                continue\n",
    "            nonZeroCount += counts[num]\n",
    "\n",
    "        if n == 1:\n",
    "            return nonZeroCount\n",
    "        \n",
    "        return (nonZeroCount * self.fact[n-1])//divide\n",
    "\n",
    "    def getCount(self, numSet: List[int], k: int) -> int:\n",
    "        counts = {}\n",
    "        finalNum = \"\"\n",
    "        for num in numSet:\n",
    "            finalNum += str(num)\n",
    "            if num not in counts:\n",
    "                counts[num] = 0\n",
    "            counts[num] += 1\n",
    "\n",
    "        if int(finalNum) % k != 0:\n",
    "            return 0\n",
    "        \n",
    "        result = 0\n",
    "        sortedNum = \"\".join(sorted(finalNum))\n",
    "        if sortedNum not in self.combination:\n",
    "            result += self.getAllCombinations(counts, len(numSet))\n",
    "            self.combination.add(sortedNum)\n",
    "            self.result += result\n",
    "\n",
    "        return result\n",
    "\n",
    "    def main(self, idx: int, numSet: List[int], k: int) -> int:\n",
    "        if idx == 0 and numSet[0] == 0:\n",
    "            return 0\n",
    "\n",
    "        if idx == len(numSet)-1 or numSet[idx+1] is not None:\n",
    "            return self.getCount(numSet, k)\n",
    "\n",
    "        count = 0\n",
    "        for num in range(10):\n",
    "            numSet[idx+1] = num\n",
    "            numSet[-idx-2] = num\n",
    "            count += self.main(idx+1, numSet, k)\n",
    "            numSet[idx+1] = None\n",
    "            numSet[-idx-2] = None\n",
    "\n",
    "        return count\n",
    "\n",
    "    def countGoodIntegers(self, n: int, k: int) -> int:\n",
    "        numSet = [None]*n\n",
    "\n",
    "        count = 0\n",
    "        for num in range(10):\n",
    "            numSet[0] = num\n",
    "            numSet[-1] = num\n",
    "            count += self.main(0, numSet, k)\n",
    "            numSet[0] = None\n",
    "            numSet[-1] = None\n",
    "\n",
    "        return self.result"
   ]
  },
  {
   "cell_type": "code",
   "execution_count": 56,
   "id": "1199d5a1",
   "metadata": {},
   "outputs": [
    {
     "name": "stdout",
     "output_type": "stream",
     "text": [
      "27\n",
      "2\n",
      "2468\n"
     ]
    }
   ],
   "source": [
    "print(Solution().countGoodIntegers(3,5))\n",
    "print(Solution().countGoodIntegers(1,4))\n",
    "print(Solution().countGoodIntegers(5,6))"
   ]
  },
  {
   "cell_type": "code",
   "execution_count": 25,
   "id": "50852444",
   "metadata": {},
   "outputs": [
    {
     "name": "stdout",
     "output_type": "stream",
     "text": [
      "(0, 2, 0, 2, 5)\n",
      "(0, 5, 0, 2, 2)\n",
      "(0, 2, 5, 2, 0)\n",
      "(5, 0, 0, 2, 2)\n",
      "(5, 0, 2, 2, 0)\n",
      "(0, 2, 2, 5, 0)\n",
      "(5, 2, 0, 0, 2)\n",
      "(2, 0, 5, 0, 2)\n",
      "(0, 0, 2, 5, 2)\n",
      "(5, 0, 2, 0, 2)\n",
      "(0, 5, 2, 2, 0)\n",
      "(2, 2, 0, 5, 0)\n",
      "(0, 2, 5, 0, 2)\n",
      "(2, 0, 0, 2, 5)\n",
      "(0, 0, 5, 2, 2)\n",
      "(5, 2, 2, 0, 0)\n",
      "(2, 5, 2, 0, 0)\n",
      "(2, 0, 2, 0, 5)\n",
      "(0, 2, 0, 5, 2)\n",
      "(2, 5, 0, 2, 0)\n",
      "(0, 5, 2, 0, 2)\n",
      "(0, 0, 2, 2, 5)\n",
      "(2, 0, 2, 5, 0)\n",
      "(0, 2, 2, 0, 5)\n",
      "(2, 2, 0, 0, 5)\n",
      "(2, 5, 0, 0, 2)\n",
      "(2, 2, 5, 0, 0)\n",
      "(5, 2, 0, 2, 0)\n",
      "(2, 0, 5, 2, 0)\n",
      "(2, 0, 0, 5, 2)\n"
     ]
    }
   ],
   "source": [
    "from itertools import permutations\n",
    "\n",
    "print(*list(set(permutations([2,0,0,2,5],5))), sep=\"\\n\")"
   ]
  }
 ],
 "metadata": {
  "kernelspec": {
   "display_name": "Python 3",
   "language": "python",
   "name": "python3"
  },
  "language_info": {
   "codemirror_mode": {
    "name": "ipython",
    "version": 3
   },
   "file_extension": ".py",
   "mimetype": "text/x-python",
   "name": "python",
   "nbconvert_exporter": "python",
   "pygments_lexer": "ipython3",
   "version": "3.10.11"
  }
 },
 "nbformat": 4,
 "nbformat_minor": 5
}
