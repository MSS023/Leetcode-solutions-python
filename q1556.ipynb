{
 "cells": [
  {
   "cell_type": "code",
   "execution_count": 2,
   "metadata": {},
   "outputs": [],
   "source": [
    "class Solution:\n",
    "    def thousandSeparator(self, n: int) -> str:\n",
    "        num = str(n)\n",
    "        if len(num) <= 3:\n",
    "            return num\n",
    "        mod = len(num) % 3\n",
    "        res = \"\"\n",
    "        for i in range(mod, len(num), 3):\n",
    "            if i == mod:\n",
    "                res += num[:i] + \".\"\n",
    "            else:\n",
    "                res += num[i-3:i] + \".\"\n",
    "        res += num[len(num)-3:]\n",
    "        if res[0] == \".\":\n",
    "            return res[1:]\n",
    "        return res"
   ]
  },
  {
   "cell_type": "code",
   "execution_count": 15,
   "metadata": {},
   "outputs": [],
   "source": [
    "class Solution:\n",
    "    def thousandSeparator(self, n: int) -> str:\n",
    "        thousands = []\n",
    "        num = str(n)\n",
    "        for i in range(len(num),0,-3):\n",
    "            if i < 3:\n",
    "                thousands.insert(0,num[:i])\n",
    "                continue\n",
    "            thousands.insert(0,num[i-3:i])\n",
    "        res = \".\".join(thousands)\n",
    "        return res"
   ]
  },
  {
   "cell_type": "code",
   "execution_count": 16,
   "metadata": {},
   "outputs": [
    {
     "data": {
      "text/plain": [
       "'1.111.234'"
      ]
     },
     "execution_count": 16,
     "metadata": {},
     "output_type": "execute_result"
    }
   ],
   "source": [
    "Solution().thousandSeparator(1111234)"
   ]
  }
 ],
 "metadata": {
  "kernelspec": {
   "display_name": "Python 3.10.6 64-bit",
   "language": "python",
   "name": "python3"
  },
  "language_info": {
   "codemirror_mode": {
    "name": "ipython",
    "version": 3
   },
   "file_extension": ".py",
   "mimetype": "text/x-python",
   "name": "python",
   "nbconvert_exporter": "python",
   "pygments_lexer": "ipython3",
   "version": "3.10.6"
  },
  "orig_nbformat": 4,
  "vscode": {
   "interpreter": {
    "hash": "f15627b29e15848638e903c52dd09ae6c4c9adb1719aae45dda3850ec7954c19"
   }
  }
 },
 "nbformat": 4,
 "nbformat_minor": 2
}
