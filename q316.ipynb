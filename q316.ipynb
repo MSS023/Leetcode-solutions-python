{
 "cells": [
  {
   "cell_type": "code",
   "execution_count": 11,
   "metadata": {},
   "outputs": [
    {
     "data": {
      "text/plain": [
       "'acdb'"
      ]
     },
     "execution_count": 11,
     "metadata": {},
     "output_type": "execute_result"
    }
   ],
   "source": [
    "class Solution:\n",
    "    def removeDuplicateLetters(self, s: str) -> str:\n",
    "        dict={}\n",
    "        for key,i in enumerate(s):\n",
    "            dict[i]=key\n",
    "        res=\"\"\n",
    "        for i in range(len(s)):\n",
    "            if s[i] in res:\n",
    "                continue\n",
    "            \n",
    "            while res and s[i]<res[-1] and dict[res[-1]]>i:\n",
    "                res=res[:len(res)-1]\n",
    "            res+=s[i]\n",
    "        return res\n",
    "\n",
    "\n",
    "sol=Solution()\n",
    "sol.removeDuplicateLetters(input())"
   ]
  }
 ],
 "metadata": {
  "interpreter": {
   "hash": "84c7cd761066ce45b8a789f7b09f72a3209628e136df7af6e1c369b4f2245113"
  },
  "kernelspec": {
   "display_name": "Python 3.10.2 64-bit",
   "language": "python",
   "name": "python3"
  },
  "language_info": {
   "codemirror_mode": {
    "name": "ipython",
    "version": 3
   },
   "file_extension": ".py",
   "mimetype": "text/x-python",
   "name": "python",
   "nbconvert_exporter": "python",
   "pygments_lexer": "ipython3",
   "version": "3.10.2"
  },
  "orig_nbformat": 4
 },
 "nbformat": 4,
 "nbformat_minor": 2
}
