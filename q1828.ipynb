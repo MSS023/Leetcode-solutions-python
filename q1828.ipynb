{
 "cells": [
  {
   "cell_type": "code",
   "execution_count": null,
   "metadata": {},
   "outputs": [],
   "source": [
    "class Solution:\n",
    "    def countPoints(self, points: list[list[int]], queries: list[list[int]]) -> list[int]:\n",
    "        res = []\n",
    "        for x,y,r in queries:\n",
    "            count = 0\n",
    "            for xi,yi in points:\n",
    "                if (xi-x)**2+(yi-y)**2 <= r**2:\n",
    "                    count += 1\n",
    "            res.append(count)\n",
    "        return res"
   ]
  }
 ],
 "metadata": {
  "language_info": {
   "name": "python"
  },
  "orig_nbformat": 4
 },
 "nbformat": 4,
 "nbformat_minor": 2
}
