{
 "cells": [
  {
   "cell_type": "code",
   "execution_count": 1,
   "id": "fce27993",
   "metadata": {},
   "outputs": [],
   "source": [
    "from typing import *"
   ]
  },
  {
   "cell_type": "code",
   "execution_count": null,
   "id": "0520cce7",
   "metadata": {},
   "outputs": [],
   "source": [
    "class Solution:\n",
    "    def longestSubarray(self, nums: List[int]) -> int:\n",
    "        ps = [0]\n",
    "        ss = [0]\n",
    "        count1 = 0\n",
    "        count2 = 0\n",
    "        n = len(nums)\n",
    "\n",
    "        for idx in range(n):\n",
    "            num = nums[idx]\n",
    "            if num == 0:\n",
    "                count1 = 0\n",
    "            else:\n",
    "                count1 += num\n",
    "            ps.append(count1)\n",
    "\n",
    "        for idx in range(n-1, -1, -1):\n",
    "            num = nums[idx]\n",
    "            if num == 0:\n",
    "                count2 = 0\n",
    "            else:\n",
    "                count2 += num\n",
    "            ss.insert(0, count2)\n",
    "\n",
    "        maxm = 0\n",
    "        for idx in range(n):\n",
    "            maxm = max(maxm, ps[idx] + ss[idx+1])\n",
    "\n",
    "        return maxm"
   ]
  },
  {
   "cell_type": "code",
   "execution_count": 26,
   "id": "4a9f57f2",
   "metadata": {},
   "outputs": [],
   "source": [
    "class Solution:\n",
    "    def longestSubarray(self, nums: List[int]) -> int:\n",
    "        memo = []\n",
    "        count = 0\n",
    "        for num in nums:\n",
    "            if num == 0:\n",
    "                memo.append(count)\n",
    "                count = 0\n",
    "                continue\n",
    "            count += num\n",
    "        memo.append(count)\n",
    "        \n",
    "        maxm = memo[0]-1\n",
    "        for idx in range(len(memo)-1):\n",
    "            maxm = max(maxm,memo[idx]+memo[idx+1])\n",
    "        return maxm"
   ]
  },
  {
   "cell_type": "code",
   "execution_count": 27,
   "id": "406fc59b",
   "metadata": {},
   "outputs": [
    {
     "name": "stdout",
     "output_type": "stream",
     "text": [
      "3\n",
      "5\n",
      "2\n"
     ]
    }
   ],
   "source": [
    "print(Solution().longestSubarray([1,1,0,1]))\n",
    "print(Solution().longestSubarray([0,1,1,1,0,1,1,0,1]))\n",
    "print(Solution().longestSubarray([1,1,1]))"
   ]
  }
 ],
 "metadata": {
  "kernelspec": {
   "display_name": "Python 3",
   "language": "python",
   "name": "python3"
  },
  "language_info": {
   "codemirror_mode": {
    "name": "ipython",
    "version": 3
   },
   "file_extension": ".py",
   "mimetype": "text/x-python",
   "name": "python",
   "nbconvert_exporter": "python",
   "pygments_lexer": "ipython3",
   "version": "3.10.11"
  }
 },
 "nbformat": 4,
 "nbformat_minor": 5
}
