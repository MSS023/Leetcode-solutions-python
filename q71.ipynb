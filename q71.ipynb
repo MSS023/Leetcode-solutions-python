{
 "cells": [
  {
   "cell_type": "code",
   "execution_count": null,
   "metadata": {},
   "outputs": [],
   "source": [
    "class Solution:\n",
    "    def simplifyPath(self, path: str) -> str:\n",
    "        result=\"/\"\n",
    "        arr=path.split(\"/\")\n",
    "        stack=[]\n",
    "        arr=filter(lambda x: x!=\"\",arr)\n",
    "        for i in arr:\n",
    "            if i!=\".\" and i!=\"..\":\n",
    "                stack.append(i)\n",
    "            elif i==\"..\" and len(stack)>0:\n",
    "                stack.pop()\n",
    "        result+=\"/\".join(stack)\n",
    "        return result"
   ]
  }
 ],
 "metadata": {
  "language_info": {
   "name": "python"
  },
  "orig_nbformat": 4
 },
 "nbformat": 4,
 "nbformat_minor": 2
}
