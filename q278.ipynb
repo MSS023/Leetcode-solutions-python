{
 "cells": [
  {
   "cell_type": "code",
   "execution_count": 1,
   "metadata": {},
   "outputs": [],
   "source": [
    "# The isBadVersion API is already defined for you.\n",
    "# def isBadVersion(version: int) -> bool:\n",
    "\n",
    "class Solution:\n",
    "    def __init__(self, badVersion):\n",
    "        self.version = badVersion\n",
    "\n",
    "    def isBadVersion(self,version: int) -> bool:\n",
    "        return version == self.version\n",
    "\n",
    "    def firstBadVersion(self, n: int) -> int:\n",
    "        start = 1\n",
    "        end = n\n",
    "        last = start\n",
    "        while start<=end:\n",
    "            mid = (start + end) // 2\n",
    "            if self.isBadVersion(mid):\n",
    "                end = mid - 1\n",
    "                last = mid\n",
    "            else:\n",
    "                start = mid + 1\n",
    "        return last"
   ]
  },
  {
   "cell_type": "code",
   "execution_count": 2,
   "metadata": {},
   "outputs": [
    {
     "data": {
      "text/plain": [
       "2"
      ]
     },
     "execution_count": 2,
     "metadata": {},
     "output_type": "execute_result"
    }
   ],
   "source": [
    "Solution(2).firstBadVersion(3)"
   ]
  }
 ],
 "metadata": {
  "kernelspec": {
   "display_name": "Python 3.10.6 64-bit",
   "language": "python",
   "name": "python3"
  },
  "language_info": {
   "codemirror_mode": {
    "name": "ipython",
    "version": 3
   },
   "file_extension": ".py",
   "mimetype": "text/x-python",
   "name": "python",
   "nbconvert_exporter": "python",
   "pygments_lexer": "ipython3",
   "version": "3.10.6"
  },
  "orig_nbformat": 4,
  "vscode": {
   "interpreter": {
    "hash": "f15627b29e15848638e903c52dd09ae6c4c9adb1719aae45dda3850ec7954c19"
   }
  }
 },
 "nbformat": 4,
 "nbformat_minor": 2
}
