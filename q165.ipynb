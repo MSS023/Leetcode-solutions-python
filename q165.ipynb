{
 "cells": [
  {
   "cell_type": "code",
   "execution_count": 1,
   "id": "da498bd3",
   "metadata": {},
   "outputs": [],
   "source": [
    "from typing import *"
   ]
  },
  {
   "cell_type": "code",
   "execution_count": 2,
   "id": "98cda3a1",
   "metadata": {},
   "outputs": [],
   "source": [
    "class Solution:\n",
    "    def compareVersion(self, version1: str, version2: str) -> int:\n",
    "        version1Split = list(map(lambda x: int(x),version1.split(\".\")))\n",
    "        version2Split = list(map(lambda x: int(x),version2.split(\".\")))\n",
    "\n",
    "        n = max(len(version1Split), len(version2Split))\n",
    "\n",
    "        for idx in range(n):\n",
    "            v1 = version1Split[idx] if idx < len(version1Split) else 0\n",
    "            v2 = version2Split[idx] if idx < len(version2Split) else 0\n",
    "            if v1 < v2:\n",
    "                return -1\n",
    "            if v1 > v2:\n",
    "                return 1\n",
    "        \n",
    "        return 0"
   ]
  },
  {
   "cell_type": "code",
   "execution_count": 3,
   "id": "88e6fa54",
   "metadata": {},
   "outputs": [
    {
     "name": "stdout",
     "output_type": "stream",
     "text": [
      "-1\n"
     ]
    }
   ],
   "source": [
    "print(Solution().compareVersion(\"1.2\",\"1.10\"))"
   ]
  }
 ],
 "metadata": {
  "kernelspec": {
   "display_name": "Python 3",
   "language": "python",
   "name": "python3"
  },
  "language_info": {
   "codemirror_mode": {
    "name": "ipython",
    "version": 3
   },
   "file_extension": ".py",
   "mimetype": "text/x-python",
   "name": "python",
   "nbconvert_exporter": "python",
   "pygments_lexer": "ipython3",
   "version": "3.10.11"
  }
 },
 "nbformat": 4,
 "nbformat_minor": 5
}
