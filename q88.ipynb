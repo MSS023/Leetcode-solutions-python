{
 "cells": [
  {
   "cell_type": "code",
   "execution_count": 1,
   "metadata": {},
   "outputs": [],
   "source": [
    "class Solution:\n",
    "    def merge(self, nums1: list[int], m: int, nums2: list[int], n: int) -> None:\n",
    "        \"\"\"\n",
    "        Do not return anything, modify nums1 in-place instead.\n",
    "        \"\"\"\n",
    "        current = 0\n",
    "        index1 = 0\n",
    "        index2 = 0\n",
    "        arr = [None]*(m+n)\n",
    "        while index1<m and index2<n:\n",
    "            if nums1[index1]<=nums2[index2]:\n",
    "                arr[current] = nums1[index1]\n",
    "                index1+=1\n",
    "                current+=1\n",
    "                continue\n",
    "            arr[current] = nums2[index2]\n",
    "            index2+=1\n",
    "            current+=1\n",
    "        while index1<m:\n",
    "            arr[current] = nums1[index1]\n",
    "            index1+=1\n",
    "            current+=1\n",
    "        while index2<n:\n",
    "            arr[current] = nums2[index2]\n",
    "            index2+=1\n",
    "            current+=1\n",
    "        for i in range(m+n):\n",
    "            nums1[i] = arr[i]"
   ]
  }
 ],
 "metadata": {
  "interpreter": {
   "hash": "7fa5c2bbde354df5fb32f89863fd9628b3718657b842099e0733f1c707419bc4"
  },
  "kernelspec": {
   "display_name": "Python 3.10.2 64-bit",
   "language": "python",
   "name": "python3"
  },
  "language_info": {
   "codemirror_mode": {
    "name": "ipython",
    "version": 3
   },
   "file_extension": ".py",
   "mimetype": "text/x-python",
   "name": "python",
   "nbconvert_exporter": "python",
   "pygments_lexer": "ipython3",
   "version": "3.10.2"
  },
  "orig_nbformat": 4
 },
 "nbformat": 4,
 "nbformat_minor": 2
}
