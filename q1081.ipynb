{
 "cells": [
  {
   "cell_type": "code",
   "execution_count": null,
   "metadata": {},
   "outputs": [],
   "source": [
    "class Solution:\n",
    "    def smallestSubsequence(self, s: str) -> str:\n",
    "        dict={}\n",
    "        for key,i in enumerate(s):\n",
    "            dict[i]=key\n",
    "        res=\"\"\n",
    "        for i in range(len(s)):\n",
    "            if s[i] in res:\n",
    "                continue\n",
    "            \n",
    "            while res and s[i]<res[-1] and dict[res[-1]]>i:\n",
    "                res=res[:len(res)-1]\n",
    "            res+=s[i]\n",
    "        return res"
   ]
  }
 ],
 "metadata": {
  "language_info": {
   "name": "python"
  },
  "orig_nbformat": 4
 },
 "nbformat": 4,
 "nbformat_minor": 2
}
