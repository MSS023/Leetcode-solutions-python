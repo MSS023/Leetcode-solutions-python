{
 "cells": [
  {
   "cell_type": "code",
   "execution_count": 1,
   "id": "f8c0d024",
   "metadata": {},
   "outputs": [],
   "source": [
    "from typing import *"
   ]
  },
  {
   "cell_type": "code",
   "execution_count": 2,
   "id": "e6b13e22",
   "metadata": {},
   "outputs": [],
   "source": [
    "class Solution:\n",
    "    def maxFrequencyElements(self, nums: List[int]) -> int:\n",
    "        counts = {}\n",
    "        maxm = 0\n",
    "        countNum = 0\n",
    "        for num in nums:\n",
    "            if num not in counts:\n",
    "                counts[num] = 0\n",
    "            counts[num] += 1\n",
    "            if counts[num] > maxm:\n",
    "                maxm = counts[num]\n",
    "                countNum = 0\n",
    "            if counts[num] == maxm:\n",
    "                countNum += 1\n",
    "        return countNum * maxm"
   ]
  },
  {
   "cell_type": "code",
   "execution_count": 3,
   "id": "7d300c2b",
   "metadata": {},
   "outputs": [
    {
     "name": "stdout",
     "output_type": "stream",
     "text": [
      "4\n"
     ]
    }
   ],
   "source": [
    "print(Solution().maxFrequencyElements([1,2,2,3,1,4]))"
   ]
  }
 ],
 "metadata": {
  "kernelspec": {
   "display_name": "Python 3",
   "language": "python",
   "name": "python3"
  },
  "language_info": {
   "codemirror_mode": {
    "name": "ipython",
    "version": 3
   },
   "file_extension": ".py",
   "mimetype": "text/x-python",
   "name": "python",
   "nbconvert_exporter": "python",
   "pygments_lexer": "ipython3",
   "version": "3.10.11"
  }
 },
 "nbformat": 4,
 "nbformat_minor": 5
}
