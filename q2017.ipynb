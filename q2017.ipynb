{
 "cells": [
  {
   "cell_type": "code",
   "execution_count": 1,
   "metadata": {},
   "outputs": [],
   "source": [
    "from typing import *"
   ]
  },
  {
   "cell_type": "code",
   "execution_count": 3,
   "metadata": {},
   "outputs": [],
   "source": [
    "class Solution:\n",
    "    def gridGame(self, grid: List[List[int]]) -> int:\n",
    "        n = len(grid[0])\n",
    "\n",
    "        prefixSum = [[], [0]]\n",
    "\n",
    "        for r in range(2):\n",
    "            temp = 0\n",
    "            for c in range(n):\n",
    "                temp += grid[r][c]\n",
    "                prefixSum[r].append(temp)\n",
    "\n",
    "        minm = float(\"inf\")\n",
    "        for idx in range(n):\n",
    "            minm = min(minm, max(\n",
    "                prefixSum[0][n-1] - prefixSum[0][idx], prefixSum[1][idx] - prefixSum[1][0]))\n",
    "\n",
    "        return minm"
   ]
  },
  {
   "cell_type": "code",
   "execution_count": 4,
   "metadata": {},
   "outputs": [
    {
     "name": "stdout",
     "output_type": "stream",
     "text": [
      "4\n"
     ]
    }
   ],
   "source": [
    "print(Solution().gridGame([[2, 5,4],[1,5,1]]))"
   ]
  }
 ],
 "metadata": {
  "kernelspec": {
   "display_name": "Python 3",
   "language": "python",
   "name": "python3"
  },
  "language_info": {
   "codemirror_mode": {
    "name": "ipython",
    "version": 3
   },
   "file_extension": ".py",
   "mimetype": "text/x-python",
   "name": "python",
   "nbconvert_exporter": "python",
   "pygments_lexer": "ipython3",
   "version": "3.13.1"
  }
 },
 "nbformat": 4,
 "nbformat_minor": 2
}
