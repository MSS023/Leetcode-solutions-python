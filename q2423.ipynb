{
 "cells": [
  {
   "cell_type": "code",
   "execution_count": 1,
   "metadata": {},
   "outputs": [],
   "source": [
    "from collections import Counter\n",
    "\n",
    "class Solution:\n",
    "    def equalFrequency(self, word: str) -> bool:\n",
    "        count = Counter(word)\n",
    "        for i in count:\n",
    "            flag = True\n",
    "            freq = count[i] - 1\n",
    "            for j in count:\n",
    "                if j == i:\n",
    "                    continue\n",
    "                if freq == 0:\n",
    "                    freq = count[j]\n",
    "                    continue\n",
    "                if count[j] != freq:\n",
    "                    flag = False\n",
    "                    break\n",
    "            if flag:\n",
    "                return True\n",
    "        return False"
   ]
  }
 ],
 "metadata": {
  "kernelspec": {
   "display_name": "Python 3.10.6 64-bit",
   "language": "python",
   "name": "python3"
  },
  "language_info": {
   "codemirror_mode": {
    "name": "ipython",
    "version": 3
   },
   "file_extension": ".py",
   "mimetype": "text/x-python",
   "name": "python",
   "nbconvert_exporter": "python",
   "pygments_lexer": "ipython3",
   "version": "3.10.6"
  },
  "orig_nbformat": 4,
  "vscode": {
   "interpreter": {
    "hash": "f15627b29e15848638e903c52dd09ae6c4c9adb1719aae45dda3850ec7954c19"
   }
  }
 },
 "nbformat": 4,
 "nbformat_minor": 2
}
