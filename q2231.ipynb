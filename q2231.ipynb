{
 "cells": [
  {
   "cell_type": "code",
   "execution_count": 1,
   "metadata": {},
   "outputs": [],
   "source": [
    "class Solution:\n",
    "    def largestInteger(self, num: int) -> int:\n",
    "        num = list(str(num))\n",
    "        odd = []\n",
    "        even = []\n",
    "        for i in num:\n",
    "            temp = int(i)\n",
    "            if temp % 2 == 0:\n",
    "                even.append(i)\n",
    "            else:\n",
    "                odd.append(i)\n",
    "        odd.sort()\n",
    "        even.sort()\n",
    "        for idx in range(len(num)):\n",
    "            temp = int(num[idx])\n",
    "            if temp%2 == 0:\n",
    "                num[idx] = even.pop()\n",
    "            else:\n",
    "                num[idx] = odd.pop()\n",
    "        return \"\".join(num)"
   ]
  },
  {
   "cell_type": "code",
   "execution_count": 3,
   "metadata": {},
   "outputs": [],
   "source": [
    "import heapq\n",
    "\n",
    "class Solution:\n",
    "    def largestInteger(self, num: int) -> int:\n",
    "        num = list(str(num))\n",
    "        odd = []\n",
    "        even = []\n",
    "        for i in num:\n",
    "            temp = int(i)\n",
    "            if temp % 2 == 0:\n",
    "                heapq.heappush(even,-temp)\n",
    "            else:\n",
    "                heapq.heappush(odd,-temp)\n",
    "        for idx in range(len(num)):\n",
    "            temp = int(num[idx])\n",
    "            if temp%2 == 0:\n",
    "                num[idx] = str(abs(heapq.heappop(even)))\n",
    "            else:\n",
    "                num[idx] = str(abs(heapq.heappop(odd)))\n",
    "        return \"\".join(num)"
   ]
  }
 ],
 "metadata": {
  "kernelspec": {
   "display_name": "Python 3.10.5 64-bit",
   "language": "python",
   "name": "python3"
  },
  "language_info": {
   "codemirror_mode": {
    "name": "ipython",
    "version": 3
   },
   "file_extension": ".py",
   "mimetype": "text/x-python",
   "name": "python",
   "nbconvert_exporter": "python",
   "pygments_lexer": "ipython3",
   "version": "3.10.5"
  },
  "orig_nbformat": 4,
  "vscode": {
   "interpreter": {
    "hash": "f15627b29e15848638e903c52dd09ae6c4c9adb1719aae45dda3850ec7954c19"
   }
  }
 },
 "nbformat": 4,
 "nbformat_minor": 2
}
