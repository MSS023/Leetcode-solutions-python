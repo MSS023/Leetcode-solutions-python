{
 "cells": [
  {
   "cell_type": "code",
   "execution_count": 6,
   "id": "6f87ae30",
   "metadata": {},
   "outputs": [],
   "source": [
    "from typing import *\n",
    "import bisect"
   ]
  },
  {
   "cell_type": "code",
   "execution_count": 51,
   "id": "c193872d",
   "metadata": {},
   "outputs": [],
   "source": [
    "class Solution:\n",
    "    def countFairPairs(self, nums: List[int], lower: int, upper: int) -> int:\n",
    "        if lower < 0 and upper < 0:\n",
    "            lower, upper = abs(upper), abs(lower)\n",
    "            if len(list(filter(lambda x: x >= 0, nums))) == 0:\n",
    "                nums = [abs(num) for num in nums]\n",
    "        nums.sort()\n",
    "        n = len(nums)\n",
    "        if nums[0] == nums[-1]:\n",
    "            if nums[0] + nums[-1] in range(lower, upper+1):\n",
    "                return n*(n-1)//2\n",
    "            return 0\n",
    "        count = 0\n",
    "        for lidx in range(n):\n",
    "            if nums[lidx] > upper:\n",
    "                break\n",
    "            min = lower - nums[lidx]\n",
    "            max = upper - nums[lidx]\n",
    "            minIdx = bisect.bisect_left(nums, min, lidx+1)\n",
    "            if minIdx >= n:\n",
    "                continue\n",
    "            maxIdx = bisect.bisect_right(nums, max, lidx+1)\n",
    "            if maxIdx >= n and nums[-1] < min:\n",
    "                continue\n",
    "            if maxIdx == n or nums[maxIdx] > max:\n",
    "                maxIdx -= 1\n",
    "            count += maxIdx - minIdx + 1\n",
    "        \n",
    "        return count"
   ]
  },
  {
   "cell_type": "code",
   "execution_count": 52,
   "id": "6c39a4c2",
   "metadata": {},
   "outputs": [
    {
     "name": "stdout",
     "output_type": "stream",
     "text": [
      "6\n",
      "1\n",
      "15\n",
      "6\n",
      "6\n"
     ]
    }
   ],
   "source": [
    "print(Solution().countFairPairs(nums = [0,1,7,4,4,5], lower = 3, upper = 6))\n",
    "print(Solution().countFairPairs(nums = [1,7,9,2,5], lower = 11, upper = 11))\n",
    "print(Solution().countFairPairs(nums = [0,0,0,0,0,0], lower = 0, upper = 0))\n",
    "print(Solution().countFairPairs(nums = [5,7,5,7,5], lower = 12, upper = 12))\n",
    "print(Solution().countFairPairs(nums = [-5,-7,-5,-7,-5], lower = -12, upper = -12))"
   ]
  }
 ],
 "metadata": {
  "kernelspec": {
   "display_name": "Python 3",
   "language": "python",
   "name": "python3"
  },
  "language_info": {
   "codemirror_mode": {
    "name": "ipython",
    "version": 3
   },
   "file_extension": ".py",
   "mimetype": "text/x-python",
   "name": "python",
   "nbconvert_exporter": "python",
   "pygments_lexer": "ipython3",
   "version": "3.10.11"
  }
 },
 "nbformat": 4,
 "nbformat_minor": 5
}
