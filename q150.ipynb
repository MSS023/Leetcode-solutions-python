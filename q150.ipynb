{
 "cells": [
  {
   "cell_type": "code",
   "execution_count": null,
   "id": "bff245e0",
   "metadata": {},
   "outputs": [],
   "source": [
    "from typing import *\n",
    "import math"
   ]
  },
  {
   "cell_type": "code",
   "execution_count": 25,
   "id": "9929baf5",
   "metadata": {},
   "outputs": [],
   "source": [
    "class Solution:\n",
    "    def __init__(self):\n",
    "        self.operation = {\n",
    "            \"+\": lambda x: x[0] + x[1],\n",
    "            \"-\": lambda x: x[0] - x[1],\n",
    "            \"*\": lambda x: x[0] * x[1],\n",
    "            \"/\": lambda x: x[0] // x[1] if x[0] // x[1] >= 0 or (x[0]/x[1] == x[0] // x[1]) else (x[0] // x[1])+1\n",
    "        }\n",
    "\n",
    "    def evalRPN(self, tokens: List[str]) -> int:\n",
    "        stack = []\n",
    "        operators = set([\"+\",\"*\",\"/\",\"-\"])\n",
    "        for token in tokens:\n",
    "            if token not in operators:\n",
    "                stack.append(int(token))\n",
    "                continue\n",
    "            op2, op1 = stack.pop(), stack.pop()\n",
    "            res = self.operation[token]([op1, op2])\n",
    "            stack.append(res)\n",
    "        \n",
    "        return stack[-1]"
   ]
  },
  {
   "cell_type": "code",
   "execution_count": 26,
   "id": "86afdc82",
   "metadata": {},
   "outputs": [
    {
     "name": "stdout",
     "output_type": "stream",
     "text": [
      "22\n"
     ]
    }
   ],
   "source": [
    "# print(Solution().evalRPN([\"2\",\"1\",\"+\",\"3\",\"*\"]))\n",
    "# print(Solution().evalRPN([\"4\",\"13\",\"5\",\"/\",\"+\"]))\n",
    "print(Solution().evalRPN([\"10\",\"6\",\"9\",\"3\",\"+\",\"-11\",\"*\",\"/\",\"*\",\"17\",\"+\",\"5\",\"+\"]))"
   ]
  }
 ],
 "metadata": {
  "kernelspec": {
   "display_name": "Python 3",
   "language": "python",
   "name": "python3"
  },
  "language_info": {
   "codemirror_mode": {
    "name": "ipython",
    "version": 3
   },
   "file_extension": ".py",
   "mimetype": "text/x-python",
   "name": "python",
   "nbconvert_exporter": "python",
   "pygments_lexer": "ipython3",
   "version": "3.10.11"
  }
 },
 "nbformat": 4,
 "nbformat_minor": 5
}
