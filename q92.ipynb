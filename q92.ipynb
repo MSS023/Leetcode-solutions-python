{
 "cells": [
  {
   "cell_type": "code",
   "execution_count": 1,
   "metadata": {},
   "outputs": [],
   "source": [
    "# Definition for singly-linked list.\n",
    "class ListNode:\n",
    "    def __init__(self, val=0, next=None):\n",
    "        self.val = val\n",
    "        self.next = next"
   ]
  },
  {
   "cell_type": "code",
   "execution_count": 17,
   "metadata": {},
   "outputs": [],
   "source": [
    "class Solution:\n",
    "    def reverseBetween(self, head: ListNode, left: int, right: int) -> ListNode:\n",
    "        prev = None\n",
    "        idx = 0\n",
    "        node = head\n",
    "        tempHead = None\n",
    "        tempTail = None\n",
    "        while node:\n",
    "            idx += 1\n",
    "            next = node.next\n",
    "            if idx == left - 1:\n",
    "                prev = node\n",
    "            if idx < left:\n",
    "                tail = node\n",
    "            elif idx <= right:\n",
    "                node.next = tempHead\n",
    "                tempHead = node\n",
    "                if prev is not None:\n",
    "                    prev.next = tempHead\n",
    "                if idx == left:\n",
    "                    tempTail = node\n",
    "            if idx == right + 1:\n",
    "                tempTail.next = node\n",
    "            node = next\n",
    "        if left == 1:\n",
    "            head = tempHead\n",
    "        return head"
   ]
  },
  {
   "cell_type": "code",
   "execution_count": 14,
   "metadata": {},
   "outputs": [],
   "source": [
    "def makeLL(arr):\n",
    "    head = None\n",
    "    while arr:\n",
    "        num = arr.pop(0)\n",
    "        if head is None:\n",
    "            head = ListNode(val = num)\n",
    "            temp = head\n",
    "            continue\n",
    "        temp.next = ListNode(val = num)\n",
    "        temp = temp.next\n",
    "    return head\n",
    "\n",
    "def traverse(head):\n",
    "    while head:\n",
    "        print(head.val)\n",
    "        head=head.next"
   ]
  },
  {
   "cell_type": "code",
   "execution_count": 18,
   "metadata": {},
   "outputs": [
    {
     "name": "stdout",
     "output_type": "stream",
     "text": [
      "5\n"
     ]
    }
   ],
   "source": [
    "traverse(Solution().reverseBetween(makeLL([5]),1,1))"
   ]
  }
 ],
 "metadata": {
  "kernelspec": {
   "display_name": "Python 3.10.5 64-bit",
   "language": "python",
   "name": "python3"
  },
  "language_info": {
   "codemirror_mode": {
    "name": "ipython",
    "version": 3
   },
   "file_extension": ".py",
   "mimetype": "text/x-python",
   "name": "python",
   "nbconvert_exporter": "python",
   "pygments_lexer": "ipython3",
   "version": "3.10.5"
  },
  "orig_nbformat": 4,
  "vscode": {
   "interpreter": {
    "hash": "f15627b29e15848638e903c52dd09ae6c4c9adb1719aae45dda3850ec7954c19"
   }
  }
 },
 "nbformat": 4,
 "nbformat_minor": 2
}
