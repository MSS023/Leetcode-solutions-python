{
 "cells": [
  {
   "cell_type": "code",
   "execution_count": 6,
   "id": "f97bad4e",
   "metadata": {},
   "outputs": [],
   "source": [
    "from typing import *\n",
    "from functools import *"
   ]
  },
  {
   "cell_type": "markdown",
   "id": "45532853",
   "metadata": {},
   "source": [
    "## TLE"
   ]
  },
  {
   "cell_type": "code",
   "execution_count": 7,
   "id": "c62c4527",
   "metadata": {},
   "outputs": [],
   "source": [
    "class Solution:\n",
    "    @lru_cache(maxsize=1000)\n",
    "    def main(self, idx: int, p: int) -> int:\n",
    "        if idx == self.n:\n",
    "            return float('inf')\n",
    "        if self.memo[idx][p] is not None:\n",
    "            return self.memo[idx][p]\n",
    "        if idx > self.n - 2:\n",
    "            if p == 0:\n",
    "                return 0\n",
    "            return float('inf')\n",
    "        if p == 0:\n",
    "            return 0\n",
    "        \n",
    "        diff = abs(self.nums[idx] - self.nums[idx+1])\n",
    "        next = self.main(idx+2, p-1)\n",
    "        maxm = max(diff,next)\n",
    "\n",
    "        skipped = self.main(idx+1, p)\n",
    "        minm = min(maxm, skipped)\n",
    "        self.memo[idx][p] = minm\n",
    "        return minm\n",
    "\n",
    "    def minimizeMax(self, nums: List[int], p: int) -> int:\n",
    "        nums.sort()\n",
    "        self.nums = nums\n",
    "        self.n = len(nums)\n",
    "        self.memo = [[None]*(p+1) for _ in range(self.n)]\n",
    "        return self.main(0, p)\n",
    "        "
   ]
  },
  {
   "cell_type": "markdown",
   "id": "d9b96f32",
   "metadata": {},
   "source": [
    "## Greedy Approach"
   ]
  },
  {
   "cell_type": "code",
   "execution_count": 11,
   "id": "78c23e2c",
   "metadata": {},
   "outputs": [],
   "source": [
    "class Solution:\n",
    "    def calculateValidPairs(self, threshold: int):\n",
    "        idx, count = 0,0\n",
    "        while idx < self.n-1:\n",
    "            if self.nums[idx + 1] - self.nums[idx] <= threshold:\n",
    "                count += 1\n",
    "                idx += 1\n",
    "            idx += 1\n",
    "        return count\n",
    "\n",
    "    def minimizeMax(self, nums: List[int], p: int) -> int:\n",
    "        nums.sort()\n",
    "        n = len(nums)\n",
    "        self.nums = nums\n",
    "        self.n = n\n",
    "\n",
    "        left, right = 0, nums[-1] - nums[0]\n",
    "        while left < right:\n",
    "            mid = (left + right) / 2\n",
    "\n",
    "            if self.calculateValidPairs(mid) >= p:\n",
    "                right = mid\n",
    "            else:\n",
    "                left = mid + 1\n",
    "        return left\n",
    "        "
   ]
  },
  {
   "cell_type": "code",
   "execution_count": 12,
   "id": "f55ed192",
   "metadata": {},
   "outputs": [
    {
     "name": "stdout",
     "output_type": "stream",
     "text": [
      "0\n"
     ]
    }
   ],
   "source": [
    "# print(Solution().minimizeMax(nums = [10,1,2,7,1,3], p = 2))\n",
    "print(Solution().minimizeMax(nums = [4,2,1,2], p = 1))"
   ]
  },
  {
   "cell_type": "code",
   "execution_count": null,
   "id": "15e5e8ac",
   "metadata": {},
   "outputs": [],
   "source": [
    "1,2,2,4"
   ]
  }
 ],
 "metadata": {
  "kernelspec": {
   "display_name": "Python 3",
   "language": "python",
   "name": "python3"
  },
  "language_info": {
   "codemirror_mode": {
    "name": "ipython",
    "version": 3
   },
   "file_extension": ".py",
   "mimetype": "text/x-python",
   "name": "python",
   "nbconvert_exporter": "python",
   "pygments_lexer": "ipython3",
   "version": "3.10.11"
  }
 },
 "nbformat": 4,
 "nbformat_minor": 5
}
