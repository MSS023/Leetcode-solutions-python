{
 "cells": [
  {
   "cell_type": "markdown",
   "metadata": {},
   "source": [
    "# TLE"
   ]
  },
  {
   "cell_type": "code",
   "execution_count": 22,
   "metadata": {},
   "outputs": [],
   "source": [
    "class Solution:\n",
    "    def isInterleave(self, s1: str, s2: str, s3: str) -> bool:\n",
    "        if len(s1)+len(s2) != len(s3):\n",
    "            return False\n",
    "        def recursive(s1,s2,s3,idx1,idx2,idx3):\n",
    "            if idx3 == len(s3):\n",
    "                return True\n",
    "            ans = False\n",
    "            if idx1 < len(s1) and s1[idx1] == s3[idx3]:\n",
    "                ans |= recursive(s1,s2,s3,idx1+1,idx2,idx3+1)\n",
    "            if ans:\n",
    "                return True\n",
    "            if idx2 < len(s2) and s2[idx2] == s3[idx3]:\n",
    "                ans |= recursive(s1,s2,s3,idx1,idx2+1,idx3+1)\n",
    "            return ans\n",
    "        return recursive(s1,s2,s3,0,0,0)"
   ]
  },
  {
   "cell_type": "markdown",
   "metadata": {},
   "source": [
    "# DP Approach"
   ]
  },
  {
   "cell_type": "code",
   "execution_count": 24,
   "metadata": {},
   "outputs": [],
   "source": [
    "class Solution:\n",
    "    def isInterleave(self, s1: str, s2: str, s3: str) -> bool:\n",
    "        m, n = len(s1), len(s2)\n",
    "        if m + n != len(s3):\n",
    "            return False\n",
    "        dp = [[False] * (n + 1) for _ in range(m + 1)]\n",
    "        dp[0][0] = True\n",
    "        for i in range(1, m + 1):\n",
    "            dp[i][0] = dp[i - 1][0] and s1[i - 1] == s3[i - 1]\n",
    "        for j in range(1, n + 1):\n",
    "            dp[0][j] = dp[0][j - 1] and s2[j - 1] == s3[j - 1]\n",
    "        for i in range(1, m + 1):\n",
    "            for j in range(1, n + 1):\n",
    "                choose_s1, choose_s2 = False, False\n",
    "                if s1[i - 1] == s3[i + j - 1]:\n",
    "                    choose_s1 = dp[i - 1][j]\n",
    "                if s2[j - 1] == s3[i + j - 1]:\n",
    "                    choose_s2 = dp[i][j - 1]\n",
    "                dp[i][j] = choose_s1 or choose_s2\n",
    "\n",
    "        return dp[m][n]"
   ]
  },
  {
   "cell_type": "code",
   "execution_count": 25,
   "metadata": {},
   "outputs": [
    {
     "data": {
      "text/plain": [
       "True"
      ]
     },
     "execution_count": 25,
     "metadata": {},
     "output_type": "execute_result"
    }
   ],
   "source": [
    "Solution().isInterleave(\"aa\",\"ab\",\"aaba\")"
   ]
  }
 ],
 "metadata": {
  "kernelspec": {
   "display_name": "Python 3.10.5 64-bit",
   "language": "python",
   "name": "python3"
  },
  "language_info": {
   "codemirror_mode": {
    "name": "ipython",
    "version": 3
   },
   "file_extension": ".py",
   "mimetype": "text/x-python",
   "name": "python",
   "nbconvert_exporter": "python",
   "pygments_lexer": "ipython3",
   "version": "3.10.5"
  },
  "orig_nbformat": 4,
  "vscode": {
   "interpreter": {
    "hash": "f15627b29e15848638e903c52dd09ae6c4c9adb1719aae45dda3850ec7954c19"
   }
  }
 },
 "nbformat": 4,
 "nbformat_minor": 2
}
