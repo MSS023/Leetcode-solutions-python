{
 "cells": [
  {
   "cell_type": "code",
   "execution_count": 17,
   "id": "90d949b1",
   "metadata": {},
   "outputs": [],
   "source": [
    "from typing import *\n",
    "from functools import lru_cache"
   ]
  },
  {
   "cell_type": "code",
   "execution_count": 18,
   "id": "e24a78f2",
   "metadata": {},
   "outputs": [],
   "source": [
    "class Solution:\n",
    "    def minScoreTriangulation(self, values: List[int]) -> int:\n",
    "        @lru_cache(None)\n",
    "        def dp(i, j):\n",
    "            if i + 2 > j:\n",
    "                return 0\n",
    "            if i + 2 == j:\n",
    "                return values[i] * values[i + 1] * values[j]\n",
    "            return min(\n",
    "                (values[i] * values[k] * values[j] + dp(i, k) + dp(k, j))\n",
    "                for k in range(i + 1, j)\n",
    "            )\n",
    "\n",
    "        return dp(0, len(values) - 1)"
   ]
  },
  {
   "cell_type": "code",
   "execution_count": 19,
   "id": "bf7b0c05",
   "metadata": {},
   "outputs": [
    {
     "name": "stdout",
     "output_type": "stream",
     "text": [
      "6\n",
      "144\n",
      "13\n"
     ]
    }
   ],
   "source": [
    "print(Solution().minScoreTriangulation([1,2,3]))\n",
    "print(Solution().minScoreTriangulation([3,7,4,5]))\n",
    "print(Solution().minScoreTriangulation([1,3,1,4,1,5]))"
   ]
  }
 ],
 "metadata": {
  "kernelspec": {
   "display_name": "Python 3",
   "language": "python",
   "name": "python3"
  },
  "language_info": {
   "codemirror_mode": {
    "name": "ipython",
    "version": 3
   },
   "file_extension": ".py",
   "mimetype": "text/x-python",
   "name": "python",
   "nbconvert_exporter": "python",
   "pygments_lexer": "ipython3",
   "version": "3.10.11"
  }
 },
 "nbformat": 4,
 "nbformat_minor": 5
}
