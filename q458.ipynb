{
 "cells": [
  {
   "cell_type": "code",
   "execution_count": null,
   "metadata": {},
   "outputs": [],
   "source": [
    "from math import *\n",
    "\n",
    "class Solution:\n",
    "    def poorPigs(self, buckets: int, minutesToDie: int, minutesToTest: int) -> int:\n",
    "        tmp = log2(buckets)\n",
    "        t = ceil(minutesToTest/minutesToDie)\n",
    "\n",
    "        if t == 1: return ceil(tmp) \n",
    "        return ceil(tmp / log2(t+1)) "
   ]
  }
 ],
 "metadata": {
  "language_info": {
   "name": "python"
  },
  "orig_nbformat": 4
 },
 "nbformat": 4,
 "nbformat_minor": 2
}
