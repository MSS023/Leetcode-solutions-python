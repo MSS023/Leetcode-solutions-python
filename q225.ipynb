{
 "cells": [
  {
   "cell_type": "code",
   "execution_count": null,
   "metadata": {},
   "outputs": [],
   "source": [
    "class MyStack:\n",
    "\n",
    "    def __init__(self):\n",
    "        self.queue1=[]\n",
    "        self.queue2=[]\n",
    "\n",
    "    def push(self, x: int) -> None:\n",
    "        self.queue1.append(x)\n",
    "        \n",
    "    def pop(self) -> int:\n",
    "        while len(self.queue1)>1:\n",
    "            self.queue2.append(self.queue1.pop(0))\n",
    "        num=self.queue1.pop()\n",
    "        self.queue2,self.queue1=[],self.queue2\n",
    "        return num\n",
    "\n",
    "    def top(self) -> int:\n",
    "        while len(self.queue1)>1:\n",
    "            self.queue2.append(self.queue1.pop(0))\n",
    "        num=self.queue1.pop()\n",
    "        self.queue2,self.queue1=[],self.queue2\n",
    "        self.queue1.append(num)\n",
    "        return num\n",
    "\n",
    "    def empty(self) -> bool:\n",
    "        if len(self.queue1)==0:\n",
    "            return True\n",
    "        return False\n",
    "\n",
    "\n",
    "# Your MyStack object will be instantiated and called as such:\n",
    "# obj = MyStack()\n",
    "# obj.push(x)\n",
    "# param_2 = obj.pop()\n",
    "# param_3 = obj.top()\n",
    "# param_4 = obj.empty()"
   ]
  }
 ],
 "metadata": {
  "language_info": {
   "name": "python"
  },
  "orig_nbformat": 4
 },
 "nbformat": 4,
 "nbformat_minor": 2
}
