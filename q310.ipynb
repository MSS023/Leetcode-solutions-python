{
 "cells": [
  {
   "cell_type": "code",
   "execution_count": 31,
   "metadata": {},
   "outputs": [],
   "source": [
    "class Solution:\n",
    "    def findMinHeightTrees(self, n: int, edges: list[list[int]]) -> list[int]:\n",
    "        graph=[[] for _ in range(n)]\n",
    "        for a,b in edges:\n",
    "            graph[a].append(b)\n",
    "            graph[b].append(a)\n",
    "        def bfs(node,graph,n):\n",
    "            passed={i:False for i in range(n)}\n",
    "            queue=[[node,0]]\n",
    "            maxm=0\n",
    "            while queue:\n",
    "                temp,level=queue.pop(0)\n",
    "                maxm=level\n",
    "                for index in graph[temp]:\n",
    "                    if not passed[index]:\n",
    "                        queue.append([index,level+1])\n",
    "                passed[temp]=True\n",
    "            return maxm\n",
    "        minm=float('inf')\n",
    "        res=[]\n",
    "        for i in range(n):\n",
    "            temp=bfs(i,graph,n)\n",
    "            if temp<minm:\n",
    "                res=[i]\n",
    "                minm=temp\n",
    "                continue\n",
    "            if temp==minm:\n",
    "                res.append(i)\n",
    "        return res"
   ]
  },
  {
   "cell_type": "code",
   "execution_count": 33,
   "metadata": {},
   "outputs": [],
   "source": [
    "class Solution:\n",
    "    def findMinHeightTrees(self, n: int, edges: list[list[int]]) -> list[int]:\n",
    "        if n<=2:\n",
    "            return [i for i in range(n)]\n",
    "        graph=[[] for _ in range(n)]\n",
    "        for a,b in edges:\n",
    "            graph[a].append(b)\n",
    "            graph[b].append(a)\n",
    "        leaves=[]\n",
    "        for i in range(n):\n",
    "            if len(graph[i])==1:\n",
    "                leaves.append(i)\n",
    "        rem=n\n",
    "        while rem>2:\n",
    "            rem -= len(leaves)\n",
    "            arr = []\n",
    "            while leaves:\n",
    "                l = leaves.pop()\n",
    "                temp = graph[l].pop()\n",
    "                graph[temp].remove(l)\n",
    "                if len(graph[temp])==1:\n",
    "                    arr.append(temp)\n",
    "            leaves = arr\n",
    "        return leaves"
   ]
  },
  {
   "cell_type": "code",
   "execution_count": 34,
   "metadata": {},
   "outputs": [
    {
     "data": {
      "text/plain": [
       "[1]"
      ]
     },
     "execution_count": 34,
     "metadata": {},
     "output_type": "execute_result"
    }
   ],
   "source": [
    "Solution().findMinHeightTrees(4,[[1,0],[1,2],[1,3]])"
   ]
  }
 ],
 "metadata": {
  "interpreter": {
   "hash": "7fa5c2bbde354df5fb32f89863fd9628b3718657b842099e0733f1c707419bc4"
  },
  "kernelspec": {
   "display_name": "Python 3.10.2 64-bit",
   "language": "python",
   "name": "python3"
  },
  "language_info": {
   "codemirror_mode": {
    "name": "ipython",
    "version": 3
   },
   "file_extension": ".py",
   "mimetype": "text/x-python",
   "name": "python",
   "nbconvert_exporter": "python",
   "pygments_lexer": "ipython3",
   "version": "3.10.2"
  },
  "orig_nbformat": 4
 },
 "nbformat": 4,
 "nbformat_minor": 2
}
