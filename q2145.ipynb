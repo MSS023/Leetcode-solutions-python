{
 "cells": [
  {
   "cell_type": "code",
   "execution_count": 2,
   "id": "4e16b16f",
   "metadata": {},
   "outputs": [],
   "source": [
    "from typing import *"
   ]
  },
  {
   "cell_type": "code",
   "execution_count": 3,
   "id": "2a0c1658",
   "metadata": {},
   "outputs": [],
   "source": [
    "class Solution:\n",
    "    def numberOfArrays(self, differences: List[int], lower: int, upper: int) -> int:\n",
    "        minm = 0\n",
    "        maxm = 0\n",
    "\n",
    "        num = 0\n",
    "\n",
    "        for diff in differences:\n",
    "            num += diff\n",
    "            minm = min(minm, num)\n",
    "            maxm = max(maxm, num)\n",
    "\n",
    "        expectedDiff = upper - lower\n",
    "        observedDiff = maxm - minm\n",
    "\n",
    "        result = expectedDiff - observedDiff + 1\n",
    "\n",
    "        return max(result, 0)"
   ]
  },
  {
   "cell_type": "code",
   "execution_count": 8,
   "id": "fa338bbe",
   "metadata": {},
   "outputs": [
    {
     "name": "stdout",
     "output_type": "stream",
     "text": [
      "2\n",
      "4\n",
      "0\n"
     ]
    }
   ],
   "source": [
    "print(Solution().numberOfArrays([1,-3,4],1,6))\n",
    "print(Solution().numberOfArrays([3,-4,5,1,-2],-4,5))\n",
    "print(Solution().numberOfArrays([4,-7,2],3,6))"
   ]
  }
 ],
 "metadata": {
  "kernelspec": {
   "display_name": "Python 3",
   "language": "python",
   "name": "python3"
  },
  "language_info": {
   "codemirror_mode": {
    "name": "ipython",
    "version": 3
   },
   "file_extension": ".py",
   "mimetype": "text/x-python",
   "name": "python",
   "nbconvert_exporter": "python",
   "pygments_lexer": "ipython3",
   "version": "3.10.11"
  }
 },
 "nbformat": 4,
 "nbformat_minor": 5
}
