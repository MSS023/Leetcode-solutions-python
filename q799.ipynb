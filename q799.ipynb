{
 "cells": [
  {
   "cell_type": "code",
   "execution_count": 6,
   "metadata": {},
   "outputs": [
    {
     "data": {
      "text/plain": [
       "0.5"
      ]
     },
     "execution_count": 6,
     "metadata": {},
     "output_type": "execute_result"
    }
   ],
   "source": [
    "class Solution:\n",
    "    def champagneTower(self,poured,query_row,query_glass):\n",
    "        mat=[]\n",
    "        for i in range(0,query_row+1):\n",
    "            arr=[]\n",
    "            if i==0:\n",
    "                arr.append(poured)\n",
    "                mat.append(arr)\n",
    "                continue\n",
    "            for j in range(i+1):\n",
    "                sum=0\n",
    "                if j>0 and mat[i-1][j-1]>1:\n",
    "                    sum+=(mat[i-1][j-1]-1)/2\n",
    "                if j<i and mat[i-1][j]>1:\n",
    "                    sum+=(mat[i-1][j]-1)/2\n",
    "                arr.append(sum)\n",
    "            mat.append(arr)\n",
    "        if(mat[query_row][query_glass]>1):\n",
    "            return float(1)\n",
    "        return mat[query_row][query_glass]\n",
    "    \n",
    "sol=Solution()\n",
    "sol.champagneTower(2,1,1)"
   ]
  }
 ],
 "metadata": {
  "interpreter": {
   "hash": "84c7cd761066ce45b8a789f7b09f72a3209628e136df7af6e1c369b4f2245113"
  },
  "kernelspec": {
   "display_name": "Python 3.10.2 64-bit",
   "language": "python",
   "name": "python3"
  },
  "language_info": {
   "codemirror_mode": {
    "name": "ipython",
    "version": 3
   },
   "file_extension": ".py",
   "mimetype": "text/x-python",
   "name": "python",
   "nbconvert_exporter": "python",
   "pygments_lexer": "ipython3",
   "version": "3.10.2"
  },
  "orig_nbformat": 4
 },
 "nbformat": 4,
 "nbformat_minor": 2
}
