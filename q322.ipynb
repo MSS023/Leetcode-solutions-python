{
 "cells": [
  {
   "cell_type": "code",
   "execution_count": null,
   "metadata": {},
   "outputs": [],
   "source": [
    "class Solution:\n",
    "    def coinChange(self, coins: List[int], amount: int) -> int:\n",
    "        result = [0 for i in range(amount+1)]\n",
    "        for i in range(1,len(result)):\n",
    "            minVal = 10000\n",
    "            for j in coins:\n",
    "                if i - j >= 0 and result[i-j] != -1:\n",
    "                    minVal = min(minVal,result[i-j])\n",
    "            if minVal != 10000:\n",
    "                result[i] = 1 + minVal\n",
    "            else:\n",
    "                result[i] = -1\n",
    "        return result[amount]"
   ]
  }
 ],
 "metadata": {
  "language_info": {
   "name": "python"
  },
  "orig_nbformat": 4
 },
 "nbformat": 4,
 "nbformat_minor": 2
}
