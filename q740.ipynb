{
 "cells": [
  {
   "cell_type": "code",
   "execution_count": 16,
   "metadata": {},
   "outputs": [
    {
     "name": "stdout",
     "output_type": "stream",
     "text": [
      "9\n"
     ]
    }
   ],
   "source": [
    "from collections import Counter\n",
    "\n",
    "def helper(dict):\n",
    "    temp2=0\n",
    "    for i in dict:\n",
    "        \n",
    "        temp=dict.copy()\n",
    "        temp2=temp[i]*i\n",
    "        temp[i]=0\n",
    "        temp[i-1]=0\n",
    "        temp[i+1]=0    \n",
    "        return temp2\n",
    "\n",
    "nums=[int(x) for x in input().split()]\n",
    "diction = Counter(nums)\n",
    "count=0\n",
    "for i in diction:\n",
    "    temp=diction.copy()\n",
    "    temp2=temp[i]*i\n",
    "    temp[i]=0\n",
    "    temp[i-1]=0\n",
    "    temp[i+1]=0\n",
    "    for j in temp:\n",
    "        if temp[j]==0:\n",
    "            continue\n",
    "        temp2=temp[j]*j\n",
    "        if j-1 in temp:\n",
    "            temp[j-1]=0\n",
    "        if j+1 in temp:\n",
    "            temp[j+1]=0\n",
    "    if temp2>count:\n",
    "        count=temp2\n",
    "print(count)"
   ]
  },
  {
   "cell_type": "code",
   "execution_count": 34,
   "metadata": {},
   "outputs": [
    {
     "data": {
      "text/plain": [
       "6"
      ]
     },
     "execution_count": 34,
     "metadata": {},
     "output_type": "execute_result"
    }
   ],
   "source": [
    "from collections import Counter\n",
    "\n",
    "class Solution:\n",
    "    def deleteAndEarn(self, nums):\n",
    "        dict=Counter(nums)\n",
    "        m=max(nums)\n",
    "        arr=[0]*(m+1)\n",
    "        arr[1]=dict[1]\n",
    "        for i in range(2,m+1):\n",
    "            arr[i]=max(arr[i-1],arr[i-2]+dict[i]*i)\n",
    "        return arr[-1]\n",
    "sol=Solution()\n",
    "num=[int(x) for x in input().split(\",\")]\n",
    "sol.deleteAndEarn(num)"
   ]
  }
 ],
 "metadata": {
  "interpreter": {
   "hash": "84c7cd761066ce45b8a789f7b09f72a3209628e136df7af6e1c369b4f2245113"
  },
  "kernelspec": {
   "display_name": "Python 3.10.2 64-bit",
   "language": "python",
   "name": "python3"
  },
  "language_info": {
   "codemirror_mode": {
    "name": "ipython",
    "version": 3
   },
   "file_extension": ".py",
   "mimetype": "text/x-python",
   "name": "python",
   "nbconvert_exporter": "python",
   "pygments_lexer": "ipython3",
   "version": "3.10.2"
  },
  "orig_nbformat": 4
 },
 "nbformat": 4,
 "nbformat_minor": 2
}
