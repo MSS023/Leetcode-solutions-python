{
 "cells": [
  {
   "cell_type": "code",
   "execution_count": 1,
   "metadata": {},
   "outputs": [],
   "source": [
    "from typing import *"
   ]
  },
  {
   "cell_type": "code",
   "execution_count": 71,
   "metadata": {},
   "outputs": [],
   "source": [
    "class Solution:\n",
    "    def calculateMinimumHP(self, dungeon: List[List[int]]) -> int:\n",
    "        def traverseDungeon(r, c, memo):\n",
    "            if (r,c) in memo:\n",
    "                return memo[(r,c)]\n",
    "            maxm = float('-inf')\n",
    "            if r < m-1:\n",
    "                maxm = max(traverseDungeon(r+1,c,memo), maxm)\n",
    "            if c < n-1:\n",
    "                maxm = max(traverseDungeon(r,c+1,memo), maxm)\n",
    "            maxm = min(maxm, -1)\n",
    "            currentCellCost = dungeon[r][c]\n",
    "            if currentCellCost < 0:\n",
    "                maxm += currentCellCost\n",
    "            elif currentCellCost >= -maxm:\n",
    "                maxm = 0\n",
    "            else:\n",
    "                maxm += currentCellCost\n",
    "            memo[(r,c)] = maxm\n",
    "            return maxm\n",
    "\n",
    "        m,n = len(dungeon), len(dungeon[0])\n",
    "        return -(min(traverseDungeon(0,0,{(m-1,n-1): dungeon[m-1][n-1]-1 if dungeon[m-1][n-1]<=0 else -1}),-1))"
   ]
  },
  {
   "cell_type": "code",
   "execution_count": 72,
   "metadata": {},
   "outputs": [
    {
     "data": {
      "text/plain": [
       "7"
      ]
     },
     "execution_count": 72,
     "metadata": {},
     "output_type": "execute_result"
    }
   ],
   "source": [
    "Solution().calculateMinimumHP([[-2,-3,3],[-5,-10,1],[10,30,-5]])"
   ]
  },
  {
   "cell_type": "code",
   "execution_count": 73,
   "metadata": {},
   "outputs": [
    {
     "data": {
      "text/plain": [
       "1"
      ]
     },
     "execution_count": 73,
     "metadata": {},
     "output_type": "execute_result"
    }
   ],
   "source": [
    "Solution().calculateMinimumHP([[2],[1]])"
   ]
  },
  {
   "cell_type": "code",
   "execution_count": 74,
   "metadata": {},
   "outputs": [
    {
     "data": {
      "text/plain": [
       "2"
      ]
     },
     "execution_count": 74,
     "metadata": {},
     "output_type": "execute_result"
    }
   ],
   "source": [
    "Solution().calculateMinimumHP([[1,-2,3],[2,-2,-2]])"
   ]
  }
 ],
 "metadata": {
  "kernelspec": {
   "display_name": "Python 3",
   "language": "python",
   "name": "python3"
  },
  "language_info": {
   "codemirror_mode": {
    "name": "ipython",
    "version": 3
   },
   "file_extension": ".py",
   "mimetype": "text/x-python",
   "name": "python",
   "nbconvert_exporter": "python",
   "pygments_lexer": "ipython3",
   "version": "3.11.5"
  },
  "orig_nbformat": 4
 },
 "nbformat": 4,
 "nbformat_minor": 2
}
