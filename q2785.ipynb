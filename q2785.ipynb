{
 "cells": [
  {
   "cell_type": "code",
   "execution_count": 1,
   "id": "4f3c8325",
   "metadata": {},
   "outputs": [],
   "source": [
    "from typing import *"
   ]
  },
  {
   "cell_type": "code",
   "execution_count": 5,
   "id": "2fa28954",
   "metadata": {},
   "outputs": [],
   "source": [
    "class Solution:\n",
    "    def sortVowels(self, s: str) -> str:\n",
    "        vowelsSet = {\"a\",\"e\",\"i\",\"o\",\"u\",\"A\",\"E\",\"I\",\"O\",\"U\"}\n",
    "        vowels = sorted(list(filter(lambda x: x in vowelsSet, s)), reverse=True, key=ord)\n",
    "        newS = \"\"\n",
    "        for ch in s:\n",
    "            if ch not in vowelsSet:\n",
    "                newS += ch\n",
    "                continue\n",
    "            newS += vowels.pop()\n",
    "        return newS"
   ]
  },
  {
   "cell_type": "code",
   "execution_count": 6,
   "id": "657c26b1",
   "metadata": {},
   "outputs": [
    {
     "name": "stdout",
     "output_type": "stream",
     "text": [
      "lEOtcede\n"
     ]
    }
   ],
   "source": [
    "print(Solution().sortVowels(\"lEetcOde\"))"
   ]
  }
 ],
 "metadata": {
  "kernelspec": {
   "display_name": "Python 3",
   "language": "python",
   "name": "python3"
  },
  "language_info": {
   "codemirror_mode": {
    "name": "ipython",
    "version": 3
   },
   "file_extension": ".py",
   "mimetype": "text/x-python",
   "name": "python",
   "nbconvert_exporter": "python",
   "pygments_lexer": "ipython3",
   "version": "3.10.11"
  }
 },
 "nbformat": 4,
 "nbformat_minor": 5
}
