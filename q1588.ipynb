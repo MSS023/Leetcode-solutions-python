{
 "cells": [
  {
   "cell_type": "code",
   "execution_count": 3,
   "metadata": {},
   "outputs": [],
   "source": [
    "from typing import List\n",
    "\n",
    "class Solution:\n",
    "    def sumOddLengthSubarrays(self, arr: List[int]) -> int:\n",
    "        prefixSum = [arr[0]]\n",
    "        for i in range(1,len(arr)):\n",
    "            prefixSum.append(prefixSum[-1]+arr[i])\n",
    "        sum = 0\n",
    "        lenSub = []\n",
    "        for i in range(0,len(arr),2):\n",
    "            lenSub.append(i+1)\n",
    "        for i in range(len(arr),0,-1):\n",
    "            for j in lenSub:\n",
    "                sum += prefixSum[i-1]\n",
    "                if j == i:\n",
    "                    continue\n",
    "                sum -= prefixSum[i-j-1]\n",
    "            if lenSub[-1] == i:\n",
    "                lenSub.pop()\n",
    "        return sum"
   ]
  },
  {
   "cell_type": "code",
   "execution_count": 5,
   "metadata": {},
   "outputs": [
    {
     "data": {
      "text/plain": [
       "3"
      ]
     },
     "execution_count": 5,
     "metadata": {},
     "output_type": "execute_result"
    }
   ],
   "source": [
    "Solution().sumOddLengthSubarrays([1,2])"
   ]
  }
 ],
 "metadata": {
  "kernelspec": {
   "display_name": "Python 3.10.5 64-bit",
   "language": "python",
   "name": "python3"
  },
  "language_info": {
   "codemirror_mode": {
    "name": "ipython",
    "version": 3
   },
   "file_extension": ".py",
   "mimetype": "text/x-python",
   "name": "python",
   "nbconvert_exporter": "python",
   "pygments_lexer": "ipython3",
   "version": "3.10.5"
  },
  "orig_nbformat": 4,
  "vscode": {
   "interpreter": {
    "hash": "f15627b29e15848638e903c52dd09ae6c4c9adb1719aae45dda3850ec7954c19"
   }
  }
 },
 "nbformat": 4,
 "nbformat_minor": 2
}
