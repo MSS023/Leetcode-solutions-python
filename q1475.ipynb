{
 "cells": [
  {
   "cell_type": "code",
   "execution_count": 1,
   "metadata": {},
   "outputs": [],
   "source": [
    "from typing import *"
   ]
  },
  {
   "cell_type": "code",
   "execution_count": 2,
   "metadata": {},
   "outputs": [],
   "source": [
    "class Solution:\n",
    "    def finalPrices(self, prices: List[int]) -> List[int]:\n",
    "        fP = prices.copy()\n",
    "\n",
    "        n = len(fP)\n",
    "        for idx in range(n):\n",
    "            origPrice = fP[idx]\n",
    "\n",
    "            for idx2 in range(idx+1, n):\n",
    "                if fP[idx2] <= origPrice:\n",
    "                    fP[idx] = origPrice - fP[idx2]\n",
    "                    break\n",
    "            \n",
    "        return fP"
   ]
  },
  {
   "cell_type": "code",
   "execution_count": 3,
   "metadata": {},
   "outputs": [
    {
     "name": "stdout",
     "output_type": "stream",
     "text": [
      "[4, 2, 4, 2, 3]\n",
      "[1, 2, 3, 4, 5]\n",
      "[9, 0, 1, 6]\n"
     ]
    }
   ],
   "source": [
    "print(Solution().finalPrices([8, 4,6,2,3]))\n",
    "\n",
    "print(Solution().finalPrices([1, 2,3,4,5]))\n",
    "\n",
    "print(Solution().finalPrices([10, 1,1,6]))"
   ]
  }
 ],
 "metadata": {
  "kernelspec": {
   "display_name": "Python 3",
   "language": "python",
   "name": "python3"
  },
  "language_info": {
   "codemirror_mode": {
    "name": "ipython",
    "version": 3
   },
   "file_extension": ".py",
   "mimetype": "text/x-python",
   "name": "python",
   "nbconvert_exporter": "python",
   "pygments_lexer": "ipython3",
   "version": "3.13.1"
  }
 },
 "nbformat": 4,
 "nbformat_minor": 2
}
