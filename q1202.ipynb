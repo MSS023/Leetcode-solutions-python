{
 "cells": [
  {
   "cell_type": "code",
   "execution_count": 11,
   "metadata": {},
   "outputs": [],
   "source": [
    "class Graph:\n",
    "    def __init__(self,num):\n",
    "        self.adjacency=[[None]*num for i in range(num)]\n",
    "    \n",
    "    def addEdge(self,pairs):\n",
    "        for i in pairs:\n",
    "            self.adjacency[i[0]][i[1]]=1\n",
    "            self.adjacency[i[1]][i[0]]=1\n",
    "\n",
    "class Solution:\n",
    "    def smallestStringWithSwaps(self, s: str, pairs: list[list[int]]) -> str:\n",
    "        graph=Graph(len(s))\n",
    "        graph.addEdge(pairs)\n",
    "        smallest=[None for i in range(len(s))]\n",
    "        def dfs(matrix):\n",
    "            passed=[]\n",
    "            for num,i in enumerate(matrix):\n",
    "                if num in passed:\n",
    "                    continue\n",
    "                stack=[num]\n",
    "                passed.append(num)\n",
    "                ref=[num]\n",
    "                arr=[s[num]]\n",
    "                while stack:\n",
    "                    n=stack.pop()\n",
    "                    for j in range(len(matrix)):\n",
    "                        if matrix[n][j]==None:\n",
    "                            continue\n",
    "                        if j in passed:\n",
    "                            continue\n",
    "                        stack.append(j)\n",
    "                        passed.append(j)\n",
    "                        arr.append(s[j])\n",
    "                        ref.append(j)\n",
    "                arr.sort()\n",
    "                ref.sort()\n",
    "                for key,item in enumerate(ref):\n",
    "                    smallest[item]=arr[key]\n",
    "            return smallest\n",
    "        smallest=dfs(graph.adjacency)\n",
    "        return \"\".join(smallest)"
   ]
  },
  {
   "cell_type": "code",
   "execution_count": 12,
   "metadata": {},
   "outputs": [
    {
     "name": "stdout",
     "output_type": "stream",
     "text": [
      "bacd\n"
     ]
    }
   ],
   "source": [
    "print(Solution().smallestStringWithSwaps(\"dcab\",[[0,3],[1,2]]))"
   ]
  }
 ],
 "metadata": {
  "interpreter": {
   "hash": "84c7cd761066ce45b8a789f7b09f72a3209628e136df7af6e1c369b4f2245113"
  },
  "kernelspec": {
   "display_name": "Python 3.10.2 64-bit",
   "language": "python",
   "name": "python3"
  },
  "language_info": {
   "codemirror_mode": {
    "name": "ipython",
    "version": 3
   },
   "file_extension": ".py",
   "mimetype": "text/x-python",
   "name": "python",
   "nbconvert_exporter": "python",
   "pygments_lexer": "ipython3",
   "version": "3.10.2"
  },
  "orig_nbformat": 4
 },
 "nbformat": 4,
 "nbformat_minor": 2
}
