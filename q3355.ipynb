{
 "cells": [
  {
   "cell_type": "code",
   "execution_count": 1,
   "id": "6d0c31da",
   "metadata": {},
   "outputs": [],
   "source": [
    "from typing import *"
   ]
  },
  {
   "cell_type": "code",
   "execution_count": null,
   "id": "4bad5c8c",
   "metadata": {},
   "outputs": [],
   "source": [
    "class Solution:\n",
    "    def isZeroArray(self, nums: List[int], queries: List[List[int]]) -> bool:\n",
    "        deltaArray = [0] * (len(nums) + 1)\n",
    "        for left, right in queries:\n",
    "            deltaArray[left] += 1\n",
    "            deltaArray[right + 1] -= 1\n",
    "        operationCounts = []\n",
    "        currentOperations = 0\n",
    "        for delta in deltaArray:\n",
    "            currentOperations += delta\n",
    "            operationCounts.append(currentOperations)\n",
    "        for operations, target in zip(operationCounts, nums):\n",
    "            if operations < target:\n",
    "                return False\n",
    "        return True"
   ]
  },
  {
   "cell_type": "code",
   "execution_count": 42,
   "id": "bb80a945",
   "metadata": {},
   "outputs": [
    {
     "name": "stdout",
     "output_type": "stream",
     "text": [
      "True\n",
      "False\n",
      "True\n",
      "True\n",
      "False\n"
     ]
    }
   ],
   "source": [
    "print(Solution().isZeroArray([1,0,1],[[0,2]]))\n",
    "print(Solution().isZeroArray([4,3,2,1],[[1,3],[0,2]]))\n",
    "print(Solution().isZeroArray([2],[[0,0],[0,0]]))\n",
    "print(Solution().isZeroArray([8,6],[[0,0],[1,1],[0,0],[0,0],[1,1],[0,1],[0,0],[0,0],[1,1],[0,1],[1,1],[0,1],[0,0],[0,0],[0,1]]))\n",
    "print(Solution().isZeroArray([4,6],[[0,0],[0,1],[1,1],[0,0],[1,1],[1,1],[0,0],[1,1],[1,1],[1,1],[0,0],[1,1],[0,1],[0,0],[1,1]]))"
   ]
  }
 ],
 "metadata": {
  "kernelspec": {
   "display_name": "Python 3",
   "language": "python",
   "name": "python3"
  },
  "language_info": {
   "codemirror_mode": {
    "name": "ipython",
    "version": 3
   },
   "file_extension": ".py",
   "mimetype": "text/x-python",
   "name": "python",
   "nbconvert_exporter": "python",
   "pygments_lexer": "ipython3",
   "version": "3.10.11"
  }
 },
 "nbformat": 4,
 "nbformat_minor": 5
}
