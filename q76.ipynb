{
 "cells": [
  {
   "cell_type": "code",
   "execution_count": 16,
   "id": "cea5194f",
   "metadata": {},
   "outputs": [],
   "source": [
    "from typing import *\n",
    "from collections import Counter"
   ]
  },
  {
   "cell_type": "code",
   "execution_count": 37,
   "id": "8b5c7832",
   "metadata": {},
   "outputs": [],
   "source": [
    "class Solution:\n",
    "    def doesContain(self, count1: Counter, count2: Counter) -> bool:\n",
    "        for ch in count2:\n",
    "            if ch not in count1:\n",
    "                return False\n",
    "            if count1[ch] < count2[ch]:\n",
    "                return False\n",
    "        return True\n",
    "\n",
    "    def minWindow(self, s: str, t: str) -> str:\n",
    "        countT = Counter(t)\n",
    "        l,r = 0,0\n",
    "        n = len(s)\n",
    "        minm = n\n",
    "        minL, minR = l, r-1\n",
    "        countS = Counter()\n",
    "        while r < n:\n",
    "            if s[r] not in countS:\n",
    "                countS[s[r]] = 0\n",
    "            countS[s[r]] += 1\n",
    "            while self.doesContain(countS, countT) and l <= r:\n",
    "                if minm > r-l:\n",
    "                    minm = r-l\n",
    "                    minL = l\n",
    "                    minR = r\n",
    "                countS[s[l]] -= 1\n",
    "                l += 1\n",
    "            r += 1\n",
    "        return s[minL:minR+1]"
   ]
  },
  {
   "cell_type": "code",
   "execution_count": 38,
   "id": "65ad5ea4",
   "metadata": {},
   "outputs": [
    {
     "name": "stdout",
     "output_type": "stream",
     "text": [
      "\n"
     ]
    }
   ],
   "source": [
    "# print(Solution().minWindow(s = \"ADOBECODEBANC\", t = \"ABC\"))\n",
    "print(Solution().minWindow(s=\"a\", t = \"aa\"))"
   ]
  }
 ],
 "metadata": {
  "kernelspec": {
   "display_name": "Python 3",
   "language": "python",
   "name": "python3"
  },
  "language_info": {
   "codemirror_mode": {
    "name": "ipython",
    "version": 3
   },
   "file_extension": ".py",
   "mimetype": "text/x-python",
   "name": "python",
   "nbconvert_exporter": "python",
   "pygments_lexer": "ipython3",
   "version": "3.10.11"
  }
 },
 "nbformat": 4,
 "nbformat_minor": 5
}
