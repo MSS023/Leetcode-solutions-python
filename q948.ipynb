{
 "cells": [
  {
   "cell_type": "code",
   "execution_count": 3,
   "metadata": {},
   "outputs": [],
   "source": [
    "from typing import *\n",
    "\n",
    "class Solution:\n",
    "    def bagOfTokensScore(self, tokens: List[int], power: int) -> int:\n",
    "        tokens.sort()\n",
    "        score = 0\n",
    "        maxm = 0\n",
    "        while tokens:\n",
    "            if power >= tokens[0]:\n",
    "                score += 1\n",
    "                power -= tokens.pop(0)\n",
    "            elif score > 0:\n",
    "                score -= 1\n",
    "                power += tokens.pop()\n",
    "            else:\n",
    "                return maxm\n",
    "            maxm = max(maxm,score)\n",
    "        return maxm"
   ]
  },
  {
   "cell_type": "code",
   "execution_count": 6,
   "metadata": {},
   "outputs": [
    {
     "data": {
      "text/plain": [
       "1"
      ]
     },
     "execution_count": 6,
     "metadata": {},
     "output_type": "execute_result"
    }
   ],
   "source": [
    "Solution().bagOfTokensScore([100,200],150)"
   ]
  }
 ],
 "metadata": {
  "kernelspec": {
   "display_name": "Python 3.10.6 64-bit",
   "language": "python",
   "name": "python3"
  },
  "language_info": {
   "codemirror_mode": {
    "name": "ipython",
    "version": 3
   },
   "file_extension": ".py",
   "mimetype": "text/x-python",
   "name": "python",
   "nbconvert_exporter": "python",
   "pygments_lexer": "ipython3",
   "version": "3.10.6"
  },
  "orig_nbformat": 4,
  "vscode": {
   "interpreter": {
    "hash": "f15627b29e15848638e903c52dd09ae6c4c9adb1719aae45dda3850ec7954c19"
   }
  }
 },
 "nbformat": 4,
 "nbformat_minor": 2
}
