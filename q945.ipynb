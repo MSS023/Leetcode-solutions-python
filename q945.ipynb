{
 "cells": [
  {
   "cell_type": "code",
   "execution_count": 9,
   "metadata": {},
   "outputs": [],
   "source": [
    "from typing import *\n",
    "from collections import Counter\n",
    "import heapq\n",
    "\n",
    "class Solution:\n",
    "    def minIncrementForUnique(self, nums: List[int]) -> int:\n",
    "        start = min(nums)\n",
    "        count = Counter(nums)\n",
    "        arr = []\n",
    "        emptySlots = []\n",
    "        i = 0\n",
    "        n = len(nums)\n",
    "        while i < n:\n",
    "            if start+i not in count:\n",
    "                if len(emptySlots) == len(arr):\n",
    "                    n += 1\n",
    "                    i += 1\n",
    "                    continue\n",
    "                emptySlots.append(start+i)\n",
    "            if count[start+i] > 1:\n",
    "                for j in range(1,count[start+i]):\n",
    "                    heapq.heappush(arr,start+i)\n",
    "            i += 1\n",
    "        n = len(arr)\n",
    "        sum = 0\n",
    "        for i in range(len(arr)):\n",
    "            sum += emptySlots.pop(0)-heapq.heappop(arr)\n",
    "        return sum"
   ]
  },
  {
   "cell_type": "code",
   "execution_count": 10,
   "metadata": {},
   "outputs": [
    {
     "data": {
      "text/plain": [
       "1"
      ]
     },
     "execution_count": 10,
     "metadata": {},
     "output_type": "execute_result"
    }
   ],
   "source": [
    "Solution().minIncrementForUnique([0,2,2])"
   ]
  }
 ],
 "metadata": {
  "kernelspec": {
   "display_name": "Python 3.10.6 64-bit",
   "language": "python",
   "name": "python3"
  },
  "language_info": {
   "codemirror_mode": {
    "name": "ipython",
    "version": 3
   },
   "file_extension": ".py",
   "mimetype": "text/x-python",
   "name": "python",
   "nbconvert_exporter": "python",
   "pygments_lexer": "ipython3",
   "version": "3.10.6"
  },
  "orig_nbformat": 4,
  "vscode": {
   "interpreter": {
    "hash": "f15627b29e15848638e903c52dd09ae6c4c9adb1719aae45dda3850ec7954c19"
   }
  }
 },
 "nbformat": 4,
 "nbformat_minor": 2
}
