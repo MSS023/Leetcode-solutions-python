{
 "cells": [
  {
   "cell_type": "code",
   "execution_count": 1,
   "metadata": {},
   "outputs": [],
   "source": [
    "from typing import *"
   ]
  },
  {
   "cell_type": "markdown",
   "metadata": {},
   "source": [
    "# TLE\n"
   ]
  },
  {
   "cell_type": "code",
   "execution_count": 19,
   "metadata": {},
   "outputs": [],
   "source": [
    "class Solution:\n",
    "    def shiftingLetters(self, s: str, shifts: List[List[int]]) -> str:\n",
    "        aOrd = ord('a')\n",
    "        zOrd = ord('z')\n",
    "        finalShifts = [0]*len(s)\n",
    "        newS = \"\"\n",
    "\n",
    "        for [start, end, direction] in shifts:\n",
    "            if direction:\n",
    "                change = 1\n",
    "            else:\n",
    "                change = -1\n",
    "            for idx in range(start, end+1):\n",
    "                finalShifts[idx] += change\n",
    "\n",
    "        for idx in range(len(s)):\n",
    "            origOrd = ord(s[idx])\n",
    "            shift = finalShifts[idx] % 26\n",
    "            newOrd = origOrd\n",
    "\n",
    "            if shift == 0:\n",
    "                newS += chr(newOrd)\n",
    "                continue\n",
    "\n",
    "            newOrd = origOrd + shift\n",
    "\n",
    "            while newOrd < aOrd or newOrd > zOrd:\n",
    "                if newOrd < aOrd:\n",
    "                    newOrd = zOrd - aOrd + newOrd + 1\n",
    "                    continue\n",
    "\n",
    "                newOrd = aOrd + newOrd - zOrd - 1\n",
    "\n",
    "            newS += chr(newOrd)\n",
    "\n",
    "        return newS"
   ]
  },
  {
   "cell_type": "markdown",
   "metadata": {},
   "source": [
    "# Second Approach\n"
   ]
  },
  {
   "cell_type": "code",
   "execution_count": 27,
   "metadata": {},
   "outputs": [],
   "source": [
    "class Solution:\n",
    "    def getChange(self, direction: int) -> int:\n",
    "        return -1 if not direction else 1\n",
    "\n",
    "    def shiftingLetters(self, s: str, shifts: List[List[int]]) -> str:\n",
    "        n = len(s)\n",
    "        shift = [0]*n\n",
    "\n",
    "        ordA = ord(\"a\")\n",
    "        ordZ = ord(\"z\")\n",
    "\n",
    "        for [start, end, direction] in shifts:\n",
    "            change = self.getChange(direction)\n",
    "\n",
    "            shift[start] = shift[start] + change\n",
    "            if end < n-1:\n",
    "                shift[end+1] = shift[end+1] - change\n",
    "        \n",
    "        newS = []\n",
    "\n",
    "        change = 0\n",
    "        for idx in range(n):\n",
    "            ch = s[idx]\n",
    "            change = change + shift[idx]\n",
    "\n",
    "            if change == 0:\n",
    "                newCh = ch\n",
    "            elif change < 0:\n",
    "                newChOrd = ord(ch) - abs(change)%26\n",
    "                if newChOrd < ordA:\n",
    "                    newChOrd = ordZ - (ordA - newChOrd) + 1\n",
    "                newCh = chr(newChOrd)\n",
    "            else:\n",
    "                newChOrd = ord(ch) + abs(change)%26\n",
    "                if newChOrd > ordZ:\n",
    "                    newChOrd = ordA + (newChOrd - ordZ) - 1\n",
    "                newCh = chr(newChOrd)\n",
    "            \n",
    "            newS.append(newCh)\n",
    "        \n",
    "        return \"\".join(newS)"
   ]
  },
  {
   "cell_type": "markdown",
   "metadata": {},
   "source": [
    "# Driver Code\n"
   ]
  },
  {
   "cell_type": "code",
   "execution_count": 28,
   "metadata": {},
   "outputs": [
    {
     "name": "stdout",
     "output_type": "stream",
     "text": [
      "catz\n"
     ]
    }
   ],
   "source": [
    "# print(Solution().shiftingLetters(\n",
    "    # s=\"abc\", shifts=[[0, 1, 0], [1, 2, 1], [0, 2, 1]]))\n",
    "\n",
    "print(Solution().shiftingLetters(s=\"dztz\", shifts=[[0,0,0],[1,1,1]]))"
   ]
  }
 ],
 "metadata": {
  "kernelspec": {
   "display_name": "Python 3",
   "language": "python",
   "name": "python3"
  },
  "language_info": {
   "codemirror_mode": {
    "name": "ipython",
    "version": 3
   },
   "file_extension": ".py",
   "mimetype": "text/x-python",
   "name": "python",
   "nbconvert_exporter": "python",
   "pygments_lexer": "ipython3",
   "version": "3.13.1"
  }
 },
 "nbformat": 4,
 "nbformat_minor": 2
}
