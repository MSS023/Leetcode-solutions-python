{
 "cells": [
  {
   "cell_type": "code",
   "execution_count": null,
   "metadata": {},
   "outputs": [],
   "source": [
    "class Solution:\n",
    "    def sumOfNumberAndReverse(self, num: int) -> bool:\n",
    "        if num == 0:\n",
    "            return True\n",
    "        n = len(str(num))\n",
    "        res = \"0\"+\"1\"*(n-1)\n",
    "        memo = set()\n",
    "        while int(res) < num:\n",
    "            i = int(res)\n",
    "            if i in memo:\n",
    "                res = str(i+1)\n",
    "                continue\n",
    "            r = int(res[::-1])\n",
    "            if i+r == num:\n",
    "                return True\n",
    "            res = str(i+1)\n",
    "            memo.add(i)\n",
    "        return False"
   ]
  }
 ],
 "metadata": {
  "kernelspec": {
   "display_name": "Python 3.10.6 64-bit",
   "language": "python",
   "name": "python3"
  },
  "language_info": {
   "name": "python",
   "version": "3.10.6"
  },
  "orig_nbformat": 4,
  "vscode": {
   "interpreter": {
    "hash": "f15627b29e15848638e903c52dd09ae6c4c9adb1719aae45dda3850ec7954c19"
   }
  }
 },
 "nbformat": 4,
 "nbformat_minor": 2
}
