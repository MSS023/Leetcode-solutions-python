{
 "cells": [
  {
   "cell_type": "code",
   "execution_count": 40,
   "metadata": {},
   "outputs": [],
   "source": [
    "from typing import *\n",
    "\n",
    "class Solution:\n",
    "    def spiralOrder(self, matrix: List[List[int]]) -> List[int]:\n",
    "        m = len(matrix)\n",
    "        n = len(matrix[0])\n",
    "        minm = min(m,n)\n",
    "        count = n*m\n",
    "        if minm & 1 == 1:\n",
    "            r = (minm + 1) // 2\n",
    "        else:\n",
    "            r = minm // 2\n",
    "        res = []\n",
    "        for i in range(r):\n",
    "            row = i\n",
    "            for col in range(i,n-i):\n",
    "                res.append(matrix[row][col])\n",
    "                count -= 1\n",
    "            if count == 0:\n",
    "                break\n",
    "            col = n-i-1\n",
    "            for row in range(i+1,m-i):\n",
    "                res.append(matrix[row][col])\n",
    "                count -= 1\n",
    "            if count == 0:\n",
    "                break\n",
    "            row = m-i-1\n",
    "            for col in range(n-i-2,i-1,-1):\n",
    "                res.append(matrix[row][col])\n",
    "                count -= 1\n",
    "            if count == 0:\n",
    "                break\n",
    "            col = i\n",
    "            for row in range(m-i-2, i, -1):\n",
    "                res.append(matrix[row][col])\n",
    "                count -= 1\n",
    "            if count == 0:\n",
    "                break\n",
    "        return res"
   ]
  },
  {
   "cell_type": "code",
   "execution_count": 41,
   "metadata": {},
   "outputs": [
    {
     "name": "stdout",
     "output_type": "stream",
     "text": [
      "[1, 2, 3]\n",
      "[4, 5, 6]\n",
      "[7, 8, 9]\n",
      "[10, 11, 12]\n",
      "[13, 14, 15]\n"
     ]
    },
    {
     "data": {
      "text/plain": [
       "[1, 2, 3, 6, 9, 12, 15, 14, 13, 10, 7, 4, 5, 8, 11]"
      ]
     },
     "execution_count": 41,
     "metadata": {},
     "output_type": "execute_result"
    }
   ],
   "source": [
    "mat = [[1,2,3],[4,5,6],[7,8,9],[10,11,12],[13,14,15]]\n",
    "\n",
    "print(*mat, sep=\"\\n\")\n",
    "\n",
    "Solution().spiralOrder(mat)"
   ]
  }
 ],
 "metadata": {
  "kernelspec": {
   "display_name": "Python 3.10.6 64-bit",
   "language": "python",
   "name": "python3"
  },
  "language_info": {
   "codemirror_mode": {
    "name": "ipython",
    "version": 3
   },
   "file_extension": ".py",
   "mimetype": "text/x-python",
   "name": "python",
   "nbconvert_exporter": "python",
   "pygments_lexer": "ipython3",
   "version": "3.10.6"
  },
  "orig_nbformat": 4,
  "vscode": {
   "interpreter": {
    "hash": "f15627b29e15848638e903c52dd09ae6c4c9adb1719aae45dda3850ec7954c19"
   }
  }
 },
 "nbformat": 4,
 "nbformat_minor": 2
}
