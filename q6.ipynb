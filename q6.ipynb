{
 "cells": [
  {
   "cell_type": "code",
   "execution_count": 1,
   "metadata": {},
   "outputs": [
    {
     "data": {
      "text/plain": [
       "'PAHNAPLSIIGYIR'"
      ]
     },
     "execution_count": 1,
     "metadata": {},
     "output_type": "execute_result"
    }
   ],
   "source": [
    "class Solution:\n",
    "    def convert(self, s: str, numRows: int) -> str:\n",
    "        i=0\n",
    "        arr=[\"\"]*numRows\n",
    "        while i<len(s):\n",
    "            for j in range(numRows):\n",
    "                if i>=len(s):\n",
    "                    break\n",
    "                arr[j]+=s[i]\n",
    "                i+=1\n",
    "            for j in range(numRows-2,0,-1):\n",
    "                if i>=len(s):\n",
    "                    break\n",
    "                arr[j]+=s[i]\n",
    "                i+=1\n",
    "        str=\"\"\n",
    "        for i in arr:\n",
    "            str+=i\n",
    "        return str\n",
    "\n",
    "sol=Solution()\n",
    "sol.convert(\"PAYPALISHIRING\",3)"
   ]
  }
 ],
 "metadata": {
  "interpreter": {
   "hash": "84c7cd761066ce45b8a789f7b09f72a3209628e136df7af6e1c369b4f2245113"
  },
  "kernelspec": {
   "display_name": "Python 3.10.2 64-bit",
   "language": "python",
   "name": "python3"
  },
  "language_info": {
   "codemirror_mode": {
    "name": "ipython",
    "version": 3
   },
   "file_extension": ".py",
   "mimetype": "text/x-python",
   "name": "python",
   "nbconvert_exporter": "python",
   "pygments_lexer": "ipython3",
   "version": "3.10.2"
  },
  "orig_nbformat": 4
 },
 "nbformat": 4,
 "nbformat_minor": 2
}
