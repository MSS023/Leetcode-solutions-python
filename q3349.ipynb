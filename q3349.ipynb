{
 "cells": [
  {
   "cell_type": "code",
   "execution_count": 1,
   "id": "9e283668",
   "metadata": {},
   "outputs": [],
   "source": [
    "from typing import *"
   ]
  },
  {
   "cell_type": "code",
   "execution_count": 10,
   "id": "0ecfe7bf",
   "metadata": {},
   "outputs": [],
   "source": [
    "class Solution:\n",
    "    def hasIncreasingSubarrays(self, nums: List[int], k: int) -> bool:\n",
    "        n = len(nums)\n",
    "        for idx in range(n):\n",
    "            isInc = True\n",
    "            for idx2 in range(idx+1, idx+k):\n",
    "                if idx2 >= n:\n",
    "                    isInc = False\n",
    "                    break\n",
    "                if nums[idx2] <= nums[idx2-1]:\n",
    "                    isInc = False\n",
    "                    break\n",
    "            if not isInc:\n",
    "                continue\n",
    "\n",
    "            shouldContinue = False\n",
    "            for idx2 in range(idx+k+1,idx+2*k):\n",
    "                if idx2 >= n:\n",
    "                    shouldContinue = True\n",
    "                    break\n",
    "                \n",
    "                if nums[idx2] <= nums[idx2-1]:\n",
    "                    shouldContinue = True\n",
    "                    break\n",
    "            if shouldContinue:\n",
    "                continue\n",
    "            return True\n",
    "        return False"
   ]
  },
  {
   "cell_type": "code",
   "execution_count": 11,
   "id": "16642198",
   "metadata": {},
   "outputs": [
    {
     "name": "stdout",
     "output_type": "stream",
     "text": [
      "True\n",
      "False\n"
     ]
    }
   ],
   "source": [
    "print(Solution().hasIncreasingSubarrays(nums = [2,5,7,8,9,2,3,4,3,1], k = 3))\n",
    "print(Solution().hasIncreasingSubarrays(nums = [1,2,3,4,4,4,4,5,6,7], k = 5))"
   ]
  }
 ],
 "metadata": {
  "kernelspec": {
   "display_name": "Python 3",
   "language": "python",
   "name": "python3"
  },
  "language_info": {
   "codemirror_mode": {
    "name": "ipython",
    "version": 3
   },
   "file_extension": ".py",
   "mimetype": "text/x-python",
   "name": "python",
   "nbconvert_exporter": "python",
   "pygments_lexer": "ipython3",
   "version": "3.10.11"
  }
 },
 "nbformat": 4,
 "nbformat_minor": 5
}
