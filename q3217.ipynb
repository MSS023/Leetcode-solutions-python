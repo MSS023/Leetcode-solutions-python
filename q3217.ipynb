{
 "cells": [
  {
   "cell_type": "code",
   "execution_count": 1,
   "metadata": {},
   "outputs": [],
   "source": [
    "from typing import *"
   ]
  },
  {
   "cell_type": "code",
   "execution_count": 2,
   "metadata": {},
   "outputs": [],
   "source": [
    "# Definition for singly-linked list.\n",
    "class ListNode:\n",
    "    def __init__(self, val=0, next=None):\n",
    "        self.val = val\n",
    "        self.next = next"
   ]
  },
  {
   "cell_type": "code",
   "execution_count": null,
   "metadata": {},
   "outputs": [],
   "source": [
    "class Solution:\n",
    "    def modifiedList(self, nums: List[int], head: Optional[ListNode]) -> Optional[ListNode]:\n",
    "        numsSet = set(nums)\n",
    "\n",
    "        node = head\n",
    "        prevNode = None\n",
    "        while node:\n",
    "            val = node.val\n",
    "            if val not in numsSet:\n",
    "                prevNode = node\n",
    "                node = node.next\n",
    "                continue\n",
    "            if prevNode is None:\n",
    "                head = head.next\n",
    "            else:\n",
    "                prevNode.next = node.next\n",
    "            node = node.next\n",
    "        return head\n"
   ]
  }
 ],
 "metadata": {
  "kernelspec": {
   "display_name": "Python 3",
   "language": "python",
   "name": "python3"
  },
  "language_info": {
   "codemirror_mode": {
    "name": "ipython",
    "version": 3
   },
   "file_extension": ".py",
   "mimetype": "text/x-python",
   "name": "python",
   "nbconvert_exporter": "python",
   "pygments_lexer": "ipython3",
   "version": "3.13.1"
  }
 },
 "nbformat": 4,
 "nbformat_minor": 2
}
