{
 "cells": [
  {
   "cell_type": "code",
   "execution_count": null,
   "metadata": {},
   "outputs": [],
   "source": [
    "class Solution:\n",
    "    def removeDuplicates(self, nums: List[int]) -> int:\n",
    "        dict={}\n",
    "        index=0\n",
    "        while index < len(nums):\n",
    "            if nums[index] in dict:\n",
    "                nums.pop(index)\n",
    "            else:\n",
    "                dict[nums[index]]=index\n",
    "                index+=1\n",
    "        return len(nums)"
   ]
  },
  {
   "cell_type": "code",
   "execution_count": null,
   "metadata": {},
   "outputs": [],
   "source": [
    "class Solution:\n",
    "    def removeDuplicates(self, nums: List[int]) -> int:\n",
    "        index=0\n",
    "        while index<len(nums):\n",
    "            flag=True\n",
    "            for j in range(index-1,-1,-1):\n",
    "                if nums[j]==nums[index]:\n",
    "                    flag=False\n",
    "                    nums.pop(index)\n",
    "                    break\n",
    "            if flag:\n",
    "                index+=1\n",
    "        return len(nums)"
   ]
  },
  {
   "cell_type": "code",
   "execution_count": null,
   "metadata": {},
   "outputs": [],
   "source": [
    "class Solution:\n",
    "    def removeDuplicates(self, nums: List[int]) -> int:\n",
    "        nums.sort()\n",
    "        index=1\n",
    "        while index<len(nums):\n",
    "            if nums[index]==nums[index-1]:\n",
    "                nums.pop(index)\n",
    "            else:\n",
    "                index+=1\n",
    "        return len(nums)"
   ]
  }
 ],
 "metadata": {
  "language_info": {
   "name": "python"
  },
  "orig_nbformat": 4
 },
 "nbformat": 4,
 "nbformat_minor": 2
}
