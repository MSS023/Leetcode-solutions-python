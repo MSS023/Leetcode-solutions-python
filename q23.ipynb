{
 "cells": [
  {
   "cell_type": "code",
   "execution_count": null,
   "metadata": {},
   "outputs": [],
   "source": [
    "# Definition for singly-linked list.\n",
    "# class ListNode:\n",
    "#     def __init__(self, val=0, next=None):\n",
    "#         self.val = val\n",
    "#         self.next = next\n",
    "class Solution:\n",
    "    def mergeKLists(self, lists: List[Optional[ListNode]]) -> Optional[ListNode]:\n",
    "        k=len(lists)\n",
    "        if k==0:\n",
    "            return None\n",
    "        head=None\n",
    "        for i in range(k):\n",
    "            if head is None:\n",
    "                head=lists[0]\n",
    "                lists.pop(0)\n",
    "                continue\n",
    "            temp=head\n",
    "            temp2=lists.pop(0)\n",
    "            newHead=ListNode()\n",
    "            flag=True\n",
    "            while temp is not None and temp2 is not None:\n",
    "                if temp.val<=temp2.val:\n",
    "                    newHead.next=temp\n",
    "                    if flag:\n",
    "                        head=newHead.next\n",
    "                        flag=False\n",
    "                    while temp is not None and temp.val<=temp2.val:\n",
    "                        temp=temp.next\n",
    "                        newHead=newHead.next\n",
    "                else:\n",
    "                    newHead.next=temp2\n",
    "                    if flag:\n",
    "                        head=newHead.next\n",
    "                        flag=False\n",
    "                    while temp2 is not None and temp2.val<=temp.val:\n",
    "                        temp2=temp2.next\n",
    "                        newHead=newHead.next\n",
    "            if temp is not None:\n",
    "                newHead.next=temp\n",
    "            if temp2 is not None:\n",
    "                newHead.next=temp2\n",
    "        return head"
   ]
  }
 ],
 "metadata": {
  "language_info": {
   "name": "python"
  },
  "orig_nbformat": 4
 },
 "nbformat": 4,
 "nbformat_minor": 2
}
