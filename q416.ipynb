{
 "cells": [
  {
   "cell_type": "code",
   "execution_count": 2,
   "metadata": {},
   "outputs": [],
   "source": [
    "from typing import *\n",
    "\n",
    "class Solution:\n",
    "    def canPartition(self, nums: List[int]) -> bool:\n",
    "        total = sum(nums)\n",
    "        if total % 2 == 1:\n",
    "            return False\n",
    "        half = total // 2\n",
    "        memo = {}\n",
    "        def recursive(s, pos):\n",
    "            if s == half:\n",
    "                return True\n",
    "            if pos == len(nums):\n",
    "                if s == half:\n",
    "                    return True\n",
    "                return False\n",
    "            if (s,pos) in memo:\n",
    "                return memo[(s,pos)]\n",
    "            if recursive(s+nums[pos], pos+1):\n",
    "                memo[(s,pos)] = True\n",
    "                return True\n",
    "            if recursive(s, pos+1):\n",
    "                memo[(s,pos)] = True\n",
    "            else:\n",
    "                memo[(s,pos)] = False\n",
    "            return memo[(s,pos)]\n",
    "        return recursive(0,0)"
   ]
  },
  {
   "cell_type": "code",
   "execution_count": 8,
   "metadata": {},
   "outputs": [],
   "source": [
    "class Solution:\n",
    "    def canPartition(self, nums: List[int]) -> bool:\n",
    "        total = sum(nums)\n",
    "        if total % 2 == 1:\n",
    "            return False\n",
    "        half = total // 2\n",
    "        sums = set([0])\n",
    "        for i in nums:\n",
    "            for s in list(sums):\n",
    "                if i+s == half:\n",
    "                    return True\n",
    "                sums.add(i+s)\n",
    "        return False"
   ]
  },
  {
   "cell_type": "code",
   "execution_count": 9,
   "metadata": {},
   "outputs": [
    {
     "data": {
      "text/plain": [
       "True"
      ]
     },
     "execution_count": 9,
     "metadata": {},
     "output_type": "execute_result"
    }
   ],
   "source": [
    "Solution().canPartition([1,2,3,4])"
   ]
  }
 ],
 "metadata": {
  "kernelspec": {
   "display_name": "Python 3.10.6 64-bit",
   "language": "python",
   "name": "python3"
  },
  "language_info": {
   "codemirror_mode": {
    "name": "ipython",
    "version": 3
   },
   "file_extension": ".py",
   "mimetype": "text/x-python",
   "name": "python",
   "nbconvert_exporter": "python",
   "pygments_lexer": "ipython3",
   "version": "3.10.6"
  },
  "orig_nbformat": 4,
  "vscode": {
   "interpreter": {
    "hash": "f15627b29e15848638e903c52dd09ae6c4c9adb1719aae45dda3850ec7954c19"
   }
  }
 },
 "nbformat": 4,
 "nbformat_minor": 2
}
