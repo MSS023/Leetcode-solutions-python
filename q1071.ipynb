{
 "cells": [
  {
   "cell_type": "code",
   "execution_count": 24,
   "metadata": {},
   "outputs": [],
   "source": [
    "class Solution:\n",
    "    def gcdOfStrings(self, str1: str, str2: str) -> str:\n",
    "        if str1 == str2:\n",
    "            return str1\n",
    "        str1, str2 = sorted([str1, str2], key=lambda x: len(x))\n",
    "\n",
    "        def checkDivisible(s,ss):\n",
    "            n = len(ss)\n",
    "            m = len(s)\n",
    "            if m%n != 0:\n",
    "                return False\n",
    "            for i in range(0,m,n):\n",
    "                if i+n > m or s[i:i+n] != ss:\n",
    "                    return False\n",
    "            return True\n",
    "        \n",
    "        n = len(str1)\n",
    "\n",
    "        for i in range(1,n+1):\n",
    "            if n%i != 0:\n",
    "                continue\n",
    "            if checkDivisible(str1, str1[0:n//i]) and checkDivisible(str2, str1[0:n//i]):\n",
    "                return str1[0:n//i]\n",
    "        return \"\""
   ]
  },
  {
   "cell_type": "code",
   "execution_count": 25,
   "metadata": {},
   "outputs": [
    {
     "data": {
      "text/plain": [
       "'AB'"
      ]
     },
     "execution_count": 25,
     "metadata": {},
     "output_type": "execute_result"
    }
   ],
   "source": [
    "Solution().gcdOfStrings(\"ABABAB\",\"ABAB\")"
   ]
  }
 ],
 "metadata": {
  "kernelspec": {
   "display_name": "Python 3",
   "language": "python",
   "name": "python3"
  },
  "language_info": {
   "codemirror_mode": {
    "name": "ipython",
    "version": 3
   },
   "file_extension": ".py",
   "mimetype": "text/x-python",
   "name": "python",
   "nbconvert_exporter": "python",
   "pygments_lexer": "ipython3",
   "version": "3.10.6"
  },
  "orig_nbformat": 4,
  "vscode": {
   "interpreter": {
    "hash": "f15627b29e15848638e903c52dd09ae6c4c9adb1719aae45dda3850ec7954c19"
   }
  }
 },
 "nbformat": 4,
 "nbformat_minor": 2
}
