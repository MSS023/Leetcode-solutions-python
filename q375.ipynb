{
 "cells": [
  {
   "cell_type": "code",
   "execution_count": 35,
   "metadata": {},
   "outputs": [],
   "source": [
    "from sys import maxsize\n",
    "\n",
    "class Solution:\n",
    "    def getMoneyAmount(self, n: int) -> int:\n",
    "        if n==1:\n",
    "            return 0\n",
    "        return self.mainCode(1,n,{})\n",
    "    \n",
    "    def mainCode(self,start,end,memory):\n",
    "        if start==end:\n",
    "            return 0\n",
    "        if start==end-1:\n",
    "            return start\n",
    "        if (start,end) in memory:\n",
    "            return memory[(start,end)]\n",
    "        mid=(start+end)//2\n",
    "        res=maxsize\n",
    "        for num in range(mid,end):\n",
    "            left=self.mainCode(start,num-1,memory)\n",
    "            right=self.mainCode(num+1,end,memory)\n",
    "            ans=max(left,right)+num\n",
    "            res=min(res,ans)\n",
    "        memory[(start,end)]=res\n",
    "        return res"
   ]
  },
  {
   "cell_type": "code",
   "execution_count": null,
   "metadata": {},
   "outputs": [],
   "source": [
    "class Solution:\n",
    "    def getMoneyAmount(self, n):\n",
    "        if n==1:\n",
    "            return 0\n",
    "        def guess(i,j):\n",
    "            if(i==j):\n",
    "                return 0\n",
    "            if (i==j-1):\n",
    "                return i\n",
    "            m=(i+j)//2\n",
    "            ans=999999999999999999\n",
    "            for item in range(m,j):\n",
    "                left=guess(i,item-1)\n",
    "                right=guess(item+1,j)\n",
    "                a=max(left,right)+item\n",
    "                ans=min(a,ans)\n",
    "            return ans\n",
    "        return guess(0,n)"
   ]
  },
  {
   "cell_type": "code",
   "execution_count": 36,
   "metadata": {},
   "outputs": [
    {
     "name": "stdout",
     "output_type": "stream",
     "text": [
      "16\n"
     ]
    }
   ],
   "source": [
    "sol=Solution()\n",
    "print(sol.getMoneyAmount(int(input())))"
   ]
  }
 ],
 "metadata": {
  "interpreter": {
   "hash": "84c7cd761066ce45b8a789f7b09f72a3209628e136df7af6e1c369b4f2245113"
  },
  "kernelspec": {
   "display_name": "Python 3.10.2 64-bit",
   "language": "python",
   "name": "python3"
  },
  "language_info": {
   "codemirror_mode": {
    "name": "ipython",
    "version": 3
   },
   "file_extension": ".py",
   "mimetype": "text/x-python",
   "name": "python",
   "nbconvert_exporter": "python",
   "pygments_lexer": "ipython3",
   "version": "3.10.2"
  },
  "orig_nbformat": 4
 },
 "nbformat": 4,
 "nbformat_minor": 2
}
