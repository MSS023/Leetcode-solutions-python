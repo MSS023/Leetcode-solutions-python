{
 "cells": [
  {
   "cell_type": "code",
   "execution_count": null,
   "metadata": {},
   "outputs": [],
   "source": [
    "class Solution:\n",
    "    def findUnsortedSubarray(self, nums: List[int]) -> int:\n",
    "        temp=sorted(nums)\n",
    "        start=0\n",
    "        while start<len(nums):\n",
    "            if temp[start]!=nums[start]:\n",
    "                break\n",
    "            start+=1\n",
    "        last=len(nums)-1\n",
    "        while last>-1:\n",
    "            if temp[last]!=nums[last]:\n",
    "                break\n",
    "            last-=1\n",
    "        if last<start:\n",
    "            return 0\n",
    "        return last-start+1"
   ]
  }
 ],
 "metadata": {
  "language_info": {
   "name": "python"
  },
  "orig_nbformat": 4
 },
 "nbformat": 4,
 "nbformat_minor": 2
}
