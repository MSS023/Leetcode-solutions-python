{
 "cells": [
  {
   "cell_type": "code",
   "execution_count": 71,
   "metadata": {},
   "outputs": [],
   "source": [
    "class Solution:\n",
    "    def longestIncreasingPath(self, matrix: list[list[int]]) -> int:\n",
    "        memo = [[None]*len(matrix[0]) for _ in range(len(matrix))]\n",
    "\n",
    "        def findMaxPath(r, c, matrix, visited):\n",
    "            maxm = 1\n",
    "            if memo[r][c] is not None:\n",
    "                return memo[r][c]\n",
    "            if (r,c) in visited:\n",
    "                return 0\n",
    "            if r > 0 and matrix[r][c] < matrix[r-1][c]:\n",
    "                maxm = max(findMaxPath(r-1, c, matrix, visited+[(r,c)])+1, maxm)\n",
    "            if r < len(matrix)-1 and matrix[r][c] < matrix[r+1][c]:\n",
    "                maxm = max(findMaxPath(r+1, c, matrix, visited+[(r,c)])+1, maxm)\n",
    "            if c > 0 and matrix[r][c] < matrix[r][c-1]:\n",
    "                maxm = max(findMaxPath(r, c-1, matrix, visited+[(r,c)])+1, maxm)\n",
    "            if c < len(matrix[0])-1 and matrix[r][c] < matrix[r][c+1]:\n",
    "                maxm = max(findMaxPath(r, c+1, matrix, visited+[(r,c)])+1, maxm)\n",
    "            memo[r][c]=maxm\n",
    "            return maxm\n",
    "        \n",
    "        maxm=0\n",
    "        for i in range(len(matrix)):\n",
    "            for j in range(len(matrix[i])):\n",
    "                maxm=max(findMaxPath(i, j, matrix, []),maxm)\n",
    "        return maxm"
   ]
  },
  {
   "cell_type": "code",
   "execution_count": 72,
   "metadata": {},
   "outputs": [
    {
     "name": "stdout",
     "output_type": "stream",
     "text": [
      "6\n"
     ]
    }
   ],
   "source": [
    "mat = Solution().longestIncreasingPath([[7,8,9],[9,7,6],[7,2,3]])\n",
    "print(mat)"
   ]
  }
 ],
 "metadata": {
  "interpreter": {
   "hash": "7fa5c2bbde354df5fb32f89863fd9628b3718657b842099e0733f1c707419bc4"
  },
  "kernelspec": {
   "display_name": "Python 3.10.2 64-bit",
   "language": "python",
   "name": "python3"
  },
  "language_info": {
   "codemirror_mode": {
    "name": "ipython",
    "version": 3
   },
   "file_extension": ".py",
   "mimetype": "text/x-python",
   "name": "python",
   "nbconvert_exporter": "python",
   "pygments_lexer": "ipython3",
   "version": "3.10.2"
  },
  "orig_nbformat": 4
 },
 "nbformat": 4,
 "nbformat_minor": 2
}
