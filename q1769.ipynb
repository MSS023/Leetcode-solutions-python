{
 "cells": [
  {
   "cell_type": "code",
   "execution_count": 1,
   "metadata": {},
   "outputs": [],
   "source": [
    "from typing import *"
   ]
  },
  {
   "cell_type": "code",
   "execution_count": 10,
   "metadata": {},
   "outputs": [],
   "source": [
    "class Solution:\n",
    "    def minOperations(self, boxes: str) -> List[int]:\n",
    "        totalOnes = 0\n",
    "        cost0 = 0\n",
    "        n = len(boxes)\n",
    "        for idx in range(n):\n",
    "            if boxes[idx] == '0':\n",
    "                continue\n",
    "            cost0 += idx\n",
    "            totalOnes += 1\n",
    "        \n",
    "        leftOnes = 0 + (1 if boxes[0] == \"1\" else 0)\n",
    "        rightOnes = totalOnes - (1 if boxes[0] == \"1\" else 0)\n",
    "        costs = [cost0]+[None]*(n-1)\n",
    "        for idx in range(1,n):\n",
    "            costs[idx] = costs[idx-1] - rightOnes + leftOnes\n",
    "            if boxes[idx] == '0':\n",
    "                continue\n",
    "            \n",
    "            rightOnes -= 1\n",
    "            leftOnes += 1\n",
    "        \n",
    "        return costs"
   ]
  },
  {
   "cell_type": "code",
   "execution_count": 11,
   "metadata": {},
   "outputs": [
    {
     "name": "stdout",
     "output_type": "stream",
     "text": [
      "[11, 8, 5, 4, 3, 4]\n",
      "[1, 1, 3]\n"
     ]
    }
   ],
   "source": [
    "print(Solution().minOperations(boxes=\"001011\"))\n",
    "print(Solution().minOperations(boxes=\"110\"))"
   ]
  }
 ],
 "metadata": {
  "kernelspec": {
   "display_name": "Python 3",
   "language": "python",
   "name": "python3"
  },
  "language_info": {
   "codemirror_mode": {
    "name": "ipython",
    "version": 3
   },
   "file_extension": ".py",
   "mimetype": "text/x-python",
   "name": "python",
   "nbconvert_exporter": "python",
   "pygments_lexer": "ipython3",
   "version": "3.13.1"
  }
 },
 "nbformat": 4,
 "nbformat_minor": 2
}
