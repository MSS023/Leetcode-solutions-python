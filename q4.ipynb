{
 "cells": [
  {
   "cell_type": "code",
   "execution_count": 6,
   "metadata": {},
   "outputs": [
    {
     "data": {
      "text/plain": [
       "2.0"
      ]
     },
     "execution_count": 6,
     "metadata": {},
     "output_type": "execute_result"
    }
   ],
   "source": [
    "class Solution:\n",
    "    def findMedianSortedArrays(self, nums1, nums2):\n",
    "        totalLength=len(nums1)+len(nums2)\n",
    "        if totalLength%2!=0:\n",
    "            index1=0\n",
    "            index2=0\n",
    "            last=0\n",
    "            for i in range((totalLength+1)//2):\n",
    "                if index1<len(nums1) and index2<len(nums2):\n",
    "                    if nums1[index1]<=nums2[index2]:\n",
    "                        last=nums1[index1]\n",
    "                        index1+=1\n",
    "                    else:\n",
    "                        last=nums2[index2]\n",
    "                        index2+=1\n",
    "                elif index1<len(nums1):\n",
    "                    last=nums1[index1]\n",
    "                    index1+=1\n",
    "                else:\n",
    "                    last=nums2[index2]\n",
    "                    index2+=1\n",
    "            return float(last)\n",
    "        else:\n",
    "            index1=0\n",
    "            index2=0\n",
    "            secLast=0\n",
    "            last=0\n",
    "            for i in range((totalLength+2)//2):\n",
    "                if i>0:\n",
    "                    secLast=last\n",
    "                if index1<len(nums1) and index2<len(nums2):\n",
    "                    if nums1[index1]<=nums2[index2]:\n",
    "                        last=nums1[index1]\n",
    "                        index1+=1\n",
    "                    else:\n",
    "                        last=nums2[index2]\n",
    "                        index2+=1\n",
    "                elif index1<len(nums1):\n",
    "                    last=nums1[index1]\n",
    "                    index1+=1\n",
    "                else:\n",
    "                    last=nums2[index2]\n",
    "                    index2+=1\n",
    "            last+=secLast\n",
    "            last/=2\n",
    "            return last\n",
    "\n",
    "sol=Solution()\n",
    "sol.findMedianSortedArrays([1,3],[2])"
   ]
  },
  {
   "cell_type": "code",
   "execution_count": 11,
   "metadata": {},
   "outputs": [
    {
     "data": {
      "text/plain": [
       "2.5"
      ]
     },
     "execution_count": 11,
     "metadata": {},
     "output_type": "execute_result"
    }
   ],
   "source": [
    "class Solution:\n",
    "    def findMedianSortedArrays(self, nums1, nums2):\n",
    "        temp=nums1+nums2\n",
    "        temp.sort()\n",
    "        total=len(temp)\n",
    "        if total%2==1:\n",
    "            return temp[(total)//2]\n",
    "        else:\n",
    "            return (temp[total//2-1]+temp[total//2])/2\n",
    "\n",
    "sol=Solution()\n",
    "sol.findMedianSortedArrays([1,2],[3,4])"
   ]
  }
 ],
 "metadata": {
  "interpreter": {
   "hash": "84c7cd761066ce45b8a789f7b09f72a3209628e136df7af6e1c369b4f2245113"
  },
  "kernelspec": {
   "display_name": "Python 3.10.2 64-bit",
   "language": "python",
   "name": "python3"
  },
  "language_info": {
   "codemirror_mode": {
    "name": "ipython",
    "version": 3
   },
   "file_extension": ".py",
   "mimetype": "text/x-python",
   "name": "python",
   "nbconvert_exporter": "python",
   "pygments_lexer": "ipython3",
   "version": "3.10.2"
  },
  "orig_nbformat": 4
 },
 "nbformat": 4,
 "nbformat_minor": 2
}
