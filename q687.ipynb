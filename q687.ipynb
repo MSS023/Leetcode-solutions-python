{
 "cells": [
  {
   "cell_type": "code",
   "execution_count": 1,
   "metadata": {},
   "outputs": [],
   "source": [
    "# Definition for a binary tree node.\n",
    "class TreeNode:\n",
    "    def __init__(self, val=0, left=None, right=None):\n",
    "        self.val = val\n",
    "        self.left = left\n",
    "        self.right = right"
   ]
  },
  {
   "cell_type": "code",
   "execution_count": 13,
   "metadata": {},
   "outputs": [],
   "source": [
    "class Solution:\n",
    "    def __init__(self):\n",
    "        self.maxm = 0\n",
    "    \n",
    "    def longestUnivaluePath(self, root: TreeNode) -> int:\n",
    "        def postOrder(node):\n",
    "            ans = 0\n",
    "            if node is None:\n",
    "                return 0\n",
    "            countL = postOrder(node.left)\n",
    "            countR = postOrder(node.right)\n",
    "            if node.left is not None and node.right is not None and node.val == node.left.val and node.val == node.right.val:\n",
    "                self.maxm = max(countL + countR + 2,self.maxm)\n",
    "            if node.left is not None and node.val == node.left.val:\n",
    "                self.maxm = max(countL + 1,self.maxm)\n",
    "                ans = max(countL + 1,ans)\n",
    "            if node.right is not None and node.val == node.right.val:\n",
    "                self.maxm = max(countR + 1,self.maxm)\n",
    "                ans = max(countR + 1,ans)\n",
    "            return ans\n",
    "        self.maxm = max(postOrder(root),self.maxm)\n",
    "        return self.maxm"
   ]
  },
  {
   "cell_type": "code",
   "execution_count": 14,
   "metadata": {},
   "outputs": [
    {
     "data": {
      "text/plain": [
       "4"
      ]
     },
     "execution_count": 14,
     "metadata": {},
     "output_type": "execute_result"
    }
   ],
   "source": [
    "Solution().longestUnivaluePath(TreeNode(5,TreeNode(5,TreeNode(5),TreeNode(1)),TreeNode(5,right=TreeNode(5))))"
   ]
  }
 ],
 "metadata": {
  "kernelspec": {
   "display_name": "Python 3.10.5 64-bit",
   "language": "python",
   "name": "python3"
  },
  "language_info": {
   "codemirror_mode": {
    "name": "ipython",
    "version": 3
   },
   "file_extension": ".py",
   "mimetype": "text/x-python",
   "name": "python",
   "nbconvert_exporter": "python",
   "pygments_lexer": "ipython3",
   "version": "3.10.5"
  },
  "orig_nbformat": 4,
  "vscode": {
   "interpreter": {
    "hash": "f15627b29e15848638e903c52dd09ae6c4c9adb1719aae45dda3850ec7954c19"
   }
  }
 },
 "nbformat": 4,
 "nbformat_minor": 2
}
