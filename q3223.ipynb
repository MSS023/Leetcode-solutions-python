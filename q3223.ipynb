{
 "cells": [
  {
   "cell_type": "code",
   "execution_count": 1,
   "metadata": {},
   "outputs": [],
   "source": [
    "from typing import *"
   ]
  },
  {
   "cell_type": "code",
   "execution_count": 2,
   "metadata": {},
   "outputs": [],
   "source": [
    "class Solution:\n",
    "    def minimumLength(self, s: str) -> int:\n",
    "        if len(s) < 3:\n",
    "            return len(s)\n",
    "\n",
    "        prefixSum = {}\n",
    "        n = len(s)\n",
    "\n",
    "        for idx in range(len(s)):\n",
    "            ch1 = s[idx]\n",
    "\n",
    "            if ch1 not in prefixSum:\n",
    "                prefixSum[ch1] = 0\n",
    "            \n",
    "            prefixSum[ch1] += 1\n",
    "\n",
    "            if prefixSum[ch1] == 3:\n",
    "                prefixSum[ch1] -= 2\n",
    "                n -= 2\n",
    "        \n",
    "        return n"
   ]
  },
  {
   "cell_type": "code",
   "execution_count": 3,
   "metadata": {},
   "outputs": [
    {
     "name": "stdout",
     "output_type": "stream",
     "text": [
      "5\n",
      "2\n"
     ]
    }
   ],
   "source": [
    "print(Solution().minimumLength(s=\"abaacbcbb\"))\n",
    "print(Solution().minimumLength(s=\"aa\"))"
   ]
  }
 ],
 "metadata": {
  "kernelspec": {
   "display_name": "Python 3",
   "language": "python",
   "name": "python3"
  },
  "language_info": {
   "codemirror_mode": {
    "name": "ipython",
    "version": 3
   },
   "file_extension": ".py",
   "mimetype": "text/x-python",
   "name": "python",
   "nbconvert_exporter": "python",
   "pygments_lexer": "ipython3",
   "version": "3.13.1"
  }
 },
 "nbformat": 4,
 "nbformat_minor": 2
}
