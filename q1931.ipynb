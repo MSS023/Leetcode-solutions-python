{
 "cells": [
  {
   "cell_type": "code",
   "execution_count": 1,
   "id": "ad95b65f",
   "metadata": {},
   "outputs": [],
   "source": [
    "from typing import *"
   ]
  },
  {
   "cell_type": "code",
   "execution_count": null,
   "id": "3cfb6e86",
   "metadata": {},
   "outputs": [],
   "source": [
    "class Solution:\n",
    "    def colorTheGrid(self, m: int, n: int) -> int:\n",
    "        mod = 10**9 + 7\n",
    "        # Hash mapping stores all valid coloration schemes for a single row that meet the requirements\n",
    "        # The key represents mask, and the value represents the ternary string of mask (stored as a list)\n",
    "        valid = dict()\n",
    "\n",
    "        # Enumerate masks that meet the requirements within the range [0, 3^m)\n",
    "        for mask in range(3**m):\n",
    "            color = list()\n",
    "            mm = mask\n",
    "            for i in range(m):\n",
    "                color.append(mm % 3)\n",
    "                mm //= 3\n",
    "            if any(color[i] == color[i + 1] for i in range(m - 1)):\n",
    "                continue\n",
    "            valid[mask] = color\n",
    "\n",
    "        # Preprocess all (mask1, mask2) binary tuples, satisfying mask1 and mask2 When adjacent rows, the colors of the two cells in the same column are different\n",
    "        adjacent = defaultdict(list)\n",
    "        for mask1, color1 in valid.items():\n",
    "            for mask2, color2 in valid.items():\n",
    "                if not any(x == y for x, y in zip(color1, color2)):\n",
    "                    adjacent[mask1].append(mask2)\n",
    "\n",
    "        f = [int(mask in valid) for mask in range(3**m)]\n",
    "        for i in range(1, n):\n",
    "            g = [0] * (3**m)\n",
    "            for mask2 in valid.keys():\n",
    "                for mask1 in adjacent[mask2]:\n",
    "                    g[mask2] += f[mask1]\n",
    "                    if g[mask2] >= mod:\n",
    "                        g[mask2] -= mod\n",
    "            f = g\n",
    "\n",
    "        return sum(f) % mod"
   ]
  },
  {
   "cell_type": "code",
   "execution_count": 11,
   "id": "bb9f98a7",
   "metadata": {},
   "outputs": [
    {
     "name": "stdout",
     "output_type": "stream",
     "text": [
      "3\n",
      "6\n",
      "18\n",
      "580986\n"
     ]
    }
   ],
   "source": [
    "print(Solution().colorTheGrid(1,1))\n",
    "print(Solution().colorTheGrid(1,2))\n",
    "print(Solution().colorTheGrid(2,2))\n",
    "print(Solution().colorTheGrid(5,5))"
   ]
  }
 ],
 "metadata": {
  "kernelspec": {
   "display_name": "Python 3",
   "language": "python",
   "name": "python3"
  },
  "language_info": {
   "codemirror_mode": {
    "name": "ipython",
    "version": 3
   },
   "file_extension": ".py",
   "mimetype": "text/x-python",
   "name": "python",
   "nbconvert_exporter": "python",
   "pygments_lexer": "ipython3",
   "version": "3.10.11"
  }
 },
 "nbformat": 4,
 "nbformat_minor": 5
}
