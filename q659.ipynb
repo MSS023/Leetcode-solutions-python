{
 "cells": [
  {
   "cell_type": "code",
   "execution_count": 2,
   "metadata": {},
   "outputs": [],
   "source": [
    "from typing import *\n",
    "from collections import defaultdict, Counter\n",
    "\n",
    "class Solution:\n",
    "    def isPossible(self, nums: List[int]) -> bool:\n",
    "        subsequence = defaultdict(int)\n",
    "        num_count = Counter(nums)\n",
    "\n",
    "        for num in nums:\n",
    "            if not num_count[num]:\n",
    "                continue\n",
    "\n",
    "            if subsequence[num - 1] > 0:\n",
    "                subsequence[num - 1] -= 1\n",
    "                subsequence[num] += 1\n",
    "            else:\n",
    "                if not num_count[num + 1] or not num_count[num + 2]:\n",
    "                    return False\n",
    "                num_count[num + 1] -= 1\n",
    "                num_count[num + 2] -= 1\n",
    "                subsequence[num + 2] += 1\n",
    "            num_count[num] -= 1\n",
    "\n",
    "        return True"
   ]
  },
  {
   "cell_type": "code",
   "execution_count": 4,
   "metadata": {},
   "outputs": [
    {
     "data": {
      "text/plain": [
       "True"
      ]
     },
     "execution_count": 4,
     "metadata": {},
     "output_type": "execute_result"
    }
   ],
   "source": [
    "Solution().isPossible([1,2,3])"
   ]
  }
 ],
 "metadata": {
  "kernelspec": {
   "display_name": "Python 3.10.5 64-bit",
   "language": "python",
   "name": "python3"
  },
  "language_info": {
   "codemirror_mode": {
    "name": "ipython",
    "version": 3
   },
   "file_extension": ".py",
   "mimetype": "text/x-python",
   "name": "python",
   "nbconvert_exporter": "python",
   "pygments_lexer": "ipython3",
   "version": "3.10.5"
  },
  "orig_nbformat": 4,
  "vscode": {
   "interpreter": {
    "hash": "f15627b29e15848638e903c52dd09ae6c4c9adb1719aae45dda3850ec7954c19"
   }
  }
 },
 "nbformat": 4,
 "nbformat_minor": 2
}
