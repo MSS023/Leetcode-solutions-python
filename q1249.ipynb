{
 "cells": [
  {
   "cell_type": "code",
   "execution_count": null,
   "metadata": {},
   "outputs": [],
   "source": [
    "class Solution:\n",
    "    def minRemoveToMakeValid(self, s: str) -> str:\n",
    "        stack=[]\n",
    "        stack2=[]\n",
    "        res=\"\"\n",
    "        for i in s:\n",
    "            if i==\"(\":\n",
    "                stack.append(len(res))\n",
    "            elif i==\")\":\n",
    "                if len(stack)>0:\n",
    "                    stack.pop()\n",
    "                else:\n",
    "                    continue\n",
    "            res+=i\n",
    "        result=\"\"\n",
    "        for key,i in enumerate(res):\n",
    "            if key not in stack:\n",
    "                result+=i\n",
    "        return result"
   ]
  }
 ],
 "metadata": {
  "language_info": {
   "name": "python"
  },
  "orig_nbformat": 4
 },
 "nbformat": 4,
 "nbformat_minor": 2
}
