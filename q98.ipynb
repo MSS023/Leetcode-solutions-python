{
 "cells": [
  {
   "cell_type": "code",
   "execution_count": 2,
   "metadata": {},
   "outputs": [],
   "source": [
    "from typing import *\n",
    "\n",
    "# Definition for a binary tree node.\n",
    "class TreeNode:\n",
    "    def __init__(self, val=0, left=None, right=None):\n",
    "        self.val = val\n",
    "        self.left = left\n",
    "        self.right = right"
   ]
  },
  {
   "cell_type": "code",
   "execution_count": 3,
   "metadata": {},
   "outputs": [],
   "source": [
    "class Solution:\n",
    "    def isValidBST(self, root: Optional[TreeNode]) -> bool:\n",
    "        def recursive(root,arr):\n",
    "            if root is None:\n",
    "                arr.append(float(\"-inf\"))\n",
    "                arr.append(float(\"inf\"))\n",
    "                return True\n",
    "            temp = []\n",
    "            if not recursive(root.left, temp):\n",
    "                return False\n",
    "            if root.left and temp[1] >= root.val:\n",
    "                return False\n",
    "            if root.left is None:\n",
    "                arr.append(root.val)\n",
    "            else:\n",
    "                arr.append(temp[0])\n",
    "            temp = []\n",
    "            if not recursive(root.right, temp):\n",
    "                return False\n",
    "            if root.right and temp[0] <= root.val:\n",
    "                return False\n",
    "            if root.right is None:\n",
    "                arr.append(root.val)\n",
    "            else:\n",
    "                arr.append(temp[1])\n",
    "            return True\n",
    "        return recursive(root,[])"
   ]
  }
 ],
 "metadata": {
  "kernelspec": {
   "display_name": "Python 3.10.5 64-bit",
   "language": "python",
   "name": "python3"
  },
  "language_info": {
   "codemirror_mode": {
    "name": "ipython",
    "version": 3
   },
   "file_extension": ".py",
   "mimetype": "text/x-python",
   "name": "python",
   "nbconvert_exporter": "python",
   "pygments_lexer": "ipython3",
   "version": "3.10.5"
  },
  "orig_nbformat": 4,
  "vscode": {
   "interpreter": {
    "hash": "f15627b29e15848638e903c52dd09ae6c4c9adb1719aae45dda3850ec7954c19"
   }
  }
 },
 "nbformat": 4,
 "nbformat_minor": 2
}
