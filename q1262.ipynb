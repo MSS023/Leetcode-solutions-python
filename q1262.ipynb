{
 "cells": [
  {
   "cell_type": "code",
   "execution_count": 9,
   "metadata": {},
   "outputs": [],
   "source": [
    "class Solution:\n",
    "    def maxSumDivThree(self, nums: list[int]) -> int:\n",
    "        n = sum(nums)               \n",
    "        nDiv3 = n%3\n",
    "        if nDiv3 == 0: return n\n",
    "        nums1 = sorted([x for x in nums if x%3 == 1])[:2]\n",
    "        nums2 = sorted([x for x in nums if x%3 == 2])[:2]\n",
    "        terms = nums1 + nums2\n",
    "        terms+= [0]*(5-len(terms))\n",
    "        ans = []                    \n",
    "        for i in range(len(terms)):\n",
    "            for j in range(i+1,len(terms)):\n",
    "                if (terms[i]+terms[j])%3 == nDiv3:\n",
    "                    ans.append(terms[i]+terms[j])\n",
    "        return n - min(ans)"
   ]
  },
  {
   "cell_type": "code",
   "execution_count": 10,
   "metadata": {},
   "outputs": [
    {
     "data": {
      "text/plain": [
       "18"
      ]
     },
     "execution_count": 10,
     "metadata": {},
     "output_type": "execute_result"
    }
   ],
   "source": [
    "Solution().maxSumDivThree([3,6,5,1,8])"
   ]
  }
 ],
 "metadata": {
  "kernelspec": {
   "display_name": "Python 3.10.2 64-bit",
   "language": "python",
   "name": "python3"
  },
  "language_info": {
   "codemirror_mode": {
    "name": "ipython",
    "version": 3
   },
   "file_extension": ".py",
   "mimetype": "text/x-python",
   "name": "python",
   "nbconvert_exporter": "python",
   "pygments_lexer": "ipython3",
   "version": "3.10.2"
  },
  "orig_nbformat": 4,
  "vscode": {
   "interpreter": {
    "hash": "7fa5c2bbde354df5fb32f89863fd9628b3718657b842099e0733f1c707419bc4"
   }
  }
 },
 "nbformat": 4,
 "nbformat_minor": 2
}
