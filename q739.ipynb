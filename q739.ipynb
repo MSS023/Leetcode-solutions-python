{
 "cells": [
  {
   "cell_type": "code",
   "execution_count": 1,
   "id": "4de0f3dd",
   "metadata": {},
   "outputs": [],
   "source": [
    "from typing import *"
   ]
  },
  {
   "cell_type": "code",
   "execution_count": 6,
   "id": "dafaab1e",
   "metadata": {},
   "outputs": [],
   "source": [
    "class Solution:\n",
    "    def dailyTemperatures(self, temperatures: List[int]) -> List[int]:\n",
    "        stack = []\n",
    "        res = [0]*len(temperatures)\n",
    "        for idx,temp in enumerate(temperatures):\n",
    "            while stack and temperatures[stack[-1]] < temp:\n",
    "                idx2 = stack.pop()\n",
    "                res[idx2] = idx - idx2\n",
    "            stack.append(idx)\n",
    "        return res"
   ]
  },
  {
   "cell_type": "code",
   "execution_count": 7,
   "id": "1e5ff5ee",
   "metadata": {},
   "outputs": [
    {
     "name": "stdout",
     "output_type": "stream",
     "text": [
      "[1, 1, 4, 2, 1, 1, 0, 0]\n",
      "[1, 1, 1, 0]\n",
      "[1, 1, 0]\n"
     ]
    }
   ],
   "source": [
    "print(Solution().dailyTemperatures([73,74,75,71,69,72,76,73]))\n",
    "print(Solution().dailyTemperatures([30,40,50,60]))\n",
    "print(Solution().dailyTemperatures([30,60,90]))"
   ]
  }
 ],
 "metadata": {
  "kernelspec": {
   "display_name": "Python 3",
   "language": "python",
   "name": "python3"
  },
  "language_info": {
   "codemirror_mode": {
    "name": "ipython",
    "version": 3
   },
   "file_extension": ".py",
   "mimetype": "text/x-python",
   "name": "python",
   "nbconvert_exporter": "python",
   "pygments_lexer": "ipython3",
   "version": "3.10.11"
  }
 },
 "nbformat": 4,
 "nbformat_minor": 5
}
