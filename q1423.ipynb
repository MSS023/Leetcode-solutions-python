{
 "cells": [
  {
   "cell_type": "code",
   "execution_count": 2,
   "metadata": {},
   "outputs": [],
   "source": [
    "class Solution:\n",
    "    def maxScore(self, cardPoints: list[int], k: int) -> int:\n",
    "        sum = 0\n",
    "        for i in range(k):\n",
    "            if cardPoints[0] > cardPoints[-1]:\n",
    "                sum += cardPoints.pop(0)\n",
    "                continue\n",
    "            if cardPoints[0] < cardPoints[-1]:\n",
    "                sum += cardPoints.pop()\n",
    "                continue\n",
    "            if len(cardPoints) > 2 and cardPoints[1] < cardPoints[-2]:\n",
    "                sum += cardPoints.pop()\n",
    "                continue\n",
    "            sum += cardPoints.pop(0)\n",
    "        return sum"
   ]
  },
  {
   "cell_type": "code",
   "execution_count": 3,
   "metadata": {},
   "outputs": [
    {
     "data": {
      "text/plain": [
       "12"
      ]
     },
     "execution_count": 3,
     "metadata": {},
     "output_type": "execute_result"
    }
   ],
   "source": [
    "Solution().maxScore([1,2,3,4,5,6,1],3)"
   ]
  }
 ],
 "metadata": {
  "kernelspec": {
   "display_name": "Python 3.10.2 64-bit",
   "language": "python",
   "name": "python3"
  },
  "language_info": {
   "codemirror_mode": {
    "name": "ipython",
    "version": 3
   },
   "file_extension": ".py",
   "mimetype": "text/x-python",
   "name": "python",
   "nbconvert_exporter": "python",
   "pygments_lexer": "ipython3",
   "version": "3.10.2"
  },
  "orig_nbformat": 4,
  "vscode": {
   "interpreter": {
    "hash": "7fa5c2bbde354df5fb32f89863fd9628b3718657b842099e0733f1c707419bc4"
   }
  }
 },
 "nbformat": 4,
 "nbformat_minor": 2
}
