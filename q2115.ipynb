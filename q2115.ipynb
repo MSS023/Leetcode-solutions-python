{
 "cells": [
  {
   "cell_type": "code",
   "execution_count": 20,
   "metadata": {},
   "outputs": [],
   "source": [
    "class Solution:\n",
    "    def findAllRecipes(self, recipes: list[str], ingredients: list[list[str]], supplies: list[str]) -> list[str]:\n",
    "        completed: set[str] = set[str]()\n",
    "        def checkSupplies(dishIndex: int, visited: list[str]) -> bool:\n",
    "            for ingred in ingredients[dishIndex]:\n",
    "                if ingred in completed:\n",
    "                    continue\n",
    "                if ingred in visited:\n",
    "                    return False\n",
    "                if ingred in supplies:\n",
    "                    continue\n",
    "                if ingred not in recipes:\n",
    "                    return False\n",
    "                if not checkSupplies(recipes.index(ingred),visited+[ingred]):\n",
    "                    return False\n",
    "            completed.add(recipes[dishIndex])\n",
    "            return True\n",
    "        for i,dish in enumerate(recipes):\n",
    "            checkSupplies(i,[])\n",
    "        return completed"
   ]
  },
  {
   "cell_type": "code",
   "execution_count": 21,
   "metadata": {},
   "outputs": [
    {
     "data": {
      "text/plain": [
       "{'fzjnm', 'ju', 'q'}"
      ]
     },
     "execution_count": 21,
     "metadata": {},
     "output_type": "execute_result"
    }
   ],
   "source": [
    "Solution().findAllRecipes([\"ju\",\"fzjnm\",\"x\",\"e\",\"zpmcz\",\"h\",\"q\"],\n",
    "[[\"d\"],[\"hveml\",\"f\",\"cpivl\"],[\"cpivl\",\"zpmcz\",\"h\",\"e\",\"fzjnm\",\"ju\"],[\"cpivl\",\"hveml\",\"zpmcz\",\"ju\",\"h\"],[\"h\",\"fzjnm\",\"e\",\"q\",\"x\"],[\"d\",\"hveml\",\"cpivl\",\"q\",\"zpmcz\",\"ju\",\"e\",\"x\"],[\"f\",\"hveml\",\"cpivl\"]],\n",
    "[\"f\",\"hveml\",\"cpivl\",\"d\"])"
   ]
  }
 ],
 "metadata": {
  "interpreter": {
   "hash": "7fa5c2bbde354df5fb32f89863fd9628b3718657b842099e0733f1c707419bc4"
  },
  "kernelspec": {
   "display_name": "Python 3.10.2 64-bit",
   "language": "python",
   "name": "python3"
  },
  "language_info": {
   "codemirror_mode": {
    "name": "ipython",
    "version": 3
   },
   "file_extension": ".py",
   "mimetype": "text/x-python",
   "name": "python",
   "nbconvert_exporter": "python",
   "pygments_lexer": "ipython3",
   "version": "3.10.2"
  },
  "orig_nbformat": 4
 },
 "nbformat": 4,
 "nbformat_minor": 2
}
