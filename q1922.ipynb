{
 "cells": [
  {
   "cell_type": "code",
   "execution_count": 20,
   "metadata": {},
   "outputs": [],
   "source": [
    "from typing import *\n",
    "import math"
   ]
  },
  {
   "cell_type": "code",
   "execution_count": null,
   "metadata": {},
   "outputs": [],
   "source": [
    "class Solution:\n",
    "    def countGoodNumbers(self, n: int) -> int:\n",
    "        count = 0\n",
    "        MOD = 7 + 10**9\n",
    "        groups = n // 2\n",
    "\n",
    "        def binpow(a, n):\n",
    "            if n == 0:\n",
    "                return 1\n",
    "            res = binpow(a, n//2) % MOD\n",
    "            if n & 1:\n",
    "                return (res * res * a) % MOD\n",
    "            return (res * res) % MOD\n",
    "\n",
    "        count = binpow(20, groups)\n",
    "\n",
    "        if n & 1:\n",
    "            count *= 5\n",
    "\n",
    "        return count % MOD"
   ]
  },
  {
   "cell_type": "code",
   "execution_count": null,
   "metadata": {},
   "outputs": [],
   "source": [
    "print(Solution().countGoodNumbers(10**9))"
   ]
  }
 ],
 "metadata": {
  "kernelspec": {
   "display_name": "Python 3",
   "language": "python",
   "name": "python3"
  },
  "language_info": {
   "codemirror_mode": {
    "name": "ipython",
    "version": 3
   },
   "file_extension": ".py",
   "mimetype": "text/x-python",
   "name": "python",
   "nbconvert_exporter": "python",
   "pygments_lexer": "ipython3",
   "version": "3.10.11"
  }
 },
 "nbformat": 4,
 "nbformat_minor": 2
}
