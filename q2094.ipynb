{
 "cells": [
  {
   "cell_type": "code",
   "execution_count": 1,
   "id": "ca3d11b8",
   "metadata": {},
   "outputs": [],
   "source": [
    "from typing import *"
   ]
  },
  {
   "cell_type": "code",
   "execution_count": 2,
   "id": "b1cbd9ba",
   "metadata": {},
   "outputs": [],
   "source": [
    "class Solution:\n",
    "    def findEvenNumbers(self, digits: List[int]) -> List[int]:\n",
    "        n = len(digits)\n",
    "        result = set()\n",
    "        for idx in range(n):\n",
    "            digit1 = digits[idx]\n",
    "            if not digit1:\n",
    "                continue\n",
    "            for idx2 in range(n):\n",
    "                if idx2 == idx:\n",
    "                    continue\n",
    "                digit2 = digits[idx2]\n",
    "                if not digit1 and not digit2:\n",
    "                    continue\n",
    "                for idx3 in range(n):\n",
    "                    if idx3 == idx2 or idx3 == idx:\n",
    "                        continue\n",
    "                    digit3 = digits[idx3]\n",
    "                    if digit3 & 1 == 1:\n",
    "                        continue\n",
    "                    num = int(f\"{digit1}{digit2}{digit3}\")\n",
    "                    result.add(num)\n",
    "        return sorted(list(result))"
   ]
  },
  {
   "cell_type": "code",
   "execution_count": 3,
   "id": "6cbd2f42",
   "metadata": {},
   "outputs": [
    {
     "name": "stdout",
     "output_type": "stream",
     "text": [
      "[102, 120, 130, 132, 210, 230, 302, 310, 312, 320]\n"
     ]
    }
   ],
   "source": [
    "print(Solution().findEvenNumbers([2,1,3,0]))"
   ]
  }
 ],
 "metadata": {
  "kernelspec": {
   "display_name": "Python 3",
   "language": "python",
   "name": "python3"
  },
  "language_info": {
   "codemirror_mode": {
    "name": "ipython",
    "version": 3
   },
   "file_extension": ".py",
   "mimetype": "text/x-python",
   "name": "python",
   "nbconvert_exporter": "python",
   "pygments_lexer": "ipython3",
   "version": "3.10.11"
  }
 },
 "nbformat": 4,
 "nbformat_minor": 5
}
