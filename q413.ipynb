{
 "cells": [
  {
   "cell_type": "code",
   "execution_count": 3,
   "metadata": {},
   "outputs": [
    {
     "data": {
      "text/plain": [
       "0"
      ]
     },
     "execution_count": 3,
     "metadata": {},
     "output_type": "execute_result"
    }
   ],
   "source": [
    "class Solution:\n",
    "    def numberOfArithmeticSlices(self, nums):\n",
    "        assessment=0\n",
    "        count=0\n",
    "        for i in range(2,len(nums)):\n",
    "            if nums[i] - nums[i-1] == nums[i-1] - nums[i-2]:\n",
    "                count+=1\n",
    "                assessment+=count\n",
    "            else:\n",
    "                count=0\n",
    "        return assessment\n",
    "\n",
    "sol = Solution()\n",
    "sol.numberOfArithmeticSlices([1])"
   ]
  }
 ],
 "metadata": {
  "interpreter": {
   "hash": "84c7cd761066ce45b8a789f7b09f72a3209628e136df7af6e1c369b4f2245113"
  },
  "kernelspec": {
   "display_name": "Python 3.10.2 64-bit",
   "language": "python",
   "name": "python3"
  },
  "language_info": {
   "codemirror_mode": {
    "name": "ipython",
    "version": 3
   },
   "file_extension": ".py",
   "mimetype": "text/x-python",
   "name": "python",
   "nbconvert_exporter": "python",
   "pygments_lexer": "ipython3",
   "version": "3.10.2"
  },
  "orig_nbformat": 4
 },
 "nbformat": 4,
 "nbformat_minor": 2
}
