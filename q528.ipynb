{
 "cells": [
  {
   "cell_type": "code",
   "execution_count": 35,
   "id": "d9e62d26",
   "metadata": {},
   "outputs": [],
   "source": [
    "from typing import *\n",
    "import random\n",
    "import bisect"
   ]
  },
  {
   "cell_type": "code",
   "execution_count": null,
   "id": "f6a02337",
   "metadata": {},
   "outputs": [],
   "source": [
    "class Solution:\n",
    "\n",
    "    def __init__(self, w: List[int]):\n",
    "        total = sum(w)\n",
    "        probs = list(map(lambda x,y: [x/total,y], w, range(len(w))))\n",
    "        probs.sort(reverse=True, key = lambda x: x[0])\n",
    "        self.probs = probs\n",
    "\n",
    "    def pickIndex(self) -> int:\n",
    "        r = random.random()\n",
    "        for [prob,idx] in self.probs:\n",
    "            if prob < r:\n",
    "                r -= prob\n",
    "                continue\n",
    "            return idx\n",
    "\n",
    "\n",
    "# Your Solution object will be instantiated and called as such:\n",
    "# obj = Solution(w)\n",
    "# param_1 = obj.pickIndex()"
   ]
  },
  {
   "cell_type": "code",
   "execution_count": null,
   "id": "bd277236",
   "metadata": {},
   "outputs": [],
   "source": [
    "class Solution:\n",
    "\n",
    "    def __init__(self, w: List[int]):\n",
    "        total = sum(w)\n",
    "        probs = list(map(lambda x,y: [x/total,y], w, range(len(w))))\n",
    "        probs.sort( reverse=True,key = lambda x: x[0])\n",
    "        for idx in range(1, len(probs)):\n",
    "            probs[idx][0] = probs[idx][0]+probs[idx-1][0]\n",
    "        self.probs = probs\n",
    "\n",
    "    def pickIndex(self) -> int:\n",
    "        r = random.random()\n",
    "        reqIdx = bisect.bisect(self.probs,r,key=lambda x: x[0])\n",
    "        if reqIdx >= len(self.probs):\n",
    "            return self.probs[-1][1]\n",
    "        return self.probs[reqIdx][1]\n",
    "\n",
    "\n",
    "# Your Solution object will be instantiated and called as such:\n",
    "# obj = Solution(w)\n",
    "# param_1 = obj.pickIndex()"
   ]
  },
  {
   "cell_type": "code",
   "execution_count": 70,
   "id": "1e9fb351",
   "metadata": {},
   "outputs": [],
   "source": [
    "def driver(commands: List[str], values: List[List[int]]):\n",
    "    obj = None\n",
    "    for idx in range(len(commands)):\n",
    "        command = commands[idx]\n",
    "        if command == \"Solution\":\n",
    "            obj = Solution(values[idx][0])\n",
    "            print(None, end=\"\\t\")\n",
    "            continue\n",
    "        print(obj.pickIndex(), end=\"\\t\")\n",
    "    print()"
   ]
  },
  {
   "cell_type": "code",
   "execution_count": 71,
   "id": "8d179c49",
   "metadata": {},
   "outputs": [
    {
     "name": "stdout",
     "output_type": "stream",
     "text": [
      "[[1.0, 0]]\n",
      "None\t0\t\n",
      "[[0.75, 1], [1.0, 0]]\n",
      "None\t1\t0\t1\t0\t1\t\n"
     ]
    }
   ],
   "source": [
    "driver([\"Solution\", \"pickIndex\"],[[[1]], []])\n",
    "driver([\"Solution\",\"pickIndex\",\"pickIndex\",\"pickIndex\",\"pickIndex\",\"pickIndex\"],[[[1,3]],[],[],[],[],[]])"
   ]
  }
 ],
 "metadata": {
  "kernelspec": {
   "display_name": "Python 3",
   "language": "python",
   "name": "python3"
  },
  "language_info": {
   "codemirror_mode": {
    "name": "ipython",
    "version": 3
   },
   "file_extension": ".py",
   "mimetype": "text/x-python",
   "name": "python",
   "nbconvert_exporter": "python",
   "pygments_lexer": "ipython3",
   "version": "3.10.11"
  }
 },
 "nbformat": 4,
 "nbformat_minor": 5
}
