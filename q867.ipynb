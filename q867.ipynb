{
 "cells": [
  {
   "cell_type": "code",
   "execution_count": null,
   "metadata": {},
   "outputs": [],
   "source": [
    "class Solution:\n",
    "    def transpose(self, matrix: List[List[int]]) -> List[List[int]]:\n",
    "        res=[]\n",
    "        for i in range(len(matrix[0])):\n",
    "            arr=[]\n",
    "            for j in range(len(matrix)):\n",
    "                arr.append(matrix[j][i])\n",
    "            res.append(arr)\n",
    "        return res"
   ]
  }
 ],
 "metadata": {
  "language_info": {
   "name": "python"
  },
  "orig_nbformat": 4
 },
 "nbformat": 4,
 "nbformat_minor": 2
}
