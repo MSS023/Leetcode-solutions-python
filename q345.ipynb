{
 "cells": [
  {
   "cell_type": "code",
   "execution_count": 1,
   "metadata": {},
   "outputs": [],
   "source": [
    "class Solution:\n",
    "    def reverseVowels(self, s: str) -> str:\n",
    "        vowels = set(['a','e','i','o','u','A','E','I','O','U'])\n",
    "        ptr1, ptr2 = 0, len(s)-1\n",
    "        while ptr1 < ptr2:\n",
    "            while ptr1 < ptr2 and s[ptr1] not in vowels:\n",
    "                ptr1 += 1\n",
    "            while ptr1 < ptr2 and s[ptr2] not in vowels:\n",
    "                ptr2 -=1\n",
    "            if ptr1 == ptr2:\n",
    "                return s\n",
    "            s = s[:ptr1] + s[ptr2] + s[ptr1+1:ptr2] + s[ptr1] + s[ptr2+1:]\n",
    "            ptr1 += 1\n",
    "            ptr2 -= 1\n",
    "        return s"
   ]
  },
  {
   "cell_type": "code",
   "execution_count": 2,
   "metadata": {},
   "outputs": [
    {
     "data": {
      "text/plain": [
       "'holle'"
      ]
     },
     "execution_count": 2,
     "metadata": {},
     "output_type": "execute_result"
    }
   ],
   "source": [
    "Solution().reverseVowels(\"hello\")"
   ]
  }
 ],
 "metadata": {
  "kernelspec": {
   "display_name": "Python 3.10.6 64-bit",
   "language": "python",
   "name": "python3"
  },
  "language_info": {
   "codemirror_mode": {
    "name": "ipython",
    "version": 3
   },
   "file_extension": ".py",
   "mimetype": "text/x-python",
   "name": "python",
   "nbconvert_exporter": "python",
   "pygments_lexer": "ipython3",
   "version": "3.10.6"
  },
  "orig_nbformat": 4,
  "vscode": {
   "interpreter": {
    "hash": "f15627b29e15848638e903c52dd09ae6c4c9adb1719aae45dda3850ec7954c19"
   }
  }
 },
 "nbformat": 4,
 "nbformat_minor": 2
}
