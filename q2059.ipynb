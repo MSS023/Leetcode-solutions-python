{
 "cells": [
  {
   "cell_type": "code",
   "execution_count": 12,
   "metadata": {},
   "outputs": [],
   "source": [
    "class Solution:\n",
    "    def minimumOperations(self, nums: List[int], start: int, goal: int) -> int:\n",
    "        arr = set()\n",
    "        q = [(start,0)]\n",
    "        while q:\n",
    "            x, count = q.pop(0)\n",
    "            if x == goal:\n",
    "                return count\n",
    "            if x in arr or x<0 or x>1000:\n",
    "                continue\n",
    "            arr.add(x)\n",
    "            for i in nums:\n",
    "                q.append((x+i,count+1))\n",
    "                q.append((x-i,count+1))\n",
    "                q.append((x^i,count+1))        \n",
    "        return -1"
   ]
  },
  {
   "cell_type": "code",
   "execution_count": 57,
   "metadata": {},
   "outputs": [],
   "source": [
    "import collections\n",
    "\n",
    "class Solution:\n",
    "    def minimumOperations(self, nums: List[int], start: int, goal: int) -> int:\n",
    "        q = collections.deque([(start, 0)])\n",
    "        visited = {start}\n",
    "        \n",
    "        while q:\n",
    "            x, count = q.popleft()\n",
    "            count += 1\n",
    "            for num in nums:\n",
    "                for newX in (x + num, x - num, x ^ num):\n",
    "                    if newX == goal:\n",
    "                        return count\n",
    "                    if newX < 0 or 1000 < newX or newX in visited:\n",
    "                        continue\n",
    "                    visited.add(newX)\n",
    "                    q.append((newX, count))\n",
    "        \n",
    "        return -1"
   ]
  },
  {
   "cell_type": "code",
   "execution_count": 13,
   "metadata": {},
   "outputs": [
    {
     "data": {
      "text/plain": [
       "2"
      ]
     },
     "execution_count": 13,
     "metadata": {},
     "output_type": "execute_result"
    }
   ],
   "source": [
    "Solution().minimumOperations([3,5,7],0,-4)"
   ]
  }
 ],
 "metadata": {
  "kernelspec": {
   "display_name": "Python 3.10.6 64-bit",
   "language": "python",
   "name": "python3"
  },
  "language_info": {
   "codemirror_mode": {
    "name": "ipython",
    "version": 3
   },
   "file_extension": ".py",
   "mimetype": "text/x-python",
   "name": "python",
   "nbconvert_exporter": "python",
   "pygments_lexer": "ipython3",
   "version": "3.10.6"
  },
  "orig_nbformat": 4,
  "vscode": {
   "interpreter": {
    "hash": "f15627b29e15848638e903c52dd09ae6c4c9adb1719aae45dda3850ec7954c19"
   }
  }
 },
 "nbformat": 4,
 "nbformat_minor": 2
}
