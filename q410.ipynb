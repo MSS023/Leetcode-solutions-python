{
 "cells": [
  {
   "cell_type": "code",
   "execution_count": 17,
   "metadata": {},
   "outputs": [
    {
     "name": "stdout",
     "output_type": "stream",
     "text": [
      "10 5 13 4 8 4 5 11 14 9 16 10 20 8\n",
      "8\n",
      "[[10], [5], [13], [4], [8], [4], [5], [11, 14, 9, 16, 10, 20, 8]] [10, 5, 13, 4, 8, 4, 5, 88] 88\n",
      "54\n"
     ]
    }
   ],
   "source": [
    "class Solution:\n",
    "    def splitArray(self, nums: List[int], m: int) -> int:\n",
    "        lo, hi = max(nums), sum(nums)\n",
    "        while lo < hi:\n",
    "            mid = (lo+hi)//2\n",
    "            tot, cnt = 0, 1\n",
    "            for num in nums:\n",
    "                if tot+num<=mid: \n",
    "                    tot += num\n",
    "                else:\n",
    "                    tot = num\n",
    "                    cnt += 1\n",
    "            if cnt>m: lo = mid+1\n",
    "            else: hi = mid\n",
    "        return hi\n",
    "            \n",
    "\n",
    "sol=Solution()\n",
    "print(sol.splitArray([int(x) for x in input().split()],int(input())))"
   ]
  }
 ],
 "metadata": {
  "interpreter": {
   "hash": "84c7cd761066ce45b8a789f7b09f72a3209628e136df7af6e1c369b4f2245113"
  },
  "kernelspec": {
   "display_name": "Python 3.10.2 64-bit",
   "language": "python",
   "name": "python3"
  },
  "language_info": {
   "codemirror_mode": {
    "name": "ipython",
    "version": 3
   },
   "file_extension": ".py",
   "mimetype": "text/x-python",
   "name": "python",
   "nbconvert_exporter": "python",
   "pygments_lexer": "ipython3",
   "version": "3.10.2"
  },
  "orig_nbformat": 4
 },
 "nbformat": 4,
 "nbformat_minor": 2
}
