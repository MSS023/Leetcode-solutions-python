{
 "cells": [
  {
   "cell_type": "code",
   "execution_count": 50,
   "id": "4ebbce8a",
   "metadata": {},
   "outputs": [],
   "source": [
    "from typing import *\n",
    "from collections import deque"
   ]
  },
  {
   "cell_type": "code",
   "execution_count": 47,
   "id": "aee57d95",
   "metadata": {},
   "outputs": [],
   "source": [
    "class Solution:\n",
    "    def main(self, currIdx: int) -> str:\n",
    "        currS = self.currS\n",
    "        if currIdx == len(self.s):\n",
    "            if len(currS)%self.k == 0 and currS == currS[:len(currS)//self.k]*self.k:\n",
    "                return currS[:len(currS)//self.k]\n",
    "            return \"\"\n",
    "        self.currS = self.currS+self.s[currIdx]\n",
    "        withCh = self.main(currIdx+1)\n",
    "        self.currS = currS\n",
    "        withoutCh = self.main(currIdx+1)\n",
    "        currSub = currS[:len(currS)//self.k]\n",
    "\n",
    "        return max([withCh, \n",
    "                   withoutCh,\n",
    "                   currSub if currS == currSub*self.k else \"\"],key=lambda x: (len(x), x))\n",
    "\n",
    "\n",
    "    def longestSubsequenceRepeatedK(self, s: str, k: int) -> str:\n",
    "        if k == len(s):\n",
    "            if s == s[0]*k:\n",
    "                return s[0]\n",
    "            return \"\"\n",
    "        \n",
    "        self.s = s\n",
    "        self.k = k\n",
    "        self.currS = \"\"\n",
    "        self.memo = {}\n",
    "\n",
    "        return self.main(0)"
   ]
  },
  {
   "cell_type": "code",
   "execution_count": 51,
   "id": "89c6e235",
   "metadata": {},
   "outputs": [],
   "source": [
    "class Solution:\n",
    "    def longestSubsequenceRepeatedK(self, s: str, k: int) -> str:\n",
    "        ans = \"\"\n",
    "        candidate = sorted(\n",
    "            [c for c, w in Counter(s).items() if w >= k], reverse=True\n",
    "        )\n",
    "        q = deque(candidate)\n",
    "        while q:\n",
    "            curr = q.popleft()\n",
    "            if len(curr) > len(ans):\n",
    "                ans = curr\n",
    "            # generate the next candidate string\n",
    "            for ch in candidate:\n",
    "                nxt = curr + ch\n",
    "                it = iter(s)\n",
    "                if all(ch in it for ch in nxt * k):\n",
    "                    q.append(nxt)\n",
    "        return ans"
   ]
  },
  {
   "cell_type": "code",
   "execution_count": 52,
   "id": "62197187",
   "metadata": {},
   "outputs": [
    {
     "name": "stdout",
     "output_type": "stream",
     "text": [
      "bbbb\n"
     ]
    }
   ],
   "source": [
    "# print(Solution().longestSubsequenceRepeatedK(\"letsleetcode\",2))\n",
    "# print(Solution().longestSubsequenceRepeatedK(\"bb\",2))\n",
    "# print(Solution().longestSubsequenceRepeatedK(\"ab\",2))\n",
    "print(Solution().longestSubsequenceRepeatedK(\"bbabbabbbbabaababab\",3))"
   ]
  }
 ],
 "metadata": {
  "kernelspec": {
   "display_name": "Python 3",
   "language": "python",
   "name": "python3"
  },
  "language_info": {
   "codemirror_mode": {
    "name": "ipython",
    "version": 3
   },
   "file_extension": ".py",
   "mimetype": "text/x-python",
   "name": "python",
   "nbconvert_exporter": "python",
   "pygments_lexer": "ipython3",
   "version": "3.10.11"
  }
 },
 "nbformat": 4,
 "nbformat_minor": 5
}
