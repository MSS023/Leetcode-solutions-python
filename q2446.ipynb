{
 "cells": [
  {
   "cell_type": "code",
   "execution_count": null,
   "metadata": {},
   "outputs": [],
   "source": [
    "from time import strptime\n",
    "\n",
    "class Solution:\n",
    "    def haveConflict(self, event1: List[str], event2: List[str]) -> bool:\n",
    "        event1 = [strptime(x,'%H:%M') for x in event1]\n",
    "        event2 = [strptime(x,'%H:%M') for x in event2]\n",
    "        if event1[0] > event2[0]:\n",
    "            if event1[0] > event2[1]:\n",
    "                return False\n",
    "            return True\n",
    "        elif event1[0] < event2[0]:\n",
    "            if event2[0] > event1[1]:\n",
    "                return False\n",
    "            return True\n",
    "        return True"
   ]
  }
 ],
 "metadata": {
  "language_info": {
   "name": "python"
  },
  "orig_nbformat": 4
 },
 "nbformat": 4,
 "nbformat_minor": 2
}
