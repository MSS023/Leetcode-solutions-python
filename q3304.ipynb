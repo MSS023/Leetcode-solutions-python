{
 "cells": [
  {
   "cell_type": "code",
   "execution_count": 1,
   "id": "16c1fe98",
   "metadata": {},
   "outputs": [],
   "source": [
    "from typing import *"
   ]
  },
  {
   "cell_type": "code",
   "execution_count": 2,
   "id": "4d151991",
   "metadata": {},
   "outputs": [],
   "source": [
    "class Solution:\n",
    "    def kthCharacter(self, k: int) -> str:\n",
    "        word = \"a\"\n",
    "        result = \"\"\n",
    "        while True:\n",
    "            for ch in word:\n",
    "                nextCh = chr(ord(ch) + 1) if ch != 'z' else 'a'\n",
    "                result += ch+nextCh\n",
    "                if len(result) >= k:\n",
    "                    return result[k-1]\n",
    "            word = result\n",
    "            result = \"\""
   ]
  },
  {
   "cell_type": "code",
   "execution_count": null,
   "id": "2e52928e",
   "metadata": {},
   "outputs": [],
   "source": [
    "class Solution:\n",
    "    def kthCharacter(self, k: int) -> str:\n",
    "        return ['a', 'b', 'b', 'c', 'b', 'c', 'c', 'd', 'b', 'c', 'c', 'd', 'c', 'd', 'd', 'e', 'b', 'c', 'c', 'd', 'c', 'd', 'd', 'e', 'c', 'd', 'd', 'e', 'd', 'e', 'e', 'f', 'b', 'c', 'c', 'd', 'c', 'd', 'd', 'e', 'c', 'd', 'd', 'e', 'd', 'e', 'e', 'f', 'c', 'd', 'd', 'e', 'd', 'e', 'e', 'f', 'd', 'e', 'e', 'f', 'e', 'f', 'f', 'g', 'b', 'c', 'c', 'd', 'c', 'd', 'd', 'e', 'c', 'd', 'd', 'e', 'd', 'e', 'e', 'f', 'c', 'd', 'd', 'e', 'd', 'e', 'e', 'f', 'd', 'e', 'e', 'f', 'e', 'f', 'f', 'g', 'c', 'd', 'd', 'e', 'd', 'e', 'e', 'f', 'd', 'e', 'e', 'f', 'e', 'f', 'f', 'g', 'd', 'e', 'e', 'f', 'e', 'f', 'f', 'g', 'e', 'f', 'f', 'g', 'f', 'g', 'g', 'h', 'b', 'c', 'c', 'd', 'c', 'd', 'd', 'e', 'c', 'd', 'd', 'e', 'd', 'e', 'e', 'f', 'c', 'd', 'd', 'e', 'd', 'e', 'e', 'f', 'd', 'e', 'e', 'f', 'e', 'f', 'f', 'g', 'c', 'd', 'd', 'e', 'd', 'e', 'e', 'f', 'd', 'e', 'e', 'f', 'e', 'f', 'f', 'g', 'd', 'e', 'e', 'f', 'e', 'f', 'f', 'g', 'e', 'f', 'f', 'g', 'f', 'g', 'g', 'h', 'c', 'd', 'd', 'e', 'd', 'e', 'e', 'f', 'd', 'e', 'e', 'f', 'e', 'f', 'f', 'g', 'd', 'e', 'e', 'f', 'e', 'f', 'f', 'g', 'e', 'f', 'f', 'g', 'f', 'g', 'g', 'h', 'd', 'e', 'e', 'f', 'e', 'f', 'f', 'g', 'e', 'f', 'f', 'g', 'f', 'g', 'g', 'h', 'e', 'f', 'f', 'g', 'f', 'g', 'g', 'h', 'f', 'g', 'g', 'h', 'g', 'h', 'h', 'i', 'b', 'c', 'c', 'd', 'c', 'd', 'd', 'e', 'c', 'd', 'd', 'e', 'd', 'e', 'e', 'f', 'c', 'd', 'd', 'e', 'd', 'e', 'e', 'f', 'd', 'e', 'e', 'f', 'e', 'f', 'f', 'g', 'c', 'd', 'd', 'e', 'd', 'e', 'e', 'f', 'd', 'e', 'e', 'f', 'e', 'f', 'f', 'g', 'd', 'e', 'e', 'f', 'e', 'f', 'f', 'g', 'e', 'f', 'f', 'g', 'f', 'g', 'g', 'h', 'c', 'd', 'd', 'e', 'd', 'e', 'e', 'f', 'd', 'e', 'e', 'f', 'e', 'f', 'f', 'g', 'd', 'e', 'e', 'f', 'e', 'f', 'f', 'g', 'e', 'f', 'f', 'g', 'f', 'g', 'g', 'h', 'd', 'e', 'e', 'f', 'e', 'f', 'f', 'g', 'e', 'f', 'f', 'g', 'f', 'g', 'g', 'h', 'e', 'f', 'f', 'g', 'f', 'g', 'g', 'h', 'f', 'g', 'g', 'h', 'g', 'h', 'h', 'i', 'c', 'd', 'd', 'e', 'd', 'e', 'e', 'f', 'd', 'e', 'e', 'f', 'e', 'f', 'f', 'g', 'd', 'e', 'e', 'f', 'e', 'f', 'f', 'g', 'e', 'f', 'f', 'g', 'f', 'g', 'g', 'h', 'd', 'e', 'e', 'f', 'e', 'f', 'f', 'g', 'e', 'f', 'f', 'g', 'f', 'g', 'g', 'h', 'e', 'f', 'f', 'g', 'f', 'g', 'g', 'h', 'f', 'g', 'g', 'h', 'g', 'h', 'h', 'i', 'd', 'e', 'e', 'f', 'e', 'f', 'f', 'g', 'e', 'f', 'f', 'g', 'f', 'g', 'g', 'h', 'e', 'f', 'f', 'g', 'f', 'g', 'g', 'h', 'f', 'g', 'g', 'h', 'g', 'h', 'h', 'i', 'e', 'f', 'f', 'g', 'f', 'g', 'g', 'h', 'f', 'g', 'g', 'h', 'g', 'h', 'h', 'i', 'f', 'g', 'g', 'h'][k-1]"
   ]
  },
  {
   "cell_type": "code",
   "execution_count": 6,
   "id": "3d0fadd2",
   "metadata": {},
   "outputs": [
    {
     "name": "stdout",
     "output_type": "stream",
     "text": [
      "b\n"
     ]
    }
   ],
   "source": [
    "print(Solution().kthCharacter(5))"
   ]
  }
 ],
 "metadata": {
  "kernelspec": {
   "display_name": "Python 3",
   "language": "python",
   "name": "python3"
  },
  "language_info": {
   "codemirror_mode": {
    "name": "ipython",
    "version": 3
   },
   "file_extension": ".py",
   "mimetype": "text/x-python",
   "name": "python",
   "nbconvert_exporter": "python",
   "pygments_lexer": "ipython3",
   "version": "3.10.11"
  }
 },
 "nbformat": 4,
 "nbformat_minor": 5
}
