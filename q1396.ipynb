{
 "cells": [
  {
   "cell_type": "code",
   "execution_count": null,
   "metadata": {},
   "outputs": [],
   "source": [
    "class UndergroundSystem:\n",
    "\n",
    "    def __init__(self):\n",
    "        self.stationIndex={}\n",
    "        self.graph=[]\n",
    "        self.num=[]\n",
    "        self.checkInList={}\n",
    "        self.max=-1\n",
    "\n",
    "    def checkIn(self, id: int, stationName: str, t: int) -> None:\n",
    "        if stationName not in self.stationIndex:\n",
    "            self.max+=1\n",
    "            self.stationIndex[stationName] = self.max\n",
    "        self.checkInList[id] = [self.stationIndex[stationName],t]\n",
    "\n",
    "    def checkOut(self, id: int, stationName: str, t: int) -> None:\n",
    "        if stationName not in self.stationIndex:\n",
    "            self.max+=1\n",
    "            self.stationIndex[stationName] = self.max\n",
    "        start = self.checkInList[id][0]\n",
    "        startT = self.checkInList[id][1]\n",
    "        self.checkInList.pop(id)\n",
    "        end = self.stationIndex[stationName]\n",
    "        endT = t\n",
    "        while len(self.graph) <= start:\n",
    "            self.graph.append([])\n",
    "            self.num.append([])\n",
    "        while len(self.graph[start]) <= end:\n",
    "            self.graph[start].append(0)\n",
    "            self.num[start].append(0)\n",
    "        self.graph[start][end] += endT-startT\n",
    "        self.num[start][end] += 1\n",
    "\n",
    "    def getAverageTime(self, startStation: str, endStation: str) -> float:\n",
    "        start = self.stationIndex[startStation]\n",
    "        end = self.stationIndex[endStation]\n",
    "        return self.graph[start][end]/self.num[start][end]        \n",
    "\n",
    "\n",
    "# Your UndergroundSystem object will be instantiated and called as such:\n",
    "# obj = UndergroundSystem()\n",
    "# obj.checkIn(id,stationName,t)\n",
    "# obj.checkOut(id,stationName,t)\n",
    "# param_3 = obj.getAverageTime(startStation,endStation) "
   ]
  }
 ],
 "metadata": {
  "language_info": {
   "name": "python"
  },
  "orig_nbformat": 4
 },
 "nbformat": 4,
 "nbformat_minor": 2
}
