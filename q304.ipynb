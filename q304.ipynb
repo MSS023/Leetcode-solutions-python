{
 "cells": [
  {
   "cell_type": "code",
   "execution_count": null,
   "metadata": {},
   "outputs": [],
   "source": [
    "class NumMatrix:\n",
    "\n",
    "    def __init__(self, matrix: List[List[int]]):\n",
    "        self.matrix = matrix\n",
    "        self.sumM = []\n",
    "        for i in range(len(matrix)):\n",
    "            arr=[matrix[i][0]]\n",
    "            for j in range(1,len(matrix[i])):\n",
    "                arr.append(arr[-1]+matrix[i][j])\n",
    "            self.sumM.append(arr)\n",
    "        for i in self.sumM:\n",
    "            print(*i)\n",
    "        \n",
    "    def sumRegion(self, row1: int, col1: int, row2: int, col2: int) -> int:\n",
    "        res=0\n",
    "        for i in range(row1,row2+1):\n",
    "            if col1==0:\n",
    "                res+=self.sumM[i][col2]\n",
    "                continue\n",
    "            res+=self.sumM[i][col2]-self.sumM[i][col1-1]\n",
    "        return res\n",
    "\n",
    "\n",
    "# Your NumMatrix object will be instantiated and called as such:\n",
    "# obj = NumMatrix(matrix)\n",
    "# param_1 = obj.sumRegion(row1,col1,row2,col2)"
   ]
  }
 ],
 "metadata": {
  "language_info": {
   "name": "python"
  },
  "orig_nbformat": 4
 },
 "nbformat": 4,
 "nbformat_minor": 2
}
