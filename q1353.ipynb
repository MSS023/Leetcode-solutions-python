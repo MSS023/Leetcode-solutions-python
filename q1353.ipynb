{
 "cells": [
  {
   "cell_type": "code",
   "execution_count": 56,
   "id": "be85300e",
   "metadata": {},
   "outputs": [],
   "source": [
    "from typing import *\n",
    "import bisect"
   ]
  },
  {
   "cell_type": "code",
   "execution_count": null,
   "id": "01b5718a",
   "metadata": {},
   "outputs": [],
   "source": [
    "class Solution:\n",
    "    def getMinDurationEvents(self, events: List[List[int]], day: int) -> List[int]:\n",
    "        l, r = 0, len(events) - 1\n",
    "\n",
    "        while l<r:\n",
    "            m = (l+r)//2\n",
    "\n",
    "            if day\n",
    "\n",
    "    def maxEvents(self, events: List[List[int]]) -> int:\n",
    "        events.sort(key = lambda x: (x[0],x[1]))\n",
    "\n",
    "        count = 0\n",
    "        day = 1\n",
    "        while events:\n",
    "            if events[0][0] > day:\n",
    "                day += 1\n",
    "                continue\n",
    "            \n",
    "            if events[0][1] < day:\n",
    "                events.pop(0)\n",
    "                continue\n",
    "            \n",
    "            minDur = None\n",
    "            for idx in range(len(events)):\n",
    "                if day > events[idx][1] or day < events[idx][0]:\n",
    "                    break\n",
    "                if minDur is None:\n",
    "                    minDur = events[idx]\n",
    "                    continue\n",
    "                minDur = min([minDur, events[idx]], key=lambda x: (x[1]-day,x[1]-x[0]))\n",
    "    \n",
    "            pos = bisect.bisect_left(events, minDur)\n",
    "            events.pop(pos)\n",
    "            count += 1\n",
    "            day += 1\n",
    "        \n",
    "        return count"
   ]
  },
  {
   "cell_type": "code",
   "execution_count": 55,
   "id": "aa51cedf",
   "metadata": {},
   "outputs": [
    {
     "name": "stdout",
     "output_type": "stream",
     "text": [
      "4\n"
     ]
    }
   ],
   "source": [
    "print(Solution().maxEvents([[1,3],[1,3],[1,3],[3,4]]))"
   ]
  }
 ],
 "metadata": {
  "kernelspec": {
   "display_name": "Python 3",
   "language": "python",
   "name": "python3"
  },
  "language_info": {
   "codemirror_mode": {
    "name": "ipython",
    "version": 3
   },
   "file_extension": ".py",
   "mimetype": "text/x-python",
   "name": "python",
   "nbconvert_exporter": "python",
   "pygments_lexer": "ipython3",
   "version": "3.10.11"
  }
 },
 "nbformat": 4,
 "nbformat_minor": 5
}
