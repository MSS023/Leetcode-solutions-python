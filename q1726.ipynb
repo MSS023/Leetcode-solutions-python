{
 "cells": [
  {
   "cell_type": "code",
   "execution_count": 1,
   "metadata": {},
   "outputs": [],
   "source": [
    "from typing import *"
   ]
  },
  {
   "cell_type": "code",
   "execution_count": 2,
   "metadata": {},
   "outputs": [],
   "source": [
    "class Solution:\n",
    "    def getPermutations(self, n: int) -> int:\n",
    "        return n*(n-1)\n",
    "\n",
    "    def tupleSameProduct(self, nums: List[int]) -> int:\n",
    "        n = len(nums)\n",
    "\n",
    "        prods = {}\n",
    "\n",
    "        for idx1 in range(n):\n",
    "            for idx2 in range(idx1+1, n):\n",
    "                prod = nums[idx1]*nums[idx2]\n",
    "                if prod not in prods:\n",
    "                    prods[prod] = 0\n",
    "                prods[prod] += 1\n",
    "\n",
    "        result = 0\n",
    "        for prod in prods:\n",
    "            count = prods[prod]\n",
    "            if count > 1:\n",
    "                result += 4 * self.getPermutations(count)\n",
    "\n",
    "        return result"
   ]
  },
  {
   "cell_type": "code",
   "execution_count": 3,
   "metadata": {},
   "outputs": [
    {
     "name": "stdout",
     "output_type": "stream",
     "text": [
      "8\n"
     ]
    }
   ],
   "source": [
    "print(Solution().tupleSameProduct(nums = [2,3,4,6]))"
   ]
  }
 ],
 "metadata": {
  "kernelspec": {
   "display_name": "Python 3",
   "language": "python",
   "name": "python3"
  },
  "language_info": {
   "codemirror_mode": {
    "name": "ipython",
    "version": 3
   },
   "file_extension": ".py",
   "mimetype": "text/x-python",
   "name": "python",
   "nbconvert_exporter": "python",
   "pygments_lexer": "ipython3",
   "version": "3.13.2"
  }
 },
 "nbformat": 4,
 "nbformat_minor": 2
}
