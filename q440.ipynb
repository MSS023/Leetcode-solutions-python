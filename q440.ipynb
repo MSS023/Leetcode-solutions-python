{
 "cells": [
  {
   "cell_type": "code",
   "execution_count": 2,
   "id": "6f1b8265",
   "metadata": {},
   "outputs": [],
   "source": [
    "from typing import *\n",
    "import math"
   ]
  },
  {
   "cell_type": "code",
   "execution_count": 10,
   "id": "6c952c16",
   "metadata": {},
   "outputs": [],
   "source": [
    "class Solution(object):\n",
    "    def findKthNumber(self, n, k):\n",
    "        curr = 1\n",
    "        k -= 1\n",
    "\n",
    "        while k > 0:\n",
    "            step = self._count_steps(n, curr, curr + 1)\n",
    "            # If the steps are less than or equal to k, we skip this prefix's subtree\n",
    "            if step <= k:\n",
    "                # Move to the next prefix and decrease k by the number of steps we skip\n",
    "                curr += 1\n",
    "                k -= step\n",
    "            else:\n",
    "                # Move to the next level of the tree and decrement k by 1\n",
    "                curr *= 10\n",
    "                k -= 1\n",
    "\n",
    "        return curr\n",
    "\n",
    "    # To count how many numbers exist between prefix1 and prefix2\n",
    "    def _count_steps(self, n, prefix1, prefix2):\n",
    "        steps = 0\n",
    "        while prefix1 <= n:\n",
    "            steps += min(n + 1, prefix2) - prefix1\n",
    "            prefix1 *= 10\n",
    "            prefix2 *= 10\n",
    "        return steps"
   ]
  },
  {
   "cell_type": "code",
   "execution_count": 11,
   "id": "c15400a4",
   "metadata": {},
   "outputs": [
    {
     "name": "stdout",
     "output_type": "stream",
     "text": [
      "10\n",
      "1\n",
      "102\n"
     ]
    }
   ],
   "source": [
    "print(Solution().findKthNumber(13,2))\n",
    "print(Solution().findKthNumber(1,1))\n",
    "print(Solution().findKthNumber(1025,25))"
   ]
  }
 ],
 "metadata": {
  "kernelspec": {
   "display_name": "Python 3",
   "language": "python",
   "name": "python3"
  },
  "language_info": {
   "codemirror_mode": {
    "name": "ipython",
    "version": 3
   },
   "file_extension": ".py",
   "mimetype": "text/x-python",
   "name": "python",
   "nbconvert_exporter": "python",
   "pygments_lexer": "ipython3",
   "version": "3.10.11"
  }
 },
 "nbformat": 4,
 "nbformat_minor": 5
}
