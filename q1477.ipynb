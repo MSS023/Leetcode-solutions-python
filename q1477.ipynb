{
 "cells": [
  {
   "cell_type": "code",
   "execution_count": null,
   "metadata": {},
   "outputs": [],
   "source": [
    "class Solution:\n",
    "    def minSumOfLengths(self, arr: list[int], target: int) -> int:\n",
    "        running_sum, lsize, min_len, dict1 = 0, float(\"inf\"), float(\"inf\"), {0:-1}\n",
    "    \n",
    "        for i in range(len(arr)):\n",
    "            running_sum += arr[i]\n",
    "            dict1[running_sum] = i\n",
    "\n",
    "        running_sum = 0\n",
    "\n",
    "        for i in range(len(arr)):\n",
    "            running_sum += arr[i]\n",
    "\n",
    "            if running_sum - target in dict1:\n",
    "                lsize = min(i - dict1[running_sum - target], lsize)\n",
    "\n",
    "            if running_sum + target in dict1 and lsize != float(\"inf\"):\n",
    "                rsize = dict1[running_sum + target] - i\n",
    "                min_len = min(min_len, rsize + lsize)\n",
    "\n",
    "        return min_len if min_len != float('inf') else -1"
   ]
  }
 ],
 "metadata": {
  "kernelspec": {
   "display_name": "Python 3.10.5 64-bit",
   "language": "python",
   "name": "python3"
  },
  "language_info": {
   "name": "python",
   "version": "3.10.5"
  },
  "orig_nbformat": 4,
  "vscode": {
   "interpreter": {
    "hash": "f15627b29e15848638e903c52dd09ae6c4c9adb1719aae45dda3850ec7954c19"
   }
  }
 },
 "nbformat": 4,
 "nbformat_minor": 2
}
