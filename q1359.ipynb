{
 "cells": [
  {
   "cell_type": "code",
   "execution_count": 9,
   "metadata": {},
   "outputs": [
    {
     "data": {
      "text/plain": [
       "2520"
      ]
     },
     "execution_count": 9,
     "metadata": {},
     "output_type": "execute_result"
    }
   ],
   "source": [
    "num=7+10**9\n",
    "\n",
    "class Solution:\n",
    "    def countOrders(self, n: int) -> int:\n",
    "        return self.helper(n,n)\n",
    "\n",
    "    def helper(self,p,d):\n",
    "        count=0\n",
    "        if p==0:\n",
    "            return self.factorial(d)%num\n",
    "        if p<d:\n",
    "            count+=(d-p)*self.helper(p,d-1)\n",
    "        count+=(p%num)*self.helper(p-1,d)\n",
    "        return count%num\n",
    "        \n",
    "    def factorial(self,n):\n",
    "        mult=1\n",
    "        while n>0:\n",
    "            mult=((n%num)*mult)%num\n",
    "            n-=1\n",
    "        return mult\n",
    "    \n",
    "sol=Solution()\n",
    "sol.countOrders(4)"
   ]
  },
  {
   "cell_type": "code",
   "execution_count": 11,
   "metadata": {},
   "outputs": [
    {
     "data": {
      "text/plain": [
       "2520"
      ]
     },
     "execution_count": 11,
     "metadata": {},
     "output_type": "execute_result"
    }
   ],
   "source": [
    "num=7+10**9\n",
    "\n",
    "class Solution:\n",
    "    def countOrders(self, n: int) -> int:\n",
    "        mat=[[-1]*(n+1) for _ in range(n+1) ]\n",
    "        return self.helper(n,n,mat)\n",
    "\n",
    "    def helper(self,p,d,mat):\n",
    "        count=0\n",
    "        if p==0:\n",
    "            return self.factorial(d)%num\n",
    "        if mat[p][d] != -1:\n",
    "            count+=mat[p][d]\n",
    "        else:\n",
    "            if p<d:\n",
    "                count+=(d-p)*self.helper(p,d-1,mat)\n",
    "            count+=(p%num)*self.helper(p-1,d,mat)\n",
    "            mat[p][d]=count\n",
    "        return mat[p][d]%num\n",
    "        \n",
    "    def factorial(self,n):\n",
    "        mult=1\n",
    "        while n>0:\n",
    "            mult=((n%num)*mult)%num\n",
    "            n-=1\n",
    "        return mult\n",
    "    \n",
    "sol=Solution()\n",
    "sol.countOrders(4)"
   ]
  }
 ],
 "metadata": {
  "interpreter": {
   "hash": "84c7cd761066ce45b8a789f7b09f72a3209628e136df7af6e1c369b4f2245113"
  },
  "kernelspec": {
   "display_name": "Python 3.10.2 64-bit",
   "language": "python",
   "name": "python3"
  },
  "language_info": {
   "codemirror_mode": {
    "name": "ipython",
    "version": 3
   },
   "file_extension": ".py",
   "mimetype": "text/x-python",
   "name": "python",
   "nbconvert_exporter": "python",
   "pygments_lexer": "ipython3",
   "version": "3.10.2"
  },
  "orig_nbformat": 4
 },
 "nbformat": 4,
 "nbformat_minor": 2
}
