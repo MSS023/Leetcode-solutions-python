{
 "cells": [
  {
   "cell_type": "code",
   "execution_count": 1,
   "metadata": {},
   "outputs": [],
   "source": [
    "from typing import *"
   ]
  },
  {
   "cell_type": "code",
   "execution_count": 28,
   "metadata": {},
   "outputs": [],
   "source": [
    "class Solution:\n",
    "    def __init__(self):\n",
    "        self.memo = {}\n",
    "\n",
    "    def isOverlap(self, idx1: int, idx2: int, k) -> bool:\n",
    "        return abs(idx2-idx1) < k\n",
    "    \n",
    "    def getSum(self, idx: int, k: int) -> int:\n",
    "        return self.prefixSum[idx+k] - self.prefixSum[idx]\n",
    "    \n",
    "    def getCombSum(self, arr: List[int], k: int, count: int) -> int:\n",
    "        if len(arr) < count:\n",
    "            return 0\n",
    "        result = 0\n",
    "        for num in arr:\n",
    "            result += self.getSum(num, k)\n",
    "        return result\n",
    "\n",
    "    def main(self, nums: List[int], k: int, idx: int = 0, count: int = 3) -> List[int]:\n",
    "        if count == 0 or count*k > len(nums) - idx:\n",
    "            return []\n",
    "\n",
    "        if (idx, count) in self.memo:\n",
    "            return self.memo[(idx, count)]\n",
    "\n",
    "        partialSum = [idx]\n",
    "        if count > 0:\n",
    "            partialSum += self.main(nums, k, idx+k, count-1)\n",
    "\n",
    "        fullSum = self.main(nums, k, idx+1, count)\n",
    "\n",
    "        if self.getCombSum(partialSum, k, count) >= self.getCombSum(fullSum, k, count):\n",
    "            self.memo[(idx, count)] = partialSum\n",
    "            return self.memo[(idx, count)]\n",
    "        \n",
    "        self.memo[(idx, count)] = fullSum\n",
    "        return fullSum\n",
    "\n",
    "        \n",
    "\n",
    "    def maxSumOfThreeSubarrays(self, nums: List[int], k: int) -> List[int]:\n",
    "        n = len(nums)\n",
    "\n",
    "        for i in range(1,k):\n",
    "            self.memo[(n - i,1)] = []\n",
    "\n",
    "        self.memo[(n - k, 1)] = [n-k]\n",
    "        self.prefixSum = [0]\n",
    "        for num in nums:\n",
    "            self.prefixSum.append(self.prefixSum[-1]+num)\n",
    "        return self.main(nums, k)"
   ]
  },
  {
   "cell_type": "code",
   "execution_count": 30,
   "metadata": {},
   "outputs": [
    {
     "name": "stdout",
     "output_type": "stream",
     "text": [
      "[0, 3, 5]\n",
      "[0, 2, 4]\n"
     ]
    }
   ],
   "source": [
    "print(Solution().maxSumOfThreeSubarrays(nums = [1, 2,1,2,6,7,5,1], k = 2))\n",
    "print(Solution().maxSumOfThreeSubarrays(nums = [1, 2,1,2,1,2,1,2,1], k = 2))"
   ]
  }
 ],
 "metadata": {
  "kernelspec": {
   "display_name": "Python 3",
   "language": "python",
   "name": "python3"
  },
  "language_info": {
   "codemirror_mode": {
    "name": "ipython",
    "version": 3
   },
   "file_extension": ".py",
   "mimetype": "text/x-python",
   "name": "python",
   "nbconvert_exporter": "python",
   "pygments_lexer": "ipython3",
   "version": "3.13.1"
  }
 },
 "nbformat": 4,
 "nbformat_minor": 2
}
