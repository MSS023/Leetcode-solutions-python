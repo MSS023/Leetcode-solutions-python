{
 "cells": [
  {
   "cell_type": "code",
   "execution_count": null,
   "metadata": {},
   "outputs": [],
   "source": [
    "class Solution:\n",
    "    def maximumElementAfterDecrementingAndRearranging(self, arr: List[int]) -> int:\n",
    "        arr.sort()\n",
    "        if arr[0]!=1:\n",
    "            arr[0]=1\n",
    "        for i in range(1,len(arr)):\n",
    "            if abs(arr[i]-arr[i-1])>1:\n",
    "                arr[i]=arr[i-1]+1\n",
    "        return max(arr)"
   ]
  }
 ],
 "metadata": {
  "language_info": {
   "name": "python"
  },
  "orig_nbformat": 4
 },
 "nbformat": 4,
 "nbformat_minor": 2
}
