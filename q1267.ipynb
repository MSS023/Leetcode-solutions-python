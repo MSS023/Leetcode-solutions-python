{
 "cells": [
  {
   "cell_type": "code",
   "execution_count": 1,
   "metadata": {},
   "outputs": [],
   "source": [
    "from typing import *"
   ]
  },
  {
   "cell_type": "code",
   "execution_count": 21,
   "metadata": {},
   "outputs": [],
   "source": [
    "class Solution:\n",
    "    def countServers(self, grid: List[List[int]]) -> int:\n",
    "        m, n = len(grid), len(grid[0])\n",
    "\n",
    "        counted = [False]*(m*n)\n",
    "\n",
    "        result = 0\n",
    "\n",
    "        for idx1 in range(m):\n",
    "            servers = []\n",
    "            for idx2 in range(n):\n",
    "                if grid[idx1][idx2] == 1:\n",
    "                    servers.append(idx1*n+idx2)\n",
    "            \n",
    "            if len(servers) < 2:\n",
    "                continue\n",
    "\n",
    "            for server in servers:\n",
    "                if not counted[server]:\n",
    "                    counted[server] = True\n",
    "                    result += 1\n",
    "\n",
    "        for idx1 in range(n):\n",
    "            servers = []\n",
    "            for idx2 in range(m):\n",
    "                if grid[idx2][idx1] == 1:\n",
    "                    servers.append(idx2*n+idx1)\n",
    "\n",
    "            if len(servers) < 2:\n",
    "                continue\n",
    "\n",
    "            for server in servers:\n",
    "                if not counted[server]:\n",
    "                    counted[server] = True\n",
    "                    result += 1\n",
    "\n",
    "        return result"
   ]
  },
  {
   "cell_type": "code",
   "execution_count": 23,
   "metadata": {},
   "outputs": [
    {
     "name": "stdout",
     "output_type": "stream",
     "text": [
      "0\n",
      "3\n",
      "4\n"
     ]
    }
   ],
   "source": [
    "print(Solution().countServers(grid = [[1, 0],[0,1]]))\n",
    "print(Solution().countServers(grid = [[1, 0],[1,1]]))\n",
    "print(Solution().countServers(grid = [[1, 1,0,0],[0,0,1,0],[0,0,1,0],[0,0,0,1]]))"
   ]
  }
 ],
 "metadata": {
  "kernelspec": {
   "display_name": "Python 3",
   "language": "python",
   "name": "python3"
  },
  "language_info": {
   "codemirror_mode": {
    "name": "ipython",
    "version": 3
   },
   "file_extension": ".py",
   "mimetype": "text/x-python",
   "name": "python",
   "nbconvert_exporter": "python",
   "pygments_lexer": "ipython3",
   "version": "3.13.1"
  }
 },
 "nbformat": 4,
 "nbformat_minor": 2
}
