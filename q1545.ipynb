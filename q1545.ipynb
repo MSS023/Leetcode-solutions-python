{
 "cells": [
  {
   "cell_type": "code",
   "execution_count": null,
   "metadata": {},
   "outputs": [],
   "source": [
    "class Solution:\n",
    "    def findKthBit(self, n: int, k: int) -> str:\n",
    "        start=\"0\"\n",
    "        lent=1\n",
    "        for i in range(1,n):\n",
    "            temp = list(start)\n",
    "            temp[lent-1] = \"0\" if temp[lent-1] == \"1\" else \"1\"\n",
    "            start += \"1\"+\"\".join(temp)\n",
    "            lent*=2\n",
    "        return start[k-1]"
   ]
  }
 ],
 "metadata": {
  "language_info": {
   "name": "python"
  },
  "orig_nbformat": 4
 },
 "nbformat": 4,
 "nbformat_minor": 2
}
