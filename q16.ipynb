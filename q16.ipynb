{
 "cells": [
  {
   "cell_type": "code",
   "execution_count": 10,
   "metadata": {},
   "outputs": [
    {
     "name": "stdout",
     "output_type": "stream",
     "text": [
      "52\n",
      "12\n",
      "8\n",
      "0\n",
      "32\n",
      "58\n",
      "6\n",
      "38\n",
      "54\n",
      "70\n",
      "6\n",
      "26\n",
      "94\n",
      "30\n",
      "142\n"
     ]
    },
    {
     "data": {
      "text/plain": [
       "82"
      ]
     },
     "execution_count": 10,
     "metadata": {},
     "output_type": "execute_result"
    }
   ],
   "source": [
    "from sys import maxsize\n",
    "\n",
    "class Solution:\n",
    "    def threeSumClosest(self, nums: list[int], target: int) -> int:\n",
    "        nums.sort()\n",
    "        length=len(nums)\n",
    "        index1=0\n",
    "        mx=maxsize\n",
    "        sum=0\n",
    "        while index1<length-2:\n",
    "            index2=index1+1\n",
    "            index3=length-1\n",
    "            while index2<index3:\n",
    "                val=nums[index1]+nums[index2]+nums[index3]\n",
    "                print(abs(val-target))\n",
    "                if abs(val-target)<mx:\n",
    "                    mx=abs(val-target)\n",
    "                    sum=val\n",
    "                if val<target:\n",
    "                    index2+=1\n",
    "                else:\n",
    "                    index3-=1\n",
    "            index1+=1\n",
    "        return sum\n",
    "\n",
    "sol=Solution()\n",
    "sol.threeSumClosest([int(x) for x in input().split()],int(input()))"
   ]
  },
  {
   "cell_type": "code",
   "execution_count": 9,
   "metadata": {},
   "outputs": [
    {
     "data": {
      "text/plain": [
       "0"
      ]
     },
     "execution_count": 9,
     "metadata": {},
     "output_type": "execute_result"
    }
   ],
   "source": []
  }
 ],
 "metadata": {
  "interpreter": {
   "hash": "84c7cd761066ce45b8a789f7b09f72a3209628e136df7af6e1c369b4f2245113"
  },
  "kernelspec": {
   "display_name": "Python 3.10.2 64-bit",
   "language": "python",
   "name": "python3"
  },
  "language_info": {
   "codemirror_mode": {
    "name": "ipython",
    "version": 3
   },
   "file_extension": ".py",
   "mimetype": "text/x-python",
   "name": "python",
   "nbconvert_exporter": "python",
   "pygments_lexer": "ipython3",
   "version": "3.10.2"
  },
  "orig_nbformat": 4
 },
 "nbformat": 4,
 "nbformat_minor": 2
}
