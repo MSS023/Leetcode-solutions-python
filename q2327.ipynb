{
 "cells": [
  {
   "cell_type": "code",
   "execution_count": 1,
   "id": "c726d15d",
   "metadata": {},
   "outputs": [],
   "source": [
    "from typing import *"
   ]
  },
  {
   "cell_type": "code",
   "execution_count": 11,
   "id": "3b6f673a",
   "metadata": {},
   "outputs": [],
   "source": [
    "class Solution:\n",
    "    def peopleAwareOfSecret(self, n: int, delay: int, forget: int) -> int:\n",
    "        MOD = 7+10**9\n",
    "        arr = [None]*n\n",
    "        arr[0] = 1\n",
    "        for idx in range(1,n):\n",
    "            start = max(0, idx - forget+1)\n",
    "            end = max(0, idx-delay+1)\n",
    "            count = 0\n",
    "            for idx2 in range(start,end):\n",
    "                count += arr[idx2]\n",
    "                count %= MOD\n",
    "            arr[idx] = count\n",
    "        res = 0\n",
    "        for idx in range(-1,-forget-1,-1):\n",
    "            res += arr[idx]\n",
    "            res %= MOD\n",
    "        return res"
   ]
  },
  {
   "cell_type": "code",
   "execution_count": 12,
   "id": "1437c8a7",
   "metadata": {},
   "outputs": [
    {
     "name": "stdout",
     "output_type": "stream",
     "text": [
      "5\n"
     ]
    }
   ],
   "source": [
    "print(Solution().peopleAwareOfSecret(6,2,4))"
   ]
  }
 ],
 "metadata": {
  "kernelspec": {
   "display_name": "Python 3",
   "language": "python",
   "name": "python3"
  },
  "language_info": {
   "codemirror_mode": {
    "name": "ipython",
    "version": 3
   },
   "file_extension": ".py",
   "mimetype": "text/x-python",
   "name": "python",
   "nbconvert_exporter": "python",
   "pygments_lexer": "ipython3",
   "version": "3.10.11"
  }
 },
 "nbformat": 4,
 "nbformat_minor": 5
}
