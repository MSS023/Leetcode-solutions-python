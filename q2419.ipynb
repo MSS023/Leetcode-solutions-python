{
 "cells": [
  {
   "cell_type": "code",
   "execution_count": 1,
   "metadata": {},
   "outputs": [],
   "source": [
    "from typing import *\n",
    "\n",
    "class Solution:\n",
    "    def longestSubarray(self, nums: List[int]) -> int:\n",
    "        maxmV = 0\n",
    "        maxmLen = 0\n",
    "        i = 0\n",
    "        while i < len(nums):\n",
    "            if nums[i] > maxmV:\n",
    "                maxmV = nums[i]\n",
    "                count = 0\n",
    "                while i < len(nums) and nums[i] == maxmV:\n",
    "                    i += 1\n",
    "                    count += 1\n",
    "                maxmLen = count\n",
    "                continue\n",
    "            if nums[i] == maxmV:\n",
    "                count = 0\n",
    "                while i < len(nums) and nums[i] == maxmV:\n",
    "                    i += 1\n",
    "                    count += 1\n",
    "                maxmLen = max(count,maxmLen)\n",
    "                continue\n",
    "            i += 1\n",
    "        return maxmLen"
   ]
  },
  {
   "cell_type": "code",
   "execution_count": 2,
   "metadata": {},
   "outputs": [
    {
     "data": {
      "text/plain": [
       "2"
      ]
     },
     "execution_count": 2,
     "metadata": {},
     "output_type": "execute_result"
    }
   ],
   "source": [
    "Solution().longestSubarray([1,2,3,3,2,2])"
   ]
  }
 ],
 "metadata": {
  "kernelspec": {
   "display_name": "Python 3.10.6 64-bit",
   "language": "python",
   "name": "python3"
  },
  "language_info": {
   "codemirror_mode": {
    "name": "ipython",
    "version": 3
   },
   "file_extension": ".py",
   "mimetype": "text/x-python",
   "name": "python",
   "nbconvert_exporter": "python",
   "pygments_lexer": "ipython3",
   "version": "3.10.6"
  },
  "orig_nbformat": 4,
  "vscode": {
   "interpreter": {
    "hash": "f15627b29e15848638e903c52dd09ae6c4c9adb1719aae45dda3850ec7954c19"
   }
  }
 },
 "nbformat": 4,
 "nbformat_minor": 2
}
