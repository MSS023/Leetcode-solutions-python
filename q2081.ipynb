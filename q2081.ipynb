{
 "cells": [
  {
   "cell_type": "code",
   "execution_count": 15,
   "id": "468e4e1f",
   "metadata": {},
   "outputs": [],
   "source": [
    "from typing import *"
   ]
  },
  {
   "cell_type": "code",
   "execution_count": 32,
   "id": "43cdfaaf",
   "metadata": {},
   "outputs": [],
   "source": [
    "class Solution:\n",
    "    def createPalindrome(self, length: int, base: int, isAtStart: bool = True) -> Iterator[str]:\n",
    "        if length <= 0:\n",
    "            yield \"\"\n",
    "            return\n",
    "        for num in range(base):\n",
    "            if num == 0 and isAtStart:\n",
    "                continue\n",
    "\n",
    "            for s in self.createPalindrome(length - 2, base, False):\n",
    "                yield str(num) + s + (str(num) if length > 1 else \"\")\n",
    "\n",
    "    def getNextPalindrome(self, base: int) -> Iterator[str]:\n",
    "        length = 1\n",
    "        while True:\n",
    "            for pa in self.createPalindrome(length, base):\n",
    "                yield pa\n",
    "            length += 1\n",
    "\n",
    "    def isBase10Palindrome(self, num10: int) -> bool:\n",
    "        numS = str(num10)\n",
    "        return numS == numS[::-1]\n",
    "\n",
    "    def kMirror(self, k: int, n: int) -> int:\n",
    "        sum = 0\n",
    "        count = 0\n",
    "        for num in self.getNextPalindrome(k):\n",
    "            if not self.isBase10Palindrome(int(num, k)):\n",
    "                continue\n",
    "            sum += int(num, k)\n",
    "            count += 1\n",
    "            if count == n:\n",
    "                return sum"
   ]
  },
  {
   "cell_type": "code",
   "execution_count": 35,
   "id": "2235833d",
   "metadata": {},
   "outputs": [
    {
     "name": "stdout",
     "output_type": "stream",
     "text": [
      "25\n",
      "499\n",
      "20379000\n",
      "18627530\n"
     ]
    }
   ],
   "source": [
    "print(Solution().kMirror(2,5))\n",
    "print(Solution().kMirror(3,7))\n",
    "print(Solution().kMirror(7,17))\n",
    "print(Solution().kMirror(9, 30))"
   ]
  }
 ],
 "metadata": {
  "kernelspec": {
   "display_name": "Python 3",
   "language": "python",
   "name": "python3"
  },
  "language_info": {
   "codemirror_mode": {
    "name": "ipython",
    "version": 3
   },
   "file_extension": ".py",
   "mimetype": "text/x-python",
   "name": "python",
   "nbconvert_exporter": "python",
   "pygments_lexer": "ipython3",
   "version": "3.10.11"
  }
 },
 "nbformat": 4,
 "nbformat_minor": 5
}
