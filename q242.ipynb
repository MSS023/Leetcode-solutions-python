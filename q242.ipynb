{
 "cells": [
  {
   "cell_type": "code",
   "execution_count": null,
   "metadata": {},
   "outputs": [],
   "source": [
    "from collections import Counter\n",
    "\n",
    "class Solution:\n",
    "    def isAnagram(self, s: str, t: str) -> bool:\n",
    "        count1 = Counter(s)\n",
    "        count2 = Counter(t)\n",
    "        if len(count1)!=len(count2):\n",
    "            return False\n",
    "        for i in count1:\n",
    "            if i not in count2 or count1[i]!=count2[i]:\n",
    "                return False\n",
    "        return True"
   ]
  }
 ],
 "metadata": {
  "language_info": {
   "name": "python"
  },
  "orig_nbformat": 4
 },
 "nbformat": 4,
 "nbformat_minor": 2
}
