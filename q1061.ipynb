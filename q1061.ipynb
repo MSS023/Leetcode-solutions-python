{
 "cells": [
  {
   "cell_type": "code",
   "execution_count": 1,
   "id": "bf0ac816",
   "metadata": {},
   "outputs": [],
   "source": [
    "from typing import *"
   ]
  },
  {
   "cell_type": "code",
   "execution_count": 15,
   "id": "167f765b",
   "metadata": {},
   "outputs": [],
   "source": [
    "class Solution:\n",
    "    def smallestEquivalentString(self, s1: str, s2: str, baseStr: str) -> str:\n",
    "        charMap = {}\n",
    "        for idx in range(len(s1)):\n",
    "            ch1 = s1[idx]\n",
    "            ch2 = s2[idx]\n",
    "\n",
    "            if ch1 not in charMap:\n",
    "                charMap[ch1] = [ch1,ch2]\n",
    "            if ch2 not in charMap:\n",
    "                charMap[ch2] = charMap[ch1]\n",
    "\n",
    "            charMap[ch1].append(ch1)\n",
    "            charMap[ch2].append(ch2)\n",
    "            temp = list(set(charMap[ch1]).union(set(charMap[ch2])))\n",
    "            for ch in temp:\n",
    "                charMap[ch] = temp\n",
    "        \n",
    "        result = \"\"\n",
    "        for ch in baseStr:\n",
    "            if ch not in charMap:\n",
    "                result += ch\n",
    "                continue\n",
    "            minCh = min(charMap[ch])\n",
    "            result += minCh\n",
    "        return result"
   ]
  },
  {
   "cell_type": "code",
   "execution_count": 16,
   "id": "722e388e",
   "metadata": {},
   "outputs": [
    {
     "name": "stdout",
     "output_type": "stream",
     "text": [
      "makkek\n",
      "hdld\n",
      "aauaaaaada\n"
     ]
    }
   ],
   "source": [
    "print(Solution().smallestEquivalentString(s1 = \"parker\", s2 = \"morris\", baseStr = \"parser\"))\n",
    "print(Solution().smallestEquivalentString(s1 = \"hello\", s2 = \"world\", baseStr = \"hold\"))\n",
    "print(Solution().smallestEquivalentString(s1 = \"leetcode\", s2 = \"programs\", baseStr = \"sourcecode\"))"
   ]
  }
 ],
 "metadata": {
  "kernelspec": {
   "display_name": "Python 3",
   "language": "python",
   "name": "python3"
  },
  "language_info": {
   "codemirror_mode": {
    "name": "ipython",
    "version": 3
   },
   "file_extension": ".py",
   "mimetype": "text/x-python",
   "name": "python",
   "nbconvert_exporter": "python",
   "pygments_lexer": "ipython3",
   "version": "3.10.11"
  }
 },
 "nbformat": 4,
 "nbformat_minor": 5
}
