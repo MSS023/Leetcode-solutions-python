{
 "cells": [
  {
   "cell_type": "code",
   "execution_count": 1,
   "metadata": {},
   "outputs": [],
   "source": [
    "from typing import *"
   ]
  },
  {
   "cell_type": "code",
   "execution_count": 123,
   "metadata": {},
   "outputs": [],
   "source": [
    "class Solution:\n",
    "    def main(self, start: int) -> int:\n",
    "        queue = [(start, 1)]\n",
    "        groupMap = {start: 1}\n",
    "\n",
    "        maxm = -1\n",
    "        visited = set()\n",
    "        while queue:\n",
    "            node, group = queue.pop(0)\n",
    "            visited.add(node)\n",
    "            maxm = max(maxm, group)\n",
    "            neighbors = self.edgeMap[node] if node in self.edgeMap else []\n",
    "            for neighbor in neighbors:\n",
    "                if neighbor in groupMap: \n",
    "                    if abs(groupMap[neighbor] - group) == 1:\n",
    "                        continue\n",
    "                    return -1\n",
    "                \n",
    "                groupMap[neighbor] = group+1\n",
    "                queue.append((neighbor, group+1))\n",
    "\n",
    "        for node in visited:\n",
    "            self.visited[node] = max(self.visited[node],maxm) if node in self.visited else maxm\n",
    "\n",
    "        return maxm\n",
    "                \n",
    "\n",
    "\n",
    "    def magnificentSets(self, n: int, edges: List[List[int]]) -> int:\n",
    "        self.edges = edges\n",
    "        self.edgeMap: Dict[int, List[int]] = {}\n",
    "        self.visited = {}\n",
    "        edgeMap = self.edgeMap\n",
    "        for a,b in edges:\n",
    "            if a not in edgeMap:\n",
    "                edgeMap[a] = []\n",
    "            if b not in edgeMap:\n",
    "                edgeMap[b] = []\n",
    "\n",
    "            edgeMap[a].append(b)\n",
    "            edgeMap[b].append(a)\n",
    "\n",
    "        result = 0\n",
    "        for node in range(1,n+1):\n",
    "            prevResult = -1\n",
    "            if node in self.visited:\n",
    "                prevResult = self.visited[node]\n",
    "                result -= prevResult\n",
    "            newResult = self.main(node)\n",
    "            result += max(newResult, prevResult)\n",
    "\n",
    "        if result == 0:\n",
    "            return -1\n",
    "        result = max(result, -1)\n",
    "        return result"
   ]
  },
  {
   "cell_type": "code",
   "execution_count": 124,
   "metadata": {},
   "outputs": [
    {
     "name": "stdout",
     "output_type": "stream",
     "text": [
      "4\n",
      "-1\n",
      "30\n",
      "4\n",
      "-1\n"
     ]
    }
   ],
   "source": [
    "print(Solution().magnificentSets(n = 6, edges = [[1, 2],[1,4],[1,5],[2,6],[2,3],[4,6]]))\n",
    "print(Solution().magnificentSets(n = 3, edges = [[1, 2],[2,3],[3,1]]))\n",
    "print(Solution().magnificentSets(n = 30, edges = [[16, 8],[6,5]]))\n",
    "print(Solution().magnificentSets(n = 26, edges = [[9, 16],[8,3],[20,21],[12,16],[14,3],[7,21],[22,3],[22,18],[11,16],[25,4],[2,4],[14,21],[23,3],[17,3],[2,16],[24,16],[13,4],[10,21],[7,4],[9,18],[14,18],[14,4],[14,16],[1,3],[25,18],[17,4],[1,16],[23,4],[2,21],[5,16],[24,18],[20,18],[19,16],[24,21],[9,3],[24,3],[19,18],[25,16],[19,21],[6,3],[26,18],[5,21],[20,16],[2,3],[10,18],[26,16],[8,4],[11,21],[23,16],[13,16],[25,3],[7,18],[19,3],[20,4],[26,3],[23,18],[15,18],[17,18],[10,16],[26,21],[23,21],[7,16],[8,18],[10,4],[24,4],[7,3],[11,18],[9,4],[26,4],[13,21],[22,16],[22,21],[20,3],[6,18],[9,21],[10,3],[22,4],[1,18],[25,21],[11,4],[1,21],[15,3],[1,4],[15,16],[2,18],[13,3],[8,21],[13,18],[11,3],[15,21],[8,16],[17,16],[15,4],[12,3],[6,4],[17,21],[5,18],[6,16],[6,21],[12,4],[19,4],[5,3],[12,21],[5,4]]))\n",
    "print(Solution().magnificentSets(n = 41, edges = [[9, 14],[6,23],[40,9],[21,29],[19,13],[5,33],[40,33],[31,2],[41,5],[2,36],[30,5],[40,19],[29,6],[30,19],[36,25],[32,7],[1,13],[19,5],[35,6],[1,32],[28,35],[39,5],[22,15],[19,7],[15,37],[5,27],[14,28],[36,37]]))"
   ]
  }
 ],
 "metadata": {
  "kernelspec": {
   "display_name": "Python 3",
   "language": "python",
   "name": "python3"
  },
  "language_info": {
   "codemirror_mode": {
    "name": "ipython",
    "version": 3
   },
   "file_extension": ".py",
   "mimetype": "text/x-python",
   "name": "python",
   "nbconvert_exporter": "python",
   "pygments_lexer": "ipython3",
   "version": "3.13.1"
  }
 },
 "nbformat": 4,
 "nbformat_minor": 2
}
