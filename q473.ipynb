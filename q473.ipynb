{
 "cells": [
  {
   "cell_type": "code",
   "execution_count": 4,
   "metadata": {},
   "outputs": [],
   "source": [
    "class Solution:\n",
    "    def makesquare(self, matchsticks: list[int]) -> bool:\n",
    "        if len(matchsticks) < 4:\n",
    "            return False\n",
    "        perimeter = sum(matchsticks)\n",
    "        if perimeter % 4 != 0:\n",
    "            return False\n",
    "        matchsticks.sort()\n",
    "        dict = {i:False for i in range(len(matchsticks))}\n",
    "        def makeSides(target,arr,sideLen,pos,nos):\n",
    "            if nos == 1:\n",
    "                return True\n",
    "            for i in range(pos,-1,-1):\n",
    "                if dict[i] is True:\n",
    "                    continue\n",
    "                if i<len(arr)-1 and dict[i+1] is False and arr[i]==arr[i+1]:\n",
    "                    continue\n",
    "                if arr[i]+sideLen == target:\n",
    "                    dict[i] = True\n",
    "                    if  makeSides(target,arr,0,len(arr)-1,nos-1):\n",
    "                    \treturn True\n",
    "                    dict[i]=False\n",
    "                if arr[i]+sideLen < target:\n",
    "                    dict[i] = True\n",
    "                    if makeSides(target,arr,sideLen+arr[i],i-1,nos):\n",
    "                        return True\n",
    "                    dict[i] = False\n",
    "                    continue\n",
    "            return False\n",
    "        return makeSides(perimeter//4,matchsticks,0,len(matchsticks)-1,4)"
   ]
  },
  {
   "cell_type": "code",
   "execution_count": 6,
   "metadata": {},
   "outputs": [
    {
     "data": {
      "text/plain": [
       "False"
      ]
     },
     "execution_count": 6,
     "metadata": {},
     "output_type": "execute_result"
    }
   ],
   "source": [
    "Solution().makesquare([5,5,5,5,4,4,4,4,3,3,3,3])"
   ]
  }
 ],
 "metadata": {
  "kernelspec": {
   "display_name": "Python 3.10.5 64-bit",
   "language": "python",
   "name": "python3"
  },
  "language_info": {
   "codemirror_mode": {
    "name": "ipython",
    "version": 3
   },
   "file_extension": ".py",
   "mimetype": "text/x-python",
   "name": "python",
   "nbconvert_exporter": "python",
   "pygments_lexer": "ipython3",
   "version": "3.10.5"
  },
  "orig_nbformat": 4,
  "vscode": {
   "interpreter": {
    "hash": "f15627b29e15848638e903c52dd09ae6c4c9adb1719aae45dda3850ec7954c19"
   }
  }
 },
 "nbformat": 4,
 "nbformat_minor": 2
}
