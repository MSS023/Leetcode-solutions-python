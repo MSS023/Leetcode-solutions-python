{
 "cells": [
  {
   "cell_type": "code",
   "execution_count": 1,
   "id": "06800ab0",
   "metadata": {},
   "outputs": [],
   "source": [
    "from typing import *"
   ]
  },
  {
   "cell_type": "code",
   "execution_count": 2,
   "id": "54621d6d",
   "metadata": {},
   "outputs": [],
   "source": [
    "class Solution:\n",
    "    def maxFreqSum(self, s: str) -> int:\n",
    "        vowels = {\"a\",\"e\",\"i\",\"o\",\"u\"}\n",
    "\n",
    "        charCount = {}\n",
    "        maxV, maxC = 0, 0\n",
    "\n",
    "        for ch in s:\n",
    "            if ch not in charCount:\n",
    "                charCount[ch] = 0\n",
    "\n",
    "            charCount[ch] += 1\n",
    "            if ch in vowels:\n",
    "                maxV = max(maxV, charCount[ch])\n",
    "            else:\n",
    "                maxC = max(maxC, charCount[ch])\n",
    "        \n",
    "        return maxV + maxC"
   ]
  },
  {
   "cell_type": "code",
   "execution_count": 3,
   "id": "364bcd3d",
   "metadata": {},
   "outputs": [
    {
     "name": "stdout",
     "output_type": "stream",
     "text": [
      "3\n"
     ]
    }
   ],
   "source": [
    "print(Solution().maxFreqSum(\"Success\"))"
   ]
  }
 ],
 "metadata": {
  "kernelspec": {
   "display_name": "Python 3",
   "language": "python",
   "name": "python3"
  },
  "language_info": {
   "codemirror_mode": {
    "name": "ipython",
    "version": 3
   },
   "file_extension": ".py",
   "mimetype": "text/x-python",
   "name": "python",
   "nbconvert_exporter": "python",
   "pygments_lexer": "ipython3",
   "version": "3.10.11"
  }
 },
 "nbformat": 4,
 "nbformat_minor": 5
}
