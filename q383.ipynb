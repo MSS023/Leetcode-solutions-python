{
 "cells": [
  {
   "cell_type": "code",
   "execution_count": 1,
   "metadata": {},
   "outputs": [],
   "source": [
    "from collections import Counter\n",
    "\n",
    "class Solution:\n",
    "    def canConstruct(self, ransomNote: str, magazine: str) -> bool:\n",
    "        count1 = Counter(magazine)\n",
    "        count2 = Counter(ransomNote)\n",
    "        for i in count2:\n",
    "            if i not in count1 or count1[i] < count2[i]:\n",
    "                return False\n",
    "        return True"
   ]
  },
  {
   "cell_type": "code",
   "execution_count": 2,
   "metadata": {},
   "outputs": [
    {
     "data": {
      "text/plain": [
       "True"
      ]
     },
     "execution_count": 2,
     "metadata": {},
     "output_type": "execute_result"
    }
   ],
   "source": [
    "Solution().canConstruct(\"abcabc\",\"aabbcc\")"
   ]
  }
 ],
 "metadata": {
  "kernelspec": {
   "display_name": "Python 3.10.6 64-bit",
   "language": "python",
   "name": "python3"
  },
  "language_info": {
   "codemirror_mode": {
    "name": "ipython",
    "version": 3
   },
   "file_extension": ".py",
   "mimetype": "text/x-python",
   "name": "python",
   "nbconvert_exporter": "python",
   "pygments_lexer": "ipython3",
   "version": "3.10.6"
  },
  "orig_nbformat": 4,
  "vscode": {
   "interpreter": {
    "hash": "f15627b29e15848638e903c52dd09ae6c4c9adb1719aae45dda3850ec7954c19"
   }
  }
 },
 "nbformat": 4,
 "nbformat_minor": 2
}
