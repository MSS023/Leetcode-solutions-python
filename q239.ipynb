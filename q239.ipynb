{
 "cells": [
  {
   "cell_type": "code",
   "execution_count": 3,
   "id": "2072c5fc",
   "metadata": {},
   "outputs": [],
   "source": [
    "from typing import *\n",
    "from collections import deque\n",
    "import heapq"
   ]
  },
  {
   "cell_type": "code",
   "execution_count": 4,
   "id": "3c1e0af3",
   "metadata": {},
   "outputs": [],
   "source": [
    "class Solution:\n",
    "    def maxSlidingWindow(self, nums: List[int], k: int) -> List[int]:\n",
    "        res = deque([])\n",
    "        result = []\n",
    "        for idx in range(len(nums)):\n",
    "            while res and nums[res[-1]] <= nums[idx]:\n",
    "                res.pop()\n",
    "            res.append(idx)\n",
    "            if res[0] <= idx - k:\n",
    "                res.popleft()\n",
    "            if idx >= k - 1:\n",
    "                result.append(nums[res[0]])\n",
    "\n",
    "        return result"
   ]
  },
  {
   "cell_type": "code",
   "execution_count": 5,
   "id": "17be942d",
   "metadata": {},
   "outputs": [
    {
     "name": "stdout",
     "output_type": "stream",
     "text": [
      "[3, 3, 5, 5, 6, 7]\n",
      "[1]\n"
     ]
    }
   ],
   "source": [
    "print(Solution().maxSlidingWindow(nums = [1,3,-1,-3,5,3,6,7], k = 3))\n",
    "print(Solution().maxSlidingWindow(nums = [1], k = 1))"
   ]
  }
 ],
 "metadata": {
  "kernelspec": {
   "display_name": "Python 3",
   "language": "python",
   "name": "python3"
  },
  "language_info": {
   "codemirror_mode": {
    "name": "ipython",
    "version": 3
   },
   "file_extension": ".py",
   "mimetype": "text/x-python",
   "name": "python",
   "nbconvert_exporter": "python",
   "pygments_lexer": "ipython3",
   "version": "3.10.11"
  }
 },
 "nbformat": 4,
 "nbformat_minor": 5
}
