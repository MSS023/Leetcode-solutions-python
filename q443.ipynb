{
 "cells": [
  {
   "cell_type": "code",
   "execution_count": 10,
   "metadata": {},
   "outputs": [],
   "source": [
    "class Solution:\n",
    "    def compress(self, chars: list[str]) -> int:\n",
    "        start: int = 1\n",
    "        while start < len(chars):\n",
    "            count: int = 1\n",
    "            while start<len(chars) and chars[start] == chars[start-1]:\n",
    "                count+=1\n",
    "                chars.pop(start)\n",
    "            if count > 1:\n",
    "                num = start\n",
    "                while count>0:\n",
    "                    chars.insert(num,str(count%10))\n",
    "                    count//=10\n",
    "                    start+=1\n",
    "            start+=1"
   ]
  },
  {
   "cell_type": "code",
   "execution_count": 11,
   "metadata": {},
   "outputs": [
    {
     "name": "stdout",
     "output_type": "stream",
     "text": [
      "['a', 'b', '1', '2']\n"
     ]
    }
   ],
   "source": [
    "chars: list[str] = [\"a\",\"b\",\"b\",\"b\",\"b\",\"b\",\"b\",\"b\",\"b\",\"b\",\"b\",\"b\",\"b\"]\n",
    "Solution().compress(chars)\n",
    "print(chars)"
   ]
  }
 ],
 "metadata": {
  "kernelspec": {
   "display_name": "Python 3.10.2 64-bit",
   "language": "python",
   "name": "python3"
  },
  "language_info": {
   "codemirror_mode": {
    "name": "ipython",
    "version": 3
   },
   "file_extension": ".py",
   "mimetype": "text/x-python",
   "name": "python",
   "nbconvert_exporter": "python",
   "pygments_lexer": "ipython3",
   "version": "3.10.2"
  },
  "orig_nbformat": 4,
  "vscode": {
   "interpreter": {
    "hash": "7fa5c2bbde354df5fb32f89863fd9628b3718657b842099e0733f1c707419bc4"
   }
  }
 },
 "nbformat": 4,
 "nbformat_minor": 2
}
