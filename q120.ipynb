{
 "cells": [
  {
   "cell_type": "markdown",
   "metadata": {},
   "source": [
    "TLE"
   ]
  },
  {
   "cell_type": "code",
   "execution_count": 21,
   "metadata": {},
   "outputs": [],
   "source": [
    "class Solution:\n",
    "    def minimumTotal(self, triangle: list[list[int]]) -> int:\n",
    "        def traverseTriangle(index,row,triangle):\n",
    "            if row == len(triangle):\n",
    "                return 0\n",
    "            return min(traverseTriangle(index,row+1,triangle)+triangle[row][index],traverseTriangle(index+1,row+1,triangle)+triangle[row][index+1])\n",
    "        return triangle[0][0]+traverseTriangle(0,1,triangle)"
   ]
  },
  {
   "cell_type": "markdown",
   "metadata": {},
   "source": [
    "New Approach"
   ]
  },
  {
   "cell_type": "code",
   "execution_count": 60,
   "metadata": {},
   "outputs": [],
   "source": [
    "class Solution:\n",
    "    def minimumTotal(self, triangle: list[list[int]]) -> int:\n",
    "        def traverse(index,row,triangle,memo):\n",
    "            if row == len(triangle):\n",
    "                return 0\n",
    "            if memo[row][index] is not None:\n",
    "                return memo[row][index]\n",
    "            minm = min(traverse(index,row+1,triangle,memo),traverse(index+1,row+1,triangle,memo))+triangle[row][index]\n",
    "            memo[row][index] = minm\n",
    "            return minm\n",
    "        memo = [[None]*len(i) for i in triangle]\n",
    "        res = traverse(0,0,triangle,memo)\n",
    "        return res"
   ]
  },
  {
   "cell_type": "code",
   "execution_count": 61,
   "metadata": {},
   "outputs": [
    {
     "name": "stdout",
     "output_type": "stream",
     "text": [
      "0 0\n",
      "0 1\n",
      "0 2\n",
      "1 2\n",
      "1 1\n",
      "1 2\n",
      "2 2\n",
      "-4 [[-4], [-2, -3]]\n"
     ]
    },
    {
     "data": {
      "text/plain": [
       "-4"
      ]
     },
     "execution_count": 61,
     "metadata": {},
     "output_type": "execute_result"
    }
   ],
   "source": [
    "Solution().minimumTotal(\n",
    "[[-1],[-2,-3]])"
   ]
  }
 ],
 "metadata": {
  "kernelspec": {
   "display_name": "Python 3.10.2 64-bit",
   "language": "python",
   "name": "python3"
  },
  "language_info": {
   "codemirror_mode": {
    "name": "ipython",
    "version": 3
   },
   "file_extension": ".py",
   "mimetype": "text/x-python",
   "name": "python",
   "nbconvert_exporter": "python",
   "pygments_lexer": "ipython3",
   "version": "3.10.2"
  },
  "orig_nbformat": 4,
  "vscode": {
   "interpreter": {
    "hash": "7fa5c2bbde354df5fb32f89863fd9628b3718657b842099e0733f1c707419bc4"
   }
  }
 },
 "nbformat": 4,
 "nbformat_minor": 2
}
