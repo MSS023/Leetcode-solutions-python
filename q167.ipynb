{
 "cells": [
  {
   "cell_type": "code",
   "execution_count": null,
   "metadata": {},
   "outputs": [],
   "source": [
    "class Solution:\n",
    "    def twoSum(self, numbers: List[int], target: int) -> List[int]:\n",
    "        index1 = 0\n",
    "        index2 = len(numbers)-1\n",
    "        while index1<index2:\n",
    "            sum = numbers[index1]+numbers[index2]\n",
    "            if sum<target:\n",
    "                index1+=1\n",
    "                continue\n",
    "            if sum>target:\n",
    "                index2-=1\n",
    "                continue\n",
    "            return [index1+1,index2+1]"
   ]
  }
 ],
 "metadata": {
  "language_info": {
   "name": "python"
  },
  "orig_nbformat": 4
 },
 "nbformat": 4,
 "nbformat_minor": 2
}
