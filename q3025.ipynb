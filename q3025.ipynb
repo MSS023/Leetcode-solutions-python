{
 "cells": [
  {
   "cell_type": "code",
   "execution_count": 1,
   "id": "a03ea52c",
   "metadata": {},
   "outputs": [],
   "source": [
    "from typing import *"
   ]
  },
  {
   "cell_type": "code",
   "execution_count": 7,
   "id": "c884919a",
   "metadata": {},
   "outputs": [],
   "source": [
    "class Solution:\n",
    "    def checkPositions(self, pt1: List[int], pt2: List[int]) -> bool:\n",
    "        if pt1[0] <= pt2[0] and pt1[1] >= pt2[1]:\n",
    "            return True\n",
    "        return False\n",
    "    \n",
    "    def checkInRectangle(self, tl: List[int], br: List[int], pt: List[int]) -> bool:\n",
    "        if pt[0] in range(tl[0],br[0]+1) and pt[1] in range(br[1], tl[1]+1):\n",
    "            return True\n",
    "        return False\n",
    "\n",
    "    def numberOfPairs(self, points: List[List[int]]) -> int:\n",
    "        points.sort(key=lambda x: (x[0], -x[1]))\n",
    "        n = len(points)\n",
    "        count = 0\n",
    "        for idx in range(n):\n",
    "            pt1 = points[idx]\n",
    "            for idx2 in range(idx+1, n):\n",
    "                pt2 = points[idx2]\n",
    "                if (not self.checkPositions(pt1, pt2)):\n",
    "                    continue\n",
    "                shouldCount = True\n",
    "                for idx3 in range(idx+1, idx2):\n",
    "                    pt3 = points[idx3]\n",
    "                    if self.checkInRectangle(pt1, pt2, pt3):\n",
    "                        shouldCount = False\n",
    "                        break\n",
    "                \n",
    "                if shouldCount:\n",
    "                    count += 1\n",
    "        return count\n"
   ]
  },
  {
   "cell_type": "code",
   "execution_count": 9,
   "id": "e6f993b2",
   "metadata": {},
   "outputs": [
    {
     "name": "stdout",
     "output_type": "stream",
     "text": [
      "0\n",
      "2\n",
      "2\n"
     ]
    }
   ],
   "source": [
    "print(Solution().numberOfPairs([[1,1],[2,2],[3,3]]))\n",
    "print(Solution().numberOfPairs([[6,2],[4,4],[2,6]]))\n",
    "print(Solution().numberOfPairs([[3,1],[1,3],[1,1]]))"
   ]
  }
 ],
 "metadata": {
  "kernelspec": {
   "display_name": "Python 3",
   "language": "python",
   "name": "python3"
  },
  "language_info": {
   "codemirror_mode": {
    "name": "ipython",
    "version": 3
   },
   "file_extension": ".py",
   "mimetype": "text/x-python",
   "name": "python",
   "nbconvert_exporter": "python",
   "pygments_lexer": "ipython3",
   "version": "3.10.11"
  }
 },
 "nbformat": 4,
 "nbformat_minor": 5
}
