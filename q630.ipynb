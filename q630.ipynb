{
 "cells": [
  {
   "cell_type": "code",
   "execution_count": 9,
   "metadata": {},
   "outputs": [],
   "source": [
    "class Solution:\n",
    "    def scheduleCourse(self, courses: list[list[int]]) -> int:\n",
    "        courses.sort(key=lambda x: x[1])\n",
    "        time = 0\n",
    "        count = 0\n",
    "        for i in range(len(courses)):\n",
    "            if time + courses[i][0] <= courses[i][1]:\n",
    "                count += 1\n",
    "                time += courses[i][0]\n",
    "                continue\n",
    "            maxm = i\n",
    "            for j in range(i):\n",
    "                if courses[j][0] > -1 and courses[j][0] > courses[maxm][0]:\n",
    "                    maxm = j\n",
    "            if courses[maxm][0] > courses[i][0]:\n",
    "                time += courses[i][0] - courses[maxm][0]\n",
    "            courses[maxm][0] = -1\n",
    "        return count\n"
   ]
  },
  {
   "cell_type": "code",
   "execution_count": 10,
   "metadata": {},
   "outputs": [
    {
     "data": {
      "text/plain": [
       "3"
      ]
     },
     "execution_count": 10,
     "metadata": {},
     "output_type": "execute_result"
    }
   ],
   "source": [
    "Solution().scheduleCourse([[100,200],[200,1300],[1000,1250],[2000,3200]])"
   ]
  }
 ],
 "metadata": {
  "kernelspec": {
   "display_name": "Python 3.10.2 64-bit",
   "language": "python",
   "name": "python3"
  },
  "language_info": {
   "codemirror_mode": {
    "name": "ipython",
    "version": 3
   },
   "file_extension": ".py",
   "mimetype": "text/x-python",
   "name": "python",
   "nbconvert_exporter": "python",
   "pygments_lexer": "ipython3",
   "version": "3.10.2"
  },
  "orig_nbformat": 4,
  "vscode": {
   "interpreter": {
    "hash": "7fa5c2bbde354df5fb32f89863fd9628b3718657b842099e0733f1c707419bc4"
   }
  }
 },
 "nbformat": 4,
 "nbformat_minor": 2
}
