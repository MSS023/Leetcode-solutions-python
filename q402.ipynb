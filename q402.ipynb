{
 "cells": [
  {
   "cell_type": "code",
   "execution_count": 15,
   "metadata": {},
   "outputs": [],
   "source": [
    "from itertools import combinations\n",
    "from sys import maxsize\n",
    "\n",
    "\n",
    "class Solution:\n",
    "    def removeKdigits(self,num: str,k: int) -> str:\n",
    "        if k == len(num):\n",
    "            return \"0\"\n",
    "        set=combinations(num,len(num)-k)\n",
    "        min=maxsize\n",
    "        for i in set:\n",
    "            num=\"\".join(i)\n",
    "            if int(num)<min:\n",
    "                min=int(num)\n",
    "        return str(min)\n",
    "\n",
    "        "
   ]
  },
  {
   "cell_type": "code",
   "execution_count": 97,
   "metadata": {},
   "outputs": [],
   "source": [
    "class Solution:\n",
    "    def removeKdigits(self,num: str,k: int) -> str:\n",
    "        if k==len(num):\n",
    "            return '0'\n",
    "        if k-len(num)==1:\n",
    "            return min(num)\n",
    "        last=-1\n",
    "        minm=\"\"\n",
    "        for i in range(len(num)-k):\n",
    "            tempIn=last+1\n",
    "            targLen=len(num)-k-i-1\n",
    "            for j in range(last+1,len(num)-targLen,1):\n",
    "                if num[j]<num[tempIn]:\n",
    "                    tempIn=j\n",
    "            last=tempIn\n",
    "            if len(minm)==0 and num[last]=='0' :\n",
    "                continue\n",
    "            minm+=num[last]\n",
    "        return minm"
   ]
  },
  {
   "cell_type": "code",
   "execution_count": 98,
   "metadata": {},
   "outputs": [
    {
     "data": {
      "text/plain": [
       "'0'"
      ]
     },
     "execution_count": 98,
     "metadata": {},
     "output_type": "execute_result"
    }
   ],
   "source": [
    "sol=Solution()\n",
    "sol.removeKdigits(\"10\",2)"
   ]
  }
 ],
 "metadata": {
  "interpreter": {
   "hash": "84c7cd761066ce45b8a789f7b09f72a3209628e136df7af6e1c369b4f2245113"
  },
  "kernelspec": {
   "display_name": "Python 3.10.2 64-bit",
   "language": "python",
   "name": "python3"
  },
  "language_info": {
   "codemirror_mode": {
    "name": "ipython",
    "version": 3
   },
   "file_extension": ".py",
   "mimetype": "text/x-python",
   "name": "python",
   "nbconvert_exporter": "python",
   "pygments_lexer": "ipython3",
   "version": "3.10.2"
  },
  "orig_nbformat": 4
 },
 "nbformat": 4,
 "nbformat_minor": 2
}
