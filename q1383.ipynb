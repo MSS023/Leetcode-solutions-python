{
 "cells": [
  {
   "cell_type": "code",
   "execution_count": 4,
   "metadata": {},
   "outputs": [],
   "source": [
    "from typing import *\n",
    "import heapq\n",
    "\n",
    "\n",
    "MOD = 7+10**9\n",
    "\n",
    "class Solution:\n",
    "    def maxPerformance(self, n: int, speed: List[int], efficiency: List[int], k: int) -> int:\n",
    "        arr = [(s, e) for s, e in zip(speed, efficiency)]\n",
    "        arr.sort(key=lambda x: x[1], reverse=True)\n",
    "        heap = []\n",
    "        sum = 0\n",
    "        maxm = 0\n",
    "        for s,e in arr:\n",
    "            if len(heap) == k:\n",
    "                sum -= heapq.heappop(heap)\n",
    "            sum += s\n",
    "            heapq.heappush(heap,s)\n",
    "            maxm = max(maxm,sum*e)\n",
    "        return maxm%MOD"
   ]
  },
  {
   "cell_type": "code",
   "execution_count": 5,
   "metadata": {},
   "outputs": [
    {
     "data": {
      "text/plain": [
       "68"
      ]
     },
     "execution_count": 5,
     "metadata": {},
     "output_type": "execute_result"
    }
   ],
   "source": [
    "Solution().maxPerformance(n = 6, speed = [2,10,3,1,5,8], efficiency = [5,4,3,9,7,2], k = 3)"
   ]
  }
 ],
 "metadata": {
  "kernelspec": {
   "display_name": "Python 3.10.6 64-bit",
   "language": "python",
   "name": "python3"
  },
  "language_info": {
   "codemirror_mode": {
    "name": "ipython",
    "version": 3
   },
   "file_extension": ".py",
   "mimetype": "text/x-python",
   "name": "python",
   "nbconvert_exporter": "python",
   "pygments_lexer": "ipython3",
   "version": "3.10.6"
  },
  "orig_nbformat": 4,
  "vscode": {
   "interpreter": {
    "hash": "f15627b29e15848638e903c52dd09ae6c4c9adb1719aae45dda3850ec7954c19"
   }
  }
 },
 "nbformat": 4,
 "nbformat_minor": 2
}
