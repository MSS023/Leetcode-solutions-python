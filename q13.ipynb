{
 "cells": [
  {
   "cell_type": "code",
   "execution_count": 4,
   "metadata": {},
   "outputs": [
    {
     "data": {
      "text/plain": [
       "1994"
      ]
     },
     "execution_count": 4,
     "metadata": {},
     "output_type": "execute_result"
    }
   ],
   "source": [
    "class Solution:\n",
    "    def romanToInt(self, s: str) -> int:\n",
    "        i=0\n",
    "        length=len(s)\n",
    "        num=0\n",
    "        while i<length:\n",
    "            if s[i]==\"I\":\n",
    "                if i<length-1 and s[i+1]==\"V\":\n",
    "                    num+=4\n",
    "                    i+=1\n",
    "                elif i<length-1 and s[i+1]==\"X\":\n",
    "                    num+=9\n",
    "                    i+=1\n",
    "                else:\n",
    "                    num+=1\n",
    "            elif s[i]==\"V\":\n",
    "                num+=5\n",
    "            elif s[i]==\"X\":\n",
    "                if i<length-1 and s[i+1]==\"L\":\n",
    "                    num+=40\n",
    "                    i+=1\n",
    "                elif i<length-1 and s[i+1]==\"C\":\n",
    "                    num+=90\n",
    "                    i+=1\n",
    "                else:\n",
    "                    num+=10\n",
    "            elif s[i]==\"L\":\n",
    "                num+=50\n",
    "            elif s[i]==\"C\":\n",
    "                if i<length-1 and s[i+1]==\"D\":\n",
    "                    num+=400\n",
    "                    i+=1\n",
    "                elif i<length-1 and s[i+1]==\"M\":\n",
    "                    num+=900\n",
    "                    i+=1\n",
    "                else:\n",
    "                    num+=100\n",
    "            elif s[i]==\"D\":\n",
    "                num+=500\n",
    "            elif s[i]==\"M\":\n",
    "                num+=1000\n",
    "            i+=1\n",
    "        return num\n",
    "\n",
    "sol=Solution()\n",
    "sol.romanToInt(input())"
   ]
  }
 ],
 "metadata": {
  "interpreter": {
   "hash": "84c7cd761066ce45b8a789f7b09f72a3209628e136df7af6e1c369b4f2245113"
  },
  "kernelspec": {
   "display_name": "Python 3.10.2 64-bit",
   "language": "python",
   "name": "python3"
  },
  "language_info": {
   "codemirror_mode": {
    "name": "ipython",
    "version": 3
   },
   "file_extension": ".py",
   "mimetype": "text/x-python",
   "name": "python",
   "nbconvert_exporter": "python",
   "pygments_lexer": "ipython3",
   "version": "3.10.2"
  },
  "orig_nbformat": 4
 },
 "nbformat": 4,
 "nbformat_minor": 2
}
