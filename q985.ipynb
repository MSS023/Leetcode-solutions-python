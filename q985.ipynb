{
 "cells": [
  {
   "cell_type": "code",
   "execution_count": null,
   "metadata": {},
   "outputs": [],
   "source": [
    "class Solution:\n",
    "    def sumEvenAfterQueries(self, nums: List[int], queries: List[List[int]]) -> List[int]:\n",
    "        ans = sum([x for x in nums if x & 1 == 0])\n",
    "        res = []\n",
    "        for val, idx in queries:\n",
    "            if nums[idx] & 1 == 0:\n",
    "                ans -= nums[idx]\n",
    "            nums[idx] += val\n",
    "            if nums[idx] & 1 == 0:\n",
    "                ans += nums[idx]\n",
    "            res.append(ans)\n",
    "        return res"
   ]
  }
 ],
 "metadata": {
  "language_info": {
   "name": "python"
  },
  "orig_nbformat": 4
 },
 "nbformat": 4,
 "nbformat_minor": 2
}
