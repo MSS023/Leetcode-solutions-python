{
 "cells": [
  {
   "cell_type": "code",
   "execution_count": null,
   "metadata": {},
   "outputs": [],
   "source": [
    "class Solution:\n",
    "    def maxArea(self, height) -> int:\n",
    "        start=0\n",
    "        last=len(height)-1\n",
    "        maxm=0\n",
    "        while start<last:\n",
    "            area=min(height[start],height[last])*(last-start)\n",
    "            if area>maxm:\n",
    "                maxm=area\n",
    "            if height[start]<height[last]:\n",
    "                start+=1\n",
    "            else:\n",
    "                last-=1\n",
    "        return maxm"
   ]
  }
 ],
 "metadata": {
  "language_info": {
   "name": "python"
  },
  "orig_nbformat": 4
 },
 "nbformat": 4,
 "nbformat_minor": 2
}
