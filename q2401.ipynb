{
 "cells": [
  {
   "cell_type": "code",
   "execution_count": 1,
   "metadata": {},
   "outputs": [],
   "source": [
    "from typing import *"
   ]
  },
  {
   "cell_type": "code",
   "execution_count": null,
   "metadata": {},
   "outputs": [],
   "source": [
    "class Solution:\n",
    "    def longestNiceSubarray(self, nums: List[int]) -> int:\n",
    "        niceCount = 1\n",
    "        currOr = nums[0]\n",
    "        maxmCount = 1\n",
    "        for idx in range(1,len(nums)):\n",
    "            num = nums[idx]\n",
    "            if currOr & num == 0:\n",
    "                niceCount += 1\n",
    "                currOr |= num\n",
    "                maxmCount = max(maxmCount, niceCount)\n",
    "                continue\n",
    "            niceCount = 1\n",
    "            currOr = num\n",
    "            for idx2 in range(idx-1,-1, -1):\n",
    "                num2 = nums[idx2]\n",
    "                if currOr & num2 != 0:\n",
    "                    break\n",
    "                niceCount += 1\n",
    "                currOr |= num2\n",
    "                maxmCount = max(maxmCount, niceCount)\n",
    "        \n",
    "        return maxmCount"
   ]
  },
  {
   "cell_type": "code",
   "execution_count": 27,
   "metadata": {},
   "outputs": [
    {
     "name": "stdout",
     "output_type": "stream",
     "text": [
      "8\n"
     ]
    }
   ],
   "source": [
    "print(Solution().longestNiceSubarray([84139415,693324769,614626365,497710833,615598711,264,65552,50331652,1,1048576,16384,544,270532608,151813349,221976871,678178917,845710321,751376227,331656525,739558112,267703680]))"
   ]
  },
  {
   "cell_type": "code",
   "execution_count": 21,
   "metadata": {},
   "outputs": [
    {
     "name": "stdout",
     "output_type": "stream",
     "text": [
      "0                         101000000111101110110010111\n",
      "1                      101001010100110100101111100001\n",
      "2                      100100101000100111010000111101\n",
      "3                       11101101010100111011011110001\n",
      "4                      100100101100010100101001110111\n",
      "5                                           100001000\n",
      "6                                   10000000000010000\n",
      "7                          11000000000000000000000100\n",
      "8                                                   1\n",
      "9                               100000000000000000000\n",
      "10                                    100000000000000\n",
      "11                                         1000100000\n",
      "12                      10000001000000000000000000000\n",
      "13                       1001000011000111110011100101\n",
      "14                       1101001110110001100100100111\n",
      "15                     101000011011000011000001100101\n",
      "16                     110010011010001000001111110001\n",
      "17                     101100110010010001011101100011\n",
      "18                      10011110001001010110101001101\n",
      "19                     101100000101001100001011100000\n",
      "20                       1111111101001101010110000000\n"
     ]
    }
   ],
   "source": [
    "def printBinary(idx,num):\n",
    "    print(str(idx).ljust(2,\" \"),'{0:b}'.format(num).rjust(50, \" \"))\n",
    "\n",
    "arr = [84139415,693324769,614626365,497710833,615598711,264,65552,50331652,1,1048576,16384,544,270532608,151813349,221976871,678178917,845710321,751376227,331656525,739558112,267703680]\n",
    "\n",
    "for idx,num in enumerate(arr):\n",
    "    printBinary(idx,num)"
   ]
  }
 ],
 "metadata": {
  "kernelspec": {
   "display_name": "Python 3",
   "language": "python",
   "name": "python3"
  },
  "language_info": {
   "codemirror_mode": {
    "name": "ipython",
    "version": 3
   },
   "file_extension": ".py",
   "mimetype": "text/x-python",
   "name": "python",
   "nbconvert_exporter": "python",
   "pygments_lexer": "ipython3",
   "version": "3.10.11"
  }
 },
 "nbformat": 4,
 "nbformat_minor": 2
}
