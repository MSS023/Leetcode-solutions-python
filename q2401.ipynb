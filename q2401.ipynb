{
 "cells": [
  {
   "cell_type": "code",
   "execution_count": 2,
   "metadata": {},
   "outputs": [],
   "source": [
    "from typing import *"
   ]
  },
  {
   "cell_type": "code",
   "execution_count": 3,
   "metadata": {},
   "outputs": [],
   "source": [
    "class Solution:\n",
    "    def longestNiceSubarray(self, nums: List[int]) -> int:\n",
    "        niceCount = 1\n",
    "        currOr = nums[0]\n",
    "        maxmCount = 1\n",
    "        for idx in range(1,len(nums)):\n",
    "            num = nums[idx]\n",
    "            if currOr & num == 0:\n",
    "                niceCount += 1\n",
    "                currOr |= num\n",
    "                maxmCount = max(maxmCount, niceCount)\n",
    "                continue\n",
    "            niceCount = 1\n",
    "            currOr = num\n",
    "            for idx2 in range(idx-1,-1, -1):\n",
    "                num2 = nums[idx2]\n",
    "                if currOr & num2 != 0:\n",
    "                    break\n",
    "                niceCount += 1\n",
    "                currOr |= num2\n",
    "                maxmCount = max(maxmCount, niceCount)\n",
    "        \n",
    "        return maxmCount"
   ]
  },
  {
   "cell_type": "code",
   "execution_count": 4,
   "metadata": {},
   "outputs": [
    {
     "name": "stdout",
     "output_type": "stream",
     "text": [
      "8\n"
     ]
    }
   ],
   "source": [
    "print(Solution().longestNiceSubarray([84139415,693324769,614626365,497710833,615598711,264,65552,50331652,1,1048576,16384,544,270532608,151813349,221976871,678178917,845710321,751376227,331656525,739558112,267703680]))"
   ]
  }
 ],
 "metadata": {
  "kernelspec": {
   "display_name": "Python 3",
   "language": "python",
   "name": "python3"
  },
  "language_info": {
   "codemirror_mode": {
    "name": "ipython",
    "version": 3
   },
   "file_extension": ".py",
   "mimetype": "text/x-python",
   "name": "python",
   "nbconvert_exporter": "python",
   "pygments_lexer": "ipython3",
   "version": "3.10.11"
  }
 },
 "nbformat": 4,
 "nbformat_minor": 2
}
