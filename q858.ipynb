{
 "cells": [
  {
   "cell_type": "code",
   "execution_count": 9,
   "metadata": {},
   "outputs": [],
   "source": [
    "from math import floor\n",
    "\n",
    "class Solution:\n",
    "    def mirrorReflection(self, p: int, q: int) -> int:\n",
    "        n = p\n",
    "        receptor = {(0, 0): 2, (0, n): 1, (n, n): 0}\n",
    "\n",
    "        def nextIncident(slope, intercept, iR, iC):\n",
    "            c = (-intercept) / slope\n",
    "            if (0,floor(c)) != (floor(iR),floor(iC)) and c <= n and c > -1:\n",
    "                return (0,c)\n",
    "            r = intercept\n",
    "            if (floor(r),0) != (floor(iR),floor(iC)) and r <= n and r > -1:\n",
    "                return (r,0)\n",
    "            c = (n - intercept) / slope\n",
    "            if (n,floor(c)) != (floor(iR),floor(iC)) and c <= n and c > -1:\n",
    "                return (n,c)\n",
    "            r = n*slope + intercept\n",
    "            if (floor(r),n) != (floor(iR),floor(iC)) and r <= n and r > -1:\n",
    "                return (r,n)\n",
    "        \n",
    "        def findIntercept(slope, r, c):\n",
    "            return r - slope * c\n",
    "        \n",
    "        slope = - q / p\n",
    "        incident = (n, 0)\n",
    "        while incident not in receptor:\n",
    "            intercept = findIntercept(slope,incident[0],incident[1])\n",
    "            incident = nextIncident(slope, intercept, *incident)\n",
    "            slope *= -1\n",
    "        return receptor[incident]"
   ]
  },
  {
   "cell_type": "code",
   "execution_count": 16,
   "metadata": {},
   "outputs": [],
   "source": [
    "from math import lcm\n",
    "\n",
    "\n",
    "class Solution:\n",
    "    def mirrorReflection(self, p: int, q: int) -> int:\n",
    "\n",
    "        L = lcm(p,q)\n",
    "\n",
    "        if (L//q)%2 == 0:\n",
    "            return 2\n",
    "\n",
    "        return (L//p)%2"
   ]
  },
  {
   "cell_type": "code",
   "execution_count": 17,
   "metadata": {},
   "outputs": [
    {
     "data": {
      "text/plain": [
       "2"
      ]
     },
     "execution_count": 17,
     "metadata": {},
     "output_type": "execute_result"
    }
   ],
   "source": [
    "Solution().mirrorReflection(20,17)"
   ]
  }
 ],
 "metadata": {
  "kernelspec": {
   "display_name": "Python 3.10.5 64-bit",
   "language": "python",
   "name": "python3"
  },
  "language_info": {
   "codemirror_mode": {
    "name": "ipython",
    "version": 3
   },
   "file_extension": ".py",
   "mimetype": "text/x-python",
   "name": "python",
   "nbconvert_exporter": "python",
   "pygments_lexer": "ipython3",
   "version": "3.10.5"
  },
  "orig_nbformat": 4,
  "vscode": {
   "interpreter": {
    "hash": "f15627b29e15848638e903c52dd09ae6c4c9adb1719aae45dda3850ec7954c19"
   }
  }
 },
 "nbformat": 4,
 "nbformat_minor": 2
}
