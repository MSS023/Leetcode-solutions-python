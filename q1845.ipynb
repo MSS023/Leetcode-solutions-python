{
 "cells": [
  {
   "cell_type": "markdown",
   "metadata": {},
   "source": [
    "TLE"
   ]
  },
  {
   "cell_type": "code",
   "execution_count": 2,
   "metadata": {},
   "outputs": [],
   "source": [
    "class SeatManager:\n",
    "\n",
    "    def __init__(self, n: int):\n",
    "        self.li = [False]*n\n",
    "\n",
    "    def reserve(self) -> int:\n",
    "        index = self.li.index(False)\n",
    "        self.li[index] = True\n",
    "        return index+1\n",
    "\n",
    "    def unreserve(self, seatNumber: int) -> None:\n",
    "        self.li[seatNumber-1] = False\n",
    "\n",
    "\n",
    "# Your SeatManager object will be instantiated and called as such:\n",
    "# obj = SeatManager(n)\n",
    "# param_1 = obj.reserve()\n",
    "# obj.unreserve(seatNumber)"
   ]
  },
  {
   "cell_type": "markdown",
   "metadata": {},
   "source": [
    "TLE"
   ]
  },
  {
   "cell_type": "code",
   "execution_count": 3,
   "metadata": {},
   "outputs": [],
   "source": [
    "class SeatManager:\n",
    "\n",
    "    def __init__(self, n: int):\n",
    "        self.li = [i for i in range(n)]\n",
    "\n",
    "    def reserve(self) -> int:\n",
    "        index = self.li.pop(0)\n",
    "        return index\n",
    "\n",
    "    def unreserve(self, seatNumber: int) -> None:\n",
    "        self.li.insert(0,seatNumber)\n",
    "        self.li.sort()\n",
    "\n",
    "\n",
    "# Your SeatManager object will be instantiated and called as such:\n",
    "# obj = SeatManager(n)\n",
    "# param_1 = obj.reserve()\n",
    "# obj.unreserve(seatNumber)"
   ]
  },
  {
   "cell_type": "code",
   "execution_count": 4,
   "metadata": {},
   "outputs": [],
   "source": [
    "class SeatManager:\n",
    "\n",
    "    def __init__(self, n: int):\n",
    "        self.unreserved = []\n",
    "        self.n = 0\n",
    "\n",
    "    def reserve(self) -> int:\n",
    "        if self.unreserved:\n",
    "            return self.unreserved.pop(0)\n",
    "        self.n+=1\n",
    "        return self.n\n",
    "\n",
    "    def unreserve(self, seatNumber: int) -> None:\n",
    "        self.unreserved.append(seatNumber)\n",
    "        self.unreserved.sort()\n",
    "\n",
    "\n",
    "# Your SeatManager object will be instantiated and called as such:\n",
    "# obj = SeatManager(n)\n",
    "# param_1 = obj.reserve()\n",
    "# obj.unreserve(seatNumber)"
   ]
  }
 ],
 "metadata": {
  "kernelspec": {
   "display_name": "Python 3.10.2 64-bit",
   "language": "python",
   "name": "python3"
  },
  "language_info": {
   "codemirror_mode": {
    "name": "ipython",
    "version": 3
   },
   "file_extension": ".py",
   "mimetype": "text/x-python",
   "name": "python",
   "nbconvert_exporter": "python",
   "pygments_lexer": "ipython3",
   "version": "3.10.2"
  },
  "orig_nbformat": 4,
  "vscode": {
   "interpreter": {
    "hash": "7fa5c2bbde354df5fb32f89863fd9628b3718657b842099e0733f1c707419bc4"
   }
  }
 },
 "nbformat": 4,
 "nbformat_minor": 2
}
