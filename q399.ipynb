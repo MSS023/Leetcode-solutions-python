{
 "cells": [
  {
   "cell_type": "code",
   "execution_count": 40,
   "metadata": {},
   "outputs": [],
   "source": [
    "class Solution:\n",
    "    def calcEquation(self, equations: list[list[str]], values: list[float], queries: list[list[str]]) -> list[float]:\n",
    "        diction={}\n",
    "        for index,i in enumerate(equations):\n",
    "            if i[0] not in diction:\n",
    "                diction[i[0]]=[]\n",
    "            if i[1] not in diction:\n",
    "                diction[i[1]]=[]\n",
    "            diction[i[0]].append([i[1],values[index]])\n",
    "            diction[i[1]].append([i[0],1/values[index]])\n",
    "        def dfs(edges,start,end,passed):\n",
    "            stack=[]\n",
    "            if start in edges:\n",
    "                for num,value in edges[start]:\n",
    "                    if num in passed:\n",
    "                        continue\n",
    "                    stack.append([num,value])\n",
    "            temp=1\n",
    "            while stack:\n",
    "                num,value=stack.pop()\n",
    "                temp=value\n",
    "                if num in passed:\n",
    "                    continue\n",
    "                if num==end:\n",
    "                    return [True,temp]\n",
    "                flag,retvalue=dfs(edges,num,end,passed+[num])\n",
    "                if not flag:\n",
    "                    continue\n",
    "                return [flag,temp*retvalue]\n",
    "            return [False,-1]\n",
    "        res=[]\n",
    "        for a,b in queries:\n",
    "            if a not in diction or b not in diction:\n",
    "                res.append(-1)\n",
    "                continue\n",
    "            if a==b:\n",
    "                res.append(1)\n",
    "                continue\n",
    "            flag,answer=dfs(diction,a,b,[a])\n",
    "            if flag:\n",
    "                diction[a].append([b,answer])\n",
    "                diction[b].append([a,1/answer])\n",
    "            res.append(answer)\n",
    "            continue\n",
    "        return res\n"
   ]
  },
  {
   "cell_type": "code",
   "execution_count": 41,
   "metadata": {},
   "outputs": [
    {
     "name": "stdout",
     "output_type": "stream",
     "text": [
      "[0.5, 2.0, -1, -1]\n"
     ]
    }
   ],
   "source": [
    "print(Solution().calcEquation([[\"a\",\"b\"]],[0.5],[[\"a\",\"b\"],[\"b\",\"a\"],[\"a\",\"c\"],[\"x\",\"x\"]]))"
   ]
  },
  {
   "cell_type": "code",
   "execution_count": 42,
   "metadata": {},
   "outputs": [],
   "source": [
    "##Code I submitted in Issue no #7169\n",
    "class Solution:\n",
    "    def calcEquation(self, equations: list[list[str]], values: list[float], queries: list[list[str]]) -> list[float]:\n",
    "        diction={}\n",
    "        for index,i in enumerate(equations):\n",
    "            if i[0] not in diction:\n",
    "                diction[i[0]]=[]\n",
    "            if i[1] not in diction:\n",
    "                diction[i[1]]=[]\n",
    "            diction[i[0]].append([i[1],values[index]])\n",
    "            diction[i[1]].append([i[0],1/values[index]])\n",
    "        def dfs(edges,start,end,passed):\n",
    "            stack=[]\n",
    "            if start in edges:\n",
    "                for num,value in edges[start]:\n",
    "                    if num in passed:\n",
    "                        continue\n",
    "                    stack.append([num,value])\n",
    "            temp=1\n",
    "            while stack:\n",
    "                num,value=stack.pop()\n",
    "                temp=value\n",
    "                if num in passed:\n",
    "                    continue\n",
    "                if num==end:\n",
    "                    return [True,temp]\n",
    "                flag,retvalue=dfs(edges,num,end,passed+[num])\n",
    "                if not flag:\n",
    "                    continue\n",
    "                return [flag,temp*retvalue]\n",
    "            return [False,-1]\n",
    "        res=[]\n",
    "        for a,b in queries:\n",
    "            if a==b:\n",
    "                res.append(1)\n",
    "                continue\n",
    "            if a not in diction or b not in diction:\n",
    "                res.append(-1)\n",
    "                continue\n",
    "            flag,answer=dfs(diction,a,b,[a])\n",
    "            if flag:\n",
    "                diction[a].append([b,answer])\n",
    "                diction[b].append([a,1/answer])\n",
    "            res.append(answer)\n",
    "            continue\n",
    "        return res\n"
   ]
  }
 ],
 "metadata": {
  "interpreter": {
   "hash": "84c7cd761066ce45b8a789f7b09f72a3209628e136df7af6e1c369b4f2245113"
  },
  "kernelspec": {
   "display_name": "Python 3.10.2 64-bit",
   "language": "python",
   "name": "python3"
  },
  "language_info": {
   "codemirror_mode": {
    "name": "ipython",
    "version": 3
   },
   "file_extension": ".py",
   "mimetype": "text/x-python",
   "name": "python",
   "nbconvert_exporter": "python",
   "pygments_lexer": "ipython3",
   "version": "3.10.2"
  },
  "orig_nbformat": 4
 },
 "nbformat": 4,
 "nbformat_minor": 2
}
