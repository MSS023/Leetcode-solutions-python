{
 "cells": [
  {
   "cell_type": "code",
   "execution_count": null,
   "metadata": {},
   "outputs": [],
   "source": [
    "class Solution:\n",
    "    def calPoints(self, ops: List[str]) -> int:\n",
    "        stack=[]\n",
    "        for i in ops:\n",
    "            if i==\"C\":\n",
    "                stack.pop()\n",
    "                continue\n",
    "            if i==\"D\":\n",
    "                stack.append(stack[-1]*2)\n",
    "                continue\n",
    "            if i==\"+\":\n",
    "                stack.append(stack[-1]+stack[-2])\n",
    "                continue\n",
    "            stack.append(int(i))\n",
    "        return sum(stack)"
   ]
  }
 ],
 "metadata": {
  "language_info": {
   "name": "python"
  },
  "orig_nbformat": 4
 },
 "nbformat": 4,
 "nbformat_minor": 2
}
