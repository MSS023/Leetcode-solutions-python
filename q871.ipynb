{
 "cells": [
  {
   "cell_type": "code",
   "execution_count": 21,
   "metadata": {},
   "outputs": [],
   "source": [
    "from functools import cache\n",
    "from typing import *\n",
    "\n",
    "class Solution:\n",
    "    def minRefuelStops(self, target: int, startFuel: int, stations: List[List[int]]) -> int:\n",
    "        \n",
    "        memo = {}\n",
    "        def recursive(fuel: int,station: int):\n",
    "            if (fuel,station) in memo:\n",
    "                return memo[(fuel,station)]\n",
    "            if station == len(stations):\n",
    "                if fuel >= target:\n",
    "                    return 0\n",
    "                return -1\n",
    "            if fuel < stations[station][0]:\n",
    "                return -1\n",
    "            ans1 = recursive(fuel,station + 1)\n",
    "            ans2 = recursive(fuel + stations[station][1],station + 1)\n",
    "            if ans1 == -1 and ans2 == -1:\n",
    "                memo[(fuel,station)] = -1\n",
    "                return -1\n",
    "            if ans1 == -1:\n",
    "                memo[(fuel,station)] = ans2+1\n",
    "                return ans2+1\n",
    "            if ans2 == -1:\n",
    "                memo[(fuel,station)] = ans1\n",
    "                return ans1\n",
    "            memo[(fuel,station)] = min(ans1,ans2+1)\n",
    "            return min(ans1,ans2+1)\n",
    "        \n",
    "        return recursive(startFuel,0)\n",
    "            "
   ]
  },
  {
   "cell_type": "code",
   "execution_count": 23,
   "metadata": {},
   "outputs": [],
   "source": [
    "import heapq\n",
    "\n",
    "class Solution:\n",
    "    def minRefuelStops(self, target, tank, stations):\n",
    "        pq = [] \n",
    "        stations.append((target, float('inf')))\n",
    "\n",
    "        ans = prev = 0\n",
    "        for location, capacity in stations:\n",
    "            tank -= location - prev\n",
    "            while pq and tank < 0: \n",
    "                tank += -heapq.heappop(pq)\n",
    "                ans += 1\n",
    "            if tank < 0: return -1\n",
    "            heapq.heappush(pq, -capacity)\n",
    "            prev = location\n",
    "\n",
    "        return ans"
   ]
  },
  {
   "cell_type": "code",
   "execution_count": 24,
   "metadata": {},
   "outputs": [
    {
     "data": {
      "text/plain": [
       "6"
      ]
     },
     "execution_count": 24,
     "metadata": {},
     "output_type": "execute_result"
    }
   ],
   "source": [
    "Solution().minRefuelStops(1000000,\n",
    "8663,\n",
    "[[31,195796],[42904,164171],[122849,139112],[172890,121724],[182747,90912],[194124,112994],[210182,101272],[257242,73097],[284733,108631],[369026,25791],[464270,14596],[470557,59420],[491647,192483],[516972,123213],[577532,184184],[596589,143624],[661564,154130],[705234,100816],[721453,122405],[727874,6021],[728786,19444],[742866,2995],[807420,87414],[922999,7675],[996060,32691]])"
   ]
  }
 ],
 "metadata": {
  "kernelspec": {
   "display_name": "Python 3.10.6 64-bit",
   "language": "python",
   "name": "python3"
  },
  "language_info": {
   "codemirror_mode": {
    "name": "ipython",
    "version": 3
   },
   "file_extension": ".py",
   "mimetype": "text/x-python",
   "name": "python",
   "nbconvert_exporter": "python",
   "pygments_lexer": "ipython3",
   "version": "3.10.6"
  },
  "orig_nbformat": 4,
  "vscode": {
   "interpreter": {
    "hash": "f15627b29e15848638e903c52dd09ae6c4c9adb1719aae45dda3850ec7954c19"
   }
  }
 },
 "nbformat": 4,
 "nbformat_minor": 2
}
