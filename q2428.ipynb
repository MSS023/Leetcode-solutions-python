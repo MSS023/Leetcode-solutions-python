{
 "cells": [
  {
   "cell_type": "code",
   "execution_count": null,
   "metadata": {},
   "outputs": [],
   "source": [
    "class Solution:\n",
    "    def maxSum(self, grid: List[List[int]]) -> int:\n",
    "        m = len(grid)\n",
    "        n = len(grid[0])\n",
    "        maxm = 0\n",
    "\n",
    "        def findSum(sr,sy):\n",
    "            reqSum = sum(grid[sr][sy:sy+3])\n",
    "            reqSum += grid[sr+1][sy+1]\n",
    "            reqSum += sum(grid[sr+2][sy:sy+3])\n",
    "            return reqSum\n",
    "\n",
    "        for row in range(0,m-2):\n",
    "            for col in range(0,n-2):\n",
    "                maxm = max(maxm,findSum(row,col))\n",
    "        \n",
    "        return maxm"
   ]
  }
 ],
 "metadata": {
  "kernelspec": {
   "display_name": "Python 3.10.6 64-bit",
   "language": "python",
   "name": "python3"
  },
  "language_info": {
   "name": "python",
   "version": "3.10.6"
  },
  "orig_nbformat": 4,
  "vscode": {
   "interpreter": {
    "hash": "f15627b29e15848638e903c52dd09ae6c4c9adb1719aae45dda3850ec7954c19"
   }
  }
 },
 "nbformat": 4,
 "nbformat_minor": 2
}
