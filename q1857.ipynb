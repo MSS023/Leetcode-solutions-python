{
 "cells": [
  {
   "cell_type": "code",
   "execution_count": 18,
   "id": "fd49ce16",
   "metadata": {},
   "outputs": [],
   "source": [
    "from typing import *\n",
    "from collections import defaultdict"
   ]
  },
  {
   "cell_type": "code",
   "execution_count": 25,
   "id": "d86d3d5d",
   "metadata": {},
   "outputs": [],
   "source": [
    "class Solution:\n",
    "    def traverse(self, node: int) -> Dict[str, int]:\n",
    "        if self.stack[node]:\n",
    "            return {}\n",
    "        \n",
    "        if self.memo[node] is not None:\n",
    "            return self.memo[node]\n",
    "        \n",
    "        color = self.colors[node]\n",
    "        maxDict = {}\n",
    "\n",
    "        self.stack[node] = True\n",
    "        for node2 in self.graph[node]:\n",
    "            diction = self.traverse(node2).copy()\n",
    "            if len(diction) == 0:\n",
    "                return {}\n",
    "            for c in diction:\n",
    "                maxDict[c] = max(maxDict[c] if c in maxDict else 0, diction[c])\n",
    "        self.stack[node] = False\n",
    "        if color not in maxDict:\n",
    "            maxDict[color] = 0\n",
    "        maxDict[color] += 1\n",
    "        self.memo[node] = maxDict\n",
    "        self.maxm = max(self.maxm, max(self.memo[node].values()))\n",
    "        return maxDict\n",
    "\n",
    "\n",
    "    def largestPathValue(self, colors: str, edges: List[List[int]]) -> int:\n",
    "        self.graph = [[] for _ in range(len(colors))]\n",
    "        self.memo = [None for _ in range(len(colors))]\n",
    "        self.maxm = -1\n",
    "        self.colors = colors\n",
    "\n",
    "        for a,b in edges:\n",
    "            self.graph[a].append(b)\n",
    "\n",
    "        self.stack = [False for _ in range(len(colors))]\n",
    "\n",
    "        for node in range(len(self.graph)):\n",
    "            if self.memo[node] is not None:\n",
    "                continue\n",
    "            rv = self.traverse(node).values()\n",
    "            if len(rv) == 0:\n",
    "                return -1\n",
    "\n",
    "        return self.maxm"
   ]
  },
  {
   "cell_type": "code",
   "execution_count": 26,
   "id": "b09b4efd",
   "metadata": {},
   "outputs": [
    {
     "name": "stdout",
     "output_type": "stream",
     "text": [
      "3\n"
     ]
    }
   ],
   "source": [
    "# print(Solution().largestPathValue(\"a\", [[0,0]]))\n",
    "print(Solution().largestPathValue(\"xxbgbgxgbx\", [[0,1],[1,2],[3,0],[2,4],[4,5],[5,6],[5,7],[4,8],[4,9]]))"
   ]
  }
 ],
 "metadata": {
  "kernelspec": {
   "display_name": "Python 3",
   "language": "python",
   "name": "python3"
  },
  "language_info": {
   "codemirror_mode": {
    "name": "ipython",
    "version": 3
   },
   "file_extension": ".py",
   "mimetype": "text/x-python",
   "name": "python",
   "nbconvert_exporter": "python",
   "pygments_lexer": "ipython3",
   "version": "3.10.11"
  }
 },
 "nbformat": 4,
 "nbformat_minor": 5
}
