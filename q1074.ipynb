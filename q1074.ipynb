{
 "cells": [
  {
   "cell_type": "code",
   "execution_count": null,
   "metadata": {},
   "outputs": [],
   "source": [
    "class Solution:\n",
    "    def numSubmatrixSumTarget(self, matrix: list[list[int]], target: int) -> int:\n",
    "        lenX,lenY,ans = len(matrix[0]),len(matrix),0\n",
    "        for i in matrix:\n",
    "            for j in range(1,lenX):\n",
    "                i[j] += i[j-1]\n",
    "        for i in range(lenX):\n",
    "            for j in range(i,lenX):\n",
    "                memo, csum = {0:1}, 0\n",
    "                for arr in matrix:\n",
    "                    csum += arr[j] - (arr[i - 1] if i > 0 else 0) \n",
    "                    if csum - target in memo:\n",
    "                        ans += memo[csum - target]\n",
    "                    if csum in memo:\n",
    "                        memo[csum] += 1\n",
    "                    else:\n",
    "                        memo[csum] = 1\n",
    "        return ans"
   ]
  }
 ],
 "metadata": {
  "kernelspec": {
   "display_name": "Python 3.10.5 64-bit",
   "language": "python",
   "name": "python3"
  },
  "language_info": {
   "name": "python",
   "version": "3.10.5"
  },
  "orig_nbformat": 4,
  "vscode": {
   "interpreter": {
    "hash": "f15627b29e15848638e903c52dd09ae6c4c9adb1719aae45dda3850ec7954c19"
   }
  }
 },
 "nbformat": 4,
 "nbformat_minor": 2
}
