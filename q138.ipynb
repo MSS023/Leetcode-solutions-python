{
 "cells": [
  {
   "cell_type": "code",
   "execution_count": null,
   "metadata": {},
   "outputs": [],
   "source": [
    "\"\"\"\n",
    "# Definition for a Node.\n",
    "class Node:\n",
    "    def __init__(self, x: int, next: 'Node' = None, random: 'Node' = None):\n",
    "        self.val = int(x)\n",
    "        self.next = next\n",
    "        self.random = random\n",
    "\"\"\"\n",
    "\n",
    "class Solution:\n",
    "    def copyRandomList(self, head: 'Optional[Node]') -> 'Optional[Node]':\n",
    "        arr=[]\n",
    "        head2=Node(0)\n",
    "        temp=head2\n",
    "        dict={}\n",
    "        while head is not None:\n",
    "            arr.append(head)\n",
    "            temp.next=Node(head.val)\n",
    "            dict[head]=temp.next\n",
    "            temp=temp.next\n",
    "            head=head.next\n",
    "        head2=head2.next\n",
    "        temp=head2\n",
    "        for node in arr:\n",
    "            if node.random is not None:\n",
    "                temp.random=dict[node.random]\n",
    "            temp=temp.next\n",
    "        return head2"
   ]
  }
 ],
 "metadata": {
  "language_info": {
   "name": "python"
  },
  "orig_nbformat": 4
 },
 "nbformat": 4,
 "nbformat_minor": 2
}
