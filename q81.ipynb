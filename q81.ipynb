{
 "cells": [
  {
   "cell_type": "code",
   "execution_count": 6,
   "metadata": {},
   "outputs": [
    {
     "name": "stdout",
     "output_type": "stream",
     "text": [
      "True\n"
     ]
    }
   ],
   "source": [
    "class Solution:\n",
    "    def search(self, nums: list[int], target: int) -> bool:\n",
    "        if len(nums)==1:\n",
    "            if nums[0]==target:\n",
    "                return True\n",
    "            return False\n",
    "        if len(nums)==0:\n",
    "            return False\n",
    "        index=0\n",
    "        while index<len(nums)-1 and nums[index]<=nums[index+1]:\n",
    "            index+=1\n",
    "        temp=nums[:index+1]\n",
    "        nums=nums[index+1:]+temp\n",
    "        l=0\n",
    "        r=len(nums)-1\n",
    "        while l<=r:\n",
    "            m=(l+r)//2\n",
    "            if nums[m]==target:\n",
    "                return True\n",
    "            elif nums[m]<target:\n",
    "                l=m+1\n",
    "            else:\n",
    "                r=m-1\n",
    "        return False\n",
    "\n",
    "sol=Solution()\n",
    "print(sol.search([int(x) for x in input().split()],int(input())))"
   ]
  }
 ],
 "metadata": {
  "interpreter": {
   "hash": "84c7cd761066ce45b8a789f7b09f72a3209628e136df7af6e1c369b4f2245113"
  },
  "kernelspec": {
   "display_name": "Python 3.10.2 64-bit",
   "language": "python",
   "name": "python3"
  },
  "language_info": {
   "codemirror_mode": {
    "name": "ipython",
    "version": 3
   },
   "file_extension": ".py",
   "mimetype": "text/x-python",
   "name": "python",
   "nbconvert_exporter": "python",
   "pygments_lexer": "ipython3",
   "version": "3.10.2"
  },
  "orig_nbformat": 4
 },
 "nbformat": 4,
 "nbformat_minor": 2
}
