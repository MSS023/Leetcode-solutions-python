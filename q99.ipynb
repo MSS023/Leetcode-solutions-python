{
 "cells": [
  {
   "cell_type": "code",
   "execution_count": null,
   "metadata": {},
   "outputs": [],
   "source": [
    "# Definition for a binary tree node.\n",
    "# class TreeNode:\n",
    "#     def __init__(self, val=0, left=None, right=None):\n",
    "#         self.val = val\n",
    "#         self.left = left\n",
    "#         self.right = right\n",
    "class Solution:\n",
    "    def recoverTree(self, root: Optional[TreeNode]) -> None:\n",
    "        \"\"\"\n",
    "        Do not return anything, modify root in-place instead.\n",
    "        \"\"\"\n",
    "        arr=[]\n",
    "        def inorder1(root,arr):\n",
    "            if root is None:\n",
    "                return\n",
    "            inorder1(root.left,arr)\n",
    "            arr.append(root.val)\n",
    "            inorder1(root.right,arr)\n",
    "        inorder1(root,arr)\n",
    "        arr.sort()\n",
    "        def inorder2(root,arr):\n",
    "            if root is None:\n",
    "                return\n",
    "            inorder2(root.left,arr)\n",
    "            root.val=arr.pop(0)\n",
    "            inorder2(root.right,arr)\n",
    "        inorder2(root,arr)"
   ]
  }
 ],
 "metadata": {
  "language_info": {
   "name": "python"
  },
  "orig_nbformat": 4
 },
 "nbformat": 4,
 "nbformat_minor": 2
}
