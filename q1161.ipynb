{
 "cells": [
  {
   "cell_type": "code",
   "execution_count": 1,
   "metadata": {},
   "outputs": [],
   "source": [
    "# Definition for a binary tree node.\n",
    "class TreeNode:\n",
    "    def __init__(self, val=0, left=None, right=None):\n",
    "        self.val = val\n",
    "        self.left = left\n",
    "        self.right = right"
   ]
  },
  {
   "cell_type": "code",
   "execution_count": 2,
   "metadata": {},
   "outputs": [],
   "source": [
    "class Solution:\n",
    "    def maxLevelSum(self, root: TreeNode) -> int:\n",
    "        res = []\n",
    "        def bfs(root):\n",
    "            stack = [(root,0)]\n",
    "            while stack:\n",
    "                node,level = stack.pop(0)\n",
    "                if len(res) <= level:\n",
    "                    res.append(0)\n",
    "                res[level] += node.val\n",
    "                if node.left:\n",
    "                    stack.append((node.left,level+1))\n",
    "                if node.right:\n",
    "                    stack.append((node.right,level+1))\n",
    "        bfs(root)\n",
    "        maxm = float(\"-inf\")\n",
    "        idx = 0\n",
    "        for level,i in enumerate(res,1):\n",
    "            if i > maxm:\n",
    "                idx = level\n",
    "                maxm = i\n",
    "        return idx"
   ]
  }
 ],
 "metadata": {
  "kernelspec": {
   "display_name": "Python 3.10.5 64-bit",
   "language": "python",
   "name": "python3"
  },
  "language_info": {
   "codemirror_mode": {
    "name": "ipython",
    "version": 3
   },
   "file_extension": ".py",
   "mimetype": "text/x-python",
   "name": "python",
   "nbconvert_exporter": "python",
   "pygments_lexer": "ipython3",
   "version": "3.10.5"
  },
  "orig_nbformat": 4,
  "vscode": {
   "interpreter": {
    "hash": "f15627b29e15848638e903c52dd09ae6c4c9adb1719aae45dda3850ec7954c19"
   }
  }
 },
 "nbformat": 4,
 "nbformat_minor": 2
}
