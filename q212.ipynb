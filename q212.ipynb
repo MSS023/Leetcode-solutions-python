{
 "cells": [
  {
   "cell_type": "code",
   "execution_count": 1,
   "metadata": {},
   "outputs": [],
   "source": [
    "from typing import *"
   ]
  },
  {
   "cell_type": "code",
   "execution_count": 31,
   "metadata": {},
   "outputs": [],
   "source": [
    "class Solution:\n",
    "    def findWords(self, board: List[List[str]], words: List[str]) -> List[str]:\n",
    "        def doesWordExist(board, word, r, c, pos):\n",
    "            if board[r][c] != word[pos]:\n",
    "                return False\n",
    "            if pos == len(word)-1:\n",
    "                return True\n",
    "            last = board[r][c]\n",
    "            board[r][c] = False\n",
    "            n, m = len(board), len(board[0])\n",
    "            if r > 0 and board[r-1][c] and doesWordExist(board,word,r-1,c,pos+1):\n",
    "                board[r][c] = last\n",
    "                return True\n",
    "            if c > 0 and board[r][c-1] and doesWordExist(board,word,r,c-1,pos+1):\n",
    "                board[r][c] = last\n",
    "                return True\n",
    "            if r < n-1 and board[r+1][c] and doesWordExist(board,word,r+1,c,pos+1):\n",
    "                board[r][c] = last\n",
    "                return True\n",
    "            if c < m-1 and board[r][c+1] and doesWordExist(board,word,r,c+1,pos+1):\n",
    "                board[r][c] = last\n",
    "                return True\n",
    "            board[r][c] = last\n",
    "            return False\n",
    "\n",
    "        n, m = len(board), len(board[0])\n",
    "        res = []\n",
    "        for r in range(n):\n",
    "            for c in range(m):\n",
    "                for word in words.copy():\n",
    "                    if word[0] == board[r][c] and doesWordExist(board,word,r,c,0):\n",
    "                        res.append(word)\n",
    "                        words.remove(word)\n",
    "                        continue\n",
    "\n",
    "        return res"
   ]
  },
  {
   "cell_type": "code",
   "execution_count": 32,
   "metadata": {},
   "outputs": [
    {
     "data": {
      "text/plain": [
       "['oath', 'eat', 'hklf', 'hf']"
      ]
     },
     "execution_count": 32,
     "metadata": {},
     "output_type": "execute_result"
    }
   ],
   "source": [
    "Solution().findWords(board =[[\"o\",\"a\",\"a\",\"n\"],[\"e\",\"t\",\"a\",\"e\"],[\"i\",\"h\",\"k\",\"r\"],[\"i\",\"f\",\"l\",\"v\"]], words =[\"oath\",\"pea\",\"eat\",\"rain\",\"hklf\", \"hf\"])"
   ]
  }
 ],
 "metadata": {
  "kernelspec": {
   "display_name": "Python 3",
   "language": "python",
   "name": "python3"
  },
  "language_info": {
   "codemirror_mode": {
    "name": "ipython",
    "version": 3
   },
   "file_extension": ".py",
   "mimetype": "text/x-python",
   "name": "python",
   "nbconvert_exporter": "python",
   "pygments_lexer": "ipython3",
   "version": "3.11.5"
  },
  "orig_nbformat": 4
 },
 "nbformat": 4,
 "nbformat_minor": 2
}
