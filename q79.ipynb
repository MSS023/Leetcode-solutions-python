{
 "cells": [
  {
   "cell_type": "code",
   "execution_count": 1,
   "metadata": {},
   "outputs": [],
   "source": [
    "from typing import *\n",
    "\n",
    "class Solution:\n",
    "    def exist(self, board: List[List[str]], word: str) -> bool:\n",
    "        memo={}\n",
    "        def recursive(row, col, idx, stack = []):\n",
    "            if(row,col,idx) in memo:\n",
    "                return memo[(row,col,idx)]\n",
    "            if idx == len(word):\n",
    "                return True\n",
    "            ch = word[idx]\n",
    "            stack.append((row,col))\n",
    "            if row > 0 and (row-1,col) not in stack and board[row-1][col] == ch and recursive(row-1,col,idx+1,stack):\n",
    "                return True\n",
    "            if row < len(board)-1 and (row+1,col) not in stack and board[row+1][col] == ch and recursive(row+1,col,idx+1,stack):\n",
    "                return True\n",
    "            if col > 0 and (row,col-1) not in stack and board[row][col-1] == ch and recursive(row,col-1,idx+1,stack):\n",
    "                return True\n",
    "            if col < len(board[0])-1 and (row,col+1) not in stack and board[row][col+1] == ch and recursive(row,col+1,idx+1,stack):\n",
    "                return True\n",
    "            stack.pop()\n",
    "            return False\n",
    "        for i in range(len(board)):\n",
    "            for j in range(len(board[i])):\n",
    "                if board[i][j] == word[0] and recursive(i,j,1,[(i,j)]):\n",
    "                    return True\n",
    "        return False"
   ]
  },
  {
   "cell_type": "code",
   "execution_count": 2,
   "metadata": {},
   "outputs": [
    {
     "data": {
      "text/plain": [
       "False"
      ]
     },
     "execution_count": 2,
     "metadata": {},
     "output_type": "execute_result"
    }
   ],
   "source": [
    "Solution().exist([[\"A\",\"B\",\"C\",\"E\"],[\"S\",\"F\",\"C\",\"S\"],[\"A\",\"D\",\"E\",\"E\"]], word = \"ABCB\")"
   ]
  }
 ],
 "metadata": {
  "kernelspec": {
   "display_name": "Python 3.10.6 64-bit",
   "language": "python",
   "name": "python3"
  },
  "language_info": {
   "codemirror_mode": {
    "name": "ipython",
    "version": 3
   },
   "file_extension": ".py",
   "mimetype": "text/x-python",
   "name": "python",
   "nbconvert_exporter": "python",
   "pygments_lexer": "ipython3",
   "version": "3.10.6"
  },
  "orig_nbformat": 4,
  "vscode": {
   "interpreter": {
    "hash": "f15627b29e15848638e903c52dd09ae6c4c9adb1719aae45dda3850ec7954c19"
   }
  }
 },
 "nbformat": 4,
 "nbformat_minor": 2
}
