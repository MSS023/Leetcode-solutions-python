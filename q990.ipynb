{
 "cells": [
  {
   "cell_type": "code",
   "execution_count": 18,
   "metadata": {},
   "outputs": [],
   "source": [
    "class Solution:\n",
    "    def equationsPossible(self, equations: List[str]) -> bool:\n",
    "        parent, diff = {}, []\n",
    "\n",
    "        def find(x):\n",
    "            if x not in parent: return x\n",
    "            else: return find(parent[x])\n",
    "\n",
    "        for s in equations:                 # <-- 1)\n",
    "            a, b = s[0], s[3]\n",
    "\n",
    "            if s[1]== \"=\":                  # <-- 2)\n",
    "                x, y = find(a), find(b)\n",
    "                if x!=y:\n",
    "                    parent[y] = x\n",
    "            else:    \n",
    "                diff.append((a,b))          # <-- 3)\n",
    "\n",
    "        return all(find(a)!=find(b) for a, b in diff)"
   ]
  },
  {
   "cell_type": "code",
   "execution_count": 19,
   "metadata": {},
   "outputs": [
    {
     "data": {
      "text/plain": [
       "True"
      ]
     },
     "execution_count": 19,
     "metadata": {},
     "output_type": "execute_result"
    }
   ],
   "source": [
    "Solution().equationsPossible([\"b==b\",\"b==e\",\"e==c\",\"d!=e\"])"
   ]
  }
 ],
 "metadata": {
  "kernelspec": {
   "display_name": "Python 3.10.6 64-bit",
   "language": "python",
   "name": "python3"
  },
  "language_info": {
   "codemirror_mode": {
    "name": "ipython",
    "version": 3
   },
   "file_extension": ".py",
   "mimetype": "text/x-python",
   "name": "python",
   "nbconvert_exporter": "python",
   "pygments_lexer": "ipython3",
   "version": "3.10.6"
  },
  "orig_nbformat": 4,
  "vscode": {
   "interpreter": {
    "hash": "f15627b29e15848638e903c52dd09ae6c4c9adb1719aae45dda3850ec7954c19"
   }
  }
 },
 "nbformat": 4,
 "nbformat_minor": 2
}
