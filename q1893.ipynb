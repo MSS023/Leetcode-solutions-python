{
 "cells": [
  {
   "cell_type": "code",
   "execution_count": null,
   "metadata": {},
   "outputs": [],
   "source": [
    "class Solution:\n",
    "    def isCovered(self, ranges: List[List[int]], left: int, right: int) -> bool:\n",
    "        ranges.sort(key=lambda x: x[0])\n",
    "        last=left\n",
    "        for i in ranges:\n",
    "            if i[0]<=last:\n",
    "                if i[1]>=last:\n",
    "                    if i[1]>=right:\n",
    "                        last=right\n",
    "                        return True\n",
    "                    last=i[1]+1\n",
    "                else:\n",
    "                    continue\n",
    "            else:\n",
    "                return False\n",
    "        return False"
   ]
  }
 ],
 "metadata": {
  "language_info": {
   "name": "python"
  },
  "orig_nbformat": 4
 },
 "nbformat": 4,
 "nbformat_minor": 2
}
