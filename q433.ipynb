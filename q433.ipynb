{
 "cells": [
  {
   "cell_type": "code",
   "execution_count": null,
   "metadata": {},
   "outputs": [],
   "source": [
    "class Solution:\n",
    "    def minMutation(self, startGene: str, endGene: str, bank: List[str]) -> int:\n",
    "        if endGene not in bank:\n",
    "            return -1\n",
    "        def checkIfDifference1(gene1,gene2):\n",
    "            count = 0\n",
    "            for i,j in zip(gene1,gene2):\n",
    "                if i != j:\n",
    "                    count += 1\n",
    "                if count > 1:\n",
    "                    return False\n",
    "            if count == 0:\n",
    "                return False\n",
    "            return True\n",
    "        \n",
    "        queue = [(startGene,0)]\n",
    "        passed = set()\n",
    "        while queue:\n",
    "            gene, count = queue.pop(0)\n",
    "            passed.add(gene)\n",
    "            if checkIfDifference1(gene,endGene):\n",
    "                return count+1\n",
    "            for i in bank:\n",
    "                if i in passed:\n",
    "                    continue\n",
    "                if checkIfDifference1(gene,i):\n",
    "                    queue.append((i,count+1))\n",
    "        return -1"
   ]
  }
 ],
 "metadata": {
  "language_info": {
   "name": "python"
  },
  "orig_nbformat": 4
 },
 "nbformat": 4,
 "nbformat_minor": 2
}
