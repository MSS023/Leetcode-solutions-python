{
 "cells": [
  {
   "cell_type": "code",
   "execution_count": 1,
   "metadata": {},
   "outputs": [],
   "source": [
    "# Definition for a binary tree node.\n",
    "class TreeNode:\n",
    "    def __init__(self, val=0, left=None, right=None):\n",
    "        self.val = val\n",
    "        self.left = left\n",
    "        self.right = right"
   ]
  },
  {
   "cell_type": "code",
   "execution_count": 3,
   "metadata": {},
   "outputs": [],
   "source": [
    "class Solution:\n",
    "    def flatten(self, root: TreeNode) -> None:\n",
    "        if root is None:\n",
    "            return None\n",
    "        def preOrder(node: TreeNode,arr: list[TreeNode]) -> list[TreeNode]:\n",
    "            if node is None:\n",
    "                return arr\n",
    "            arr.append(node)\n",
    "            arr = preOrder(node.left,arr)\n",
    "            arr = preOrder(node.right,arr)\n",
    "            return arr\n",
    "        preOrderList = preOrder(root,[])\n",
    "        preOrderList[0].left = None\n",
    "        preOrderList[0].right = None\n",
    "        for i in range(1,len(preOrderList)):\n",
    "            prev = preOrderList[i-1]\n",
    "            next = preOrderList[i]\n",
    "            prev.right = next\n",
    "            next.left = None\n",
    "            next.right = None\n",
    "        return root"
   ]
  }
 ],
 "metadata": {
  "kernelspec": {
   "display_name": "Python 3.10.5 64-bit",
   "language": "python",
   "name": "python3"
  },
  "language_info": {
   "codemirror_mode": {
    "name": "ipython",
    "version": 3
   },
   "file_extension": ".py",
   "mimetype": "text/x-python",
   "name": "python",
   "nbconvert_exporter": "python",
   "pygments_lexer": "ipython3",
   "version": "3.10.5"
  },
  "orig_nbformat": 4,
  "vscode": {
   "interpreter": {
    "hash": "f15627b29e15848638e903c52dd09ae6c4c9adb1719aae45dda3850ec7954c19"
   }
  }
 },
 "nbformat": 4,
 "nbformat_minor": 2
}
