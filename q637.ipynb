{
 "cells": [
  {
   "cell_type": "code",
   "execution_count": 1,
   "metadata": {},
   "outputs": [],
   "source": [
    "# Definition for a binary tree node.\n",
    "class TreeNode:\n",
    "    def __init__(self, val=0, left=None, right=None):\n",
    "        self.val = val\n",
    "        self.left = left\n",
    "        self.right = right"
   ]
  },
  {
   "cell_type": "code",
   "execution_count": 2,
   "metadata": {},
   "outputs": [],
   "source": [
    "from typing import *\n",
    "\n",
    "class Solution:\n",
    "    def averageOfLevels(self, root: Optional[TreeNode]) -> List[float]:\n",
    "        queue = [(root,0)]\n",
    "        sum = 0\n",
    "        prev = 0\n",
    "        res = []\n",
    "        count = 0\n",
    "        while queue:\n",
    "            node, level = queue.pop(0)\n",
    "            if level == prev:\n",
    "                sum += node.val\n",
    "                count += 1\n",
    "            else:\n",
    "                res.append(sum/count)\n",
    "                sum = node.val\n",
    "                count = 1\n",
    "                prev = level\n",
    "            if node.left is not None:\n",
    "                queue.append((node.left, level + 1))\n",
    "            if node.right is not None:\n",
    "                queue.append((node.right, level + 1))\n",
    "        res.append(sum/count)\n",
    "        return res"
   ]
  }
 ],
 "metadata": {
  "kernelspec": {
   "display_name": "Python 3.10.6 64-bit",
   "language": "python",
   "name": "python3"
  },
  "language_info": {
   "codemirror_mode": {
    "name": "ipython",
    "version": 3
   },
   "file_extension": ".py",
   "mimetype": "text/x-python",
   "name": "python",
   "nbconvert_exporter": "python",
   "pygments_lexer": "ipython3",
   "version": "3.10.6"
  },
  "orig_nbformat": 4,
  "vscode": {
   "interpreter": {
    "hash": "f15627b29e15848638e903c52dd09ae6c4c9adb1719aae45dda3850ec7954c19"
   }
  }
 },
 "nbformat": 4,
 "nbformat_minor": 2
}
