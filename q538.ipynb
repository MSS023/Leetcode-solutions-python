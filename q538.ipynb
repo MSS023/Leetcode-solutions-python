{
 "cells": [
  {
   "cell_type": "code",
   "execution_count": null,
   "metadata": {},
   "outputs": [],
   "source": [
    "# Definition for a binary tree node.\n",
    "# class TreeNode:\n",
    "#     def __init__(self, val=0, left=None, right=None):\n",
    "#         self.val = val\n",
    "#         self.left = left\n",
    "#         self.right = right\n",
    "class Solution:\n",
    "    def convertBST(self, root: Optional[TreeNode]) -> Optional[TreeNode]:\n",
    "        if not root:\n",
    "            return None\n",
    "        \n",
    "        def inorderTraversal(root,num):\n",
    "            if root.right:\n",
    "                num=inorderTraversal(root.right,num)\n",
    "            root.val=num+root.val\n",
    "            num=root.val\n",
    "            if root.left:\n",
    "                num=inorderTraversal(root.left,num)\n",
    "            return num\n",
    "        \n",
    "        num=inorderTraversal(root,0)\n",
    "        return root"
   ]
  }
 ],
 "metadata": {
  "language_info": {
   "name": "python"
  },
  "orig_nbformat": 4
 },
 "nbformat": 4,
 "nbformat_minor": 2
}
