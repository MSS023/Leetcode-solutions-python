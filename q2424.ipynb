{
 "cells": [
  {
   "cell_type": "code",
   "execution_count": null,
   "metadata": {},
   "outputs": [],
   "source": [
    "class LUPrefix:\n",
    "\n",
    "    def __init__(self, n: int):\n",
    "        self.prefixes = [False for i in range(n+1)]\n",
    "        self.prefixes[0] = True\n",
    "        self.n = n\n",
    "        self.l = 0\n",
    "        \n",
    "\n",
    "    def upload(self, video: int) -> None:\n",
    "        self.prefixes[video] = True\n",
    "        for i in range(self.l+1,self.n+1):\n",
    "            if not self.prefixes[i]:\n",
    "                break\n",
    "            self.l = i\n",
    "\n",
    "        \n",
    "\n",
    "    def longest(self) -> int:\n",
    "        return self.l\n",
    "\n",
    "\n",
    "# Your LUPrefix object will be instantiated and called as such:\n",
    "# obj = LUPrefix(n)\n",
    "# obj.upload(video)\n",
    "# param_2 = obj.longest()"
   ]
  }
 ],
 "metadata": {
  "language_info": {
   "name": "python"
  },
  "orig_nbformat": 4
 },
 "nbformat": 4,
 "nbformat_minor": 2
}
