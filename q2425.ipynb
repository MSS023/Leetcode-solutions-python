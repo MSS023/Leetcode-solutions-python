{
 "cells": [
  {
   "cell_type": "code",
   "execution_count": 1,
   "metadata": {},
   "outputs": [],
   "source": [
    "from typing import *\n",
    "\n",
    "class Solution:\n",
    "    def xorAllNums(self, nums1: List[int], nums2: List[int]) -> int:\n",
    "        n1 = len(nums1)\n",
    "        n2 = len(nums2)\n",
    "        if n1%2 == 0 and n2%2 == 0:\n",
    "            return 0\n",
    "        if n1%2 == 1 and n2%2 == 1:\n",
    "            ans = 0\n",
    "            for i in nums1:\n",
    "                ans ^= i\n",
    "            for i in nums2:\n",
    "                ans ^= i\n",
    "            return ans\n",
    "        if n1%2 == 0:\n",
    "            ans = 0\n",
    "            for i in nums1:\n",
    "                ans ^= i\n",
    "            return ans\n",
    "        ans = 0\n",
    "        for i in nums2:\n",
    "            ans ^= i\n",
    "        return ans"
   ]
  },
  {
   "cell_type": "code",
   "execution_count": 1,
   "metadata": {},
   "outputs": [],
   "source": [
    "from typing import *\n",
    "\n",
    "\n",
    "class Solution:\n",
    "    def xorAllNums(self, nums1: List[int], nums2: List[int]) -> int:\n",
    "        result = 0\n",
    "\n",
    "        n, m = len(nums1), len(nums2)\n",
    "\n",
    "        if n % 2 == 1:\n",
    "            for idx in range(len(nums2)):\n",
    "                result ^= nums2[idx]\n",
    "\n",
    "        if m % 2 == 1:\n",
    "            for idx in range(len(nums1)):\n",
    "                result ^= nums1[idx]\n",
    "\n",
    "        return result"
   ]
  }
 ],
 "metadata": {
  "kernelspec": {
   "display_name": "Python 3",
   "language": "python",
   "name": "python3"
  },
  "language_info": {
   "codemirror_mode": {
    "name": "ipython",
    "version": 3
   },
   "file_extension": ".py",
   "mimetype": "text/x-python",
   "name": "python",
   "nbconvert_exporter": "python",
   "pygments_lexer": "ipython3",
   "version": "3.13.1"
  },
  "orig_nbformat": 4
 },
 "nbformat": 4,
 "nbformat_minor": 2
}
