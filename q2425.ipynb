{
 "cells": [
  {
   "cell_type": "code",
   "execution_count": 1,
   "metadata": {},
   "outputs": [],
   "source": [
    "from typing import *\n",
    "\n",
    "class Solution:\n",
    "    def xorAllNums(self, nums1: List[int], nums2: List[int]) -> int:\n",
    "        n1 = len(nums1)\n",
    "        n2 = len(nums2)\n",
    "        if n1%2 == 0 and n2%2 == 0:\n",
    "            return 0\n",
    "        if n1%2 == 1 and n2%2 == 1:\n",
    "            ans = 0\n",
    "            for i in nums1:\n",
    "                ans ^= i\n",
    "            for i in nums2:\n",
    "                ans ^= i\n",
    "            return ans\n",
    "        if n1%2 == 0:\n",
    "            ans = 0\n",
    "            for i in nums1:\n",
    "                ans ^= i\n",
    "            return ans\n",
    "        ans = 0\n",
    "        for i in nums2:\n",
    "            ans ^= i\n",
    "        return ans"
   ]
  }
 ],
 "metadata": {
  "kernelspec": {
   "display_name": "Python 3.10.6 64-bit",
   "language": "python",
   "name": "python3"
  },
  "language_info": {
   "codemirror_mode": {
    "name": "ipython",
    "version": 3
   },
   "file_extension": ".py",
   "mimetype": "text/x-python",
   "name": "python",
   "nbconvert_exporter": "python",
   "pygments_lexer": "ipython3",
   "version": "3.10.6"
  },
  "orig_nbformat": 4,
  "vscode": {
   "interpreter": {
    "hash": "f15627b29e15848638e903c52dd09ae6c4c9adb1719aae45dda3850ec7954c19"
   }
  }
 },
 "nbformat": 4,
 "nbformat_minor": 2
}
