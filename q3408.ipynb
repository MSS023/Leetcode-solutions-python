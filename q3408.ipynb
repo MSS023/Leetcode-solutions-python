{
 "cells": [
  {
   "cell_type": "code",
   "execution_count": 2,
   "id": "3a18c2c2",
   "metadata": {},
   "outputs": [],
   "source": [
    "from typing import *\n",
    "import bisect"
   ]
  },
  {
   "cell_type": "code",
   "execution_count": 11,
   "id": "a596cabc",
   "metadata": {},
   "outputs": [],
   "source": [
    "class TaskManager:\n",
    "\n",
    "    def __init__(self, tasks: List[List[int]]):\n",
    "        self.tu = {}\n",
    "        self.ut = {}\n",
    "        self.p = []\n",
    "        for u,t,p in tasks:\n",
    "            self.add(u,t,p)\n",
    "\n",
    "    def add(self, userId: int, taskId: int, priority: int) -> None:\n",
    "        self.tu[taskId] = (priority,userId)\n",
    "        if userId not in self.ut:\n",
    "            self.ut[userId] = []\n",
    "        bisect.insort(self.ut[userId], (priority,taskId))\n",
    "        bisect.insort(self.p, (priority,taskId,userId))\n",
    "\n",
    "    def edit(self, taskId: int, newPriority: int) -> None:\n",
    "        p,u = self.tu[taskId]\n",
    "        self.p.pop(bisect.bisect_left(self.p,(p,taskId,u)))\n",
    "        self.ut[u].pop(bisect.bisect_left(self.ut[u], (p,taskId)))\n",
    "        self.tu[taskId] = (newPriority, u)\n",
    "        bisect.insort(self.p, (newPriority, taskId, u))\n",
    "        bisect.insort(self.ut[u], (newPriority, taskId))\n",
    "\n",
    "    def rmv(self, taskId: int) -> None:\n",
    "        p,u = self.tu[taskId]\n",
    "        self.p.pop(bisect.bisect_left(self.p,(p,taskId,u)))\n",
    "        self.ut[u].pop(bisect.bisect_left(self.ut[u], (p,taskId)))\n",
    "        del self.tu[taskId]\n",
    "\n",
    "    def execTop(self) -> int:\n",
    "        if not self.p:\n",
    "            return -1\n",
    "        p,t,u = self.p[-1]\n",
    "        self.rmv(t)\n",
    "        return u\n",
    "\n",
    "\n",
    "# Your TaskManager object will be instantiated and called as such:\n",
    "# obj = TaskManager(tasks)\n",
    "# obj.add(userId,taskId,priority)\n",
    "# obj.edit(taskId,newPriority)\n",
    "# obj.rmv(taskId)\n",
    "# param_4 = obj.execTop()"
   ]
  },
  {
   "cell_type": "code",
   "execution_count": 12,
   "id": "7c79c785",
   "metadata": {},
   "outputs": [
    {
     "name": "stdout",
     "output_type": "stream",
     "text": [
      "3\n",
      "5\n"
     ]
    }
   ],
   "source": [
    "obj = TaskManager(*[[[1,101,10],[2,102,20],[3,103,15]]])\n",
    "obj.add(*[4,104,5])\n",
    "obj.edit(*[102,8])\n",
    "print(obj.execTop(*[]))\n",
    "obj.rmv(*[101])\n",
    "obj.add(*[5,105,15])\n",
    "print(obj.execTop(*[]))"
   ]
  }
 ],
 "metadata": {
  "kernelspec": {
   "display_name": "Python 3",
   "language": "python",
   "name": "python3"
  },
  "language_info": {
   "codemirror_mode": {
    "name": "ipython",
    "version": 3
   },
   "file_extension": ".py",
   "mimetype": "text/x-python",
   "name": "python",
   "nbconvert_exporter": "python",
   "pygments_lexer": "ipython3",
   "version": "3.10.11"
  }
 },
 "nbformat": 4,
 "nbformat_minor": 5
}
