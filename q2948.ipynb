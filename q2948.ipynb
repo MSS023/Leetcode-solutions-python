{
 "cells": [
  {
   "cell_type": "code",
   "execution_count": 1,
   "metadata": {},
   "outputs": [],
   "source": [
    "from typing import *"
   ]
  },
  {
   "cell_type": "code",
   "execution_count": 4,
   "metadata": {},
   "outputs": [],
   "source": [
    "class Solution:\n",
    "    def lexicographicallySmallestArray(self, nums: List[int], limit: int) -> List[int]:\n",
    "        numsIdx = [[idx, num] for (idx,num) in enumerate(nums)]\n",
    "\n",
    "        numsIdx.sort(key=lambda x: x[1])\n",
    "\n",
    "        groups = []\n",
    "        group = [numsIdx.pop(0)]\n",
    "        for idx, num in numsIdx:\n",
    "            if num-group[-1][1] <= limit:\n",
    "                group.append([idx, num])\n",
    "            else:\n",
    "                groups.append((group))\n",
    "                group = [[idx, num]]\n",
    "        groups.append(group)\n",
    "\n",
    "        newNums = [None]*len(nums)\n",
    "        for group in groups:\n",
    "            idxs = sorted(map(lambda x: x[0], group))\n",
    "\n",
    "            for i, idx in enumerate(idxs):\n",
    "                newNums[idx] = group[i][1]\n",
    "\n",
    "        return newNums"
   ]
  },
  {
   "cell_type": "code",
   "execution_count": 5,
   "metadata": {},
   "outputs": [
    {
     "name": "stdout",
     "output_type": "stream",
     "text": [
      "[1, 3, 5, 8, 9]\n",
      "[1, 6, 7, 18, 1, 2]\n",
      "[1, 7, 28, 19, 10]\n"
     ]
    }
   ],
   "source": [
    "print(Solution().lexicographicallySmallestArray(nums = [1, 5,3,9,8], limit = 2))\n",
    "print(Solution().lexicographicallySmallestArray(nums = [1, 7,6,18,2,1], limit = 3))\n",
    "print(Solution().lexicographicallySmallestArray(nums = [1, 7,28,19,10], limit = 3))"
   ]
  }
 ],
 "metadata": {
  "kernelspec": {
   "display_name": "Python 3",
   "language": "python",
   "name": "python3"
  },
  "language_info": {
   "codemirror_mode": {
    "name": "ipython",
    "version": 3
   },
   "file_extension": ".py",
   "mimetype": "text/x-python",
   "name": "python",
   "nbconvert_exporter": "python",
   "pygments_lexer": "ipython3",
   "version": "3.13.1"
  }
 },
 "nbformat": 4,
 "nbformat_minor": 2
}
