{
 "cells": [
  {
   "cell_type": "code",
   "execution_count": 3,
   "metadata": {},
   "outputs": [],
   "source": [
    "from collections import Counter\n",
    "\n",
    "class Solution:\n",
    "    def bestHand(self, ranks: list[int], suits: list[str]) -> str:\n",
    "        count1 = Counter(ranks)\n",
    "        count2 = Counter(suits)\n",
    "        if list(count2.values())[0] == 5:\n",
    "            return \"Flush\"\n",
    "        maxm = max(count1.values())\n",
    "        if 3 <= maxm:\n",
    "            return \"Three of a Kind\"\n",
    "        if 2 == maxm:\n",
    "            return \"Pair\"\n",
    "        return \"High Card\""
   ]
  },
  {
   "cell_type": "code",
   "execution_count": 4,
   "metadata": {},
   "outputs": [
    {
     "data": {
      "text/plain": [
       "'Flush'"
      ]
     },
     "execution_count": 4,
     "metadata": {},
     "output_type": "execute_result"
    }
   ],
   "source": [
    "Solution().bestHand([13,12,3,1,9],[\"a\",\"a\",\"a\",\"a\",\"a\"])"
   ]
  }
 ],
 "metadata": {
  "kernelspec": {
   "display_name": "Python 3.10.5 64-bit",
   "language": "python",
   "name": "python3"
  },
  "language_info": {
   "codemirror_mode": {
    "name": "ipython",
    "version": 3
   },
   "file_extension": ".py",
   "mimetype": "text/x-python",
   "name": "python",
   "nbconvert_exporter": "python",
   "pygments_lexer": "ipython3",
   "version": "3.10.5"
  },
  "orig_nbformat": 4,
  "vscode": {
   "interpreter": {
    "hash": "f15627b29e15848638e903c52dd09ae6c4c9adb1719aae45dda3850ec7954c19"
   }
  }
 },
 "nbformat": 4,
 "nbformat_minor": 2
}
