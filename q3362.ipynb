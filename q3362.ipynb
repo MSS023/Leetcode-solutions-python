{
 "cells": [
  {
   "cell_type": "code",
   "execution_count": 12,
   "id": "f805aef0",
   "metadata": {},
   "outputs": [],
   "source": [
    "from typing import *\n",
    "import heapq"
   ]
  },
  {
   "cell_type": "code",
   "execution_count": 13,
   "id": "ba273cef",
   "metadata": {},
   "outputs": [],
   "source": [
    "class Solution(object):\n",
    "    def maxRemoval(self, nums, queries):\n",
    "        queries.sort(key=lambda x: x[0])\n",
    "        available = []\n",
    "        assigned = []\n",
    "        count = 0\n",
    "        k = 0\n",
    "        for time in range(len(nums)):\n",
    "            while assigned and assigned[0] < time:\n",
    "                heapq.heappop(assigned)\n",
    "            while k < len(queries) and queries[k][0] <= time:\n",
    "                heapq.heappush(available, -queries[k][1])\n",
    "                k += 1\n",
    "            while len(assigned) < nums[time] and available and -available[0] >= time:\n",
    "                heapq.heappush(assigned, -heapq.heappop(available))\n",
    "                count += 1\n",
    "            if len(assigned) < nums[time]:\n",
    "                return -1\n",
    "        return len(queries) - count"
   ]
  },
  {
   "cell_type": "code",
   "execution_count": 14,
   "id": "46f4756c",
   "metadata": {},
   "outputs": [
    {
     "name": "stdout",
     "output_type": "stream",
     "text": [
      "1\n",
      "2\n",
      "-1\n"
     ]
    }
   ],
   "source": [
    "print(Solution().maxRemoval([2,0,2],[[0,2],[0,2],[1,1]]))\n",
    "print(Solution().maxRemoval([1,1,1,1],[[1,3],[0,2],[1,3],[1,2]]))\n",
    "print(Solution().maxRemoval([1,2,3,4],[[0,3]]))"
   ]
  }
 ],
 "metadata": {
  "kernelspec": {
   "display_name": "Python 3",
   "language": "python",
   "name": "python3"
  },
  "language_info": {
   "codemirror_mode": {
    "name": "ipython",
    "version": 3
   },
   "file_extension": ".py",
   "mimetype": "text/x-python",
   "name": "python",
   "nbconvert_exporter": "python",
   "pygments_lexer": "ipython3",
   "version": "3.10.11"
  }
 },
 "nbformat": 4,
 "nbformat_minor": 5
}
