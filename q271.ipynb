{
 "cells": [
  {
   "cell_type": "code",
   "execution_count": 2,
   "id": "c16cea8d",
   "metadata": {},
   "outputs": [],
   "source": [
    "from typing import *"
   ]
  },
  {
   "cell_type": "code",
   "execution_count": 17,
   "id": "5099042b",
   "metadata": {},
   "outputs": [],
   "source": [
    "class Solution:\n",
    "    def __init__(self):\n",
    "        self.breaksMap: Dict[str, List[int]] = {}\n",
    "\n",
    "    def encode(self, strs: List[str]) -> str:\n",
    "        breaks = []\n",
    "        su = 0\n",
    "        for s in strs:\n",
    "            breaks.append(su+len(s))\n",
    "            su += len(s)\n",
    "        joined = \"\".join(strs)\n",
    "        self.breaksMap[joined] = breaks\n",
    "        return joined\n",
    "\n",
    "    def decode(self, s: str) -> List[str]:\n",
    "        if s not in self.breaksMap:\n",
    "            return [s]\n",
    "        \n",
    "        breaks = self.breaksMap[s]\n",
    "        result = []\n",
    "        for idx, b in enumerate(breaks):\n",
    "            if idx == 0:\n",
    "                result.append(s[0:b])\n",
    "                continue\n",
    "            result.append(s[breaks[idx-1]:b])\n",
    "        return result"
   ]
  },
  {
   "cell_type": "code",
   "execution_count": 18,
   "id": "203a4cb5",
   "metadata": {},
   "outputs": [
    {
     "name": "stdout",
     "output_type": "stream",
     "text": [
      "['neet', 'code', 'love', 'you']\n"
     ]
    }
   ],
   "source": [
    "obj = Solution()\n",
    "print(obj.decode(obj.encode([\"neet\",\"code\",\"love\",\"you\"])))"
   ]
  }
 ],
 "metadata": {
  "kernelspec": {
   "display_name": "Python 3",
   "language": "python",
   "name": "python3"
  },
  "language_info": {
   "codemirror_mode": {
    "name": "ipython",
    "version": 3
   },
   "file_extension": ".py",
   "mimetype": "text/x-python",
   "name": "python",
   "nbconvert_exporter": "python",
   "pygments_lexer": "ipython3",
   "version": "3.10.11"
  }
 },
 "nbformat": 4,
 "nbformat_minor": 5
}
