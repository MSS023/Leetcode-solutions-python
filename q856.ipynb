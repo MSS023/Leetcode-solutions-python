{
 "cells": [
  {
   "cell_type": "code",
   "execution_count": 7,
   "metadata": {},
   "outputs": [
    {
     "data": {
      "text/plain": [
       "2"
      ]
     },
     "execution_count": 7,
     "metadata": {},
     "output_type": "execute_result"
    }
   ],
   "source": [
    "class Solution:\n",
    "    def scoreOfParentheses(self, s: str) -> int:\n",
    "        stack=[]\n",
    "        for i in s:\n",
    "            if i == \"(\":\n",
    "                stack.append(i)\n",
    "            else:\n",
    "                if stack[-1] == \"(\":\n",
    "                    stack.pop()\n",
    "                    stack.append(1)\n",
    "                else:\n",
    "                    sumf=0\n",
    "                    while stack[-1] != \"(\":\n",
    "                        sumf+=stack.pop()\n",
    "                    stack.pop()\n",
    "                    stack.append(2*sumf)\n",
    "        return sum(stack)\n",
    "    \n",
    "sol=Solution()\n",
    "sol.scoreOfParentheses(input())"
   ]
  }
 ],
 "metadata": {
  "interpreter": {
   "hash": "84c7cd761066ce45b8a789f7b09f72a3209628e136df7af6e1c369b4f2245113"
  },
  "kernelspec": {
   "display_name": "Python 3.10.2 64-bit",
   "language": "python",
   "name": "python3"
  },
  "language_info": {
   "codemirror_mode": {
    "name": "ipython",
    "version": 3
   },
   "file_extension": ".py",
   "mimetype": "text/x-python",
   "name": "python",
   "nbconvert_exporter": "python",
   "pygments_lexer": "ipython3",
   "version": "3.10.2"
  },
  "orig_nbformat": 4
 },
 "nbformat": 4,
 "nbformat_minor": 2
}
