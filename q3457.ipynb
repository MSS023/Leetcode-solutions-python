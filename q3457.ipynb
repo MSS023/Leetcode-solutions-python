{
 "cells": [
  {
   "cell_type": "code",
   "execution_count": 1,
   "metadata": {},
   "outputs": [],
   "source": [
    "from typing import *"
   ]
  },
  {
   "cell_type": "code",
   "execution_count": 2,
   "metadata": {},
   "outputs": [],
   "source": [
    "class Solution:\n",
    "    def maxWeight(self, pizzas: List[int]) -> int:\n",
    "        pizzas.sort()\n",
    "        totalDays = len(pizzas)//4\n",
    "\n",
    "        oddDays = totalDays//2\n",
    "        evenDays = totalDays - oddDays\n",
    "\n",
    "        result = 0\n",
    "        for idx in range(evenDays):\n",
    "            result += pizzas[len(pizzas)-1-idx]\n",
    "\n",
    "        for idx in range(oddDays):\n",
    "            result += pizzas[len(pizzas)-1-evenDays-idx*2-1]\n",
    "\n",
    "        return result"
   ]
  },
  {
   "cell_type": "code",
   "execution_count": 3,
   "metadata": {},
   "outputs": [
    {
     "name": "stdout",
     "output_type": "stream",
     "text": [
      "14\n"
     ]
    }
   ],
   "source": [
    "print(Solution().maxWeight([1,2,3,4,5,6,7,8]))"
   ]
  }
 ],
 "metadata": {
  "kernelspec": {
   "display_name": "Python 3",
   "language": "python",
   "name": "python3"
  },
  "language_info": {
   "codemirror_mode": {
    "name": "ipython",
    "version": 3
   },
   "file_extension": ".py",
   "mimetype": "text/x-python",
   "name": "python",
   "nbconvert_exporter": "python",
   "pygments_lexer": "ipython3",
   "version": "3.13.2"
  }
 },
 "nbformat": 4,
 "nbformat_minor": 2
}
