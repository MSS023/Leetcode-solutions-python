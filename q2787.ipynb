{
 "cells": [
  {
   "cell_type": "code",
   "execution_count": 20,
   "id": "3e1cf23f",
   "metadata": {},
   "outputs": [],
   "source": [
    "from typing import *\n",
    "from functools import cache\n",
    "import math"
   ]
  },
  {
   "cell_type": "code",
   "execution_count": 22,
   "id": "dca90b5b",
   "metadata": {},
   "outputs": [],
   "source": [
    "class Solution:\n",
    "    def __init__(self):\n",
    "        self.MOD = 7 + 10**9\n",
    "\n",
    "    @cache\n",
    "    def main(self, n: int, x: int, maxVal: int) -> int:\n",
    "        if n <= 0:\n",
    "            return 1\n",
    "        if maxVal == 0:\n",
    "            return 0\n",
    "        \n",
    "        val = maxVal**x\n",
    "        if val > n:\n",
    "            return self.main(n, x, maxVal-1)\n",
    "        return (self.main(n - val, x, maxVal-1) + self.main(n, x, maxVal-1))%self.MOD\n",
    "\n",
    "    def numberOfWays(self, n: int, x: int) -> int:\n",
    "        maxVal = math.ceil(n**(1/x))\n",
    "        return self.main(n, x, maxVal)"
   ]
  },
  {
   "cell_type": "code",
   "execution_count": 23,
   "id": "0cb80269",
   "metadata": {},
   "outputs": [
    {
     "name": "stdout",
     "output_type": "stream",
     "text": [
      "1\n",
      "1\n"
     ]
    }
   ],
   "source": [
    "# print(Solution().numberOfWays(300,5))\n",
    "print(Solution().numberOfWays(10,2))\n",
    "print(Solution().numberOfWays(64,3))"
   ]
  }
 ],
 "metadata": {
  "kernelspec": {
   "display_name": "Python 3",
   "language": "python",
   "name": "python3"
  },
  "language_info": {
   "codemirror_mode": {
    "name": "ipython",
    "version": 3
   },
   "file_extension": ".py",
   "mimetype": "text/x-python",
   "name": "python",
   "nbconvert_exporter": "python",
   "pygments_lexer": "ipython3",
   "version": "3.10.11"
  }
 },
 "nbformat": 4,
 "nbformat_minor": 5
}
