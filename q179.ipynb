{
 "cells": [
  {
   "cell_type": "code",
   "execution_count": 18,
   "metadata": {},
   "outputs": [],
   "source": [
    "class Solution:\n",
    "    def largestNumber(self, nums: list[int]) -> str:\n",
    "        nums = sorted([str(x) for x in nums],reverse=True) # sorting in reverse lexicographical order\n",
    "        for i in range(len(nums)): # normal bubble sort but the comparison is done on the basis of concatenated string\n",
    "            flag = False\n",
    "            for j in range(len(nums)-i-1):\n",
    "                if len(nums[j]) == len(nums[j+1]):\n",
    "                    continue\n",
    "                if int(nums[j]+nums[j+1]) < int(nums[j+1]+nums[j]):\n",
    "                    nums[j],nums[j+1]=nums[j+1],nums[j]\n",
    "                    flag = True\n",
    "            if not flag:\n",
    "                break\n",
    "        ans = str(int(\"\".join(nums))) # to strip out all the extra zeroes on the left\n",
    "        return ans"
   ]
  },
  {
   "cell_type": "code",
   "execution_count": 19,
   "metadata": {},
   "outputs": [
    {
     "data": {
      "text/plain": [
       "'9534330'"
      ]
     },
     "execution_count": 19,
     "metadata": {},
     "output_type": "execute_result"
    }
   ],
   "source": [
    "Solution().largestNumber([3,30,34,5,9])"
   ]
  }
 ],
 "metadata": {
  "kernelspec": {
   "display_name": "Python 3.10.5 64-bit",
   "language": "python",
   "name": "python3"
  },
  "language_info": {
   "codemirror_mode": {
    "name": "ipython",
    "version": 3
   },
   "file_extension": ".py",
   "mimetype": "text/x-python",
   "name": "python",
   "nbconvert_exporter": "python",
   "pygments_lexer": "ipython3",
   "version": "3.10.5"
  },
  "orig_nbformat": 4,
  "vscode": {
   "interpreter": {
    "hash": "f15627b29e15848638e903c52dd09ae6c4c9adb1719aae45dda3850ec7954c19"
   }
  }
 },
 "nbformat": 4,
 "nbformat_minor": 2
}
