{
 "cells": [
  {
   "cell_type": "code",
   "execution_count": 1,
   "metadata": {},
   "outputs": [],
   "source": [
    "# Definition for singly-linked list.\n",
    "class ListNode:\n",
    "    def __init__(self, val=0, next=None):\n",
    "        self.val = val\n",
    "        self.next = next"
   ]
  },
  {
   "cell_type": "code",
   "execution_count": 2,
   "metadata": {},
   "outputs": [],
   "source": [
    "from typing import *\n",
    "\n",
    "class Solution:\n",
    "    def middleNode(self, head: Optional[ListNode]) -> Optional[ListNode]:\n",
    "        if head is None:\n",
    "            return head\n",
    "        arr = []\n",
    "        while head:\n",
    "            arr.append(head)\n",
    "            head = head.next\n",
    "        return arr[len(arr)//2]"
   ]
  },
  {
   "cell_type": "markdown",
   "metadata": {},
   "source": [
    "# Second Method"
   ]
  },
  {
   "cell_type": "code",
   "execution_count": 1,
   "metadata": {},
   "outputs": [
    {
     "ename": "NameError",
     "evalue": "name 'Optional' is not defined",
     "output_type": "error",
     "traceback": [
      "\u001b[1;31m---------------------------------------------------------------------------\u001b[0m",
      "\u001b[1;31mNameError\u001b[0m                                 Traceback (most recent call last)",
      "\u001b[1;32mc:\\Users\\manan\\OneDrive\\Desktop\\Practice Projects\\Leetcode\\q876.ipynb Cell 4\u001b[0m in \u001b[0;36m<cell line: 1>\u001b[1;34m()\u001b[0m\n\u001b[1;32m----> <a href='vscode-notebook-cell:/c%3A/Users/manan/OneDrive/Desktop/Practice%20Projects/Leetcode/q876.ipynb#W3sZmlsZQ%3D%3D?line=0'>1</a>\u001b[0m \u001b[39mclass\u001b[39;00m \u001b[39mSolution\u001b[39;00m:\n\u001b[0;32m      <a href='vscode-notebook-cell:/c%3A/Users/manan/OneDrive/Desktop/Practice%20Projects/Leetcode/q876.ipynb#W3sZmlsZQ%3D%3D?line=1'>2</a>\u001b[0m     \u001b[39mdef\u001b[39;00m \u001b[39mmiddleNode\u001b[39m(\u001b[39mself\u001b[39m, head: Optional[ListNode]) \u001b[39m-\u001b[39m\u001b[39m>\u001b[39m Optional[ListNode]:\n\u001b[0;32m      <a href='vscode-notebook-cell:/c%3A/Users/manan/OneDrive/Desktop/Practice%20Projects/Leetcode/q876.ipynb#W3sZmlsZQ%3D%3D?line=2'>3</a>\u001b[0m         pointer1 \u001b[39m=\u001b[39m head\n",
      "\u001b[1;32mc:\\Users\\manan\\OneDrive\\Desktop\\Practice Projects\\Leetcode\\q876.ipynb Cell 4\u001b[0m in \u001b[0;36mSolution\u001b[1;34m()\u001b[0m\n\u001b[0;32m      <a href='vscode-notebook-cell:/c%3A/Users/manan/OneDrive/Desktop/Practice%20Projects/Leetcode/q876.ipynb#W3sZmlsZQ%3D%3D?line=0'>1</a>\u001b[0m \u001b[39mclass\u001b[39;00m \u001b[39mSolution\u001b[39;00m:\n\u001b[1;32m----> <a href='vscode-notebook-cell:/c%3A/Users/manan/OneDrive/Desktop/Practice%20Projects/Leetcode/q876.ipynb#W3sZmlsZQ%3D%3D?line=1'>2</a>\u001b[0m     \u001b[39mdef\u001b[39;00m \u001b[39mmiddleNode\u001b[39m(\u001b[39mself\u001b[39m, head: Optional[ListNode]) \u001b[39m-\u001b[39m\u001b[39m>\u001b[39m Optional[ListNode]:\n\u001b[0;32m      <a href='vscode-notebook-cell:/c%3A/Users/manan/OneDrive/Desktop/Practice%20Projects/Leetcode/q876.ipynb#W3sZmlsZQ%3D%3D?line=2'>3</a>\u001b[0m         pointer1 \u001b[39m=\u001b[39m head\n\u001b[0;32m      <a href='vscode-notebook-cell:/c%3A/Users/manan/OneDrive/Desktop/Practice%20Projects/Leetcode/q876.ipynb#W3sZmlsZQ%3D%3D?line=3'>4</a>\u001b[0m         pointer2 \u001b[39m=\u001b[39m head\n",
      "\u001b[1;31mNameError\u001b[0m: name 'Optional' is not defined"
     ]
    }
   ],
   "source": [
    "class Solution:\n",
    "    def middleNode(self, head: Optional[ListNode]) -> Optional[ListNode]:\n",
    "        pointer1 = head\n",
    "        pointer2 = head\n",
    "        while pointer2 and pointer2.next:\n",
    "            pointer1 = pointer1.next\n",
    "            pointer2 = pointer2.next.next\n",
    "        return pointer1"
   ]
  }
 ],
 "metadata": {
  "kernelspec": {
   "display_name": "Python 3.10.6 64-bit",
   "language": "python",
   "name": "python3"
  },
  "language_info": {
   "codemirror_mode": {
    "name": "ipython",
    "version": 3
   },
   "file_extension": ".py",
   "mimetype": "text/x-python",
   "name": "python",
   "nbconvert_exporter": "python",
   "pygments_lexer": "ipython3",
   "version": "3.10.6"
  },
  "orig_nbformat": 4,
  "vscode": {
   "interpreter": {
    "hash": "f15627b29e15848638e903c52dd09ae6c4c9adb1719aae45dda3850ec7954c19"
   }
  }
 },
 "nbformat": 4,
 "nbformat_minor": 2
}
