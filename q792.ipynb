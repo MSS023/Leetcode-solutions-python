{
 "cells": [
  {
   "cell_type": "markdown",
   "metadata": {},
   "source": [
    "# TLE"
   ]
  },
  {
   "cell_type": "code",
   "execution_count": 28,
   "metadata": {},
   "outputs": [],
   "source": [
    "class Solution:\n",
    "    def numMatchingSubseq(self, s: str, words: list[str]) -> int:\n",
    "        wordList = [[0,word] for word in words]\n",
    "        count = 0\n",
    "        for ch in s:\n",
    "            rem = []\n",
    "            for index,[pos,word] in enumerate(wordList):\n",
    "                if word[pos] != ch:\n",
    "                    continue\n",
    "                pos += 1\n",
    "                if pos == len(word):\n",
    "                    rem.append(index)\n",
    "                wordList[index] = [pos,word]\n",
    "            for i in rem[::-1]:\n",
    "                wordList.pop(i)\n",
    "                count += 1\n",
    "        return count\n"
   ]
  },
  {
   "cell_type": "code",
   "execution_count": 30,
   "metadata": {},
   "outputs": [],
   "source": [
    "class Solution:\n",
    "    def numMatchingSubseq(self, s: str, words: list[str]) -> int:\n",
    "        wordList = {}\n",
    "        wordsIdx = [0 for i in words]\n",
    "        for i,word in enumerate(words):\n",
    "            if word[0] in wordList:\n",
    "                wordList[word[0]].append(i)\n",
    "                continue\n",
    "            wordList[word[0]] = [i]\n",
    "        count = 0\n",
    "        for ch in s:\n",
    "            if ch not in wordList:\n",
    "                continue\n",
    "            temp = wordList.pop(ch)\n",
    "            for i in temp:\n",
    "                wordsIdx[i] += 1\n",
    "                if wordsIdx[i] == len(words[i]):\n",
    "                    count += 1\n",
    "                    continue\n",
    "                new = wordsIdx[i]\n",
    "                if words[i][new] in wordList:\n",
    "                    wordList[words[i][new]].append(i)\n",
    "                    continue\n",
    "                wordList[words[i][new]] = [i]\n",
    "        return count\n"
   ]
  },
  {
   "cell_type": "code",
   "execution_count": 31,
   "metadata": {},
   "outputs": [
    {
     "data": {
      "text/plain": [
       "2"
      ]
     },
     "execution_count": 31,
     "metadata": {},
     "output_type": "execute_result"
    }
   ],
   "source": [
    "Solution().numMatchingSubseq(\"dsahjpjauf\",\n",
    "[\"ahjpjau\",\"ja\",\"ahbwzgqnuk\",\"tnmlanowax\"])"
   ]
  }
 ],
 "metadata": {
  "kernelspec": {
   "display_name": "Python 3.10.5 64-bit",
   "language": "python",
   "name": "python3"
  },
  "language_info": {
   "codemirror_mode": {
    "name": "ipython",
    "version": 3
   },
   "file_extension": ".py",
   "mimetype": "text/x-python",
   "name": "python",
   "nbconvert_exporter": "python",
   "pygments_lexer": "ipython3",
   "version": "3.10.5"
  },
  "orig_nbformat": 4,
  "vscode": {
   "interpreter": {
    "hash": "f15627b29e15848638e903c52dd09ae6c4c9adb1719aae45dda3850ec7954c19"
   }
  }
 },
 "nbformat": 4,
 "nbformat_minor": 2
}
