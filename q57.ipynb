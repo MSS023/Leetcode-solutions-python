{
 "cells": [
  {
   "cell_type": "code",
   "execution_count": 1,
   "metadata": {},
   "outputs": [],
   "source": [
    "from typing import List"
   ]
  },
  {
   "cell_type": "code",
   "execution_count": 26,
   "metadata": {},
   "outputs": [],
   "source": [
    "class Solution:\n",
    "    def isCommonArea(self, interval1: List[int], interval2: List[int]) -> bool:\n",
    "        start = max(interval1[0], interval2[0])\n",
    "        end = min(interval1[1], interval2[1])\n",
    "        if start > end:\n",
    "            return False\n",
    "        return True\n",
    "\n",
    "    def mergeIntervals(self, intervals: List[List[int]], interval1Pos: int, interval2Pos: int) -> List[List[int]]:\n",
    "        interval1, interval2 = intervals[interval1Pos], intervals[interval2Pos]\n",
    "        newInterval = [min(interval1[0], interval2[0]),\n",
    "                       max(interval1[1], interval2[1])]\n",
    "        intervals.pop(interval1Pos)\n",
    "        intervals.pop(interval1Pos)\n",
    "        intervals.insert(interval1Pos, newInterval)\n",
    "        return intervals\n",
    "\n",
    "    def reduceIntervals(self, intervals: List[List[int]], insertedPos: int) -> List[List[int]]:\n",
    "        merged = True\n",
    "        while merged:\n",
    "            if len(intervals) < 2:\n",
    "                return intervals\n",
    "            merged = False\n",
    "            if insertedPos >= len(intervals):\n",
    "                return intervals\n",
    "            if insertedPos > 0 and self.isCommonArea(intervals[insertedPos-1], intervals[insertedPos]):\n",
    "                insertedPos -= 1\n",
    "                intervals = self.mergeIntervals(\n",
    "                    intervals, insertedPos, insertedPos+1)\n",
    "                merged = True\n",
    "                continue\n",
    "            if insertedPos+1 >= len(intervals):\n",
    "                return intervals\n",
    "            if self.isCommonArea(intervals[insertedPos], intervals[insertedPos+1]):\n",
    "                intervals = self.mergeIntervals(\n",
    "                    intervals, insertedPos, insertedPos+1)\n",
    "                merged = True\n",
    "                continue\n",
    "        return intervals\n",
    "\n",
    "    def insert(self, intervals: List[List[int]], newInterval: List[int]) -> List[List[int]]:\n",
    "        if len(intervals) == 0:\n",
    "            intervals.append(newInterval)\n",
    "            return intervals\n",
    "        start = newInterval[0]\n",
    "        insertedPos = -1\n",
    "        for idx, interval in enumerate(intervals):\n",
    "            if interval[0] > start:\n",
    "                intervals.insert(idx, newInterval)\n",
    "                insertedPos = idx\n",
    "                break\n",
    "        if insertedPos == -1:\n",
    "            intervals.append(newInterval)\n",
    "            insertedPos = len(intervals) - 1\n",
    "        self.reduceIntervals(intervals, insertedPos)\n",
    "        return intervals"
   ]
  },
  {
   "cell_type": "code",
   "execution_count": 27,
   "metadata": {},
   "outputs": [
    {
     "data": {
      "text/plain": [
       "[[1, 5]]"
      ]
     },
     "execution_count": 27,
     "metadata": {},
     "output_type": "execute_result"
    }
   ],
   "source": [
    "obj = Solution()\n",
    "obj.insert(intervals = [[1, 5]], newInterval = [2,3])"
   ]
  }
 ],
 "metadata": {
  "kernelspec": {
   "display_name": "Python 3",
   "language": "python",
   "name": "python3"
  },
  "language_info": {
   "codemirror_mode": {
    "name": "ipython",
    "version": 3
   },
   "file_extension": ".py",
   "mimetype": "text/x-python",
   "name": "python",
   "nbconvert_exporter": "python",
   "pygments_lexer": "ipython3",
   "version": "3.12.2"
  }
 },
 "nbformat": 4,
 "nbformat_minor": 2
}
