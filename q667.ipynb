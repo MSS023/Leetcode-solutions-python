{
 "cells": [
  {
   "cell_type": "code",
   "execution_count": 14,
   "metadata": {},
   "outputs": [],
   "source": [
    "class Solution:\n",
    "    def constructArray(self, n: int, k: int) -> list[int]:\n",
    "        diff = []\n",
    "        for i in range(1,k):\n",
    "            diff.append(n-i)\n",
    "        while len(diff) < n-1:\n",
    "            diff.append(1)\n",
    "        memo = {i: False for i in range(1,n+1)}\n",
    "        last = 1\n",
    "        res = [last]\n",
    "        memo[last] = True\n",
    "        while len(res) < n:\n",
    "            d = diff.pop(0)\n",
    "            next = (last - d) if last - d in memo and not memo[last - d] else (d + last)\n",
    "            memo[next] = True\n",
    "            res.append(next)\n",
    "            last = next\n",
    "        return res"
   ]
  },
  {
   "cell_type": "code",
   "execution_count": 15,
   "metadata": {},
   "outputs": [
    {
     "data": {
      "text/plain": [
       "[1, 3, 2]"
      ]
     },
     "execution_count": 15,
     "metadata": {},
     "output_type": "execute_result"
    }
   ],
   "source": [
    "Solution().constructArray(3,2)"
   ]
  }
 ],
 "metadata": {
  "kernelspec": {
   "display_name": "Python 3.10.5 64-bit",
   "language": "python",
   "name": "python3"
  },
  "language_info": {
   "codemirror_mode": {
    "name": "ipython",
    "version": 3
   },
   "file_extension": ".py",
   "mimetype": "text/x-python",
   "name": "python",
   "nbconvert_exporter": "python",
   "pygments_lexer": "ipython3",
   "version": "3.10.5"
  },
  "orig_nbformat": 4,
  "vscode": {
   "interpreter": {
    "hash": "f15627b29e15848638e903c52dd09ae6c4c9adb1719aae45dda3850ec7954c19"
   }
  }
 },
 "nbformat": 4,
 "nbformat_minor": 2
}
