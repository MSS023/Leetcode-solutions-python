{
 "cells": [
  {
   "cell_type": "code",
   "execution_count": 1,
   "metadata": {},
   "outputs": [],
   "source": [
    "from typing import *\n",
    "\n",
    "class Solution:\n",
    "    def robotWithString(self, s: str) -> str:\n",
    "        suffMin = [None]*len(s)\n",
    "        minm = \"z\"\n",
    "        for i in range(len(s)-1,-1,-1):\n",
    "            minm = min(minm,s[i])\n",
    "            suffMin[i] = minm\n",
    "        t = []\n",
    "        res = \"\"\n",
    "        for ch1,ch2 in zip(suffMin, s):\n",
    "            while t and ch1 >= t[-1]:\n",
    "                res += t.pop()\n",
    "            if ch1 == ch2:\n",
    "                res += ch2\n",
    "                continue\n",
    "            t.append(ch2)\n",
    "        while t:\n",
    "            res += t.pop()\n",
    "        return res"
   ]
  }
 ],
 "metadata": {
  "kernelspec": {
   "display_name": "Python 3.10.6 64-bit",
   "language": "python",
   "name": "python3"
  },
  "language_info": {
   "codemirror_mode": {
    "name": "ipython",
    "version": 3
   },
   "file_extension": ".py",
   "mimetype": "text/x-python",
   "name": "python",
   "nbconvert_exporter": "python",
   "pygments_lexer": "ipython3",
   "version": "3.10.6"
  },
  "orig_nbformat": 4,
  "vscode": {
   "interpreter": {
    "hash": "f15627b29e15848638e903c52dd09ae6c4c9adb1719aae45dda3850ec7954c19"
   }
  }
 },
 "nbformat": 4,
 "nbformat_minor": 2
}
