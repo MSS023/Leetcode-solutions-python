{
 "cells": [
  {
   "cell_type": "code",
   "execution_count": 5,
   "metadata": {},
   "outputs": [],
   "source": [
    "class Solution:\n",
    "    def maxAreaOfIsland(self, grid: list[list[int]]) -> int:\n",
    "        memoGrid = [[False for x in y] for y in grid]\n",
    "\n",
    "        def findArea(r, c):\n",
    "            stack = [(r, c)]\n",
    "            m = len(grid)\n",
    "            n = len(grid[0])\n",
    "            count = 0\n",
    "            while stack:\n",
    "                row, col = stack.pop()\n",
    "                memoGrid[row][col] = True\n",
    "                if col < n-1 and grid[row][col+1] == 1 and not memoGrid[row][col+1] and (row, col+1) not in stack:\n",
    "                    stack.append((row, col+1))\n",
    "                if row < m-1 and grid[row+1][col] == 1 and not memoGrid[row+1][col] and (row+1, col) not in stack:\n",
    "                    stack.append((row+1, col))\n",
    "                if col > 0 and grid[row][col-1] == 1 and not memoGrid[row][col-1] and (row, col-1) not in stack:\n",
    "                    stack.append((row, col-1))\n",
    "                if row > 0 and grid[row-1][col] == 1 and not memoGrid[row-1][col] and (row-1, col) not in stack:\n",
    "                    stack.append((row-1, col))\n",
    "                count += 1\n",
    "            return count\n",
    "        maxm = 0\n",
    "        for i in range(len(grid)):\n",
    "            for j in range(len(grid[i])):\n",
    "                if grid[i][j] == 0:\n",
    "                    continue\n",
    "                if memoGrid[i][j]:\n",
    "                    continue\n",
    "                maxm = max(findArea(i, j), maxm)\n",
    "        return maxm\n"
   ]
  },
  {
   "cell_type": "code",
   "execution_count": 6,
   "metadata": {},
   "outputs": [
    {
     "data": {
      "text/plain": [
       "6"
      ]
     },
     "execution_count": 6,
     "metadata": {},
     "output_type": "execute_result"
    }
   ],
   "source": [
    "Solution().maxAreaOfIsland([[0,0,1,0,0,0,0,1,0,0,0,0,0],[0,0,0,0,0,0,0,1,1,1,0,0,0],[0,1,1,0,1,0,0,0,0,0,0,0,0],[0,1,0,0,1,1,0,0,1,0,1,0,0],[0,1,0,0,1,1,0,0,1,1,1,0,0],[0,0,0,0,0,0,0,0,0,0,1,0,0],[0,0,0,0,0,0,0,1,1,1,0,0,0],[0,0,0,0,0,0,0,1,1,0,0,0,0]])"
   ]
  }
 ],
 "metadata": {
  "kernelspec": {
   "display_name": "Python 3.10.5 64-bit",
   "language": "python",
   "name": "python3"
  },
  "language_info": {
   "codemirror_mode": {
    "name": "ipython",
    "version": 3
   },
   "file_extension": ".py",
   "mimetype": "text/x-python",
   "name": "python",
   "nbconvert_exporter": "python",
   "pygments_lexer": "ipython3",
   "version": "3.10.5"
  },
  "orig_nbformat": 4,
  "vscode": {
   "interpreter": {
    "hash": "f15627b29e15848638e903c52dd09ae6c4c9adb1719aae45dda3850ec7954c19"
   }
  }
 },
 "nbformat": 4,
 "nbformat_minor": 2
}
