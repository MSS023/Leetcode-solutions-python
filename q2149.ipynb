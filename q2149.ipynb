{
 "cells": [
  {
   "cell_type": "code",
   "execution_count": null,
   "metadata": {},
   "outputs": [],
   "source": [
    "class Solution:\n",
    "    def rearrangeArray(self, nums: List[int]) -> List[int]:\n",
    "        nums.sort(key = lambda x: 1 if x<0 else 0)\n",
    "        res = []\n",
    "        n = len(nums) // 2\n",
    "        for i in range(n):\n",
    "            res.append(nums[i])\n",
    "            res.append(nums[n+i])\n",
    "        return res"
   ]
  }
 ],
 "metadata": {
  "language_info": {
   "name": "python"
  },
  "orig_nbformat": 4
 },
 "nbformat": 4,
 "nbformat_minor": 2
}
