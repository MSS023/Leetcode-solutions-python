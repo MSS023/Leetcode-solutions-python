{
 "cells": [
  {
   "cell_type": "code",
   "execution_count": null,
   "metadata": {},
   "outputs": [],
   "source": [
    "# Definition for singly-linked list.\n",
    "# class ListNode:\n",
    "#     def __init__(self, val=0, next=None):\n",
    "#         self.val = val\n",
    "#         self.next = next\n",
    "class Solution:\n",
    "    def reverseKGroup(self, head: Optional[ListNode], k: int) -> Optional[ListNode]:\n",
    "        top=ListNode()\n",
    "        prev=top\n",
    "        while True:\n",
    "            arr=[]\n",
    "            while head and len(arr)<k:\n",
    "                arr.append(head)\n",
    "                head=head.next\n",
    "            if len(arr)==0:\n",
    "                break\n",
    "            if len(arr)<k:\n",
    "                prev.next=arr[0]\n",
    "                break\n",
    "            while arr:\n",
    "                prev.next=arr.pop()\n",
    "                prev=prev.next\n",
    "                prev.next=None\n",
    "        return top.next"
   ]
  }
 ],
 "metadata": {
  "language_info": {
   "name": "python"
  },
  "orig_nbformat": 4
 },
 "nbformat": 4,
 "nbformat_minor": 2
}
