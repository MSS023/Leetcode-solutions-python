{
 "cells": [
  {
   "cell_type": "code",
   "execution_count": 1,
   "metadata": {},
   "outputs": [],
   "source": [
    "from typing import *"
   ]
  },
  {
   "cell_type": "code",
   "execution_count": 2,
   "metadata": {},
   "outputs": [],
   "source": [
    "class Solution:\n",
    "    def minOperations(self, nums: List[int]) -> int:\n",
    "        count = 0\n",
    "        curr = False\n",
    "        n1 = False\n",
    "        n2 = False\n",
    "\n",
    "        for idx in range(len(nums)):\n",
    "            nums[idx] ^= curr\n",
    "            if nums[idx] == 1:\n",
    "                pass\n",
    "            \n",
    "            elif len(nums) - idx < 3:\n",
    "                return -1\n",
    "\n",
    "            else:\n",
    "                n1 ^= True\n",
    "                n2 ^= True\n",
    "                count += 1\n",
    "            curr, n1, n2 = n1, n2, False\n",
    "            \n",
    "        return count           "
   ]
  },
  {
   "cell_type": "code",
   "execution_count": 3,
   "metadata": {},
   "outputs": [
    {
     "name": "stdout",
     "output_type": "stream",
     "text": [
      "3\n",
      "-1\n"
     ]
    }
   ],
   "source": [
    "print(Solution().minOperations([0,1,1,1,0,0]))\n",
    "print(Solution().minOperations([0,1,1,1]))"
   ]
  }
 ],
 "metadata": {
  "kernelspec": {
   "display_name": "Python 3",
   "language": "python",
   "name": "python3"
  },
  "language_info": {
   "codemirror_mode": {
    "name": "ipython",
    "version": 3
   },
   "file_extension": ".py",
   "mimetype": "text/x-python",
   "name": "python",
   "nbconvert_exporter": "python",
   "pygments_lexer": "ipython3",
   "version": "3.10.11"
  }
 },
 "nbformat": 4,
 "nbformat_minor": 2
}
