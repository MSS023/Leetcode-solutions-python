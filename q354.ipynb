{
 "cells": [
  {
   "cell_type": "code",
   "execution_count": null,
   "metadata": {},
   "outputs": [],
   "source": [
    "class Solution:\n",
    "    def maxEnvelopes(self, E: List[List[int]]) -> int:\n",
    "        E.sort(key=lambda x: (x[0], -x[1]))\n",
    "        dp = []\n",
    "        for _,height in E:\n",
    "            left = bisect_left(dp, height)\n",
    "            if left == len(dp): dp.append(height)\n",
    "            else: dp[left] = height\n",
    "        return len(dp)"
   ]
  }
 ],
 "metadata": {
  "language_info": {
   "name": "python"
  },
  "orig_nbformat": 4
 },
 "nbformat": 4,
 "nbformat_minor": 2
}
