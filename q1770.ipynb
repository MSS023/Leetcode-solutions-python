{
 "cells": [
  {
   "cell_type": "code",
   "execution_count": 7,
   "metadata": {},
   "outputs": [],
   "source": [
    "from typing import *\n",
    "\n",
    "\n",
    "class Solution:\n",
    "    def maximumScore(self, nums: List[int], multipliers: List[int]) -> int:\n",
    "        m = len(multipliers)\n",
    "        n = len(nums)\n",
    "\n",
    "        dp = [[0]*(m+1) for _ in range(m+1)]\n",
    "\n",
    "        for mul in range(m-1, -1, -1):\n",
    "            for l in range(mul, -1, -1):\n",
    "                dp[mul][l] = max(multipliers[mul] * nums[l] + dp[mul+1][l+1],\n",
    "                                 multipliers[mul] * nums[n - 1 - mul + l] + dp[mul+1][l])\n",
    "        return dp[0][0]"
   ]
  },
  {
   "cell_type": "code",
   "execution_count": 8,
   "metadata": {},
   "outputs": [
    {
     "data": {
      "text/plain": [
       "14"
      ]
     },
     "execution_count": 8,
     "metadata": {},
     "output_type": "execute_result"
    }
   ],
   "source": [
    "Solution().maximumScore([1,2,3],[3,2,1])"
   ]
  }
 ],
 "metadata": {
  "kernelspec": {
   "display_name": "Python 3.10.6 64-bit",
   "language": "python",
   "name": "python3"
  },
  "language_info": {
   "codemirror_mode": {
    "name": "ipython",
    "version": 3
   },
   "file_extension": ".py",
   "mimetype": "text/x-python",
   "name": "python",
   "nbconvert_exporter": "python",
   "pygments_lexer": "ipython3",
   "version": "3.10.6"
  },
  "orig_nbformat": 4,
  "vscode": {
   "interpreter": {
    "hash": "f15627b29e15848638e903c52dd09ae6c4c9adb1719aae45dda3850ec7954c19"
   }
  }
 },
 "nbformat": 4,
 "nbformat_minor": 2
}
