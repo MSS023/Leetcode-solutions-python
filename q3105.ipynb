{
 "cells": [
  {
   "cell_type": "code",
   "execution_count": 1,
   "metadata": {},
   "outputs": [],
   "source": [
    "from typing import *"
   ]
  },
  {
   "cell_type": "code",
   "execution_count": 2,
   "metadata": {},
   "outputs": [],
   "source": [
    "class Solution:\n",
    "    def longestMonotonicSubarray(self, nums: List[int]) -> int:\n",
    "        maxL = 1\n",
    "\n",
    "        currL = 1\n",
    "        for idx in range(len(nums)-1):\n",
    "            if nums[idx] >= nums[idx+1]:\n",
    "                currL = 1\n",
    "                continue\n",
    "\n",
    "            currL += 1\n",
    "\n",
    "            maxL = max(maxL, currL)\n",
    "\n",
    "        currL = 1\n",
    "        for idx in range(len(nums)-1):\n",
    "            if nums[idx] <= nums[idx+1]:\n",
    "                currL = 1\n",
    "                continue\n",
    "\n",
    "            currL += 1\n",
    "\n",
    "            maxL = max(maxL, currL)\n",
    "\n",
    "        return maxL"
   ]
  },
  {
   "cell_type": "code",
   "execution_count": 3,
   "metadata": {},
   "outputs": [
    {
     "name": "stdout",
     "output_type": "stream",
     "text": [
      "2\n",
      "1\n",
      "3\n"
     ]
    }
   ],
   "source": [
    "print(Solution().longestMonotonicSubarray([1,4,3,3,2]))\n",
    "print(Solution().longestMonotonicSubarray([3,3,3,3]))\n",
    "print(Solution().longestMonotonicSubarray([3,2,1]))"
   ]
  }
 ],
 "metadata": {
  "kernelspec": {
   "display_name": "Python 3",
   "language": "python",
   "name": "python3"
  },
  "language_info": {
   "codemirror_mode": {
    "name": "ipython",
    "version": 3
   },
   "file_extension": ".py",
   "mimetype": "text/x-python",
   "name": "python",
   "nbconvert_exporter": "python",
   "pygments_lexer": "ipython3",
   "version": "3.13.1"
  }
 },
 "nbformat": 4,
 "nbformat_minor": 2
}
