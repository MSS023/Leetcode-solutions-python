{
 "cells": [
  {
   "cell_type": "code",
   "execution_count": 1,
   "metadata": {},
   "outputs": [],
   "source": [
    "# Definition for singly-linked list.\n",
    "class ListNode:\n",
    "    def __init__(self, val=0, next=None):\n",
    "        self.val = val\n",
    "        self.next = next"
   ]
  },
  {
   "cell_type": "code",
   "execution_count": 9,
   "metadata": {},
   "outputs": [],
   "source": [
    "from typing import *\n",
    "\n",
    "class Solution:\n",
    "    def oddEvenList(self, head: Optional[ListNode]) -> Optional[ListNode]:\n",
    "        if head is None:\n",
    "            return None\n",
    "        newHead = None\n",
    "        tail = None\n",
    "        temp = head\n",
    "        count = 0\n",
    "        while count < 2:\n",
    "            while temp is not None:\n",
    "                if newHead is None:\n",
    "                    newHead = ListNode(temp.val)\n",
    "                    tail = newHead\n",
    "                else:\n",
    "                    tail.next = ListNode(temp.val)\n",
    "                    tail = tail.next\n",
    "                temp = temp.next\n",
    "                if temp:\n",
    "                    temp = temp.next\n",
    "            temp = head.next\n",
    "            count += 1\n",
    "        return newHead"
   ]
  },
  {
   "cell_type": "code",
   "execution_count": 10,
   "metadata": {},
   "outputs": [
    {
     "name": "stdout",
     "output_type": "stream",
     "text": [
      "1\n",
      "3\n",
      "5\n",
      "7\n",
      "9\n",
      "2\n",
      "4\n",
      "6\n",
      "8\n",
      "10\n"
     ]
    }
   ],
   "source": [
    "arr = [1,2,3,4,5,6,7,8,9,10]\n",
    "\n",
    "def makeList(arr):\n",
    "    head = None\n",
    "    tail = None\n",
    "    for i in arr:\n",
    "        if head is None:\n",
    "            head = ListNode(i)\n",
    "            tail = head\n",
    "            continue\n",
    "        tail.next = ListNode(i)\n",
    "        tail = tail.next\n",
    "    return head\n",
    "\n",
    "def printList(node):\n",
    "    while node:\n",
    "        print(node.val)\n",
    "        node = node.next\n",
    "\n",
    "printList(Solution().oddEvenList(makeList(arr)))"
   ]
  }
 ],
 "metadata": {
  "kernelspec": {
   "display_name": "Python 3.10.6 64-bit",
   "language": "python",
   "name": "python3"
  },
  "language_info": {
   "codemirror_mode": {
    "name": "ipython",
    "version": 3
   },
   "file_extension": ".py",
   "mimetype": "text/x-python",
   "name": "python",
   "nbconvert_exporter": "python",
   "pygments_lexer": "ipython3",
   "version": "3.10.6"
  },
  "orig_nbformat": 4,
  "vscode": {
   "interpreter": {
    "hash": "f15627b29e15848638e903c52dd09ae6c4c9adb1719aae45dda3850ec7954c19"
   }
  }
 },
 "nbformat": 4,
 "nbformat_minor": 2
}
