{
 "cells": [
  {
   "cell_type": "code",
   "execution_count": 2,
   "metadata": {},
   "outputs": [],
   "source": [
    "from typing import *"
   ]
  },
  {
   "cell_type": "code",
   "execution_count": 3,
   "metadata": {},
   "outputs": [],
   "source": [
    "# Definition for a binary tree node.\n",
    "class TreeNode:\n",
    "    def __init__(self, val=0, left=None, right=None):\n",
    "        self.val = val\n",
    "        self.left = left\n",
    "        self.right = right"
   ]
  },
  {
   "cell_type": "code",
   "execution_count": 21,
   "metadata": {},
   "outputs": [],
   "source": [
    "from itertools import product\n",
    "\n",
    "class Solution:\n",
    "    def generateTrees(self, n: int) -> List[Optional[TreeNode]]:\n",
    "        def generateTree(elements: List[int]) -> List[Optional[TreeNode]]:\n",
    "            res = []\n",
    "            length = len(elements)\n",
    "            if length == 0:\n",
    "                return res\n",
    "            if length == 1:\n",
    "                res.append(TreeNode(elements[0]))\n",
    "                return res\n",
    "            for idx in range(length):\n",
    "                leftOptions = generateTree(elements[:idx])\n",
    "                rightOptions = generateTree(elements[idx+1:])\n",
    "                if len(leftOptions) == 0:\n",
    "                    leftOptions.append(None)\n",
    "                if len(rightOptions) == 0:\n",
    "                    rightOptions.append(None)\n",
    "                for left,right in product(leftOptions, rightOptions):\n",
    "                    head = TreeNode(elements[idx])\n",
    "                    head.left = left\n",
    "                    head.right = right\n",
    "                    res.append(head)\n",
    "            return res\n",
    "        return generateTree(list(range(1,n+1)))"
   ]
  },
  {
   "cell_type": "code",
   "execution_count": 22,
   "metadata": {},
   "outputs": [
    {
     "name": "stdout",
     "output_type": "stream",
     "text": [
      "[<__main__.TreeNode object at 0x0000016CB5583590>, <__main__.TreeNode object at 0x0000016CB5583250>, <__main__.TreeNode object at 0x0000016CB5581A90>, <__main__.TreeNode object at 0x0000016CB5583550>, <__main__.TreeNode object at 0x0000016CB5581090>]\n",
      "1\n",
      "2\n",
      "3\n",
      "1\n",
      "2\n",
      "3\n",
      "1\n",
      "2\n",
      "3\n",
      "1\n",
      "2\n",
      "3\n",
      "1\n",
      "2\n",
      "3\n"
     ]
    }
   ],
   "source": [
    "def printInorder(head: TreeNode) -> None:\n",
    "    if head is None:\n",
    "        return\n",
    "    printInorder(head.left)\n",
    "    print(head.val)\n",
    "    printInorder(head.right)\n",
    "\n",
    "arr = Solution().generateTrees(3)\n",
    "print(arr)\n",
    "for head in arr: printInorder(head)"
   ]
  }
 ],
 "metadata": {
  "kernelspec": {
   "display_name": "Python 3",
   "language": "python",
   "name": "python3"
  },
  "language_info": {
   "codemirror_mode": {
    "name": "ipython",
    "version": 3
   },
   "file_extension": ".py",
   "mimetype": "text/x-python",
   "name": "python",
   "nbconvert_exporter": "python",
   "pygments_lexer": "ipython3",
   "version": "3.11.4"
  },
  "orig_nbformat": 4
 },
 "nbformat": 4,
 "nbformat_minor": 2
}
