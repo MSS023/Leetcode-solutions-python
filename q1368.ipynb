{
 "cells": [
  {
   "cell_type": "code",
   "execution_count": 6,
   "metadata": {},
   "outputs": [],
   "source": [
    "from typing import *"
   ]
  },
  {
   "cell_type": "markdown",
   "metadata": {},
   "source": [
    "## TLE"
   ]
  },
  {
   "cell_type": "code",
   "execution_count": 7,
   "metadata": {},
   "outputs": [],
   "source": [
    "class Solution:\n",
    "    def __init__(self):\n",
    "        self.directionMap = {\n",
    "            1: self.right,\n",
    "            2: self.left,\n",
    "            3: self.down,\n",
    "            4: self.up\n",
    "        }\n",
    "\n",
    "    def left(self, r:int, c: int): \n",
    "        return (r,c-1)\n",
    "    \n",
    "    def right(self, r: int, c: int):\n",
    "        return (r, c+1)\n",
    "    \n",
    "    def up(self, r: int, c: int):\n",
    "        return (r-1, c)\n",
    "    \n",
    "    def down(self, r: int, c: int):\n",
    "        return (r+1, c)\n",
    "    \n",
    "    def main(self, r: int = 0, c: int = 0, cost: int = 0) -> int:\n",
    "        if (r == len(self.grid)-1 and c == len(self.grid[0])-1):\n",
    "            return cost\n",
    "        \n",
    "        if r < 0 or c < 0 or r == len(self.grid) or c == len(self.grid[0]):\n",
    "            return float(\"inf\")\n",
    "\n",
    "        direction, isChanged, isVisited = self.grid[r][c]\n",
    "\n",
    "        if isVisited:\n",
    "            return float(\"inf\")\n",
    "        \n",
    "        self.grid[r][c][2] = 1\n",
    "        \n",
    "        newR, newC = self.directionMap[direction](r, c)\n",
    "\n",
    "        minm = self.main(newR, newC, cost)\n",
    "\n",
    "        if isChanged:\n",
    "            self.grid[r][c][2] = 0\n",
    "            return minm\n",
    "        \n",
    "        self.grid[r][c][1] = 1\n",
    "        \n",
    "        for direction2 in range(1,5):\n",
    "            if direction == direction2:\n",
    "                continue\n",
    "            newR, newC = self.directionMap[direction2](r, c)\n",
    "            minm = min(minm, self.main(newR, newC, cost+1))\n",
    "\n",
    "        self.grid[r][c][1] = 0\n",
    "\n",
    "        self.grid[r][c][2] = 0\n",
    "\n",
    "        return minm\n",
    "\n",
    "\n",
    "    def minCost(self, grid: List[List[int]]) -> int:\n",
    "        newGrid = []\n",
    "\n",
    "        for row in grid:\n",
    "            newGrid.append([[direction, 0, 0] for direction in row])\n",
    "\n",
    "        self.grid = newGrid\n",
    "\n",
    "        return self.main(0,0,0)"
   ]
  },
  {
   "cell_type": "code",
   "execution_count": 8,
   "metadata": {},
   "outputs": [],
   "source": [
    "class Solution:\n",
    "    def minCost(self, grid: List[List[int]]) -> int:\n",
    "        m, n = len(grid), len(grid[0])\n",
    "\n",
    "        cost = [[float(\"inf\") for _ in range(n)] for _ in range(m)]\n",
    "        cost[0][0] = 0\n",
    "\n",
    "        while True:\n",
    "            prevCost = [[*row] for row in cost]\n",
    "            for r in range(m):\n",
    "                for c in range(n):\n",
    "                    if r > 0:\n",
    "                        cost[r][c] = min(cost[r][c], cost[r-1][c] + (0 if grid[r-1][c] == 3 else 1))\n",
    "                    if c > 0:\n",
    "                        cost[r][c] = min(cost[r][c], cost[r][c-1] + (0 if grid[r][c-1] == 1 else 1))\n",
    "            \n",
    "            for r in range(m-1, -1, -1):\n",
    "                for c in range(n-1, -1, -1):\n",
    "                    if r < m-1:\n",
    "                        cost[r][c] = min(cost[r][c], cost[r+1][c] + (0 if grid[r+1][c] == 4 else 1))\n",
    "                    if c < n-1:\n",
    "                        cost[r][c] = min(cost[r][c], cost[r][c+1] + (0 if grid[r][c+1] == 2 else 1))\n",
    "            \n",
    "            if cost == prevCost:\n",
    "                break\n",
    "\n",
    "        return cost[m-1][n-1]"
   ]
  },
  {
   "cell_type": "code",
   "execution_count": 9,
   "metadata": {},
   "outputs": [
    {
     "name": "stdout",
     "output_type": "stream",
     "text": [
      "3\n",
      "0\n",
      "1\n"
     ]
    }
   ],
   "source": [
    "print(Solution().minCost(grid=[[1, 1, 1, 1], [2, 2, 2, 2], [1, 1, 1, 1], [2, 2, 2, 2]]))\n",
    "print(Solution().minCost(grid=[[1, 1, 3], [3, 2, 2], [1, 1, 4]]))\n",
    "print(Solution().minCost(grid = [[1, 2], [4, 3]]))"
   ]
  }
 ],
 "metadata": {
  "kernelspec": {
   "display_name": "Python 3",
   "language": "python",
   "name": "python3"
  },
  "language_info": {
   "codemirror_mode": {
    "name": "ipython",
    "version": 3
   },
   "file_extension": ".py",
   "mimetype": "text/x-python",
   "name": "python",
   "nbconvert_exporter": "python",
   "pygments_lexer": "ipython3",
   "version": "3.13.1"
  }
 },
 "nbformat": 4,
 "nbformat_minor": 2
}
