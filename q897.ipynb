{
 "cells": [
  {
   "cell_type": "code",
   "execution_count": null,
   "metadata": {},
   "outputs": [],
   "source": [
    "# Definition for a binary tree node.\n",
    "# class TreeNode:\n",
    "#     def __init__(self, val=0, left=None, right=None):\n",
    "#         self.val = val\n",
    "#         self.left = left\n",
    "#         self.right = right\n",
    "class Solution:\n",
    "    def increasingBST(self, root: TreeNode) -> TreeNode:\n",
    "        arr=[]\n",
    "        def inorderTraversal(root,arr):\n",
    "            if root is None:\n",
    "                return\n",
    "            inorderTraversal(root.left,arr)\n",
    "            arr.append(TreeNode(val=root.val))\n",
    "            inorderTraversal(root.right,arr)\n",
    "            return\n",
    "        inorderTraversal(root,arr)\n",
    "        for i in range(1,len(arr)):\n",
    "            arr[i-1].right=arr[i]\n",
    "        return arr[0]"
   ]
  }
 ],
 "metadata": {
  "language_info": {
   "name": "python"
  },
  "orig_nbformat": 4
 },
 "nbformat": 4,
 "nbformat_minor": 2
}
