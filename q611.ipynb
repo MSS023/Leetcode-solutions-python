{
 "cells": [
  {
   "cell_type": "code",
   "execution_count": 2,
   "id": "63b857ac",
   "metadata": {},
   "outputs": [],
   "source": [
    "from typing import *\n",
    "import bisect"
   ]
  },
  {
   "cell_type": "code",
   "execution_count": 21,
   "id": "01323fd4",
   "metadata": {},
   "outputs": [],
   "source": [
    "class Solution:\n",
    "    def findThird(self, num: int, h: int, l: int) -> int:\n",
    "        return bisect.bisect_left(self.nums, num, l, h)\n",
    "\n",
    "    def triangleNumber(self, nums: List[int]) -> int:\n",
    "        nums.sort()\n",
    "        self.nums = nums\n",
    "        count = 0\n",
    "        n = len(nums)\n",
    "        for idx1 in range(n-1, 1, -1):\n",
    "            for idx2 in range(idx1-1, 0, -1):\n",
    "                third = nums[idx1] - nums[idx2] + 1\n",
    "                thirdIdx = self.findThird(third, idx2, 0)\n",
    "                count += idx2-thirdIdx\n",
    "        return count"
   ]
  },
  {
   "cell_type": "code",
   "execution_count": 22,
   "id": "392ad70b",
   "metadata": {},
   "outputs": [
    {
     "name": "stdout",
     "output_type": "stream",
     "text": [
      "3\n",
      "4\n"
     ]
    }
   ],
   "source": [
    "print(Solution().triangleNumber([2,2,3,4]))\n",
    "print(Solution().triangleNumber([4,2,3,4]))"
   ]
  }
 ],
 "metadata": {
  "kernelspec": {
   "display_name": "Python 3",
   "language": "python",
   "name": "python3"
  },
  "language_info": {
   "codemirror_mode": {
    "name": "ipython",
    "version": 3
   },
   "file_extension": ".py",
   "mimetype": "text/x-python",
   "name": "python",
   "nbconvert_exporter": "python",
   "pygments_lexer": "ipython3",
   "version": "3.10.11"
  }
 },
 "nbformat": 4,
 "nbformat_minor": 5
}
