{
 "cells": [
  {
   "cell_type": "code",
   "execution_count": null,
   "metadata": {},
   "outputs": [],
   "source": [
    "class Solution:\n",
    "    def numRescueBoats(self, people: List[int], limit: int) -> int:\n",
    "        people.sort()\n",
    "        index1=0\n",
    "        index2=len(people)-1\n",
    "        count=0\n",
    "        while people and people[-1]>=limit:\n",
    "            people.pop()\n",
    "            count+=1\n",
    "        while len(people)>1:\n",
    "            if people[0]+people[-1]==limit:\n",
    "                count+=1\n",
    "                people.pop()\n",
    "                people.pop(0)\n",
    "            elif people[0]+people[-1]>limit:\n",
    "                people.pop()\n",
    "                count+=1\n",
    "            else:\n",
    "                people.pop()\n",
    "                people.pop(0)\n",
    "                count+=1\n",
    "        count+=len(people)\n",
    "        return count"
   ]
  }
 ],
 "metadata": {
  "language_info": {
   "name": "python"
  },
  "orig_nbformat": 4
 },
 "nbformat": 4,
 "nbformat_minor": 2
}
