{
 "cells": [
  {
   "cell_type": "code",
   "execution_count": 28,
   "metadata": {},
   "outputs": [],
   "source": [
    "from typing import *\n",
    "import math"
   ]
  },
  {
   "cell_type": "code",
   "execution_count": 31,
   "metadata": {},
   "outputs": [],
   "source": [
    "class Solution:\n",
    "    def getMaxTime(self, ranks: List[int], cars: int) -> int:\n",
    "        return min(ranks) * cars * cars\n",
    "    \n",
    "    def isIntervalPossible(self, ranks: List[int], cars: int, target: int) -> bool:\n",
    "        sum = 0\n",
    "        for rank in ranks:\n",
    "            sum += math.floor(math.sqrt(target/rank))\n",
    "        \n",
    "        if sum >= cars:\n",
    "            return True\n",
    "        return False\n",
    "\n",
    "    def repairCars(self, ranks: List[int], cars: int) -> int:\n",
    "        maxTimePossible = self.getMaxTime(ranks, cars)\n",
    "\n",
    "        minTime = 0\n",
    "\n",
    "        while minTime <= maxTimePossible:\n",
    "            mid = (maxTimePossible + minTime)//2\n",
    "\n",
    "            if self.isIntervalPossible(ranks, cars, mid):\n",
    "                maxTimePossible = mid - 1\n",
    "                continue\n",
    "\n",
    "            minTime = mid + 1\n",
    "        \n",
    "        return maxTimePossible + 1\n"
   ]
  },
  {
   "cell_type": "code",
   "execution_count": 32,
   "metadata": {},
   "outputs": [
    {
     "name": "stdout",
     "output_type": "stream",
     "text": [
      "16\n",
      "576\n"
     ]
    }
   ],
   "source": [
    "# print(Solution().repairCars([4,2,3,1],10))\n",
    "print(Solution().repairCars([5,1,8],6))\n",
    "print(Solution().repairCars([1,1,3,3],74))"
   ]
  }
 ],
 "metadata": {
  "kernelspec": {
   "display_name": "Python 3",
   "language": "python",
   "name": "python3"
  },
  "language_info": {
   "codemirror_mode": {
    "name": "ipython",
    "version": 3
   },
   "file_extension": ".py",
   "mimetype": "text/x-python",
   "name": "python",
   "nbconvert_exporter": "python",
   "pygments_lexer": "ipython3",
   "version": "3.10.11"
  }
 },
 "nbformat": 4,
 "nbformat_minor": 2
}
