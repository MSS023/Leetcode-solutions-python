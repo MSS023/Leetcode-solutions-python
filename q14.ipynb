{
 "cells": [
  {
   "cell_type": "code",
   "execution_count": 17,
   "metadata": {},
   "outputs": [
    {
     "data": {
      "text/plain": [
       "'flower'"
      ]
     },
     "execution_count": 17,
     "metadata": {},
     "output_type": "execute_result"
    }
   ],
   "source": [
    "class Solution:\n",
    "    def longestCommonPrefix(self, strs: list[str]) -> str:\n",
    "        string=\"\"\n",
    "        index=0\n",
    "        flag=True\n",
    "        while flag:\n",
    "            for item in strs:\n",
    "                if len(item)<=index:\n",
    "                    flag=False\n",
    "                    break\n",
    "                if item[index]!=strs[0][index]:\n",
    "                    flag=False\n",
    "                    break\n",
    "            if flag:\n",
    "                string+=strs[0][index]\n",
    "            index+=1\n",
    "            if index>=len(strs[0]):\n",
    "                flag=False\n",
    "        return string\n",
    "\n",
    "sol=Solution()\n",
    "sol.longestCommonPrefix([x for x in input().split()])"
   ]
  }
 ],
 "metadata": {
  "interpreter": {
   "hash": "84c7cd761066ce45b8a789f7b09f72a3209628e136df7af6e1c369b4f2245113"
  },
  "kernelspec": {
   "display_name": "Python 3.10.2 64-bit",
   "language": "python",
   "name": "python3"
  },
  "language_info": {
   "codemirror_mode": {
    "name": "ipython",
    "version": 3
   },
   "file_extension": ".py",
   "mimetype": "text/x-python",
   "name": "python",
   "nbconvert_exporter": "python",
   "pygments_lexer": "ipython3",
   "version": "3.10.2"
  },
  "orig_nbformat": 4
 },
 "nbformat": 4,
 "nbformat_minor": 2
}
