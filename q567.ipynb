{
 "cells": [
  {
   "cell_type": "code",
   "execution_count": 51,
   "metadata": {},
   "outputs": [],
   "source": [
    "from collections import Counter\n",
    "\n",
    "class Solution:\n",
    "    def checkInclusion(self, s1: str, s2: str) -> bool:\n",
    "        count = Counter(s1)\n",
    "        start = 0\n",
    "        n = len(s2)\n",
    "        m = len(s1)\n",
    "        idx = 0\n",
    "        tempDict = count.copy()\n",
    "        selectedLength = 0\n",
    "        while idx < n:\n",
    "            if selectedLength == m:\n",
    "                return True\n",
    "            if s2[idx] not in tempDict:\n",
    "                start = idx+1\n",
    "                selectedLength = 0\n",
    "                tempDict = count.copy()\n",
    "                idx += 1\n",
    "                continue\n",
    "            if tempDict[s2[idx]] > 0:\n",
    "                tempDict[s2[idx]] -= 1\n",
    "                selectedLength += 1\n",
    "                idx += 1\n",
    "                continue\n",
    "            while tempDict[s2[idx]] <= 0:\n",
    "                tempDict[s2[start]] += 1\n",
    "                selectedLength -= 1\n",
    "                start += 1\n",
    "            tempDict[s2[idx]] -= 1\n",
    "            selectedLength += 1\n",
    "            idx += 1\n",
    "        if selectedLength == m:\n",
    "            return True\n",
    "        return False"
   ]
  },
  {
   "cell_type": "code",
   "execution_count": 56,
   "metadata": {},
   "outputs": [
    {
     "data": {
      "text/plain": [
       "True"
      ]
     },
     "execution_count": 56,
     "metadata": {},
     "output_type": "execute_result"
    }
   ],
   "source": [
    "Solution().checkInclusion(\"a\",\"ba\")"
   ]
  }
 ],
 "metadata": {
  "kernelspec": {
   "display_name": "Python 3",
   "language": "python",
   "name": "python3"
  },
  "language_info": {
   "codemirror_mode": {
    "name": "ipython",
    "version": 3
   },
   "file_extension": ".py",
   "mimetype": "text/x-python",
   "name": "python",
   "nbconvert_exporter": "python",
   "pygments_lexer": "ipython3",
   "version": "3.10.6"
  },
  "orig_nbformat": 4,
  "vscode": {
   "interpreter": {
    "hash": "f15627b29e15848638e903c52dd09ae6c4c9adb1719aae45dda3850ec7954c19"
   }
  }
 },
 "nbformat": 4,
 "nbformat_minor": 2
}
