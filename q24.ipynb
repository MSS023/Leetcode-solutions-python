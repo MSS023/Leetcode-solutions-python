{
 "cells": [
  {
   "cell_type": "code",
   "execution_count": null,
   "metadata": {},
   "outputs": [],
   "source": [
    "# Definition for singly-linked list.\n",
    "# class ListNode:\n",
    "#     def __init__(self, val=0, next=None):\n",
    "#         self.val = val\n",
    "#         self.next = next\n",
    "class Solution:\n",
    "    def swapPairs(self, orighead: Optional[ListNode]) -> Optional[ListNode]:\n",
    "        head=orighead\n",
    "        if head is not None and head.next is not None:\n",
    "            orighead=head.next\n",
    "        prev=None\n",
    "        while head is not None:\n",
    "            next=head.next\n",
    "            if next is not None:\n",
    "                if prev is not None:\n",
    "                    prev.next=next\n",
    "                head.next=next.next\n",
    "                next.next=head\n",
    "            prev=head\n",
    "            head=head.next\n",
    "        return orighead"
   ]
  }
 ],
 "metadata": {
  "language_info": {
   "name": "python"
  },
  "orig_nbformat": 4
 },
 "nbformat": 4,
 "nbformat_minor": 2
}
