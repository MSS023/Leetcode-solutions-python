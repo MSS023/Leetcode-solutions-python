{
 "cells": [
  {
   "cell_type": "code",
   "execution_count": 32,
   "metadata": {},
   "outputs": [],
   "source": [
    "from typing import *\n",
    "\n",
    "class Solution:\n",
    "    def __init__(self):\n",
    "        self.diction = {}\n",
    "\n",
    "    def compare(self,s1: str,s2: str) -> int:\n",
    "        count = 0\n",
    "        for idx,i in enumerate(s1):\n",
    "            if i != s2[idx]:\n",
    "                count += 1\n",
    "        return count\n",
    "\n",
    "    def bfs(self,start: str,end: str):\n",
    "        queue = [[start]]\n",
    "        minSize = float(\"inf\")\n",
    "        res = []\n",
    "        while queue:\n",
    "            li = queue.pop(0)\n",
    "            if len(li) > minSize:\n",
    "                return res\n",
    "            s = li[-1]\n",
    "            if s == end:\n",
    "                if len(li) < minSize:\n",
    "                    minSize = len(li)\n",
    "                    res = [li]\n",
    "                elif len(li) == minSize:\n",
    "                    res.append(li)\n",
    "                continue\n",
    "            for i in self.diction[s]:\n",
    "                if i in li: continue\n",
    "                queue.append(li+[i])\n",
    "        return res\n",
    "\n",
    "    def findLadders(self, beginWord: str, endWord: str, wordList: List[str]) -> List[List[str]]:\n",
    "        if beginWord not in wordList:\n",
    "            wordList.append(beginWord)\n",
    "        self.diction = {i:[] for i in wordList}\n",
    "\n",
    "        for i in range(len(wordList)):\n",
    "            for j in range(i+1,len(wordList)):\n",
    "                s1, s2 = wordList[i], wordList[j]\n",
    "                if self.compare(s1,s2) != 1:\n",
    "                    continue\n",
    "                self.diction[s1].append(s2)\n",
    "                self.diction[s2].append(s1)\n",
    "                \n",
    "        return self.bfs(beginWord,endWord)\n",
    "        "
   ]
  },
  {
   "cell_type": "code",
   "execution_count": 34,
   "metadata": {},
   "outputs": [],
   "source": [
    "from collections import defaultdict, deque\n",
    "\n",
    "\n",
    "class Solution:\n",
    "\t\tdef findLadders(self, beginWord: str, endWord: str, wordList: List[str]) -> List[List[str]]:\n",
    "\t\t\td = defaultdict(list)\n",
    "\t\t\tfor word in wordList:\n",
    "\t\t\t\tfor i in range(len(word)):\n",
    "\t\t\t\t\td[word[:i]+\"*\"+word[i+1:]].append(word)\n",
    "\n",
    "\t\t\tif endWord not in wordList:\n",
    "\t\t\t\treturn []\n",
    "\n",
    "\t\t\tvisited1 = defaultdict(list)\n",
    "\t\t\tq1 = deque([beginWord])\n",
    "\t\t\tvisited1[beginWord] = []\n",
    "\n",
    "\t\t\tvisited2 = defaultdict(list)\n",
    "\t\t\tq2 = deque([endWord])\n",
    "\t\t\tvisited2[endWord] = []\n",
    "\n",
    "\t\t\tans = []\n",
    "\t\t\tdef dfs(v, visited, path, paths):\n",
    "\t\t\t\tpath.append(v)\n",
    "\t\t\t\tif not visited[v]:\n",
    "\t\t\t\t\tif visited is visited1:\n",
    "\t\t\t\t\t\tpaths.append(path[::-1])\n",
    "\t\t\t\t\telse:\n",
    "\t\t\t\t\t\tpaths.append(path[:])\n",
    "\t\t\t\tfor u in visited[v]:\n",
    "\t\t\t\t\tdfs(u, visited, path, paths)\n",
    "\t\t\t\tpath.pop()\n",
    "\n",
    "\t\t\tdef bfs(q, visited1, visited2, frombegin):\n",
    "\t\t\t\tlevel_visited = defaultdict(list)\n",
    "\t\t\t\tfor _ in range(len(q)):\n",
    "\t\t\t\t\tu = q.popleft()\n",
    "\n",
    "\t\t\t\t\tfor i in range(len(u)):\n",
    "\t\t\t\t\t\tfor v in d[u[:i]+\"*\"+u[i+1:]]:\n",
    "\t\t\t\t\t\t\tif v in visited2:\n",
    "\t\t\t\t\t\t\t\tpaths1 = []\n",
    "\t\t\t\t\t\t\t\tpaths2 = []\n",
    "\t\t\t\t\t\t\t\tdfs(u, visited1, [], paths1)\n",
    "\t\t\t\t\t\t\t\tdfs(v, visited2, [], paths2)\n",
    "\t\t\t\t\t\t\t\tif not frombegin:\n",
    "\t\t\t\t\t\t\t\t\tpaths1, paths2 = paths2, paths1\n",
    "\t\t\t\t\t\t\t\tfor a in paths1:\n",
    "\t\t\t\t\t\t\t\t\tfor b in paths2:\n",
    "\t\t\t\t\t\t\t\t\t\tans.append(a+b)\n",
    "\t\t\t\t\t\t\telif v not in visited1:\n",
    "\t\t\t\t\t\t\t\tif v not in level_visited:\n",
    "\t\t\t\t\t\t\t\t\tq.append(v)\n",
    "\t\t\t\t\t\t\t\tlevel_visited[v].append(u)\n",
    "\t\t\t\tvisited1.update(level_visited)\n",
    "\n",
    "\t\t\twhile q1 and q2 and not ans:\n",
    "\t\t\t\tif len(q1) <= len(q2):\n",
    "\t\t\t\t\tbfs(q1, visited1, visited2, True)\n",
    "\t\t\t\telse:\n",
    "\t\t\t\t\tbfs(q2, visited2, visited1, False)\n",
    "\n",
    "\t\t\treturn ans"
   ]
  },
  {
   "cell_type": "code",
   "execution_count": 35,
   "metadata": {},
   "outputs": [
    {
     "data": {
      "text/plain": [
       "[['hit', 'hot', 'dot', 'dog', 'cog'], ['hit', 'hot', 'lot', 'log', 'cog']]"
      ]
     },
     "execution_count": 35,
     "metadata": {},
     "output_type": "execute_result"
    }
   ],
   "source": [
    "Solution().findLadders(\"hit\",\"cog\",[\"hot\",\"dot\",\"dog\",\"lot\",\"log\",\"cog\"])"
   ]
  }
 ],
 "metadata": {
  "kernelspec": {
   "display_name": "Python 3.10.5 64-bit",
   "language": "python",
   "name": "python3"
  },
  "language_info": {
   "codemirror_mode": {
    "name": "ipython",
    "version": 3
   },
   "file_extension": ".py",
   "mimetype": "text/x-python",
   "name": "python",
   "nbconvert_exporter": "python",
   "pygments_lexer": "ipython3",
   "version": "3.10.5"
  },
  "orig_nbformat": 4,
  "vscode": {
   "interpreter": {
    "hash": "f15627b29e15848638e903c52dd09ae6c4c9adb1719aae45dda3850ec7954c19"
   }
  }
 },
 "nbformat": 4,
 "nbformat_minor": 2
}
