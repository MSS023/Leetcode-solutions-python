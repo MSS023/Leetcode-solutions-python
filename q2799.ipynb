{
 "cells": [
  {
   "cell_type": "code",
   "execution_count": 1,
   "id": "35f02503",
   "metadata": {},
   "outputs": [],
   "source": [
    "from typing import *"
   ]
  },
  {
   "cell_type": "code",
   "execution_count": 27,
   "id": "d2fbd3d0",
   "metadata": {},
   "outputs": [],
   "source": [
    "class Solution:\n",
    "    def countCompleteSubarrays(self, nums: List[int]) -> int:\n",
    "        distinct = set(nums)\n",
    "        countDistinct = len(distinct)\n",
    "        n = len(nums)\n",
    "\n",
    "        result = 0\n",
    "        for l in range(countDistinct, n+1):\n",
    "            for idx in range(n-l+1):\n",
    "                distinct2 = set(nums[idx:idx+l])\n",
    "                if countDistinct == len(distinct2):\n",
    "                    result += 1\n",
    "        return result"
   ]
  },
  {
   "cell_type": "code",
   "execution_count": 28,
   "id": "b5f7d865",
   "metadata": {},
   "outputs": [
    {
     "name": "stdout",
     "output_type": "stream",
     "text": [
      "4\n",
      "10\n"
     ]
    }
   ],
   "source": [
    "print(Solution().countCompleteSubarrays([1,3,1,2,2]))\n",
    "print(Solution().countCompleteSubarrays([5,5,5,5]))"
   ]
  }
 ],
 "metadata": {
  "kernelspec": {
   "display_name": "Python 3",
   "language": "python",
   "name": "python3"
  },
  "language_info": {
   "codemirror_mode": {
    "name": "ipython",
    "version": 3
   },
   "file_extension": ".py",
   "mimetype": "text/x-python",
   "name": "python",
   "nbconvert_exporter": "python",
   "pygments_lexer": "ipython3",
   "version": "3.10.11"
  }
 },
 "nbformat": 4,
 "nbformat_minor": 5
}
