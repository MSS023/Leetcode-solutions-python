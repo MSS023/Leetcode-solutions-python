{
 "cells": [
  {
   "cell_type": "code",
   "execution_count": 1,
   "metadata": {},
   "outputs": [],
   "source": [
    "# Definition for a binary tree node.\n",
    "class TreeNode:\n",
    "    def __init__(self, x):\n",
    "        self.val = x\n",
    "        self.left = None\n",
    "        self.right = None"
   ]
  },
  {
   "cell_type": "code",
   "execution_count": 7,
   "metadata": {},
   "outputs": [],
   "source": [
    "class Solution:\n",
    "    def __init__(self):\n",
    "        self.flag1 = False\n",
    "        self.flag2 = False\n",
    "\n",
    "    def lowestCommonAncestor(self, root: TreeNode, p: TreeNode, q: TreeNode) -> TreeNode:\n",
    "        memo = {}\n",
    "        def dfs(node: TreeNode,arr: list[TreeNode]) -> None:\n",
    "            if node == p:\n",
    "                memo[node] = arr+[node]\n",
    "                self.flag1 = True\n",
    "            if node == q:\n",
    "                memo[node] = arr+[node]\n",
    "                self.flag2 = True\n",
    "            if self.flag1 and self.flag2:\n",
    "                return\n",
    "            if node.left:\n",
    "                dfs(node.left,arr+[node])\n",
    "            if node.right:\n",
    "                dfs(node.right,arr+[node])\n",
    "            return\n",
    "        dfs(root,[])\n",
    "        ans = None\n",
    "        for a,b in zip(memo[p],memo[q]):\n",
    "            if a == b:\n",
    "                ans = a\n",
    "        return ans"
   ]
  },
  {
   "cell_type": "code",
   "execution_count": 8,
   "metadata": {},
   "outputs": [],
   "source": [
    "def makeTree(arr):\n",
    "    queue = []\n",
    "    idx = 0\n",
    "    while arr:\n",
    "        val = arr.pop(0)\n",
    "        if not queue:\n",
    "            queue.append(TreeNode(val))\n",
    "            continue\n",
    "        node = queue[idx]\n",
    "        if val is not None:\n",
    "            node.left = TreeNode(val)\n",
    "            queue.append(node.left)\n",
    "        val = arr.pop(0)\n",
    "        if val is not None:\n",
    "            node.right = TreeNode(val)\n",
    "            queue.append(node.right)\n",
    "        idx += 1\n",
    "    if queue:\n",
    "        return queue[0]\n",
    "    return None"
   ]
  }
 ],
 "metadata": {
  "kernelspec": {
   "display_name": "Python 3.10.5 64-bit",
   "language": "python",
   "name": "python3"
  },
  "language_info": {
   "codemirror_mode": {
    "name": "ipython",
    "version": 3
   },
   "file_extension": ".py",
   "mimetype": "text/x-python",
   "name": "python",
   "nbconvert_exporter": "python",
   "pygments_lexer": "ipython3",
   "version": "3.10.5"
  },
  "orig_nbformat": 4,
  "vscode": {
   "interpreter": {
    "hash": "f15627b29e15848638e903c52dd09ae6c4c9adb1719aae45dda3850ec7954c19"
   }
  }
 },
 "nbformat": 4,
 "nbformat_minor": 2
}
