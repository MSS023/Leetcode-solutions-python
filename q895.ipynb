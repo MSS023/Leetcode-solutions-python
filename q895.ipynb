{
 "cells": [
  {
   "cell_type": "code",
   "execution_count": null,
   "metadata": {},
   "outputs": [],
   "source": [
    "class FreqStack:\n",
    "\n",
    "    def __init__(self):\n",
    "        self.max=0\n",
    "        self.dict={}\n",
    "        self.dict2={}\n",
    "\n",
    "    def push(self, val: int) -> None:\n",
    "        if val in self.dict:\n",
    "            self.dict[val]+=1\n",
    "        else:\n",
    "            self.dict[val]=1\n",
    "        if self.dict[val]>self.max:\n",
    "            self.max=self.dict[val]\n",
    "        if self.dict[val] in self.dict2:\n",
    "            self.dict2[self.dict[val]].append(val)\n",
    "        else:\n",
    "            self.dict2[self.dict[val]]=[val]\n",
    "\n",
    "    def pop(self) -> int:\n",
    "        num=self.dict2[self.max].pop()\n",
    "        if len(self.dict2[self.max])==0:\n",
    "            self.dict2.pop(self.max)\n",
    "        self.dict[num]-=1\n",
    "        if len(self.dict2.keys())>0:\n",
    "            self.max=max(self.dict2.keys())\n",
    "        else:\n",
    "            self.max=0\n",
    "        return num\n",
    "\n",
    "\n",
    "# Your FreqStack object will be instantiated and called as such:\n",
    "# obj = FreqStack()\n",
    "# obj.push(val)\n",
    "# param_2 = obj.pop()"
   ]
  }
 ],
 "metadata": {
  "language_info": {
   "name": "python"
  },
  "orig_nbformat": 4
 },
 "nbformat": 4,
 "nbformat_minor": 2
}
