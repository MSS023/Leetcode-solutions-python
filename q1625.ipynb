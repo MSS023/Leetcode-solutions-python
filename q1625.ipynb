{
 "cells": [
  {
   "cell_type": "code",
   "execution_count": 38,
   "id": "b49d176c",
   "metadata": {},
   "outputs": [],
   "source": [
    "from typing import *\n",
    "import math"
   ]
  },
  {
   "cell_type": "markdown",
   "id": "d8d9ee7d",
   "metadata": {},
   "source": [
    "### TLE"
   ]
  },
  {
   "cell_type": "code",
   "execution_count": 36,
   "id": "d0a2f3a7",
   "metadata": {},
   "outputs": [],
   "source": [
    "class Solution:\n",
    "    def main(self, currState: str, additionCount: int, rotationCount: int) -> str:\n",
    "        if additionCount == 10 and rotationCount == len(self.s):\n",
    "            return currState\n",
    "        \n",
    "        minStr = currState\n",
    "        maxAdditionCount = 5 if self.a & 1 == 0 else 10\n",
    "        maxRotationCount = 1 if self.b == len(self.s)//2 else (len(self.s)//2 if self.b & 1 == 0 else len(self.s))\n",
    "        if additionCount < maxAdditionCount:\n",
    "            newS = [*currState]\n",
    "            for idx in range(1,len(newS), 2):\n",
    "                intChar = int(newS[idx])\n",
    "                newChar = (intChar + self.a)%10\n",
    "                newS[idx] = str(newChar)\n",
    "            newS = \"\".join(newS)\n",
    "            minStr = min(minStr, newS)\n",
    "            minStr = min(minStr, self.main(newS, additionCount+1, rotationCount))\n",
    "        if rotationCount < len(self.s):\n",
    "            newState = currState[len(currState)-self.b:]+currState[:len(currState)-self.b]\n",
    "            minStr = min(minStr, newState)\n",
    "            minStr = min(minStr, self.main(newState, additionCount, rotationCount+1))\n",
    "        return minStr\n",
    "\n",
    "    def findLexSmallestString(self, s: str, a: int, b: int) -> str:\n",
    "        self.s = s\n",
    "        self.a = a\n",
    "        self.b = b\n",
    "\n",
    "        return self.main(s, 0, 0)"
   ]
  },
  {
   "cell_type": "code",
   "execution_count": 39,
   "id": "fc560f43",
   "metadata": {},
   "outputs": [],
   "source": [
    "class Solution:\n",
    "    def findLexSmallestString(self, s: str, a: int, b: int) -> str:\n",
    "        n = len(s)\n",
    "        res = s\n",
    "        s = s + s\n",
    "        g = math.gcd(b, n)\n",
    "\n",
    "        def add(t, start):\n",
    "            original = int(t[start])\n",
    "            min_val, times = 10, 0\n",
    "            for i in range(10):\n",
    "                added = (original + i * a) % 10\n",
    "                if added < min_val:\n",
    "                    min_val = added\n",
    "                    times = i\n",
    "            t_list = list(t)\n",
    "            for i in range(start, n, 2):\n",
    "                t_list[i] = str((int(t_list[i]) + times * a) % 10)\n",
    "            return \"\".join(t_list)\n",
    "\n",
    "        for i in range(0, n, g):\n",
    "            t = s[i : i + n]\n",
    "            t = add(t, 1)\n",
    "            if b % 2:\n",
    "                t = add(t, 0)\n",
    "            if t < res:\n",
    "                res = t\n",
    "        return res"
   ]
  },
  {
   "cell_type": "code",
   "execution_count": 40,
   "id": "5e60471f",
   "metadata": {},
   "outputs": [
    {
     "name": "stdout",
     "output_type": "stream",
     "text": [
      "2050\n",
      "24\n",
      "0011\n"
     ]
    }
   ],
   "source": [
    "print(Solution().findLexSmallestString(\"5525\", 9, 2))\n",
    "print(Solution().findLexSmallestString(\"74\", 5, 1))\n",
    "print(Solution().findLexSmallestString(\"0011\", 4, 2))"
   ]
  }
 ],
 "metadata": {
  "kernelspec": {
   "display_name": "Python 3",
   "language": "python",
   "name": "python3"
  },
  "language_info": {
   "codemirror_mode": {
    "name": "ipython",
    "version": 3
   },
   "file_extension": ".py",
   "mimetype": "text/x-python",
   "name": "python",
   "nbconvert_exporter": "python",
   "pygments_lexer": "ipython3",
   "version": "3.10.11"
  }
 },
 "nbformat": 4,
 "nbformat_minor": 5
}
