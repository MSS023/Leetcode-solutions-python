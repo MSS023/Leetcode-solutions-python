{
 "cells": [
  {
   "cell_type": "code",
   "execution_count": 1,
   "metadata": {},
   "outputs": [],
   "source": [
    "class Solution:\n",
    "    def minimizeXor(self, num1: int, num2: int) -> int:\n",
    "        if num2 == 0:\n",
    "            return 0\n",
    "        def countBits(num):\n",
    "            s = \"{:0b}\".format(num)\n",
    "            return s.count(\"1\")\n",
    "                \n",
    "        count1 = countBits(num1)\n",
    "        count2 = countBits(num2)\n",
    "\n",
    "        if count1 == count2:\n",
    "            return num1\n",
    "        \n",
    "        if count1 < count2:\n",
    "            count2 -= count1\n",
    "            mul = 1\n",
    "            for i in range(count2):\n",
    "                while mul & num1 == mul:\n",
    "                    mul *= 2\n",
    "                num1 ^= mul\n",
    "                mul *= 2\n",
    "            return num1\n",
    "        \n",
    "        count1 -= count2\n",
    "        mul = 1\n",
    "        for i in range(count1):\n",
    "            while mul & num1 != mul:\n",
    "                mul *= 2\n",
    "            num1 ^= mul\n",
    "            mul *= 2\n",
    "        \n",
    "        return num1"
   ]
  }
 ],
 "metadata": {
  "kernelspec": {
   "display_name": "Python 3.10.6 64-bit",
   "language": "python",
   "name": "python3"
  },
  "language_info": {
   "codemirror_mode": {
    "name": "ipython",
    "version": 3
   },
   "file_extension": ".py",
   "mimetype": "text/x-python",
   "name": "python",
   "nbconvert_exporter": "python",
   "pygments_lexer": "ipython3",
   "version": "3.10.6"
  },
  "orig_nbformat": 4,
  "vscode": {
   "interpreter": {
    "hash": "f15627b29e15848638e903c52dd09ae6c4c9adb1719aae45dda3850ec7954c19"
   }
  }
 },
 "nbformat": 4,
 "nbformat_minor": 2
}
