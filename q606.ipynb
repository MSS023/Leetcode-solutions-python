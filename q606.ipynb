{
 "cells": [
  {
   "cell_type": "code",
   "execution_count": 1,
   "metadata": {},
   "outputs": [],
   "source": [
    "# Definition for a binary tree node.\n",
    "class TreeNode:\n",
    "    def __init__(self, val=0, left=None, right=None):\n",
    "        self.val = val\n",
    "        self.left = left\n",
    "        self.right = right"
   ]
  },
  {
   "cell_type": "code",
   "execution_count": 2,
   "metadata": {},
   "outputs": [],
   "source": [
    "from typing import *\n",
    "\n",
    "class Solution:\n",
    "    def tree2str(self, node: Optional[TreeNode]) -> str:\n",
    "        if node is None:\n",
    "            return \"\"\n",
    "        if node.left is None and node.right is None:\n",
    "            return str(node.val)\n",
    "        res = str(node.val)+\"(\"+self.tree2str(node.left)+\")\"\n",
    "        if node.right is not None:\n",
    "            res += \"(\"+self.tree2str(node.right)+\")\"\n",
    "        return res"
   ]
  },
  {
   "cell_type": "code",
   "execution_count": null,
   "metadata": {},
   "outputs": [],
   "source": [
    "class Solution:\n",
    "    def tree2str(self, node: Optional[TreeNode]) -> str:\n",
    "        if node is None:\n",
    "            return \"\"\n",
    "        left = self.tree2str(node.left)\n",
    "        right = self.tree2str(node.right)\n",
    "        if right == \"\":\n",
    "            if left == \"\":\n",
    "                return str(node.val)\n",
    "            return \"{}({})\".format(node.val,left)\n",
    "        return \"{}({})({})\".format(node.val,left,right)"
   ]
  }
 ],
 "metadata": {
  "kernelspec": {
   "display_name": "Python 3.10.6 64-bit",
   "language": "python",
   "name": "python3"
  },
  "language_info": {
   "codemirror_mode": {
    "name": "ipython",
    "version": 3
   },
   "file_extension": ".py",
   "mimetype": "text/x-python",
   "name": "python",
   "nbconvert_exporter": "python",
   "pygments_lexer": "ipython3",
   "version": "3.10.6"
  },
  "orig_nbformat": 4,
  "vscode": {
   "interpreter": {
    "hash": "f15627b29e15848638e903c52dd09ae6c4c9adb1719aae45dda3850ec7954c19"
   }
  }
 },
 "nbformat": 4,
 "nbformat_minor": 2
}
