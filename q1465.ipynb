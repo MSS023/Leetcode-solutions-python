{
 "cells": [
  {
   "cell_type": "code",
   "execution_count": 13,
   "metadata": {},
   "outputs": [],
   "source": [
    "class Solution:\n",
    "    def maxArea(self, h: int, w: int, horizontalCuts: list[int], verticalCuts: list[int]) -> int:\n",
    "        verticalCuts.sort()\n",
    "        horizontalCuts.sort()\n",
    "        widths = [verticalCuts[0]]\n",
    "        heights = [horizontalCuts[0]]\n",
    "        for i in range(1,len(verticalCuts)):\n",
    "            widths.append(verticalCuts[i]-verticalCuts[i-1])\n",
    "        widths.append(w-verticalCuts[-1])\n",
    "        for i in range(1,len(horizontalCuts)):\n",
    "            heights.append(horizontalCuts[i]-horizontalCuts[i-1])\n",
    "        heights.append(h-horizontalCuts[-1])\n",
    "        return (max(heights)*max(widths))%(7+10**9)"
   ]
  },
  {
   "cell_type": "code",
   "execution_count": 14,
   "metadata": {},
   "outputs": [
    {
     "data": {
      "text/plain": [
       "4"
      ]
     },
     "execution_count": 14,
     "metadata": {},
     "output_type": "execute_result"
    }
   ],
   "source": [
    "Solution().maxArea(3,6,[2],[5,3,1])"
   ]
  }
 ],
 "metadata": {
  "kernelspec": {
   "display_name": "Python 3.10.2 64-bit",
   "language": "python",
   "name": "python3"
  },
  "language_info": {
   "codemirror_mode": {
    "name": "ipython",
    "version": 3
   },
   "file_extension": ".py",
   "mimetype": "text/x-python",
   "name": "python",
   "nbconvert_exporter": "python",
   "pygments_lexer": "ipython3",
   "version": "3.10.2"
  },
  "orig_nbformat": 4,
  "vscode": {
   "interpreter": {
    "hash": "7fa5c2bbde354df5fb32f89863fd9628b3718657b842099e0733f1c707419bc4"
   }
  }
 },
 "nbformat": 4,
 "nbformat_minor": 2
}
