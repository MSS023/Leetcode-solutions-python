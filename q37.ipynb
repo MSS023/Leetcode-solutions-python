{
 "cells": [
  {
   "cell_type": "code",
   "execution_count": 1,
   "metadata": {},
   "outputs": [],
   "source": [
    "from typing import *"
   ]
  },
  {
   "cell_type": "code",
   "execution_count": 36,
   "metadata": {},
   "outputs": [],
   "source": [
    "class Solution:\n",
    "    def solveSudoku(self, board: List[List[str]]) -> None:\n",
    "        def checkNumValid(board, r, c, num):\n",
    "            rBase = r//3\n",
    "            cBase = c//3\n",
    "            if num in board[r]:\n",
    "                return False\n",
    "            if num in [x[c] for x in board]:\n",
    "                return False\n",
    "            for rOffset in range(3):\n",
    "                for cOffset in range(3):\n",
    "                    if board[rBase*3+rOffset][cBase*3+cOffset] == num:\n",
    "                        return False\n",
    "            return True\n",
    "        \n",
    "        def solve(board):\n",
    "            for r in range(9):\n",
    "                for c in range(9):\n",
    "                    if board[r][c] != '.':\n",
    "                        continue\n",
    "                    for num in range(1,10):\n",
    "                        if checkNumValid(board,r,c,str(num)):\n",
    "                            board[r][c] = str(num)\n",
    "                            if solve(board):\n",
    "                                return True\n",
    "                    board[r][c] = '.'\n",
    "                    return False\n",
    "            return True\n",
    "        return solve(board)"
   ]
  },
  {
   "cell_type": "code",
   "execution_count": 37,
   "metadata": {},
   "outputs": [],
   "source": [
    "Solution().solveSudoku(board = [[\"5\",\"3\",\".\",\".\",\"7\",\".\",\".\",\".\",\".\"],[\"6\",\".\",\".\",\"1\",\"9\",\"5\",\".\",\".\",\".\"],[\".\",\"9\",\"8\",\".\",\".\",\".\",\".\",\"6\",\".\"],[\"8\",\".\",\".\",\".\",\"6\",\".\",\".\",\".\",\"3\"],[\"4\",\".\",\".\",\"8\",\".\",\"3\",\".\",\".\",\"1\"],[\"7\",\".\",\".\",\".\",\"2\",\".\",\".\",\".\",\"6\"],[\".\",\"6\",\".\",\".\",\".\",\".\",\"2\",\"8\",\".\"],[\".\",\".\",\".\",\"4\",\"1\",\"9\",\".\",\".\",\"5\"],[\".\",\".\",\".\",\".\",\"8\",\".\",\".\",\"7\",\"9\"]])"
   ]
  }
 ],
 "metadata": {
  "kernelspec": {
   "display_name": "Python 3",
   "language": "python",
   "name": "python3"
  },
  "language_info": {
   "codemirror_mode": {
    "name": "ipython",
    "version": 3
   },
   "file_extension": ".py",
   "mimetype": "text/x-python",
   "name": "python",
   "nbconvert_exporter": "python",
   "pygments_lexer": "ipython3",
   "version": "3.11.5"
  },
  "orig_nbformat": 4
 },
 "nbformat": 4,
 "nbformat_minor": 2
}
