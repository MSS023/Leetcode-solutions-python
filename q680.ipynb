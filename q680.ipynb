{
 "cells": [
  {
   "cell_type": "code",
   "execution_count": 52,
   "metadata": {},
   "outputs": [
    {
     "name": "stdout",
     "output_type": "stream",
     "text": [
      "ecce ecce 0 4\n"
     ]
    },
    {
     "data": {
      "text/plain": [
       "True"
      ]
     },
     "execution_count": 52,
     "metadata": {},
     "output_type": "execute_result"
    }
   ],
   "source": [
    "class Solution:\n",
    "    def validPalindrome(self, s: str) -> bool:\n",
    "        index1=0\n",
    "        index2=len(s)-1\n",
    "        while index1<len(s) and s[index1]==s[index2]:\n",
    "            index1+=1\n",
    "            index2-=1\n",
    "        temp=s[index1+1:index2+1]\n",
    "        if temp==temp[::-1]:\n",
    "            return True\n",
    "        temp=s[index1:index2]\n",
    "        if temp==temp[::-1]:\n",
    "            return True\n",
    "        return False\n",
    "\n",
    "sol=Solution()\n",
    "sol.validPalindrome(input())"
   ]
  }
 ],
 "metadata": {
  "interpreter": {
   "hash": "84c7cd761066ce45b8a789f7b09f72a3209628e136df7af6e1c369b4f2245113"
  },
  "kernelspec": {
   "display_name": "Python 3.10.2 64-bit",
   "language": "python",
   "name": "python3"
  },
  "language_info": {
   "codemirror_mode": {
    "name": "ipython",
    "version": 3
   },
   "file_extension": ".py",
   "mimetype": "text/x-python",
   "name": "python",
   "nbconvert_exporter": "python",
   "pygments_lexer": "ipython3",
   "version": "3.10.2"
  },
  "orig_nbformat": 4
 },
 "nbformat": 4,
 "nbformat_minor": 2
}
