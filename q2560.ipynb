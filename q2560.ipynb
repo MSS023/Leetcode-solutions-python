{
 "cells": [
  {
   "cell_type": "code",
   "execution_count": null,
   "metadata": {},
   "outputs": [],
   "source": [
    "from typing import *"
   ]
  },
  {
   "cell_type": "code",
   "execution_count": 2,
   "metadata": {},
   "outputs": [],
   "source": [
    "class Solution(object):\n",
    "    def canRob(self, nums, mid, k):\n",
    "        count = 0\n",
    "        n = len(nums)\n",
    "        i = 0\n",
    "        while i < n:\n",
    "            if nums[i] <= mid:\n",
    "                count += 1\n",
    "                i += 1\n",
    "            i += 1\n",
    "        return count >= k\n",
    "\n",
    "    def minCapability(self, nums, k):\n",
    "        left, right = 1, max(nums)\n",
    "        ans = right\n",
    "        while left <= right:\n",
    "            mid = (left + right) // 2\n",
    "            if self.canRob(nums, mid, k):\n",
    "                ans = mid\n",
    "                right = mid - 1\n",
    "            else:\n",
    "                left = mid + 1\n",
    "        return ans"
   ]
  },
  {
   "cell_type": "code",
   "execution_count": 3,
   "metadata": {},
   "outputs": [
    {
     "name": "stdout",
     "output_type": "stream",
     "text": [
      "5\n"
     ]
    }
   ],
   "source": [
    "print(Solution().minCapability([2,3,5,9],2))"
   ]
  }
 ],
 "metadata": {
  "kernelspec": {
   "display_name": "Python 3",
   "language": "python",
   "name": "python3"
  },
  "language_info": {
   "codemirror_mode": {
    "name": "ipython",
    "version": 3
   },
   "file_extension": ".py",
   "mimetype": "text/x-python",
   "name": "python",
   "nbconvert_exporter": "python",
   "pygments_lexer": "ipython3",
   "version": "3.10.11"
  }
 },
 "nbformat": 4,
 "nbformat_minor": 2
}
