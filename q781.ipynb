{
 "cells": [
  {
   "cell_type": "code",
   "execution_count": 1,
   "id": "366ea6df",
   "metadata": {},
   "outputs": [],
   "source": [
    "from typing import *"
   ]
  },
  {
   "cell_type": "code",
   "execution_count": 10,
   "id": "a2c59028",
   "metadata": {},
   "outputs": [],
   "source": [
    "class Solution:\n",
    "    def numRabbits(self, answers: List[int]) -> int:\n",
    "        answers.sort()\n",
    "        answers = [num+1 for num in answers]\n",
    "\n",
    "        lastCount = None\n",
    "        lastAnswer = None\n",
    "        result = 0\n",
    "        for num in answers:\n",
    "            if lastAnswer != num or lastCount == lastAnswer:\n",
    "                lastAnswer = num\n",
    "                lastCount = 1\n",
    "                result += num\n",
    "                continue\n",
    "            \n",
    "            lastCount += 1\n",
    "        \n",
    "        return result"
   ]
  },
  {
   "cell_type": "code",
   "execution_count": 11,
   "id": "aa945700",
   "metadata": {},
   "outputs": [
    {
     "name": "stdout",
     "output_type": "stream",
     "text": [
      "5\n",
      "11\n",
      "27\n",
      "8\n"
     ]
    }
   ],
   "source": [
    "print(Solution().numRabbits([1,1,2]))\n",
    "print(Solution().numRabbits([10,10,10]))\n",
    "print(Solution().numRabbits([1,2,3,4,5,6]))\n",
    "print(Solution().numRabbits([1,1,1,1,1,1,1]))"
   ]
  }
 ],
 "metadata": {
  "kernelspec": {
   "display_name": "Python 3",
   "language": "python",
   "name": "python3"
  },
  "language_info": {
   "codemirror_mode": {
    "name": "ipython",
    "version": 3
   },
   "file_extension": ".py",
   "mimetype": "text/x-python",
   "name": "python",
   "nbconvert_exporter": "python",
   "pygments_lexer": "ipython3",
   "version": "3.10.11"
  }
 },
 "nbformat": 4,
 "nbformat_minor": 5
}
