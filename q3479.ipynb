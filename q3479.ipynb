{
 "cells": [
  {
   "cell_type": "code",
   "execution_count": 9,
   "id": "41d24237",
   "metadata": {},
   "outputs": [],
   "source": [
    "from typing import *"
   ]
  },
  {
   "cell_type": "code",
   "execution_count": 16,
   "id": "a727ac4d",
   "metadata": {},
   "outputs": [],
   "source": [
    "class Solution:\n",
    "    def findBasket(self, baskets: List[Tuple[int, int]], value: int) -> int:\n",
    "        l,r = 0, len(baskets)-1\n",
    "        m = (l+r)//2\n",
    "        while l <= r:\n",
    "            m = (l+r)//2\n",
    "            basket, _ = baskets[m]\n",
    "            if basket < value:\n",
    "                l = m+1\n",
    "                continue\n",
    "            r = m - 1\n",
    "        \n",
    "        if l > r:\n",
    "            return l\n",
    "        return m\n",
    "\n",
    "    def numOfUnplacedFruits(self, fruits: List[int], baskets: List[int]) -> int:\n",
    "        baskets_id = sorted([(baskets[idx], idx) for idx in range(len(baskets))])\n",
    "        count = 0\n",
    "        for fruit in fruits:\n",
    "            basketIdx = self.findBasket(baskets_id, fruit)\n",
    "            if basketIdx < len(baskets) and baskets[basketIdx] >= fruit:\n",
    "                baskets_id.pop(basketIdx)\n",
    "                count += 1\n",
    "        return len(fruits) - count"
   ]
  },
  {
   "cell_type": "code",
   "execution_count": 18,
   "id": "519690eb",
   "metadata": {},
   "outputs": [
    {
     "name": "stdout",
     "output_type": "stream",
     "text": [
      "1\n",
      "0\n"
     ]
    }
   ],
   "source": [
    "print(Solution().numOfUnplacedFruits(fruits = [4,2,5], baskets = [3,5,4]))\n",
    "print(Solution().numOfUnplacedFruits(fruits = [3,6,1], baskets = [6,4,7]))"
   ]
  }
 ],
 "metadata": {
  "kernelspec": {
   "display_name": "Python 3",
   "language": "python",
   "name": "python3"
  },
  "language_info": {
   "codemirror_mode": {
    "name": "ipython",
    "version": 3
   },
   "file_extension": ".py",
   "mimetype": "text/x-python",
   "name": "python",
   "nbconvert_exporter": "python",
   "pygments_lexer": "ipython3",
   "version": "3.10.11"
  }
 },
 "nbformat": 4,
 "nbformat_minor": 5
}
