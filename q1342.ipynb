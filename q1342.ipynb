{
 "cells": [
  {
   "cell_type": "code",
   "execution_count": null,
   "metadata": {},
   "outputs": [],
   "source": [
    "class Solution:\n",
    "    def numberOfSteps(self, num: int) -> int:\n",
    "        if num==0:\n",
    "            return 0\n",
    "        if num%2==0:\n",
    "            return 1+self.numberOfSteps(num//2)\n",
    "        return 1+self.numberOfSteps(num-1)"
   ]
  }
 ],
 "metadata": {
  "language_info": {
   "name": "python"
  },
  "orig_nbformat": 4
 },
 "nbformat": 4,
 "nbformat_minor": 2
}
