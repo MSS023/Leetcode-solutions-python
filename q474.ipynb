{
 "cells": [
  {
   "cell_type": "code",
   "execution_count": null,
   "metadata": {},
   "outputs": [],
   "source": [
    "class Solution:\n",
    "    def findMaxForm(self, strs: List[str], m: int, n: int) -> int:\n",
    "        counter=[[s.count(\"0\"), s.count(\"1\")] for s in strs]\n",
    "        \n",
    "        @cache\n",
    "        def dp(i,j,idx):\n",
    "            if i<0 or j<0:\n",
    "                return -math.inf\n",
    "            \n",
    "            if idx==len(strs):\n",
    "                return 0\n",
    "            \n",
    "            return max(dp(i,j,idx+1), 1 + dp(i-counter[idx][0], j-counter[idx][1], idx+1))\n",
    "        return dp(m,n,0)"
   ]
  }
 ],
 "metadata": {
  "language_info": {
   "name": "python"
  },
  "orig_nbformat": 4
 },
 "nbformat": 4,
 "nbformat_minor": 2
}
