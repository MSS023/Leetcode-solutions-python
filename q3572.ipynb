{
 "cells": [
  {
   "cell_type": "code",
   "execution_count": 1,
   "id": "4d815abd",
   "metadata": {},
   "outputs": [],
   "source": [
    "from typing import *"
   ]
  },
  {
   "cell_type": "code",
   "execution_count": 2,
   "id": "611c5914",
   "metadata": {},
   "outputs": [],
   "source": [
    "class Solution:\n",
    "    def maxSumDistinctTriplet(self, x: List[int], y: List[int]) -> int:\n",
    "        x_map_y = {}\n",
    "        for nx, ny in zip(x,y):\n",
    "            if nx not in x_map_y:\n",
    "                x_map_y[nx] = 0\n",
    "            x_map_y[nx] = max(x_map_y[nx], ny)\n",
    "\n",
    "        if len(x_map_y) < 3:\n",
    "            return -1\n",
    "        values = sorted(x_map_y.values())\n",
    "        return values[-1]+values[-2]+values[-3]"
   ]
  },
  {
   "cell_type": "code",
   "execution_count": 3,
   "id": "cf1e458d",
   "metadata": {},
   "outputs": [
    {
     "name": "stdout",
     "output_type": "stream",
     "text": [
      "14\n",
      "-1\n"
     ]
    }
   ],
   "source": [
    "print(Solution().maxSumDistinctTriplet(x=[1, 2, 1, 3, 2], y=[5, 3, 4, 6, 2]))\n",
    "print(Solution().maxSumDistinctTriplet(x=[1, 2, 1, 2], y=[4, 5, 6, 7]))"
   ]
  }
 ],
 "metadata": {
  "kernelspec": {
   "display_name": "Python 3",
   "language": "python",
   "name": "python3"
  },
  "language_info": {
   "codemirror_mode": {
    "name": "ipython",
    "version": 3
   },
   "file_extension": ".py",
   "mimetype": "text/x-python",
   "name": "python",
   "nbconvert_exporter": "python",
   "pygments_lexer": "ipython3",
   "version": "3.10.11"
  }
 },
 "nbformat": 4,
 "nbformat_minor": 5
}
