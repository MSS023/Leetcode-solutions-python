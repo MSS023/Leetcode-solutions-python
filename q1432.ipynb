{
 "cells": [
  {
   "cell_type": "code",
   "execution_count": 2,
   "id": "e35b8206",
   "metadata": {},
   "outputs": [],
   "source": [
    "from typing import *"
   ]
  },
  {
   "cell_type": "code",
   "execution_count": 11,
   "id": "2bf69f5a",
   "metadata": {},
   "outputs": [],
   "source": [
    "class Solution:\n",
    "    def maxDiff(self, num: int) -> int:\n",
    "        strNum = str(num)\n",
    "\n",
    "        maxm = 0\n",
    "        for num1 in range(10):\n",
    "            if str(num1) not in strNum:\n",
    "                continue\n",
    "            for rep1 in range(10):\n",
    "                a = int(strNum.replace(str(num1), str(rep1)))\n",
    "                if len(str(a)) != len(strNum):\n",
    "                    continue\n",
    "                for num2 in range(10):\n",
    "                    if str(num2) not in strNum:\n",
    "                        continue\n",
    "                    for rep2 in range(10):\n",
    "                        b = int(strNum.replace(str(num2), str(rep2)))\n",
    "                        if len(str(b)) != len(strNum):\n",
    "                            continue\n",
    "\n",
    "                        maxm = max(maxm, b-a)\n",
    "            \n",
    "        return maxm                "
   ]
  },
  {
   "cell_type": "code",
   "execution_count": 13,
   "id": "8ad2d439",
   "metadata": {},
   "outputs": [],
   "source": [
    "class Solution:\n",
    "    def maxDiff(self, num: int) -> int:\n",
    "        strNum = str(num)\n",
    "        if strNum[0] != \"9\":\n",
    "            a = int(strNum.replace(strNum[0], \"9\"))\n",
    "        else:\n",
    "            for ch in strNum[1:]:\n",
    "                if ch != \"9\":\n",
    "                    a = int(strNum.replace(ch, \"9\"))\n",
    "                    break\n",
    "                a = num\n",
    "        if strNum[0] != \"1\":\n",
    "            b = int(strNum.replace(strNum[0], \"1\"))\n",
    "        else:\n",
    "            for ch in strNum[1:]:\n",
    "                if ch not in {\"0\", \"1\"}:\n",
    "                    b = int(strNum.replace(ch, \"0\"))\n",
    "                    break\n",
    "                b = num\n",
    "        \n",
    "        return abs(a-b)"
   ]
  },
  {
   "cell_type": "code",
   "execution_count": 14,
   "id": "71164022",
   "metadata": {},
   "outputs": [
    {
     "name": "stdout",
     "output_type": "stream",
     "text": [
      "888\n"
     ]
    }
   ],
   "source": [
    "print(Solution().maxDiff(555))"
   ]
  }
 ],
 "metadata": {
  "kernelspec": {
   "display_name": "Python 3",
   "language": "python",
   "name": "python3"
  },
  "language_info": {
   "codemirror_mode": {
    "name": "ipython",
    "version": 3
   },
   "file_extension": ".py",
   "mimetype": "text/x-python",
   "name": "python",
   "nbconvert_exporter": "python",
   "pygments_lexer": "ipython3",
   "version": "3.10.11"
  }
 },
 "nbformat": 4,
 "nbformat_minor": 5
}
