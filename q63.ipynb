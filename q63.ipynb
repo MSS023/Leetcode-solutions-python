{
 "cells": [
  {
   "cell_type": "code",
   "execution_count": 17,
   "metadata": {},
   "outputs": [],
   "source": [
    "class Solution:\n",
    "    def uniquePathsWithObstacles(self, obstacleGrid: list[list[int]]) -> int:\n",
    "        if obstacleGrid[-1][-1]==1 or obstacleGrid[0][0]==1:\n",
    "            return 0\n",
    "        def countPaths(grid,px,py,ex,ey):\n",
    "            if (px,py)==(ex,ey):\n",
    "                return 1\n",
    "            if grid[px][py]==1:\n",
    "                return 0\n",
    "            count=0\n",
    "            if px<len(grid)-1:\n",
    "                count+=countPaths(grid,px+1,py,ex,ey)\n",
    "            if py<len(grid[0])-1:\n",
    "                count+=countPaths(grid,px,py+1,ex,ey)\n",
    "            return count\n",
    "        return countPaths(obstacleGrid,0,0,len(obstacleGrid)-1,len(obstacleGrid[0])-1)"
   ]
  },
  {
   "cell_type": "code",
   "execution_count": 22,
   "metadata": {},
   "outputs": [],
   "source": [
    "class Solution:\n",
    "    def uniquePathsWithObstacles(self, obstacleGrid: list[list[int]]) -> int:\n",
    "        if obstacleGrid[-1][-1]==1 or obstacleGrid[0][0]==1:\n",
    "            return 0\n",
    "        m=len(obstacleGrid)\n",
    "        n=len(obstacleGrid[0])\n",
    "        dp=[[0]*n for _ in range(m)]\n",
    "        dp[0][0]=1\n",
    "        for i in range(m):\n",
    "            for j in range(n):\n",
    "                if i==0 and j==0:\n",
    "                    continue\n",
    "                if obstacleGrid[i][j]==1:\n",
    "                    continue\n",
    "                temp=0\n",
    "                if i>0:\n",
    "                    temp+=dp[i-1][j]\n",
    "                if j>0:\n",
    "                    temp+=dp[i][j-1]\n",
    "                dp[i][j]=temp\n",
    "        return dp[-1][-1]"
   ]
  },
  {
   "cell_type": "code",
   "execution_count": 23,
   "metadata": {},
   "outputs": [
    {
     "data": {
      "text/plain": [
       "0"
      ]
     },
     "execution_count": 23,
     "metadata": {},
     "output_type": "execute_result"
    }
   ],
   "source": [
    "Solution().uniquePathsWithObstacles([[0,0],[0,1]])"
   ]
  }
 ],
 "metadata": {
  "interpreter": {
   "hash": "7fa5c2bbde354df5fb32f89863fd9628b3718657b842099e0733f1c707419bc4"
  },
  "kernelspec": {
   "display_name": "Python 3.10.2 64-bit",
   "language": "python",
   "name": "python3"
  },
  "language_info": {
   "codemirror_mode": {
    "name": "ipython",
    "version": 3
   },
   "file_extension": ".py",
   "mimetype": "text/x-python",
   "name": "python",
   "nbconvert_exporter": "python",
   "pygments_lexer": "ipython3",
   "version": "3.10.2"
  },
  "orig_nbformat": 4
 },
 "nbformat": 4,
 "nbformat_minor": 2
}
