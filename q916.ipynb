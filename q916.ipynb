{
 "cells": [
  {
   "cell_type": "code",
   "execution_count": 2,
   "metadata": {},
   "outputs": [],
   "source": [
    "from collections import Counter\n",
    "\n",
    "class Solution:\n",
    "    def wordSubsets(self, words1: list[str], words2: list[str]) -> list[str]:\n",
    "        memo = {}\n",
    "        for word in words2:\n",
    "            count = Counter(word)\n",
    "            for j in count:\n",
    "                if j in memo and memo[j]>=count[j]:\n",
    "                    continue\n",
    "                memo[j] = count[j]\n",
    "        res = []\n",
    "        for word in words1:\n",
    "            count = Counter(word)\n",
    "            flag = True\n",
    "            for i in memo:\n",
    "                if i not in count or count[i] < memo[i]:\n",
    "                    flag = False\n",
    "                    break\n",
    "            if flag:\n",
    "                res.append(word)\n",
    "        return res"
   ]
  }
 ],
 "metadata": {
  "kernelspec": {
   "display_name": "Python 3.10.5 64-bit",
   "language": "python",
   "name": "python3"
  },
  "language_info": {
   "codemirror_mode": {
    "name": "ipython",
    "version": 3
   },
   "file_extension": ".py",
   "mimetype": "text/x-python",
   "name": "python",
   "nbconvert_exporter": "python",
   "pygments_lexer": "ipython3",
   "version": "3.10.5"
  },
  "orig_nbformat": 4,
  "vscode": {
   "interpreter": {
    "hash": "f15627b29e15848638e903c52dd09ae6c4c9adb1719aae45dda3850ec7954c19"
   }
  }
 },
 "nbformat": 4,
 "nbformat_minor": 2
}
