{
 "cells": [
  {
   "cell_type": "code",
   "execution_count": 1,
   "metadata": {},
   "outputs": [],
   "source": [
    "from typing import *"
   ]
  },
  {
   "cell_type": "code",
   "execution_count": 2,
   "metadata": {},
   "outputs": [],
   "source": [
    "class Solution:\n",
    "    def areAlmostEqual(self, s1: str, s2: str) -> bool:\n",
    "        if s1 == s2:\n",
    "            return True\n",
    "\n",
    "        if len(s1) != len(s2):\n",
    "            return False\n",
    "\n",
    "        diff = 0\n",
    "        maps = []\n",
    "        for ch1, ch2 in zip(s1, s2):\n",
    "            if ch1 != ch2:\n",
    "                diff += 1\n",
    "                maps.append([ch1, ch2])\n",
    "\n",
    "            if diff > 2:\n",
    "                return False\n",
    "\n",
    "        if diff < 2:\n",
    "            return False\n",
    "\n",
    "        if maps[0][0] != maps[1][1] or maps[0][1] != maps[1][0]:\n",
    "            return False\n",
    "        return True"
   ]
  },
  {
   "cell_type": "code",
   "execution_count": 3,
   "metadata": {},
   "outputs": [
    {
     "name": "stdout",
     "output_type": "stream",
     "text": [
      "True\n",
      "False\n"
     ]
    }
   ],
   "source": [
    "print(Solution().areAlmostEqual(\"bank\",\"kanb\"))\n",
    "print(Solution().areAlmostEqual(\"attack\",\"defend\"))"
   ]
  }
 ],
 "metadata": {
  "kernelspec": {
   "display_name": "Python 3",
   "language": "python",
   "name": "python3"
  },
  "language_info": {
   "codemirror_mode": {
    "name": "ipython",
    "version": 3
   },
   "file_extension": ".py",
   "mimetype": "text/x-python",
   "name": "python",
   "nbconvert_exporter": "python",
   "pygments_lexer": "ipython3",
   "version": "3.13.2"
  }
 },
 "nbformat": 4,
 "nbformat_minor": 2
}
