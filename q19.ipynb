{
 "cells": [
  {
   "cell_type": "code",
   "execution_count": null,
   "metadata": {},
   "outputs": [],
   "source": [
    "# Definition for singly-linked list.\n",
    "# class ListNode:\n",
    "#     def __init__(self, val=0, next=None):\n",
    "#         self.val = val\n",
    "#         self.next = next\n",
    "class Solution:\n",
    "    def removeNthFromEnd(self, head: Optional[ListNode], n: int) -> Optional[ListNode]:\n",
    "        temp=head\n",
    "        arr=[]\n",
    "        while temp is not None:\n",
    "            arr.append(temp)\n",
    "            temp=temp.next\n",
    "        negIndex=-n\n",
    "        if negIndex==-len(arr):\n",
    "            head=head.next\n",
    "        else:\n",
    "            arr[negIndex-1].next=arr[negIndex].next\n",
    "        return head"
   ]
  }
 ],
 "metadata": {
  "language_info": {
   "name": "python"
  },
  "orig_nbformat": 4
 },
 "nbformat": 4,
 "nbformat_minor": 2
}
