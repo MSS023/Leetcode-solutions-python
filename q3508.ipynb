{
 "cells": [
  {
   "cell_type": "code",
   "execution_count": 3,
   "id": "2efa03f8",
   "metadata": {},
   "outputs": [],
   "source": [
    "from typing import *\n",
    "from collections import deque\n",
    "import bisect"
   ]
  },
  {
   "cell_type": "code",
   "execution_count": null,
   "id": "8c30d4df",
   "metadata": {},
   "outputs": [],
   "source": [
    "class Router:\n",
    "\n",
    "    def __init__(self, memoryLimit: int):\n",
    "        self.m = memoryLimit\n",
    "        self.queue = deque([], memoryLimit)\n",
    "        self.destinationMap = {}\n",
    "        self.destinationTimeMap = {}\n",
    "\n",
    "    def addPacket(self, source: int, destination: int, timestamp: int) -> bool:\n",
    "        if destination not in self.destinationMap:\n",
    "            self.destinationMap[destination] = []\n",
    "            self.destinationTimeMap[destination] = []\n",
    "        idx = bisect.bisect_left(self.destinationMap[destination], (timestamp, source))\n",
    "        if idx in range(len(self.destinationMap[destination])) and self.destinationMap[destination][idx] == (timestamp, source):\n",
    "            return False\n",
    "        if len(self.queue) == self.m:\n",
    "            self.forwardPacket()\n",
    "        bisect.insort(self.destinationMap[destination], (timestamp, source))\n",
    "        self.destinationTimeMap[destination].append(timestamp)\n",
    "        self.queue.append((source,destination,timestamp))\n",
    "        return True\n",
    "\n",
    "    def forwardPacket(self) -> List[int]:\n",
    "        if len(self.queue) == 0:\n",
    "            return []\n",
    "        s,d,t = self.queue.popleft()\n",
    "        idx = bisect.bisect_left(self.destinationMap[d], (t,s))\n",
    "        self.destinationMap[d].pop(idx)\n",
    "        idx2 = bisect.bisect_left(self.destinationTimeMap[d], t)\n",
    "        self.destinationTimeMap[d].pop(idx2)\n",
    "        return (s,d,t)\n",
    "\n",
    "    def getCount(self, destination: int, startTime: int, endTime: int) -> int:\n",
    "        if destination not in self.destinationTimeMap:\n",
    "            return 0\n",
    "        packets = self.destinationTimeMap[destination]\n",
    "        idx1 = bisect.bisect_left(packets, startTime)\n",
    "        idx2 = bisect.bisect_right(packets, endTime)\n",
    "        return idx2-idx1\n",
    "\n",
    "\n",
    "# Your Router object will be instantiated and called as such:\n",
    "# obj = Router(memoryLimit)\n",
    "# param_1 = obj.addPacket(source,destination,timestamp)\n",
    "# param_2 = obj.forwardPacket()\n",
    "# param_3 = obj.getCount(destination,startTime,endTime)"
   ]
  },
  {
   "cell_type": "code",
   "execution_count": 11,
   "id": "173d3fd8",
   "metadata": {},
   "outputs": [
    {
     "name": "stdout",
     "output_type": "stream",
     "text": [
      "True\n",
      "True\n",
      "False\n",
      "True\n",
      "True\n",
      "(2, 5, 90)\n",
      "True\n",
      "1\n"
     ]
    }
   ],
   "source": [
    "obj = Router(3)\n",
    "print(obj.addPacket(1,4,90))\n",
    "print(obj.addPacket(2,5,90))\n",
    "print(obj.addPacket(1,4,90))\n",
    "print(obj.addPacket(3,5,95))\n",
    "print(obj.addPacket(4,5,105))\n",
    "print(obj.forwardPacket())\n",
    "print(obj.addPacket(5,2,110))\n",
    "print(obj.getCount(5,100,110))"
   ]
  }
 ],
 "metadata": {
  "kernelspec": {
   "display_name": "Python 3",
   "language": "python",
   "name": "python3"
  },
  "language_info": {
   "codemirror_mode": {
    "name": "ipython",
    "version": 3
   },
   "file_extension": ".py",
   "mimetype": "text/x-python",
   "name": "python",
   "nbconvert_exporter": "python",
   "pygments_lexer": "ipython3",
   "version": "3.10.11"
  }
 },
 "nbformat": 4,
 "nbformat_minor": 5
}
