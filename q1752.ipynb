{
 "cells": [
  {
   "cell_type": "code",
   "execution_count": 1,
   "metadata": {},
   "outputs": [],
   "source": [
    "from typing import *"
   ]
  },
  {
   "cell_type": "code",
   "execution_count": 50,
   "metadata": {},
   "outputs": [],
   "source": [
    "class Solution:\n",
    "    def check(self, nums: List[int]) -> bool:\n",
    "        ltIdx = 0\n",
    "        n = len(nums)\n",
    "        for idx in range(1, n):\n",
    "            if nums[idx] < nums[idx-1]:\n",
    "                break\n",
    "            ltIdx = idx\n",
    "\n",
    "        print(ltIdx)\n",
    "        \n",
    "        for idx in range(ltIdx+1, n):\n",
    "            if nums[idx] > nums[0] or (idx < n-1 and nums[idx] > nums[idx+1]):\n",
    "                return False\n",
    "            \n",
    "        return True"
   ]
  },
  {
   "cell_type": "code",
   "execution_count": 51,
   "metadata": {},
   "outputs": [
    {
     "name": "stdout",
     "output_type": "stream",
     "text": [
      "2\n",
      "True\n",
      "0\n",
      "False\n",
      "2\n",
      "True\n",
      "1\n",
      "False\n"
     ]
    }
   ],
   "source": [
    "print(Solution().check([3,4,5,1,2]))\n",
    "print(Solution().check([2,1,3,4]))\n",
    "print(Solution().check([1,2,3]))\n",
    "print(Solution().check([1,3,2]))"
   ]
  }
 ],
 "metadata": {
  "kernelspec": {
   "display_name": "Python 3",
   "language": "python",
   "name": "python3"
  },
  "language_info": {
   "codemirror_mode": {
    "name": "ipython",
    "version": 3
   },
   "file_extension": ".py",
   "mimetype": "text/x-python",
   "name": "python",
   "nbconvert_exporter": "python",
   "pygments_lexer": "ipython3",
   "version": "3.13.1"
  }
 },
 "nbformat": 4,
 "nbformat_minor": 2
}
