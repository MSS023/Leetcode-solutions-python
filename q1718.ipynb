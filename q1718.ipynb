{
 "cells": [
  {
   "cell_type": "code",
   "execution_count": 77,
   "metadata": {},
   "outputs": [],
   "source": [
    "from typing import *"
   ]
  },
  {
   "cell_type": "code",
   "execution_count": null,
   "metadata": {},
   "outputs": [],
   "source": [
    "class Solution:\n",
    "    def setMemo(self):\n",
    "        self.memo = max(self.memo, self.result.copy())\n",
    "\n",
    "    def main(self, currNum: int) -> bool:\n",
    "        if currNum == 1:\n",
    "            for idx in range(self.totalCount):\n",
    "                if self.result[idx] is None:\n",
    "                    self.result[idx] = 1\n",
    "                    self.setMemo()\n",
    "                    self.result[idx] = None\n",
    "                    break\n",
    "        for idx in range(self.totalCount - currNum):\n",
    "            if self.result[idx] is not None or self.result[idx+currNum] is not None:\n",
    "                continue\n",
    "\n",
    "            self.result[idx] = currNum\n",
    "            self.result[idx+currNum] = currNum\n",
    "\n",
    "            self.main(currNum - 1)\n",
    "\n",
    "            self.result[idx] = None\n",
    "            self.result[idx+currNum] = None\n",
    "\n",
    "        return False\n",
    "\n",
    "    def constructDistancedSequence(self, n: int) -> List[int]:\n",
    "        totalCount = 2*n-1\n",
    "        result = [None]*totalCount\n",
    "        self.result = result\n",
    "        self.totalCount = totalCount\n",
    "        self.memo = [1] + [str(idx) for _ in range(2) for idx in range(n)]\n",
    "        self.main(n)\n",
    "        return self.memo"
   ]
  },
  {
   "cell_type": "code",
   "execution_count": 91,
   "metadata": {},
   "outputs": [
    {
     "name": "stdout",
     "output_type": "stream",
     "text": [
      "[3, 1, 2, 3, 2]\n",
      "[5, 3, 1, 4, 3, 5, 2, 4, 2]\n",
      "[6, 4, 2, 5, 2, 4, 6, 3, 5, 1, 3]\n",
      "[7, 5, 3, 6, 4, 3, 5, 7, 4, 6, 2, 1, 2]\n"
     ]
    }
   ],
   "source": [
    "print(Solution().constructDistancedSequence(3))\n",
    "print(Solution().constructDistancedSequence(5))\n",
    "print(Solution().constructDistancedSequence(6))\n",
    "print(Solution().constructDistancedSequence(7))"
   ]
  }
 ],
 "metadata": {
  "kernelspec": {
   "display_name": "Python 3",
   "language": "python",
   "name": "python3"
  },
  "language_info": {
   "codemirror_mode": {
    "name": "ipython",
    "version": 3
   },
   "file_extension": ".py",
   "mimetype": "text/x-python",
   "name": "python",
   "nbconvert_exporter": "python",
   "pygments_lexer": "ipython3",
   "version": "3.13.2"
  }
 },
 "nbformat": 4,
 "nbformat_minor": 2
}
