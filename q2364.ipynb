{
 "cells": [
  {
   "cell_type": "code",
   "execution_count": 1,
   "metadata": {},
   "outputs": [],
   "source": [
    "from typing import *"
   ]
  },
  {
   "cell_type": "markdown",
   "metadata": {},
   "source": [
    "# Memory Limit Exceeded"
   ]
  },
  {
   "cell_type": "code",
   "execution_count": null,
   "metadata": {},
   "outputs": [],
   "source": [
    "class Solution:\n",
    "    def countBadPairs(self, nums: List[int]) -> int:\n",
    "        n = len(nums)\n",
    "        goodPairs = [set() for _ in range(n)]\n",
    "        badPairs = [set() for _ in range(n)]\n",
    "        for idx in range(n-2,-1,-1):\n",
    "            if nums[idx+1] - nums[idx] == 1:\n",
    "                goodPairs[idx] = goodPairs[idx].union(goodPairs[idx+1])\n",
    "                goodPairs[idx].add(idx+1)\n",
    "            else:\n",
    "                badPairs[idx] = badPairs[idx].union(goodPairs[idx+1])\n",
    "                badPairs[idx].add(idx+1)\n",
    "\n",
    "            for idx2 in badPairs[idx+1]:\n",
    "                if nums[idx2] - nums[idx] == idx2 - idx:\n",
    "                    goodPairs[idx] = goodPairs[idx].union(goodPairs[idx2])\n",
    "                    goodPairs[idx].add(idx2)\n",
    "                else:\n",
    "                    badPairs[idx].add(idx2)\n",
    "        \n",
    "        count = 0\n",
    "        for li in badPairs:\n",
    "            count += len(li)\n",
    "        return count"
   ]
  },
  {
   "cell_type": "code",
   "execution_count": 15,
   "metadata": {},
   "outputs": [],
   "source": [
    "class Solution:\n",
    "    def countBadPairs(self, nums: List[int]) -> int:\n",
    "        n = len(nums)\n",
    "        goodPairs = [set() for _ in range(n)]\n",
    "        count = 0\n",
    "        for idx in range(n-2, -1, -1):\n",
    "            temp = set()\n",
    "            if nums[idx+1] - nums[idx] == 1:\n",
    "                goodPairs[idx] = goodPairs[idx].union(goodPairs[idx+1])\n",
    "                goodPairs[idx].add(idx+1)\n",
    "            else:\n",
    "                temp = temp.union(goodPairs[idx+1])\n",
    "                temp.add(idx+1)\n",
    "\n",
    "            for idx2 in range(idx, n):\n",
    "                if idx2 in goodPairs[idx] or idx2 in temp:\n",
    "                    continue\n",
    "                if nums[idx2] - nums[idx] == idx2 - idx:\n",
    "                    goodPairs[idx] = goodPairs[idx].union(goodPairs[idx2])\n",
    "                    goodPairs[idx].add(idx2)\n",
    "                    continue\n",
    "                temp.add(idx2)\n",
    "\n",
    "            count += len(temp)\n",
    "        return count"
   ]
  },
  {
   "cell_type": "code",
   "execution_count": 16,
   "metadata": {},
   "outputs": [
    {
     "name": "stdout",
     "output_type": "stream",
     "text": [
      "5\n",
      "0\n"
     ]
    }
   ],
   "source": [
    "print(Solution().countBadPairs(nums = [4,1,3,3]))\n",
    "print(Solution().countBadPairs(nums = [1,2,3,4,5]))"
   ]
  }
 ],
 "metadata": {
  "kernelspec": {
   "display_name": "Python 3",
   "language": "python",
   "name": "python3"
  },
  "language_info": {
   "codemirror_mode": {
    "name": "ipython",
    "version": 3
   },
   "file_extension": ".py",
   "mimetype": "text/x-python",
   "name": "python",
   "nbconvert_exporter": "python",
   "pygments_lexer": "ipython3",
   "version": "3.13.2"
  }
 },
 "nbformat": 4,
 "nbformat_minor": 2
}
