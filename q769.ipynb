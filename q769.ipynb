{
 "cells": [
  {
   "cell_type": "code",
   "execution_count": 1,
   "metadata": {},
   "outputs": [],
   "source": [
    "from typing import *"
   ]
  },
  {
   "cell_type": "code",
   "execution_count": 13,
   "metadata": {},
   "outputs": [],
   "source": [
    "class Solution:\n",
    "    def maxChunksToSorted(self, arr: List[int]) -> int:\n",
    "        chunks = [{\"max\": x, \"min\": x} for x in arr]\n",
    "        shouldRun = True\n",
    "        while shouldRun:\n",
    "            idx = 1\n",
    "            shouldRun = False\n",
    "            while idx < len(chunks):\n",
    "                idx2 = idx\n",
    "                while idx2 > 0:\n",
    "\n",
    "                    chunkR = chunks[idx2]\n",
    "                    chunkL = chunks[idx2-1]\n",
    "\n",
    "                    if chunkR[\"min\"] < chunkL[\"max\"]:\n",
    "                        shouldRun = True\n",
    "\n",
    "                        newChunk = {\n",
    "                            \"min\": min(chunkL[\"min\"], chunkR[\"min\"]),\n",
    "                            \"max\": max(chunkL[\"max\"], chunkR[\"max\"])\n",
    "                        }\n",
    "\n",
    "                        chunks[idx2-1] = newChunk\n",
    "                        chunks.pop(idx2)\n",
    "                        idx2 -= 1\n",
    "                        continue\n",
    "\n",
    "                    idx = idx2\n",
    "                    break\n",
    "\n",
    "                idx += 1\n",
    "\n",
    "        return len(chunks)"
   ]
  },
  {
   "cell_type": "code",
   "execution_count": 14,
   "metadata": {},
   "outputs": [
    {
     "data": {
      "text/plain": [
       "4"
      ]
     },
     "execution_count": 14,
     "metadata": {},
     "output_type": "execute_result"
    }
   ],
   "source": [
    "Solution().maxChunksToSorted([1, 0,2,3,4])"
   ]
  }
 ],
 "metadata": {
  "kernelspec": {
   "display_name": "Python 3",
   "language": "python",
   "name": "python3"
  },
  "language_info": {
   "codemirror_mode": {
    "name": "ipython",
    "version": 3
   },
   "file_extension": ".py",
   "mimetype": "text/x-python",
   "name": "python",
   "nbconvert_exporter": "python",
   "pygments_lexer": "ipython3",
   "version": "3.13.1"
  }
 },
 "nbformat": 4,
 "nbformat_minor": 2
}
