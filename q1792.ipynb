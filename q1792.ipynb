{
 "cells": [
  {
   "cell_type": "code",
   "execution_count": 17,
   "id": "8f62d781",
   "metadata": {},
   "outputs": [],
   "source": [
    "from typing import *\n",
    "import heapq"
   ]
  },
  {
   "cell_type": "code",
   "execution_count": 18,
   "id": "c695bca5",
   "metadata": {},
   "outputs": [],
   "source": [
    "class Solution:\n",
    "    def maxAverageRatio(self, classes: List[List[int]], extraStudents: int) -> float:\n",
    "        passRation = [(num/denom - ((num+1)/(denom+1)), num, denom) for (num, denom) in classes]\n",
    "\n",
    "        heapq.heapify(passRation)\n",
    "\n",
    "        for _ in range(extraStudents):\n",
    "            pr, p, t = heapq.heappop(passRation)\n",
    "            p += 1\n",
    "            t += 1\n",
    "            heapq.heappush(passRation, (p/t - (p+1)/(t+1), p, t))\n",
    "\n",
    "        return sum([p/t for (_,p,t) in passRation ])/len(passRation)"
   ]
  },
  {
   "cell_type": "code",
   "execution_count": 20,
   "id": "ae0c7c51",
   "metadata": {},
   "outputs": [
    {
     "name": "stdout",
     "output_type": "stream",
     "text": [
      "0.7833333333333333\n",
      "0.5348484848484848\n"
     ]
    }
   ],
   "source": [
    "print(Solution().maxAverageRatio([[1,2],[3,5],[2,2]], 2))\n",
    "print(Solution().maxAverageRatio([[2,4],[3,9],[4,5],[2,10]],4))"
   ]
  }
 ],
 "metadata": {
  "kernelspec": {
   "display_name": "Python 3",
   "language": "python",
   "name": "python3"
  },
  "language_info": {
   "codemirror_mode": {
    "name": "ipython",
    "version": 3
   },
   "file_extension": ".py",
   "mimetype": "text/x-python",
   "name": "python",
   "nbconvert_exporter": "python",
   "pygments_lexer": "ipython3",
   "version": "3.10.11"
  }
 },
 "nbformat": 4,
 "nbformat_minor": 5
}
