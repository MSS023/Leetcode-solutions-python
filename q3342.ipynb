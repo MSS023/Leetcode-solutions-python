{
 "cells": [
  {
   "cell_type": "code",
   "execution_count": 2,
   "id": "0e298aad",
   "metadata": {},
   "outputs": [],
   "source": [
    "from typing import *\n",
    "import heapq"
   ]
  },
  {
   "cell_type": "code",
   "execution_count": 7,
   "id": "5c0d16f5",
   "metadata": {},
   "outputs": [],
   "source": [
    "class State:\n",
    "    def __init__(self, x, y, dis, travTime = 2):\n",
    "        self.x = x\n",
    "        self.y = y\n",
    "        self.dis = dis\n",
    "        self.travTime = travTime\n",
    "\n",
    "    def __lt__(self, other):\n",
    "        return self.dis < other.dis\n",
    "\n",
    "\n",
    "class Solution:\n",
    "    def minTimeToReach(self, moveTime):\n",
    "        n = len(moveTime)\n",
    "        m = len(moveTime[0])\n",
    "        inf = float(\"inf\")\n",
    "        d = [[inf] * m for _ in range(n)]\n",
    "        v = [[0] * m for _ in range(n)]\n",
    "        travTime = {1:2, 2:1}\n",
    "\n",
    "        dirs = [(1, 0), (-1, 0), (0, 1), (0, -1)]\n",
    "\n",
    "        d[0][0] = 0\n",
    "        q = []\n",
    "        heapq.heappush(q, State(0, 0, 0))\n",
    "\n",
    "        while q:\n",
    "            s = heapq.heappop(q)\n",
    "            tt = travTime[s.travTime]\n",
    "            if v[s.x][s.y]:\n",
    "                continue\n",
    "            v[s.x][s.y] = 1\n",
    "            for dx, dy in dirs:\n",
    "                nx, ny = s.x + dx, s.y + dy\n",
    "                if not (0 <= nx < n and 0 <= ny < m):\n",
    "                    continue\n",
    "                dist = max(d[s.x][s.y], moveTime[nx][ny]) + tt\n",
    "                if d[nx][ny] > dist:\n",
    "                    d[nx][ny] = dist\n",
    "                    heapq.heappush(q, State(nx, ny, dist, tt))\n",
    "\n",
    "        return d[n - 1][m - 1]"
   ]
  },
  {
   "cell_type": "code",
   "execution_count": 8,
   "id": "eb66201a",
   "metadata": {},
   "outputs": [
    {
     "name": "stdout",
     "output_type": "stream",
     "text": [
      "71\n"
     ]
    }
   ],
   "source": [
    "print(Solution().minTimeToReach([[0,58],[27,69]]))"
   ]
  }
 ],
 "metadata": {
  "kernelspec": {
   "display_name": "Python 3",
   "language": "python",
   "name": "python3"
  },
  "language_info": {
   "codemirror_mode": {
    "name": "ipython",
    "version": 3
   },
   "file_extension": ".py",
   "mimetype": "text/x-python",
   "name": "python",
   "nbconvert_exporter": "python",
   "pygments_lexer": "ipython3",
   "version": "3.10.11"
  }
 },
 "nbformat": 4,
 "nbformat_minor": 5
}
