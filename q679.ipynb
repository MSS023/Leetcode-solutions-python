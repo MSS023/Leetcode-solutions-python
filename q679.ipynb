{
 "cells": [
  {
   "cell_type": "code",
   "execution_count": 15,
   "id": "11737995",
   "metadata": {},
   "outputs": [],
   "source": [
    "from typing import *"
   ]
  },
  {
   "cell_type": "code",
   "execution_count": 16,
   "id": "6585a67a",
   "metadata": {},
   "outputs": [],
   "source": [
    "class Solution:\n",
    "    def judgePoint24(self, cards: List[int]) -> bool:\n",
    "        EPS = 1e-6\n",
    "\n",
    "        def dfs(nums: List[float]) -> bool:\n",
    "            if len(nums) == 1:\n",
    "                return abs(nums[0] - 24.0) < EPS\n",
    "\n",
    "            for i in range(len(nums)):\n",
    "                for j in range(len(nums)):\n",
    "                    if i == j:\n",
    "                        continue\n",
    "                    next_nums = [nums[k] for k in range(len(nums)) if k != i and k != j]\n",
    "                    a, b = nums[i], nums[j]\n",
    "                    candidates = [a + b, a - b, b - a, a * b]\n",
    "                    if abs(b) > EPS:\n",
    "                        candidates.append(a / b)\n",
    "                    if abs(a) > EPS:\n",
    "                        candidates.append(b / a)\n",
    "\n",
    "                    for val in candidates:\n",
    "                        if dfs(next_nums + [val]):\n",
    "                            return True\n",
    "            return False\n",
    "\n",
    "        return dfs([float(x) for x in cards])"
   ]
  }
 ],
 "metadata": {
  "kernelspec": {
   "display_name": "Python 3",
   "language": "python",
   "name": "python3"
  },
  "language_info": {
   "codemirror_mode": {
    "name": "ipython",
    "version": 3
   },
   "file_extension": ".py",
   "mimetype": "text/x-python",
   "name": "python",
   "nbconvert_exporter": "python",
   "pygments_lexer": "ipython3",
   "version": "3.10.11"
  }
 },
 "nbformat": 4,
 "nbformat_minor": 5
}
