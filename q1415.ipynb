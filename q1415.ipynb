{
 "cells": [
  {
   "cell_type": "code",
   "execution_count": 1,
   "metadata": {},
   "outputs": [],
   "source": [
    "from typing import *"
   ]
  },
  {
   "cell_type": "code",
   "execution_count": 19,
   "metadata": {},
   "outputs": [],
   "source": [
    "class Solution:\n",
    "    def main(self, currString: str) -> None:\n",
    "        if len(currString) == self.maxLength:\n",
    "            self.memo.append(currString)\n",
    "            return\n",
    "        \n",
    "        for ch in self.characters:\n",
    "            if len(currString) > 0 and ch == currString[-1]:\n",
    "                continue\n",
    "\n",
    "            self.main(currString+ch)\n",
    "            if len(self.memo) == self.maxDepth:\n",
    "                break\n",
    "\n",
    "    def getHappyString(self, n: int, k: int) -> str:\n",
    "        maxPermutations = 3*(2**(n-1))\n",
    "        if k > maxPermutations:\n",
    "            return \"\"\n",
    "        self.maxLength = n\n",
    "        self.memo = []\n",
    "        self.maxDepth = k\n",
    "        self.characters = [\"a\", \"b\", \"c\"]\n",
    "\n",
    "        self.main(\"\")\n",
    "\n",
    "        return self.memo[k-1]"
   ]
  },
  {
   "cell_type": "code",
   "execution_count": 20,
   "metadata": {},
   "outputs": [
    {
     "name": "stdout",
     "output_type": "stream",
     "text": [
      "c\n",
      "\n",
      "cab\n"
     ]
    }
   ],
   "source": [
    "print(Solution().getHappyString(1, 3))\n",
    "print(Solution().getHappyString(1, 4))\n",
    "print(Solution().getHappyString(3, 9))"
   ]
  }
 ],
 "metadata": {
  "kernelspec": {
   "display_name": "Python 3",
   "language": "python",
   "name": "python3"
  },
  "language_info": {
   "codemirror_mode": {
    "name": "ipython",
    "version": 3
   },
   "file_extension": ".py",
   "mimetype": "text/x-python",
   "name": "python",
   "nbconvert_exporter": "python",
   "pygments_lexer": "ipython3",
   "version": "3.13.2"
  }
 },
 "nbformat": 4,
 "nbformat_minor": 2
}
