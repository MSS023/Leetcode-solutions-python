{
 "cells": [
  {
   "cell_type": "code",
   "execution_count": 19,
   "metadata": {},
   "outputs": [],
   "source": [
    "class Solution:\n",
    "    def findRedundantConnection(self, edges: list[list[int]]) -> list[int]:\n",
    "        treeList = set()\n",
    "        a,b = edges.pop(0)\n",
    "        treeList.add(a)\n",
    "        treeList.add(b)\n",
    "        temp = []\n",
    "        while edges:\n",
    "            a,b = edges[0]\n",
    "            if a in treeList and b in treeList:\n",
    "                return [a,b]\n",
    "            a,b = edges.pop(0)\n",
    "            if a not in treeList and b not in treeList:\n",
    "                temp.append([a,b])\n",
    "                continue\n",
    "            treeList.add(a)\n",
    "            treeList.add(b)\n",
    "            edges = temp + edges\n",
    "            temp = []\n",
    "        return []"
   ]
  },
  {
   "cell_type": "code",
   "execution_count": 20,
   "metadata": {},
   "outputs": [
    {
     "data": {
      "text/plain": [
       "[4, 5]"
      ]
     },
     "execution_count": 20,
     "metadata": {},
     "output_type": "execute_result"
    }
   ],
   "source": [
    "Solution().findRedundantConnection([[1,5],[3,4],[3,5],[4,5],[2,4]])"
   ]
  }
 ],
 "metadata": {
  "kernelspec": {
   "display_name": "Python 3.10.2 64-bit",
   "language": "python",
   "name": "python3"
  },
  "language_info": {
   "codemirror_mode": {
    "name": "ipython",
    "version": 3
   },
   "file_extension": ".py",
   "mimetype": "text/x-python",
   "name": "python",
   "nbconvert_exporter": "python",
   "pygments_lexer": "ipython3",
   "version": "3.10.2"
  },
  "orig_nbformat": 4,
  "vscode": {
   "interpreter": {
    "hash": "7fa5c2bbde354df5fb32f89863fd9628b3718657b842099e0733f1c707419bc4"
   }
  }
 },
 "nbformat": 4,
 "nbformat_minor": 2
}
