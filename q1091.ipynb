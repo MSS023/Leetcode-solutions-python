{
 "cells": [
  {
   "cell_type": "markdown",
   "metadata": {},
   "source": [
    "# TLE"
   ]
  },
  {
   "cell_type": "code",
   "execution_count": 12,
   "metadata": {},
   "outputs": [],
   "source": [
    "class Solution:\n",
    "    def shortestPathBinaryMatrix(self, grid: list[list[int]]) -> int:\n",
    "        def getNeighbors(r,c,grid):\n",
    "            if c>0 and grid[r][c-1] == 0:\n",
    "                yield (r,c-1)\n",
    "            if r>0 and c>0 and grid[r-1][c-1] == 0:\n",
    "                yield (r-1,c-1)\n",
    "            if r>0 and grid[r-1][c] == 0:\n",
    "                yield (r-1,c)\n",
    "            if r>0 and c<len(grid)-1 and grid[r-1][c+1] == 0:\n",
    "                yield (r-1,c+1)\n",
    "            if c<len(grid)-1 and grid[r][c+1] == 0:\n",
    "                yield (r,c+1)\n",
    "            if r<len(grid)-1 and c<len(grid)-1 and grid[r+1][c+1] == 0:\n",
    "                yield (r+1,c+1)\n",
    "            if r<len(grid)-1 and grid[r+1][c] == 0:\n",
    "                yield (r+1,c)\n",
    "            if r<len(grid)-1 and c>0 and grid[r+1][c-1] == 0:\n",
    "                yield (r+1,c-1)\n",
    "        if grid[0][0]==1:\n",
    "            return -1\n",
    "        stack = [(0,0,1)]\n",
    "        level = 0\n",
    "        while stack:\n",
    "            x, y, level = stack.pop(0)\n",
    "            if (x,y) == (len(grid)-1,len(grid)-1):\n",
    "                return level\n",
    "            grid[x][y]=1\n",
    "            for i,j in getNeighbors(x,y,grid):\n",
    "                stack.append((i,j,level+1))\n",
    "        return -1"
   ]
  },
  {
   "cell_type": "markdown",
   "metadata": {},
   "source": [
    "# Optimised"
   ]
  },
  {
   "cell_type": "code",
   "execution_count": 14,
   "metadata": {},
   "outputs": [],
   "source": [
    "class Solution:\n",
    "    def shortestPathBinaryMatrix(self, grid: list[list[int]]) -> int:\n",
    "        def getNeighbors(r,c,grid):\n",
    "            if c>0 and grid[r][c-1] == 0:\n",
    "                grid[r][c-1]=1\n",
    "                yield (r,c-1)\n",
    "            if r>0 and c>0 and grid[r-1][c-1] == 0:\n",
    "                grid[r-1][c-1]=1\n",
    "                yield (r-1,c-1)\n",
    "            if r>0 and grid[r-1][c] == 0:\n",
    "                grid[r-1][c]=1\n",
    "                yield (r-1,c)\n",
    "            if r>0 and c<len(grid)-1 and grid[r-1][c+1] == 0:\n",
    "                grid[r-1][c+1]=1\n",
    "                yield (r-1,c+1)\n",
    "            if c<len(grid)-1 and grid[r][c+1] == 0:\n",
    "                grid[r][c+1]=1\n",
    "                yield (r,c+1)\n",
    "            if r<len(grid)-1 and c<len(grid)-1 and grid[r+1][c+1] == 0:\n",
    "                grid[r+1][c+1]=1\n",
    "                yield (r+1,c+1)\n",
    "            if r<len(grid)-1 and grid[r+1][c] == 0:\n",
    "                grid[r+1][c]=1\n",
    "                yield (r+1,c)\n",
    "            if r<len(grid)-1 and c>0 and grid[r+1][c-1] == 0:\n",
    "                grid[r+1][c-1]=1\n",
    "                yield (r+1,c-1)\n",
    "        if grid[0][0]==1:\n",
    "            return -1\n",
    "        stack = [(0,0,1)]\n",
    "        level = 0\n",
    "        while stack:\n",
    "            x, y, level = stack.pop(0)\n",
    "            if (x,y) == (len(grid)-1,len(grid)-1):\n",
    "                return level\n",
    "            grid[x][y]=1\n",
    "            for i,j in getNeighbors(x,y,grid):\n",
    "                stack.append((i,j,level+1))\n",
    "        return -1"
   ]
  },
  {
   "cell_type": "code",
   "execution_count": 15,
   "metadata": {},
   "outputs": [
    {
     "data": {
      "text/plain": [
       "-1"
      ]
     },
     "execution_count": 15,
     "metadata": {},
     "output_type": "execute_result"
    }
   ],
   "source": [
    "Solution().shortestPathBinaryMatrix([[1,0,0],[1,1,0],[1,1,0]])"
   ]
  }
 ],
 "metadata": {
  "kernelspec": {
   "display_name": "Python 3.10.2 64-bit",
   "language": "python",
   "name": "python3"
  },
  "language_info": {
   "codemirror_mode": {
    "name": "ipython",
    "version": 3
   },
   "file_extension": ".py",
   "mimetype": "text/x-python",
   "name": "python",
   "nbconvert_exporter": "python",
   "pygments_lexer": "ipython3",
   "version": "3.10.2"
  },
  "orig_nbformat": 4,
  "vscode": {
   "interpreter": {
    "hash": "7fa5c2bbde354df5fb32f89863fd9628b3718657b842099e0733f1c707419bc4"
   }
  }
 },
 "nbformat": 4,
 "nbformat_minor": 2
}
