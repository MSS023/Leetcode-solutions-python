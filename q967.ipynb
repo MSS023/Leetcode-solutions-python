{
 "cells": [
  {
   "cell_type": "code",
   "execution_count": 5,
   "metadata": {},
   "outputs": [],
   "source": [
    "from typing import *\n",
    "\n",
    "class Solution:\n",
    "    def numsSameConsecDiff(self, n: int, k: int) -> List[int]:\n",
    "        res = set()\n",
    "        def recursive(num,l):\n",
    "            if l == 0:\n",
    "                res.add(num)\n",
    "                return\n",
    "            n = int(num[-1])\n",
    "            if n+k < 10:\n",
    "                recursive(num+str(n+k),l-1)\n",
    "            if n-k > -1:\n",
    "                recursive(num+str(n-k),l-1)\n",
    "        for i in range(1,10):\n",
    "            recursive(str(i),n-1)\n",
    "        return list(res)"
   ]
  },
  {
   "cell_type": "code",
   "execution_count": 8,
   "metadata": {},
   "outputs": [
    {
     "data": {
      "text/plain": [
       "['181', '929', '292', '707', '818']"
      ]
     },
     "execution_count": 8,
     "metadata": {},
     "output_type": "execute_result"
    }
   ],
   "source": [
    "Solution().numsSameConsecDiff(3,7)"
   ]
  }
 ],
 "metadata": {
  "kernelspec": {
   "display_name": "Python 3.10.6 64-bit",
   "language": "python",
   "name": "python3"
  },
  "language_info": {
   "codemirror_mode": {
    "name": "ipython",
    "version": 3
   },
   "file_extension": ".py",
   "mimetype": "text/x-python",
   "name": "python",
   "nbconvert_exporter": "python",
   "pygments_lexer": "ipython3",
   "version": "3.10.6"
  },
  "orig_nbformat": 4,
  "vscode": {
   "interpreter": {
    "hash": "f15627b29e15848638e903c52dd09ae6c4c9adb1719aae45dda3850ec7954c19"
   }
  }
 },
 "nbformat": 4,
 "nbformat_minor": 2
}
