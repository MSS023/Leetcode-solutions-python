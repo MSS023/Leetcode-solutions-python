{
 "cells": [
  {
   "cell_type": "code",
   "execution_count": 27,
   "metadata": {},
   "outputs": [],
   "source": [
    "class Solution:\n",
    "    def numRollsToTarget(self, n: int, k: int, target: int) -> int:\n",
    "        memo = {(0,n): 1}\n",
    "        MOD = 7+10**9\n",
    "\n",
    "        def recursive(target, count):\n",
    "            if (target,count) in memo:\n",
    "                return\n",
    "            if target == 0:\n",
    "                memo[(target,count)] = 0\n",
    "                return\n",
    "            if count == n:\n",
    "                memo[(target,count)] = 0\n",
    "                return\n",
    "            ans = 0\n",
    "            for i in range(k,0,-1):\n",
    "                recursive(target-i,count+1)\n",
    "                ans += memo[(target-i,count+1)]\n",
    "            memo[(target,count)] = ans%MOD\n",
    "\n",
    "        recursive(target,0)\n",
    "        if (target,0) in memo:\n",
    "            return memo[(target,0)]\n",
    "        return 0"
   ]
  },
  {
   "cell_type": "code",
   "execution_count": 28,
   "metadata": {},
   "outputs": [
    {
     "data": {
      "text/plain": [
       "222616187"
      ]
     },
     "execution_count": 28,
     "metadata": {},
     "output_type": "execute_result"
    }
   ],
   "source": [
    "Solution().numRollsToTarget(30,30,500)"
   ]
  }
 ],
 "metadata": {
  "kernelspec": {
   "display_name": "Python 3.10.6 64-bit",
   "language": "python",
   "name": "python3"
  },
  "language_info": {
   "codemirror_mode": {
    "name": "ipython",
    "version": 3
   },
   "file_extension": ".py",
   "mimetype": "text/x-python",
   "name": "python",
   "nbconvert_exporter": "python",
   "pygments_lexer": "ipython3",
   "version": "3.10.6"
  },
  "orig_nbformat": 4,
  "vscode": {
   "interpreter": {
    "hash": "f15627b29e15848638e903c52dd09ae6c4c9adb1719aae45dda3850ec7954c19"
   }
  }
 },
 "nbformat": 4,
 "nbformat_minor": 2
}
