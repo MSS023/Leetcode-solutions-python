{
 "cells": [
  {
   "cell_type": "code",
   "execution_count": 9,
   "metadata": {},
   "outputs": [
    {
     "name": "stdout",
     "output_type": "stream",
     "text": [
      "aacakdbacaa\n"
     ]
    },
    {
     "data": {
      "text/plain": [
       "'aaca'"
      ]
     },
     "execution_count": 9,
     "metadata": {},
     "output_type": "execute_result"
    }
   ],
   "source": [
    "class Solution:\n",
    "    def longestPalindrome(self, s: str) -> str:\n",
    "        n=len(s)\n",
    "        reverse=s[::-1]\n",
    "        print(reverse)\n",
    "        subs=[]\n",
    "        for i in range(n):\n",
    "            for j in range(n):\n",
    "                if s[i]==reverse[j]:\n",
    "                    temp=1\n",
    "                    temps=s[i]\n",
    "                    while temp+i<n and temp+j<n and s[temp+i]==reverse[temp+j]:\n",
    "                        temps+=s[i+temp]\n",
    "                        temp+=1\n",
    "                    subs.append(temps)\n",
    "        max=\"\"\n",
    "        for i in subs:\n",
    "            if len(i)>len(max):\n",
    "                max=i\n",
    "        return max\n",
    "\n",
    "sol=Solution()\n",
    "sol.longestPalindrome(\"aacabdkacaa\")"
   ]
  }
 ],
 "metadata": {
  "interpreter": {
   "hash": "84c7cd761066ce45b8a789f7b09f72a3209628e136df7af6e1c369b4f2245113"
  },
  "kernelspec": {
   "display_name": "Python 3.10.2 64-bit",
   "language": "python",
   "name": "python3"
  },
  "language_info": {
   "codemirror_mode": {
    "name": "ipython",
    "version": 3
   },
   "file_extension": ".py",
   "mimetype": "text/x-python",
   "name": "python",
   "nbconvert_exporter": "python",
   "pygments_lexer": "ipython3",
   "version": "3.10.2"
  },
  "orig_nbformat": 4
 },
 "nbformat": 4,
 "nbformat_minor": 2
}
