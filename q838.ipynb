{
 "cells": [
  {
   "cell_type": "code",
   "execution_count": 27,
   "metadata": {},
   "outputs": [],
   "source": [
    "class Solution:\n",
    "    def pushDominoes(self, dominoes: str) -> str:\n",
    "        start = -1\n",
    "        end = 0\n",
    "        res = \"\"\n",
    "        while end < len(dominoes):\n",
    "            if dominoes[end] == \".\":\n",
    "                end += 1\n",
    "                continue\n",
    "            if dominoes[end] == \"L\":\n",
    "                if start == -1 or dominoes[start] == \"L\":\n",
    "                    res += \"L\"*(end - 1 - start)\n",
    "                elif dominoes[start] == \"R\":\n",
    "                    count = end - 1 - start\n",
    "                    res += \"R\"*(count//2) + \".\"*(count%2) + \"L\"*(count//2)\n",
    "            else:\n",
    "                if start == -1 or dominoes[start] == \"L\":\n",
    "                    res += \".\"*(end-1-start)\n",
    "                elif dominoes[start] == \"R\":\n",
    "                    res += \"R\"*(end-1-start)\n",
    "            res += dominoes[end]\n",
    "            start = end\n",
    "            end += 1\n",
    "        if start == -1 or dominoes[start] == \"L\":\n",
    "            res += \".\"*(end-1-start)\n",
    "        if dominoes[start] == \"R\":\n",
    "            res += \"R\"*(end-1-start)\n",
    "        return res"
   ]
  },
  {
   "cell_type": "code",
   "execution_count": 28,
   "metadata": {},
   "outputs": [
    {
     "data": {
      "text/plain": [
       "'.'"
      ]
     },
     "execution_count": 28,
     "metadata": {},
     "output_type": "execute_result"
    }
   ],
   "source": [
    "Solution().pushDominoes(\".\")"
   ]
  }
 ],
 "metadata": {
  "kernelspec": {
   "display_name": "Python 3.10.6 64-bit",
   "language": "python",
   "name": "python3"
  },
  "language_info": {
   "codemirror_mode": {
    "name": "ipython",
    "version": 3
   },
   "file_extension": ".py",
   "mimetype": "text/x-python",
   "name": "python",
   "nbconvert_exporter": "python",
   "pygments_lexer": "ipython3",
   "version": "3.10.6"
  },
  "orig_nbformat": 4,
  "vscode": {
   "interpreter": {
    "hash": "f15627b29e15848638e903c52dd09ae6c4c9adb1719aae45dda3850ec7954c19"
   }
  }
 },
 "nbformat": 4,
 "nbformat_minor": 2
}
