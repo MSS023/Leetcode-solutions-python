{
 "cells": [
  {
   "cell_type": "code",
   "execution_count": 1,
   "metadata": {},
   "outputs": [],
   "source": [
    "from typing import *"
   ]
  },
  {
   "cell_type": "code",
   "execution_count": 15,
   "metadata": {},
   "outputs": [],
   "source": [
    "class Solution:\n",
    "    def restoreIpAddresses(self, s: str) -> List[str]:\n",
    "        def validate(s: str) -> bool:\n",
    "            nums = [x for x in s.split('.')]\n",
    "            for num in nums:\n",
    "                if len(num) > 1 and num[0] == '0':\n",
    "                    return False\n",
    "                intNum = int(num)\n",
    "                if intNum not in range(256):\n",
    "                    return False\n",
    "            return True\n",
    "        \n",
    "        def addSeparator(s: str) -> str:\n",
    "            n = len(s)\n",
    "            res = []\n",
    "            for idx1 in range(1,n-2):\n",
    "                for idx2 in range(idx1+1,n-1):\n",
    "                    for idx3 in range(idx2+1,n):\n",
    "                        yield '{}.{}.{}.{}'.format(s[:idx1],s[idx1:idx2],s[idx2:idx3],s[idx3:])\n",
    "            return res\n",
    "        ans = []\n",
    "        if len(s) > 12:\n",
    "            return ans\n",
    "        for ele in addSeparator(s):\n",
    "            if not validate(ele):\n",
    "                continue\n",
    "            ans.append(ele)\n",
    "        return ans"
   ]
  },
  {
   "cell_type": "code",
   "execution_count": 16,
   "metadata": {},
   "outputs": [
    {
     "data": {
      "text/plain": [
       "['1.0.10.23', '1.0.102.3', '10.1.0.23', '10.10.2.3', '101.0.2.3']"
      ]
     },
     "execution_count": 16,
     "metadata": {},
     "output_type": "execute_result"
    }
   ],
   "source": [
    "Solution().restoreIpAddresses(\"101023\")"
   ]
  }
 ],
 "metadata": {
  "kernelspec": {
   "display_name": "Python 3",
   "language": "python",
   "name": "python3"
  },
  "language_info": {
   "codemirror_mode": {
    "name": "ipython",
    "version": 3
   },
   "file_extension": ".py",
   "mimetype": "text/x-python",
   "name": "python",
   "nbconvert_exporter": "python",
   "pygments_lexer": "ipython3",
   "version": "3.11.4"
  },
  "orig_nbformat": 4
 },
 "nbformat": 4,
 "nbformat_minor": 2
}
