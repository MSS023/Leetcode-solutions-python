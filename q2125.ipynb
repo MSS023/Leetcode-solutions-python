{
 "cells": [
  {
   "cell_type": "code",
   "execution_count": 4,
   "id": "efe67f81",
   "metadata": {},
   "outputs": [],
   "source": [
    "from typing import *"
   ]
  },
  {
   "cell_type": "code",
   "execution_count": 5,
   "id": "a9b28d40",
   "metadata": {},
   "outputs": [],
   "source": [
    "class Solution:\n",
    "    def numberOfBeams(self, bank: List[str]) -> int:\n",
    "        last = 0\n",
    "        countBeams = 0\n",
    "        for row in bank:\n",
    "            count1 = row.count(\"1\")\n",
    "            countBeams += count1 * last\n",
    "            if count1 > 0:\n",
    "                last = count1\n",
    "        return countBeams"
   ]
  },
  {
   "cell_type": "code",
   "execution_count": 6,
   "id": "4b3a2cb9",
   "metadata": {},
   "outputs": [
    {
     "name": "stdout",
     "output_type": "stream",
     "text": [
      "8\n",
      "0\n"
     ]
    }
   ],
   "source": [
    "print(Solution().numberOfBeams([\"011001\",\"000000\",\"010100\",\"001000\"]))\n",
    "print(Solution().numberOfBeams([\"000\",\"111\",\"000\"]))"
   ]
  }
 ],
 "metadata": {
  "kernelspec": {
   "display_name": "Python 3",
   "language": "python",
   "name": "python3"
  },
  "language_info": {
   "codemirror_mode": {
    "name": "ipython",
    "version": 3
   },
   "file_extension": ".py",
   "mimetype": "text/x-python",
   "name": "python",
   "nbconvert_exporter": "python",
   "pygments_lexer": "ipython3",
   "version": "3.10.11"
  }
 },
 "nbformat": 4,
 "nbformat_minor": 5
}
