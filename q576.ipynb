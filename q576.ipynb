{
 "cells": [
  {
   "cell_type": "code",
   "execution_count": 10,
   "metadata": {},
   "outputs": [],
   "source": [
    "MOD = 7 + 10**9\n",
    "\n",
    "class Solution:\n",
    "    def __init__(self):\n",
    "        self.memo={}\n",
    "    def findPaths(self, m: int, n: int, maxMove: int, startRow: int, startColumn: int) -> int:\n",
    "        if maxMove == 0:\n",
    "            return 0\n",
    "        if (startRow,startColumn,maxMove) in self.memo:\n",
    "            return self.memo[(startRow,startColumn,maxMove)]\n",
    "        key = (startRow,startColumn,maxMove)\n",
    "        self.memo[key] = 0\n",
    "        if startRow == 0:\n",
    "            self.memo[key] += 1\n",
    "        if startColumn == 0:\n",
    "            self.memo[key] += 1\n",
    "        if startRow == m-1:\n",
    "            self.memo[key] += 1\n",
    "        if startColumn == n-1:\n",
    "            self.memo[key] += 1\n",
    "        if maxMove == 1:\n",
    "            return self.memo[key]\n",
    "        if startRow < m-1:\n",
    "            self.memo[key] += self.findPaths(m,n,maxMove-1,startRow+1,startColumn)\n",
    "            self.memo[key] %= MOD\n",
    "        if startRow > 0:\n",
    "            self.memo[key] += self.findPaths(m,n,maxMove-1,startRow-1,startColumn)\n",
    "            self.memo[key] %= MOD\n",
    "        if startColumn < n-1:\n",
    "            self.memo[key] += self.findPaths(m,n,maxMove-1,startRow,startColumn+1)\n",
    "            self.memo[key] %= MOD\n",
    "        if startColumn > 0:\n",
    "            self.memo[key] += self.findPaths(m,n,maxMove-1,startRow,startColumn-1)\n",
    "            self.memo[key] %= MOD\n",
    "        return self.memo[key]"
   ]
  },
  {
   "cell_type": "code",
   "execution_count": 11,
   "metadata": {},
   "outputs": [
    {
     "data": {
      "text/plain": [
       "12"
      ]
     },
     "execution_count": 11,
     "metadata": {},
     "output_type": "execute_result"
    }
   ],
   "source": [
    "Solution().findPaths(1,3,3,0,1)"
   ]
  }
 ],
 "metadata": {
  "kernelspec": {
   "display_name": "Python 3.10.5 64-bit",
   "language": "python",
   "name": "python3"
  },
  "language_info": {
   "codemirror_mode": {
    "name": "ipython",
    "version": 3
   },
   "file_extension": ".py",
   "mimetype": "text/x-python",
   "name": "python",
   "nbconvert_exporter": "python",
   "pygments_lexer": "ipython3",
   "version": "3.10.5"
  },
  "orig_nbformat": 4,
  "vscode": {
   "interpreter": {
    "hash": "f15627b29e15848638e903c52dd09ae6c4c9adb1719aae45dda3850ec7954c19"
   }
  }
 },
 "nbformat": 4,
 "nbformat_minor": 2
}
