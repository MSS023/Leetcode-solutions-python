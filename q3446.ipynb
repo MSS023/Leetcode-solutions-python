{
 "cells": [
  {
   "cell_type": "code",
   "execution_count": 4,
   "id": "7e9c7e32",
   "metadata": {},
   "outputs": [],
   "source": [
    "from typing import *\n",
    "import heapq"
   ]
  },
  {
   "cell_type": "code",
   "execution_count": 8,
   "id": "cd71c772",
   "metadata": {},
   "outputs": [],
   "source": [
    "class Solution:\n",
    "    def sortMatrix(self, grid: List[List[int]]) -> List[List[int]]:\n",
    "        n = len(grid)\n",
    "\n",
    "        for start in range(n):\n",
    "            arr = []\n",
    "            c = 0\n",
    "            for r in range(start, n):\n",
    "                heapq.heappush(arr, -grid[r][c])\n",
    "                c += 1\n",
    "\n",
    "            c = 0\n",
    "            for r in range(start, n):\n",
    "                grid[r][c] = -heapq.heappop(arr)\n",
    "                c += 1\n",
    "\n",
    "        for start in range(1,n):\n",
    "            arr = []\n",
    "            r = 0\n",
    "            for c in range(start, n):\n",
    "                heapq.heappush(arr, grid[r][c])\n",
    "                r += 1\n",
    "            \n",
    "            r = 0\n",
    "            for c in range(start, n):\n",
    "                grid[r][c] = heapq.heappop(arr)\n",
    "                r += 1\n",
    "        \n",
    "        return grid"
   ]
  },
  {
   "cell_type": "code",
   "execution_count": 9,
   "id": "beb6ac9f",
   "metadata": {},
   "outputs": [
    {
     "name": "stdout",
     "output_type": "stream",
     "text": [
      "[[8, 2, 3], [9, 6, 7], [4, 5, 1]]\n"
     ]
    }
   ],
   "source": [
    "print(Solution().sortMatrix([[1,7,3],[9,8,2],[4,5,6]]))"
   ]
  }
 ],
 "metadata": {
  "kernelspec": {
   "display_name": "Python 3",
   "language": "python",
   "name": "python3"
  },
  "language_info": {
   "codemirror_mode": {
    "name": "ipython",
    "version": 3
   },
   "file_extension": ".py",
   "mimetype": "text/x-python",
   "name": "python",
   "nbconvert_exporter": "python",
   "pygments_lexer": "ipython3",
   "version": "3.10.11"
  }
 },
 "nbformat": 4,
 "nbformat_minor": 5
}
