{
 "cells": [
  {
   "cell_type": "code",
   "execution_count": 7,
   "metadata": {},
   "outputs": [],
   "source": [
    "class Solution:\n",
    "    def findAndReplacePattern(self, words: list[str], pattern: str) -> list[str]:\n",
    "        def checkPattern(pattern: str,s: str) -> bool:\n",
    "            diction1 = {}\n",
    "            diction2 = {}\n",
    "            for idx,i in enumerate(pattern):\n",
    "                if i in diction1:\n",
    "                    if s[idx] not in diction2:\n",
    "                        return False\n",
    "                    if diction1[i] != s[idx] or diction2[s[idx]] != i:\n",
    "                        return False\n",
    "                    continue\n",
    "                if s[idx] in diction2:\n",
    "                    return False\n",
    "                diction1[i] = s[idx]\n",
    "                diction2[s[idx]] = i\n",
    "            return True\n",
    "        res = []\n",
    "        for word in words:\n",
    "            if checkPattern(pattern, word):\n",
    "                res.append(word)\n",
    "        return res"
   ]
  }
 ],
 "metadata": {
  "kernelspec": {
   "display_name": "Python 3.10.5 64-bit",
   "language": "python",
   "name": "python3"
  },
  "language_info": {
   "codemirror_mode": {
    "name": "ipython",
    "version": 3
   },
   "file_extension": ".py",
   "mimetype": "text/x-python",
   "name": "python",
   "nbconvert_exporter": "python",
   "pygments_lexer": "ipython3",
   "version": "3.10.5"
  },
  "orig_nbformat": 4,
  "vscode": {
   "interpreter": {
    "hash": "f15627b29e15848638e903c52dd09ae6c4c9adb1719aae45dda3850ec7954c19"
   }
  }
 },
 "nbformat": 4,
 "nbformat_minor": 2
}
