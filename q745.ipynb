{
 "cells": [
  {
   "cell_type": "markdown",
   "metadata": {},
   "source": [
    "TLE"
   ]
  },
  {
   "cell_type": "code",
   "execution_count": 48,
   "metadata": {},
   "outputs": [],
   "source": [
    "class Node:\n",
    "    def __init__(self, character: str = None, end: bool = False, idx: int = None):\n",
    "        self.ch = character\n",
    "        self.alphas = [None]*26\n",
    "        self.end = end\n",
    "        self.idx = set()\n",
    "        self.dictionary = {chr(ord('a')+i):i for i in range(26)}\n",
    "\n",
    "\n",
    "class WordFilter:\n",
    "\n",
    "    def __init__(self, words: list[str]):\n",
    "        self.rootPre = Node()\n",
    "        self.rootSuf = Node()\n",
    "        for i, word in enumerate(words):\n",
    "            temp = self.rootPre\n",
    "            temp2 = self.rootSuf\n",
    "            for idx in range(len(word)):\n",
    "                char = word[idx]\n",
    "                char2 = word[-1-idx]\n",
    "                if temp.alphas[temp.dictionary[char]] is None:\n",
    "                    temp.alphas[temp.dictionary[char]] = Node(character=char)\n",
    "                    temp = temp.alphas[temp.dictionary[char]]\n",
    "                    temp.idx.add(i)\n",
    "                    if idx == len(word) - 1:\n",
    "                        temp.end = True\n",
    "                else:\n",
    "                    temp = temp.alphas[temp.dictionary[char]]\n",
    "                    temp.idx.add(i)\n",
    "                    if idx == len(word) - 1:\n",
    "                        temp.end = True\n",
    "                if temp2.alphas[temp2.dictionary[char2]] is None:\n",
    "                    temp2.alphas[temp2.dictionary[char2]] = Node(character=char2)\n",
    "                    temp2 = temp2.alphas[temp2.dictionary[char2]]\n",
    "                    temp2.idx.add(i)\n",
    "                    if idx == len(word) - 1:\n",
    "                        temp2.end = True\n",
    "                else:\n",
    "                    temp2 = temp2.alphas[temp2.dictionary[char2]]\n",
    "                    temp2.idx.add(i)\n",
    "                    if idx == len(word) - 1:\n",
    "                        temp2.end = True\n",
    "\n",
    "    # def dfs(self, node: Node):\n",
    "    #     if node is None:\n",
    "    #         return\n",
    "    #     print(node.ch, node.idx)\n",
    "    #     for i in node.alphas:\n",
    "    #         self.dfs(node.alphas[i])\n",
    "\n",
    "    def f(self, prefix: str, suffix: str) -> int:\n",
    "        temp = self.rootPre\n",
    "        for ch in prefix:\n",
    "            if temp.alphas[temp.dictionary[ch]] is None:\n",
    "                return -1\n",
    "            temp = temp.alphas[temp.dictionary[ch]]\n",
    "        preSet = temp.idx\n",
    "        temp = self.rootSuf\n",
    "        for ch in suffix[::-1]:\n",
    "            if temp.alphas[temp.dictionary[ch]] is None:\n",
    "                return -1\n",
    "            temp = temp.alphas[temp.dictionary[ch]]\n",
    "        sufSet = temp.idx\n",
    "        return max(preSet.intersection(sufSet))\n",
    "\n",
    "# Your WordFilter object will be instantiated and called as such:\n",
    "# obj = WordFilter(words)\n",
    "# param_1 = obj.f(prefix,suffix)\n"
   ]
  },
  {
   "cell_type": "code",
   "execution_count": 6,
   "metadata": {},
   "outputs": [],
   "source": [
    "import collections\n",
    "\n",
    "Trie = lambda: collections.defaultdict(Trie)\n",
    "WEIGHT = False\n",
    "\n",
    "class WordFilter(object):\n",
    "    def __init__(self, words):\n",
    "        self.trie = Trie()\n",
    "\n",
    "        for weight, word in enumerate(words):\n",
    "            word += '#'\n",
    "            for i in range(len(word)):\n",
    "                cur = self.trie\n",
    "                cur[WEIGHT] = weight\n",
    "                for j in range(i, 2 * len(word) - 1):\n",
    "                    cur = cur[word[j % len(word)]]\n",
    "                    cur[WEIGHT] = weight\n",
    "\n",
    "    def f(self, prefix, suffix):\n",
    "        cur = self.trie\n",
    "        for letter in suffix + '#' + prefix:\n",
    "            if letter not in cur:\n",
    "                return -1\n",
    "            cur = cur[letter]\n",
    "        return cur[WEIGHT]"
   ]
  },
  {
   "cell_type": "code",
   "execution_count": 7,
   "metadata": {},
   "outputs": [
    {
     "data": {
      "text/plain": [
       "1"
      ]
     },
     "execution_count": 7,
     "metadata": {},
     "output_type": "execute_result"
    }
   ],
   "source": [
    "filter = WordFilter([\"alphas\",\"apple\"])\n",
    "# filter.dfs(filter.rootPre)\n",
    "# filter.dfs(filter.rootSuf)\n",
    "filter.f(\"a\",\"e\")"
   ]
  }
 ],
 "metadata": {
  "kernelspec": {
   "display_name": "Python 3.10.2 64-bit",
   "language": "python",
   "name": "python3"
  },
  "language_info": {
   "codemirror_mode": {
    "name": "ipython",
    "version": 3
   },
   "file_extension": ".py",
   "mimetype": "text/x-python",
   "name": "python",
   "nbconvert_exporter": "python",
   "pygments_lexer": "ipython3",
   "version": "3.10.2"
  },
  "orig_nbformat": 4,
  "vscode": {
   "interpreter": {
    "hash": "7fa5c2bbde354df5fb32f89863fd9628b3718657b842099e0733f1c707419bc4"
   }
  }
 },
 "nbformat": 4,
 "nbformat_minor": 2
}
