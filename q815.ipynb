{
 "cells": [
  {
   "cell_type": "code",
   "execution_count": 38,
   "metadata": {},
   "outputs": [],
   "source": [
    "import collections\n",
    "\n",
    "class Solution(object):\n",
    "    def numBusesToDestination(self, routes, S, T):\n",
    "        if S == T: return 0\n",
    "        routes = [set(route) for route in routes]\n",
    "        graph = collections.defaultdict(set)\n",
    "        for i, r1 in enumerate(routes):\n",
    "            for j in range(i+1, len(routes)):\n",
    "                r2 = routes[j]\n",
    "                if any(r in r2 for r in r1):\n",
    "                    graph[i].add(j)\n",
    "                    graph[j].add(i)\n",
    "\n",
    "        seen, targets = set(), set()\n",
    "        for node, route in enumerate(routes):\n",
    "            if S in route: seen.add(node)\n",
    "            if T in route: targets.add(node)\n",
    "\n",
    "        queue = [(node, 1) for node in seen]\n",
    "        for node, depth in queue:\n",
    "            if node in targets: return depth\n",
    "            for nei in graph[node]:\n",
    "                if nei not in seen:\n",
    "                    seen.add(nei)\n",
    "                    queue.append((nei, depth+1))\n",
    "        return -1"
   ]
  },
  {
   "cell_type": "code",
   "execution_count": 39,
   "metadata": {},
   "outputs": [
    {
     "data": {
      "text/plain": [
       "2"
      ]
     },
     "execution_count": 39,
     "metadata": {},
     "output_type": "execute_result"
    }
   ],
   "source": [
    "Solution().numBusesToDestination([[1,2,7],[3,6,7]], 1, 6)"
   ]
  }
 ],
 "metadata": {
  "kernelspec": {
   "display_name": "Python 3.10.6 64-bit",
   "language": "python",
   "name": "python3"
  },
  "language_info": {
   "codemirror_mode": {
    "name": "ipython",
    "version": 3
   },
   "file_extension": ".py",
   "mimetype": "text/x-python",
   "name": "python",
   "nbconvert_exporter": "python",
   "pygments_lexer": "ipython3",
   "version": "3.10.6"
  },
  "orig_nbformat": 4,
  "vscode": {
   "interpreter": {
    "hash": "f15627b29e15848638e903c52dd09ae6c4c9adb1719aae45dda3850ec7954c19"
   }
  }
 },
 "nbformat": 4,
 "nbformat_minor": 2
}
