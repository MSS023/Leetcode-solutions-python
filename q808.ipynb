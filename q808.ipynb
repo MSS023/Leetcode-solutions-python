{
 "cells": [
  {
   "cell_type": "code",
   "execution_count": 1,
   "id": "5174016d",
   "metadata": {},
   "outputs": [],
   "source": [
    "from typing import *"
   ]
  },
  {
   "cell_type": "code",
   "execution_count": 2,
   "id": "bb887c86",
   "metadata": {},
   "outputs": [],
   "source": [
    "class Solution:\n",
    "    def __init__(self):\n",
    "        self.operations_max_values = [[100,0], [75,25], [50,50], [25,75]]\n",
    "\n",
    "    def main_a(self, a: int, b: int) -> float:\n",
    "        if self.dp_a[a][b] is not None:\n",
    "            return self.dp_a[a][b]\n",
    "        \n",
    "        if b == 0:\n",
    "            return 0\n",
    "        \n",
    "        if a == 0:\n",
    "            return 1\n",
    "        \n",
    "        count = 0\n",
    "\n",
    "        for [maxA,maxB] in self.operations_max_values:\n",
    "            count += 0.25 * self.main_a(max(a - maxA, 0), max(b - maxB, 0))\n",
    "        \n",
    "        self.dp_a[a][b] = count\n",
    "        return count\n",
    "    \n",
    "    def main_ab(self, a: int, b: int) -> float:\n",
    "        if self.dp_ab[a][b] is not None:\n",
    "            return self.dp_ab[a][b]\n",
    "        \n",
    "        if a != b and (a == 0 or b == 0):\n",
    "            return 0\n",
    "        \n",
    "        if a == b and a == 0:\n",
    "            return 1\n",
    "        \n",
    "        count = 0\n",
    "\n",
    "        for [maxA,maxB] in self.operations_max_values:\n",
    "            count += 0.25 * self.main_ab(max(a - maxA, 0), max(b - maxB, 0))\n",
    "        \n",
    "        self.dp_ab[a][b] = count\n",
    "        return count\n",
    "    \n",
    "    def soupServings(self, n: int) -> float:\n",
    "        if n > 4450:\n",
    "            return 1\n",
    "        self.dp_a = [[None]*(n+1) for _ in range(n+1)]\n",
    "        self.dp_ab = [[None]*(n+1) for _ in range(n+1)]\n",
    "        res = self.main_a(n,n) + self.main_ab(n,n)/2\n",
    "\n",
    "        return res"
   ]
  },
  {
   "cell_type": "code",
   "execution_count": 3,
   "id": "739e3a8b",
   "metadata": {},
   "outputs": [
    {
     "name": "stdout",
     "output_type": "stream",
     "text": [
      "0.625\n",
      "0.71875\n",
      "1\n"
     ]
    }
   ],
   "source": [
    "print(Solution().soupServings(50))\n",
    "print(Solution().soupServings(100))\n",
    "print(Solution().soupServings(1000000000))"
   ]
  }
 ],
 "metadata": {
  "kernelspec": {
   "display_name": "Python 3",
   "language": "python",
   "name": "python3"
  },
  "language_info": {
   "codemirror_mode": {
    "name": "ipython",
    "version": 3
   },
   "file_extension": ".py",
   "mimetype": "text/x-python",
   "name": "python",
   "nbconvert_exporter": "python",
   "pygments_lexer": "ipython3",
   "version": "3.10.11"
  }
 },
 "nbformat": 4,
 "nbformat_minor": 5
}
