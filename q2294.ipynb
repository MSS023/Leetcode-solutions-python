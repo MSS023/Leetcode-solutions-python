{
 "cells": [
  {
   "cell_type": "code",
   "execution_count": 1,
   "id": "f7b18ae9",
   "metadata": {},
   "outputs": [],
   "source": [
    "from typing import *"
   ]
  },
  {
   "cell_type": "code",
   "execution_count": 2,
   "id": "f876c93d",
   "metadata": {},
   "outputs": [],
   "source": [
    "class Solution:\n",
    "    def partitionArray(self, nums: List[int], k: int) -> int:\n",
    "        if k == 0:\n",
    "            return len(set(nums))\n",
    "        nums.sort()\n",
    "\n",
    "        count = 1\n",
    "        minm = float('inf')\n",
    "        maxm = 0\n",
    "\n",
    "        for num in nums:\n",
    "            tempMin = min(minm, num)\n",
    "            tempMax = max(maxm, num)\n",
    "\n",
    "            if tempMax - tempMin > k:\n",
    "                maxm = num\n",
    "                minm = num\n",
    "                count += 1\n",
    "                continue\n",
    "\n",
    "            maxm = tempMax\n",
    "            minm = tempMin\n",
    "        \n",
    "        return count"
   ]
  },
  {
   "cell_type": "code",
   "execution_count": 3,
   "id": "b8ba224a",
   "metadata": {},
   "outputs": [
    {
     "name": "stdout",
     "output_type": "stream",
     "text": [
      "2\n"
     ]
    }
   ],
   "source": [
    "print(Solution().partitionArray([3,6,1,2,5], 2))"
   ]
  }
 ],
 "metadata": {
  "kernelspec": {
   "display_name": "Python 3",
   "language": "python",
   "name": "python3"
  },
  "language_info": {
   "codemirror_mode": {
    "name": "ipython",
    "version": 3
   },
   "file_extension": ".py",
   "mimetype": "text/x-python",
   "name": "python",
   "nbconvert_exporter": "python",
   "pygments_lexer": "ipython3",
   "version": "3.10.11"
  }
 },
 "nbformat": 4,
 "nbformat_minor": 5
}
