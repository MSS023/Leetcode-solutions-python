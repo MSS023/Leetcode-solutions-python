{
 "cells": [
  {
   "cell_type": "code",
   "execution_count": null,
   "metadata": {},
   "outputs": [],
   "source": [
    "# Definition for singly-linked list.\n",
    "# class ListNode:\n",
    "#     def __init__(self, val=0, next=None):\n",
    "#         self.val = val\n",
    "#         self.next = next\n",
    "class Solution:\n",
    "    def deleteDuplicates(self, head: Optional[ListNode]) -> Optional[ListNode]:\n",
    "        delete=[]\n",
    "        temp=[]\n",
    "        ptr=head\n",
    "        while ptr is not None:\n",
    "            if ptr.val in temp:\n",
    "                delete.append(ptr.val)\n",
    "            else:\n",
    "                temp.append(ptr.val)\n",
    "            ptr=ptr.next\n",
    "        del temp\n",
    "        ptr=head\n",
    "        prev=head\n",
    "        while ptr is not None:\n",
    "            if ptr.val in delete:\n",
    "                if ptr==head:\n",
    "                    head=head.next\n",
    "                else:\n",
    "                    prev.next=ptr.next\n",
    "            else:\n",
    "                prev=ptr\n",
    "            ptr=ptr.next\n",
    "        return head"
   ]
  }
 ],
 "metadata": {
  "language_info": {
   "name": "python"
  },
  "orig_nbformat": 4
 },
 "nbformat": 4,
 "nbformat_minor": 2
}
