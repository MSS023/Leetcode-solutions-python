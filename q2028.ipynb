{
 "cells": [
  {
   "cell_type": "code",
   "execution_count": 7,
   "metadata": {},
   "outputs": [],
   "source": [
    "from typing import *"
   ]
  },
  {
   "cell_type": "code",
   "execution_count": 6,
   "metadata": {},
   "outputs": [],
   "source": [
    "class Solution:\n",
    "    def missingRolls(self, rolls: List[int], mean: int, n: int) -> List[int]:\n",
    "        m = len(rolls)\n",
    "        origSum = mean*(n+m)\n",
    "        msum = sum(rolls)\n",
    "        nsum = origSum - msum\n",
    "\n",
    "        nMean = nsum // n\n",
    "        nMeanFract = nsum / n\n",
    "\n",
    "        if nMeanFract > 6 or nMean <= 0:\n",
    "            return []\n",
    "        \n",
    "        result = [None]*n\n",
    "        for idx in range(n):\n",
    "            result[idx] = nMean\n",
    "\n",
    "        if nMean * n == nsum:\n",
    "            return result\n",
    "        \n",
    "        idx = 0\n",
    "        diff = nsum - nMean*n\n",
    "        while diff > 0:\n",
    "            addition = min(diff, 6 - result[idx])\n",
    "            result[idx] += addition\n",
    "            diff -= addition\n",
    "            idx += 1\n",
    "\n",
    "        return result"
   ]
  },
  {
   "cell_type": "code",
   "execution_count": 9,
   "metadata": {},
   "outputs": [
    {
     "name": "stdout",
     "output_type": "stream",
     "text": [
      "[6, 6]\n",
      "[3, 2, 2, 2]\n",
      "[]\n"
     ]
    }
   ],
   "source": [
    "print(Solution().missingRolls(rolls = [3, 2,4,3], mean = 4, n = 2))\n",
    "print(Solution().missingRolls(rolls = [1, 5,6], mean = 3, n = 4))\n",
    "print(Solution().missingRolls(rolls = [1, 2,3,4], mean = 6, n = 4))"
   ]
  }
 ],
 "metadata": {
  "kernelspec": {
   "display_name": "Python 3",
   "language": "python",
   "name": "python3"
  },
  "language_info": {
   "codemirror_mode": {
    "name": "ipython",
    "version": 3
   },
   "file_extension": ".py",
   "mimetype": "text/x-python",
   "name": "python",
   "nbconvert_exporter": "python",
   "pygments_lexer": "ipython3",
   "version": "3.13.1"
  }
 },
 "nbformat": 4,
 "nbformat_minor": 2
}
