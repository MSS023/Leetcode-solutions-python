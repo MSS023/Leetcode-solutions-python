{
 "cells": [
  {
   "cell_type": "code",
   "execution_count": 8,
   "id": "9583fa92",
   "metadata": {},
   "outputs": [],
   "source": [
    "from typing import *\n",
    "import math"
   ]
  },
  {
   "cell_type": "code",
   "execution_count": null,
   "id": "f6dd5e12",
   "metadata": {},
   "outputs": [],
   "source": [
    "class Solution:\n",
    "    def __init__(self):\n",
    "        self.counts = {}\n",
    "        self.perms = set()\n",
    "\n",
    "    def getPermutation(self, digits: List[int], reqSum: int, reqCount: int, currSet: Set[int]):\n",
    "        if reqCount == 0 and reqSum == 0:\n",
    "            self.perms.add(\"\".join(sorted(currSet)))\n",
    "        if reqSum <= 0:\n",
    "            return\n",
    "        \n",
    "        for idx in range(len(digits)):\n",
    "            digit = digits[idx]\n",
    "            if digit > reqSum:\n",
    "                continue\n",
    "            self.getPermutation(digits[idx+1:], reqSum - digit, reqCount - 1, currSet.add(idx))\n",
    "\n",
    "    def countBalancedPermutations(self, num: str) -> int:\n",
    "        numArr = [int(digit) for digit in num]\n",
    "        self.idxSet = set([idx for idx in range(len(numArr))])\n",
    "        total = sum(numArr)\n",
    "        if total & 1 == 1:\n",
    "            return 0\n",
    "        half = total // 2\n",
    "\n",
    "        self.getPermutation(numArr, half, math.ceil(numArr/2), set())\n",
    "\n",
    "        result = \n",
    "        for perm in self.perms:\n"
   ]
  },
  {
   "cell_type": "code",
   "execution_count": 7,
   "id": "a1ef0173",
   "metadata": {},
   "outputs": [
    {
     "name": "stdout",
     "output_type": "stream",
     "text": [
      "None\n",
      "None\n",
      "0\n",
      "None\n"
     ]
    }
   ],
   "source": [
    "print(Solution().countBalancedPermutations(\"123\"))\n",
    "print(Solution().countBalancedPermutations(\"112\"))\n",
    "print(Solution().countBalancedPermutations(\"12345\"))\n",
    "print(Solution().countBalancedPermutations(\"1234567\"))"
   ]
  }
 ],
 "metadata": {
  "kernelspec": {
   "display_name": "Python 3",
   "language": "python",
   "name": "python3"
  },
  "language_info": {
   "codemirror_mode": {
    "name": "ipython",
    "version": 3
   },
   "file_extension": ".py",
   "mimetype": "text/x-python",
   "name": "python",
   "nbconvert_exporter": "python",
   "pygments_lexer": "ipython3",
   "version": "3.10.11"
  }
 },
 "nbformat": 4,
 "nbformat_minor": 5
}
