{
 "cells": [
  {
   "cell_type": "code",
   "execution_count": 1,
   "metadata": {},
   "outputs": [],
   "source": [
    "from typing import *"
   ]
  },
  {
   "cell_type": "code",
   "execution_count": 2,
   "metadata": {},
   "outputs": [],
   "source": [
    "class Solution:\n",
    "    def waysToSplitArray(self, nums: List[int]) -> int:\n",
    "        n = len(nums)\n",
    "        prefixSum, suffixSum = [0]*n, [0]*n\n",
    "\n",
    "        for idx in range(len(nums)):\n",
    "            if idx == 0:\n",
    "                prefixSum[idx] = nums[idx]\n",
    "                suffixSum[-idx-1] = nums[-idx-1]\n",
    "                continue\n",
    "\n",
    "            prefixSum[idx] = prefixSum[idx-1] + nums[idx]\n",
    "            suffixSum[-idx-1] = suffixSum[-idx] + nums[-idx-1]\n",
    "\n",
    "        count = 0\n",
    "        for idx in range(n-1):\n",
    "            if prefixSum[idx] >= suffixSum[idx+1]:\n",
    "                count += 1\n",
    "\n",
    "        return count"
   ]
  },
  {
   "cell_type": "code",
   "execution_count": 5,
   "metadata": {},
   "outputs": [],
   "source": [
    "class Solution:\n",
    "    def waysToSplitArray(self, nums: List[int]) -> int:\n",
    "        n = len(nums)\n",
    "\n",
    "        totalS = 0\n",
    "        totalE = sum(nums)\n",
    "\n",
    "        count = 0\n",
    "\n",
    "        for idx in range(n-1):\n",
    "            totalS += nums[idx]\n",
    "            totalE -= nums[idx]\n",
    "\n",
    "            if totalS >= totalE:\n",
    "                count += 1\n",
    "\n",
    "        return count"
   ]
  },
  {
   "cell_type": "code",
   "execution_count": 6,
   "metadata": {},
   "outputs": [
    {
     "name": "stdout",
     "output_type": "stream",
     "text": [
      "2\n"
     ]
    }
   ],
   "source": [
    "print(Solution().waysToSplitArray(nums = [2, 3,1,0]))"
   ]
  }
 ],
 "metadata": {
  "kernelspec": {
   "display_name": "Python 3",
   "language": "python",
   "name": "python3"
  },
  "language_info": {
   "codemirror_mode": {
    "name": "ipython",
    "version": 3
   },
   "file_extension": ".py",
   "mimetype": "text/x-python",
   "name": "python",
   "nbconvert_exporter": "python",
   "pygments_lexer": "ipython3",
   "version": "3.13.1"
  }
 },
 "nbformat": 4,
 "nbformat_minor": 2
}
