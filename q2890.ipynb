{
 "cells": [
  {
   "cell_type": "code",
   "execution_count": 4,
   "id": "293ae70e",
   "metadata": {},
   "outputs": [],
   "source": [
    "from typing import *\n",
    "import pandas\n",
    "import numpy"
   ]
  },
  {
   "cell_type": "code",
   "execution_count": 60,
   "id": "eeb90a4f",
   "metadata": {},
   "outputs": [],
   "source": [
    "import pandas as pd\n",
    "\n",
    "def meltTable(report: pd.DataFrame) -> pd.DataFrame:\n",
    "    quarter1 = report[[\"product\", \"quarter_1\"]]\n",
    "    quarter1 = quarter1.rename(columns={\"quarter_1\": \"sales\"})\n",
    "    quarter1[\"quarter\"] = \"quarter_1\"\n",
    "    quarter2 = report[[\"product\", \"quarter_2\"]]\n",
    "    quarter2 = quarter2.rename(columns={\"quarter_2\": \"sales\"})\n",
    "    quarter2[\"quarter\"] = \"quarter_2\"\n",
    "    quarter3 = report[[\"product\", \"quarter_3\"]]\n",
    "    quarter3 = quarter3.rename(columns={\"quarter_3\": \"sales\"})\n",
    "    quarter3[\"quarter\"] = \"quarter_3\"\n",
    "    quarter4 = report[[\"product\", \"quarter_4\"]]\n",
    "    quarter4 = quarter4.rename(columns={\"quarter_4\": \"sales\"})\n",
    "    quarter4[\"quarter\"] = \"quarter_4\"\n",
    "\n",
    "    meltedData = quarter1\n",
    "    meltedData = pd.concat([meltedData, quarter2])\n",
    "    meltedData = pd.concat([meltedData, quarter3])\n",
    "    meltedData = pd.concat([meltedData, quarter4])\n",
    "    return meltedData[[\"product\",\"quarter\",\"sales\"]]"
   ]
  },
  {
   "cell_type": "code",
   "execution_count": 59,
   "id": "91e4163c",
   "metadata": {},
   "outputs": [
    {
     "name": "stdout",
     "output_type": "stream",
     "text": [
      "       product quarter\n",
      "0     Umbrella     417\n",
      "1  SleepingBag     800\n",
      "0     Umbrella     224\n",
      "1  SleepingBag     936\n",
      "0     Umbrella     379\n",
      "1  SleepingBag      93\n"
     ]
    }
   ],
   "source": [
    "data_array_np = numpy.array([[\"Umbrella\",417,224,379,611],[\"SleepingBag\",800,936,93,875]])\n",
    "df = pandas.DataFrame(data_array_np,columns=[\"product\",\"quarter_1\",\"quarter_2\",\"quarter_3\",\"quarter_4\"])\n",
    "result_df = meltTable(df)\n",
    "print(result_df)"
   ]
  }
 ],
 "metadata": {
  "kernelspec": {
   "display_name": "Python 3",
   "language": "python",
   "name": "python3"
  },
  "language_info": {
   "codemirror_mode": {
    "name": "ipython",
    "version": 3
   },
   "file_extension": ".py",
   "mimetype": "text/x-python",
   "name": "python",
   "nbconvert_exporter": "python",
   "pygments_lexer": "ipython3",
   "version": "3.10.11"
  }
 },
 "nbformat": 4,
 "nbformat_minor": 5
}
