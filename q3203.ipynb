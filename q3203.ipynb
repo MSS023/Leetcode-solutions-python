{
 "cells": [
  {
   "cell_type": "code",
   "execution_count": 10,
   "metadata": {},
   "outputs": [],
   "source": [
    "from typing import *\n",
    "import math"
   ]
  },
  {
   "cell_type": "markdown",
   "metadata": {},
   "source": [
    "TLE"
   ]
  },
  {
   "cell_type": "code",
   "execution_count": 11,
   "metadata": {},
   "outputs": [],
   "source": [
    "class Solution:\n",
    "    def __init__(self):\n",
    "        self.memo = {}\n",
    "\n",
    "    def getEdgeMap(self, edges: List[List[int]]) -> Dict[int, List[int]]:\n",
    "        edgeMap = {0: []}\n",
    "\n",
    "        for a, b in edges:\n",
    "            if a not in edgeMap:\n",
    "                edgeMap[a] = []\n",
    "            if b not in edgeMap:\n",
    "                edgeMap[b] = []\n",
    "\n",
    "            edgeMap[a].append(b)\n",
    "            edgeMap[b].append(a)\n",
    "\n",
    "        return edgeMap\n",
    "\n",
    "    def dfs(self, edgeMap: Dict[int, List[int]], node: int, stack: Set[int]) -> int:\n",
    "        if node in stack:\n",
    "            return 0\n",
    "\n",
    "        maxm = 0\n",
    "        stack.add(node)\n",
    "        for v in edgeMap[node]:\n",
    "            if v in stack:\n",
    "                continue\n",
    "            maxm = max(maxm, 1+self.dfs(edgeMap, v, stack.copy()))\n",
    "        return maxm\n",
    "\n",
    "    def getMaxEdgeLength(self, edgeMap: Dict[int, List[int]]) -> int:\n",
    "        n = len(edgeMap)\n",
    "\n",
    "        maxm = 0\n",
    "        for node in range(n):\n",
    "            maxm = max(maxm, self.dfs(edgeMap, node, set()))\n",
    "\n",
    "        return maxm\n",
    "\n",
    "    def minimumDiameterAfterMerge(self, edges1: List[List[int]], edges2: List[List[int]]) -> int:\n",
    " \n",
    "        edgeMap1 = self.getEdgeMap(edges1)\n",
    "        edgeMap2 = self.getEdgeMap(edges2)\n",
    "\n",
    "        maxEdge1 = self.getMaxEdgeLength(edgeMap1)\n",
    "        maxEdge2 = self.getMaxEdgeLength(edgeMap2)\n",
    "\n",
    "        return max(math.ceil(maxEdge1/2) + math.ceil(maxEdge2/2) + 1, maxEdge1, maxEdge2)"
   ]
  },
  {
   "cell_type": "code",
   "execution_count": 12,
   "metadata": {},
   "outputs": [
    {
     "name": "stdout",
     "output_type": "stream",
     "text": [
      "3\n",
      "5\n",
      "7\n"
     ]
    }
   ],
   "source": [
    "print(Solution().minimumDiameterAfterMerge(edges1 = [[0, 1],[0,2],[0,3]], edges2 = [[0,1]]))\n",
    "print(Solution().minimumDiameterAfterMerge(edges1 = [[0, 1],[0,2],[0,3],[2,4],[2,5],[3,6],[2,7]], edges2 = [[0,1],[0,2],[0,3],[2,4],[2,5],[3,6],[2,7]]))\n",
    "print(Solution().minimumDiameterAfterMerge(edges1 = [[0, 1], [2,0],[3,2],[3,6],[8,7],[4,8],[5,4],[3,5],[3,9]], edges2 = [[0,1],[0,2],[0,3]]))"
   ]
  }
 ],
 "metadata": {
  "kernelspec": {
   "display_name": "Python 3",
   "language": "python",
   "name": "python3"
  },
  "language_info": {
   "codemirror_mode": {
    "name": "ipython",
    "version": 3
   },
   "file_extension": ".py",
   "mimetype": "text/x-python",
   "name": "python",
   "nbconvert_exporter": "python",
   "pygments_lexer": "ipython3",
   "version": "3.13.1"
  }
 },
 "nbformat": 4,
 "nbformat_minor": 2
}
