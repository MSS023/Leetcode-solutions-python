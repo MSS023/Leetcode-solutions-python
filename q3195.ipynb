{
 "cells": [
  {
   "cell_type": "code",
   "execution_count": 1,
   "id": "76ee8967",
   "metadata": {},
   "outputs": [],
   "source": [
    "from typing import *"
   ]
  },
  {
   "cell_type": "code",
   "execution_count": 2,
   "id": "b442100e",
   "metadata": {},
   "outputs": [],
   "source": [
    "class Solution:\n",
    "    def minimumArea(self, grid: List[List[int]]) -> int:\n",
    "        m,n = len(grid), len(grid[0])\n",
    "\n",
    "        t,b = m, 0\n",
    "        l,r = n, 0\n",
    "\n",
    "        for idx1 in range(m):\n",
    "            for idx2 in range(n):\n",
    "                if grid[idx1][idx2] == 0:\n",
    "                    continue\n",
    "                t, b = min(t, idx1), max(b, idx1)\n",
    "                l, r = min(l, idx2), max(r, idx2)\n",
    "\n",
    "        return (b-t+1)*(r-l+1)"
   ]
  },
  {
   "cell_type": "code",
   "execution_count": 3,
   "id": "5d825c1d",
   "metadata": {},
   "outputs": [
    {
     "name": "stdout",
     "output_type": "stream",
     "text": [
      "6\n",
      "1\n"
     ]
    }
   ],
   "source": [
    "print(Solution().minimumArea(grid = [[0,1,0],[1,0,1]]))\n",
    "print(Solution().minimumArea(grid = [[1,0],[0,0]]))"
   ]
  }
 ],
 "metadata": {
  "kernelspec": {
   "display_name": "Python 3",
   "language": "python",
   "name": "python3"
  },
  "language_info": {
   "codemirror_mode": {
    "name": "ipython",
    "version": 3
   },
   "file_extension": ".py",
   "mimetype": "text/x-python",
   "name": "python",
   "nbconvert_exporter": "python",
   "pygments_lexer": "ipython3",
   "version": "3.10.11"
  }
 },
 "nbformat": 4,
 "nbformat_minor": 5
}
