{
 "cells": [
  {
   "cell_type": "code",
   "execution_count": 1,
   "metadata": {},
   "outputs": [],
   "source": [
    "# Definition for a binary tree node.\n",
    "class TreeNode:\n",
    "    def __init__(self, val=0, left=None, right=None):\n",
    "        self.val = val\n",
    "        self.left = left\n",
    "        self.right = right"
   ]
  },
  {
   "cell_type": "code",
   "execution_count": 4,
   "metadata": {},
   "outputs": [],
   "source": [
    "class Solution:\n",
    "    def minCameraCover(self, root: TreeNode = None) -> int:\n",
    "        def modifiedDFS(node: TreeNode,parent: TreeNode):\n",
    "            count = 0\n",
    "            if node.left is None and node.right is None:\n",
    "                if parent is None:\n",
    "                    node.val = 1\n",
    "                    return 1\n",
    "                return 0\n",
    "            if node.left:\n",
    "                count += modifiedDFS(node.left,node)\n",
    "            if node.right:\n",
    "                count += modifiedDFS(node.right,node)\n",
    "            if node.val > 0:\n",
    "                if (node.left and node.left.val == 0) or (node.right and node.right.val == 0):\n",
    "                    node.val = 1\n",
    "                    if node.left:\n",
    "                        node.left.val = 1\n",
    "                    if node.right:\n",
    "                        node.right.val = 1\n",
    "                    if parent:\n",
    "                        parent.val = 1\n",
    "                    return 1+count\n",
    "            else:\n",
    "                if (node.left and node.left.val == 0) or (node.right and node.right.val == 0):\n",
    "                    node.val = 1\n",
    "                    if node.left:\n",
    "                        node.left.val = 1\n",
    "                    if node.right:\n",
    "                        node.right.val = 1\n",
    "                    if parent:\n",
    "                        parent.val = 1\n",
    "                    return 1+count\n",
    "                if parent is None:\n",
    "                    node.val = 1\n",
    "                    if node.left:\n",
    "                        node.left.val = 1\n",
    "                    if node.right:\n",
    "                        node.right.val = 1\n",
    "                    return 1+count\n",
    "            return count\n",
    "        return modifiedDFS(root,None)"
   ]
  }
 ],
 "metadata": {
  "kernelspec": {
   "display_name": "Python 3.10.2 64-bit",
   "language": "python",
   "name": "python3"
  },
  "language_info": {
   "codemirror_mode": {
    "name": "ipython",
    "version": 3
   },
   "file_extension": ".py",
   "mimetype": "text/x-python",
   "name": "python",
   "nbconvert_exporter": "python",
   "pygments_lexer": "ipython3",
   "version": "3.10.2"
  },
  "orig_nbformat": 4,
  "vscode": {
   "interpreter": {
    "hash": "7fa5c2bbde354df5fb32f89863fd9628b3718657b842099e0733f1c707419bc4"
   }
  }
 },
 "nbformat": 4,
 "nbformat_minor": 2
}
