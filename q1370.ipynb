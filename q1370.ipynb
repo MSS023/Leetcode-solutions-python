{
 "cells": [
  {
   "cell_type": "code",
   "execution_count": 8,
   "metadata": {},
   "outputs": [],
   "source": [
    "class Solution:\n",
    "    def sortString(self, s: str) -> str:\n",
    "        li = sorted(s)\n",
    "        res = \"\"\n",
    "        while li:\n",
    "            index = 0\n",
    "            res += li.pop(index)\n",
    "            while index < len(li):\n",
    "                if li[index] != res[-1]:\n",
    "                    res += li.pop(index)\n",
    "                    continue\n",
    "                index += 1\n",
    "            if not li:\n",
    "                return res\n",
    "            index-=1\n",
    "            res += li.pop(index)\n",
    "            index-=1\n",
    "            while index > -1:\n",
    "                if li[index] != res[-1]:\n",
    "                    res += li.pop(index)\n",
    "                index -= 1\n",
    "        return res"
   ]
  },
  {
   "cell_type": "code",
   "execution_count": 9,
   "metadata": {},
   "outputs": [
    {
     "data": {
      "text/plain": [
       "'art'"
      ]
     },
     "execution_count": 9,
     "metadata": {},
     "output_type": "execute_result"
    }
   ],
   "source": [
    "Solution().sortString(\"rat\")"
   ]
  }
 ],
 "metadata": {
  "kernelspec": {
   "display_name": "Python 3.10.2 64-bit",
   "language": "python",
   "name": "python3"
  },
  "language_info": {
   "codemirror_mode": {
    "name": "ipython",
    "version": 3
   },
   "file_extension": ".py",
   "mimetype": "text/x-python",
   "name": "python",
   "nbconvert_exporter": "python",
   "pygments_lexer": "ipython3",
   "version": "3.10.2"
  },
  "orig_nbformat": 4,
  "vscode": {
   "interpreter": {
    "hash": "7fa5c2bbde354df5fb32f89863fd9628b3718657b842099e0733f1c707419bc4"
   }
  }
 },
 "nbformat": 4,
 "nbformat_minor": 2
}
