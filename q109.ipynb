{
 "cells": [
  {
   "cell_type": "code",
   "execution_count": 1,
   "metadata": {},
   "outputs": [],
   "source": [
    "from typing import *"
   ]
  },
  {
   "cell_type": "code",
   "execution_count": 3,
   "metadata": {},
   "outputs": [],
   "source": [
    "# Definition for singly-linked list.\n",
    "class ListNode:\n",
    "    def __init__(self, val=0, next=None):\n",
    "        self.val = val\n",
    "        self.next = next\n",
    "# Definition for a binary tree node.\n",
    "class TreeNode:\n",
    "    def __init__(self, val=0, left=None, right=None):\n",
    "        self.val = val\n",
    "        self.left = left\n",
    "        self.right = right"
   ]
  },
  {
   "cell_type": "code",
   "execution_count": 35,
   "metadata": {},
   "outputs": [],
   "source": [
    "class Solution:\n",
    "    def sortedListToBST(self, head: Optional[ListNode]) -> Optional[TreeNode]:\n",
    "        def findHalf(head, tail = None):\n",
    "            ptr1 = head\n",
    "            ptr2 = head\n",
    "            while ptr2 != tail and ptr2.next != tail:\n",
    "                ptr1 = ptr1.next\n",
    "                ptr2 = ptr2.next.next\n",
    "            return ptr1\n",
    "        \n",
    "        def makeBST(head, tail = None):\n",
    "            if head == tail:\n",
    "                return None\n",
    "            mid = findHalf(head, tail)\n",
    "            root = TreeNode(mid.val)\n",
    "            root.right = makeBST(mid.next, tail)\n",
    "            root.left = makeBST(head, mid)\n",
    "            return root\n",
    "        \n",
    "        return makeBST(head)"
   ]
  },
  {
   "cell_type": "code",
   "execution_count": 41,
   "metadata": {},
   "outputs": [],
   "source": [
    "def makeList(arr):\n",
    "    head = ListNode()\n",
    "    temp = head\n",
    "    for i in arr:\n",
    "        temp.next = ListNode(i)\n",
    "        temp = temp.next\n",
    "    return head.next\n",
    "\n",
    "def bfs(root):\n",
    "    queue = [root]\n",
    "    while queue:\n",
    "        node = queue.pop(0)\n",
    "        print(node and node.val)\n",
    "        if node is None:\n",
    "            continue\n",
    "        queue.append(node.left)\n",
    "        queue.append(node.right)"
   ]
  },
  {
   "cell_type": "code",
   "execution_count": 42,
   "metadata": {},
   "outputs": [
    {
     "name": "stdout",
     "output_type": "stream",
     "text": [
      "0\n",
      "-3\n",
      "9\n",
      "-10\n",
      "None\n",
      "5\n",
      "None\n",
      "None\n",
      "None\n",
      "None\n",
      "None\n"
     ]
    }
   ],
   "source": [
    "obj = Solution().sortedListToBST(makeList([-10,-3,0,5,9]))\n",
    "bfs(obj)"
   ]
  }
 ],
 "metadata": {
  "kernelspec": {
   "display_name": "Python 3",
   "language": "python",
   "name": "python3"
  },
  "language_info": {
   "codemirror_mode": {
    "name": "ipython",
    "version": 3
   },
   "file_extension": ".py",
   "mimetype": "text/x-python",
   "name": "python",
   "nbconvert_exporter": "python",
   "pygments_lexer": "ipython3",
   "version": "3.10.6"
  },
  "orig_nbformat": 4,
  "vscode": {
   "interpreter": {
    "hash": "f15627b29e15848638e903c52dd09ae6c4c9adb1719aae45dda3850ec7954c19"
   }
  }
 },
 "nbformat": 4,
 "nbformat_minor": 2
}
