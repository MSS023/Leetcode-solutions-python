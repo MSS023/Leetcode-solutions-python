{
 "cells": [
  {
   "cell_type": "code",
   "execution_count": null,
   "metadata": {},
   "outputs": [],
   "source": [
    "# Definition for a binary tree node.\n",
    "# class TreeNode:\n",
    "#     def __init__(self, val=0, left=None, right=None):\n",
    "#         self.val = val\n",
    "#         self.left = left\n",
    "#         self.right = right\n",
    "class BSTIterator:\n",
    "\n",
    "    def __init__(self, root: Optional[TreeNode]):\n",
    "        self.root=root\n",
    "        self.arr=[]\n",
    "        def inorder(root,arr):\n",
    "            if root is None:\n",
    "                return arr\n",
    "            arr=inorder(root.left,arr)\n",
    "            arr.append(root.val)\n",
    "            arr=inorder(root.right,arr)\n",
    "            return arr\n",
    "        self.arr=inorder(root,self.arr)\n",
    "\n",
    "    def next(self) -> int:\n",
    "        return self.arr.pop(0)\n",
    "\n",
    "    def hasNext(self) -> bool:\n",
    "        if len(self.arr)>0:\n",
    "            return True\n",
    "        return False\n",
    "\n",
    "\n",
    "# Your BSTIterator object will be instantiated and called as such:\n",
    "# obj = BSTIterator(root)\n",
    "# param_1 = obj.next()\n",
    "# param_2 = obj.hasNext()"
   ]
  }
 ],
 "metadata": {
  "language_info": {
   "name": "python"
  },
  "orig_nbformat": 4
 },
 "nbformat": 4,
 "nbformat_minor": 2
}
