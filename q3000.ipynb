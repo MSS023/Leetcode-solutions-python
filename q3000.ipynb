{
 "cells": [
  {
   "cell_type": "code",
   "execution_count": 1,
   "id": "e6596429",
   "metadata": {},
   "outputs": [],
   "source": [
    "from typing import *"
   ]
  },
  {
   "cell_type": "code",
   "execution_count": 2,
   "id": "88544e79",
   "metadata": {},
   "outputs": [],
   "source": [
    "class Solution:\n",
    "    def areaOfMaxDiagonal(self, dimensions: List[List[int]]) -> int:\n",
    "        maxm = (0,0)\n",
    "        for idx in range(len(dimensions)):\n",
    "            l,b = dimensions[idx]\n",
    "            maxm = max(maxm, (l**2+b**2, l*b))\n",
    "        \n",
    "        return maxm[1]"
   ]
  },
  {
   "cell_type": "code",
   "execution_count": 3,
   "id": "1c7721bd",
   "metadata": {},
   "outputs": [
    {
     "name": "stdout",
     "output_type": "stream",
     "text": [
      "30\n"
     ]
    }
   ],
   "source": [
    "print(Solution().areaOfMaxDiagonal([[2,6],[5,1],[3,10],[8,4]]))"
   ]
  }
 ],
 "metadata": {
  "kernelspec": {
   "display_name": "Python 3",
   "language": "python",
   "name": "python3"
  },
  "language_info": {
   "codemirror_mode": {
    "name": "ipython",
    "version": 3
   },
   "file_extension": ".py",
   "mimetype": "text/x-python",
   "name": "python",
   "nbconvert_exporter": "python",
   "pygments_lexer": "ipython3",
   "version": "3.10.11"
  }
 },
 "nbformat": 4,
 "nbformat_minor": 5
}
