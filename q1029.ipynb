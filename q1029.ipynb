{
 "cells": [
  {
   "cell_type": "code",
   "execution_count": null,
   "metadata": {},
   "outputs": [],
   "source": [
    "class Solution:\n",
    "    def twoCitySchedCost(self, costs: List[List[int]]) -> int:\n",
    "        costs.sort(key=lambda x: x[0]-x[1])\n",
    "        cost=0\n",
    "        n=len(costs)//2\n",
    "        for i in range(n):\n",
    "            cost+=costs[i][0]\n",
    "        for i in range(n,2*n):\n",
    "            cost+=costs[i][1]\n",
    "        return cost"
   ]
  }
 ],
 "metadata": {
  "language_info": {
   "name": "python"
  },
  "orig_nbformat": 4
 },
 "nbformat": 4,
 "nbformat_minor": 2
}
