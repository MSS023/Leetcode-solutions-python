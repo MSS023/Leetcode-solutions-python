{
 "cells": [
  {
   "cell_type": "code",
   "execution_count": 42,
   "metadata": {},
   "outputs": [],
   "source": [
    "from collections import OrderedDict\n",
    "\n",
    "class Node:\n",
    "    def __init__(self,ch: str = None):\n",
    "        self.ch = ch\n",
    "        self.alphas = OrderedDict()\n",
    "        self.idx = []\n",
    "    \n",
    "class Solution:\n",
    "    def suggestedProducts(self, products: list[str], searchWord: str) -> list[list[str]]:\n",
    "        trie = Node()\n",
    "        for id,product in enumerate(products):\n",
    "            curr = trie\n",
    "            for ch in product:\n",
    "                if ch not in curr.alphas:\n",
    "                    curr.alphas[ch] = Node(ch)\n",
    "                curr = curr.alphas[ch]\n",
    "                curr.idx.append(id)\n",
    "        res = []\n",
    "        flag = False\n",
    "        for ch in searchWord:\n",
    "            if ch not in trie.alphas:\n",
    "                flag = True\n",
    "            if flag:\n",
    "                res.append([])\n",
    "                continue\n",
    "            trie = trie.alphas[ch]\n",
    "            temp = [products[i] for i in trie.idx[0:3]]\n",
    "            res.append(temp)\n",
    "        return res\n"
   ]
  },
  {
   "cell_type": "code",
   "execution_count": 43,
   "metadata": {},
   "outputs": [
    {
     "data": {
      "text/plain": [
       "[['mobile', 'moblie'],\n",
       " ['mobile', 'moblie'],\n",
       " ['mobile', 'moblie'],\n",
       " ['mobile'],\n",
       " ['mobile'],\n",
       " ['mobile']]"
      ]
     },
     "execution_count": 43,
     "metadata": {},
     "output_type": "execute_result"
    }
   ],
   "source": [
    "Solution().suggestedProducts([\"mobile\",\"moblie\"],\"mobile\")"
   ]
  }
 ],
 "metadata": {
  "kernelspec": {
   "display_name": "Python 3.10.2 64-bit",
   "language": "python",
   "name": "python3"
  },
  "language_info": {
   "codemirror_mode": {
    "name": "ipython",
    "version": 3
   },
   "file_extension": ".py",
   "mimetype": "text/x-python",
   "name": "python",
   "nbconvert_exporter": "python",
   "pygments_lexer": "ipython3",
   "version": "3.10.2"
  },
  "orig_nbformat": 4,
  "vscode": {
   "interpreter": {
    "hash": "7fa5c2bbde354df5fb32f89863fd9628b3718657b842099e0733f1c707419bc4"
   }
  }
 },
 "nbformat": 4,
 "nbformat_minor": 2
}
