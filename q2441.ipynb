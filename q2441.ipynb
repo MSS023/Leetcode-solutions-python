{
 "cells": [
  {
   "cell_type": "code",
   "execution_count": null,
   "metadata": {},
   "outputs": [],
   "source": [
    "class Solution:\n",
    "    def findMaxK(self, nums: List[int]) -> int:\n",
    "        nums.sort()\n",
    "        if nums[0] > 0 or nums[-1] < 0:\n",
    "            return -1 \n",
    "        idx2 = 0\n",
    "        for idx in range(len(nums)-1,-1,-1):\n",
    "            if nums[idx] < 0:\n",
    "                return -1\n",
    "            while nums[idx] <= -nums[idx2]:\n",
    "                if nums[idx] == -nums[idx2]:\n",
    "                    return nums[idx]\n",
    "                idx2 += 1\n",
    "        return -1"
   ]
  }
 ],
 "metadata": {
  "language_info": {
   "name": "python"
  },
  "orig_nbformat": 4
 },
 "nbformat": 4,
 "nbformat_minor": 2
}
