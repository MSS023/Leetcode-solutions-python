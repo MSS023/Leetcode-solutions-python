{
 "cells": [
  {
   "cell_type": "code",
   "execution_count": 1,
   "id": "af098d8a",
   "metadata": {},
   "outputs": [],
   "source": [
    "from typing import *"
   ]
  },
  {
   "cell_type": "code",
   "execution_count": null,
   "id": "f3459dd3",
   "metadata": {},
   "outputs": [],
   "source": [
    "class Bank:\n",
    "\n",
    "    def __init__(self, balance: List[int]):\n",
    "        n = len(balance)\n",
    "        self.n = n\n",
    "        self.accounts = balance.copy()\n",
    "\n",
    "    def transfer(self, account1: int, account2: int, money: int) -> bool:\n",
    "        if account1 not in range(1,self.n+1) or account2 not in range(1,self.n+1):\n",
    "            return False\n",
    "        if money > self.accounts[account1-1]:\n",
    "            return False\n",
    "        \n",
    "        self.accounts[account2-1] += money\n",
    "        self.accounts[account1-1] -= money\n",
    "        return True\n",
    "\n",
    "    def deposit(self, account: int, money: int) -> bool:\n",
    "        if account not in range(1,self.n+1):\n",
    "            return False\n",
    "        self.accounts[account-1] += money\n",
    "        return True    \n",
    "\n",
    "    def withdraw(self, account: int, money: int) -> bool:\n",
    "        if account not in range(1,self.n+1) or money > self.accounts[account-1]:\n",
    "            return False\n",
    "        \n",
    "        self.accounts[account-1] -= money\n",
    "        return True\n",
    "\n",
    "\n",
    "# Your Bank object will be instantiated and called as such:\n",
    "# obj = Bank(balance)\n",
    "# param_1 = obj.transfer(account1,account2,money)\n",
    "# param_2 = obj.deposit(account,money)\n",
    "# param_3 = obj.withdraw(account,money)"
   ]
  }
 ],
 "metadata": {
  "kernelspec": {
   "display_name": "Python 3",
   "language": "python",
   "name": "python3"
  },
  "language_info": {
   "codemirror_mode": {
    "name": "ipython",
    "version": 3
   },
   "file_extension": ".py",
   "mimetype": "text/x-python",
   "name": "python",
   "nbconvert_exporter": "python",
   "pygments_lexer": "ipython3",
   "version": "3.10.11"
  }
 },
 "nbformat": 4,
 "nbformat_minor": 5
}
