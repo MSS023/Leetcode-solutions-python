{
 "cells": [
  {
   "cell_type": "code",
   "execution_count": 1,
   "id": "a60caa12",
   "metadata": {},
   "outputs": [],
   "source": [
    "from typing import *"
   ]
  },
  {
   "cell_type": "code",
   "execution_count": 4,
   "id": "c9e41f13",
   "metadata": {},
   "outputs": [],
   "source": [
    "class Solution:\n",
    "    def findDiagonalOrder(self, mat: List[List[int]]) -> List[int]:\n",
    "        m,n = len(mat), len(mat[0])\n",
    "        totIterations = m+n-1\n",
    "        direction = 0\n",
    "        result = []\n",
    "        for itr in range(totIterations):\n",
    "            if not direction:\n",
    "                r = min(itr, m-1)\n",
    "                c = itr - r\n",
    "                while r > -1 and c < n:\n",
    "                    result.append(mat[r][c])\n",
    "                    r -= 1\n",
    "                    c += 1\n",
    "            else:\n",
    "                c = min(itr, n-1)\n",
    "                r = itr - c\n",
    "                while c > -1 and r < m:\n",
    "                    result.append(mat[r][c])\n",
    "                    r += 1\n",
    "                    c -= 1\n",
    "            direction ^= 1\n",
    "\n",
    "        return result"
   ]
  },
  {
   "cell_type": "code",
   "execution_count": 5,
   "id": "6a5f28d5",
   "metadata": {},
   "outputs": [
    {
     "name": "stdout",
     "output_type": "stream",
     "text": [
      "[1, 2, 4, 7, 5, 3, 6, 8, 9]\n",
      "[1, 2, 3, 4]\n",
      "[1, 2, 7, 13, 8, 3, 4, 9, 14, 19, 20, 15, 10, 5, 6, 11, 16, 21, 22, 17, 12, 18, 23, 24]\n"
     ]
    }
   ],
   "source": [
    "print(Solution().findDiagonalOrder([[1,2,3],[4,5,6],[7,8,9]]))\n",
    "print(Solution().findDiagonalOrder([[1,2],[3,4]]))\n",
    "print(Solution().findDiagonalOrder(\n",
    "    [\n",
    "        [1,2,3,4,5,6],\n",
    "        [7,8,9,10,11,12],\n",
    "        [13,14,15,16,17,18],\n",
    "        [19,20,21,22,23,24]\n",
    "    ]\n",
    "))"
   ]
  }
 ],
 "metadata": {
  "kernelspec": {
   "display_name": "Python 3",
   "language": "python",
   "name": "python3"
  },
  "language_info": {
   "codemirror_mode": {
    "name": "ipython",
    "version": 3
   },
   "file_extension": ".py",
   "mimetype": "text/x-python",
   "name": "python",
   "nbconvert_exporter": "python",
   "pygments_lexer": "ipython3",
   "version": "3.10.11"
  }
 },
 "nbformat": 4,
 "nbformat_minor": 5
}
