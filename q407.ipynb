{
 "cells": [
  {
   "cell_type": "code",
   "execution_count": 1,
   "metadata": {},
   "outputs": [],
   "source": [
    "from typing import *"
   ]
  },
  {
   "cell_type": "code",
   "execution_count": 8,
   "metadata": {},
   "outputs": [],
   "source": [
    "class Solution:\n",
    "    def main(self) -> int:\n",
    "        heightMap = self.heightMap\n",
    "        volMap = self.volMap\n",
    "\n",
    "        m, n = self.m, self.n\n",
    "\n",
    "        while True:\n",
    "            prevMap = [[*row] for row in volMap]\n",
    "            volume = 0\n",
    "\n",
    "            for r in range(m):\n",
    "                for c in range(n):\n",
    "                    if r in [0, m-1] or c in [0, n-1]:\n",
    "                        continue\n",
    "\n",
    "                    temp = [volMap[r-1][c], volMap[r][c-1], volMap[r+1][c], volMap[r][c+1]]\n",
    "\n",
    "                    minHeight, maxHeight = min(temp), max(*temp, heightMap[r][c])\n",
    "                    volMap[r][c] = maxHeight\n",
    "                    volume += (minHeight - heightMap[r][c]) if minHeight > heightMap[r][c] else 0\n",
    "\n",
    "            if volMap == prevMap:\n",
    "                return volume\n",
    "                    \n",
    "\n",
    "    def trapRainWater(self, heightMap: List[List[int]]) -> int:\n",
    "        m, n = len(heightMap), len(heightMap[0])\n",
    "\n",
    "        self.m, self.n = m, n\n",
    "\n",
    "        volMap = []\n",
    "\n",
    "        for r in range(m):\n",
    "            newRow = []\n",
    "            for c in range(n):\n",
    "                newRow.append(heightMap[r][c])\n",
    "            volMap.append(newRow)\n",
    "\n",
    "        self.heightMap = heightMap\n",
    "        self.volMap = volMap\n",
    "\n",
    "        return self.main()"
   ]
  },
  {
   "cell_type": "code",
   "execution_count": 10,
   "metadata": {},
   "outputs": [
    {
     "name": "stdout",
     "output_type": "stream",
     "text": [
      "16\n"
     ]
    }
   ],
   "source": [
    "# print(Solution().trapRainWater(heightMap = [[1, 4, 3, 1, 3, 2], [3, 2, 1, 3, 2, 4], [2, 3, 3, 2, 3, 1]]))\n",
    "# print(Solution().trapRainWater(heightMap = [[3, 3, 3,3,3],[3,2,2,2,3],[3,2,1,2,3],[3,2,2,2,3],[3,3,3,3,3]]))\n",
    "print(Solution().trapRainWater(heightMap = [[12, 13,1,12],[13,4,13,12],[13,8,10,12],[12,13,12,12],[13,13,13,13]]))"
   ]
  }
 ],
 "metadata": {
  "kernelspec": {
   "display_name": "Python 3",
   "language": "python",
   "name": "python3"
  },
  "language_info": {
   "codemirror_mode": {
    "name": "ipython",
    "version": 3
   },
   "file_extension": ".py",
   "mimetype": "text/x-python",
   "name": "python",
   "nbconvert_exporter": "python",
   "pygments_lexer": "ipython3",
   "version": "3.13.1"
  }
 },
 "nbformat": 4,
 "nbformat_minor": 2
}
