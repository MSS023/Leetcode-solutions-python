{
 "cells": [
  {
   "cell_type": "code",
   "execution_count": null,
   "metadata": {},
   "outputs": [],
   "source": [
    "class Solution:\n",
    "    def minDistance(self, word1: str, word2: str) -> int:\n",
    "        def lcs(X , Y):\n",
    "            m = len(X)\n",
    "            n = len(Y)\n",
    "            L = [[None]*(n+1) for i in range(m+1)]\n",
    "            for i in range(m+1):\n",
    "                for j in range(n+1):\n",
    "                    if i == 0 or j == 0 :\n",
    "                        L[i][j] = 0\n",
    "                    elif X[i-1] == Y[j-1]:\n",
    "                        L[i][j] = L[i-1][j-1]+1\n",
    "                    else:\n",
    "                        L[i][j] = max(L[i-1][j] , L[i][j-1])\n",
    "            return L[m][n]\n",
    "        length = lcs(word1,word2)\n",
    "        return len(word1) + len(word2) - 2*length"
   ]
  }
 ],
 "metadata": {
  "language_info": {
   "name": "python"
  },
  "orig_nbformat": 4
 },
 "nbformat": 4,
 "nbformat_minor": 2
}
