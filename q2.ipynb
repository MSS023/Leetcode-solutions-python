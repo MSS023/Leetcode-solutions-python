{
 "cells": [
  {
   "cell_type": "code",
   "execution_count": null,
   "metadata": {},
   "outputs": [],
   "source": [
    "# Definition for singly-linked list.\n",
    "# class ListNode:\n",
    "#     def __init__(self, val=0, next=None):\n",
    "#         self.val = val\n",
    "#         self.next = next\n",
    "class Solution:\n",
    "    def addTwoNumbers(self, l1: Optional[ListNode], l2: Optional[ListNode]) -> Optional[ListNode]:\n",
    "        sumL=None\n",
    "        trail=0\n",
    "        while l1 is not None or l2 is not None or trail>0:\n",
    "            sum=0\n",
    "            if l1 is not None and l1.val is not None:\n",
    "                sum+=l1.val\n",
    "            if l2 is not None and l2.val is not None:\n",
    "                sum+=l2.val\n",
    "            sum+=trail\n",
    "            trail=0\n",
    "            if sum>=10:\n",
    "                trail=sum//10\n",
    "                sum%=10\n",
    "            if sumL is None:\n",
    "                sumL=ListNode(sum)\n",
    "                head=sumL\n",
    "            else:\n",
    "                sumL.next=ListNode(sum)\n",
    "                sumL=sumL.next\n",
    "            if l1 is not None:\n",
    "                l1=l1.next\n",
    "            if l2 is not None:\n",
    "                l2=l2.next\n",
    "        return head"
   ]
  }
 ],
 "metadata": {
  "language_info": {
   "name": "python"
  },
  "orig_nbformat": 4
 },
 "nbformat": 4,
 "nbformat_minor": 2
}
