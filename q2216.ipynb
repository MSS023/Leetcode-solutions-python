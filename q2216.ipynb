{
 "cells": [
  {
   "cell_type": "code",
   "execution_count": 4,
   "metadata": {},
   "outputs": [],
   "source": [
    "class Solution:\n",
    "    def minDeletion(self, nums: list[int]) -> int:\n",
    "        index = 0\n",
    "        count = 0\n",
    "        while index<len(nums):\n",
    "            if index==len(nums)-1:\n",
    "                count+=1\n",
    "                nums.pop()\n",
    "                continue\n",
    "            if nums[index] != nums[index+1]:\n",
    "                index+=2\n",
    "                continue\n",
    "            if index == 0:\n",
    "                nums.pop(0)\n",
    "                count+=1\n",
    "                continue\n",
    "            if index > 1 and nums[index] != nums[index-2]:\n",
    "                nums.pop(index-1)\n",
    "                count+=1\n",
    "                continue\n",
    "            nums.pop(index)\n",
    "            count+=1\n",
    "        return count"
   ]
  },
  {
   "cell_type": "markdown",
   "metadata": {},
   "source": [
    "# Better Solution 👇"
   ]
  },
  {
   "cell_type": "code",
   "execution_count": 8,
   "metadata": {},
   "outputs": [],
   "source": [
    "class Solution:\n",
    "    def minDeletion(self, nums: list[int]) -> int:\n",
    "        index = 0\n",
    "        count = 0\n",
    "        while index < len(nums):\n",
    "            if index == len(nums)-1:\n",
    "                index+=1\n",
    "                count+=1\n",
    "                continue\n",
    "            if nums[index] != nums[index+1]:\n",
    "                index+=2\n",
    "                continue\n",
    "            index+=1\n",
    "            count+=1\n",
    "        return count"
   ]
  },
  {
   "cell_type": "code",
   "execution_count": 9,
   "metadata": {},
   "outputs": [
    {
     "data": {
      "text/plain": [
       "2"
      ]
     },
     "execution_count": 9,
     "metadata": {},
     "output_type": "execute_result"
    }
   ],
   "source": [
    "Solution().minDeletion([1,1,2,2,3,3])"
   ]
  }
 ],
 "metadata": {
  "kernelspec": {
   "display_name": "Python 3.10.2 64-bit",
   "language": "python",
   "name": "python3"
  },
  "language_info": {
   "codemirror_mode": {
    "name": "ipython",
    "version": 3
   },
   "file_extension": ".py",
   "mimetype": "text/x-python",
   "name": "python",
   "nbconvert_exporter": "python",
   "pygments_lexer": "ipython3",
   "version": "3.10.2"
  },
  "orig_nbformat": 4,
  "vscode": {
   "interpreter": {
    "hash": "7fa5c2bbde354df5fb32f89863fd9628b3718657b842099e0733f1c707419bc4"
   }
  }
 },
 "nbformat": 4,
 "nbformat_minor": 2
}
