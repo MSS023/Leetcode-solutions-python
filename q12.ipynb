{
 "cells": [
  {
   "cell_type": "code",
   "execution_count": 5,
   "metadata": {},
   "outputs": [
    {
     "data": {
      "text/plain": [
       "'MCMXCIV'"
      ]
     },
     "execution_count": 5,
     "metadata": {},
     "output_type": "execute_result"
    }
   ],
   "source": [
    "class Solution:\n",
    "    def intToRoman(self, num):\n",
    "        result=\"\"\n",
    "        if num==0:\n",
    "            return result\n",
    "        while num>=1000:\n",
    "            result+=\"M\"\n",
    "            num-=1000\n",
    "        if num>=900:\n",
    "            result+=\"CM\"\n",
    "            num-=900\n",
    "        while num>=500:\n",
    "            result+=\"D\"\n",
    "            num-=500\n",
    "        if num>=400:\n",
    "            result+=\"CD\"\n",
    "            num-=400\n",
    "        while num>=100:\n",
    "            result+=\"C\"\n",
    "            num-=100\n",
    "        if num>=90:\n",
    "            result+=\"XC\"\n",
    "            num-=90\n",
    "        while num>=50:\n",
    "            result+=\"L\"\n",
    "            num-=50\n",
    "        if num>=40:\n",
    "            result+=\"XL\"\n",
    "            num-=40\n",
    "        while num>=10:\n",
    "            result+=\"X\"\n",
    "            num-=10\n",
    "        if num>=9:\n",
    "            result+=\"IX\"\n",
    "            num-=9\n",
    "        while num>=5:\n",
    "            result+=\"V\"\n",
    "            num-=5\n",
    "        if num==4:\n",
    "            result+=\"IV\"\n",
    "            num-=4\n",
    "        while num>=1:\n",
    "            result+=\"I\"\n",
    "            num-=1\n",
    "        return result\n",
    "    \n",
    "sol=Solution()\n",
    "sol.intToRoman(1994)"
   ]
  }
 ],
 "metadata": {
  "interpreter": {
   "hash": "5c3b02fa24688d32a1d09351b7f8eac82a87272ad081601c73caead00a8e1fc4"
  },
  "kernelspec": {
   "display_name": "Python 2.7.17 64-bit (system)",
   "language": "python",
   "name": "python3"
  },
  "language_info": {
   "codemirror_mode": {
    "name": "ipython",
    "version": 2
   },
   "file_extension": ".py",
   "mimetype": "text/x-python",
   "name": "python",
   "nbconvert_exporter": "python",
   "pygments_lexer": "ipython2",
   "version": "2.7.17"
  },
  "orig_nbformat": 4
 },
 "nbformat": 4,
 "nbformat_minor": 2
}
