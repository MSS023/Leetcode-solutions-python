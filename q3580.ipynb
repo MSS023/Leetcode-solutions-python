{
 "cells": [
  {
   "cell_type": "code",
   "execution_count": 1,
   "id": "14249e8d",
   "metadata": {},
   "outputs": [],
   "source": [
    "from typing import *"
   ]
  },
  {
   "cell_type": "code",
   "execution_count": 67,
   "id": "0b038b8d",
   "metadata": {},
   "outputs": [],
   "source": [
    "import pandas as pd\n",
    "\n",
    "\n",
    "def find_consistently_improving_employees(employees: pd.DataFrame, performance_reviews: pd.DataFrame) -> pd.DataFrame:\n",
    "\n",
    "    # We rank rating by date for each employee\n",
    "    performance_reviews['rank'] = (performance_reviews.\n",
    "                                   groupby('employee_id')['review_date'].rank(ascending=False))\n",
    "\n",
    "    # We filter for most recent three\n",
    "    df = performance_reviews[performance_reviews['rank'] <= 3]\n",
    "\n",
    "    # We create a pivot table with columns for each rating\n",
    "    df = df.pivot(index=\"employee_id\", columns=\"rank\",\n",
    "                  values=\"rating\").reset_index()\n",
    "\n",
    "    # We filter for increasing ratings, and we compute score\n",
    "    df = df.dropna()[(df[1] > df[2]) & (df[2] > df[3])]\n",
    "    df['improvement_score'] = df[1] - df[3]\n",
    "\n",
    "    # We merge employee names, sort rows, and rearrange columns\n",
    "    return (df.merge(employees)\n",
    "            .sort_values(['improvement_score', 'name'], ascending=[0, 1])\n",
    "            .iloc[:, [0, 5, 4]])"
   ]
  },
  {
   "cell_type": "code",
   "execution_count": 68,
   "id": "6455a06e",
   "metadata": {},
   "outputs": [
    {
     "name": "stdout",
     "output_type": "stream",
     "text": [
      "   employee_id           name  improvement_score\n",
      "1            2      Bob Smith                3.0\n",
      "0            1  Alice Johnson                2.0\n",
      "2            3    Carol Davis                2.0\n"
     ]
    },
    {
     "name": "stderr",
     "output_type": "stream",
     "text": [
      "C:\\Users\\manan\\AppData\\Local\\Temp\\ipykernel_21976\\3015031968.py:18: UserWarning: Boolean Series key will be reindexed to match DataFrame index.\n",
      "  df = df.dropna()[(df[1] > df[2]) & (df[2] > df[3])]\n"
     ]
    }
   ],
   "source": [
    "employees = pd.DataFrame({\n",
    "    \"employee_id\": [1,2,3,4,5],\n",
    "    \"name\": ['Alice Johnson','Bob Smith', 'Carol Davis', 'David Wilson', 'Emma Brown']\n",
    "})\n",
    "\n",
    "performance_reviews = pd.DataFrame({\n",
    "    \"review_id\": [1,2,3,4,5,6,7,8,9,10,11,12,13,14,15,16,17],\n",
    "    \"employee_id\": [1,1,1,1,2,2,2,2,3,3,3,3,4,4,4,5,5],\n",
    "    \"review_date\": ['2023-01-15','2023-04-15','2023-07-15','2023-10-15','2023-02-01','2023-05-01','2023-08-01','2023-11-01','2023-03-10','2023-06-10','2023-09-10','2023-12-10','2023-01-20','2023-04-20','2023-07-20','2023-02-15','2023-05-15'],\n",
    "    \"rating\": [2,3,4,5,3,2,4,5,1,2,3,4,4,4,4,3,2]\n",
    "})\n",
    "performance_reviews[\"review_date\"] = pd.to_datetime(performance_reviews['review_date'])\n",
    "\n",
    "# print(employees)\n",
    "# print()\n",
    "# print(performance_reviews)\n",
    "# print()\n",
    "\n",
    "print(find_consistently_improving_employees(employees, performance_reviews))"
   ]
  }
 ],
 "metadata": {
  "kernelspec": {
   "display_name": "Python 3",
   "language": "python",
   "name": "python3"
  },
  "language_info": {
   "codemirror_mode": {
    "name": "ipython",
    "version": 3
   },
   "file_extension": ".py",
   "mimetype": "text/x-python",
   "name": "python",
   "nbconvert_exporter": "python",
   "pygments_lexer": "ipython3",
   "version": "3.10.11"
  }
 },
 "nbformat": 4,
 "nbformat_minor": 5
}
