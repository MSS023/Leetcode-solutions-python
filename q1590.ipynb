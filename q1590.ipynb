{
 "cells": [
  {
   "cell_type": "code",
   "execution_count": null,
   "metadata": {},
   "outputs": [],
   "source": [
    "class Solution:\n",
    "    def minSubarray(self, nums: List[int], p: int) -> int:\n",
    "        sumMod = sum(nums) % p\n",
    "        if sumMod == 0: return 0\n",
    "        prefixsum = 0\n",
    "        remainder2idx = {0:-1}\n",
    "        minLen = len(nums)\n",
    "        for idx, n in enumerate(nums):\n",
    "            prefixsum += n\n",
    "            prefixsum %= p # (11 % p + 3) % p == (11 + 3) % p, it is remainder now\n",
    "            target = (-sumMod + prefixsum + p) % p # it is possible that -sumMod + prefixsum is less than 0, make remainder > 0\n",
    "            if target in remainder2idx:\n",
    "                minLen = min(minLen, idx - remainder2idx[target])\n",
    "            remainder2idx[prefixsum] = idx\n",
    "\n",
    "        return -1 if minLen == len(nums) else minLen"
   ]
  }
 ],
 "metadata": {
  "language_info": {
   "name": "python"
  },
  "orig_nbformat": 4
 },
 "nbformat": 4,
 "nbformat_minor": 2
}
