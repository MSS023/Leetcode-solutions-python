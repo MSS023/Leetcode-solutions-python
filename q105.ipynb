{
 "cells": [
  {
   "cell_type": "code",
   "execution_count": 1,
   "metadata": {},
   "outputs": [],
   "source": [
    "# Definition for a binary tree node.\n",
    "class TreeNode:\n",
    "    def __init__(self, val=0, left=None, right=None):\n",
    "        self.val = val\n",
    "        self.left = left\n",
    "        self.right = right"
   ]
  },
  {
   "cell_type": "code",
   "execution_count": 9,
   "metadata": {},
   "outputs": [],
   "source": [
    "class Solution:\n",
    "    def buildTree(self, preorder: list[int], inorder: list[int]) -> TreeNode:\n",
    "        if len(preorder) == 0 or len(inorder) == 0:\n",
    "            return None\n",
    "        root = TreeNode(val = preorder.pop(0))\n",
    "        temp1 = inorder[:inorder.index(root.val)]\n",
    "        temp2 = preorder[:len(temp1)]\n",
    "        root.left = self.buildTree(temp2,temp1)\n",
    "        temp2 = preorder[len(temp1):]\n",
    "        temp1 = inorder[inorder.index(root.val)+1:]\n",
    "        root.right = self.buildTree(temp2,temp1)\n",
    "        return root"
   ]
  },
  {
   "cell_type": "code",
   "execution_count": 10,
   "metadata": {},
   "outputs": [
    {
     "name": "stdout",
     "output_type": "stream",
     "text": [
      "3\n",
      "9\n",
      "20\n",
      "15\n",
      "7\n"
     ]
    }
   ],
   "source": [
    "def bfs(root):\n",
    "    stack = [root]\n",
    "    while stack:\n",
    "        node = stack.pop(0)\n",
    "        print(node.val)\n",
    "        if node.left is not None:\n",
    "            stack.append(node.left)\n",
    "        if node.right is not None:\n",
    "            stack.append(node.right)\n",
    "\n",
    "bfs(Solution().buildTree([3,9,20,15,7],[9,3,15,20,7]))"
   ]
  }
 ],
 "metadata": {
  "kernelspec": {
   "display_name": "Python 3.10.5 64-bit",
   "language": "python",
   "name": "python3"
  },
  "language_info": {
   "codemirror_mode": {
    "name": "ipython",
    "version": 3
   },
   "file_extension": ".py",
   "mimetype": "text/x-python",
   "name": "python",
   "nbconvert_exporter": "python",
   "pygments_lexer": "ipython3",
   "version": "3.10.5"
  },
  "orig_nbformat": 4,
  "vscode": {
   "interpreter": {
    "hash": "f15627b29e15848638e903c52dd09ae6c4c9adb1719aae45dda3850ec7954c19"
   }
  }
 },
 "nbformat": 4,
 "nbformat_minor": 2
}
