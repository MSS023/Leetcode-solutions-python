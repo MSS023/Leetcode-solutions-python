{
 "cells": [
  {
   "cell_type": "code",
   "execution_count": 8,
   "metadata": {},
   "outputs": [],
   "source": [
    "class Solution:\n",
    "    def maskPII(self, s: str) -> str:\n",
    "        res = \"\"\n",
    "        if \"@\" in s:\n",
    "            s=s.lower()\n",
    "            res += s[0]+\"*****\"\n",
    "            indexOSep = s.index(\"@\")\n",
    "            res += s[indexOSep-1:]\n",
    "        else:\n",
    "            phoneNumber = \"\"\n",
    "            sep = ['+', '-', '(', ')', ' ']\n",
    "            for i in s:\n",
    "                if i in sep:\n",
    "                    continue\n",
    "                phoneNumber += i\n",
    "            countrycode = phoneNumber[:len(phoneNumber)-10]\n",
    "            localNumber = phoneNumber[len(phoneNumber)-10:len(phoneNumber)]\n",
    "            if len(countrycode)>0:\n",
    "                res+='+'+'*'*len(countrycode)+'-'\n",
    "            res+=\"***-***-\"\n",
    "            res+=localNumber[6:]\n",
    "        return res"
   ]
  },
  {
   "cell_type": "code",
   "execution_count": 9,
   "metadata": {},
   "outputs": [
    {
     "data": {
      "text/plain": [
       "'***-***-7890'"
      ]
     },
     "execution_count": 9,
     "metadata": {},
     "output_type": "execute_result"
    }
   ],
   "source": [
    "Solution().maskPII(\"1(234)567-890\")"
   ]
  }
 ],
 "metadata": {
  "kernelspec": {
   "display_name": "Python 3.10.2 64-bit",
   "language": "python",
   "name": "python3"
  },
  "language_info": {
   "codemirror_mode": {
    "name": "ipython",
    "version": 3
   },
   "file_extension": ".py",
   "mimetype": "text/x-python",
   "name": "python",
   "nbconvert_exporter": "python",
   "pygments_lexer": "ipython3",
   "version": "3.10.2"
  },
  "orig_nbformat": 4,
  "vscode": {
   "interpreter": {
    "hash": "7fa5c2bbde354df5fb32f89863fd9628b3718657b842099e0733f1c707419bc4"
   }
  }
 },
 "nbformat": 4,
 "nbformat_minor": 2
}
