{
 "cells": [
  {
   "cell_type": "code",
   "execution_count": 5,
   "metadata": {},
   "outputs": [
    {
     "name": "stdout",
     "output_type": "stream",
     "text": [
      "true\n"
     ]
    }
   ],
   "source": [
    "class Solution:\n",
    "    def isValid(self, s: str) -> bool:\n",
    "        stack=[]\n",
    "        for i in s:\n",
    "            if i==\"{\" or i==\"(\" or i==\"[\":\n",
    "                stack.append(i)\n",
    "            elif len(stack)==0:\n",
    "                return False\n",
    "            elif i==\"}\":\n",
    "                if stack.pop() != \"{\":\n",
    "                    return False\n",
    "            elif i==\"]\":\n",
    "                if stack.pop() != \"[\":\n",
    "                    return False\n",
    "            elif i==\")\":\n",
    "                if stack.pop() != \"(\":\n",
    "                    return False\n",
    "        if len(stack)>0:\n",
    "            return False\n",
    "        return True\n",
    "\n",
    "sol=Solution()\n",
    "print(sol.isValid(input()))"
   ]
  },
  {
   "cell_type": "code",
   "execution_count": 12,
   "metadata": {},
   "outputs": [
    {
     "name": "stdout",
     "output_type": "stream",
     "text": [
      "False\n"
     ]
    }
   ],
   "source": [
    "class Solution:\n",
    "    def isValid(self, s: str) -> bool:\n",
    "        dict={\"]\":\"[\",\"}\":\"{\",\")\":\"(\"}\n",
    "        stack=[]\n",
    "        for i in s:\n",
    "            if i in dict:\n",
    "                if len(stack)==0:\n",
    "                    return False\n",
    "                if stack.pop()!=dict[i]:\n",
    "                    return False\n",
    "            else:\n",
    "                stack.append(i)\n",
    "        if len(stack)>0:\n",
    "            return False\n",
    "        return True\n",
    "\n",
    "sol=Solution()\n",
    "print(sol.isValid(input()))"
   ]
  }
 ],
 "metadata": {
  "interpreter": {
   "hash": "84c7cd761066ce45b8a789f7b09f72a3209628e136df7af6e1c369b4f2245113"
  },
  "kernelspec": {
   "display_name": "Python 3.10.2 64-bit",
   "language": "python",
   "name": "python3"
  },
  "language_info": {
   "codemirror_mode": {
    "name": "ipython",
    "version": 3
   },
   "file_extension": ".py",
   "mimetype": "text/x-python",
   "name": "python",
   "nbconvert_exporter": "python",
   "pygments_lexer": "ipython3",
   "version": "3.10.2"
  },
  "orig_nbformat": 4
 },
 "nbformat": 4,
 "nbformat_minor": 2
}
