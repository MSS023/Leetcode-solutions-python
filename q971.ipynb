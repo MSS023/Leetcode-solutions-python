{
 "cells": [
  {
   "cell_type": "code",
   "execution_count": 1,
   "metadata": {},
   "outputs": [],
   "source": [
    "# Definition for a binary tree node.\n",
    "class TreeNode:\n",
    "    def __init__(self, val=0, left=None, right=None):\n",
    "        self.val = val\n",
    "        self.left = left\n",
    "        self.right = right"
   ]
  },
  {
   "cell_type": "code",
   "execution_count": 3,
   "metadata": {},
   "outputs": [],
   "source": [
    "class Solution:\n",
    "    def flipMatchVoyage(self, root: TreeNode, voyage: int) -> int:\n",
    "        def preOrder(node,changes,arr):\n",
    "            if node is None:\n",
    "                return changes\n",
    "            if node.val != voyage[len(arr)]:\n",
    "                return [-1]\n",
    "            arr.append(node.val)\n",
    "            if node.left is not None and voyage[len(arr)] != node.left.val:\n",
    "                node.left, node.right = node.right, node.left\n",
    "                changes.append(node.val)\n",
    "            changes = preOrder(node.left,changes,arr)\n",
    "            if changes == [-1]:\n",
    "                return [-1]\n",
    "            changes = preOrder(node.right,changes,arr)\n",
    "            return changes\n",
    "        changes = preOrder(root,[],[])\n",
    "        return changes"
   ]
  }
 ],
 "metadata": {
  "kernelspec": {
   "display_name": "Python 3.10.5 64-bit",
   "language": "python",
   "name": "python3"
  },
  "language_info": {
   "codemirror_mode": {
    "name": "ipython",
    "version": 3
   },
   "file_extension": ".py",
   "mimetype": "text/x-python",
   "name": "python",
   "nbconvert_exporter": "python",
   "pygments_lexer": "ipython3",
   "version": "3.10.5"
  },
  "orig_nbformat": 4,
  "vscode": {
   "interpreter": {
    "hash": "f15627b29e15848638e903c52dd09ae6c4c9adb1719aae45dda3850ec7954c19"
   }
  }
 },
 "nbformat": 4,
 "nbformat_minor": 2
}
