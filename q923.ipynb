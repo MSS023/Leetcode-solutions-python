{
 "cells": [
  {
   "cell_type": "code",
   "execution_count": 37,
   "metadata": {},
   "outputs": [],
   "source": [
    "from collections import Counter\n",
    "\n",
    "class Solution:\n",
    "    def threeSumMulti(self, arr: list[int], target: int) -> int:\n",
    "        dictionary=Counter(arr)\n",
    "        keys=sorted(dictionary)\n",
    "        res=0\n",
    "        for key1,i in enumerate(keys):\n",
    "            key2,key3=key1,len(keys)-1\n",
    "            while key2<=key3:\n",
    "                sum=i+keys[key2]+keys[key3]\n",
    "                if sum<target:\n",
    "                    key2+=1\n",
    "                    continue\n",
    "                if sum>target:\n",
    "                    key3-=1\n",
    "                    continue\n",
    "                if key1<key2<key3:\n",
    "                    res+=dictionary[keys[key1]]*dictionary[keys[key2]]*dictionary[keys[key3]]\n",
    "                elif key1 < key2 == key3:\n",
    "                    res+=dictionary[keys[key1]]*dictionary[keys[key2]]*(dictionary[keys[key3]]-1)//2\n",
    "                elif key1==key2<key3:\n",
    "                    res+=dictionary[keys[key1]]*(dictionary[keys[key2]]-1)//2 * dictionary[keys[key3]]\n",
    "                else: \n",
    "                    res+=dictionary[keys[key1]]*(dictionary[keys[key1]]-1)*(dictionary[keys[key1]]-2)//6\n",
    "                key2+=1\n",
    "                key3-=1\n",
    "        return res%(7+10**9)"
   ]
  },
  {
   "cell_type": "code",
   "execution_count": 38,
   "metadata": {},
   "outputs": [
    {
     "name": "stdout",
     "output_type": "stream",
     "text": [
      "20\n"
     ]
    }
   ],
   "source": [
    "print(Solution().threeSumMulti([int(x) for x in input().split()],int(input())))"
   ]
  }
 ],
 "metadata": {
  "interpreter": {
   "hash": "84c7cd761066ce45b8a789f7b09f72a3209628e136df7af6e1c369b4f2245113"
  },
  "kernelspec": {
   "display_name": "Python 3.10.2 64-bit",
   "language": "python",
   "name": "python3"
  },
  "language_info": {
   "codemirror_mode": {
    "name": "ipython",
    "version": 3
   },
   "file_extension": ".py",
   "mimetype": "text/x-python",
   "name": "python",
   "nbconvert_exporter": "python",
   "pygments_lexer": "ipython3",
   "version": "3.10.2"
  },
  "orig_nbformat": 4
 },
 "nbformat": 4,
 "nbformat_minor": 2
}
