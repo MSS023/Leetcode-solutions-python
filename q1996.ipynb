{
 "cells": [
  {
   "cell_type": "code",
   "execution_count": 13,
   "metadata": {},
   "outputs": [],
   "source": [
    "from typing import *\n",
    "\n",
    "class Solution:\n",
    "    def numberOfWeakCharacters(self, properties: List[List[int]]) -> int:\n",
    "        properties.sort(key = lambda x: x[0])\n",
    "        count = 0\n",
    "        groups = [properties[-1]]\n",
    "        for i in range(len(properties)-2,-1,-1):\n",
    "            node = properties[i]\n",
    "            for j in groups:\n",
    "                if node[1] < j[1] and node[0] < j[0]:\n",
    "                    count += 1\n",
    "                    break\n",
    "            if groups[0][0] == node[0]:\n",
    "                if groups[0][1] < node[1]:\n",
    "                    groups[0] = node\n",
    "            else:\n",
    "                groups.insert(0,node)\n",
    "        return count"
   ]
  },
  {
   "cell_type": "code",
   "execution_count": 41,
   "metadata": {},
   "outputs": [],
   "source": [
    "class Solution:\n",
    "    def numberOfWeakCharacters(self, properties: List[List[int]]) -> int:\n",
    "        properties.sort(key=lambda x: x[0])\n",
    "        count = 0\n",
    "        maxm = properties[-1][1]\n",
    "        groups = [properties[-1]]\n",
    "        for i in range(len(properties)-2,-1,-1):\n",
    "            node = properties[i]\n",
    "            if groups[0][0] == node[0]:\n",
    "                if groups[0][1] < node[1]:\n",
    "                    groups[0] = node\n",
    "            else:\n",
    "                maxm = max(maxm,groups[0][1])\n",
    "                groups.insert(0,node)\n",
    "            if (len(groups) > 1 or groups[0][0] > node[0]) and maxm > node[1]:\n",
    "                count += 1\n",
    "        return count"
   ]
  },
  {
   "cell_type": "code",
   "execution_count": 43,
   "metadata": {},
   "outputs": [],
   "source": [
    "class Solution:\n",
    "    def numberOfWeakCharacters(self, properties: List[List[int]]) -> int:\n",
    "        properties.sort(key=lambda x:(-x[0],x[1]))\n",
    "        mxattack=properties[0][0]\n",
    "        mxdefense=properties[0][1]\n",
    "        count=0\n",
    "        for i in range(1,len(properties)):\n",
    "            if properties[i][0]<mxattack and properties[i][1]<mxdefense:\n",
    "                count+=1\n",
    "            else:\n",
    "                mxattack=properties[i][0]\n",
    "                mxdefense=properties[i][1]\n",
    "        return count"
   ]
  },
  {
   "cell_type": "code",
   "execution_count": 44,
   "metadata": {},
   "outputs": [
    {
     "data": {
      "text/plain": [
       "1"
      ]
     },
     "execution_count": 44,
     "metadata": {},
     "output_type": "execute_result"
    }
   ],
   "source": [
    "Solution().numberOfWeakCharacters([[2,2],[3,3]])"
   ]
  }
 ],
 "metadata": {
  "kernelspec": {
   "display_name": "Python 3.10.6 64-bit",
   "language": "python",
   "name": "python3"
  },
  "language_info": {
   "codemirror_mode": {
    "name": "ipython",
    "version": 3
   },
   "file_extension": ".py",
   "mimetype": "text/x-python",
   "name": "python",
   "nbconvert_exporter": "python",
   "pygments_lexer": "ipython3",
   "version": "3.10.6"
  },
  "orig_nbformat": 4,
  "vscode": {
   "interpreter": {
    "hash": "f15627b29e15848638e903c52dd09ae6c4c9adb1719aae45dda3850ec7954c19"
   }
  }
 },
 "nbformat": 4,
 "nbformat_minor": 2
}
