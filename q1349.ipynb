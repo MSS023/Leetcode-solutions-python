{
 "cells": [
  {
   "cell_type": "code",
   "execution_count": 16,
   "metadata": {},
   "outputs": [],
   "source": [
    "class Solution:\n",
    "    def maxStudents(self, seats: list[list[str]]) -> int:\n",
    "        arr = []\n",
    "        points2idx = {}\n",
    "        for i,row in enumerate(seats):\n",
    "            for j,seat in enumerate(row):\n",
    "                if seat == \".\":\n",
    "                    points2idx[(i,j)] = True\n",
    "                    arr.append((i,j))\n",
    "        memo = {}\n",
    "        def recursive(available: list, pos):\n",
    "            if pos >= len(available):\n",
    "                return 0\n",
    "            count = 0\n",
    "            temp = available.copy()\n",
    "            if tuple(temp[pos+1:]) not in memo:\n",
    "                memo[tuple(temp[pos+1:])] = recursive(temp,pos+1)    \n",
    "            count = max(count,memo[tuple(temp[pos+1:])])\n",
    "            i,j = temp.pop(pos)\n",
    "            if j<len(seats[0])-1 and (i,j+1) in temp:\n",
    "                temp.remove((i,j+1))\n",
    "            if i<len(seats)-1:\n",
    "                if j>0 and (i+1,j-1) in temp:\n",
    "                    temp.remove((i+1,j-1))\n",
    "                if j<len(seats[0])-1 and (i+1,j+1) in temp:\n",
    "                    temp.remove((i+1,j+1))\n",
    "            if tuple(temp[pos:]) not in memo:\n",
    "                memo[tuple(temp[pos:])] = recursive(temp,pos)\n",
    "            count = max(count,memo[tuple(temp[pos:])]+1)\n",
    "            return count\n",
    "        return recursive(arr,0)"
   ]
  },
  {
   "cell_type": "code",
   "execution_count": 17,
   "metadata": {},
   "outputs": [],
   "source": [
    "class Solution:\n",
    "    def maxStudents(self, seats: list[list[str]]) -> int:\n",
    "        arr = []\n",
    "        points2idx = {}\n",
    "        for i,row in enumerate(seats):\n",
    "            for j,seat in enumerate(row):\n",
    "                if seat == \".\":\n",
    "                    points2idx[(i,j)] = True\n",
    "                    arr.append((i,j))\n",
    "        memo = {}\n",
    "        def recursive(available: list, pos):\n",
    "            if pos >= len(available):\n",
    "                return 0\n",
    "            count = 0\n",
    "            temp = available.copy()\n",
    "            i,j = temp.pop(pos)\n",
    "            if j<len(seats[0])-1 and (i,j+1) in temp:\n",
    "                temp.remove((i,j+1))\n",
    "            if i<len(seats)-1:\n",
    "                if j>0 and (i+1,j-1) in temp:\n",
    "                    temp.remove((i+1,j-1))\n",
    "                if j<len(seats[0])-1 and (i+1,j+1) in temp:\n",
    "                    temp.remove((i+1,j+1))\n",
    "            if tuple(temp[pos:]) not in memo:\n",
    "                memo[tuple(temp[pos:])] = recursive(temp,pos)\n",
    "            count = max(count,memo[tuple(temp[pos:])]+1)\n",
    "            temp = available.copy()\n",
    "            if tuple(temp[pos+1:]) not in memo:\n",
    "                memo[tuple(temp[pos+1:])] = recursive(temp,pos+1)    \n",
    "            count = max(count,memo[tuple(temp[pos+1:])])\n",
    "            return count\n",
    "        return recursive(arr,0)"
   ]
  },
  {
   "cell_type": "code",
   "execution_count": 18,
   "metadata": {},
   "outputs": [
    {
     "data": {
      "text/plain": [
       "10"
      ]
     },
     "execution_count": 18,
     "metadata": {},
     "output_type": "execute_result"
    }
   ],
   "source": [
    "Solution().maxStudents([[\"#\",\".\",\".\",\".\",\"#\"],\n",
    "                [\".\",\"#\",\".\",\"#\",\".\"],\n",
    "                [\".\",\".\",\"#\",\".\",\".\"],\n",
    "                [\".\",\"#\",\".\",\"#\",\".\"],\n",
    "                [\"#\",\".\",\".\",\".\",\"#\"]])"
   ]
  }
 ],
 "metadata": {
  "kernelspec": {
   "display_name": "Python 3.10.5 64-bit",
   "language": "python",
   "name": "python3"
  },
  "language_info": {
   "codemirror_mode": {
    "name": "ipython",
    "version": 3
   },
   "file_extension": ".py",
   "mimetype": "text/x-python",
   "name": "python",
   "nbconvert_exporter": "python",
   "pygments_lexer": "ipython3",
   "version": "3.10.5"
  },
  "orig_nbformat": 4,
  "vscode": {
   "interpreter": {
    "hash": "f15627b29e15848638e903c52dd09ae6c4c9adb1719aae45dda3850ec7954c19"
   }
  }
 },
 "nbformat": 4,
 "nbformat_minor": 2
}
