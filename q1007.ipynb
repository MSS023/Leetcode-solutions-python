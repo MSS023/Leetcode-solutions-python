{
 "cells": [
  {
   "cell_type": "code",
   "execution_count": 6,
   "metadata": {},
   "outputs": [
    {
     "data": {
      "text/plain": [
       "2"
      ]
     },
     "execution_count": 6,
     "metadata": {},
     "output_type": "execute_result"
    }
   ],
   "source": [
    "from collections import Counter\n",
    "\n",
    "class Solution:\n",
    "    def minDominoRotations(self, tops: list[int], bottoms: list[int]) -> int:\n",
    "        dictTops=Counter(tops)\n",
    "        dictBottoms=Counter(bottoms)\n",
    "        changes=len(tops)\n",
    "        for i in range(1,7):\n",
    "            if dictTops[i]+dictBottoms[i]<len(tops):\n",
    "                continue\n",
    "            temp1=0\n",
    "            temp2=0\n",
    "            flag=True\n",
    "            for j in range(len(tops)):\n",
    "                if tops[j]==bottoms[j]:\n",
    "                    if tops[j]!=i:\n",
    "                        flag=False\n",
    "                        break\n",
    "                    continue\n",
    "                if tops[j]!=i and bottoms[j]==i:\n",
    "                    temp1+=1\n",
    "                elif tops[j]==i and bottoms[j]!=i:\n",
    "                    temp2+=1\n",
    "                elif tops[j]!=i and bottoms[j]!=i:\n",
    "                    flag=False\n",
    "                    break\n",
    "            if flag and changes>min(temp1,temp2):\n",
    "                changes=min(temp1,temp2)\n",
    "        if changes==len(tops):\n",
    "            return -1\n",
    "        return changes\n",
    "\n",
    "sol=Solution()\n",
    "sol.minDominoRotations([int(x) for x in input().split()],[int(x) for x in input().split()])"
   ]
  }
 ],
 "metadata": {
  "interpreter": {
   "hash": "84c7cd761066ce45b8a789f7b09f72a3209628e136df7af6e1c369b4f2245113"
  },
  "kernelspec": {
   "display_name": "Python 3.10.2 64-bit",
   "language": "python",
   "name": "python3"
  },
  "language_info": {
   "codemirror_mode": {
    "name": "ipython",
    "version": 3
   },
   "file_extension": ".py",
   "mimetype": "text/x-python",
   "name": "python",
   "nbconvert_exporter": "python",
   "pygments_lexer": "ipython3",
   "version": "3.10.2"
  },
  "orig_nbformat": 4
 },
 "nbformat": 4,
 "nbformat_minor": 2
}
