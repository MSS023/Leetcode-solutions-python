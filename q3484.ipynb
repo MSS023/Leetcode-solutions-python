{
 "cells": [
  {
   "cell_type": "code",
   "execution_count": 1,
   "id": "d7485106",
   "metadata": {},
   "outputs": [],
   "source": [
    "from typing import *"
   ]
  },
  {
   "cell_type": "code",
   "execution_count": 13,
   "id": "d7a1e5be",
   "metadata": {},
   "outputs": [],
   "source": [
    "class Spreadsheet:\n",
    "\n",
    "    def __init__(self, rows: int):\n",
    "        self.sheet = [[0 for _ in range(26)] for _ in range(rows)]\n",
    "\n",
    "    def getCoords(self, add: str) -> List[int]:\n",
    "        col = add[0]\n",
    "        row = int(add[1:])-1\n",
    "        return [row, ord(col)-ord('A')]\n",
    "    \n",
    "    def getCellValue(self, add: str) -> int:\n",
    "        [row,col] = self.getCoords(add)\n",
    "        return self.sheet[row][col]\n",
    "\n",
    "    def setCell(self, cell: str, value: int) -> None:\n",
    "        [row, col] = self.getCoords(cell)\n",
    "        self.sheet[row][col] = value\n",
    "\n",
    "    def resetCell(self, cell: str) -> None:\n",
    "        self.setCell(cell, 0)\n",
    "\n",
    "    def isAddress(self, value: str) -> bool:\n",
    "        try:\n",
    "            int(value)\n",
    "            return False\n",
    "        except:\n",
    "            return True\n",
    "\n",
    "    def getOperands(self, formula: str) -> List[int]:\n",
    "        [op1, op2] = formula[1:].split(\"+\")\n",
    "        result = []\n",
    "        if self.isAddress(op1):\n",
    "            result.append(self.getCellValue(op1))\n",
    "        else:\n",
    "            result.append(int(op1))\n",
    "        if self.isAddress(op2):\n",
    "            result.append(self.getCellValue(op2))\n",
    "        else:\n",
    "            result.append(int(op2))\n",
    "        return result\n",
    "\n",
    "\n",
    "    def getValue(self, formula: str) -> int:\n",
    "        [op1, op2] = self.getOperands(formula)\n",
    "        return op1+op2\n",
    "        \n",
    "\n",
    "# Your Spreadsheet object will be instantiated and called as such:\n",
    "# obj = Spreadsheet(rows)\n",
    "# obj.setCell(cell,value)\n",
    "# obj.resetCell(cell)\n",
    "# param_3 = obj.getValue(formula)"
   ]
  },
  {
   "cell_type": "code",
   "execution_count": 14,
   "id": "1af5b7f5",
   "metadata": {},
   "outputs": [
    {
     "data": {
      "text/plain": [
       "15"
      ]
     },
     "execution_count": 14,
     "metadata": {},
     "output_type": "execute_result"
    }
   ],
   "source": [
    "sheet = Spreadsheet(3)\n",
    "sheet.getValue(\"=5+7\")\n",
    "sheet.setCell(\"A1\",10)\n",
    "sheet.getValue(\"=A1+6\")\n",
    "sheet.setCell(\"B2\",15)\n",
    "sheet.getValue(\"=A1+B2\")\n",
    "sheet.resetCell(\"A1\")\n",
    "sheet.getValue(\"=A1+B2\")"
   ]
  }
 ],
 "metadata": {
  "kernelspec": {
   "display_name": "Python 3",
   "language": "python",
   "name": "python3"
  },
  "language_info": {
   "codemirror_mode": {
    "name": "ipython",
    "version": 3
   },
   "file_extension": ".py",
   "mimetype": "text/x-python",
   "name": "python",
   "nbconvert_exporter": "python",
   "pygments_lexer": "ipython3",
   "version": "3.10.11"
  }
 },
 "nbformat": 4,
 "nbformat_minor": 5
}
