{
 "cells": [
  {
   "cell_type": "code",
   "execution_count": 6,
   "metadata": {},
   "outputs": [],
   "source": [
    "class Solution:\n",
    "    def totalNQueens(self, n: int) -> list[list[str]]:\n",
    "        def fillBoard(row,n,filled,count):\n",
    "            if row==n:\n",
    "                return count+1\n",
    "            for i in range(n):\n",
    "                flag=True\n",
    "                for r,c in filled:\n",
    "                    if c == i:\n",
    "                        flag=False\n",
    "                        break\n",
    "                    if i == row + (c-r):\n",
    "                        flag=False\n",
    "                        break\n",
    "                    if i == -row + (r+c):\n",
    "                        flag=False\n",
    "                        break\n",
    "                if flag:\n",
    "                    count = fillBoard(row+1,n,filled+[(row,i)],count)                       \n",
    "            return count\n",
    "        count = fillBoard(0,n,[],0)\n",
    "        return count"
   ]
  },
  {
   "cell_type": "code",
   "execution_count": 7,
   "metadata": {},
   "outputs": [
    {
     "data": {
      "text/plain": [
       "2"
      ]
     },
     "execution_count": 7,
     "metadata": {},
     "output_type": "execute_result"
    }
   ],
   "source": [
    "Solution().totalNQueens(4)"
   ]
  }
 ],
 "metadata": {
  "interpreter": {
   "hash": "7fa5c2bbde354df5fb32f89863fd9628b3718657b842099e0733f1c707419bc4"
  },
  "kernelspec": {
   "display_name": "Python 3.10.2 64-bit",
   "language": "python",
   "name": "python3"
  },
  "language_info": {
   "codemirror_mode": {
    "name": "ipython",
    "version": 3
   },
   "file_extension": ".py",
   "mimetype": "text/x-python",
   "name": "python",
   "nbconvert_exporter": "python",
   "pygments_lexer": "ipython3",
   "version": "3.10.2"
  },
  "orig_nbformat": 4
 },
 "nbformat": 4,
 "nbformat_minor": 2
}
