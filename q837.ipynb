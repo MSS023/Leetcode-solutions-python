{
 "cells": [
  {
   "cell_type": "code",
   "execution_count": 1,
   "id": "138d00fd",
   "metadata": {},
   "outputs": [],
   "source": [
    "from typing import *\n",
    "from functools import cache"
   ]
  },
  {
   "cell_type": "code",
   "execution_count": null,
   "id": "b6a96466",
   "metadata": {},
   "outputs": [],
   "source": [
    "class Solution:\n",
    "    def new21Game(self, n: int, k: int, maxPts: int) -> float:\n",
    "        dp = [0] * (n + 1)\n",
    "        dp[0] = 1\n",
    "        s = 1 if k > 0 else 0\n",
    "        for i in range(1, n + 1):\n",
    "            dp[i] = s / maxPts\n",
    "            if i < k:\n",
    "                s += dp[i]\n",
    "            if i - maxPts >= 0 and i - maxPts < k:\n",
    "                s -= dp[i - maxPts]\n",
    "        return sum(dp[k:])"
   ]
  },
  {
   "cell_type": "code",
   "execution_count": 30,
   "id": "db689cd9",
   "metadata": {},
   "outputs": [
    {
     "name": "stdout",
     "output_type": "stream",
     "text": [
      "0.99696\n"
     ]
    }
   ],
   "source": [
    "# print(Solution().new21Game(10,1,10))\n",
    "# print(Solution().new21Game(6,1,10))\n",
    "# print(Solution().new21Game(21,17,10))\n",
    "print(Solution().new21Game(9811,8776,1096))"
   ]
  }
 ],
 "metadata": {
  "kernelspec": {
   "display_name": "Python 3",
   "language": "python",
   "name": "python3"
  },
  "language_info": {
   "codemirror_mode": {
    "name": "ipython",
    "version": 3
   },
   "file_extension": ".py",
   "mimetype": "text/x-python",
   "name": "python",
   "nbconvert_exporter": "python",
   "pygments_lexer": "ipython3",
   "version": "3.10.11"
  }
 },
 "nbformat": 4,
 "nbformat_minor": 5
}
