{
 "cells": [
  {
   "cell_type": "code",
   "execution_count": 1,
   "id": "0a02e118",
   "metadata": {},
   "outputs": [],
   "source": [
    "from typing import *"
   ]
  },
  {
   "cell_type": "code",
   "execution_count": 2,
   "id": "016ed5c0",
   "metadata": {},
   "outputs": [],
   "source": [
    "class Solution:\n",
    "    def triangularSum(self, nums: List[int]) -> int:\n",
    "        n = len(nums)\n",
    "        while n > 1:\n",
    "            n -= 1\n",
    "            newNums = [None]*n\n",
    "            for idx in range(n):\n",
    "                newNums[idx] = (nums[idx] + nums[idx+1])%10\n",
    "            nums = newNums\n",
    "        return nums[0]"
   ]
  },
  {
   "cell_type": "code",
   "execution_count": 3,
   "id": "c9b2fedd",
   "metadata": {},
   "outputs": [
    {
     "name": "stdout",
     "output_type": "stream",
     "text": [
      "8\n"
     ]
    }
   ],
   "source": [
    "print(Solution().triangularSum([1,2,3,4,5]))"
   ]
  }
 ],
 "metadata": {
  "kernelspec": {
   "display_name": "Python 3",
   "language": "python",
   "name": "python3"
  },
  "language_info": {
   "codemirror_mode": {
    "name": "ipython",
    "version": 3
   },
   "file_extension": ".py",
   "mimetype": "text/x-python",
   "name": "python",
   "nbconvert_exporter": "python",
   "pygments_lexer": "ipython3",
   "version": "3.10.11"
  }
 },
 "nbformat": 4,
 "nbformat_minor": 5
}
