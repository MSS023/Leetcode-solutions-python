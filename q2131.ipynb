{
 "cells": [
  {
   "cell_type": "code",
   "execution_count": 20,
   "metadata": {},
   "outputs": [],
   "source": [
    "from typing import *\n",
    "from collections import Counter\n",
    "\n",
    "class Solution:\n",
    "    def longestPalindrome(self, words: List[str]) -> int:\n",
    "        diction = Counter(words)\n",
    "        count = 0\n",
    "        flag = False\n",
    "        for word in diction:\n",
    "            rev = \"\".join(reversed(word))\n",
    "            if rev == word:\n",
    "                count += 2*(diction[rev]//2)\n",
    "                diction[rev] %= 2\n",
    "                if not flag and diction[rev] == 1:\n",
    "                    flag = True\n",
    "                    count += 1\n",
    "                    diction[rev] = 0\n",
    "                continue\n",
    "            if rev in diction:\n",
    "                temp = min(diction[rev],diction[word]) \n",
    "                count += 2*temp\n",
    "                diction[rev] -= temp\n",
    "                diction[word] -= temp\n",
    "        return count*2"
   ]
  },
  {
   "cell_type": "code",
   "execution_count": 21,
   "metadata": {},
   "outputs": [
    {
     "data": {
      "text/plain": [
       "22"
      ]
     },
     "execution_count": 21,
     "metadata": {},
     "output_type": "execute_result"
    }
   ],
   "source": [
    "Solution().longestPalindrome([\"dd\",\"aa\",\"bb\",\"dd\",\"aa\",\"dd\",\"bb\",\"dd\",\"aa\",\"cc\",\"bb\",\"cc\",\"dd\",\"cc\"])"
   ]
  }
 ],
 "metadata": {
  "kernelspec": {
   "display_name": "Python 3.10.6 64-bit",
   "language": "python",
   "name": "python3"
  },
  "language_info": {
   "codemirror_mode": {
    "name": "ipython",
    "version": 3
   },
   "file_extension": ".py",
   "mimetype": "text/x-python",
   "name": "python",
   "nbconvert_exporter": "python",
   "pygments_lexer": "ipython3",
   "version": "3.10.6"
  },
  "orig_nbformat": 4,
  "vscode": {
   "interpreter": {
    "hash": "f15627b29e15848638e903c52dd09ae6c4c9adb1719aae45dda3850ec7954c19"
   }
  }
 },
 "nbformat": 4,
 "nbformat_minor": 2
}
