{
 "cells": [
  {
   "cell_type": "code",
   "execution_count": 10,
   "id": "3dac2db7",
   "metadata": {},
   "outputs": [],
   "source": [
    "from typing import *\n",
    "import heapq"
   ]
  },
  {
   "cell_type": "code",
   "execution_count": null,
   "id": "d0dcb037",
   "metadata": {},
   "outputs": [],
   "source": [
    "class Solution:\n",
    "    def clearStars(self, s: str) -> str:\n",
    "        queue = []\n",
    "\n",
    "        for idx,ch in enumerate(s):\n",
    "            if ch == \"*\":\n",
    "                heapq.heappop(queue)\n",
    "                continue\n",
    "            \n",
    "            heapq.heappush(queue, (ch, -idx))\n",
    "        \n",
    "        result = [\"\" for _ in range(len(s))]\n",
    "\n",
    "        for ch,idx in queue:\n",
    "            result[-idx] = ch\n",
    "\n",
    "        return \"\".join(filter(lambda x: x != \"\", result))"
   ]
  },
  {
   "cell_type": "code",
   "execution_count": 18,
   "id": "698f1d74",
   "metadata": {},
   "outputs": [
    {
     "name": "stdout",
     "output_type": "stream",
     "text": [
      "aab\n",
      "abc\n"
     ]
    }
   ],
   "source": [
    "print(Solution().clearStars(\"aaba*\"))\n",
    "print(Solution().clearStars(\"abc\"))"
   ]
  }
 ],
 "metadata": {
  "kernelspec": {
   "display_name": "Python 3",
   "language": "python",
   "name": "python3"
  },
  "language_info": {
   "codemirror_mode": {
    "name": "ipython",
    "version": 3
   },
   "file_extension": ".py",
   "mimetype": "text/x-python",
   "name": "python",
   "nbconvert_exporter": "python",
   "pygments_lexer": "ipython3",
   "version": "3.10.11"
  }
 },
 "nbformat": 4,
 "nbformat_minor": 5
}
