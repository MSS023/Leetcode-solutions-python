{
 "cells": [
  {
   "cell_type": "code",
   "execution_count": null,
   "metadata": {},
   "outputs": [],
   "source": [
    "class MyHashSet:\n",
    "\n",
    "    def __init__(self):\n",
    "        self.arr=[]\n",
    "\n",
    "    def add(self, key: int) -> None:\n",
    "        if key not in self.arr:\n",
    "            self.arr.append(key)\n",
    "\n",
    "    def remove(self, key: int) -> None:\n",
    "        if key in self.arr:\n",
    "            self.arr.remove(key)\n",
    "\n",
    "    def contains(self, key: int) -> bool:\n",
    "        if key in self.arr:\n",
    "            return True\n",
    "        return False\n",
    "\n",
    "\n",
    "# Your MyHashSet object will be instantiated and called as such:\n",
    "# obj = MyHashSet()\n",
    "# obj.add(key)\n",
    "# obj.remove(key)\n",
    "# param_3 = obj.contains(key)"
   ]
  }
 ],
 "metadata": {
  "language_info": {
   "name": "python"
  },
  "orig_nbformat": 4
 },
 "nbformat": 4,
 "nbformat_minor": 2
}
