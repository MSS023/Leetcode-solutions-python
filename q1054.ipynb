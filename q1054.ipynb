{
 "cells": [
  {
   "cell_type": "code",
   "execution_count": 1,
   "metadata": {},
   "outputs": [],
   "source": [
    "import heapq\n",
    "from typing import *\n",
    "\n",
    "class Solution:\n",
    "    def rearrangeBarcodes(self, barcodes: List[int]) -> List[int]:\n",
    "        count = Counter(barcodes)\n",
    "        heap = [[-count[i],i] for i in count]\n",
    "        heapq.heapify(heap)\n",
    "        arr = []\n",
    "        res = []\n",
    "        while heap:\n",
    "            countNum,num = heapq.heappop(heap)\n",
    "            if res and res[-1] == num:\n",
    "                arr.append([countNum,num])\n",
    "                continue\n",
    "            res.append(num)\n",
    "            countNum += 1\n",
    "            if countNum != 0:\n",
    "                heapq.heappush(heap,[countNum,num])\n",
    "            while arr:\n",
    "                heapq.heappush(heap,arr.pop())\n",
    "        return res"
   ]
  },
  {
   "cell_type": "code",
   "execution_count": 2,
   "metadata": {},
   "outputs": [
    {
     "data": {
      "text/plain": [
       "[1, 2, 1, 2, 1, 2]"
      ]
     },
     "execution_count": 2,
     "metadata": {},
     "output_type": "execute_result"
    }
   ],
   "source": [
    "Solution().rearrangeBarcodes([1,1,1,2,2,2])"
   ]
  }
 ],
 "metadata": {
  "kernelspec": {
   "display_name": "Python 3.10.6 64-bit",
   "language": "python",
   "name": "python3"
  },
  "language_info": {
   "codemirror_mode": {
    "name": "ipython",
    "version": 3
   },
   "file_extension": ".py",
   "mimetype": "text/x-python",
   "name": "python",
   "nbconvert_exporter": "python",
   "pygments_lexer": "ipython3",
   "version": "3.10.6"
  },
  "orig_nbformat": 4,
  "vscode": {
   "interpreter": {
    "hash": "f15627b29e15848638e903c52dd09ae6c4c9adb1719aae45dda3850ec7954c19"
   }
  }
 },
 "nbformat": 4,
 "nbformat_minor": 2
}
