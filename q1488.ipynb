{
 "cells": [
  {
   "cell_type": "code",
   "execution_count": null,
   "id": "20b8faa5",
   "metadata": {},
   "outputs": [],
   "source": [
    "from typing import *\n",
    "import bisect"
   ]
  },
  {
   "cell_type": "markdown",
   "id": "c6b0224d",
   "metadata": {},
   "source": [
    "### Working solution"
   ]
  },
  {
   "cell_type": "code",
   "execution_count": 32,
   "id": "1b6d2d8b",
   "metadata": {},
   "outputs": [],
   "source": [
    "class Solution:\n",
    "    def avoidFlood(self, rains: List[int]) -> List[int]:\n",
    "        hasFilled = {}\n",
    "        res = []\n",
    "        emptyIdxs = []\n",
    "        defaultLake = None\n",
    "        for idx,rain in enumerate(rains):\n",
    "            if rain == 0:\n",
    "                res.append(None)\n",
    "                emptyIdxs.append(idx)\n",
    "                continue\n",
    "            if defaultLake is None:\n",
    "                defaultLake = rain\n",
    "            if rain not in hasFilled:\n",
    "                hasFilled[rain] = idx\n",
    "                res.append(-1)\n",
    "                continue\n",
    "            if len(emptyIdxs) == 0:\n",
    "                return []\n",
    "            idx2 = bisect.bisect_right(emptyIdxs, hasFilled[rain])\n",
    "            if idx2 == len(emptyIdxs):\n",
    "                return []\n",
    "            if idx2 == 0 and emptyIdxs[idx2] < hasFilled[rain]:\n",
    "                return []\n",
    "            eI = emptyIdxs.pop(idx2)\n",
    "            res.append(-1)\n",
    "            res[eI] = rain\n",
    "            hasFilled[rain] = idx\n",
    "        \n",
    "        for idx in range(len(res)):\n",
    "            lake = res[idx]\n",
    "            if lake is None:\n",
    "                res[idx] = defaultLake\n",
    "\n",
    "        return res"
   ]
  },
  {
   "cell_type": "markdown",
   "id": "486688dc",
   "metadata": {},
   "source": [
    "### Editorial Solution"
   ]
  },
  {
   "cell_type": "code",
   "execution_count": 38,
   "id": "764ff685",
   "metadata": {},
   "outputs": [],
   "source": [
    "class Solution:\n",
    "    def avoidFlood(self, rains: List[int]) -> List[int]:\n",
    "        ans = [1] * len(rains)\n",
    "        st = []\n",
    "        mp = {}\n",
    "        for i, rain in enumerate(rains):\n",
    "            if rain == 0:\n",
    "                st.append(i)\n",
    "            else:\n",
    "                ans[i] = -1\n",
    "                if rain in mp:\n",
    "                    it = bisect.bisect(st,mp[rain])\n",
    "                    if it == len(st):\n",
    "                        return []\n",
    "                    ans[st[it]] = rain\n",
    "                    st.remove(st[it])\n",
    "                mp[rain] = i\n",
    "        return ans"
   ]
  },
  {
   "cell_type": "code",
   "execution_count": 39,
   "id": "b43b8aa1",
   "metadata": {},
   "outputs": [
    {
     "name": "stdout",
     "output_type": "stream",
     "text": [
      "[-1, -1, -1, -1]\n",
      "[-1, -1, 2, 1, -1, -1]\n",
      "[]\n",
      "[-1, 1, -1, 2, -1, -1]\n",
      "[]\n",
      "[-1, 1, -1, -1, 2, -1, -1]\n",
      "[-1, 1, -1, 2, -1, 3, -1, 2, 1, 1, -1, -1, -1]\n"
     ]
    }
   ],
   "source": [
    "print(Solution().avoidFlood(rains = [1,2,3,4]))\n",
    "print(Solution().avoidFlood(rains = [1,2,0,0,2,1]))\n",
    "print(Solution().avoidFlood(rains = [1,2,0,1,2]))\n",
    "print(Solution().avoidFlood(rains = [1,0,2,0,2,1]))\n",
    "print(Solution().avoidFlood(rains = [0,1,1]))\n",
    "print(Solution().avoidFlood(rains = [1,0,2,3,0,1,2]))\n",
    "print(Solution().avoidFlood(rains = [1,0,2,0,3,0,2,0,0,0,1,2,3]))"
   ]
  }
 ],
 "metadata": {
  "kernelspec": {
   "display_name": "Python 3",
   "language": "python",
   "name": "python3"
  },
  "language_info": {
   "codemirror_mode": {
    "name": "ipython",
    "version": 3
   },
   "file_extension": ".py",
   "mimetype": "text/x-python",
   "name": "python",
   "nbconvert_exporter": "python",
   "pygments_lexer": "ipython3",
   "version": "3.10.11"
  }
 },
 "nbformat": 4,
 "nbformat_minor": 5
}
