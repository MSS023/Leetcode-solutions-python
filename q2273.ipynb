{
 "cells": [
  {
   "cell_type": "code",
   "execution_count": 1,
   "id": "2566e04e",
   "metadata": {},
   "outputs": [],
   "source": [
    "from typing import *"
   ]
  },
  {
   "cell_type": "code",
   "execution_count": 2,
   "id": "d4211ed2",
   "metadata": {},
   "outputs": [],
   "source": [
    "class Solution:\n",
    "    def removeAnagrams(self, words: List[str]) -> List[str]:\n",
    "        counts = [Counter(word) for word in words]\n",
    "\n",
    "        flag = True\n",
    "        while flag:\n",
    "            flag = False\n",
    "            idx = 1\n",
    "            while idx < len(words):\n",
    "                if counts[idx] != counts[idx-1]:\n",
    "                    idx += 1\n",
    "                    continue\n",
    "\n",
    "                words.pop(idx)\n",
    "                counts.pop(idx)\n",
    "                flag = True\n",
    "        \n",
    "        return words"
   ]
  }
 ],
 "metadata": {
  "kernelspec": {
   "display_name": "Python 3",
   "language": "python",
   "name": "python3"
  },
  "language_info": {
   "codemirror_mode": {
    "name": "ipython",
    "version": 3
   },
   "file_extension": ".py",
   "mimetype": "text/x-python",
   "name": "python",
   "nbconvert_exporter": "python",
   "pygments_lexer": "ipython3",
   "version": "3.10.11"
  }
 },
 "nbformat": 4,
 "nbformat_minor": 5
}
