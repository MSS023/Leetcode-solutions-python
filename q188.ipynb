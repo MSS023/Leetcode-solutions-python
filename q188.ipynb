{
 "cells": [
  {
   "cell_type": "code",
   "execution_count": null,
   "metadata": {},
   "outputs": [],
   "source": [
    "from typing import *\n",
    "\n",
    "class Solution:\n",
    "    def maxProfit(self, k: int, prices: List[int]) -> int:\n",
    "        minPrice = [float(\"inf\")]*(k+1)\n",
    "        maxProfit = [0]*(k+1)\n",
    "        for price in prices:\n",
    "            for i in range(1,k+1):\n",
    "                minPrice[i] = min(minPrice[i], price - maxProfit[i-1])\n",
    "                maxProfit[i] = max(maxProfit[i], price - minPrice[i])\n",
    "        \n",
    "        return maxProfit[k]"
   ]
  }
 ],
 "metadata": {
  "language_info": {
   "name": "python"
  },
  "orig_nbformat": 4
 },
 "nbformat": 4,
 "nbformat_minor": 2
}
