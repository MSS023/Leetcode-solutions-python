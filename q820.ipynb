{
 "cells": [
  {
   "cell_type": "code",
   "execution_count": 3,
   "metadata": {},
   "outputs": [],
   "source": [
    "class Node:\n",
    "    def __init__(self,character: str = None, depth: int = None):\n",
    "        self.ch = character\n",
    "        self.alphas = {}\n",
    "        self.depth = depth\n",
    "\n",
    "class Solution:\n",
    "    def minimumLengthEncoding(self, words: list[str]) -> int:\n",
    "        rootTrie = Node(depth=1)\n",
    "        for word in words:\n",
    "            curr = rootTrie\n",
    "            for ch in word[::-1]:\n",
    "                if ch not in curr.alphas:\n",
    "                    curr.alphas[ch] = Node(character=ch,depth=curr.depth+1)\n",
    "                curr = curr.alphas[ch]\n",
    "        \n",
    "        def traverse(node: Node) -> int:\n",
    "            if len(node.alphas) == 0:\n",
    "                return node.depth\n",
    "            count = 0\n",
    "            for key in node.alphas:\n",
    "                count += traverse(node.alphas[key])\n",
    "            return count\n",
    "        \n",
    "        return traverse(rootTrie)"
   ]
  },
  {
   "cell_type": "code",
   "execution_count": 5,
   "metadata": {},
   "outputs": [
    {
     "data": {
      "text/plain": [
       "2"
      ]
     },
     "execution_count": 5,
     "metadata": {},
     "output_type": "execute_result"
    }
   ],
   "source": [
    "Solution().minimumLengthEncoding([\"t\"])"
   ]
  }
 ],
 "metadata": {
  "kernelspec": {
   "display_name": "Python 3.10.2 64-bit",
   "language": "python",
   "name": "python3"
  },
  "language_info": {
   "codemirror_mode": {
    "name": "ipython",
    "version": 3
   },
   "file_extension": ".py",
   "mimetype": "text/x-python",
   "name": "python",
   "nbconvert_exporter": "python",
   "pygments_lexer": "ipython3",
   "version": "3.10.2"
  },
  "orig_nbformat": 4,
  "vscode": {
   "interpreter": {
    "hash": "7fa5c2bbde354df5fb32f89863fd9628b3718657b842099e0733f1c707419bc4"
   }
  }
 },
 "nbformat": 4,
 "nbformat_minor": 2
}
