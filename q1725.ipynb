{
 "cells": [
  {
   "cell_type": "code",
   "execution_count": 1,
   "metadata": {},
   "outputs": [],
   "source": [
    "from typing import *"
   ]
  },
  {
   "cell_type": "code",
   "execution_count": 2,
   "metadata": {},
   "outputs": [],
   "source": [
    "class Solution:\n",
    "    def countGoodRectangles(self, rectangles: List[List[int]]) -> int:\n",
    "        lenMaps = {}\n",
    "\n",
    "        maxLen = 0\n",
    "        for l, w in rectangles:\n",
    "            slen = min(l, w)\n",
    "            if slen not in lenMaps:\n",
    "                lenMaps[slen] = 0\n",
    "            lenMaps[slen] += 1\n",
    "            maxLen = max(maxLen, slen)\n",
    "\n",
    "        return lenMaps[maxLen]"
   ]
  },
  {
   "cell_type": "code",
   "execution_count": 3,
   "metadata": {},
   "outputs": [
    {
     "name": "stdout",
     "output_type": "stream",
     "text": [
      "3\n"
     ]
    }
   ],
   "source": [
    "print(Solution().countGoodRectangles([[5,8],[3,9],[5,12],[16,5]]))"
   ]
  }
 ],
 "metadata": {
  "kernelspec": {
   "display_name": "Python 3",
   "language": "python",
   "name": "python3"
  },
  "language_info": {
   "codemirror_mode": {
    "name": "ipython",
    "version": 3
   },
   "file_extension": ".py",
   "mimetype": "text/x-python",
   "name": "python",
   "nbconvert_exporter": "python",
   "pygments_lexer": "ipython3",
   "version": "3.13.2"
  }
 },
 "nbformat": 4,
 "nbformat_minor": 2
}
