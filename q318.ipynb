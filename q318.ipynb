{
 "cells": [
  {
   "cell_type": "markdown",
   "metadata": {},
   "source": [
    "Naive Approach"
   ]
  },
  {
   "cell_type": "code",
   "execution_count": null,
   "metadata": {},
   "outputs": [],
   "source": [
    "from difflib import SequenceMatcher\n",
    "\n",
    "class Solution:\n",
    "    def maxProduct(self, words: List[str]) -> int:\n",
    "        words.sort(key=lambda x: len(x))\n",
    "        max=0\n",
    "        for i in range(len(words)-1,-1,-1):\n",
    "            for j in range(i-1,-1,-1):\n",
    "                if len(words[i])*len(words[j])<=max:\n",
    "                    break\n",
    "                match = SequenceMatcher(None, words[i], words[j]).find_longest_match()\n",
    "                if match.size>0:\n",
    "                    continue\n",
    "                max=len(words[i])*len(words[j])\n",
    "        return max"
   ]
  },
  {
   "cell_type": "markdown",
   "metadata": {},
   "source": [
    "using set"
   ]
  },
  {
   "cell_type": "code",
   "execution_count": null,
   "metadata": {},
   "outputs": [],
   "source": [
    "from difflib import SequenceMatcher\n",
    "\n",
    "class Solution:\n",
    "    def maxProduct(self, words: List[str]) -> int:\n",
    "        n = len(words)\n",
    "        charS = [set(words[i]) for i in range(n)]\n",
    "        maxRes = 0\n",
    "        for i in range(n):\n",
    "            for j in range(i+1,n):\n",
    "                if charS[i] & charS[j]:\n",
    "                    continue\n",
    "                maxRes = max(len(words[i])*len(words[j]),maxRes)\n",
    "        return maxRes"
   ]
  }
 ],
 "metadata": {
  "interpreter": {
   "hash": "7fa5c2bbde354df5fb32f89863fd9628b3718657b842099e0733f1c707419bc4"
  },
  "kernelspec": {
   "display_name": "Python 3.10.2 64-bit",
   "language": "python",
   "name": "python3"
  },
  "language_info": {
   "codemirror_mode": {
    "name": "ipython",
    "version": 3
   },
   "file_extension": ".py",
   "mimetype": "text/x-python",
   "name": "python",
   "nbconvert_exporter": "python",
   "pygments_lexer": "ipython3",
   "version": "3.10.2"
  },
  "orig_nbformat": 4
 },
 "nbformat": 4,
 "nbformat_minor": 2
}
