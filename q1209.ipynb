{
 "cells": [
  {
   "cell_type": "code",
   "execution_count": null,
   "metadata": {},
   "outputs": [],
   "source": [
    "class Solution:\n",
    "    def removeDuplicates(self, s: str, k: int) -> str:\n",
    "        flag=True\n",
    "        while flag:\n",
    "            flag=False\n",
    "            count=[]\n",
    "            temp=\"\"\n",
    "            for i in s:\n",
    "                if temp and temp[-1]==i:\n",
    "                    count.append(count[-1]+1)\n",
    "                    temp+=i\n",
    "                else:\n",
    "                    temp+=i\n",
    "                    count.append(1)\n",
    "                if count[-1]==k:\n",
    "                    flag=True\n",
    "                    temp=temp[:len(temp)-k]\n",
    "                    count=count[:len(count)-k]\n",
    "            s=temp\n",
    "        return s"
   ]
  }
 ],
 "metadata": {
  "language_info": {
   "name": "python"
  },
  "orig_nbformat": 4
 },
 "nbformat": 4,
 "nbformat_minor": 2
}
