{
 "cells": [
  {
   "cell_type": "code",
   "execution_count": 1,
   "id": "4b23fa5a",
   "metadata": {},
   "outputs": [],
   "source": [
    "from typing import *"
   ]
  },
  {
   "cell_type": "code",
   "execution_count": 2,
   "id": "4235c3e6",
   "metadata": {},
   "outputs": [],
   "source": [
    "class Solution:\n",
    "    def getLongestSubsequence(self, words: List[str], groups: List[int]) -> List[str]:\n",
    "        lastGroup = None\n",
    "        result = []\n",
    "        for word, group in zip(words, groups):\n",
    "            if lastGroup is None:\n",
    "                result.append(word)\n",
    "                lastGroup = group\n",
    "                continue\n",
    "\n",
    "            if group == lastGroup:\n",
    "                continue\n",
    "\n",
    "            result.append(word)\n",
    "            lastGroup = group\n",
    "\n",
    "        return result"
   ]
  },
  {
   "cell_type": "code",
   "execution_count": 3,
   "id": "07a68043",
   "metadata": {},
   "outputs": [
    {
     "name": "stdout",
     "output_type": "stream",
     "text": [
      "['e', 'b']\n"
     ]
    }
   ],
   "source": [
    "print(Solution().getLongestSubsequence(words = [\"e\",\"a\",\"b\"], groups = [0,0,1]))"
   ]
  }
 ],
 "metadata": {
  "kernelspec": {
   "display_name": "Python 3",
   "language": "python",
   "name": "python3"
  },
  "language_info": {
   "codemirror_mode": {
    "name": "ipython",
    "version": 3
   },
   "file_extension": ".py",
   "mimetype": "text/x-python",
   "name": "python",
   "nbconvert_exporter": "python",
   "pygments_lexer": "ipython3",
   "version": "3.10.11"
  }
 },
 "nbformat": 4,
 "nbformat_minor": 5
}
