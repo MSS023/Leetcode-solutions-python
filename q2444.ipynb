{
 "cells": [
  {
   "cell_type": "code",
   "execution_count": 1,
   "id": "bdfa899b",
   "metadata": {},
   "outputs": [],
   "source": [
    "from typing import *"
   ]
  },
  {
   "cell_type": "code",
   "execution_count": 2,
   "id": "74378788",
   "metadata": {},
   "outputs": [],
   "source": [
    "class Solution(object):\n",
    "    def countSubarrays(self, nums, minK, maxK):\n",
    "        count = 0\n",
    "        start = -1\n",
    "        mini = -1\n",
    "        maxi = -1\n",
    "        for i in range(len(nums)):\n",
    "            if nums[i] < minK or nums[i] > maxK:\n",
    "                start = i\n",
    "            if nums[i] == maxK:\n",
    "                maxi = i\n",
    "            if nums[i] == minK:\n",
    "                mini = i\n",
    "            valid = max(0, min(mini, maxi) - start)\n",
    "            count += valid\n",
    "        return count"
   ]
  },
  {
   "cell_type": "code",
   "execution_count": 3,
   "id": "2e1e4e1e",
   "metadata": {},
   "outputs": [
    {
     "name": "stdout",
     "output_type": "stream",
     "text": [
      "2\n"
     ]
    }
   ],
   "source": [
    "print(Solution().countSubarrays([1,3,5,2,7,5],1,5))"
   ]
  }
 ],
 "metadata": {
  "kernelspec": {
   "display_name": "Python 3",
   "language": "python",
   "name": "python3"
  },
  "language_info": {
   "codemirror_mode": {
    "name": "ipython",
    "version": 3
   },
   "file_extension": ".py",
   "mimetype": "text/x-python",
   "name": "python",
   "nbconvert_exporter": "python",
   "pygments_lexer": "ipython3",
   "version": "3.10.11"
  }
 },
 "nbformat": 4,
 "nbformat_minor": 5
}
