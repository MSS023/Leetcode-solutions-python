{
 "cells": [
  {
   "cell_type": "code",
   "execution_count": null,
   "metadata": {},
   "outputs": [],
   "source": [
    "import heapq\n",
    "\n",
    "class Solution:\n",
    "    def destroyTargets(self, nums: List[int], space: int) -> int:\n",
    "        diction = {}\n",
    "        maxm = []\n",
    "        for i in nums:\n",
    "            mod = i%space\n",
    "            if mod in diction:\n",
    "                heapq.heappush(diction[mod], i)\n",
    "            else:\n",
    "                diction[mod] = [i]\n",
    "            if len(maxm) < len(diction[mod]):\n",
    "                maxm = diction[mod]\n",
    "            elif len(maxm) == len(diction[mod]) and maxm[0] > diction[mod][0]:\n",
    "                maxm = diction[mod]\n",
    "        return maxm[0]"
   ]
  }
 ],
 "metadata": {
  "kernelspec": {
   "display_name": "Python 3.10.6 64-bit",
   "language": "python",
   "name": "python3"
  },
  "language_info": {
   "name": "python",
   "version": "3.10.6"
  },
  "orig_nbformat": 4,
  "vscode": {
   "interpreter": {
    "hash": "f15627b29e15848638e903c52dd09ae6c4c9adb1719aae45dda3850ec7954c19"
   }
  }
 },
 "nbformat": 4,
 "nbformat_minor": 2
}
