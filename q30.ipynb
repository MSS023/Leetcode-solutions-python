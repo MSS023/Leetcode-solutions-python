{
 "cells": [
  {
   "cell_type": "code",
   "execution_count": 17,
   "metadata": {},
   "outputs": [
    {
     "name": "stdout",
     "output_type": "stream",
     "text": [
      "wordgoodgoodgoodbestword\n",
      "0\n",
      "{'word': 1, 'good': 2, 'best': 1}\n",
      "{'good': 2, 'best': 1}\n",
      "{'good': 1, 'best': 1}\n",
      "{'best': 1}\n",
      "1\n",
      "{'word': 1, 'good': 2, 'best': 1}\n",
      "2\n",
      "{'word': 1, 'good': 2, 'best': 1}\n",
      "3\n",
      "{'word': 1, 'good': 2, 'best': 1}\n",
      "4\n",
      "{'word': 1, 'good': 2, 'best': 1}\n",
      "{'word': 1, 'good': 1, 'best': 1}\n",
      "{'word': 1, 'best': 1}\n",
      "5\n",
      "{'word': 1, 'good': 2, 'best': 1}\n",
      "6\n",
      "{'word': 1, 'good': 2, 'best': 1}\n",
      "7\n",
      "{'word': 1, 'good': 2, 'best': 1}\n",
      "8\n",
      "{'word': 1, 'good': 2, 'best': 1}\n",
      "{'word': 1, 'good': 1, 'best': 1}\n",
      "{'word': 1, 'best': 1}\n",
      "{'word': 1}\n",
      "[8]\n"
     ]
    }
   ],
   "source": [
    "from collections import Counter\n",
    "\n",
    "class Solution:\n",
    "    def findSubstring(self, s: str, words: list[str]) -> list[int]:\n",
    "        m=len(words)\n",
    "        n=len(words[0])\n",
    "        count=dict(Counter(words))\n",
    "        arr=[]\n",
    "        for i in range(len(s)-m*n+1):\n",
    "            count2=count.copy()\n",
    "            for j in range(i,i+m*n,n):\n",
    "                if s[j:j+n] not in count2:\n",
    "                    break\n",
    "                if count2[s[j:j+n]] == 1:\n",
    "                    count2.pop(s[j:j+n])\n",
    "                else:\n",
    "                    count2[s[j:j+n]]-=1\n",
    "            if len(count2)==0:\n",
    "                arr.append(i)\n",
    "        return arr\n",
    "\n",
    "sol=Solution()\n",
    "print(sol.findSubstring(input(),[x for x in input().split()]))"
   ]
  }
 ],
 "metadata": {
  "interpreter": {
   "hash": "84c7cd761066ce45b8a789f7b09f72a3209628e136df7af6e1c369b4f2245113"
  },
  "kernelspec": {
   "display_name": "Python 3.10.2 64-bit",
   "language": "python",
   "name": "python3"
  },
  "language_info": {
   "codemirror_mode": {
    "name": "ipython",
    "version": 3
   },
   "file_extension": ".py",
   "mimetype": "text/x-python",
   "name": "python",
   "nbconvert_exporter": "python",
   "pygments_lexer": "ipython3",
   "version": "3.10.2"
  },
  "orig_nbformat": 4
 },
 "nbformat": 4,
 "nbformat_minor": 2
}
