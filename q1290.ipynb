{
 "cells": [
  {
   "cell_type": "code",
   "execution_count": 3,
   "id": "f5a97e91",
   "metadata": {},
   "outputs": [],
   "source": [
    "from typing import *"
   ]
  },
  {
   "cell_type": "code",
   "execution_count": 2,
   "id": "76484d9c",
   "metadata": {},
   "outputs": [],
   "source": [
    "# Definition for singly-linked list.\n",
    "class ListNode:\n",
    "    def __init__(self, val=0, next=None):\n",
    "        self.val = val\n",
    "        self.next = next"
   ]
  },
  {
   "cell_type": "code",
   "execution_count": 5,
   "id": "a65cd8f4",
   "metadata": {},
   "outputs": [],
   "source": [
    "class Solution:\n",
    "    def getDecimalValue(self, head: Optional[ListNode]) -> int:\n",
    "        res = 0\n",
    "        while head:\n",
    "            res *= 2\n",
    "            res += head.val\n",
    "            head = head.next\n",
    "        return res"
   ]
  },
  {
   "cell_type": "code",
   "execution_count": 6,
   "id": "1d7759d8",
   "metadata": {},
   "outputs": [],
   "source": [
    "def makeLL(elements: List[int]):\n",
    "    head = None\n",
    "    temp = None\n",
    "    for ele in elements:\n",
    "        if temp is None:\n",
    "            head = temp = ListNode(ele)\n",
    "            continue\n",
    "        temp.next = ListNode(ele)\n",
    "        temp = temp.next\n",
    "    \n",
    "    return head"
   ]
  },
  {
   "cell_type": "code",
   "execution_count": 7,
   "id": "306ff51a",
   "metadata": {},
   "outputs": [
    {
     "name": "stdout",
     "output_type": "stream",
     "text": [
      "5\n"
     ]
    }
   ],
   "source": [
    "print(Solution().getDecimalValue(makeLL([1,0,1])))"
   ]
  }
 ],
 "metadata": {
  "kernelspec": {
   "display_name": "Python 3",
   "language": "python",
   "name": "python3"
  },
  "language_info": {
   "codemirror_mode": {
    "name": "ipython",
    "version": 3
   },
   "file_extension": ".py",
   "mimetype": "text/x-python",
   "name": "python",
   "nbconvert_exporter": "python",
   "pygments_lexer": "ipython3",
   "version": "3.10.11"
  }
 },
 "nbformat": 4,
 "nbformat_minor": 5
}
