{
 "cells": [
  {
   "cell_type": "code",
   "execution_count": 4,
   "metadata": {},
   "outputs": [],
   "source": [
    "class Solution:\n",
    "    def candy(self, ratings: list[int]) -> int:\n",
    "        candies1 = [1]*len(ratings)\n",
    "        n = len(ratings)\n",
    "        for i in range(1,n):\n",
    "            if ratings[i] > ratings[i-1] and candies1[i] <= candies1[i-1]:\n",
    "                candies1[i] = candies1[i-1]+1\n",
    "        for i in range(n-2,-1,-1):\n",
    "            if ratings[i] > ratings[i+1] and candies1[i] <= candies1[i+1]:\n",
    "                candies1[i] = max(candies1[i+1]+1,candies1[i])\n",
    "        return sum(candies1)"
   ]
  },
  {
   "cell_type": "code",
   "execution_count": 5,
   "metadata": {},
   "outputs": [
    {
     "data": {
      "text/plain": [
       "13"
      ]
     },
     "execution_count": 5,
     "metadata": {},
     "output_type": "execute_result"
    }
   ],
   "source": [
    "Solution().candy([1,2,87,87,87,2,1])"
   ]
  }
 ],
 "metadata": {
  "kernelspec": {
   "display_name": "Python 3.10.5 64-bit",
   "language": "python",
   "name": "python3"
  },
  "language_info": {
   "codemirror_mode": {
    "name": "ipython",
    "version": 3
   },
   "file_extension": ".py",
   "mimetype": "text/x-python",
   "name": "python",
   "nbconvert_exporter": "python",
   "pygments_lexer": "ipython3",
   "version": "3.10.5"
  },
  "orig_nbformat": 4,
  "vscode": {
   "interpreter": {
    "hash": "f15627b29e15848638e903c52dd09ae6c4c9adb1719aae45dda3850ec7954c19"
   }
  }
 },
 "nbformat": 4,
 "nbformat_minor": 2
}
