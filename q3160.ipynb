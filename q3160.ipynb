{
 "cells": [
  {
   "cell_type": "code",
   "execution_count": 1,
   "metadata": {},
   "outputs": [],
   "source": [
    "from typing import *"
   ]
  },
  {
   "cell_type": "code",
   "execution_count": null,
   "metadata": {},
   "outputs": [],
   "source": [
    "class Solution:\n",
    "    def initialiseList(self, limit):\n",
    "        self.totalLength = limit+1\n",
    "        self.bucketLength = 10**2\n",
    "        self.numberOfBuckets = self.totalLength // self.bucketLength\n",
    "        self.list: List[int] = [None] * (self.numberOfBuckets+1)\n",
    "        self.colorMap: Dict[int, int] = {}\n",
    "\n",
    "    def initialiseBucket(self, bucketIdx: int):\n",
    "        self.list[bucketIdx] = [None]*self.bucketLength\n",
    "\n",
    "    def runQuery(self, ballNumber: int, colorNumber: int) -> int:\n",
    "        bucketIdx = ballNumber // self.bucketLength\n",
    "        listIdx = ballNumber % self.bucketLength\n",
    "\n",
    "        if self.list[bucketIdx] is None:\n",
    "            self.initialiseBucket(bucketIdx)\n",
    "        \n",
    "        prevValue = self.list[bucketIdx][listIdx]\n",
    "        self.list[bucketIdx][listIdx] = colorNumber\n",
    "        if colorNumber not in self.colorMap:\n",
    "            self.colorMap[colorNumber] = 0\n",
    "        self.colorMap[colorNumber] += 1\n",
    "        if prevValue is not None:\n",
    "            self.colorMap[prevValue] -= 1\n",
    "            if self.colorMap[prevValue] == 0:\n",
    "                self.colorMap.pop(prevValue)\n",
    "        return len(self.colorMap)\n",
    "    \n",
    "    def queryResults(self, limit: int, queries: List[List[int]]) -> List[int]:\n",
    "        result = []\n",
    "        self.initialiseList(limit)\n",
    "\n",
    "        for x,y in queries:\n",
    "            result.append(self.runQuery(x,y))\n",
    "        \n",
    "        return result"
   ]
  },
  {
   "cell_type": "code",
   "execution_count": 20,
   "metadata": {},
   "outputs": [
    {
     "name": "stdout",
     "output_type": "stream",
     "text": [
      "[1, 2, 2, 3]\n",
      "[1, 2, 2, 3, 4]\n"
     ]
    }
   ],
   "source": [
    "print(Solution().queryResults(limit = 4, queries = [[1, 4],[2,5],[1,3],[3,4]]))\n",
    "print(Solution().queryResults(limit = 4, queries = [[0, 1],[1,2],[2,2],[3,4],[4,5]]))"
   ]
  }
 ],
 "metadata": {
  "kernelspec": {
   "display_name": "Python 3",
   "language": "python",
   "name": "python3"
  },
  "language_info": {
   "codemirror_mode": {
    "name": "ipython",
    "version": 3
   },
   "file_extension": ".py",
   "mimetype": "text/x-python",
   "name": "python",
   "nbconvert_exporter": "python",
   "pygments_lexer": "ipython3",
   "version": "3.13.2"
  }
 },
 "nbformat": 4,
 "nbformat_minor": 2
}
