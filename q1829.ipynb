{
 "cells": [
  {
   "cell_type": "code",
   "execution_count": null,
   "metadata": {},
   "outputs": [],
   "source": [
    "class Solution:\n",
    "    def getMaximumXor(self, nums: List[int], maximumBit: int) -> List[int]:\n",
    "        xors=[nums[0]]\n",
    "        for i in nums[1:]:\n",
    "            xors.append(xors[-1]^i)\n",
    "        maxim=2**maximumBit-1\n",
    "        res=[]\n",
    "        while len(xors)>0:\n",
    "            num=xors.pop()\n",
    "            res.append(maxim-num)\n",
    "        return res"
   ]
  }
 ],
 "metadata": {
  "language_info": {
   "name": "python"
  },
  "orig_nbformat": 4
 },
 "nbformat": 4,
 "nbformat_minor": 2
}
