{
 "cells": [
  {
   "cell_type": "markdown",
   "metadata": {},
   "source": [
    "86.71% Time"
   ]
  },
  {
   "cell_type": "code",
   "execution_count": 44,
   "metadata": {},
   "outputs": [],
   "source": [
    "class Solution:\n",
    "    def maxDepth(self, s: str) -> int:\n",
    "        def calculateDepth(s: str, start: int, end: int) -> int:\n",
    "            tempEnd = start\n",
    "            maxm = 0\n",
    "            while start < end:\n",
    "                while start < end and s[start]!=\"(\":\n",
    "                    start+=1\n",
    "                    tempEnd+=1\n",
    "                if start == end:\n",
    "                    break\n",
    "                stack = 1\n",
    "                tempEnd+=1\n",
    "                while tempEnd <= end and stack > 0:\n",
    "                    if s[tempEnd] == \"(\":\n",
    "                        stack+=1\n",
    "                    elif s[tempEnd] == \")\":\n",
    "                        stack-=1\n",
    "                    tempEnd+=1\n",
    "                tempEnd-=1\n",
    "                maxm = max(maxm,calculateDepth(s,start+1,tempEnd-1)+1)\n",
    "                start = tempEnd\n",
    "            return maxm\n",
    "        return calculateDepth(s,0,len(s)-1)"
   ]
  },
  {
   "cell_type": "markdown",
   "metadata": {},
   "source": [
    "96.53% Time"
   ]
  },
  {
   "cell_type": "code",
   "execution_count": 50,
   "metadata": {},
   "outputs": [],
   "source": [
    "class Solution:\n",
    "    def maxDepth(self, s: str) -> int:\n",
    "        stack = 0\n",
    "        res = 0\n",
    "        for i in s:\n",
    "            if i == \"(\":\n",
    "                stack+=1\n",
    "                res = max(res,stack)\n",
    "            elif i == \")\":\n",
    "                stack-=1\n",
    "        return res"
   ]
  },
  {
   "cell_type": "code",
   "execution_count": 51,
   "metadata": {},
   "outputs": [
    {
     "data": {
      "text/plain": [
       "3"
      ]
     },
     "execution_count": 51,
     "metadata": {},
     "output_type": "execute_result"
    }
   ],
   "source": [
    "Solution().maxDepth(\"(1)+((2))+(((3)))\")"
   ]
  }
 ],
 "metadata": {
  "kernelspec": {
   "display_name": "Python 3.10.2 64-bit",
   "language": "python",
   "name": "python3"
  },
  "language_info": {
   "codemirror_mode": {
    "name": "ipython",
    "version": 3
   },
   "file_extension": ".py",
   "mimetype": "text/x-python",
   "name": "python",
   "nbconvert_exporter": "python",
   "pygments_lexer": "ipython3",
   "version": "3.10.2"
  },
  "orig_nbformat": 4,
  "vscode": {
   "interpreter": {
    "hash": "7fa5c2bbde354df5fb32f89863fd9628b3718657b842099e0733f1c707419bc4"
   }
  }
 },
 "nbformat": 4,
 "nbformat_minor": 2
}
