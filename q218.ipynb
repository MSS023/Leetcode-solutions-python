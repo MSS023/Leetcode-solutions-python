{
 "cells": [
  {
   "cell_type": "code",
   "execution_count": 2,
   "metadata": {},
   "outputs": [],
   "source": [
    "import bisect\n",
    "from typing import *\n",
    "class Solution:\n",
    "    def getSkyline(self, buildings: List[List[int]]) -> List[List[int]]:\n",
    "        events =[]\n",
    "        for l,r,h in buildings:\n",
    "            events.extend([[l,-h],[r,h]])\n",
    "        \n",
    "        events.sort()\n",
    "        i = 0\n",
    "        n = len(events)\n",
    "        res =[]\n",
    "        heights = [0]\n",
    "        \n",
    "        while i<n:\n",
    "            x,h = events[i]\n",
    "            if h <0  :\n",
    "                bisect.insort_left(heights,h)\n",
    "            else :\n",
    "                ind = bisect.bisect_left(heights,-h)\n",
    "                heights.pop(ind)\n",
    "               \n",
    "            if not res or res[-1][1] != -heights[0] :\n",
    "                res.append((x,-heights[0]))\n",
    "            \n",
    "            i+=1   \n",
    "        return res   "
   ]
  },
  {
   "cell_type": "code",
   "execution_count": 3,
   "metadata": {},
   "outputs": [
    {
     "data": {
      "text/plain": [
       "[(2, 10), (3, 15), (7, 12), (12, 0), (15, 10), (20, 8), (24, 0)]"
      ]
     },
     "execution_count": 3,
     "metadata": {},
     "output_type": "execute_result"
    }
   ],
   "source": [
    "Solution().getSkyline([[2,9,10],[3,7,15],[5,12,12],[15,20,10],[19,24,8]])"
   ]
  }
 ],
 "metadata": {
  "kernelspec": {
   "display_name": "Python 3.10.6 64-bit",
   "language": "python",
   "name": "python3"
  },
  "language_info": {
   "codemirror_mode": {
    "name": "ipython",
    "version": 3
   },
   "file_extension": ".py",
   "mimetype": "text/x-python",
   "name": "python",
   "nbconvert_exporter": "python",
   "pygments_lexer": "ipython3",
   "version": "3.10.6"
  },
  "orig_nbformat": 4,
  "vscode": {
   "interpreter": {
    "hash": "f15627b29e15848638e903c52dd09ae6c4c9adb1719aae45dda3850ec7954c19"
   }
  }
 },
 "nbformat": 4,
 "nbformat_minor": 2
}
