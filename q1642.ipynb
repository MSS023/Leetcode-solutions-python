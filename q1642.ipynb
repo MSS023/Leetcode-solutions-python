{
 "cells": [
  {
   "cell_type": "code",
   "execution_count": 34,
   "metadata": {},
   "outputs": [],
   "source": [
    "import heapq\n",
    "\n",
    "class Solution:\n",
    "    def furthestBuilding(self, heights: list[int], bricks: int, ladders: int) -> int:\n",
    "        n = len(heights)\n",
    "        heap = []\n",
    "        for i in range(n-1):\n",
    "            step = heights[i+1] - heights[i]\n",
    "            if step <= 0:\n",
    "                continue\n",
    "            heapq.heappush(heap,step)\n",
    "            if len(heap) > ladders:\n",
    "                req = heapq.heappop(heap)\n",
    "                bricks -= req\n",
    "            if bricks < 0:\n",
    "                return i\n",
    "        return n-1"
   ]
  },
  {
   "cell_type": "code",
   "execution_count": 35,
   "metadata": {},
   "outputs": [
    {
     "data": {
      "text/plain": [
       "3"
      ]
     },
     "execution_count": 35,
     "metadata": {},
     "output_type": "execute_result"
    }
   ],
   "source": [
    "Solution().furthestBuilding([14,3,19,3],17,0)"
   ]
  }
 ],
 "metadata": {
  "kernelspec": {
   "display_name": "Python 3.10.2 64-bit",
   "language": "python",
   "name": "python3"
  },
  "language_info": {
   "codemirror_mode": {
    "name": "ipython",
    "version": 3
   },
   "file_extension": ".py",
   "mimetype": "text/x-python",
   "name": "python",
   "nbconvert_exporter": "python",
   "pygments_lexer": "ipython3",
   "version": "3.10.2"
  },
  "orig_nbformat": 4,
  "vscode": {
   "interpreter": {
    "hash": "7fa5c2bbde354df5fb32f89863fd9628b3718657b842099e0733f1c707419bc4"
   }
  }
 },
 "nbformat": 4,
 "nbformat_minor": 2
}
