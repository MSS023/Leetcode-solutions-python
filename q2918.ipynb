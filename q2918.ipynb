{
 "cells": [
  {
   "cell_type": "code",
   "execution_count": null,
   "id": "12b58ae8",
   "metadata": {},
   "outputs": [],
   "source": [
    "from typing import *"
   ]
  },
  {
   "cell_type": "code",
   "execution_count": 36,
   "id": "a4527722",
   "metadata": {},
   "outputs": [],
   "source": [
    "class Solution:\n",
    "    def minSum(self, nums1: List[int], nums2: List[int]) -> int:\n",
    "        sum1 = sum(nums1)\n",
    "        sum2 = sum(nums2)\n",
    "        count1 = nums1.count(0)\n",
    "        count2 = nums2.count(0)\n",
    "        maxm = max(sum1+count1, sum2+count2)\n",
    "        diff1 = maxm-sum1\n",
    "        diff2 = maxm-sum2\n",
    "        if ((count1 and diff1/count1 < 1) or (not count1 and sum1 != maxm)) or ((count2 and diff2/count2 < 1) or (not count2 and sum2 != maxm)):\n",
    "            return -1\n",
    "\n",
    "        return maxm"
   ]
  },
  {
   "cell_type": "code",
   "execution_count": 35,
   "id": "87ae4e9e",
   "metadata": {},
   "outputs": [
    {
     "name": "stdout",
     "output_type": "stream",
     "text": [
      "12\n"
     ]
    }
   ],
   "source": [
    "print(Solution().minSum([3,2,0,1,0],[6,5,0]))"
   ]
  }
 ],
 "metadata": {
  "kernelspec": {
   "display_name": "Python 3",
   "language": "python",
   "name": "python3"
  },
  "language_info": {
   "codemirror_mode": {
    "name": "ipython",
    "version": 3
   },
   "file_extension": ".py",
   "mimetype": "text/x-python",
   "name": "python",
   "nbconvert_exporter": "python",
   "pygments_lexer": "ipython3",
   "version": "3.10.11"
  }
 },
 "nbformat": 4,
 "nbformat_minor": 5
}
