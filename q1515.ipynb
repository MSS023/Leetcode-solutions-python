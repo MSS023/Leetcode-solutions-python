{
 "cells": [
  {
   "cell_type": "code",
   "execution_count": null,
   "metadata": {},
   "outputs": [],
   "source": [
    "class Solution:\n",
    "    def _dist(self, curr, positions):\n",
    "        dist = 0\n",
    "        x, y = curr\n",
    "        for a, b in positions:\n",
    "            dist += math.sqrt((x - a) ** 2 + (y - b) ** 2)\n",
    "        return dist\n",
    "\n",
    "    def _get_neigh(self, curr, delta):\n",
    "        x, y = curr\n",
    "        yield x + delta, y\n",
    "        yield x - delta, y\n",
    "        yield x, y + delta\n",
    "        yield x, y - delta\n",
    "\n",
    "    def _grad_desc(self, curr, positions, delta):\n",
    "        curr_dist = self._dist(curr, positions)\n",
    "        prev = None\n",
    "        while prev != curr_dist:\n",
    "            prev = curr_dist\n",
    "            for x, y in self._get_neigh(curr, delta):\n",
    "                neigh_dist = self._dist((x, y), positions)\n",
    "                if neigh_dist < curr_dist:\n",
    "                    curr_dist = neigh_dist\n",
    "                    curr = (x, y)\n",
    "        return curr\n",
    "\n",
    "    def getMinDistSum(self, positions: List[List[int]]) -> float:\n",
    "        x_av = sum([x[0] for x in positions]) / len(positions)\n",
    "        y_av = sum([x[1] for x in positions]) / len(positions)\n",
    "        curr = (x_av, y_av)\n",
    "        for i in range(7):\n",
    "            curr = self._grad_desc(curr, positions, 10 ** -i)\n",
    "        return self._dist(curr, positions)"
   ]
  }
 ],
 "metadata": {
  "language_info": {
   "name": "python"
  },
  "orig_nbformat": 4
 },
 "nbformat": 4,
 "nbformat_minor": 2
}
