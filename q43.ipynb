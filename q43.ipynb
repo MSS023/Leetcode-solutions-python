{
 "cells": [
  {
   "cell_type": "code",
   "execution_count": 23,
   "metadata": {},
   "outputs": [],
   "source": [
    "class Solution:\n",
    "    def multiply(self, num1: str, num2: str) -> str:\n",
    "        res = \"\"\n",
    "        e = 0\n",
    "        for i in range(len(num1)-1,-1,-1):\n",
    "            dig1 = int(num1[i])\n",
    "            sum = \"\"\n",
    "            quo = 0\n",
    "            for j in range(len(num2)-1,-1,-1):\n",
    "                dig2 = int(num2[j])\n",
    "                mul = dig1*dig2 + quo\n",
    "                mod = mul%10\n",
    "                quo = mul//10\n",
    "                sum = str(mod) + sum\n",
    "            if quo != 0:\n",
    "                sum = str(quo) + sum\n",
    "            sum += \"0\"*e\n",
    "            e += 1\n",
    "            if len(res) < len(sum):\n",
    "                res = \"0\"*(len(sum)-len(res)) + res\n",
    "            else:\n",
    "                sum = \"0\"*(len(res)-len(sum)) + sum\n",
    "            s = \"\"\n",
    "            quo = 0\n",
    "            for i in range(len(res)-1,-1,-1):\n",
    "                a, b = res[i], sum[i]\n",
    "                temp = int(a)+int(b) + quo\n",
    "                mod = temp % 10\n",
    "                quo = temp // 10\n",
    "                s = str(mod) + s\n",
    "            if quo != 0:\n",
    "                s = str(quo) + s\n",
    "            res = s\n",
    "        res = res.lstrip(\"0\")\n",
    "        if len(res) == 0:\n",
    "            return \"0\"\n",
    "        return res"
   ]
  },
  {
   "cell_type": "markdown",
   "metadata": {},
   "source": [
    "# Or you can do this 😜"
   ]
  },
  {
   "cell_type": "code",
   "execution_count": null,
   "metadata": {},
   "outputs": [],
   "source": [
    "class Solution:\n",
    "    def multiply(self, num1: str, num2: str) -> str:\n",
    "        return str(int(num1)*int(num2))"
   ]
  },
  {
   "cell_type": "code",
   "execution_count": 24,
   "metadata": {},
   "outputs": [
    {
     "data": {
      "text/plain": [
       "0"
      ]
     },
     "execution_count": 24,
     "metadata": {},
     "output_type": "execute_result"
    }
   ],
   "source": [
    "Solution().multiply(\"123\",\"0\")"
   ]
  }
 ],
 "metadata": {
  "kernelspec": {
   "display_name": "Python 3.10.6 64-bit",
   "language": "python",
   "name": "python3"
  },
  "language_info": {
   "codemirror_mode": {
    "name": "ipython",
    "version": 3
   },
   "file_extension": ".py",
   "mimetype": "text/x-python",
   "name": "python",
   "nbconvert_exporter": "python",
   "pygments_lexer": "ipython3",
   "version": "3.10.6"
  },
  "orig_nbformat": 4,
  "vscode": {
   "interpreter": {
    "hash": "f15627b29e15848638e903c52dd09ae6c4c9adb1719aae45dda3850ec7954c19"
   }
  }
 },
 "nbformat": 4,
 "nbformat_minor": 2
}
