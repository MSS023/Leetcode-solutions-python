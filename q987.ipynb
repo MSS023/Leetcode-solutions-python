{
 "cells": [
  {
   "cell_type": "code",
   "execution_count": 1,
   "metadata": {},
   "outputs": [],
   "source": [
    "# Definition for a binary tree node.\n",
    "class TreeNode:\n",
    "    def __init__(self, val=0, left=None, right=None):\n",
    "        self.val = val\n",
    "        self.left = left\n",
    "        self.right = right"
   ]
  },
  {
   "cell_type": "code",
   "execution_count": 3,
   "metadata": {},
   "outputs": [],
   "source": [
    "from typing import *\n",
    "import bisect\n",
    "\n",
    "class Solution:\n",
    "    def verticalTraversal(self, root: Optional[TreeNode]) -> List[List[int]]:\n",
    "        stack = [(root,0,0)]\n",
    "        diction = {}\n",
    "        while stack:\n",
    "            node, col, row = stack.pop()\n",
    "            if col in diction:\n",
    "                bisect.insort(diction[col], [node.val, row], key = lambda x: x[0])\n",
    "            else:\n",
    "                diction[col] = [[node.val, row]]\n",
    "            if node.left is not None:\n",
    "                stack.append((node.left, col-1, row+1))\n",
    "            if node.right is not None:\n",
    "                stack.append((node.right, col+1, row+1))\n",
    "        res = []\n",
    "        for i in sorted(diction):\n",
    "            arr = [x[0] for x in sorted(diction[i], key=lambda x: x[1])]\n",
    "            res.append(arr)\n",
    "        return res"
   ]
  }
 ],
 "metadata": {
  "kernelspec": {
   "display_name": "Python 3.10.6 64-bit",
   "language": "python",
   "name": "python3"
  },
  "language_info": {
   "codemirror_mode": {
    "name": "ipython",
    "version": 3
   },
   "file_extension": ".py",
   "mimetype": "text/x-python",
   "name": "python",
   "nbconvert_exporter": "python",
   "pygments_lexer": "ipython3",
   "version": "3.10.6"
  },
  "orig_nbformat": 4,
  "vscode": {
   "interpreter": {
    "hash": "f15627b29e15848638e903c52dd09ae6c4c9adb1719aae45dda3850ec7954c19"
   }
  }
 },
 "nbformat": 4,
 "nbformat_minor": 2
}
