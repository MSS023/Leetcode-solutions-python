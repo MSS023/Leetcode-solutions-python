{
 "cells": [
  {
   "cell_type": "code",
   "execution_count": 31,
   "id": "166956fc",
   "metadata": {},
   "outputs": [],
   "source": [
    "from typing import *\n",
    "from functools import lru_cache"
   ]
  },
  {
   "cell_type": "code",
   "execution_count": 34,
   "id": "199dce74",
   "metadata": {},
   "outputs": [],
   "source": [
    "class Solution:\n",
    "    def getOddMaxAndEvenMin(self, counts: List[int]) -> Tuple[int]:\n",
    "        maxmOdd = -1\n",
    "        minmEven = float('inf')\n",
    "        for count in counts:\n",
    "            if count == 0:\n",
    "                continue\n",
    "            if count & 1 == 0:\n",
    "                minmEven = min(minmEven, count)\n",
    "            else:\n",
    "                maxmOdd = max(maxmOdd, count)\n",
    "        return (maxmOdd, minmEven)\n",
    "\n",
    "    def findCountsDiff(self, count1: List[int], count2: List[int]) -> List[int]:\n",
    "        newCount = [0]*5\n",
    "        for idx in range(5):\n",
    "            newCount[idx] = count1[idx] - count2[idx]\n",
    "\n",
    "        return newCount\n",
    "    \n",
    "    def main(self, l: int, r: int):\n",
    "        if (l,r) in self.memo:\n",
    "            return self.memo[(l,r)]\n",
    "        if r-l < self.k:\n",
    "            return float('-inf')\n",
    "        \n",
    "        maxm = float('-inf')\n",
    "        diffCounts = self.findCountsDiff(self.counts[r], self.counts[l])\n",
    "        (maxmOdd, minmEven) = self.getOddMaxAndEvenMin(diffCounts)\n",
    "        maxm = max(maxm, maxmOdd - minmEven)\n",
    "\n",
    "        maxm = max(maxm, self.main(l+1,r))\n",
    "        maxm = max(maxm, self.main(l, r-1))\n",
    "\n",
    "        self.memo[(l,r)] = maxm\n",
    "        return maxm\n",
    "\n",
    "    def maxDifference(self, s: str, k: int) -> int:\n",
    "        n = len(s)\n",
    "        counts = [[0]*5 for _ in range(n+1)]\n",
    "        self.k = k\n",
    "        self.s = s\n",
    "        self.counts = counts\n",
    "\n",
    "        for idx in range(n):\n",
    "            counts[idx+1] = counts[idx].copy()\n",
    "            digit = int(s[idx])\n",
    "            counts[idx+1][digit] += 1\n",
    "\n",
    "        l, r = 0, n\n",
    "        self.memo = {}\n",
    "        return self.main(l, r)"
   ]
  },
  {
   "cell_type": "code",
   "execution_count": 35,
   "id": "b9d42584",
   "metadata": {},
   "outputs": [
    {
     "name": "stdout",
     "output_type": "stream",
     "text": [
      "-3\n"
     ]
    }
   ],
   "source": [
    "print(Solution().maxDifference(\"330130303114333\",13))"
   ]
  }
 ],
 "metadata": {
  "kernelspec": {
   "display_name": "Python 3",
   "language": "python",
   "name": "python3"
  },
  "language_info": {
   "codemirror_mode": {
    "name": "ipython",
    "version": 3
   },
   "file_extension": ".py",
   "mimetype": "text/x-python",
   "name": "python",
   "nbconvert_exporter": "python",
   "pygments_lexer": "ipython3",
   "version": "3.10.11"
  }
 },
 "nbformat": 4,
 "nbformat_minor": 5
}
