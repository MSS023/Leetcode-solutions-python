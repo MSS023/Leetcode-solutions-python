{
 "cells": [
  {
   "cell_type": "code",
   "execution_count": null,
   "metadata": {},
   "outputs": [],
   "source": [
    "class Solution:\n",
    "    def maximum69Number (self, num: int) -> int:\n",
    "        num = str(num)\n",
    "        idx = -1\n",
    "        for i in range(len(num)):\n",
    "            if num[i] == \"6\":\n",
    "                idx = i\n",
    "                break\n",
    "        if idx > -1:\n",
    "            num = num[:idx] + \"9\" + num[idx+1:]\n",
    "        return int(num)"
   ]
  }
 ],
 "metadata": {
  "language_info": {
   "name": "python"
  },
  "orig_nbformat": 4
 },
 "nbformat": 4,
 "nbformat_minor": 2
}
