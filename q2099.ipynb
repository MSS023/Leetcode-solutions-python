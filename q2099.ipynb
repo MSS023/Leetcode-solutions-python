{
 "cells": [
  {
   "cell_type": "code",
   "execution_count": 1,
   "id": "bdd1aded",
   "metadata": {},
   "outputs": [],
   "source": [
    "from typing import *"
   ]
  },
  {
   "cell_type": "code",
   "execution_count": 8,
   "id": "c14d97c5",
   "metadata": {},
   "outputs": [],
   "source": [
    "class Solution:\n",
    "    def maxSubsequence(self, nums: List[int], k: int) -> List[int]:\n",
    "        sortedNums = sorted([(num, idx) for idx,num in enumerate(nums)], reverse = True, key=lambda x: x[0])\n",
    "\n",
    "        kSubSet = sortedNums[:k]\n",
    "\n",
    "        result = list(map(lambda x: x[0], sorted(kSubSet, key = lambda x: x[1])))\n",
    "        return result"
   ]
  },
  {
   "cell_type": "code",
   "execution_count": 9,
   "id": "eb6bc9e2",
   "metadata": {},
   "outputs": [
    {
     "name": "stdout",
     "output_type": "stream",
     "text": [
      "[3, 3]\n",
      "[-1, 3, 4]\n",
      "[3, 4]\n"
     ]
    }
   ],
   "source": [
    "print(Solution().maxSubsequence(nums = [2,1,3,3], k = 2))\n",
    "print(Solution().maxSubsequence(nums = [-1,-2,3,4], k = 3))\n",
    "print(Solution().maxSubsequence(nums = [3,4,3,3], k = 2))"
   ]
  }
 ],
 "metadata": {
  "kernelspec": {
   "display_name": "Python 3",
   "language": "python",
   "name": "python3"
  },
  "language_info": {
   "codemirror_mode": {
    "name": "ipython",
    "version": 3
   },
   "file_extension": ".py",
   "mimetype": "text/x-python",
   "name": "python",
   "nbconvert_exporter": "python",
   "pygments_lexer": "ipython3",
   "version": "3.10.11"
  }
 },
 "nbformat": 4,
 "nbformat_minor": 5
}
