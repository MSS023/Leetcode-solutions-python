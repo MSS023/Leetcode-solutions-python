{
 "cells": [
  {
   "cell_type": "code",
   "execution_count": 2,
   "id": "1c00d44a",
   "metadata": {},
   "outputs": [],
   "source": [
    "from typing import *"
   ]
  },
  {
   "cell_type": "code",
   "execution_count": 3,
   "id": "85391659",
   "metadata": {},
   "outputs": [],
   "source": [
    "class Solution:\n",
    "    def countInterestingSubarrays(self, nums: List[int], modulo: int, k: int) -> int:\n",
    "        n = len(nums)\n",
    "        cnt = Counter([0])\n",
    "        res = 0\n",
    "        prefix = 0\n",
    "        for i in range(n):\n",
    "            prefix += 1 if nums[i] % modulo == k else 0\n",
    "            res += cnt[(prefix - k + modulo) % modulo]\n",
    "            cnt[prefix % modulo] += 1\n",
    "        return res"
   ]
  },
  {
   "cell_type": "code",
   "execution_count": 4,
   "id": "33abc601",
   "metadata": {},
   "outputs": [
    {
     "name": "stdout",
     "output_type": "stream",
     "text": [
      "3\n",
      "2\n"
     ]
    }
   ],
   "source": [
    "print(Solution().countInterestingSubarrays(nums = [3,2,4], modulo = 2, k = 1))\n",
    "print(Solution().countInterestingSubarrays(nums = [3,1,9,6], modulo = 3, k = 0))"
   ]
  }
 ],
 "metadata": {
  "kernelspec": {
   "display_name": "Python 3",
   "language": "python",
   "name": "python3"
  },
  "language_info": {
   "codemirror_mode": {
    "name": "ipython",
    "version": 3
   },
   "file_extension": ".py",
   "mimetype": "text/x-python",
   "name": "python",
   "nbconvert_exporter": "python",
   "pygments_lexer": "ipython3",
   "version": "3.10.11"
  }
 },
 "nbformat": 4,
 "nbformat_minor": 5
}
