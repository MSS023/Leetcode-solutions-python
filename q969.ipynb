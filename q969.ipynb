{
 "cells": [
  {
   "cell_type": "code",
   "execution_count": 1,
   "id": "3ab22a73",
   "metadata": {},
   "outputs": [],
   "source": [
    "from typing import *"
   ]
  },
  {
   "cell_type": "code",
   "execution_count": 41,
   "id": "e4e50a34",
   "metadata": {},
   "outputs": [],
   "source": [
    "class Solution:\n",
    "    def pancakeSort(self, arr: List[int]) -> List[int]:\n",
    "        result = []\n",
    "        n = len(arr)\n",
    "        for num in range(n,0,-1):\n",
    "            pos = arr.index(num)\n",
    "            if pos == num-1:\n",
    "                continue\n",
    "            result.append(pos+1)\n",
    "            result.append(num)\n",
    "            arr = arr[:pos+1][::-1] + arr[pos+1:]\n",
    "            arr = arr[:num][::-1] + arr[num:]\n",
    "        return result"
   ]
  },
  {
   "cell_type": "code",
   "execution_count": 42,
   "id": "9f4aa6b5",
   "metadata": {},
   "outputs": [
    {
     "name": "stdout",
     "output_type": "stream",
     "text": [
      "[2, 3, 1, 2]\n"
     ]
    }
   ],
   "source": [
    "print(Solution().pancakeSort([1,3,2,4]))"
   ]
  }
 ],
 "metadata": {
  "kernelspec": {
   "display_name": "Python 3",
   "language": "python",
   "name": "python3"
  },
  "language_info": {
   "codemirror_mode": {
    "name": "ipython",
    "version": 3
   },
   "file_extension": ".py",
   "mimetype": "text/x-python",
   "name": "python",
   "nbconvert_exporter": "python",
   "pygments_lexer": "ipython3",
   "version": "3.10.11"
  }
 },
 "nbformat": 4,
 "nbformat_minor": 5
}
