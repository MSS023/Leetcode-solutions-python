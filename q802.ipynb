{
 "cells": [
  {
   "cell_type": "code",
   "execution_count": 1,
   "metadata": {},
   "outputs": [],
   "source": [
    "from typing import *"
   ]
  },
  {
   "cell_type": "code",
   "execution_count": 2,
   "metadata": {},
   "outputs": [],
   "source": [
    "class Solution:\n",
    "    def __init__(self):\n",
    "        self.memo = []\n",
    "\n",
    "    def main(self, node: int, stack: List[int] = []) -> bool:\n",
    "        if self.memo[node] is not None:\n",
    "            return self.memo[node]\n",
    "        \n",
    "        answer = True\n",
    "\n",
    "        adjacentNodes = self.graph[node]\n",
    "\n",
    "        for ad in adjacentNodes:\n",
    "            if not answer:\n",
    "                break\n",
    "            if ad in stack:\n",
    "                answer = False\n",
    "                break\n",
    "\n",
    "            answer &= self.main(ad, stack + [node])\n",
    "\n",
    "        self.memo[node] = answer\n",
    "        return answer\n",
    "        \n",
    "\n",
    "    def eventualSafeNodes(self, graph: List[List[int]]) -> List[int]:\n",
    "        self.graph = graph\n",
    "        self.memo = [None]*len(graph)\n",
    "\n",
    "        result = []\n",
    "\n",
    "        for node in range(len(graph)):\n",
    "            if self.main(node):\n",
    "                result.append(node)\n",
    "\n",
    "        return result"
   ]
  },
  {
   "cell_type": "code",
   "execution_count": 3,
   "metadata": {},
   "outputs": [
    {
     "name": "stdout",
     "output_type": "stream",
     "text": [
      "[2, 4, 5, 6]\n",
      "[4]\n"
     ]
    }
   ],
   "source": [
    "print(Solution().eventualSafeNodes(graph = [[1, 2],[2,3],[5],[0],[5],[],[]]))\n",
    "print(Solution().eventualSafeNodes(graph = [[1, 2,3,4],[1,2],[3,4],[0,4],[]]))"
   ]
  }
 ],
 "metadata": {
  "kernelspec": {
   "display_name": "Python 3",
   "language": "python",
   "name": "python3"
  },
  "language_info": {
   "codemirror_mode": {
    "name": "ipython",
    "version": 3
   },
   "file_extension": ".py",
   "mimetype": "text/x-python",
   "name": "python",
   "nbconvert_exporter": "python",
   "pygments_lexer": "ipython3",
   "version": "3.13.1"
  }
 },
 "nbformat": 4,
 "nbformat_minor": 2
}
