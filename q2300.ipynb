{
 "cells": [
  {
   "cell_type": "code",
   "execution_count": 6,
   "id": "d8b42ed9",
   "metadata": {},
   "outputs": [],
   "source": [
    "from typing import *\n",
    "import bisect\n",
    "import math"
   ]
  },
  {
   "cell_type": "code",
   "execution_count": 7,
   "id": "9f4d0ea1",
   "metadata": {},
   "outputs": [],
   "source": [
    "class Solution:\n",
    "    def successfulPairs(self, spells: List[int], potions: List[int], success: int) -> List[int]:\n",
    "        potions.sort()\n",
    "        pairs = []\n",
    "        n = len(potions)\n",
    "\n",
    "        for spell in spells:\n",
    "            targetPotion = math.ceil(success / spell)\n",
    "            potionIdx = bisect.bisect_left(potions, targetPotion)\n",
    "            pairs.append(n-potionIdx)\n",
    "\n",
    "        return pairs"
   ]
  },
  {
   "cell_type": "code",
   "execution_count": 8,
   "id": "b68c38b4",
   "metadata": {},
   "outputs": [
    {
     "name": "stdout",
     "output_type": "stream",
     "text": [
      "[4, 0, 3]\n",
      "[2, 0, 2]\n"
     ]
    }
   ],
   "source": [
    "print(Solution().successfulPairs(spells = [5,1,3], potions = [1,2,3,4,5], success = 7))\n",
    "print(Solution().successfulPairs(spells = [3,1,2], potions = [8,5,8], success = 16))"
   ]
  }
 ],
 "metadata": {
  "kernelspec": {
   "display_name": "Python 3",
   "language": "python",
   "name": "python3"
  },
  "language_info": {
   "codemirror_mode": {
    "name": "ipython",
    "version": 3
   },
   "file_extension": ".py",
   "mimetype": "text/x-python",
   "name": "python",
   "nbconvert_exporter": "python",
   "pygments_lexer": "ipython3",
   "version": "3.10.11"
  }
 },
 "nbformat": 4,
 "nbformat_minor": 5
}
