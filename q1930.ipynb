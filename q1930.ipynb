{
 "cells": [
  {
   "cell_type": "code",
   "execution_count": 1,
   "metadata": {},
   "outputs": [],
   "source": [
    "from typing import *"
   ]
  },
  {
   "cell_type": "code",
   "execution_count": 7,
   "metadata": {},
   "outputs": [],
   "source": [
    "class Solution:\n",
    "    def countPalindromicSubsequence(self, s: str) -> int:\n",
    "        track = {}\n",
    "        stringSet = set()\n",
    "        for idx, ch in enumerate(s):\n",
    "            if ch not in track:\n",
    "                track[ch] = []\n",
    "\n",
    "            track[ch].append(idx)\n",
    "\n",
    "            if idx < 2:\n",
    "                continue\n",
    "\n",
    "            if len(track[ch]) > 1:\n",
    "                minPos = track[ch][0]\n",
    "\n",
    "                for c in track:\n",
    "                    if c == ch or track[c][-1] < minPos or f'{ch}{c}{ch}' in stringSet:\n",
    "                        continue\n",
    "                    stringSet.add(f'{ch}{c}{ch}')\n",
    "\n",
    "            if len(track[ch]) > 2:\n",
    "                stringSet.add(f'{ch}{ch}{ch}')\n",
    "\n",
    "        return len(stringSet)"
   ]
  },
  {
   "cell_type": "code",
   "execution_count": 8,
   "metadata": {},
   "outputs": [
    {
     "name": "stdout",
     "output_type": "stream",
     "text": [
      "{'aaa', 'aba', 'aca'}\n",
      "3\n",
      "set()\n",
      "0\n",
      "{'bab', 'bcb', 'aba', 'bbb'}\n",
      "4\n"
     ]
    }
   ],
   "source": [
    "print(Solution().countPalindromicSubsequence(s=\"aabca\"))\n",
    "print(Solution().countPalindromicSubsequence(s=\"adc\"))\n",
    "print(Solution().countPalindromicSubsequence(s=\"bbcbaba\"))"
   ]
  }
 ],
 "metadata": {
  "kernelspec": {
   "display_name": "Python 3",
   "language": "python",
   "name": "python3"
  },
  "language_info": {
   "codemirror_mode": {
    "name": "ipython",
    "version": 3
   },
   "file_extension": ".py",
   "mimetype": "text/x-python",
   "name": "python",
   "nbconvert_exporter": "python",
   "pygments_lexer": "ipython3",
   "version": "3.13.1"
  }
 },
 "nbformat": 4,
 "nbformat_minor": 2
}
