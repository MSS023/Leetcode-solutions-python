{
 "cells": [
  {
   "cell_type": "code",
   "execution_count": 21,
   "metadata": {},
   "outputs": [],
   "source": [
    "from typing import *\n",
    "import bisect\n",
    "\n",
    "class TimeMap:\n",
    "\n",
    "    def __init__(self):\n",
    "        self.store: Dict[str, List[List[int, str]]] = {}\n",
    "        \n",
    "    def set(self, k: str, value: str, timestamp: int) -> None:\n",
    "        if k in self.store:\n",
    "            bisect.insort(self.store[k], [timestamp, value], key = lambda x: x[0])\n",
    "        else:\n",
    "            self.store[k] = [[timestamp, value]]\n",
    "\n",
    "    def get(self, k: str, timestamp: int) -> str:\n",
    "        greatest = \"z\"*101\n",
    "        if k not in self.store:\n",
    "            return \"\"\n",
    "        idx = bisect.bisect_right(self.store[k],[timestamp, greatest])\n",
    "        if idx == 0:\n",
    "            return \"\"\n",
    "        \n",
    "        return self.store[k][idx-1][1]"
   ]
  },
  {
   "cell_type": "code",
   "execution_count": 25,
   "metadata": {},
   "outputs": [
    {
     "name": "stdout",
     "output_type": "stream",
     "text": [
      "bar\n",
      "bar\n",
      "bar2\n",
      "bar2\n"
     ]
    }
   ],
   "source": [
    "obj = TimeMap()\n",
    "obj.set(\"foo\", \"bar\", 1)\n",
    "print(obj.get(\"foo\",1))\n",
    "print(obj.get(\"foo\",3))\n",
    "obj.set(\"foo\", \"bar2\", 4)\n",
    "print(obj.get(\"foo\",4))\n",
    "print(obj.get(\"foo\",5))"
   ]
  }
 ],
 "metadata": {
  "kernelspec": {
   "display_name": "Python 3.10.6 64-bit",
   "language": "python",
   "name": "python3"
  },
  "language_info": {
   "codemirror_mode": {
    "name": "ipython",
    "version": 3
   },
   "file_extension": ".py",
   "mimetype": "text/x-python",
   "name": "python",
   "nbconvert_exporter": "python",
   "pygments_lexer": "ipython3",
   "version": "3.10.6"
  },
  "orig_nbformat": 4,
  "vscode": {
   "interpreter": {
    "hash": "f15627b29e15848638e903c52dd09ae6c4c9adb1719aae45dda3850ec7954c19"
   }
  }
 },
 "nbformat": 4,
 "nbformat_minor": 2
}
