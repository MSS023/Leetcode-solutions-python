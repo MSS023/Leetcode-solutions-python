{
 "cells": [
  {
   "cell_type": "markdown",
   "metadata": {},
   "source": [
    "# Basic Initialisation"
   ]
  },
  {
   "cell_type": "code",
   "execution_count": 1,
   "metadata": {},
   "outputs": [],
   "source": [
    "from typing import *"
   ]
  },
  {
   "cell_type": "code",
   "execution_count": 2,
   "metadata": {},
   "outputs": [],
   "source": [
    "class TreeNode:\n",
    "    def __init__(self, val = 0, left = None, right = None):\n",
    "        self.val = val\n",
    "        self.left = left\n",
    "        self.right = right"
   ]
  },
  {
   "cell_type": "markdown",
   "metadata": {},
   "source": [
    "# Solution"
   ]
  },
  {
   "cell_type": "code",
   "execution_count": 14,
   "metadata": {},
   "outputs": [],
   "source": [
    "class Solution:\n",
    "    def getLeftRightSubtreeSepIdx(self, preorder: List[int], postorder: List[int]) -> int:\n",
    "        stack = []\n",
    "        postIdx = 0\n",
    "        for idx in range(1, len(preorder)):\n",
    "            stack.append(preorder[idx])\n",
    "            while stack:\n",
    "                if postorder[postIdx] != stack[-1]:\n",
    "                    break\n",
    "                postIdx += 1\n",
    "                stack.pop()\n",
    "            if not stack:\n",
    "                return idx\n",
    "        return len(preorder)-1\n",
    "\n",
    "    def constructFromPrePost(self, preorder: List[int], postorder: List[int]) -> Optional[TreeNode]:\n",
    "        if not preorder or not postorder:\n",
    "            return None\n",
    "\n",
    "        if preorder[0] != postorder[-1]:\n",
    "            return None\n",
    "\n",
    "        rootEle = preorder[0]\n",
    "\n",
    "        root = TreeNode(rootEle)\n",
    "        leftRightSubtreeSepIdx = self.getLeftRightSubtreeSepIdx(\n",
    "            preorder, postorder)\n",
    "        leftPreOrder = preorder[1:leftRightSubtreeSepIdx+1]\n",
    "        leftPostOrder = postorder[0: leftRightSubtreeSepIdx]\n",
    "        root.left = self.constructFromPrePost(leftPreOrder, leftPostOrder)\n",
    "        rightPreOrder = preorder[leftRightSubtreeSepIdx+1:]\n",
    "        rightPostOrder = postorder[leftRightSubtreeSepIdx: len(postorder)-1]\n",
    "        root.right = self.constructFromPrePost(rightPreOrder, rightPostOrder)\n",
    "\n",
    "        return root"
   ]
  },
  {
   "cell_type": "markdown",
   "metadata": {},
   "source": [
    "# Driver Code"
   ]
  },
  {
   "cell_type": "code",
   "execution_count": 10,
   "metadata": {},
   "outputs": [],
   "source": [
    "def inorderTraversal(node: Optional[TreeNode]):\n",
    "    if node is None:\n",
    "        return\n",
    "    \n",
    "    inorderTraversal(node.left)\n",
    "    print(node.val, end = \" \")\n",
    "    inorderTraversal(node.right)"
   ]
  },
  {
   "cell_type": "code",
   "execution_count": 15,
   "metadata": {},
   "outputs": [
    {
     "name": "stdout",
     "output_type": "stream",
     "text": [
      "4 2 5 1 6 3 7 \n",
      "4 3 2 5 1 "
     ]
    }
   ],
   "source": [
    "inorderTraversal(Solution().constructFromPrePost(preorder=[1, 2, 4, 5, 3, 6, 7], postorder=[4, 5, 2, 6, 7, 3, 1]))\n",
    "print()\n",
    "inorderTraversal(Solution().constructFromPrePost(preorder=[1, 2, 3, 4, 5], postorder=[4, 3, 5, 2, 1]))"
   ]
  }
 ],
 "metadata": {
  "kernelspec": {
   "display_name": "Python 3",
   "language": "python",
   "name": "python3"
  },
  "language_info": {
   "codemirror_mode": {
    "name": "ipython",
    "version": 3
   },
   "file_extension": ".py",
   "mimetype": "text/x-python",
   "name": "python",
   "nbconvert_exporter": "python",
   "pygments_lexer": "ipython3",
   "version": "3.13.2"
  }
 },
 "nbformat": 4,
 "nbformat_minor": 2
}
