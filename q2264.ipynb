{
 "cells": [
  {
   "cell_type": "code",
   "execution_count": 1,
   "id": "b29032d7",
   "metadata": {},
   "outputs": [],
   "source": [
    "from typing import *"
   ]
  },
  {
   "cell_type": "code",
   "execution_count": 2,
   "id": "37f52f9e",
   "metadata": {},
   "outputs": [],
   "source": [
    "class Solution:\n",
    "    def largestGoodInteger(self, num: str) -> str:\n",
    "        count = 1\n",
    "        maxm = \"\"\n",
    "        for idx in range(len(num)):\n",
    "            subs = num[idx:idx+3]\n",
    "            if len(subs) == 3 and subs[0] == subs[1] == subs[2]:\n",
    "                maxm = max(maxm, subs)\n",
    "\n",
    "        return maxm"
   ]
  },
  {
   "cell_type": "code",
   "execution_count": 3,
   "id": "f9c4e7f4",
   "metadata": {},
   "outputs": [
    {
     "name": "stdout",
     "output_type": "stream",
     "text": [
      "777\n",
      "000\n",
      "\n"
     ]
    }
   ],
   "source": [
    "print(Solution().largestGoodInteger(\"6777133339\"))\n",
    "print(Solution().largestGoodInteger(\"2300019\"))\n",
    "print(Solution().largestGoodInteger(\"42352338\"))"
   ]
  }
 ],
 "metadata": {
  "kernelspec": {
   "display_name": "Python 3",
   "language": "python",
   "name": "python3"
  },
  "language_info": {
   "codemirror_mode": {
    "name": "ipython",
    "version": 3
   },
   "file_extension": ".py",
   "mimetype": "text/x-python",
   "name": "python",
   "nbconvert_exporter": "python",
   "pygments_lexer": "ipython3",
   "version": "3.10.11"
  }
 },
 "nbformat": 4,
 "nbformat_minor": 5
}
