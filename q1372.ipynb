{
 "cells": [
  {
   "cell_type": "code",
   "execution_count": 1,
   "metadata": {},
   "outputs": [],
   "source": [
    "# Definition for a binary tree node.\n",
    "class TreeNode:\n",
    "    def __init__(self, val=0, left=None, right=None):\n",
    "        self.val = val\n",
    "        self.left = left\n",
    "        self.right = right"
   ]
  },
  {
   "cell_type": "code",
   "execution_count": 4,
   "metadata": {},
   "outputs": [],
   "source": [
    "class Solution:\n",
    "    def longestZigZag(self, root: TreeNode) -> int:\n",
    "        memo = {}\n",
    "        def zigZag(node: TreeNode, dir: bool):\n",
    "            if node is None:\n",
    "                return -1\n",
    "            ans = 0\n",
    "            if (node, dir) in memo:\n",
    "                ans = memo[(node,dir)]\n",
    "                return ans\n",
    "            memo[(node, 0)] = 1 + zigZag(node.left, 1)\n",
    "            memo[(node, 1)] = 1 + zigZag(node.right, 0)\n",
    "            return memo[(node, dir)]\n",
    "        zigZag(root, 0)\n",
    "        zigZag(root, 1)\n",
    "        return max(memo.values())"
   ]
  }
 ],
 "metadata": {
  "kernelspec": {
   "display_name": "Python 3.10.5 64-bit",
   "language": "python",
   "name": "python3"
  },
  "language_info": {
   "codemirror_mode": {
    "name": "ipython",
    "version": 3
   },
   "file_extension": ".py",
   "mimetype": "text/x-python",
   "name": "python",
   "nbconvert_exporter": "python",
   "pygments_lexer": "ipython3",
   "version": "3.10.5"
  },
  "orig_nbformat": 4,
  "vscode": {
   "interpreter": {
    "hash": "f15627b29e15848638e903c52dd09ae6c4c9adb1719aae45dda3850ec7954c19"
   }
  }
 },
 "nbformat": 4,
 "nbformat_minor": 2
}
