{
 "cells": [
  {
   "cell_type": "code",
   "execution_count": 1,
   "metadata": {},
   "outputs": [],
   "source": [
    "class Solution:\n",
    "    def decodeString(self, s: str) -> str:\n",
    "        stacknum = []\n",
    "        stackstr = []\n",
    "        res = \"\"\n",
    "        depth = 0\n",
    "        last = \"\"\n",
    "        for i in s:\n",
    "            if i.isalpha():\n",
    "                if depth == 0:\n",
    "                    res += i\n",
    "                else:\n",
    "                    stackstr[-1] += i\n",
    "            if i.isnumeric():\n",
    "                if last.isnumeric():\n",
    "                    stacknum[-1] += i\n",
    "                else:\n",
    "                    depth += 1\n",
    "                    stacknum.append(i)\n",
    "                    stackstr.append(\"\")\n",
    "            if i == \"]\":\n",
    "                temp = stackstr.pop()*int(stacknum.pop())\n",
    "                depth -= 1\n",
    "                if depth == 0:\n",
    "                    res += temp\n",
    "                else:\n",
    "                    stackstr[-1] += temp\n",
    "            last = i\n",
    "        if stackstr:\n",
    "            return res + stackstr.pop()\n",
    "        return res"
   ]
  },
  {
   "cell_type": "code",
   "execution_count": 2,
   "metadata": {},
   "outputs": [
    {
     "data": {
      "text/plain": [
       "'abccdcdcdxyz'"
      ]
     },
     "execution_count": 2,
     "metadata": {},
     "output_type": "execute_result"
    }
   ],
   "source": [
    "Solution().decodeString(\"abc3[cd]xyz\")"
   ]
  }
 ],
 "metadata": {
  "kernelspec": {
   "display_name": "Python 3.10.6 64-bit",
   "language": "python",
   "name": "python3"
  },
  "language_info": {
   "codemirror_mode": {
    "name": "ipython",
    "version": 3
   },
   "file_extension": ".py",
   "mimetype": "text/x-python",
   "name": "python",
   "nbconvert_exporter": "python",
   "pygments_lexer": "ipython3",
   "version": "3.10.6"
  },
  "orig_nbformat": 4,
  "vscode": {
   "interpreter": {
    "hash": "f15627b29e15848638e903c52dd09ae6c4c9adb1719aae45dda3850ec7954c19"
   }
  }
 },
 "nbformat": 4,
 "nbformat_minor": 2
}
