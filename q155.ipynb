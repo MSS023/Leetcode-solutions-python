{
 "cells": [
  {
   "cell_type": "code",
   "execution_count": 1,
   "id": "4c06f9b5",
   "metadata": {},
   "outputs": [],
   "source": [
    "from typing import *"
   ]
  },
  {
   "cell_type": "code",
   "execution_count": 10,
   "id": "61ff26dc",
   "metadata": {},
   "outputs": [],
   "source": [
    "class MinStack:\n",
    "\n",
    "    def __init__(self):\n",
    "        self.stack: List[Tuple[int, int]] = []\n",
    "\n",
    "    def push(self, val: int) -> None:\n",
    "        lastMin = float('inf')\n",
    "        if self.stack:\n",
    "            _, lastMin = self.stack[-1]\n",
    "        newMin = min(lastMin, val)\n",
    "        self.stack.append((val, newMin))\n",
    "\n",
    "    def pop(self) -> None:\n",
    "        self.stack.pop()\n",
    "\n",
    "    def top(self) -> int:\n",
    "        return self.stack[-1][0]\n",
    "\n",
    "    def getMin(self) -> int:\n",
    "        return self.stack[-1][1]\n",
    "        \n",
    "\n",
    "\n",
    "# Your MinStack object will be instantiated and called as such:\n",
    "# obj = MinStack()\n",
    "# obj.push(val)\n",
    "# obj.pop()\n",
    "# param_3 = obj.top()\n",
    "# param_4 = obj.getMin()"
   ]
  },
  {
   "cell_type": "code",
   "execution_count": 11,
   "id": "6ab1c9e6",
   "metadata": {},
   "outputs": [],
   "source": [
    "def runTest(operations: List[str], args: List[any]):\n",
    "    obj = None\n",
    "    for op, arg in zip(operations, args):\n",
    "        if op == \"MinStack\":\n",
    "            obj = MinStack()\n",
    "            print(\"_\")\n",
    "            continue\n",
    "        if op == \"push\":\n",
    "            obj.push(arg[0])\n",
    "            print(\"_\")\n",
    "            continue\n",
    "        if op == \"getMin\":\n",
    "            print(obj.getMin())\n",
    "            continue\n",
    "        if op == \"pop\":\n",
    "            obj.pop()\n",
    "            print(\"_\")\n",
    "            continue\n",
    "        if op == \"top\":\n",
    "            print(obj.top())"
   ]
  },
  {
   "cell_type": "code",
   "execution_count": 12,
   "id": "d3ca763f",
   "metadata": {},
   "outputs": [
    {
     "name": "stdout",
     "output_type": "stream",
     "text": [
      "_\n",
      "_\n",
      "_\n",
      "_\n",
      "-3\n",
      "_\n",
      "0\n",
      "-2\n",
      "None\n"
     ]
    }
   ],
   "source": [
    "print(runTest([\"MinStack\",\"push\",\"push\",\"push\",\"getMin\",\"pop\",\"top\",\"getMin\"],[[],[-2],[0],[-3],[],[],[],[]]))"
   ]
  }
 ],
 "metadata": {
  "kernelspec": {
   "display_name": "Python 3",
   "language": "python",
   "name": "python3"
  },
  "language_info": {
   "codemirror_mode": {
    "name": "ipython",
    "version": 3
   },
   "file_extension": ".py",
   "mimetype": "text/x-python",
   "name": "python",
   "nbconvert_exporter": "python",
   "pygments_lexer": "ipython3",
   "version": "3.10.11"
  }
 },
 "nbformat": 4,
 "nbformat_minor": 5
}
