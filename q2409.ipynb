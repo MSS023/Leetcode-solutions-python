{
 "cells": [
  {
   "cell_type": "code",
   "execution_count": 1,
   "metadata": {},
   "outputs": [],
   "source": [
    "class Solution:\n",
    "    def countDaysTogether(self, arriveAlice: str, leaveAlice: str, arriveBob: str, leaveBob: str) -> int:\n",
    "        monthDays = [31,28,31,30,31,30,31,31,30,31,30,31]\n",
    "        alice = [[int(x) for x in date.split(\"-\")] for date in [arriveAlice, leaveAlice]]\n",
    "        bob = [[int(x) for x in date.split(\"-\")] for date in [arriveBob, leaveBob]]\n",
    "        arrive = max(alice[0], bob[0])\n",
    "        end = min(alice[1], bob[1])\n",
    "        if end < arrive:\n",
    "            return 0\n",
    "        days = 0\n",
    "        start = arrive[1]\n",
    "        for i in range(arrive[0], end[0]):\n",
    "            days += monthDays[i-1] - start + 1\n",
    "            start = 1\n",
    "        if arrive[0] == end[0]:\n",
    "            days -= arrive[1] - 1\n",
    "        days += end[1]\n",
    "        return days"
   ]
  }
 ],
 "metadata": {
  "kernelspec": {
   "display_name": "Python 3.10.6 64-bit",
   "language": "python",
   "name": "python3"
  },
  "language_info": {
   "codemirror_mode": {
    "name": "ipython",
    "version": 3
   },
   "file_extension": ".py",
   "mimetype": "text/x-python",
   "name": "python",
   "nbconvert_exporter": "python",
   "pygments_lexer": "ipython3",
   "version": "3.10.6"
  },
  "orig_nbformat": 4,
  "vscode": {
   "interpreter": {
    "hash": "f15627b29e15848638e903c52dd09ae6c4c9adb1719aae45dda3850ec7954c19"
   }
  }
 },
 "nbformat": 4,
 "nbformat_minor": 2
}
