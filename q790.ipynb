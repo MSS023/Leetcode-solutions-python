{
 "cells": [
  {
   "cell_type": "code",
   "execution_count": 1,
   "id": "40075bd1",
   "metadata": {},
   "outputs": [],
   "source": [
    "from typing import *"
   ]
  },
  {
   "cell_type": "code",
   "execution_count": 2,
   "id": "f3e658c3",
   "metadata": {},
   "outputs": [],
   "source": [
    "class Solution:\n",
    "    def __init__(self):\n",
    "        self.dp = {}\n",
    "        self.dp[0] = 0\n",
    "        self.dp[1] = 1\n",
    "        self.dp[2] = 2\n",
    "        self.dp[3] = 5\n",
    "        self.MOD = 7 + 10**9\n",
    "\n",
    "    def numTilings(self, n: int) -> int:\n",
    "        for num in range(4,n+1):\n",
    "            self.dp[num] = (2 * self.dp[num-1] + self.dp[num-3])%self.MOD\n",
    "\n",
    "        return self.dp[n]"
   ]
  },
  {
   "cell_type": "code",
   "execution_count": 3,
   "id": "2775bb00",
   "metadata": {},
   "outputs": [
    {
     "name": "stdout",
     "output_type": "stream",
     "text": [
      "1\n",
      "2\n",
      "5\n",
      "11\n",
      "24\n"
     ]
    }
   ],
   "source": [
    "print(Solution().numTilings(1))\n",
    "print(Solution().numTilings(2))\n",
    "print(Solution().numTilings(3))\n",
    "print(Solution().numTilings(4))\n",
    "print(Solution().numTilings(5))"
   ]
  }
 ],
 "metadata": {
  "kernelspec": {
   "display_name": "Python 3",
   "language": "python",
   "name": "python3"
  },
  "language_info": {
   "codemirror_mode": {
    "name": "ipython",
    "version": 3
   },
   "file_extension": ".py",
   "mimetype": "text/x-python",
   "name": "python",
   "nbconvert_exporter": "python",
   "pygments_lexer": "ipython3",
   "version": "3.10.11"
  }
 },
 "nbformat": 4,
 "nbformat_minor": 5
}
