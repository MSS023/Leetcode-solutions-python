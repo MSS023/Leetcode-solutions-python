{
 "cells": [
  {
   "cell_type": "code",
   "execution_count": 12,
   "metadata": {},
   "outputs": [],
   "source": [
    "class MyCalendar:\n",
    "\n",
    "    def __init__(self):\n",
    "        self.empty = [[0,10**9]]\n",
    "\n",
    "    def book(self, start: int, end: int) -> bool:\n",
    "        for idx,(es,ee) in enumerate(self.empty):\n",
    "            if start >= es and end <= ee:\n",
    "                es,ee = self.empty.pop(idx)\n",
    "                if es < start:\n",
    "                    self.empty.insert(idx, [es,start])\n",
    "                if ee > end:\n",
    "                    self.empty.insert(idx+1, [end,ee])\n",
    "                return True\n",
    "        return False"
   ]
  },
  {
   "cell_type": "code",
   "execution_count": 13,
   "metadata": {},
   "outputs": [],
   "source": [
    "class TreeNode:\n",
    "    def __init__(self,start: int,end: int):\n",
    "        self.start = start\n",
    "        self.end = end\n",
    "        self.left = None\n",
    "        self.right = None\n",
    "\n",
    "    def insert(self,node):\n",
    "        if node.start >= self.end:\n",
    "            if self.right is None:\n",
    "                self.right = node\n",
    "                return True\n",
    "            return self.right.insert(node)\n",
    "        elif node.end <= self.start:\n",
    "            if self.left is None:\n",
    "                self.left = node\n",
    "                return True\n",
    "            return self.left.insert(node)\n",
    "        return False\n",
    "\n",
    "class MyCalendar:\n",
    "\n",
    "    def __init__(self):\n",
    "        self.root: TreeNode = None        \n",
    "\n",
    "    def book(self, start: int, end: int) -> bool:\n",
    "        if self.root is None:\n",
    "            self.root = TreeNode(start,end)\n",
    "            return True\n",
    "        return self.root.insert(TreeNode(start,end))"
   ]
  },
  {
   "cell_type": "code",
   "execution_count": 14,
   "metadata": {},
   "outputs": [
    {
     "name": "stdout",
     "output_type": "stream",
     "text": [
      "True\n",
      "False\n",
      "True\n",
      "True\n"
     ]
    }
   ],
   "source": [
    "calendar = MyCalendar()\n",
    "print(calendar.book(10,20))\n",
    "print(calendar.book(15,25))\n",
    "print(calendar.book(20,30))\n",
    "print(calendar.book(40,50))"
   ]
  }
 ],
 "metadata": {
  "kernelspec": {
   "display_name": "Python 3.10.5 64-bit",
   "language": "python",
   "name": "python3"
  },
  "language_info": {
   "codemirror_mode": {
    "name": "ipython",
    "version": 3
   },
   "file_extension": ".py",
   "mimetype": "text/x-python",
   "name": "python",
   "nbconvert_exporter": "python",
   "pygments_lexer": "ipython3",
   "version": "3.10.5"
  },
  "orig_nbformat": 4,
  "vscode": {
   "interpreter": {
    "hash": "f15627b29e15848638e903c52dd09ae6c4c9adb1719aae45dda3850ec7954c19"
   }
  }
 },
 "nbformat": 4,
 "nbformat_minor": 2
}
