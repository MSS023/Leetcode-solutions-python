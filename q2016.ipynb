{
 "cells": [
  {
   "cell_type": "code",
   "execution_count": 1,
   "id": "3f34041c",
   "metadata": {},
   "outputs": [],
   "source": [
    "from typing import *"
   ]
  },
  {
   "cell_type": "code",
   "execution_count": 2,
   "id": "a5747747",
   "metadata": {},
   "outputs": [],
   "source": [
    "class Solution:\n",
    "    def maximumDifference(self, nums: List[int]) -> int:\n",
    "        n = len(nums)\n",
    "        suffix = [None]*n\n",
    "        suffix[-1] = nums[-1]\n",
    "        maxm = -1\n",
    "        for idx in range(n-2, -1, -1):\n",
    "            suffix[idx] = max(suffix[idx+1], nums[idx])\n",
    "            if nums[idx] >= suffix[idx+1]:\n",
    "                continue\n",
    "            maxm = max(maxm, suffix[idx+1] - nums[idx])\n",
    "        return maxm"
   ]
  },
  {
   "cell_type": "code",
   "execution_count": 3,
   "id": "69f13371",
   "metadata": {},
   "outputs": [
    {
     "name": "stdout",
     "output_type": "stream",
     "text": [
      "4\n"
     ]
    }
   ],
   "source": [
    "print(Solution().maximumDifference([7,1,5,4]))"
   ]
  }
 ],
 "metadata": {
  "kernelspec": {
   "display_name": "Python 3",
   "language": "python",
   "name": "python3"
  },
  "language_info": {
   "codemirror_mode": {
    "name": "ipython",
    "version": 3
   },
   "file_extension": ".py",
   "mimetype": "text/x-python",
   "name": "python",
   "nbconvert_exporter": "python",
   "pygments_lexer": "ipython3",
   "version": "3.10.11"
  }
 },
 "nbformat": 4,
 "nbformat_minor": 5
}
