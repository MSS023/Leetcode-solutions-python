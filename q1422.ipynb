{
 "cells": [
  {
   "cell_type": "code",
   "execution_count": 1,
   "metadata": {},
   "outputs": [],
   "source": [
    "from typing import *"
   ]
  },
  {
   "cell_type": "code",
   "execution_count": 4,
   "metadata": {},
   "outputs": [],
   "source": [
    "class Solution:\n",
    "    def maxScore(self, s: str) -> int:\n",
    "        sArr = [int(x) for x in s]\n",
    "\n",
    "        ones = sum(sArr)\n",
    "\n",
    "        prefixSum = [[0, ones]]\n",
    "        maxm = 0\n",
    "        for idx in range(len(sArr)-1):\n",
    "            num = sArr[idx]\n",
    "            lastSum = prefixSum[-1]\n",
    "            if num == 0:\n",
    "                prefixSum.append([lastSum[0]+1, lastSum[1]])\n",
    "            else:\n",
    "                prefixSum.append([lastSum[0], lastSum[1]-1])\n",
    "            maxm = max(maxm, sum(prefixSum[-1]))\n",
    "\n",
    "        return maxm"
   ]
  },
  {
   "cell_type": "code",
   "execution_count": 7,
   "metadata": {},
   "outputs": [],
   "source": [
    "class Solution:\n",
    "    def maxScore(self, s: str) -> int:\n",
    "        sArr = [int(x) for x in s]\n",
    "\n",
    "        ones = sum(sArr)\n",
    "\n",
    "        currSum = ones\n",
    "        maxm = 0\n",
    "        for idx in range(len(sArr)-1):\n",
    "            num = sArr[idx]\n",
    "            currSum += -1 if num == 1 else 1\n",
    "            maxm = max(maxm, currSum)\n",
    "        \n",
    "        return maxm"
   ]
  },
  {
   "cell_type": "code",
   "execution_count": 8,
   "metadata": {},
   "outputs": [
    {
     "data": {
      "text/plain": [
       "5"
      ]
     },
     "execution_count": 8,
     "metadata": {},
     "output_type": "execute_result"
    }
   ],
   "source": [
    "Solution().maxScore(\"011101\")"
   ]
  }
 ],
 "metadata": {
  "kernelspec": {
   "display_name": "Python 3",
   "language": "python",
   "name": "python3"
  },
  "language_info": {
   "codemirror_mode": {
    "name": "ipython",
    "version": 3
   },
   "file_extension": ".py",
   "mimetype": "text/x-python",
   "name": "python",
   "nbconvert_exporter": "python",
   "pygments_lexer": "ipython3",
   "version": "3.13.1"
  }
 },
 "nbformat": 4,
 "nbformat_minor": 2
}
