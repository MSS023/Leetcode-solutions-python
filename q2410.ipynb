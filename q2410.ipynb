{
 "cells": [
  {
   "cell_type": "code",
   "execution_count": null,
   "metadata": {},
   "outputs": [],
   "source": [
    "from typing import *\n",
    "\n",
    "class Solution:\n",
    "    def matchPlayersAndTrainers(self, players: List[int], trainers: List[int]) -> int:\n",
    "        players.sort()\n",
    "        trainers.sort()\n",
    "        count = 0\n",
    "        ptr1 = 0\n",
    "        ptr2 = 0\n",
    "        while ptr1 < len(players) and ptr2 < len(trainers):\n",
    "            if players[ptr1] <= trainers[ptr2]:\n",
    "                count += 1\n",
    "                ptr1 += 1\n",
    "                ptr2 += 1\n",
    "                continue\n",
    "            ptr2 += 1\n",
    "        return count"
   ]
  }
 ],
 "metadata": {
  "language_info": {
   "name": "python"
  },
  "orig_nbformat": 4
 },
 "nbformat": 4,
 "nbformat_minor": 2
}
