{
 "cells": [
  {
   "cell_type": "code",
   "execution_count": null,
   "metadata": {},
   "outputs": [],
   "source": [
    "class Solution:\n",
    "    def twoEditWords(self, queries: List[str], dictionary: List[str]) -> List[str]:\n",
    "                \n",
    "        def calculateDifference(word1,word2):\n",
    "            count = 0\n",
    "            for i,j in zip(word1,word2):\n",
    "                if i!=j:\n",
    "                    count += 1\n",
    "                if count > 2:\n",
    "                    return False\n",
    "            return True\n",
    "        \n",
    "        res = []\n",
    "        for i in queries:\n",
    "            for j in dictionary:\n",
    "                if calculateDifference(i,j):\n",
    "                    res.append(i)\n",
    "                    break\n",
    "        return res"
   ]
  }
 ],
 "metadata": {
  "language_info": {
   "name": "python"
  },
  "orig_nbformat": 4
 },
 "nbformat": 4,
 "nbformat_minor": 2
}
