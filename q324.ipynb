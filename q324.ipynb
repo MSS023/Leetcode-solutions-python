{
 "cells": [
  {
   "cell_type": "code",
   "execution_count": 4,
   "metadata": {},
   "outputs": [],
   "source": [
    "from math import ceil\n",
    "\n",
    "class Solution:\n",
    "    def wiggleSort(self, nums: list[int]) -> None:\n",
    "        nums.sort()\n",
    "        lower = nums[:ceil(len(nums)/2)]\n",
    "        upper = nums[ceil(len(nums)/2):]\n",
    "        for i in range(0,len(nums),2):\n",
    "            nums[i] = lower.pop()\n",
    "        for i in range(1,len(nums),2):\n",
    "            nums[i] = upper.pop()"
   ]
  },
  {
   "cell_type": "code",
   "execution_count": 6,
   "metadata": {},
   "outputs": [
    {
     "name": "stdout",
     "output_type": "stream",
     "text": [
      "[1, 4, 1, 5, 1, 6]\n"
     ]
    }
   ],
   "source": [
    "nums = [1,5,1,1,6,4]\n",
    "Solution().wiggleSort(nums)\n",
    "print(nums)"
   ]
  }
 ],
 "metadata": {
  "kernelspec": {
   "display_name": "Python 3.10.2 64-bit",
   "language": "python",
   "name": "python3"
  },
  "language_info": {
   "codemirror_mode": {
    "name": "ipython",
    "version": 3
   },
   "file_extension": ".py",
   "mimetype": "text/x-python",
   "name": "python",
   "nbconvert_exporter": "python",
   "pygments_lexer": "ipython3",
   "version": "3.10.2"
  },
  "orig_nbformat": 4,
  "vscode": {
   "interpreter": {
    "hash": "7fa5c2bbde354df5fb32f89863fd9628b3718657b842099e0733f1c707419bc4"
   }
  }
 },
 "nbformat": 4,
 "nbformat_minor": 2
}
