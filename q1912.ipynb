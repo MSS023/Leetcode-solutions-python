{
 "cells": [
  {
   "cell_type": "code",
   "execution_count": 2,
   "id": "e85e30d6",
   "metadata": {},
   "outputs": [],
   "source": [
    "from typing import *\n",
    "import bisect"
   ]
  },
  {
   "cell_type": "code",
   "execution_count": null,
   "id": "f09250ad",
   "metadata": {},
   "outputs": [],
   "source": [
    "class MovieRentingSystem:\n",
    "\n",
    "    def __init__(self, n: int, entries: List[List[int]]):\n",
    "        self.sm = {}\n",
    "        self.ms = {}\n",
    "        self.msp = {}\n",
    "        self.rented = []\n",
    "\n",
    "        for s,m,p in entries:\n",
    "            if s not in self.sm:\n",
    "                self.sm[s] = []\n",
    "            if m not in self.ms:\n",
    "                self.ms[m] = []\n",
    "            if m not in self.msp:\n",
    "                self.msp[m] = {}\n",
    "            self.msp[m][s] = p\n",
    "            bisect.insort(self.sm[s], (p,m))\n",
    "            bisect.insort(self.ms[m], (p,s))\n",
    "\n",
    "    def search(self, movie: int) -> List[int]:\n",
    "        if movie not in self.ms:\n",
    "            return []\n",
    "        return list(map(lambda x: x[1],self.ms[movie][:5]))\n",
    "\n",
    "    def rent(self, shop: int, movie: int) -> None:\n",
    "        p = self.msp[movie][shop]\n",
    "        self.sm[shop].pop(bisect.bisect_left(self.sm[shop], (p,movie)))\n",
    "        self.ms[movie].pop(bisect.bisect_left(self.ms[movie], (p,shop)))\n",
    "        bisect.insort(self.rented, (p,shop,movie))\n",
    "\n",
    "    def drop(self, shop: int, movie: int) -> None:\n",
    "        p = self.msp[movie][shop]\n",
    "        bisect.insort(self.sm[shop], (p,movie))\n",
    "        bisect.insort(self.ms[movie], (p,shop))\n",
    "        self.rented.pop(bisect.bisect_left(self.rented,(p,shop,movie)))\n",
    "\n",
    "    def report(self) -> List[List[int]]:\n",
    "        return list(map(lambda x: [x[1],x[2]], self.rented[:5]))\n",
    "\n",
    "\n",
    "# Your MovieRentingSystem object will be instantiated and called as such:\n",
    "# obj = MovieRentingSystem(n, entries)\n",
    "# param_1 = obj.search(movie)\n",
    "# obj.rent(shop,movie)\n",
    "# obj.drop(shop,movie)\n",
    "# param_4 = obj.report()"
   ]
  }
 ],
 "metadata": {
  "kernelspec": {
   "display_name": "Python 3",
   "language": "python",
   "name": "python3"
  },
  "language_info": {
   "codemirror_mode": {
    "name": "ipython",
    "version": 3
   },
   "file_extension": ".py",
   "mimetype": "text/x-python",
   "name": "python",
   "nbconvert_exporter": "python",
   "pygments_lexer": "ipython3",
   "version": "3.10.11"
  }
 },
 "nbformat": 4,
 "nbformat_minor": 5
}
