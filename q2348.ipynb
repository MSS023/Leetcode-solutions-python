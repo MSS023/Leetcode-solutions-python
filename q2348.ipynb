{
 "cells": [
  {
   "cell_type": "code",
   "execution_count": 1,
   "id": "098e389c",
   "metadata": {},
   "outputs": [],
   "source": [
    "from typing import *"
   ]
  },
  {
   "cell_type": "markdown",
   "id": "2bebc891",
   "metadata": {},
   "source": [
    "Hint to solve\n",
    "- The solution is very simple just add all the consecutive combinations of 0.\n",
    "- Now for one consecutive subarray of length n a simple formula gives the count of all the combination `n(n+1)/2`\n",
    "- The above mentioned expression is a simple formula of sum of AP 1-n\n",
    "- Taking the above hint we can simply count the length of subarray of 0 everytime and add it to the result"
   ]
  },
  {
   "cell_type": "code",
   "execution_count": null,
   "id": "5d83cbb2",
   "metadata": {},
   "outputs": [],
   "source": [
    "class Solution:\n",
    "    def zeroFilledSubarray(self, nums: List[int]) -> int:\n",
    "        count = 0\n",
    "        result = 0\n",
    "        for num in nums:\n",
    "            if num == 0:\n",
    "                count += 1\n",
    "                result += count\n",
    "                continue\n",
    "            count = 0\n",
    "        return result"
   ]
  },
  {
   "cell_type": "code",
   "execution_count": 4,
   "id": "543f405c",
   "metadata": {},
   "outputs": [
    {
     "name": "stdout",
     "output_type": "stream",
     "text": [
      "6\n",
      "9\n",
      "0\n"
     ]
    }
   ],
   "source": [
    "print(Solution().zeroFilledSubarray([1,3,0,0,2,0,0,4]))\n",
    "print(Solution().zeroFilledSubarray([0,0,0,2,0,0]))\n",
    "print(Solution().zeroFilledSubarray([2,10,2019]))"
   ]
  }
 ],
 "metadata": {
  "kernelspec": {
   "display_name": "Python 3",
   "language": "python",
   "name": "python3"
  },
  "language_info": {
   "codemirror_mode": {
    "name": "ipython",
    "version": 3
   },
   "file_extension": ".py",
   "mimetype": "text/x-python",
   "name": "python",
   "nbconvert_exporter": "python",
   "pygments_lexer": "ipython3",
   "version": "3.10.11"
  }
 },
 "nbformat": 4,
 "nbformat_minor": 5
}
