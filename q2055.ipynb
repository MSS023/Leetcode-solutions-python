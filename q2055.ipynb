{
 "cells": [
  {
   "cell_type": "markdown",
   "metadata": {},
   "source": [
    "TLE"
   ]
  },
  {
   "cell_type": "code",
   "execution_count": 3,
   "metadata": {},
   "outputs": [],
   "source": [
    "class Solution:\n",
    "    def platesBetweenCandles(self, s: str, queries: list[list[int]]) -> list[int]:\n",
    "        res=[]\n",
    "        for a,end in queries:\n",
    "            answer=0\n",
    "            start=a\n",
    "            while start<end and s[start]!=\"|\":\n",
    "                start+=1\n",
    "            if start==end:\n",
    "                res.append(answer)\n",
    "                continue\n",
    "            while start<end:\n",
    "                temp=0\n",
    "                if s[start]==\"|\":\n",
    "                    start+=1\n",
    "                    continue\n",
    "                while start<end and s[start]!=\"|\":\n",
    "                    temp+=1\n",
    "                    start+=1\n",
    "                if s[start]==\"|\":\n",
    "                    answer+=temp\n",
    "                if start==end:\n",
    "                    break\n",
    "            res.append(answer)\n",
    "        return res"
   ]
  },
  {
   "cell_type": "markdown",
   "metadata": {},
   "source": [
    "TLE"
   ]
  },
  {
   "cell_type": "code",
   "execution_count": 19,
   "metadata": {},
   "outputs": [],
   "source": [
    "class Solution:\n",
    "    def platesBetweenCandles(self, s: str, queries: list[list[int]]) -> list[int]:\n",
    "        start = 0\n",
    "        while s[start] != \"|\":\n",
    "            start += 1\n",
    "        end = len(s) - 1\n",
    "        while s[end] != \"|\":\n",
    "            end -= 1\n",
    "        data = []\n",
    "        while start < end:\n",
    "            temp = start + 1\n",
    "            while s[temp] == \"*\":\n",
    "                temp += 1\n",
    "            if temp > start + 1:\n",
    "                data.append((start,temp))\n",
    "            start = temp\n",
    "        res = []\n",
    "        for i,j in queries:\n",
    "            count = 0\n",
    "            for start,end in data:\n",
    "                if start > j:\n",
    "                    break\n",
    "                if start < i or end > j:\n",
    "                    continue\n",
    "                count += end-start-1\n",
    "            res.append(count)\n",
    "        return res"
   ]
  },
  {
   "cell_type": "markdown",
   "metadata": {},
   "source": [
    "TLE"
   ]
  },
  {
   "cell_type": "code",
   "execution_count": 38,
   "metadata": {},
   "outputs": [],
   "source": [
    "class Solution:\n",
    "    def platesBetweenCandles(self, s: str, queries: list[list[int]]) -> list[int]:\n",
    "        lastCandle = []\n",
    "        last = -1\n",
    "        for i in range(len(s)-1,-1,-1):\n",
    "            lastCandle.insert(0,last)\n",
    "            if s[i] == \"|\":\n",
    "                last = i\n",
    "        res = []\n",
    "        for i,j in queries:\n",
    "            count = 0\n",
    "            if s[i] == \"|\":\n",
    "                last = i\n",
    "            else:\n",
    "                last = lastCandle[i]\n",
    "            while last < j and last != -1:\n",
    "                candle = lastCandle[last]\n",
    "                if candle!=-1 and candle <= j:\n",
    "                    count += candle-last-1\n",
    "                last = candle\n",
    "            res.append(count)\n",
    "        return res"
   ]
  },
  {
   "cell_type": "code",
   "execution_count": 40,
   "metadata": {},
   "outputs": [],
   "source": [
    "class Solution:\n",
    "    def platesBetweenCandles(self, s: str, queries: list[list[int]]) -> list[int]:\n",
    "        pf_sum = [0] * (len(s) + 1)\n",
    "        right_candle_idx = [-1] * (len(s) + 1)\n",
    "        left_candle_idx = [-1] * (len(s) + 1)\n",
    "        \n",
    "        def calculate_pf_sum():\n",
    "            last_candle_idx = -1\n",
    "            curr_dish_count = 0\n",
    "            # left pass\n",
    "            for i, c in enumerate(s):\n",
    "                if c == \"|\":\n",
    "                    last_candle_idx = i\n",
    "                    pf_sum[i] = pf_sum[i-1] + curr_dish_count\n",
    "                    curr_dish_count = 0\n",
    "                if c == \"*\" and last_candle_idx > -1:\n",
    "                    pf_sum[i] = pf_sum[i-1]\n",
    "                    curr_dish_count += 1\n",
    "                left_candle_idx[i] = last_candle_idx\n",
    "            # Right pass\n",
    "            last_candle_idx = -1    \n",
    "            for i in range(len(s)-1, -1, -1):\n",
    "                if s[i] == \"|\":\n",
    "                    last_candle_idx = i\n",
    "                right_candle_idx[i] = last_candle_idx\n",
    "                \n",
    "        calculate_pf_sum()\n",
    "        res = [0] * len(queries)\n",
    "        for i, (start, end) in enumerate(queries):\n",
    "            start = right_candle_idx[start]\n",
    "            end = left_candle_idx[end]\n",
    "            s = 0\n",
    "            if start>-1 and end >-1 and end > start:\n",
    "                s = pf_sum[end]-pf_sum[start]\n",
    "            res[i] = s\n",
    "        return res"
   ]
  },
  {
   "cell_type": "code",
   "execution_count": 41,
   "metadata": {},
   "outputs": [
    {
     "data": {
      "text/plain": [
       "[2, 3]"
      ]
     },
     "execution_count": 41,
     "metadata": {},
     "output_type": "execute_result"
    }
   ],
   "source": [
    "Solution().platesBetweenCandles(\"**|**|***|\",\n",
    "[[2,5],[5,9]])"
   ]
  }
 ],
 "metadata": {
  "kernelspec": {
   "display_name": "Python 3.10.2 64-bit",
   "language": "python",
   "name": "python3"
  },
  "language_info": {
   "codemirror_mode": {
    "name": "ipython",
    "version": 3
   },
   "file_extension": ".py",
   "mimetype": "text/x-python",
   "name": "python",
   "nbconvert_exporter": "python",
   "pygments_lexer": "ipython3",
   "version": "3.10.2"
  },
  "orig_nbformat": 4,
  "vscode": {
   "interpreter": {
    "hash": "7fa5c2bbde354df5fb32f89863fd9628b3718657b842099e0733f1c707419bc4"
   }
  }
 },
 "nbformat": 4,
 "nbformat_minor": 2
}
