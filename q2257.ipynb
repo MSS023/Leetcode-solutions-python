{
 "cells": [
  {
   "cell_type": "code",
   "execution_count": 15,
   "metadata": {},
   "outputs": [],
   "source": [
    "class Solution:\n",
    "    def countUnguarded(self, m: int, n: int, guards: list[list[int]], walls: list[list[int]]) -> int:\n",
    "        count = m*n - len(guards) - len(walls)\n",
    "        plane = [[\"un\"]*n for _ in range(m)]\n",
    "        for x,y in walls:\n",
    "            plane[x][y] = \"w\"\n",
    "        for x,y in guards:\n",
    "            plane[x][y] = \"p\"\n",
    "        for x,y in guards:\n",
    "            for i in range(y-1,-1,-1):\n",
    "                if plane[x][i] == \"w\" or plane[x][i] == \"p\": break\n",
    "                if plane[x][i] == \"g\": continue\n",
    "                plane[x][i] = \"g\"\n",
    "                count -= 1\n",
    "            for i in range(y+1,n):\n",
    "                if plane[x][i] == \"w\" or plane[x][i] == \"p\": break\n",
    "                if plane[x][i] == \"g\": continue\n",
    "                plane[x][i] = \"g\"\n",
    "                count -= 1\n",
    "            for i in range(x-1,-1,-1):\n",
    "                if plane[i][y] == \"w\" or plane[i][y] == \"p\": break\n",
    "                if plane[i][y] == \"g\": continue\n",
    "                plane[i][y] = \"g\"\n",
    "                count -= 1\n",
    "            for i in range(x+1,m):\n",
    "                if plane[i][y] == \"w\" or plane[i][y] == \"p\": break\n",
    "                if plane[i][y] == \"g\": continue\n",
    "                plane[i][y] = \"g\"\n",
    "                count -= 1\n",
    "        return count"
   ]
  },
  {
   "cell_type": "code",
   "execution_count": 16,
   "metadata": {},
   "outputs": [
    {
     "data": {
      "text/plain": [
       "1"
      ]
     },
     "execution_count": 16,
     "metadata": {},
     "output_type": "execute_result"
    }
   ],
   "source": [
    "Solution().countUnguarded(2,\n",
    "7,\n",
    "[[1,5],[1,1],[1,6],[0,2]],\n",
    "[[0,6],[0,3],[0,5]])"
   ]
  }
 ],
 "metadata": {
  "kernelspec": {
   "display_name": "Python 3.10.5 64-bit",
   "language": "python",
   "name": "python3"
  },
  "language_info": {
   "codemirror_mode": {
    "name": "ipython",
    "version": 3
   },
   "file_extension": ".py",
   "mimetype": "text/x-python",
   "name": "python",
   "nbconvert_exporter": "python",
   "pygments_lexer": "ipython3",
   "version": "3.10.5"
  },
  "orig_nbformat": 4,
  "vscode": {
   "interpreter": {
    "hash": "f15627b29e15848638e903c52dd09ae6c4c9adb1719aae45dda3850ec7954c19"
   }
  }
 },
 "nbformat": 4,
 "nbformat_minor": 2
}
