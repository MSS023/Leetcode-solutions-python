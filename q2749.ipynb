{
 "cells": [
  {
   "cell_type": "code",
   "execution_count": 9,
   "id": "20ffd8ff",
   "metadata": {},
   "outputs": [],
   "source": [
    "from typing import *\n",
    "import math"
   ]
  },
  {
   "cell_type": "code",
   "execution_count": null,
   "id": "161efe2d",
   "metadata": {},
   "outputs": [],
   "source": [
    "class Solution:\n",
    "    def makeTheIntegerZero(self, num1: int, num2: int) -> int:\n",
    "        k = 1\n",
    "        while True:\n",
    "            x = num1 - num2 * k\n",
    "            if x < k:\n",
    "                return -1\n",
    "            if k >= x.bit_count():\n",
    "                return k\n",
    "            k += 1"
   ]
  },
  {
   "cell_type": "code",
   "execution_count": 18,
   "id": "e9565c96",
   "metadata": {},
   "outputs": [
    {
     "name": "stdout",
     "output_type": "stream",
     "text": [
      "-1\n"
     ]
    }
   ],
   "source": [
    "print(Solution().makeTheIntegerZero(5,-21))\n",
    "# print(Solution().makeTheIntegerZero(5,7))"
   ]
  }
 ],
 "metadata": {
  "kernelspec": {
   "display_name": "Python 3",
   "language": "python",
   "name": "python3"
  },
  "language_info": {
   "codemirror_mode": {
    "name": "ipython",
    "version": 3
   },
   "file_extension": ".py",
   "mimetype": "text/x-python",
   "name": "python",
   "nbconvert_exporter": "python",
   "pygments_lexer": "ipython3",
   "version": "3.10.11"
  }
 },
 "nbformat": 4,
 "nbformat_minor": 5
}
