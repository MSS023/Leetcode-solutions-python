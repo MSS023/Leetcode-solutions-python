{
 "cells": [
  {
   "cell_type": "code",
   "execution_count": 12,
   "metadata": {},
   "outputs": [],
   "source": [
    "class Solution:\n",
    "    def generateMatrix(self, n: int) -> list[list[int]]:\n",
    "        mat=[[-1]*n for i in range(n)]\n",
    "        direction=\"r\"\n",
    "        row=0\n",
    "        col=0\n",
    "        for i in range(1,n*n+1):\n",
    "            mat[row][col]=i\n",
    "            if direction == \"r\":\n",
    "                if col==n-1 or mat[row][col+1]!=-1:\n",
    "                    direction=\"d\"\n",
    "                    row+=1\n",
    "                    continue\n",
    "                col+=1\n",
    "                continue\n",
    "            if direction == \"d\":\n",
    "                if row==n-1 or mat[row+1][col]!=-1:\n",
    "                    direction=\"l\"\n",
    "                    col-=1\n",
    "                    continue\n",
    "                row+=1\n",
    "                continue\n",
    "            if direction == \"l\":\n",
    "                if col==0 or mat[row][col-1]!=-1:\n",
    "                    direction=\"u\"\n",
    "                    row-=1\n",
    "                    continue\n",
    "                col-=1\n",
    "                continue\n",
    "            if direction == \"u\":\n",
    "                if row==0 or mat[row-1][col]!=-1:\n",
    "                    direction=\"r\"\n",
    "                    col+=1\n",
    "                    continue\n",
    "                row-=1\n",
    "                continue\n",
    "        return mat                    "
   ]
  },
  {
   "cell_type": "code",
   "execution_count": 14,
   "metadata": {},
   "outputs": [
    {
     "data": {
      "text/plain": [
       "[[1, 2, 3], [8, 9, 4], [7, 6, 5]]"
      ]
     },
     "execution_count": 14,
     "metadata": {},
     "output_type": "execute_result"
    }
   ],
   "source": [
    "Solution().generateMatrix(int(input()))"
   ]
  }
 ],
 "metadata": {
  "interpreter": {
   "hash": "84c7cd761066ce45b8a789f7b09f72a3209628e136df7af6e1c369b4f2245113"
  },
  "kernelspec": {
   "display_name": "Python 3.10.2 64-bit",
   "language": "python",
   "name": "python3"
  },
  "language_info": {
   "codemirror_mode": {
    "name": "ipython",
    "version": 3
   },
   "file_extension": ".py",
   "mimetype": "text/x-python",
   "name": "python",
   "nbconvert_exporter": "python",
   "pygments_lexer": "ipython3",
   "version": "3.10.2"
  },
  "orig_nbformat": 4
 },
 "nbformat": 4,
 "nbformat_minor": 2
}
