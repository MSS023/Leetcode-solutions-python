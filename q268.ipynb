{
 "cells": [
  {
   "cell_type": "code",
   "execution_count": null,
   "metadata": {},
   "outputs": [],
   "source": [
    "class Solution:\n",
    "    def missingNumber(self, nums: List[int]) -> int:\n",
    "        n=len(nums)\n",
    "        diction = {i:False for i in range(n+1)}\n",
    "        for i in nums:\n",
    "            diction[i] = True\n",
    "        for i in diction:\n",
    "            if not diction[i]:\n",
    "                return i"
   ]
  }
 ],
 "metadata": {
  "language_info": {
   "name": "python"
  },
  "orig_nbformat": 4
 },
 "nbformat": 4,
 "nbformat_minor": 2
}
