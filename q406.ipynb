{
 "cells": [
  {
   "cell_type": "code",
   "execution_count": 45,
   "metadata": {},
   "outputs": [],
   "source": [
    "class Solution:\n",
    "    def reconstructQueue(self, people: list[list[int]]) -> list[list[int]]:\n",
    "        people.sort(key = lambda x: [x[0],-x[1]], reverse = True)\n",
    "        print(people)\n",
    "        res = []\n",
    "        while people:\n",
    "            person = people.pop(0)\n",
    "            count = person[1]\n",
    "            height = person[0]\n",
    "            idx = 0\n",
    "            while count > 0 and idx < len(res):\n",
    "                if height <= res[idx][0]:\n",
    "                    count -= 1\n",
    "                idx += 1\n",
    "            if count > 0:\n",
    "                people.append(person)\n",
    "                continue\n",
    "            res.insert(idx,person)\n",
    "        return res"
   ]
  },
  {
   "cell_type": "markdown",
   "metadata": {},
   "source": [
    "# Better Time 👇"
   ]
  },
  {
   "cell_type": "code",
   "execution_count": 51,
   "metadata": {},
   "outputs": [],
   "source": [
    "class Solution:\n",
    "    def reconstructQueue(self, people: list[list[int]]) -> list[list[int]]:\n",
    "        people.sort(key = lambda x: [x[0],-x[1]], reverse = True)\n",
    "        res = []\n",
    "        while people:\n",
    "            person = people.pop(0)\n",
    "            res.insert(person[1],person)\n",
    "        return res"
   ]
  },
  {
   "cell_type": "code",
   "execution_count": 50,
   "metadata": {},
   "outputs": [
    {
     "data": {
      "text/plain": [
       "[[4, 0], [5, 0], [2, 2], [3, 2], [1, 4], [6, 0]]"
      ]
     },
     "execution_count": 50,
     "metadata": {},
     "output_type": "execute_result"
    }
   ],
   "source": [
    "Solution().reconstructQueue([[6,0],[5,0],[4,0],[3,2],[2,2],[1,4]])"
   ]
  }
 ],
 "metadata": {
  "kernelspec": {
   "display_name": "Python 3.10.2 64-bit",
   "language": "python",
   "name": "python3"
  },
  "language_info": {
   "codemirror_mode": {
    "name": "ipython",
    "version": 3
   },
   "file_extension": ".py",
   "mimetype": "text/x-python",
   "name": "python",
   "nbconvert_exporter": "python",
   "pygments_lexer": "ipython3",
   "version": "3.10.2"
  },
  "orig_nbformat": 4,
  "vscode": {
   "interpreter": {
    "hash": "7fa5c2bbde354df5fb32f89863fd9628b3718657b842099e0733f1c707419bc4"
   }
  }
 },
 "nbformat": 4,
 "nbformat_minor": 2
}
