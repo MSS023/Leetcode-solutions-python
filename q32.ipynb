{
 "cells": [
  {
   "cell_type": "code",
   "execution_count": 38,
   "metadata": {},
   "outputs": [
    {
     "name": "stdout",
     "output_type": "stream",
     "text": [
      "()(()\n",
      "[0] (\n",
      "[]\n",
      "[2]\n",
      "[2]\n",
      "[2] )\n",
      "[2, 0] (\n",
      "[2, 0, 0] (\n",
      "[2, 0]\n",
      "[2, 0, 2]\n",
      "[2, 0, 2]\n",
      "[2, 0, 2] )\n",
      "2\n"
     ]
    }
   ],
   "source": [
    "class Solution:\n",
    "    def longestValidParentheses(self, s: str) -> int:\n",
    "        if len(s)==0:\n",
    "            return 0\n",
    "        stack=[]\n",
    "        last=[]\n",
    "        for i in s:\n",
    "            if i=='(':\n",
    "                stack.append(i)\n",
    "                last.append(0)\n",
    "            else:\n",
    "                if stack:\n",
    "                    stack.pop()\n",
    "                    sum=0\n",
    "                    while last and last[-1]>0:\n",
    "                        sum+=last.pop()    \n",
    "                    sum+=last.pop()               \n",
    "                    last.append(sum+2)\n",
    "                    while len(last)>1 and last[-2]>0:\n",
    "                        last.append(last.pop()+last.pop())\n",
    "                else:\n",
    "                    last.append(-1)\n",
    "        m = max(last)\n",
    "        return max(m,0)\n",
    "\n",
    "\n",
    "sol=Solution()\n",
    "print(sol.longestValidParentheses(input()))"
   ]
  }
 ],
 "metadata": {
  "interpreter": {
   "hash": "84c7cd761066ce45b8a789f7b09f72a3209628e136df7af6e1c369b4f2245113"
  },
  "kernelspec": {
   "display_name": "Python 3.10.2 64-bit",
   "language": "python",
   "name": "python3"
  },
  "language_info": {
   "codemirror_mode": {
    "name": "ipython",
    "version": 3
   },
   "file_extension": ".py",
   "mimetype": "text/x-python",
   "name": "python",
   "nbconvert_exporter": "python",
   "pygments_lexer": "ipython3",
   "version": "3.10.2"
  },
  "orig_nbformat": 4
 },
 "nbformat": 4,
 "nbformat_minor": 2
}
