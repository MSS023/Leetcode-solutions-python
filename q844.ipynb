{
 "cells": [
  {
   "cell_type": "code",
   "execution_count": null,
   "metadata": {},
   "outputs": [],
   "source": [
    "class Solution:\n",
    "    def backspaceCompare(self, s: str, t: str) -> bool:\n",
    "        string1=\"\"\n",
    "        for i in s:\n",
    "            if i != \"#\":\n",
    "                string1+=i\n",
    "                continue\n",
    "            if len(string1) < 1:\n",
    "                continue\n",
    "            string1=string1[0:len(string1)-1]\n",
    "        string2=\"\"\n",
    "        for i in t:\n",
    "            if i != \"#\":\n",
    "                string2+=i\n",
    "                continue\n",
    "            if len(string2) < 1:\n",
    "                continue\n",
    "            string2=string2[0:len(string2)-1]\n",
    "        if string1==string2:\n",
    "            return True\n",
    "        return False"
   ]
  }
 ],
 "metadata": {
  "language_info": {
   "name": "python"
  },
  "orig_nbformat": 4
 },
 "nbformat": 4,
 "nbformat_minor": 2
}
