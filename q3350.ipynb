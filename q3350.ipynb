{
 "cells": [
  {
   "cell_type": "code",
   "execution_count": 1,
   "id": "6afbd7d8",
   "metadata": {},
   "outputs": [],
   "source": [
    "from typing import *"
   ]
  },
  {
   "cell_type": "code",
   "execution_count": 2,
   "id": "cde863b2",
   "metadata": {},
   "outputs": [],
   "source": [
    "class Solution:\n",
    "    def maxIncreasingSubarrays(self, nums: List[int]) -> int:\n",
    "        n = len(nums)\n",
    "        incCount = [1]*n\n",
    "        for idx in range(1,n):\n",
    "            if nums[idx] <= nums[idx-1]:\n",
    "                continue\n",
    "            incCount[idx] = incCount[idx-1] + 1\n",
    "        maxm = 0\n",
    "        last = 1\n",
    "        for idx in range(1,n):\n",
    "            if incCount[idx] == 1:\n",
    "                last = incCount[idx-1]\n",
    "            if last >= incCount[idx]:\n",
    "                maxm = max(maxm, incCount[idx])\n",
    "                continue\n",
    "            maxm = max(maxm, incCount[idx]//2)\n",
    "        return maxm"
   ]
  },
  {
   "cell_type": "code",
   "execution_count": 3,
   "id": "9d88ac9b",
   "metadata": {},
   "outputs": [
    {
     "name": "stdout",
     "output_type": "stream",
     "text": [
      "3\n",
      "2\n"
     ]
    }
   ],
   "source": [
    "print(Solution().maxIncreasingSubarrays(nums = [2,5,7,8,9,2,3,4,3,1]))\n",
    "print(Solution().maxIncreasingSubarrays(nums = [1,2,3,4,4,4,4,5,6,7]))"
   ]
  }
 ],
 "metadata": {
  "kernelspec": {
   "display_name": "Python 3",
   "language": "python",
   "name": "python3"
  },
  "language_info": {
   "codemirror_mode": {
    "name": "ipython",
    "version": 3
   },
   "file_extension": ".py",
   "mimetype": "text/x-python",
   "name": "python",
   "nbconvert_exporter": "python",
   "pygments_lexer": "ipython3",
   "version": "3.10.11"
  }
 },
 "nbformat": 4,
 "nbformat_minor": 5
}
