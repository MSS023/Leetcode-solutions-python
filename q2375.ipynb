{
 "cells": [
  {
   "cell_type": "code",
   "execution_count": 1,
   "metadata": {},
   "outputs": [],
   "source": [
    "from typing import *"
   ]
  },
  {
   "cell_type": "code",
   "execution_count": 21,
   "metadata": {},
   "outputs": [],
   "source": [
    "class Solution:\n",
    "    def isValueEligible(self, idx: int, num: int):\n",
    "        if idx == self.maxLength - 1:\n",
    "            return True\n",
    "        ch = self.pattern[idx]\n",
    "        if ch == 'I':\n",
    "            return num < self.list[idx+1]\n",
    "        return num > self.list[idx+1]\n",
    "\n",
    "    def logic(self, idx: int, values: Set[int]) -> None:\n",
    "        if idx == -1:\n",
    "            self.memo = min(self.memo, self.list.copy())\n",
    "            return\n",
    "\n",
    "        for num in range(1, 10):\n",
    "            if num in values:\n",
    "                continue\n",
    "\n",
    "            if not self.isValueEligible(idx, num):\n",
    "                continue\n",
    "\n",
    "            self.list[idx] = num\n",
    "            values.add(num)\n",
    "\n",
    "            self.logic(idx-1, values)\n",
    "\n",
    "            self.list[idx] = None\n",
    "            values.remove(num)\n",
    "\n",
    "    def smallestNumber(self, pattern: str) -> str:\n",
    "        self.pattern = pattern\n",
    "        self.list = [None]*(len(pattern)+1)\n",
    "        self.maxLength = len(pattern) + 1\n",
    "        self.memo = [9, 9, 9, 9, 9, 9, 9, 9, 9]\n",
    "\n",
    "        self.logic(len(pattern), set())\n",
    "        return \"\".join([str(num) for num in self.memo])"
   ]
  },
  {
   "cell_type": "code",
   "execution_count": 22,
   "metadata": {},
   "outputs": [
    {
     "name": "stdout",
     "output_type": "stream",
     "text": [
      "123549876\n",
      "4321\n"
     ]
    }
   ],
   "source": [
    "print(Solution().smallestNumber(\"IIIDIDDD\"))\n",
    "print(Solution().smallestNumber(\"DDD\"))"
   ]
  }
 ],
 "metadata": {
  "kernelspec": {
   "display_name": "Python 3",
   "language": "python",
   "name": "python3"
  },
  "language_info": {
   "codemirror_mode": {
    "name": "ipython",
    "version": 3
   },
   "file_extension": ".py",
   "mimetype": "text/x-python",
   "name": "python",
   "nbconvert_exporter": "python",
   "pygments_lexer": "ipython3",
   "version": "3.13.2"
  }
 },
 "nbformat": 4,
 "nbformat_minor": 2
}
