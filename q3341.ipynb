{
 "cells": [
  {
   "cell_type": "code",
   "execution_count": 5,
   "id": "83b64242",
   "metadata": {},
   "outputs": [],
   "source": [
    "from typing import *\n",
    "import heapq"
   ]
  },
  {
   "cell_type": "code",
   "execution_count": 6,
   "id": "be06eb84",
   "metadata": {},
   "outputs": [],
   "source": [
    "class State:\n",
    "    def __init__(self, x, y, dis):\n",
    "        self.x = x\n",
    "        self.y = y\n",
    "        self.dis = dis\n",
    "\n",
    "    def __lt__(self, other):\n",
    "        return self.dis < other.dis\n",
    "\n",
    "\n",
    "class Solution:\n",
    "    def minTimeToReach(self, moveTime):\n",
    "        n = len(moveTime)\n",
    "        m = len(moveTime[0])\n",
    "        inf = float(\"inf\")\n",
    "        d = [[inf] * m for _ in range(n)]\n",
    "        v = [[0] * m for _ in range(n)]\n",
    "\n",
    "        dirs = [(1, 0), (-1, 0), (0, 1), (0, -1)]\n",
    "\n",
    "        d[0][0] = 0\n",
    "        q = []\n",
    "        heapq.heappush(q, State(0, 0, 0))\n",
    "\n",
    "        while q:\n",
    "            s = heapq.heappop(q)\n",
    "            if v[s.x][s.y]:\n",
    "                continue\n",
    "            v[s.x][s.y] = 1\n",
    "            for dx, dy in dirs:\n",
    "                nx, ny = s.x + dx, s.y + dy\n",
    "                if not (0 <= nx < n and 0 <= ny < m):\n",
    "                    continue\n",
    "                dist = max(d[s.x][s.y], moveTime[nx][ny]) + 1\n",
    "                if d[nx][ny] > dist:\n",
    "                    d[nx][ny] = dist\n",
    "                    heapq.heappush(q, State(nx, ny, dist))\n",
    "\n",
    "        return d[n - 1][m - 1]"
   ]
  },
  {
   "cell_type": "code",
   "execution_count": 7,
   "id": "74085d07",
   "metadata": {},
   "outputs": [
    {
     "name": "stdout",
     "output_type": "stream",
     "text": [
      "6\n",
      "3\n",
      "3\n",
      "9\n",
      "81\n",
      "39\n",
      "72\n"
     ]
    }
   ],
   "source": [
    "print(Solution().minTimeToReach([[0,4],[4,4]]))\n",
    "print(Solution().minTimeToReach([[0,0,0],[0,0,0]]))\n",
    "print(Solution().minTimeToReach([[0,1],[1,2]]))\n",
    "print(Solution().minTimeToReach([[0,3,6],[1,4,7],[2,5,8]]))\n",
    "print(Solution().minTimeToReach([[17,56],[97,80]]))\n",
    "print(Solution().minTimeToReach([[56,93],[3,38]]))\n",
    "print(Solution().minTimeToReach([[94,79,62,27,69,84],[6,32,11,82,42,30]]))"
   ]
  }
 ],
 "metadata": {
  "kernelspec": {
   "display_name": "Python 3",
   "language": "python",
   "name": "python3"
  },
  "language_info": {
   "codemirror_mode": {
    "name": "ipython",
    "version": 3
   },
   "file_extension": ".py",
   "mimetype": "text/x-python",
   "name": "python",
   "nbconvert_exporter": "python",
   "pygments_lexer": "ipython3",
   "version": "3.10.11"
  }
 },
 "nbformat": 4,
 "nbformat_minor": 5
}
