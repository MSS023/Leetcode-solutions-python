{
 "cells": [
  {
   "cell_type": "code",
   "execution_count": 28,
   "metadata": {},
   "outputs": [],
   "source": [
    "from typing import *\n",
    "import math"
   ]
  },
  {
   "cell_type": "markdown",
   "metadata": {},
   "source": [
    "# TLE Approach"
   ]
  },
  {
   "cell_type": "code",
   "execution_count": 29,
   "metadata": {},
   "outputs": [],
   "source": [
    "class Solution:\n",
    "    def numMusicPlaylists(self, n: int, goal: int, k: int) -> int:\n",
    "        MOD = 7+10**9\n",
    "        if n == goal:\n",
    "            return math.factorial(n) % MOD\n",
    "        def countPlaylists(n: int, lastPosition: List[int], currentPosition: int = 0) -> int:\n",
    "            if currentPosition == goal:\n",
    "                if -1 in lastPosition:\n",
    "                    return 0\n",
    "                return 1\n",
    "            count = 0\n",
    "            for idx in range(n):\n",
    "                if lastPosition[idx]!=-1 and currentPosition - lastPosition[idx] <= k:\n",
    "                    continue\n",
    "                lastValue = lastPosition[idx]\n",
    "                lastPosition[idx] = currentPosition\n",
    "                count += countPlaylists(n,lastPosition,currentPosition+1)\n",
    "                count = count % MOD\n",
    "                lastPosition[idx] = lastValue\n",
    "            return count\n",
    "        return countPlaylists(n, [-1]*n)"
   ]
  },
  {
   "cell_type": "code",
   "execution_count": 30,
   "metadata": {},
   "outputs": [
    {
     "data": {
      "text/plain": [
       "789741546"
      ]
     },
     "execution_count": 30,
     "metadata": {},
     "output_type": "execute_result"
    }
   ],
   "source": [
    "Solution().numMusicPlaylists(16,16,4)"
   ]
  }
 ],
 "metadata": {
  "kernelspec": {
   "display_name": "Python 3",
   "language": "python",
   "name": "python3"
  },
  "language_info": {
   "codemirror_mode": {
    "name": "ipython",
    "version": 3
   },
   "file_extension": ".py",
   "mimetype": "text/x-python",
   "name": "python",
   "nbconvert_exporter": "python",
   "pygments_lexer": "ipython3",
   "version": "3.11.5"
  },
  "orig_nbformat": 4
 },
 "nbformat": 4,
 "nbformat_minor": 2
}
