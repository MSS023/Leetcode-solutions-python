{
 "cells": [
  {
   "cell_type": "code",
   "execution_count": 12,
   "metadata": {},
   "outputs": [
    {
     "name": "stdout",
     "output_type": "stream",
     "text": [
      "24\n"
     ]
    }
   ],
   "source": [
    "class Solution:\n",
    "    def brokenCalc(self, startValue: int, target: int) -> int:\n",
    "        if startValue==target:\n",
    "            return 0\n",
    "        if startValue>target:\n",
    "            return startValue-target\n",
    "        count=0\n",
    "        while target>startValue:\n",
    "            if target%2==1:\n",
    "                target+=1\n",
    "                count+=1\n",
    "            else:\n",
    "                target//=2\n",
    "                count+=1\n",
    "        while target<startValue:\n",
    "            target+=1\n",
    "            count+=1\n",
    "        return count\n",
    "    \n",
    "sol=Solution()\n",
    "print(sol.brokenCalc(1,100000))"
   ]
  }
 ],
 "metadata": {
  "interpreter": {
   "hash": "84c7cd761066ce45b8a789f7b09f72a3209628e136df7af6e1c369b4f2245113"
  },
  "kernelspec": {
   "display_name": "Python 3.10.2 64-bit",
   "language": "python",
   "name": "python3"
  },
  "language_info": {
   "codemirror_mode": {
    "name": "ipython",
    "version": 3
   },
   "file_extension": ".py",
   "mimetype": "text/x-python",
   "name": "python",
   "nbconvert_exporter": "python",
   "pygments_lexer": "ipython3",
   "version": "3.10.2"
  },
  "orig_nbformat": 4
 },
 "nbformat": 4,
 "nbformat_minor": 2
}
