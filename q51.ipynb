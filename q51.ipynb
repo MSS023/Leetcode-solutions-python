{
 "cells": [
  {
   "cell_type": "code",
   "execution_count": 13,
   "metadata": {},
   "outputs": [],
   "source": [
    "class Solution:\n",
    "    def solveNQueens(self, n: int) -> list[list[str]]:\n",
    "        boards=[]\n",
    "        res=[]\n",
    "        def fillBoard(row,n,filled,listOfBoards):\n",
    "            if row==n:\n",
    "                listOfBoards.append(filled)\n",
    "                return\n",
    "            for i in range(n):\n",
    "                flag=True\n",
    "                for r,c in filled:\n",
    "                    if c == i:\n",
    "                        flag=False\n",
    "                        break\n",
    "                    if i == row + (c-r):\n",
    "                        flag=False\n",
    "                        break\n",
    "                    if i == -row + (r+c):\n",
    "                        flag=False\n",
    "                        break\n",
    "                if flag:\n",
    "                    fillBoard(row+1,n,filled+[(row,i)],listOfBoards)                       \n",
    "        fillBoard(0,n,[],boards)\n",
    "        for board in boards:\n",
    "            temp=[[\".\"]*n for _ in range(n)]\n",
    "            for r,c in board:\n",
    "                temp[r][c]=\"Q\"\n",
    "            for index,row in enumerate(temp):\n",
    "                temp[index]=\"\".join(row)\n",
    "            res.append(temp)\n",
    "        return res"
   ]
  },
  {
   "cell_type": "code",
   "execution_count": 16,
   "metadata": {},
   "outputs": [
    {
     "data": {
      "text/plain": [
       "[['Q']]"
      ]
     },
     "execution_count": 16,
     "metadata": {},
     "output_type": "execute_result"
    }
   ],
   "source": [
    "Solution().solveNQueens(1)"
   ]
  }
 ],
 "metadata": {
  "interpreter": {
   "hash": "7fa5c2bbde354df5fb32f89863fd9628b3718657b842099e0733f1c707419bc4"
  },
  "kernelspec": {
   "display_name": "Python 3.10.2 64-bit",
   "language": "python",
   "name": "python3"
  },
  "language_info": {
   "codemirror_mode": {
    "name": "ipython",
    "version": 3
   },
   "file_extension": ".py",
   "mimetype": "text/x-python",
   "name": "python",
   "nbconvert_exporter": "python",
   "pygments_lexer": "ipython3",
   "version": "3.10.2"
  },
  "orig_nbformat": 4
 },
 "nbformat": 4,
 "nbformat_minor": 2
}
