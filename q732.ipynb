{
 "cells": [
  {
   "cell_type": "code",
   "execution_count": 23,
   "metadata": {},
   "outputs": [],
   "source": [
    "from functools import cache\n",
    "from typing import *\n",
    "import bisect\n",
    "\n",
    "class MyCalendarThree:\n",
    "\n",
    "    def __init__(self):\n",
    "        self.calendar: List[Tuple[int, int]] = []\n",
    "        self.counter = 0\n",
    "\n",
    "    def changeWindow(self, s1, e1, s2, e2):\n",
    "        return (max(s1,s2), min(e1,e2))\n",
    "\n",
    "    def book(self, start: int, end: int) -> int:\n",
    "        @cache\n",
    "        def recursive(temps, tempe, stack, pos):\n",
    "            count = stack\n",
    "            if pos == len(self.calendar):\n",
    "                return stack\n",
    "            for i in range(pos, len(self.calendar)):\n",
    "                s,e = self.calendar[i]\n",
    "                if temps < s and tempe <= s:\n",
    "                    continue\n",
    "                if temps >= e:\n",
    "                    continue\n",
    "                count = max(recursive(*self.changeWindow(temps,tempe,s,e),stack + 1,i+1),count)\n",
    "            return count\n",
    "        self.counter = max(self.counter, recursive(start,end,1,0))\n",
    "        bisect.insort(self.calendar,(start,end))\n",
    "        return self.counter\n",
    "\n",
    "\n",
    "# Your MyCalendarThree object will be instantiated and called as such:\n",
    "# obj = MyCalendarThree()\n",
    "# param_1 = obj.book(start,end)"
   ]
  },
  {
   "cell_type": "code",
   "execution_count": 24,
   "metadata": {},
   "outputs": [
    {
     "name": "stdout",
     "output_type": "stream",
     "text": [
      "2\n"
     ]
    }
   ],
   "source": [
    "obj = MyCalendarThree()\n",
    "obj.book(10,20)\n",
    "obj.book(50,60)\n",
    "print(obj.book(10,40))\n",
    "# print(obj.book(5,15))\n",
    "# print(obj.book(5,10))\n",
    "# print(obj.book(25,55))"
   ]
  }
 ],
 "metadata": {
  "kernelspec": {
   "display_name": "Python 3.10.6 64-bit",
   "language": "python",
   "name": "python3"
  },
  "language_info": {
   "codemirror_mode": {
    "name": "ipython",
    "version": 3
   },
   "file_extension": ".py",
   "mimetype": "text/x-python",
   "name": "python",
   "nbconvert_exporter": "python",
   "pygments_lexer": "ipython3",
   "version": "3.10.6"
  },
  "orig_nbformat": 4,
  "vscode": {
   "interpreter": {
    "hash": "f15627b29e15848638e903c52dd09ae6c4c9adb1719aae45dda3850ec7954c19"
   }
  }
 },
 "nbformat": 4,
 "nbformat_minor": 2
}
