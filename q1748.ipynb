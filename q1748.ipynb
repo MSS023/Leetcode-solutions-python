{
 "cells": [
  {
   "cell_type": "code",
   "execution_count": null,
   "metadata": {},
   "outputs": [],
   "source": [
    "from collections import Counter\n",
    "\n",
    "class Solution:\n",
    "    def sumOfUnique(self, nums: List[int]) -> int:\n",
    "        dictionary=Counter(nums)\n",
    "        sum=0\n",
    "        for i in dictionary:\n",
    "            if dictionary[i]==1:\n",
    "                sum+=i\n",
    "        return sum"
   ]
  }
 ],
 "metadata": {
  "language_info": {
   "name": "python"
  },
  "orig_nbformat": 4
 },
 "nbformat": 4,
 "nbformat_minor": 2
}
