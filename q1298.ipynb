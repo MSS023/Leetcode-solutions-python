{
 "cells": [
  {
   "cell_type": "code",
   "execution_count": 3,
   "id": "b7cbcf94",
   "metadata": {},
   "outputs": [],
   "source": [
    "from typing import *"
   ]
  },
  {
   "cell_type": "code",
   "execution_count": null,
   "id": "9a7fcb10",
   "metadata": {},
   "outputs": [],
   "source": [
    "class Box:\n",
    "    def __init__(self, status: int, candies: int, keys: List[int], containedBoxes: List[int]):\n",
    "        self.status = status\n",
    "        self.candies = candies\n",
    "        self.keys = keys\n",
    "        self.containedBoxes = containedBoxes\n",
    "        self.visited = False\n",
    "        self.queued = False\n",
    "\n",
    "class Solution:\n",
    "    def maxCandies(self, status: List[int], candies: List[int], keys: List[List[int]], containedBoxes: List[List[int]], initialBoxes: List[int]) -> int:\n",
    "        n = len(candies)\n",
    "        boxes: List[Optional[Box]] = [None]*n\n",
    "        for idx in range(n):\n",
    "            boxes[idx] = Box(status[idx], candies[idx], keys[idx], containedBoxes[idx])\n",
    "        \n",
    "        queue = [ *initialBoxes]\n",
    "        for idx in initialBoxes:\n",
    "            boxes[idx].queued = True\n",
    "        count = 0\n",
    "        while queue:\n",
    "            box = boxes[queue.pop(0)]\n",
    "            if box.visited or box.status == 0:\n",
    "                continue\n",
    "\n",
    "            count += box.candies\n",
    "            \n",
    "            for boxId in box.containedBoxes:\n",
    "                queue.append(boxId)\n",
    "                boxes[boxId].queued = True\n",
    "            \n",
    "            for key in box.keys:\n",
    "                boxes[key].status = 1\n",
    "                if not boxes[key].visited and boxes[key].queued:\n",
    "                    queue.append(key)\n",
    "            \n",
    "            box.visited = True\n",
    "        return count"
   ]
  },
  {
   "cell_type": "code",
   "execution_count": 4,
   "id": "d45b923d",
   "metadata": {},
   "outputs": [],
   "source": [
    "class Solution:\n",
    "    def maxCandies(self, status: List[int], candies: List[int], keys: List[List[int]], containedBoxes: List[List[int]], initialBoxes: List[int]) -> int:\n",
    "        q = initialBoxes\n",
    "        mykeys = set()\n",
    "        ans = 0\n",
    "        prev = None\n",
    "        while ans != prev:\n",
    "            prev = ans\n",
    "            nextq = []\n",
    "            for curr in q:\n",
    "                if curr in mykeys or status[curr]:\n",
    "                    ans += candies[curr]\n",
    "                    mykeys.update(keys[curr])\n",
    "                    nextq.extend(containedBoxes[curr])\n",
    "                else:\n",
    "                    nextq.append(curr)\n",
    "            q = nextq\n",
    "        return ans"
   ]
  },
  {
   "cell_type": "code",
   "execution_count": 5,
   "id": "12603b7f",
   "metadata": {},
   "outputs": [
    {
     "name": "stdout",
     "output_type": "stream",
     "text": [
      "16\n"
     ]
    }
   ],
   "source": [
    "print(Solution().maxCandies(status = [1,0,1,0], candies = [7,5,4,100], keys = [[],[],[1],[]], containedBoxes = [[1,2],[3],[],[]], initialBoxes = [0]))"
   ]
  }
 ],
 "metadata": {
  "kernelspec": {
   "display_name": "Python 3",
   "language": "python",
   "name": "python3"
  },
  "language_info": {
   "codemirror_mode": {
    "name": "ipython",
    "version": 3
   },
   "file_extension": ".py",
   "mimetype": "text/x-python",
   "name": "python",
   "nbconvert_exporter": "python",
   "pygments_lexer": "ipython3",
   "version": "3.10.11"
  }
 },
 "nbformat": 4,
 "nbformat_minor": 5
}
