{
 "cells": [
  {
   "cell_type": "code",
   "execution_count": 19,
   "metadata": {},
   "outputs": [
    {
     "data": {
      "text/plain": [
       "-21"
      ]
     },
     "execution_count": 19,
     "metadata": {},
     "output_type": "execute_result"
    }
   ],
   "source": [
    "class Solution:\n",
    "    def reverse(self, x: int) -> int:\n",
    "        text=str(abs(x))\n",
    "        text=text[::-1]\n",
    "        if x<0:\n",
    "            text=\"-\"+text\n",
    "        if int(text)>=2**31 or int(text)<-2**31:\n",
    "            return 0\n",
    "        else:\n",
    "            return int(text)\n"
   ]
  },
  {
   "cell_type": "code",
   "execution_count": 30,
   "metadata": {},
   "outputs": [
    {
     "data": {
      "text/plain": [
       "-21"
      ]
     },
     "execution_count": 30,
     "metadata": {},
     "output_type": "execute_result"
    }
   ],
   "source": [
    "import math\n",
    "\n",
    "class Solution:\n",
    "    def reverse(self, x: int) -> int:\n",
    "        rev=0\n",
    "        if x>=0:\n",
    "            sign=1\n",
    "        else:\n",
    "            sign=-1\n",
    "        x=abs(x)\n",
    "        while x!=0:\n",
    "            rev=(rev*10+(x%10)*sign)\n",
    "            if rev>=2**31 or rev<-2**31:\n",
    "                return 0\n",
    "            x//=10\n",
    "        return rev\n",
    "\n",
    "sol=Solution()\n",
    "sol.reverse(-120)"
   ]
  },
  {
   "cell_type": "markdown",
   "metadata": {},
   "source": [
    "both above solutions have identical time usage and space usage"
   ]
  }
 ],
 "metadata": {
  "interpreter": {
   "hash": "84c7cd761066ce45b8a789f7b09f72a3209628e136df7af6e1c369b4f2245113"
  },
  "kernelspec": {
   "display_name": "Python 3.10.2 64-bit",
   "language": "python",
   "name": "python3"
  },
  "language_info": {
   "codemirror_mode": {
    "name": "ipython",
    "version": 3
   },
   "file_extension": ".py",
   "mimetype": "text/x-python",
   "name": "python",
   "nbconvert_exporter": "python",
   "pygments_lexer": "ipython3",
   "version": "3.10.2"
  },
  "orig_nbformat": 4
 },
 "nbformat": 4,
 "nbformat_minor": 2
}
