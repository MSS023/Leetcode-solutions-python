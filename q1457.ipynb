{
 "cells": [
  {
   "cell_type": "code",
   "execution_count": 1,
   "metadata": {},
   "outputs": [],
   "source": [
    "# Definition for a binary tree node.\n",
    "class TreeNode:\n",
    "    def __init__(self, val=0, left=None, right=None):\n",
    "        self.val = val\n",
    "        self.left = left\n",
    "        self.right = right"
   ]
  },
  {
   "cell_type": "code",
   "execution_count": 15,
   "metadata": {},
   "outputs": [],
   "source": [
    "from typing import *\n",
    "from collections import Counter\n",
    "\n",
    "class Solution:\n",
    "    def pseudoPalindromicPaths (self, root: Optional[TreeNode]) -> int:\n",
    "        if root is None:\n",
    "            return 0\n",
    "\n",
    "        def checkPalindrome(s: str) -> bool:\n",
    "            count = Counter(s)\n",
    "            o = 0\n",
    "            for i in count:\n",
    "                o += 1 if count[i] % 2 == 1 else 0\n",
    "            if o > 1:\n",
    "                return False\n",
    "            return True\n",
    "\n",
    "        def dfs(root: Optional[TreeNode]) -> int:\n",
    "            queue = [(root,\"\")]\n",
    "            count = 0\n",
    "            while queue:\n",
    "                node, str = queue.pop(0)\n",
    "                str += str(node.val)\n",
    "                if node.left is None and node.right is None: \n",
    "                    if checkPalindrome(str):\n",
    "                        count += 1\n",
    "                    continue\n",
    "                if node.left: queue.append((node.left, str))\n",
    "                if node.right: queue.append((node.right, str))\n",
    "            return count\n",
    "        \n",
    "        return dfs(root)"
   ]
  },
  {
   "cell_type": "code",
   "execution_count": 16,
   "metadata": {},
   "outputs": [
    {
     "data": {
      "text/plain": [
       "0"
      ]
     },
     "execution_count": 16,
     "metadata": {},
     "output_type": "execute_result"
    }
   ],
   "source": [
    "Solution().pseudoPalindromicPaths(None)"
   ]
  }
 ],
 "metadata": {
  "kernelspec": {
   "display_name": "Python 3.10.6 64-bit",
   "language": "python",
   "name": "python3"
  },
  "language_info": {
   "codemirror_mode": {
    "name": "ipython",
    "version": 3
   },
   "file_extension": ".py",
   "mimetype": "text/x-python",
   "name": "python",
   "nbconvert_exporter": "python",
   "pygments_lexer": "ipython3",
   "version": "3.10.6"
  },
  "orig_nbformat": 4,
  "vscode": {
   "interpreter": {
    "hash": "f15627b29e15848638e903c52dd09ae6c4c9adb1719aae45dda3850ec7954c19"
   }
  }
 },
 "nbformat": 4,
 "nbformat_minor": 2
}
