{
 "cells": [
  {
   "cell_type": "code",
   "execution_count": 25,
   "metadata": {},
   "outputs": [],
   "source": [
    "from typing import *"
   ]
  },
  {
   "cell_type": "markdown",
   "metadata": {},
   "source": [
    "# Faster approach"
   ]
  },
  {
   "cell_type": "code",
   "execution_count": null,
   "metadata": {},
   "outputs": [],
   "source": [
    "class Solution:\n",
    "    def uniquePathsIII(self, grid: List[List[int]]) -> int:\n",
    "        def traverse(grid: List[List[int]], r: int, c: int, target0: int, count0: int = 0) -> int:\n",
    "            if grid[r][c] == 2:\n",
    "                if count0 == target0:\n",
    "                    return 1\n",
    "                return 0\n",
    "            count = 0\n",
    "            n,m = len(grid), len(grid[0])\n",
    "            prev = grid[r][c]\n",
    "            grid[r][c] = 1\n",
    "            count0 += 1\n",
    "            if r > 0 and grid[r-1][c] in [0,2]:\n",
    "                count += traverse(grid, r-1, c, target0, count0)\n",
    "            if r < n-1 and grid[r+1][c] in [0,2]:\n",
    "                count += traverse(grid, r+1, c, target0, count0)\n",
    "            if c > 0 and grid[r][c-1] in [0,2]:\n",
    "                count += traverse(grid, r, c-1, target0, count0)\n",
    "            if c < m-1 and grid[r][c+1] in [0,2]:\n",
    "                count += traverse(grid, r, c+1, target0, count0)\n",
    "            grid[r][c] = prev\n",
    "            return count\n",
    "        count0 = 0\n",
    "        for r in range(len(grid)):\n",
    "            for c in range(len(grid[r])):\n",
    "                if grid[r][c] == 0:\n",
    "                    count0 += 1\n",
    "        for r in range(len(grid)):\n",
    "            for c in range(len(grid[r])):\n",
    "                if grid[r][c] == 1:\n",
    "                    grid[r][c] = 0\n",
    "                    return traverse(grid, r, c, count0+1)"
   ]
  },
  {
   "cell_type": "markdown",
   "metadata": {},
   "source": [
    "# Relatively Slower"
   ]
  },
  {
   "cell_type": "code",
   "execution_count": 50,
   "metadata": {},
   "outputs": [],
   "source": [
    "class Solution:\n",
    "    def __init__(self) -> None:\n",
    "        self.direction = {\"l\": \"00\", \"r\": \"01\", \"t\": \"10\", \"b\": \"11\"}\n",
    "        self.memo = {}\n",
    "\n",
    "    def uniquePathsIII(self, grid: List[List[int]]) -> int:\n",
    "        def traverse(\n",
    "            grid: List[List[int]],\n",
    "            r: int,\n",
    "            c: int,\n",
    "            target0: int,\n",
    "            count0: int = 0,\n",
    "            directions: str = \"\",\n",
    "        ) -> int:\n",
    "            if directions in self.memo:\n",
    "                return self.memo[directions]\n",
    "            if grid[r][c] == 2:\n",
    "                if count0 == target0:\n",
    "                    return 1\n",
    "                return 0\n",
    "            count = 0\n",
    "            n, m = len(grid), len(grid[0])\n",
    "            prev = grid[r][c]\n",
    "            grid[r][c] = 1\n",
    "            count0 += 1\n",
    "            if r > 0 and grid[r - 1][c] in [0, 2]:\n",
    "                count += traverse(grid, r - 1, c, target0, count0, directions+self.direction['t'])\n",
    "            if r < n - 1 and grid[r + 1][c] in [0, 2]:\n",
    "                count += traverse(grid, r + 1, c, target0, count0, directions+self.direction['b'])\n",
    "            if c > 0 and grid[r][c - 1] in [0, 2]:\n",
    "                count += traverse(grid, r, c - 1, target0, count0, directions+self.direction['l'])\n",
    "            if c < m - 1 and grid[r][c + 1] in [0, 2]:\n",
    "                count += traverse(grid, r, c + 1, target0, count0, directions+self.direction['r'])\n",
    "            grid[r][c] = prev\n",
    "            self.memo[directions] = count\n",
    "            return count\n",
    "\n",
    "        count0 = 0\n",
    "        for r in range(len(grid)):\n",
    "            for c in range(len(grid[r])):\n",
    "                if grid[r][c] == 0:\n",
    "                    count0 += 1\n",
    "        for r in range(len(grid)):\n",
    "            for c in range(len(grid[r])):\n",
    "                if grid[r][c] == 1:\n",
    "                    grid[r][c] = 0\n",
    "                    return traverse(grid, r, c, count0 + 1)"
   ]
  },
  {
   "cell_type": "code",
   "execution_count": 51,
   "metadata": {},
   "outputs": [
    {
     "data": {
      "text/plain": [
       "2"
      ]
     },
     "execution_count": 51,
     "metadata": {},
     "output_type": "execute_result"
    }
   ],
   "source": [
    "Solution().uniquePathsIII(grid=[[1, 0, 0, 0], [0, 0, 0, 0], [0, 0, 2, -1]])"
   ]
  }
 ],
 "metadata": {
  "kernelspec": {
   "display_name": "Python 3",
   "language": "python",
   "name": "python3"
  },
  "language_info": {
   "codemirror_mode": {
    "name": "ipython",
    "version": 3
   },
   "file_extension": ".py",
   "mimetype": "text/x-python",
   "name": "python",
   "nbconvert_exporter": "python",
   "pygments_lexer": "ipython3",
   "version": "3.11.5"
  },
  "orig_nbformat": 4
 },
 "nbformat": 4,
 "nbformat_minor": 2
}
