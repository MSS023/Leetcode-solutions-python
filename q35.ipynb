{
 "cells": [
  {
   "cell_type": "code",
   "execution_count": null,
   "metadata": {},
   "outputs": [],
   "source": [
    "class Solution(object):\n",
    "    def combinationSum(self, candidates, target):\n",
    "        \"\"\"\n",
    "        :type candidates: List[int]\n",
    "        :type target: int\n",
    "        :rtype: List[List[int]]\n",
    "        \"\"\"\n",
    "        candidates.sort()\n",
    "        return self.mainCode(candidates,target,[],[],0,0)\n",
    "        \n",
    "    def mainCode(self,candidates,target,mat,arr,sum,index):\n",
    "        if sum==target:\n",
    "            mat.append(arr.copy())\n",
    "            return mat\n",
    "        for i in range(index,len(candidates)):\n",
    "            if sum+candidates[i]>target:\n",
    "                return mat\n",
    "            arr.append(candidates[i])\n",
    "            mat=self.mainCode(candidates,target,mat,arr,sum+candidates[i],i)\n",
    "            arr.pop()\n",
    "        return mat\n",
    "\n",
    "        \n",
    "sol=Solution()\n",
    "print(sol.combinationSum([2,3,5],8))"
   ]
  }
 ],
 "metadata": {
  "language_info": {
   "name": "python"
  },
  "orig_nbformat": 4
 },
 "nbformat": 4,
 "nbformat_minor": 2
}
