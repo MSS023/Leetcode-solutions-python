{
 "cells": [
  {
   "cell_type": "code",
   "execution_count": 16,
   "metadata": {},
   "outputs": [
    {
     "data": {
      "text/plain": [
       "[1, 9]"
      ]
     },
     "execution_count": 16,
     "metadata": {},
     "output_type": "execute_result"
    }
   ],
   "source": [
    "class Solution:\n",
    "    def partitionLabels(self, s: str) -> list[int]:\n",
    "        res=[]\n",
    "        dictionary={}\n",
    "        for index in range(len(s)-1,-1,-1):\n",
    "            if s[index] not in dictionary:\n",
    "                dictionary[s[index]]=index\n",
    "        start=0\n",
    "        while start<len(s):\n",
    "            end=start+1\n",
    "            temp=start\n",
    "            while temp<end:\n",
    "                if dictionary[s[temp]]>=end:\n",
    "                    end=dictionary[s[temp]]+1\n",
    "                temp+=1\n",
    "            if start>end-1:\n",
    "                break\n",
    "            res.append(end-start)\n",
    "            start=end\n",
    "        return res\n",
    "        \n",
    "sol=Solution()\n",
    "sol.partitionLabels(\"caedbdedda\")"
   ]
  }
 ],
 "metadata": {
  "interpreter": {
   "hash": "84c7cd761066ce45b8a789f7b09f72a3209628e136df7af6e1c369b4f2245113"
  },
  "kernelspec": {
   "display_name": "Python 3.10.2 64-bit",
   "language": "python",
   "name": "python3"
  },
  "language_info": {
   "codemirror_mode": {
    "name": "ipython",
    "version": 3
   },
   "file_extension": ".py",
   "mimetype": "text/x-python",
   "name": "python",
   "nbconvert_exporter": "python",
   "pygments_lexer": "ipython3",
   "version": "3.10.2"
  },
  "orig_nbformat": 4
 },
 "nbformat": 4,
 "nbformat_minor": 2
}
