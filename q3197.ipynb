{
 "cells": [
  {
   "cell_type": "code",
   "execution_count": 1,
   "id": "90469e89",
   "metadata": {},
   "outputs": [],
   "source": [
    "from typing import *"
   ]
  },
  {
   "cell_type": "code",
   "execution_count": 2,
   "id": "7773dd4a",
   "metadata": {},
   "outputs": [],
   "source": [
    "class Solution:\n",
    "    def minimumSum2(\n",
    "        self, grid: List[List[int]], u: int, d: int, l: int, r: int\n",
    "    ) -> int:\n",
    "        min_i = len(grid)\n",
    "        max_i = 0\n",
    "        min_j = len(grid[0])\n",
    "        max_j = 0\n",
    "\n",
    "        for i in range(u, d + 1):\n",
    "            for j in range(l, r + 1):\n",
    "                if grid[i][j] == 1:\n",
    "                    min_i = min(min_i, i)\n",
    "                    min_j = min(min_j, j)\n",
    "                    max_i = max(max_i, i)\n",
    "                    max_j = max(max_j, j)\n",
    "\n",
    "        return (\n",
    "            (max_i - min_i + 1) * (max_j - min_j + 1)\n",
    "            if min_i <= max_i\n",
    "            else sys.maxsize // 3\n",
    "        )\n",
    "\n",
    "    def rotate(self, vec: List[List[int]]) -> List[List[int]]:\n",
    "        n = len(vec)\n",
    "        m = len(vec[0]) if n > 0 else 0\n",
    "        ret = [[0] * n for _ in range(m)]\n",
    "\n",
    "        for i in range(n):\n",
    "            for j in range(m):\n",
    "                ret[m - j - 1][i] = vec[i][j]\n",
    "\n",
    "        return ret\n",
    "\n",
    "    def solve(self, grid: List[List[int]]) -> int:\n",
    "        n = len(grid)\n",
    "        m = len(grid[0]) if n > 0 else 0\n",
    "        res = n * m\n",
    "\n",
    "        for i in range(n - 1):\n",
    "            for j in range(m - 1):\n",
    "                res = min(\n",
    "                    res,\n",
    "                    self.minimumSum2(grid, 0, i, 0, m - 1)\n",
    "                    + self.minimumSum2(grid, i + 1, n - 1, 0, j)\n",
    "                    + self.minimumSum2(grid, i + 1, n - 1, j + 1, m - 1),\n",
    "                )\n",
    "\n",
    "                res = min(\n",
    "                    res,\n",
    "                    self.minimumSum2(grid, 0, i, 0, j)\n",
    "                    + self.minimumSum2(grid, 0, i, j + 1, m - 1)\n",
    "                    + self.minimumSum2(grid, i + 1, n - 1, 0, m - 1),\n",
    "                )\n",
    "\n",
    "        for i in range(n - 2):\n",
    "            for j in range(i + 1, n - 1):\n",
    "                res = min(\n",
    "                    res,\n",
    "                    self.minimumSum2(grid, 0, i, 0, m - 1)\n",
    "                    + self.minimumSum2(grid, i + 1, j, 0, m - 1)\n",
    "                    + self.minimumSum2(grid, j + 1, n - 1, 0, m - 1),\n",
    "                )\n",
    "\n",
    "        return res\n",
    "\n",
    "    def minimumSum(self, grid: List[List[int]]) -> int:\n",
    "        rgrid = self.rotate(grid)\n",
    "        return min(self.solve(grid), self.solve(rgrid))"
   ]
  },
  {
   "cell_type": "code",
   "execution_count": 3,
   "id": "b2d666da",
   "metadata": {},
   "outputs": [
    {
     "name": "stdout",
     "output_type": "stream",
     "text": [
      "5\n"
     ]
    }
   ],
   "source": [
    "print(Solution().minimumSum([[1,0,1],[1,1,1]]))"
   ]
  }
 ],
 "metadata": {
  "kernelspec": {
   "display_name": "Python 3",
   "language": "python",
   "name": "python3"
  },
  "language_info": {
   "codemirror_mode": {
    "name": "ipython",
    "version": 3
   },
   "file_extension": ".py",
   "mimetype": "text/x-python",
   "name": "python",
   "nbconvert_exporter": "python",
   "pygments_lexer": "ipython3",
   "version": "3.10.11"
  }
 },
 "nbformat": 4,
 "nbformat_minor": 5
}
