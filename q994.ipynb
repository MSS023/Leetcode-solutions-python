{
 "cells": [
  {
   "cell_type": "code",
   "execution_count": 77,
   "metadata": {},
   "outputs": [],
   "source": [
    "from typing import *\n",
    "\n",
    "class Solution:\n",
    "    def orangesRotting(self, grid: List[List[int]]) -> int:\n",
    "        m, n = len(grid), len(grid[0])\n",
    "        rotten = []\n",
    "        fresh = 0\n",
    "\n",
    "        mat = [[float(\"inf\")]*n for _ in range(m)]\n",
    "\n",
    "        for i in range(m):\n",
    "            for j in range(n):\n",
    "                if grid[i][j] == 2:\n",
    "                    mat[i][j] = 1\n",
    "                    rotten.append((i,j))\n",
    "                if grid[i][j] == 1:\n",
    "                    fresh += 1\n",
    "                else:\n",
    "                    mat[i][j] = 0\n",
    "        \n",
    "        if fresh == 0:\n",
    "            return 0\n",
    "\n",
    "        if len(rotten) == 0:\n",
    "            return -1\n",
    "\n",
    "        for a,b in rotten:\n",
    "            passed = []\n",
    "            queue = []\n",
    "            count = 1\n",
    "            if a > 0 and grid[a-1][b] == 1:\n",
    "                queue.append((a-1, b, count))\n",
    "            if b > 0 and grid[a][b-1] == 1:\n",
    "                queue.append((a, b-1, count))\n",
    "            if a < m-1 and grid[a+1][b] == 1:\n",
    "                queue.append((a+1, b, count))\n",
    "            if b < n-1 and grid[a][b+1] == 1:\n",
    "                queue.append((a, b+1, count))\n",
    "            while queue:\n",
    "                x, y, count = queue.pop(0)\n",
    "                mat[x][y] = min(mat[x][y], count)\n",
    "                count = mat[x][y]\n",
    "                if (x,y) in passed:\n",
    "                    continue\n",
    "                passed.append((x,y))\n",
    "                if x > 0 and grid[x-1][y] == 1:\n",
    "                    queue.append((x-1, y, count+1))\n",
    "                if y > 0 and grid[x][y-1] == 1:\n",
    "                    queue.append((x, y-1, count+1))\n",
    "                if x < m-1 and grid[x+1][y] == 1:\n",
    "                    queue.append((x+1, y, count+1))\n",
    "                if y < n-1 and grid[x][y+1] == 1:\n",
    "                    queue.append((x, y+1, count+1))\n",
    "        maxm = 0\n",
    "        for x in range(m):\n",
    "            for y in range(n):\n",
    "                if mat[x][y] == float(\"inf\"):\n",
    "                    return -1\n",
    "                maxm = max(maxm, mat[x][y])\n",
    "        return maxm"
   ]
  },
  {
   "cell_type": "code",
   "execution_count": 78,
   "metadata": {},
   "outputs": [
    {
     "data": {
      "text/plain": [
       "1"
      ]
     },
     "execution_count": 78,
     "metadata": {},
     "output_type": "execute_result"
    }
   ],
   "source": [
    "Solution().orangesRotting([[1,2]])"
   ]
  }
 ],
 "metadata": {
  "kernelspec": {
   "display_name": "Python 3.10.6 64-bit",
   "language": "python",
   "name": "python3"
  },
  "language_info": {
   "codemirror_mode": {
    "name": "ipython",
    "version": 3
   },
   "file_extension": ".py",
   "mimetype": "text/x-python",
   "name": "python",
   "nbconvert_exporter": "python",
   "pygments_lexer": "ipython3",
   "version": "3.10.6"
  },
  "orig_nbformat": 4,
  "vscode": {
   "interpreter": {
    "hash": "f15627b29e15848638e903c52dd09ae6c4c9adb1719aae45dda3850ec7954c19"
   }
  }
 },
 "nbformat": 4,
 "nbformat_minor": 2
}
