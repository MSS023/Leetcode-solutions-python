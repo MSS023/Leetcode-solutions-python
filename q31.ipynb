{
 "cells": [
  {
   "cell_type": "code",
   "execution_count": 3,
   "metadata": {},
   "outputs": [
    {
     "name": "stdout",
     "output_type": "stream",
     "text": [
      "[5, 1, 1]\n"
     ]
    }
   ],
   "source": [
    "class Solution:\n",
    "    def nextPermutation(self, nums: list[int]) -> None:\n",
    "        index=len(nums)-1\n",
    "        flag=False\n",
    "        while index>0:\n",
    "            if nums[index]>nums[index-1]:\n",
    "                flag=True\n",
    "                index-=1\n",
    "                break\n",
    "            index-=1\n",
    "        if not flag:\n",
    "            nums.sort()\n",
    "            return\n",
    "        min=index+1\n",
    "        for i in range(index+2,len(nums)):\n",
    "            if nums[i]<nums[min] and nums[i]>nums[index]:\n",
    "                min=i\n",
    "        nums[min],nums[index]=nums[index],nums[min]\n",
    "        temp=sorted(nums[index+1:])\n",
    "        for key,i in enumerate(temp,index+1):\n",
    "            nums[key]=i\n",
    "                \n",
    "    \n",
    "sol=Solution()\n",
    "num=[int(x) for x in input().split()]\n",
    "sol.nextPermutation(num)\n",
    "print(num)"
   ]
  }
 ],
 "metadata": {
  "interpreter": {
   "hash": "84c7cd761066ce45b8a789f7b09f72a3209628e136df7af6e1c369b4f2245113"
  },
  "kernelspec": {
   "display_name": "Python 3.10.2 64-bit",
   "language": "python",
   "name": "python3"
  },
  "language_info": {
   "codemirror_mode": {
    "name": "ipython",
    "version": 3
   },
   "file_extension": ".py",
   "mimetype": "text/x-python",
   "name": "python",
   "nbconvert_exporter": "python",
   "pygments_lexer": "ipython3",
   "version": "3.10.2"
  },
  "orig_nbformat": 4
 },
 "nbformat": 4,
 "nbformat_minor": 2
}
