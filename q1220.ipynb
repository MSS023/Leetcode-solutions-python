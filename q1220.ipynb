{
 "cells": [
  {
   "cell_type": "code",
   "execution_count": null,
   "metadata": {},
   "outputs": [],
   "source": [
    "class Solution:\n",
    "    def countVowelPermutation(self, n: int) -> int:\n",
    "        memo = {}\n",
    "        MOD = 7+10**9\n",
    "        vowelMap = {\"\":\"aeiou\",\"a\":\"e\",\"e\":\"ai\",\"i\":\"aeou\",\"o\":\"iu\",\"u\":\"a\"}\n",
    "        def recursive(ch,count):\n",
    "            sum = 0\n",
    "            if count == n:\n",
    "                return 1\n",
    "            if (ch,count) in memo:\n",
    "                return memo[(ch,count)]\n",
    "            for i in vowelMap[ch]:\n",
    "                sum = (sum + recursive(i,count + 1))%MOD\n",
    "            memo[(ch,count)] = sum\n",
    "            return sum\n",
    "        return recursive(\"\",0)"
   ]
  }
 ],
 "metadata": {
  "language_info": {
   "name": "python"
  },
  "orig_nbformat": 4
 },
 "nbformat": 4,
 "nbformat_minor": 2
}
