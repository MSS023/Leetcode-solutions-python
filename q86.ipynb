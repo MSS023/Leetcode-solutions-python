{
 "cells": [
  {
   "cell_type": "code",
   "execution_count": 4,
   "metadata": {},
   "outputs": [],
   "source": [
    "# Definition for singly-linked list.\n",
    "class ListNode:\n",
    "    def __init__(self, val=0, next=None):\n",
    "        self.val = val\n",
    "        self.next = next"
   ]
  },
  {
   "cell_type": "code",
   "execution_count": 5,
   "metadata": {},
   "outputs": [],
   "source": [
    "class Solution:\n",
    "    def partition(self, head: ListNode, x: int) -> ListNode:\n",
    "        arr = []\n",
    "        while head:\n",
    "            arr.append(head)\n",
    "            head = head.next\n",
    "        arr.sort(key = lambda num: 0 if num.val < x else 1)\n",
    "        for idx,num in enumerate(arr):\n",
    "            if idx == len(arr)-1:\n",
    "                num.next = None\n",
    "                continue\n",
    "            num.next = arr[idx+1]\n",
    "        if arr:\n",
    "            return arr[0]   \n",
    "        return None"
   ]
  },
  {
   "cell_type": "code",
   "execution_count": 7,
   "metadata": {},
   "outputs": [],
   "source": [
    "def makeLL(arr: list[int]) -> ListNode:\n",
    "    head = None\n",
    "    for i in arr:\n",
    "        if head is None:\n",
    "            head = ListNode(i)\n",
    "            temp = head\n",
    "            continue\n",
    "        temp.next = ListNode(i)\n",
    "        temp = temp.next\n",
    "    return head\n",
    "\n",
    "def traverse(head: ListNode) -> None:\n",
    "    while head:\n",
    "        print(head.val)\n",
    "        head = head.next"
   ]
  },
  {
   "cell_type": "code",
   "execution_count": 8,
   "metadata": {},
   "outputs": [
    {
     "name": "stdout",
     "output_type": "stream",
     "text": [
      "1\n",
      "2\n",
      "2\n",
      "4\n",
      "3\n",
      "5\n"
     ]
    }
   ],
   "source": [
    "traverse(Solution().partition(makeLL([1,4,3,2,5,2]),3))"
   ]
  }
 ],
 "metadata": {
  "kernelspec": {
   "display_name": "Python 3.10.5 64-bit",
   "language": "python",
   "name": "python3"
  },
  "language_info": {
   "codemirror_mode": {
    "name": "ipython",
    "version": 3
   },
   "file_extension": ".py",
   "mimetype": "text/x-python",
   "name": "python",
   "nbconvert_exporter": "python",
   "pygments_lexer": "ipython3",
   "version": "3.10.5"
  },
  "orig_nbformat": 4,
  "vscode": {
   "interpreter": {
    "hash": "f15627b29e15848638e903c52dd09ae6c4c9adb1719aae45dda3850ec7954c19"
   }
  }
 },
 "nbformat": 4,
 "nbformat_minor": 2
}
