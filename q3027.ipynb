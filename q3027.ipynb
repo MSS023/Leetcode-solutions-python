{
 "cells": [
  {
   "cell_type": "code",
   "execution_count": 5,
   "id": "6ea38100",
   "metadata": {},
   "outputs": [],
   "source": [
    "from typing import *"
   ]
  },
  {
   "cell_type": "code",
   "execution_count": 6,
   "id": "8c1ff477",
   "metadata": {},
   "outputs": [],
   "source": [
    "class Solution:\n",
    "    def checkPositions(self, pt1: List[int], pt2: List[int]) -> bool:\n",
    "        if pt1[0] <= pt2[0] and pt1[1] >= pt2[1]:\n",
    "            return True\n",
    "        return False\n",
    "    \n",
    "    def checkInRectangle(self, tl: List[int], br: List[int], y: int) -> bool:\n",
    "        if y >= br[1] and y <= tl[1]:\n",
    "            return True\n",
    "        return False\n",
    "\n",
    "    def numberOfPairs(self, points: List[List[int]]) -> int:\n",
    "        points.sort(key=lambda x: (x[0], -x[1]))\n",
    "        n = len(points)\n",
    "        count = 0\n",
    "        for idx in range(n):\n",
    "            pt1 = points[idx]\n",
    "            maxmY, minmY = float(\"-inf\"), float(\"inf\")\n",
    "            for idx2 in range(idx+1, n):\n",
    "                pt2 = points[idx2]\n",
    "                if (not self.checkPositions(pt1, pt2)):\n",
    "                    continue\n",
    "                if self.checkInRectangle(pt1, pt2, maxmY) or self.checkInRectangle(pt1, pt2, minmY):\n",
    "                    maxmY, minmY = max(maxmY, pt2[1]), min(minmY, pt2[1])\n",
    "                    continue\n",
    "                count += 1\n",
    "                maxmY, minmY = max(maxmY, pt2[1]), min(minmY, pt2[1])\n",
    "\n",
    "        return count\n"
   ]
  },
  {
   "cell_type": "code",
   "execution_count": null,
   "id": "4f7cd01d",
   "metadata": {},
   "outputs": [
    {
     "name": "stdout",
     "output_type": "stream",
     "text": [
      "1\n"
     ]
    }
   ],
   "source": [
    "print(Solution().numberOfPairs([[1,1],[2,2],[3,3]]))\n",
    "print(Solution().numberOfPairs([[6,2],[4,4],[2,6]]))\n",
    "print(Solution().numberOfPairs([[3,1],[1,3],[1,1]]))\n",
    "print(Solution().numberOfPairs([[1,1],[2,-1000000000]]))"
   ]
  }
 ],
 "metadata": {
  "kernelspec": {
   "display_name": "Python 3",
   "language": "python",
   "name": "python3"
  },
  "language_info": {
   "codemirror_mode": {
    "name": "ipython",
    "version": 3
   },
   "file_extension": ".py",
   "mimetype": "text/x-python",
   "name": "python",
   "nbconvert_exporter": "python",
   "pygments_lexer": "ipython3",
   "version": "3.10.11"
  }
 },
 "nbformat": 4,
 "nbformat_minor": 5
}
