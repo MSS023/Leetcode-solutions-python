{
 "cells": [
  {
   "cell_type": "markdown",
   "metadata": {},
   "source": [
    "TLE(Worked for 78/79 test cases)"
   ]
  },
  {
   "cell_type": "code",
   "execution_count": 38,
   "metadata": {},
   "outputs": [],
   "source": [
    "class Solution:\n",
    "    def longestStrChain(self, words: list[str]) -> int:\n",
    "        words.sort(key=lambda x: len(x))\n",
    "        n = len(words)\n",
    "        dp = {i: [] for i in range(len(words))}\n",
    "\n",
    "        def checkIsPart(word1: str, word2: str) -> bool:\n",
    "            if len(word1)==len(word2):\n",
    "                return False\n",
    "            count = 0\n",
    "            i = 0\n",
    "            j = 0\n",
    "            while i < len(word1) and j < len(word2):\n",
    "                if word1[i] == word2[j]:\n",
    "                    i += 1\n",
    "                    j += 1\n",
    "                    continue\n",
    "                count += 1\n",
    "                i += 1\n",
    "                if count > 1:\n",
    "                    return False\n",
    "            return True\n",
    "\n",
    "        for i in range(1, n):\n",
    "            for j in range(i-1, -1, -1):\n",
    "                if len(words[j]) < len(words[i])-1:\n",
    "                    break\n",
    "                if checkIsPart(words[i], words[j]):\n",
    "                    dp[i].append(j)\n",
    "\n",
    "        visited = {i:False for i in range(n)}\n",
    "        maxm = 0\n",
    "        for i in range(n-1,-1,-1):\n",
    "            if visited[i]:\n",
    "                continue\n",
    "            stack = [(i,1)]\n",
    "            while stack:\n",
    "                num,count = stack.pop(0)\n",
    "                visited[num] = True\n",
    "                for j in dp[num]:\n",
    "                    stack.append((j,count+1))\n",
    "                maxm = max(count,maxm)\n",
    "        return maxm                "
   ]
  },
  {
   "cell_type": "markdown",
   "metadata": {},
   "source": [
    "New Approach using memo"
   ]
  },
  {
   "cell_type": "code",
   "execution_count": 45,
   "metadata": {},
   "outputs": [],
   "source": [
    "class Solution:\n",
    "    def longestStrChain(self, words: list[str]) -> int:\n",
    "        words.sort(key=lambda x: len(x))\n",
    "        n = len(words)\n",
    "        dp = {i: [] for i in range(n)}\n",
    "        memo = {i: 1 for i in range(n)}\n",
    "\n",
    "        def checkIsPart(word1: str, word2: str) -> bool:\n",
    "            if len(word1)==len(word2):\n",
    "                return False\n",
    "            count = 0\n",
    "            i = 0\n",
    "            j = 0\n",
    "            while i < len(word1) and j < len(word2):\n",
    "                if word1[i] == word2[j]:\n",
    "                    i += 1\n",
    "                    j += 1\n",
    "                    continue\n",
    "                count += 1\n",
    "                i += 1\n",
    "                if count > 1:\n",
    "                    return False\n",
    "            return True\n",
    "\n",
    "        maxm = 1\n",
    "        for i in range(1, n):\n",
    "            for j in range(i-1, -1, -1):\n",
    "                if len(words[j]) < len(words[i])-1:\n",
    "                    break\n",
    "                if checkIsPart(words[i], words[j]):\n",
    "                    dp[i].append(j)\n",
    "                    memo[i] = max(memo[i],memo[j]+1)\n",
    "                    maxm = max(memo[i],maxm)\n",
    "        return maxm                "
   ]
  },
  {
   "cell_type": "code",
   "execution_count": 46,
   "metadata": {},
   "outputs": [
    {
     "data": {
      "text/plain": [
       "4"
      ]
     },
     "execution_count": 46,
     "metadata": {},
     "output_type": "execute_result"
    }
   ],
   "source": [
    "Solution().longestStrChain([\"a\",\"b\",\"ba\",\"bca\",\"bda\",\"bdca\"])"
   ]
  }
 ],
 "metadata": {
  "kernelspec": {
   "display_name": "Python 3.10.2 64-bit",
   "language": "python",
   "name": "python3"
  },
  "language_info": {
   "codemirror_mode": {
    "name": "ipython",
    "version": 3
   },
   "file_extension": ".py",
   "mimetype": "text/x-python",
   "name": "python",
   "nbconvert_exporter": "python",
   "pygments_lexer": "ipython3",
   "version": "3.10.2"
  },
  "orig_nbformat": 4,
  "vscode": {
   "interpreter": {
    "hash": "7fa5c2bbde354df5fb32f89863fd9628b3718657b842099e0733f1c707419bc4"
   }
  }
 },
 "nbformat": 4,
 "nbformat_minor": 2
}
