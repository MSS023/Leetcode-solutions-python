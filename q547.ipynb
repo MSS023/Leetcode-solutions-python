{
 "cells": [
  {
   "cell_type": "code",
   "execution_count": 23,
   "metadata": {},
   "outputs": [],
   "source": [
    "class Solution:\n",
    "    def findCircleNum(self, isConnected: list[list[int]]) -> int:\n",
    "        def traverseDFS(graph: list[list[int]], city: int, visited: list[int]) -> None:\n",
    "            stack: list[int] = [city]\n",
    "            while len(stack)>0:\n",
    "                city2: int = stack.pop()\n",
    "                visited.append(city2)\n",
    "                for i, edge in enumerate(graph[city2]):\n",
    "                    if edge == 0 or i == city2 or i in visited:\n",
    "                        continue\n",
    "                    stack.append(i)\n",
    "        visited: list[int] = []\n",
    "        n: int = len(isConnected)\n",
    "        count: int = 0\n",
    "        for i in range(n):\n",
    "            if i in visited:\n",
    "                continue\n",
    "            traverseDFS(isConnected, i, visited)\n",
    "            count += 1\n",
    "        return count"
   ]
  },
  {
   "cell_type": "code",
   "execution_count": 24,
   "metadata": {},
   "outputs": [
    {
     "data": {
      "text/plain": [
       "3"
      ]
     },
     "execution_count": 24,
     "metadata": {},
     "output_type": "execute_result"
    }
   ],
   "source": [
    "Solution().findCircleNum([[1,0,0],[0,1,0],[0,0,1]])"
   ]
  }
 ],
 "metadata": {
  "interpreter": {
   "hash": "7fa5c2bbde354df5fb32f89863fd9628b3718657b842099e0733f1c707419bc4"
  },
  "kernelspec": {
   "display_name": "Python 3.10.2 64-bit",
   "language": "python",
   "name": "python3"
  },
  "language_info": {
   "codemirror_mode": {
    "name": "ipython",
    "version": 3
   },
   "file_extension": ".py",
   "mimetype": "text/x-python",
   "name": "python",
   "nbconvert_exporter": "python",
   "pygments_lexer": "ipython3",
   "version": "3.10.2"
  },
  "orig_nbformat": 4
 },
 "nbformat": 4,
 "nbformat_minor": 2
}
