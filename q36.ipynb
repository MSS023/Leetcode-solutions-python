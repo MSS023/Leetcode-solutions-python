{
 "cells": [
  {
   "cell_type": "code",
   "execution_count": 1,
   "metadata": {},
   "outputs": [],
   "source": [
    "from typing import *"
   ]
  },
  {
   "cell_type": "code",
   "execution_count": 28,
   "metadata": {},
   "outputs": [],
   "source": [
    "class Solution:\n",
    "    def isValidSudoku(self, board: List[List[str]]) -> bool:\n",
    "        def checkNumValid(board, r, c):\n",
    "            num = board[r][c]\n",
    "            board[r][c] = '.'\n",
    "            rBase = r//3\n",
    "            cBase = c//3\n",
    "            if num in board[r]:\n",
    "                return False\n",
    "            if num in [x[c] for x in board]:\n",
    "                return False\n",
    "            for rOffset in range(3):\n",
    "                for cOffset in range(3):\n",
    "                    if board[rBase*3+rOffset][cBase*3+cOffset] == num:\n",
    "                        board[r][c] = num\n",
    "                        return False\n",
    "            board[r][c] = num\n",
    "            return True\n",
    "        \n",
    "        def solve(board):\n",
    "            for r in range(9):\n",
    "                for c in range(9):\n",
    "                    if board[r][c] == '.':\n",
    "                        continue\n",
    "                    if checkNumValid(board,r,c):\n",
    "                        continue\n",
    "                    return False\n",
    "            return True\n",
    "        return solve(board)"
   ]
  },
  {
   "cell_type": "code",
   "execution_count": 26,
   "metadata": {},
   "outputs": [],
   "source": [
    "def boardPrinter(board: List[List[int]]) -> None:\n",
    "    for row in board:\n",
    "        print(*row)"
   ]
  },
  {
   "cell_type": "code",
   "execution_count": 29,
   "metadata": {},
   "outputs": [
    {
     "data": {
      "text/plain": [
       "True"
      ]
     },
     "execution_count": 29,
     "metadata": {},
     "output_type": "execute_result"
    }
   ],
   "source": [
    "board = [[\".\",\"8\",\"7\",\"6\",\"5\",\"4\",\"3\",\"2\",\"1\"],[\"2\",\".\",\".\",\".\",\".\",\".\",\".\",\".\",\".\"],[\"3\",\".\",\".\",\".\",\".\",\".\",\".\",\".\",\".\"],[\"4\",\".\",\".\",\".\",\".\",\".\",\".\",\".\",\".\"],[\"5\",\".\",\".\",\".\",\".\",\".\",\".\",\".\",\".\"],[\"6\",\".\",\".\",\".\",\".\",\".\",\".\",\".\",\".\"],[\"7\",\".\",\".\",\".\",\".\",\".\",\".\",\".\",\".\"],[\"8\",\".\",\".\",\".\",\".\",\".\",\".\",\".\",\".\"],[\"9\",\".\",\".\",\".\",\".\",\".\",\".\",\".\",\".\"]]\n",
    "Solution().isValidSudoku(board)"
   ]
  }
 ],
 "metadata": {
  "kernelspec": {
   "display_name": "Python 3",
   "language": "python",
   "name": "python3"
  },
  "language_info": {
   "codemirror_mode": {
    "name": "ipython",
    "version": 3
   },
   "file_extension": ".py",
   "mimetype": "text/x-python",
   "name": "python",
   "nbconvert_exporter": "python",
   "pygments_lexer": "ipython3",
   "version": "3.11.5"
  },
  "orig_nbformat": 4
 },
 "nbformat": 4,
 "nbformat_minor": 2
}
