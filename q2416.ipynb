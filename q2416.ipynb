{
 "cells": [
  {
   "cell_type": "code",
   "execution_count": 1,
   "metadata": {},
   "outputs": [],
   "source": [
    "from typing import *\n",
    "\n",
    "class Solution:\n",
    "    def sumPrefixScores(self, words: List[str]) -> List[int]:\n",
    "        diction = {}\n",
    "        for word in words:\n",
    "            prev = \"\"\n",
    "            for i in range(len(word)):\n",
    "                prev += word[i]\n",
    "                if prev in diction:\n",
    "                    diction[prev] += 1\n",
    "                else:\n",
    "                    diction[prev] = 1\n",
    "        res = []\n",
    "        for word in words:\n",
    "            count = 0\n",
    "            prev = \"\"\n",
    "            for i in range(len(word)):\n",
    "                prev += word[i]\n",
    "                count += diction[prev]\n",
    "            res.append(count)\n",
    "        return res"
   ]
  }
 ],
 "metadata": {
  "kernelspec": {
   "display_name": "Python 3.10.6 64-bit",
   "language": "python",
   "name": "python3"
  },
  "language_info": {
   "codemirror_mode": {
    "name": "ipython",
    "version": 3
   },
   "file_extension": ".py",
   "mimetype": "text/x-python",
   "name": "python",
   "nbconvert_exporter": "python",
   "pygments_lexer": "ipython3",
   "version": "3.10.6"
  },
  "orig_nbformat": 4,
  "vscode": {
   "interpreter": {
    "hash": "f15627b29e15848638e903c52dd09ae6c4c9adb1719aae45dda3850ec7954c19"
   }
  }
 },
 "nbformat": 4,
 "nbformat_minor": 2
}
