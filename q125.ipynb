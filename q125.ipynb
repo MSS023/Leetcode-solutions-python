{
 "cells": [
  {
   "cell_type": "code",
   "execution_count": 1,
   "id": "0f9efdf2",
   "metadata": {},
   "outputs": [],
   "source": [
    "from typing import *"
   ]
  },
  {
   "cell_type": "code",
   "execution_count": 23,
   "id": "6e5926ab",
   "metadata": {},
   "outputs": [],
   "source": [
    "class Solution:\n",
    "    def isPalindrome(self, s: str) -> bool:\n",
    "        ls = s.lower()\n",
    "        newS = \"\"\n",
    "        azRange = range(ord(\"a\"), ord(\"z\")+1)\n",
    "        numRange = range(ord(\"0\"), ord(\"9\")+1)\n",
    "        for ch in ls:\n",
    "            if ord(ch) not in azRange and ord(ch) not in numRange:\n",
    "                continue\n",
    "            newS += ch\n",
    "        return newS == newS[::-1]"
   ]
  },
  {
   "cell_type": "code",
   "execution_count": 24,
   "id": "827d54ca",
   "metadata": {},
   "outputs": [
    {
     "name": "stdout",
     "output_type": "stream",
     "text": [
      "True\n",
      "False\n",
      "False\n"
     ]
    }
   ],
   "source": [
    "print(Solution().isPalindrome(\"A man, a plan, a canal: Panama\"))\n",
    "print(Solution().isPalindrome(\"race a car\"))\n",
    "print(Solution().isPalindrome(\"0P\"))"
   ]
  }
 ],
 "metadata": {
  "kernelspec": {
   "display_name": "Python 3",
   "language": "python",
   "name": "python3"
  },
  "language_info": {
   "codemirror_mode": {
    "name": "ipython",
    "version": 3
   },
   "file_extension": ".py",
   "mimetype": "text/x-python",
   "name": "python",
   "nbconvert_exporter": "python",
   "pygments_lexer": "ipython3",
   "version": "3.10.11"
  }
 },
 "nbformat": 4,
 "nbformat_minor": 5
}
