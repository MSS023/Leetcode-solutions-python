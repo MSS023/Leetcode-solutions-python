{
 "cells": [
  {
   "cell_type": "code",
   "execution_count": 1,
   "metadata": {},
   "outputs": [],
   "source": [
    "from typing import *\n",
    "\n",
    "class Solution:\n",
    "    def palindromePairs(self, words: List[str]) -> List[List[int]]:\n",
    "        backward, res = {}, []\n",
    "        for i, word in enumerate(words):\n",
    "            backward[word[::-1]] = i\n",
    "\n",
    "        for i, word in enumerate(words):\n",
    "            \n",
    "            if word in backward and backward[word] != i:\n",
    "                res.append([i, backward[word]])\n",
    "                \n",
    "            if word != \"\" and \"\" in backward and word == word[::-1]:\n",
    "                res.append([i, backward[\"\"]])\n",
    "                res.append([backward[\"\"], i])\n",
    "                \n",
    "            for j in range(len(word)):\n",
    "                if word[j:] in backward and word[:j] == word[j-1::-1]:\n",
    "                    res.append([backward[word[j:]], i])\n",
    "                if word[:j] in backward and word[j:] == word[:j-1:-1]:\n",
    "                    res.append([i, backward[word[:j]]])\n",
    "                    \n",
    "        return res        "
   ]
  },
  {
   "cell_type": "code",
   "execution_count": 2,
   "metadata": {},
   "outputs": [
    {
     "data": {
      "text/plain": [
       "[[0, 1], [1, 0], [3, 2], [2, 4]]"
      ]
     },
     "execution_count": 2,
     "metadata": {},
     "output_type": "execute_result"
    }
   ],
   "source": [
    "Solution().palindromePairs([\"abcd\",\"dcba\",\"lls\",\"s\",\"sssll\"])"
   ]
  }
 ],
 "metadata": {
  "kernelspec": {
   "display_name": "Python 3.10.6 64-bit",
   "language": "python",
   "name": "python3"
  },
  "language_info": {
   "codemirror_mode": {
    "name": "ipython",
    "version": 3
   },
   "file_extension": ".py",
   "mimetype": "text/x-python",
   "name": "python",
   "nbconvert_exporter": "python",
   "pygments_lexer": "ipython3",
   "version": "3.10.6"
  },
  "orig_nbformat": 4,
  "vscode": {
   "interpreter": {
    "hash": "f15627b29e15848638e903c52dd09ae6c4c9adb1719aae45dda3850ec7954c19"
   }
  }
 },
 "nbformat": 4,
 "nbformat_minor": 2
}
