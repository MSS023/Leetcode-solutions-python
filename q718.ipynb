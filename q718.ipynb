{
 "cells": [
  {
   "cell_type": "code",
   "execution_count": 1,
   "metadata": {},
   "outputs": [],
   "source": [
    "class Solution(object):\n",
    "    def findLength(self, A, B):\n",
    "        memo = [[0] * (len(B) + 1) for _ in range(len(A) + 1)]\n",
    "        for i in range(len(A) - 1, -1, -1):\n",
    "            for j in range(len(B) - 1, -1, -1):\n",
    "                if A[i] == B[j]:\n",
    "                    memo[i][j] = memo[i + 1][j + 1] + 1\n",
    "        return max(max(row) for row in memo)"
   ]
  }
 ],
 "metadata": {
  "kernelspec": {
   "display_name": "Python 3.10.6 64-bit",
   "language": "python",
   "name": "python3"
  },
  "language_info": {
   "codemirror_mode": {
    "name": "ipython",
    "version": 3
   },
   "file_extension": ".py",
   "mimetype": "text/x-python",
   "name": "python",
   "nbconvert_exporter": "python",
   "pygments_lexer": "ipython3",
   "version": "3.10.6"
  },
  "orig_nbformat": 4,
  "vscode": {
   "interpreter": {
    "hash": "f15627b29e15848638e903c52dd09ae6c4c9adb1719aae45dda3850ec7954c19"
   }
  }
 },
 "nbformat": 4,
 "nbformat_minor": 2
}
