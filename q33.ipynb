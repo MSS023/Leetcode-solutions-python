{
 "cells": [
  {
   "cell_type": "code",
   "execution_count": 14,
   "metadata": {},
   "outputs": [
    {
     "name": "stdout",
     "output_type": "stream",
     "text": [
      "0 6 3\n",
      "0 2 1\n",
      "0 0 0\n"
     ]
    },
    {
     "data": {
      "text/plain": [
       "4"
      ]
     },
     "execution_count": 14,
     "metadata": {},
     "output_type": "execute_result"
    }
   ],
   "source": [
    "class Solution:\n",
    "    def search(self, nums: list[int], target: int) -> int:\n",
    "        index=0\n",
    "        if nums[0]>nums[-1]:\n",
    "            index=0\n",
    "            for key in range(len(nums)-1):\n",
    "                if nums[key]>nums[key+1]:\n",
    "                    index=key+1\n",
    "            nums=nums[index:]+nums[:index]\n",
    "        l=0\n",
    "        r=len(nums)-1\n",
    "        found=None\n",
    "        while l<=r:\n",
    "            m=(l+r)//2\n",
    "            if nums[m]==target:\n",
    "                found=m\n",
    "                break\n",
    "            elif nums[m]<target:\n",
    "                l=m+1\n",
    "            else:\n",
    "                r=m-1\n",
    "        if found is not None:\n",
    "            found+=index\n",
    "            if found>=len(nums):\n",
    "                found-=len(nums)\n",
    "            return found\n",
    "        return -1\n",
    "\n",
    "sol=Solution()\n",
    "sol.search([int(x) for x in input().split()],int(input()))"
   ]
  }
 ],
 "metadata": {
  "interpreter": {
   "hash": "84c7cd761066ce45b8a789f7b09f72a3209628e136df7af6e1c369b4f2245113"
  },
  "kernelspec": {
   "display_name": "Python 3.10.2 64-bit",
   "language": "python",
   "name": "python3"
  },
  "language_info": {
   "codemirror_mode": {
    "name": "ipython",
    "version": 3
   },
   "file_extension": ".py",
   "mimetype": "text/x-python",
   "name": "python",
   "nbconvert_exporter": "python",
   "pygments_lexer": "ipython3",
   "version": "3.10.2"
  },
  "orig_nbformat": 4
 },
 "nbformat": 4,
 "nbformat_minor": 2
}
