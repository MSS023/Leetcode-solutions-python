{
 "cells": [
  {
   "cell_type": "code",
   "execution_count": 2,
   "id": "2edaf603",
   "metadata": {},
   "outputs": [],
   "source": [
    "from typing import *\n",
    "import bisect"
   ]
  },
  {
   "cell_type": "code",
   "execution_count": 53,
   "id": "09f24fec",
   "metadata": {},
   "outputs": [],
   "source": [
    "class MapValue:\n",
    "\n",
    "    def __init__(self, rating: int, food: str):\n",
    "        self.rating = rating\n",
    "        self.food = food\n",
    "\n",
    "    def __lt__(self, val):\n",
    "        return self.rating < val.rating or (self.rating == val.rating and self.food > val.food)\n",
    "    \n",
    "    def __rt__(self, val):\n",
    "        return self.rating > val.rating or (self.rating == val.rating and self.food < val.food)\n",
    "    \n",
    "    def __eq__(self, val):\n",
    "        return self.rating == val.rating and self.food == val.food\n",
    "\n",
    "class FoodRatings:\n",
    "\n",
    "    def __init__(self, foods: List[str], cuisines: List[str], ratings: List[int]):\n",
    "        self.f2c = {}\n",
    "        self.map = {}\n",
    "        for food, cuisine, rating in zip(foods, cuisines, ratings):\n",
    "            self.f2c[food] = (cuisine, rating)\n",
    "            if cuisine not in self.map:\n",
    "                self.map[cuisine] = [MapValue(rating, food)]\n",
    "                continue\n",
    "            bisect.insort_right(self.map[cuisine], MapValue(rating, food))\n",
    "\n",
    "    def changeRating(self, food: str, newRating: int) -> None:\n",
    "        cuisine, rating = self.f2c[food]\n",
    "        self.f2c[food] = (cuisine, newRating)\n",
    "        self.map[cuisine].pop(bisect.bisect_left(self.map[cuisine],MapValue(rating, food)))\n",
    "        bisect.insort_right(self.map[cuisine], MapValue(newRating, food))\n",
    "\n",
    "    def highestRated(self, cuisine: str) -> str:\n",
    "        return self.map[cuisine][-1].food\n",
    "\n",
    "\n",
    "# Your FoodRatings object will be instantiated and called as such:\n",
    "# obj = FoodRatings(foods, cuisines, ratings)\n",
    "# obj.changeRating(food,newRating)\n",
    "# param_2 = obj.highestRated(cuisine)"
   ]
  },
  {
   "cell_type": "code",
   "execution_count": 54,
   "id": "5eb5369f",
   "metadata": {},
   "outputs": [
    {
     "name": "stdout",
     "output_type": "stream",
     "text": [
      "flhs\n",
      "ee\n",
      "flhs\n"
     ]
    }
   ],
   "source": [
    "obj = FoodRatings(*[[\"cpctxzh\",\"bryvgjqmj\",\"wedqhqrmyc\",\"ee\",\"lafzximxh\",\"lojzxfel\",\"flhs\"],[\"wbhdgqphq\",\"wbhdgqphq\",\"mxxajogm\",\"wbhdgqphq\",\"wbhdgqphq\",\"mxxajogm\",\"mxxajogm\"],[15,5,7,16,16,10,13]])\n",
    "obj.changeRating(*[\"lojzxfel\",1])\n",
    "print(obj.highestRated(\"mxxajogm\"))\n",
    "print(obj.highestRated(\"wbhdgqphq\"))\n",
    "print(obj.highestRated(\"mxxajogm\"))"
   ]
  }
 ],
 "metadata": {
  "kernelspec": {
   "display_name": "Python 3",
   "language": "python",
   "name": "python3"
  },
  "language_info": {
   "codemirror_mode": {
    "name": "ipython",
    "version": 3
   },
   "file_extension": ".py",
   "mimetype": "text/x-python",
   "name": "python",
   "nbconvert_exporter": "python",
   "pygments_lexer": "ipython3",
   "version": "3.10.11"
  }
 },
 "nbformat": 4,
 "nbformat_minor": 5
}
